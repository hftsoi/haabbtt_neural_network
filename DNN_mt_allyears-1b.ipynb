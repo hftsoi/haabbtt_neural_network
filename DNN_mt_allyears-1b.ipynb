{
 "cells": [
  {
   "cell_type": "markdown",
   "metadata": {},
   "source": [
    "# Neural network for h->aa->bbtautau signal/background separation"
   ]
  },
  {
   "cell_type": "markdown",
   "metadata": {},
   "source": [
    "# Model definition and training"
   ]
  },
  {
   "cell_type": "markdown",
   "metadata": {},
   "source": [
    "## Packages"
   ]
  },
  {
   "cell_type": "code",
   "execution_count": 1,
   "metadata": {},
   "outputs": [
    {
     "name": "stdout",
     "output_type": "stream",
     "text": [
      "Welcome to JupyROOT 6.22/06\n"
     ]
    },
    {
     "name": "stderr",
     "output_type": "stream",
     "text": [
      "Using TensorFlow backend.\n"
     ]
    }
   ],
   "source": [
    "import ROOT\n",
    "import numpy as np\n",
    "import pandas as pd\n",
    "import tensorflow as tf\n",
    "import matplotlib.pyplot as plt\n",
    "from matplotlib import pyplot\n",
    "%matplotlib inline\n",
    "\n",
    "from tensorflow import keras\n",
    "from keras.models import Model\n",
    "from keras.layers import Input, Activation, Dense, Dropout\n",
    "from keras.initializers import glorot_uniform\n",
    "from keras.utils import plot_model\n",
    "\n",
    "import kerastuner\n",
    "from kerastuner import Hyperband\n",
    "\n",
    "from sklearn.model_selection import train_test_split\n",
    "from sklearn.preprocessing import StandardScaler\n",
    "from sklearn.metrics import roc_curve, auc\n",
    "\n",
    "import joblib"
   ]
  },
  {
   "cell_type": "markdown",
   "metadata": {},
   "source": [
    "## Load root files"
   ]
  },
  {
   "cell_type": "code",
   "execution_count": 2,
   "metadata": {},
   "outputs": [],
   "source": [
    "file_obs18 = ROOT.RDataFrame('mutau_tree', 'root_raw/mt18_raw/data_obs.root')\n",
    "file_sig18 = ROOT.RDataFrame('mutau_tree', {'root_raw/mt18_raw/ggH_bbtt*.root', 'root_raw/mt18_raw/vbf_bbtt*.root'})\n",
    "file_ZTT18 = ROOT.RDataFrame('mutau_tree', 'root_raw/mt18_raw/embedded.root')\n",
    "file_TT18 = ROOT.RDataFrame('mutau_tree', 'root_raw/mt18_raw/TT*.root')\n",
    "\n",
    "file_obs17 = ROOT.RDataFrame('mutau_tree', 'root_raw/mt17_raw/data_obs.root')\n",
    "file_sig17 = ROOT.RDataFrame('mutau_tree', {'root_raw/mt17_raw/ggH_bbtt*.root', 'root_raw/mt17_raw/vbf_bbtt*.root'})\n",
    "file_ZTT17 = ROOT.RDataFrame('mutau_tree', 'root_raw/mt17_raw/embedded.root')\n",
    "file_TT17 = ROOT.RDataFrame('mutau_tree', 'root_raw/mt17_raw/TT*.root')\n",
    "\n",
    "file_obs16 = ROOT.RDataFrame('mutau_tree', 'root_raw/mt16_raw/data_obs.root')\n",
    "file_sig16 = ROOT.RDataFrame('mutau_tree', {'root_raw/mt16_raw/ggH_bbtt*.root', 'root_raw/mt16_raw/vbf_bbtt*.root'})\n",
    "file_ZTT16 = ROOT.RDataFrame('mutau_tree', 'root_raw/mt16_raw/embedded.root')\n",
    "file_TT16 = ROOT.RDataFrame('mutau_tree', 'root_raw/mt16_raw/TT*.root')\n",
    "\n",
    "files18 = [file_obs18, file_sig18, file_ZTT18, file_TT18]\n",
    "files17 = [file_obs17, file_sig17, file_ZTT17, file_TT17]\n",
    "files16 = [file_obs16, file_sig16, file_ZTT16, file_TT16]"
   ]
  },
  {
   "cell_type": "code",
   "execution_count": 3,
   "metadata": {},
   "outputs": [],
   "source": [
    "# 1b events\n",
    "for i in range(len(files18)):\n",
    "    files18[i] = files18[i].Filter('bpt_deepcsv_1>20 && bscore_deepcsv_1>0.4184 && bpt_deepcsv_2<0')\n",
    "    files17[i] = files17[i].Filter('bpt_deepcsv_1>20 && bscore_deepcsv_1>0.4941 && bpt_deepcsv_2<0')\n",
    "    files16[i] = files16[i].Filter('bpt_deepcsv_1>20 && bscore_deepcsv_1>0.6321 && bpt_deepcsv_2<0')"
   ]
  },
  {
   "cell_type": "markdown",
   "metadata": {},
   "source": [
    "## Define some input features"
   ]
  },
  {
   "cell_type": "code",
   "execution_count": 4,
   "metadata": {},
   "outputs": [],
   "source": [
    "# define 4-vectors, invariant masses and etc.\n",
    "mymu = 'ROOT::Math::PtEtaPhiMVector(pt_1,eta_1,phi_1,m_1)'\n",
    "mytau = 'ROOT::Math::PtEtaPhiMVector(pt_2,eta_2,phi_2,m_2)'\n",
    "mymet = 'ROOT::Math::PtEtaPhiMVector(met,0,metphi,0)'\n",
    "mytt = 'ROOT::Math::PtEtaPhiMVector((mymu+mytau+mymet).Pt(),(mymu+mytau+mymet).Eta(),(mymu+mytau+mymet).Phi(),m_sv)'\n",
    "myb1 = 'ROOT::Math::PtEtaPhiMVector(bpt_deepcsv_1,beta_deepcsv_1,bphi_deepcsv_1,bm_deepcsv_1)'\n",
    "m_btt = '(mytt+myb1).M()'\n",
    "m_b1mu = '(mymu+myb1).M()'\n",
    "m_b1tau = '(mytau+myb1).M()'\n",
    "dR_tt = 'ROOT::Math::VectorUtil::DeltaR(mymu,mytau)'\n",
    "dR_b1mu = 'ROOT::Math::VectorUtil::DeltaR(mymu,myb1)'\n",
    "dR_b1tau = 'ROOT::Math::VectorUtil::DeltaR(mytau,myb1)'\n",
    "dR_b1tt = 'ROOT::Math::VectorUtil::DeltaR(myb1,mytt)'\n",
    "tt_pt = 'mytt.Pt()'\n",
    "tt_eta = 'mytt.Eta()'\n",
    "\n",
    "# define transverse masses mT and D_zeta\n",
    "mT_mu = 'sqrt(pow(mymu.Pt()+mymet.Pt(),2)-pow(mymu.Px()+mymet.Px(),2)-pow(mymu.Py()+mymet.Py(),2))'\n",
    "mT_tau = 'sqrt(pow(mytau.Pt()+mymet.Pt(),2)-pow(mytau.Px()+mymet.Px(),2)-pow(mytau.Py()+mymet.Py(),2))'\n",
    "mT_b1 = 'sqrt(pow(myb1.Pt()+mymet.Pt(),2)-pow(myb1.Px()+mymet.Px(),2)-pow(myb1.Py()+mymet.Py(),2))'\n",
    "norm_zeta = 'sqrt(pow(mymu.Px()/mymu.Pt()+mytau.Px()/mytau.Pt(),2)+pow(mymu.Py()/mymu.Pt()+mytau.Py()/mytau.Pt(),2))'\n",
    "x_zeta = '(mymu.Px()/mymu.Pt()+mytau.Px()/mytau.Pt())/norm_zeta'\n",
    "y_zeta = '(mymu.Py()/mymu.Pt()+mytau.Py()/mytau.Pt())/norm_zeta'\n",
    "p_zeta_mis = 'mymet.Px()*x_zeta+mymet.Py()*y_zeta'\n",
    "pzeta_vis = '(mymu.Px()+mytau.Px())*x_zeta+(mymu.Py()+mytau.Py())*y_zeta'\n",
    "Dzeta = 'p_zeta_mis-0.85*pzeta_vis'\n",
    "\n",
    "# add defined variables to dataframe\n",
    "for i in range(len(files18)):\n",
    "    files18[i] = files18[i].Define('mymu', mymu)\\\n",
    "    .Define('mytau', mytau)\\\n",
    "    .Define('mymet', mymet)\\\n",
    "    .Define('mytt', mytt)\\\n",
    "    .Define('myb1', myb1)\\\n",
    "    .Define('m_btt', m_btt)\\\n",
    "    .Define('m_b1mu', m_b1mu)\\\n",
    "    .Define('m_b1tau', m_b1tau)\\\n",
    "    .Define('dR_tt', dR_tt)\\\n",
    "    .Define('dR_b1mu', dR_b1mu)\\\n",
    "    .Define('dR_b1tau', dR_b1tau)\\\n",
    "    .Define('dR_b1tt', dR_b1tt)\\\n",
    "    .Define('tt_pt', tt_pt)\\\n",
    "    .Define('tt_eta', tt_eta)\\\n",
    "    .Define('mT_mu', mT_mu)\\\n",
    "    .Define('mT_tau', mT_tau)\\\n",
    "    .Define('mT_b1', mT_b1)\\\n",
    "    .Define('norm_zeta', norm_zeta)\\\n",
    "    .Define('x_zeta', x_zeta)\\\n",
    "    .Define('y_zeta', y_zeta)\\\n",
    "    .Define('p_zeta_mis', p_zeta_mis)\\\n",
    "    .Define('pzeta_vis', pzeta_vis)\\\n",
    "    .Define('Dzeta', Dzeta)\n",
    "    \n",
    "    files17[i] = files17[i].Define('mymu', mymu)\\\n",
    "    .Define('mytau', mytau)\\\n",
    "    .Define('mymet', mymet)\\\n",
    "    .Define('mytt', mytt)\\\n",
    "    .Define('myb1', myb1)\\\n",
    "    .Define('m_btt', m_btt)\\\n",
    "    .Define('m_b1mu', m_b1mu)\\\n",
    "    .Define('m_b1tau', m_b1tau)\\\n",
    "    .Define('dR_tt', dR_tt)\\\n",
    "    .Define('dR_b1mu', dR_b1mu)\\\n",
    "    .Define('dR_b1tau', dR_b1tau)\\\n",
    "    .Define('dR_b1tt', dR_b1tt)\\\n",
    "    .Define('tt_pt', tt_pt)\\\n",
    "    .Define('tt_eta', tt_eta)\\\n",
    "    .Define('mT_mu', mT_mu)\\\n",
    "    .Define('mT_tau', mT_tau)\\\n",
    "    .Define('mT_b1', mT_b1)\\\n",
    "    .Define('norm_zeta', norm_zeta)\\\n",
    "    .Define('x_zeta', x_zeta)\\\n",
    "    .Define('y_zeta', y_zeta)\\\n",
    "    .Define('p_zeta_mis', p_zeta_mis)\\\n",
    "    .Define('pzeta_vis', pzeta_vis)\\\n",
    "    .Define('Dzeta', Dzeta)\n",
    "    \n",
    "    files16[i] = files16[i].Define('mymu', mymu)\\\n",
    "    .Define('mytau', mytau)\\\n",
    "    .Define('mymet', mymet)\\\n",
    "    .Define('mytt', mytt)\\\n",
    "    .Define('myb1', myb1)\\\n",
    "    .Define('m_btt', m_btt)\\\n",
    "    .Define('m_b1mu', m_b1mu)\\\n",
    "    .Define('m_b1tau', m_b1tau)\\\n",
    "    .Define('dR_tt', dR_tt)\\\n",
    "    .Define('dR_b1mu', dR_b1mu)\\\n",
    "    .Define('dR_b1tau', dR_b1tau)\\\n",
    "    .Define('dR_b1tt', dR_b1tt)\\\n",
    "    .Define('tt_pt', tt_pt)\\\n",
    "    .Define('tt_eta', tt_eta)\\\n",
    "    .Define('mT_mu', mT_mu)\\\n",
    "    .Define('mT_tau', mT_tau)\\\n",
    "    .Define('mT_b1', mT_b1)\\\n",
    "    .Define('norm_zeta', norm_zeta)\\\n",
    "    .Define('x_zeta', x_zeta)\\\n",
    "    .Define('y_zeta', y_zeta)\\\n",
    "    .Define('p_zeta_mis', p_zeta_mis)\\\n",
    "    .Define('pzeta_vis', pzeta_vis)\\\n",
    "    .Define('Dzeta', Dzeta)"
   ]
  },
  {
   "cell_type": "markdown",
   "metadata": {},
   "source": [
    "## Apply baseline selection cuts"
   ]
  },
  {
   "cell_type": "code",
   "execution_count": 5,
   "metadata": {},
   "outputs": [],
   "source": [
    "######################## 2 0 1 8 ##########################\n",
    "# 2018 mu+tau trigger requirements\n",
    "trigger24OR27_18 = '((passMu24 && matchMu24_1 && filterMu24_1 && pt_1>25) or (passMu27 && matchMu27_1 && filterMu27_1 && pt_1>25))'#keep 25 not 28\n",
    "trigger2027_18 = '(passMu20Tau27 && matchMu20Tau27_1 && filterMu20Tau27_1 && matchMu20Tau27_2 && filterMu20Tau27_2 && pt_1>21 && pt_1<25 && pt_2>32 && fabs(eta_2)<2.1)'\n",
    "trigger2027HPS_18 = '(passMu20HPSTau27 && matchMu20HPSTau27_1 && filterMu20HPSTau27_1 && matchMu20HPSTau27_2 && filterMu20HPSTau27_2 && pt_1>21 && pt_1<25 && pt_2>32 && fabs(eta_2)<2.1)'\n",
    "trigger24OR27_emb_18 = '((passMu24 && matchMu24_1 && pt_1>25) or (passMu27 && matchMu27_1 && pt_1>25))'#keep 25 not 28\n",
    "trigger2027HPS_emb_18 = '(matchEmbFilter_Mu20Tau27_1 && matchEmbFilter_Mu20HPSTau27_2 && pt_1>21 && pt_1<25 && pt_2>32 && fabs(eta_2)<2.1)'\n",
    "\n",
    "trigger_mc_18 = trigger24OR27_18 + str(' or ') + trigger2027HPS_18\n",
    "trigger_obs_1_18 = trigger2027_18 + str(' or ') + trigger24OR27_18\n",
    "trigger_obs_2_18 = trigger2027HPS_18 + str(' or ') + trigger24OR27_18\n",
    "trigger_emb_18 = trigger24OR27_emb_18 + str(' or ') + trigger2027HPS_emb_18\n",
    "\n",
    "for i in range(len(files18)):\n",
    "    files18[i] = files18[i].Filter('Flag_goodVertices==0')\\\n",
    "    .Filter('Flag_globalSuperTightHalo2016Filter==0')\\\n",
    "    .Filter('Flag_HBHENoiseFilter==0')\\\n",
    "    .Filter('Flag_HBHENoiseIsoFilter==0')\\\n",
    "    .Filter('Flag_EcalDeadCellTriggerPrimitiveFilter==0')\\\n",
    "    .Filter('Flag_BadPFMuonFilter==0')\\\n",
    "    .Filter('Flag_ecalBadCalibReducedMINIAODFilter==0')\\\n",
    "    .Filter('pt_2>20')\\\n",
    "    .Filter('fabs(eta_1)<2.1 && fabs(eta_2)<2.3')\\\n",
    "    .Filter('iso_1<0.15')\\\n",
    "    .Filter('byVLooseDeepVSe_2 && byTightDeepVSmu_2')\\\n",
    "    .Filter('dR_tt>0.4')\n",
    "\n",
    "files18[0] = files18[0].Filter('Flag_eeBadScFilter==0')\n",
    "files18[2] = files18[2].Filter('Flag_eeBadScFilter==0')\n",
    "\n",
    "files18[3] = files18[3].Filter('gen_match_2!=6').Filter('(gen_match_1<3 or gen_match_1==6) && gen_match_2<3')\n",
    "\n",
    "files18[1] = files18[1].Filter('gen_match_1==4 && gen_match_2==5')#recontructed taus are gen taus\n",
    "files18[1] = files18[1].Filter('m_btt<200')#reject long tail (mostly wrongly reco b jet)\n",
    "\n",
    "files18[2] = files18[2].Filter('gen_match_2!=6').Filter('genweight<=1.0')\n",
    "\n",
    "# triggers\n",
    "obs1_18 = files18[0].Filter('run<317509').Filter(trigger_obs_1_18)\n",
    "obs2_18 = files18[0].Filter('run>=317509').Filter(trigger_obs_2_18)\n",
    "files18[1] = files18[1].Filter(trigger_mc_18)\n",
    "files18[2] = files18[2].Filter(trigger_emb_18)\n",
    "files18[3] = files18[3].Filter(trigger_mc_18)\n",
    "\n",
    "# QCD region\n",
    "qcd1_18 = obs1_18.Filter('q_1*q_2>0').Filter('byMediumDeepVSjet_2==0')\n",
    "qcd2_18 = obs2_18.Filter('q_1*q_2>0').Filter('byMediumDeepVSjet_2==0')\n",
    "\n",
    "# signal region\n",
    "for i in range(1,len(files18)):\n",
    "    files18[i] = files18[i].Filter('q_1*q_2<0')\\\n",
    "    .Filter('byMediumDeepVSjet_2')\n",
    "\n",
    "######################## 2 0 1 7 ##########################\n",
    "# 2017 mu+tau trigger requirements\n",
    "trigger24OR27_17 = '((passMu24 && matchMu24_1 && filterMu24_1 && pt_1>25) or (passMu27 && matchMu27_1 && filterMu27_1 && pt_1>25))'#keep 25 not 28\n",
    "trigger2027_17 = '(passMu20Tau27 && matchMu20Tau27_1 && filterMu20Tau27_1 && matchMu20Tau27_2 && filterMu20Tau27_2 && pt_1>21 && pt_1<25 && pt_2>32 && fabs(eta_2)<2.1)'\n",
    "trigger24OR27_emb_17 = '((passMu24 && matchMu24_1 && pt_1>25) or (passMu27 && matchMu27_1 && pt_1>25))'#keep 25 not 28\n",
    "trigger2027_emb_17 = '(matchEmbFilter_Mu20Tau27_2017_1 && matchEmbFilter_Mu20Tau27_2 && pt_1>21 && pt_1<25 && pt_2>32 && fabs(eta_2)<2.1)'\n",
    "\n",
    "trigger_mc_obs_17 = trigger24OR27_17 + str(' or ') + trigger2027_17\n",
    "trigger_emb_17 = trigger24OR27_emb_17 + str(' or ') + trigger2027_emb_17\n",
    "\n",
    "for i in range(len(files17)):\n",
    "    files17[i] = files17[i].Filter('Flag_goodVertices==0')\\\n",
    "    .Filter('Flag_globalSuperTightHalo2016Filter==0')\\\n",
    "    .Filter('Flag_HBHENoiseFilter==0')\\\n",
    "    .Filter('Flag_HBHENoiseIsoFilter==0')\\\n",
    "    .Filter('Flag_EcalDeadCellTriggerPrimitiveFilter==0')\\\n",
    "    .Filter('Flag_BadPFMuonFilter==0')\\\n",
    "    .Filter('Flag_ecalBadCalibReducedMINIAODFilter==0')\\\n",
    "    .Filter('pt_2>20')\\\n",
    "    .Filter('fabs(eta_1)<2.1 && fabs(eta_2)<2.3')\\\n",
    "    .Filter('iso_1<0.15')\\\n",
    "    .Filter('byVLooseDeepVSe_2 && byTightDeepVSmu_2')\\\n",
    "    .Filter('dR_tt>0.4')\n",
    "\n",
    "files17[0] = files17[0].Filter('Flag_eeBadScFilter==0')\n",
    "files17[2] = files17[2].Filter('Flag_eeBadScFilter==0')\n",
    "\n",
    "files17[3] = files17[3].Filter('gen_match_2!=6').Filter('(gen_match_1<3 or gen_match_1==6) && gen_match_2<3')\n",
    "\n",
    "files17[1] = files17[1].Filter('gen_match_1==4 && gen_match_2==5')#recontructed taus are gen taus\n",
    "files17[1] = files17[1].Filter('m_btt<200')#reject long tail (mostly wrongly reco b jet)\n",
    "\n",
    "files17[2] = files17[2].Filter('gen_match_2!=6').Filter('genweight<=1.0')\n",
    "\n",
    "# triggers\n",
    "files17[0] = files17[0].Filter(trigger_mc_obs_17)\n",
    "files17[1] = files17[1].Filter(trigger_mc_obs_17)\n",
    "files17[2] = files17[2].Filter(trigger_emb_17)\n",
    "files17[3] = files17[3].Filter(trigger_mc_obs_17)\n",
    "\n",
    "# QCD region\n",
    "qcd_17 = files17[0].Filter('q_1*q_2>0').Filter('byMediumDeepVSjet_2==0')\n",
    "\n",
    "# signal region\n",
    "for i in range(1,len(files17)):\n",
    "    files17[i] = files17[i].Filter('q_1*q_2<0')\\\n",
    "    .Filter('byMediumDeepVSjet_2')\n",
    "\n",
    "######################## 2 0 1 6 ##########################\n",
    "# 2016 mu+tau trigger requirements\n",
    "trigger22_16 = '((passMu22eta2p1 && matchMu22eta2p1_1 && filterMu22eta2p1_1 && pt_1>23) or (passTkMu22eta2p1 && matchTkMu22eta2p1_1 && filterTkMu22eta2p1_1 && pt_1>23) or (passMu22 && matchMu22_1 && filterMu22_1 && pt_1>23) or (passTkMu22 && matchTkMu22_1 && filterTkMu22_1 && pt_1>23))'\n",
    "trigger1920_16 = '((passMu19Tau20 && matchMu19Tau20_1 && matchMu19Tau20_2 && filterMu19Tau20_1 && filterMu19Tau20_2 && pt_1>20 && pt_1<23 && pt_2>25 && fabs(eta_2)<2.1) or (passMu19Tau20SingleL1 && matchMu19Tau20SingleL1_1 && matchMu19Tau20SingleL1_2 && filterMu19Tau20SingleL1_1 && filterMu19Tau20SingleL1_2 && pt_1>20 && pt_1<23 && pt_2>25 && fabs(eta_2)<2.1))'\n",
    "\n",
    "trigger_all_16 = trigger22_16 + str(' or ') + trigger1920_16\n",
    "\n",
    "for i in range(len(files16)):\n",
    "    files16[i] = files16[i].Filter('Flag_goodVertices==0')\\\n",
    "    .Filter('Flag_globalSuperTightHalo2016Filter==0')\\\n",
    "    .Filter('Flag_HBHENoiseFilter==0')\\\n",
    "    .Filter('Flag_HBHENoiseIsoFilter==0')\\\n",
    "    .Filter('Flag_EcalDeadCellTriggerPrimitiveFilter==0')\\\n",
    "    .Filter('Flag_BadPFMuonFilter==0')\\\n",
    "    .Filter('pt_2>20')\\\n",
    "    .Filter('fabs(eta_1)<2.1 && fabs(eta_2)<2.3')\\\n",
    "    .Filter('iso_1<0.15')\\\n",
    "    .Filter('byVLooseDeepVSe_2 && byTightDeepVSmu_2')\\\n",
    "    .Filter('dR_tt>0.4')\n",
    "\n",
    "files16[0] = files16[0].Filter('Flag_eeBadScFilter==0')\n",
    "files16[2] = files16[2].Filter('Flag_eeBadScFilter==0')\n",
    "\n",
    "files16[3] = files16[3].Filter('gen_match_2!=6').Filter('(gen_match_1<3 or gen_match_1==6) && gen_match_2<3')\n",
    "\n",
    "files16[1] = files16[1].Filter('gen_match_1==4 && gen_match_2==5')#recontructed taus are gen taus\n",
    "files16[1] = files16[1].Filter('m_btt<200')#reject long tail (mostly wrongly reco b jet)\n",
    "\n",
    "files16[2] = files16[2].Filter('gen_match_2!=6').Filter('genweight<=1.0')\n",
    "\n",
    "# triggers\n",
    "files16[0] = files16[0].Filter(trigger_all_16)\n",
    "files16[1] = files16[1].Filter(trigger_all_16)\n",
    "files16[2] = files16[2].Filter(trigger_all_16)\n",
    "files16[3] = files16[3].Filter(trigger_all_16)\n",
    "\n",
    "# QCD region\n",
    "qcd_16 = files16[0].Filter('q_1*q_2>0').Filter('byMediumDeepVSjet_2==0')\n",
    "\n",
    "# signal region\n",
    "for i in range(1,len(files16)):\n",
    "    files16[i] = files16[i].Filter('q_1*q_2<0')\\\n",
    "    .Filter('byMediumDeepVSjet_2')\n",
    "\n",
    "# [0]=obs, [1]=sig, [2]=embedded, [3]=ttbar"
   ]
  },
  {
   "cell_type": "markdown",
   "metadata": {},
   "source": [
    "## Select all input features and save into pandas DataFrame"
   ]
  },
  {
   "cell_type": "code",
   "execution_count": 6,
   "metadata": {
    "scrolled": true
   },
   "outputs": [
    {
     "name": "stdout",
     "output_type": "stream",
     "text": [
      "sig18.shape  : (17561, 16)\n",
      "ZTT18.shape  : (158696, 16)\n",
      "TT18.shape   : (11813, 16)\n",
      "qcd18_1.shape: (61945, 16)\n",
      "qcd18_2.shape: (141933, 16)\n",
      "\n",
      "sig17.shape  : (16929, 16)\n",
      "ZTT17.shape  : (91481, 16)\n",
      "TT17.shape   : (1471, 16)\n",
      "qcd17.shape  : (123221, 16)\n",
      "\n",
      "sig16.shape  : (23453, 16)\n",
      "ZTT16.shape  : (73915, 16)\n",
      "TT16.shape   : (1047, 16)\n",
      "qcd16.shape  : (89263, 16)\n",
      "\n",
      "sig_allyears.shape: (57943, 17)\n",
      "ZTT_allyears.shape: (324092, 17)\n",
      "TT_allyears.shape : (14331, 17)\n",
      "qcd_allyears.shape: (416362, 17)\n"
     ]
    }
   ],
   "source": [
    "# list of feature variables\n",
    "###### for 1b events\n",
    "feature_list = ['pt_1', 'm_btt', 'm_b1mu', 'm_b1tau',\\\n",
    "                'dR_tt', 'dR_b1mu', 'dR_b1tau', 'dR_b1tt',\\\n",
    "                'tt_pt', 'tt_eta', 'mT_mu', 'mT_tau', 'mT_b1', 'Dzeta',\\\n",
    "                'bpt_deepcsv_1', 'njets']\n",
    "\n",
    "# convert root RDataFrame into pandas DataFrame, saving only the features as columns\n",
    "for i in range(1,len(files18)):\n",
    "    files18[i] = pd.DataFrame(files18[i].AsNumpy(feature_list))\n",
    "    files17[i] = pd.DataFrame(files17[i].AsNumpy(feature_list))\n",
    "    files16[i] = pd.DataFrame(files16[i].AsNumpy(feature_list))\n",
    "qcd1_18 = pd.DataFrame(qcd1_18.AsNumpy(feature_list))\n",
    "qcd2_18 = pd.DataFrame(qcd2_18.AsNumpy(feature_list))\n",
    "qcd_17 = pd.DataFrame(qcd_17.AsNumpy(feature_list))\n",
    "qcd_16 = pd.DataFrame(qcd_16.AsNumpy(feature_list))\n",
    "\n",
    "print('sig18.shape  : ' + str(files18[1].shape))\n",
    "print('ZTT18.shape  : ' + str(files18[2].shape))\n",
    "print('TT18.shape   : ' + str(files18[3].shape))\n",
    "print('qcd18_1.shape: ' + str(qcd1_18.shape))\n",
    "print('qcd18_2.shape: ' + str(qcd2_18.shape))\n",
    "print('\\nsig17.shape  : ' + str(files17[1].shape))\n",
    "print('ZTT17.shape  : ' + str(files17[2].shape))\n",
    "print('TT17.shape   : ' + str(files17[3].shape))\n",
    "print('qcd17.shape  : ' + str(qcd_17.shape))\n",
    "print('\\nsig16.shape  : ' + str(files16[1].shape))\n",
    "print('ZTT16.shape  : ' + str(files16[2].shape))\n",
    "print('TT16.shape   : ' + str(files16[3].shape))\n",
    "print('qcd16.shape  : ' + str(qcd_16.shape))\n",
    "\n",
    "sig_allyears = [files18[1], files17[1], files16[1]]\n",
    "ZTT_allyears = [files18[2], files17[2], files16[2]]\n",
    "TT_allyears = [files18[3], files17[3], files16[3]]\n",
    "qcd_allyears = [qcd1_18, qcd2_18, qcd_17, qcd_16]\n",
    "\n",
    "sig_allyears = pd.concat(sig_allyears)\n",
    "ZTT_allyears = pd.concat(ZTT_allyears)\n",
    "TT_allyears = pd.concat(TT_allyears)\n",
    "qcd_allyears = pd.concat(qcd_allyears)\n",
    "\n",
    "# tag MC signal events as class 1\n",
    "sig_allyears['label'] = np.ones((sig_allyears.shape[0], 1))\n",
    "\n",
    "# tag MC background events as class 0\n",
    "ZTT_allyears['label'] = np.zeros((ZTT_allyears.shape[0], 1))\n",
    "TT_allyears['label'] = np.zeros((TT_allyears.shape[0],1))\n",
    "qcd_allyears['label'] = np.zeros((qcd_allyears.shape[0], 1))\n",
    "\n",
    "print('\\nsig_allyears.shape: ' + str(sig_allyears.shape))\n",
    "print('ZTT_allyears.shape: ' + str(ZTT_allyears.shape))\n",
    "print('TT_allyears.shape : ' + str(TT_allyears.shape))\n",
    "print('qcd_allyears.shape: ' + str(qcd_allyears.shape))"
   ]
  },
  {
   "cell_type": "markdown",
   "metadata": {},
   "source": [
    "## Split into MC/data"
   ]
  },
  {
   "cell_type": "code",
   "execution_count": 7,
   "metadata": {
    "scrolled": true
   },
   "outputs": [
    {
     "name": "stdout",
     "output_type": "stream",
     "text": [
      "\n",
      "MC dataframe: \n",
      "              pt_1       m_btt      m_b1mu     m_b1tau     dR_tt   dR_b1mu  \\\n",
      "0        27.640627  105.860710   86.127964   88.114555  0.402234  2.820982   \n",
      "1        29.985403   86.127265   82.287163   67.355697  0.402287  3.155046   \n",
      "2        28.194452   88.469771   75.350343   65.025970  0.426936  2.842973   \n",
      "3        26.203440  170.696067   74.096257   70.580542  0.418958  2.979965   \n",
      "4        25.275053   70.564612   57.562529   64.946026  0.404176  3.026494   \n",
      "...            ...         ...         ...         ...       ...       ...   \n",
      "107682  120.088005  658.512092  263.470385  328.113916  3.094226  3.026713   \n",
      "28547    54.696835   88.601118   94.398499   62.840983  0.854694  3.062224   \n",
      "34446    38.588085  213.784170  127.391958   92.229180  1.655266  2.778983   \n",
      "84362    70.530388  351.890780  236.502652  109.658532  2.122919  3.335880   \n",
      "75331    34.609818  234.426355   93.606251  124.823618  2.926085  3.089512   \n",
      "\n",
      "        dR_b1tau   dR_b1tt       tt_pt    tt_eta       mT_mu     mT_tau  \\\n",
      "0       2.896597  3.252603   32.337583 -0.921400   52.643758  50.560811   \n",
      "1       2.853111  2.834012   33.731721  1.093358   49.752505  44.304208   \n",
      "2       3.017470  2.393333   41.371857 -1.060312   46.241026  44.327039   \n",
      "3       3.062066  3.132087  139.463929  0.263611   13.094676  10.883615   \n",
      "4       3.102022  2.188743   39.561665  2.383367   70.571175  75.455724   \n",
      "...          ...       ...         ...       ...         ...        ...   \n",
      "107682  3.843242  3.314396  165.915313  0.452410   81.339952  22.009611   \n",
      "28547   2.383757  2.950558   21.801641  1.675933  109.184816  73.344226   \n",
      "34446   2.563868  3.072129   79.618782 -1.065365   10.986331  17.808326   \n",
      "84362   2.102528  2.649044  139.563369  0.198759   95.765775  96.232255   \n",
      "75331   2.830935  3.970091   65.023172 -2.014077   36.668218  93.571076   \n",
      "\n",
      "             mT_b1       Dzeta  bpt_deepcsv_1  njets  label  \n",
      "0        35.148668  -68.481921      63.337090      1    1.0  \n",
      "1        24.760217  -62.794890      50.338108      1    1.0  \n",
      "2        33.508712  -55.490057      50.207066      1    1.0  \n",
      "3       136.394178   49.039913      50.297581      3    1.0  \n",
      "4        34.924735  -88.118617      31.263018      1    1.0  \n",
      "...            ...         ...            ...    ...    ...  \n",
      "107682  153.301754  -32.837121     124.929817      3    0.0  \n",
      "28547     4.322994 -116.844617      39.767788      2    0.0  \n",
      "34446   102.421246  -17.219678      96.526054      3    0.0  \n",
      "84362   193.583812  -89.226901     136.365448      2    0.0  \n",
      "75331    79.774269   41.319714      25.665279      1    0.0  \n",
      "\n",
      "[115886 rows x 17 columns]\n"
     ]
    }
   ],
   "source": [
    "# reduce class 0 sample size for balanced training\n",
    "ZTT_allyears = ZTT_allyears.sample(n = 18612, random_state = 20)#32.1%\n",
    "TT_allyears = TT_allyears.sample(n = 14331, random_state = 20)#24.7%\n",
    "qcd_allyears = qcd_allyears.sample(n = 25000, random_state = 20)#43.1%\n",
    "\n",
    "# collect all MC as one dataframe, separated from another datafream for observed data\n",
    "df_bkg = [ZTT_allyears, TT_allyears, qcd_allyears]\n",
    "df_bkg = pd.concat(df_bkg)\n",
    "\n",
    "df_MC = [sig_allyears, ZTT_allyears, TT_allyears, qcd_allyears]\n",
    "df_MC = pd.concat(df_MC)\n",
    "\n",
    "#print('\\nObserved dataframe: \\n' + str(df_obs))\n",
    "print('\\nMC dataframe: \\n' + str(df_MC))"
   ]
  },
  {
   "cell_type": "markdown",
   "metadata": {},
   "source": [
    "## Compare input feature distributions between sig and bkg"
   ]
  },
  {
   "cell_type": "code",
   "execution_count": 8,
   "metadata": {
    "scrolled": true
   },
   "outputs": [
    {
     "data": {
      "image/png": "[encoded data removed]",
      "text/plain": [
       "<Figure size 432x288 with 1 Axes>"
      ]
     },
     "metadata": {
      "needs_background": "light"
     },
     "output_type": "display_data"
    },
    {
     "data": {
      "image/png": "[encoded data removed]",
      "text/plain": [
       "<Figure size 432x288 with 1 Axes>"
      ]
     },
     "metadata": {
      "needs_background": "light"
     },
     "output_type": "display_data"
    },
    {
     "data": {
      "image/png": "[encoded data removed]",
      "text/plain": [
       "<Figure size 432x288 with 1 Axes>"
      ]
     },
     "metadata": {
      "needs_background": "light"
     },
     "output_type": "display_data"
    },
    {
     "data": {
      "image/png": "[encoded data removed]",
      "text/plain": [
       "<Figure size 432x288 with 1 Axes>"
      ]
     },
     "metadata": {
      "needs_background": "light"
     },
     "output_type": "display_data"
    },
    {
     "data": {
      "image/png": "[encoded data removed]",
      "text/plain": [
       "<Figure size 432x288 with 1 Axes>"
      ]
     },
     "metadata": {
      "needs_background": "light"
     },
     "output_type": "display_data"
    },
    {
     "data": {
      "image/png": "[encoded data removed]",
      "text/plain": [
       "<Figure size 432x288 with 1 Axes>"
      ]
     },
     "metadata": {
      "needs_background": "light"
     },
     "output_type": "display_data"
    },
    {
     "data": {
      "image/png": "[encoded data removed]",
      "text/plain": [
       "<Figure size 432x288 with 1 Axes>"
      ]
     },
     "metadata": {
      "needs_background": "light"
     },
     "output_type": "display_data"
    },
    {
     "data": {
      "image/png": "[encoded data removed]",
      "text/plain": [
       "<Figure size 432x288 with 1 Axes>"
      ]
     },
     "metadata": {
      "needs_background": "light"
     },
     "output_type": "display_data"
    },
    {
     "data": {
      "image/png": "[encoded data removed]",
      "text/plain": [
       "<Figure size 432x288 with 1 Axes>"
      ]
     },
     "metadata": {
      "needs_background": "light"
     },
     "output_type": "display_data"
    },
    {
     "data": {
      "image/png": "[encoded data removed]",
      "text/plain": [
       "<Figure size 432x288 with 1 Axes>"
      ]
     },
     "metadata": {
      "needs_background": "light"
     },
     "output_type": "display_data"
    },
    {
     "data": {
      "image/png": "[encoded data removed]",
      "text/plain": [
       "<Figure size 432x288 with 1 Axes>"
      ]
     },
     "metadata": {
      "needs_background": "light"
     },
     "output_type": "display_data"
    },
    {
     "data": {
      "image/png": "[encoded data removed]",
      "text/plain": [
       "<Figure size 432x288 with 1 Axes>"
      ]
     },
     "metadata": {
      "needs_background": "light"
     },
     "output_type": "display_data"
    },
    {
     "data": {
      "image/png": "[encoded data removed]",
      "text/plain": [
       "<Figure size 432x288 with 1 Axes>"
      ]
     },
     "metadata": {
      "needs_background": "light"
     },
     "output_type": "display_data"
    },
    {
     "data": {
      "image/png": "[encoded data removed]",
      "text/plain": [
       "<Figure size 432x288 with 1 Axes>"
      ]
     },
     "metadata": {
      "needs_background": "light"
     },
     "output_type": "display_data"
    },
    {
     "data": {
      "image/png": "[encoded data removed]",
      "text/plain": [
       "<Figure size 432x288 with 1 Axes>"
      ]
     },
     "metadata": {
      "needs_background": "light"
     },
     "output_type": "display_data"
    },
    {
     "data": {
      "image/png": "[encoded data removed]",
      "text/plain": [
       "<Figure size 432x288 with 1 Axes>"
      ]
     },
     "metadata": {
      "needs_background": "light"
     },
     "output_type": "display_data"
    }
   ],
   "source": [
    "pyplot.hist(sig_allyears['pt_1'], density = 1, range = (0,120), bins = 50, alpha = 0.3, label = 'h->aa->bb$\\\\tau\\\\tau$')\n",
    "pyplot.hist(df_bkg['pt_1'], density = 1, range = (0,120), bins = 50, alpha = 0.3, label = 'bkg (ZTT, ttbar, QCD)')\n",
    "#pyplot.hist(ZTT_allyears['pt_1'], density = 1, range = (0,120), bins = 50, alpha = 1.0, label = 'ZTT', histtype = 'step')\n",
    "#pyplot.hist(TT_allyears['pt_1'], density = 1, range = (0,120), bins = 50, alpha = 1.0, label = 'ttbar', histtype = 'step')\n",
    "#pyplot.hist(qcd_allyears['pt_1'], density = 1, range = (0,120), bins = 50, alpha = 1.0, label = 'QCD', histtype = 'step')\n",
    "pyplot.legend(loc = 'upper right')\n",
    "pyplot.xlabel('$\\mu$ pt (GeV)')\n",
    "pyplot.show()\n",
    "\n",
    "pyplot.hist(sig_allyears['m_btt'], density = 1, range = (30,450), bins = 50, alpha = 0.3, label = 'h->aa->bb$\\\\tau\\\\tau$')\n",
    "pyplot.hist(df_bkg['m_btt'], density = 1, range = (30,450), bins = 50, alpha = 0.3, label = 'bkg (ZTT, ttbar, QCD)')\n",
    "#pyplot.hist(ZTT_allyears['m_btt'], density = 1, range = (30,450), bins = 50, alpha = 1.0, label = 'ZTT', histtype = 'step')\n",
    "#pyplot.hist(TT_allyears['m_btt'], density = 1, range = (30,450), bins = 50, alpha = 1.0, label = 'ttbar', histtype = 'step')\n",
    "#pyplot.hist(qcd_allyears['m_btt'], density = 1, range = (30,450), bins = 50, alpha = 1.0, label = 'QCD', histtype = 'step')\n",
    "pyplot.legend(loc = 'upper right')\n",
    "pyplot.xlabel('m_b$\\\\tau\\\\tau$ (GeV)')\n",
    "pyplot.show()\n",
    "\n",
    "pyplot.hist(sig_allyears['m_b1mu'], density = 1, range = (0,200), bins = 50, alpha = 0.3, label = 'h->aa->bb$\\\\tau\\\\tau$')\n",
    "pyplot.hist(df_bkg['m_b1mu'], density = 1, range = (0,200), bins = 50, alpha = 0.3, label = 'bkg (ZTT, ttbar, QCD)')\n",
    "#pyplot.hist(ZTT_allyears['m_b1mu'], density = 1, range = (0,200), bins = 50, alpha = 1.0, label = 'ZTT', histtype = 'step')\n",
    "#pyplot.hist(TT_allyears['m_b1mu'], density = 1, range = (0,200), bins = 50, alpha = 1.0, label = 'ttbar', histtype = 'step')\n",
    "#pyplot.hist(qcd_allyears['m_b1mu'], density = 1, range = (0,200), bins = 50, alpha = 1.0, label = 'QCD', histtype = 'step')\n",
    "pyplot.legend(loc = 'upper right')\n",
    "pyplot.xlabel('m_b$_1$$\\mu$ (GeV)')\n",
    "pyplot.show()\n",
    "\n",
    "pyplot.hist(sig_allyears['m_b1tau'], density = 1, range = (0,200), bins = 50, alpha = 0.3, label = 'h->aa->bb$\\\\tau\\\\tau$')\n",
    "pyplot.hist(df_bkg['m_b1tau'], density = 1, range = (0,200), bins = 50, alpha = 0.3, label = 'bkg (ZTT, ttbar, QCD)')\n",
    "#pyplot.hist(ZTT_allyears['m_b1tau'], density = 1, range = (0,200), bins = 50, alpha = 1.0, label = 'ZTT', histtype = 'step')\n",
    "#pyplot.hist(TT_allyears['m_b1tau'], density = 1, range = (0,200), bins = 50, alpha = 1.0, label = 'ttbar', histtype = 'step')\n",
    "#pyplot.hist(qcd_allyears['m_b1tau'], density = 1, range = (0,200), bins = 50, alpha = 1.0, label = 'QCD', histtype = 'step')\n",
    "pyplot.legend(loc = 'upper right')\n",
    "pyplot.xlabel('m_b$_1$$\\\\tau_h$ (GeV)')\n",
    "pyplot.show()\n",
    "\n",
    "pyplot.hist(sig_allyears['dR_tt'], density = 1, range = (0,5), bins = 50, alpha = 0.3, label = 'h->aa->bb$\\\\tau\\\\tau$')\n",
    "pyplot.hist(df_bkg['dR_tt'], density = 1, range = (0,5), bins = 50, alpha = 0.3, label = 'bkg (ZTT, ttbar, QCD)')\n",
    "#pyplot.hist(ZTT_allyears['dR_tt'], density = 1, range = (0,5), bins = 50, alpha = 1.0, label = 'ZTT', histtype = 'step')\n",
    "#pyplot.hist(TT_allyears['dR_tt'], density = 1, range = (0,5), bins = 50, alpha = 1.0, label = 'ttbar', histtype = 'step')\n",
    "#pyplot.hist(qcd_allyears['dR_tt'], density = 1, range = (0,5), bins = 50, alpha = 1.0, label = 'QCD', histtype = 'step')\n",
    "pyplot.legend(loc = 'upper right')\n",
    "pyplot.xlabel('dR($\\mu$,$\\\\tau_h$)')\n",
    "pyplot.show()\n",
    "\n",
    "pyplot.hist(sig_allyears['dR_b1mu'], density = 1, range = (0,5), bins = 50, alpha = 0.3, label = 'h->aa->bb$\\\\tau\\\\tau$')\n",
    "pyplot.hist(df_bkg['dR_b1mu'], density = 1, range = (0,5), bins = 50, alpha = 0.3, label = 'bkg (ZTT, ttbar, QCD)')\n",
    "#pyplot.hist(ZTT_allyears['dR_b1mu'], density = 1, range = (0,5), bins = 50, alpha = 1.0, label = 'ZTT', histtype = 'step')\n",
    "#pyplot.hist(TT_allyears['dR_b1mu'], density = 1, range = (0,5), bins = 50, alpha = 1.0, label = 'ttbar', histtype = 'step')\n",
    "#pyplot.hist(qcd_allyears['dR_b1mu'], density = 1, range = (0,5), bins = 50, alpha = 1.0, label = 'QCD', histtype = 'step')\n",
    "pyplot.legend(loc = 'upper right')\n",
    "pyplot.xlabel('dR(b$_1$,$\\mu$)')\n",
    "pyplot.show()\n",
    "\n",
    "pyplot.hist(sig_allyears['dR_b1tau'], density = 1, range = (0,5), bins = 50, alpha = 0.3, label = 'h->aa->bb$\\\\tau\\\\tau$')\n",
    "pyplot.hist(df_bkg['dR_b1tau'], density = 1, range = (0,5), bins = 50, alpha = 0.3, label = 'bkg (ZTT, ttbar, QCD)')\n",
    "#pyplot.hist(ZTT_allyears['dR_b1tau'], density = 1, range = (0,5), bins = 50, alpha = 1.0, label = 'ZTT', histtype = 'step')\n",
    "#pyplot.hist(TT_allyears['dR_b1tau'], density = 1, range = (0,5), bins = 50, alpha = 1.0, label = 'ttbar', histtype = 'step')\n",
    "#pyplot.hist(qcd_allyears['dR_b1tau'], density = 1, range = (0,5), bins = 50, alpha = 1.0, label = 'QCD', histtype = 'step')\n",
    "pyplot.legend(loc = 'upper right')\n",
    "pyplot.xlabel('dR(b$_1$,$\\\\tau_h$)')\n",
    "pyplot.show()\n",
    "\n",
    "pyplot.hist(sig_allyears['dR_b1tt'], density = 1, range = (0,5), bins = 50, alpha = 0.3, label = 'h->aa->bb$\\\\tau\\\\tau$')\n",
    "pyplot.hist(df_bkg['dR_b1tt'], density = 1, range = (0,5), bins = 50, alpha = 0.3, label = 'bkg (ZTT, ttbar, QCD)')\n",
    "#pyplot.hist(ZTT_allyears['dR_b1tt'], density = 1, range = (0,5), bins = 50, alpha = 1.0, label = 'ZTT', histtype = 'step')\n",
    "#pyplot.hist(TT_allyears['dR_b1tt'], density = 1, range = (0,5), bins = 50, alpha = 1.0, label = 'ttbar', histtype = 'step')\n",
    "#pyplot.hist(qcd_allyears['dR_b1tt'], density = 1, range = (0,5), bins = 50, alpha = 1.0, label = 'QCD', histtype = 'step')\n",
    "pyplot.legend(loc = 'upper right')\n",
    "pyplot.xlabel('dR(b$_1$,$\\\\tau\\\\tau$)')\n",
    "pyplot.show()\n",
    "\n",
    "pyplot.hist(sig_allyears['tt_pt'], density = 1, range = (0,250), bins = 50, alpha = 0.3, label = 'h->aa->bb$\\\\tau\\\\tau$')\n",
    "pyplot.hist(df_bkg['tt_pt'], density = 1, range = (0,250), bins = 50, alpha = 0.3, label = 'bkg (ZTT, ttbar, QCD)')\n",
    "#pyplot.hist(ZTT_allyears['tt_pt'], density = 1, range = (0,250), bins = 50, alpha = 1.0, label = 'ZTT', histtype = 'step')\n",
    "#pyplot.hist(TT_allyears['tt_pt'], density = 1, range = (0,250), bins = 50, alpha = 1.0, label = 'ttbar', histtype = 'step')\n",
    "#pyplot.hist(qcd_allyears['tt_pt'], density = 1, range = (0,250), bins = 50, alpha = 1.0, label = 'QCD', histtype = 'step')\n",
    "pyplot.legend(loc = 'upper right')\n",
    "pyplot.xlabel('$\\\\tau\\\\tau$ pt (GeV)')\n",
    "pyplot.show()\n",
    "\n",
    "pyplot.hist(sig_allyears['tt_eta'], density = 1, range = (-2.4,2.4), bins = 50, alpha = 0.3, label = 'h->aa->bb$\\\\tau\\\\tau$')\n",
    "pyplot.hist(df_bkg['tt_eta'], density = 1, range = (-2.4,2.4), bins = 50, alpha = 0.3, label = 'bkg (ZTT, ttbar, QCD)')\n",
    "#pyplot.hist(ZTT_allyears['tt_eta'], density = 1, range = (-2.4,2.4), bins = 50, alpha = 1.0, label = 'ZTT', histtype = 'step')\n",
    "#pyplot.hist(TT_allyears['tt_eta'], density = 1, range = (-2.4,2.4), bins = 50, alpha = 1.0, label = 'ttbar', histtype = 'step')\n",
    "#pyplot.hist(qcd_allyears['tt_eta'], density = 1, range = (-2.4,2.4), bins = 50, alpha = 1.0, label = 'QCD', histtype = 'step')\n",
    "pyplot.legend(loc = 'upper right')\n",
    "pyplot.xlabel('$\\\\tau\\\\tau$ $\\eta$')\n",
    "pyplot.show()\n",
    "\n",
    "pyplot.hist(sig_allyears['mT_mu'], density = 1, range = (0,250), bins = 50, alpha = 0.3, label = 'h->aa->bb$\\\\tau\\\\tau$')\n",
    "pyplot.hist(df_bkg['mT_mu'], density = 1, range = (0,250), bins = 50, alpha = 0.3, label = 'bkg (ZTT, ttbar, QCD)')\n",
    "#pyplot.hist(ZTT_allyears['mT_mu'], density = 1, range = (0,250), bins = 50, alpha = 1.0, label = 'ZTT', histtype = 'step')\n",
    "#pyplot.hist(TT_allyears['mT_mu'], density = 1, range = (0,250), bins = 50, alpha = 1.0, label = 'ttbar', histtype = 'step')\n",
    "#pyplot.hist(qcd_allyears['mT_mu'], density = 1, range = (0,250), bins = 50, alpha = 1.0, label = 'QCD', histtype = 'step')\n",
    "pyplot.legend(loc = 'upper right')\n",
    "pyplot.xlabel('mT($\\mu$,met) (GeV)')\n",
    "pyplot.show()\n",
    "\n",
    "pyplot.hist(sig_allyears['mT_tau'], density = 1, range = (0,250), bins = 50, alpha = 0.3, label = 'h->aa->bb$\\\\tau\\\\tau$')\n",
    "pyplot.hist(df_bkg['mT_tau'], density = 1, range = (0,250), bins = 50, alpha = 0.3, label = 'bkg (ZTT, ttbar, QCD)')\n",
    "#pyplot.hist(ZTT_allyears['mT_tau'], density = 1, range = (0,250), bins = 50, alpha = 1.0, label = 'ZTT', histtype = 'step')\n",
    "#pyplot.hist(TT_allyears['mT_tau'], density = 1, range = (0,250), bins = 50, alpha = 1.0, label = 'ttbar', histtype = 'step')\n",
    "#pyplot.hist(qcd_allyears['mT_tau'], density = 1, range = (0,250), bins = 50, alpha = 1.0, label = 'QCD', histtype = 'step')\n",
    "pyplot.legend(loc = 'upper right')\n",
    "pyplot.xlabel('mT($\\\\tau_h$,met) (GeV)')\n",
    "pyplot.show()\n",
    "\n",
    "pyplot.hist(sig_allyears['mT_b1'], density = 1, range = (0,250), bins = 50, alpha = 0.3, label = 'h->aa->bb$\\\\tau\\\\tau$')\n",
    "pyplot.hist(df_bkg['mT_b1'], density = 1, range = (0,250), bins = 50, alpha = 0.3, label = 'bkg (ZTT, ttbar, QCD)')\n",
    "#pyplot.hist(ZTT_allyears['mT_b1'], density = 1, range = (0,250), bins = 50, alpha = 1.0, label = 'ZTT', histtype = 'step')\n",
    "#pyplot.hist(TT_allyears['mT_b1'], density = 1, range = (0,250), bins = 50, alpha = 1.0, label = 'ttbar', histtype = 'step')\n",
    "#pyplot.hist(qcd_allyears['mT_b1'], density = 1, range = (0,250), bins = 50, alpha = 1.0, label = 'QCD', histtype = 'step')\n",
    "pyplot.legend(loc = 'upper right')\n",
    "pyplot.xlabel('mT(b$_1$,met) (GeV)')\n",
    "pyplot.show()\n",
    "\n",
    "pyplot.hist(sig_allyears['Dzeta'], density = 1, range = (-200,120), bins = 50, alpha = 0.3, label = 'h->aa->bb$\\\\tau\\\\tau$')\n",
    "pyplot.hist(df_bkg['Dzeta'], density = 1, range = (-200,120), bins = 50, alpha = 0.3, label = 'bkg (ZTT, ttbar, QCD)')\n",
    "#pyplot.hist(ZTT_allyears['Dzeta'], density = 1, range = (-200,120), bins = 50, alpha = 1.0, label = 'ZTT', histtype = 'step')\n",
    "#pyplot.hist(TT_allyears['Dzeta'], density = 1, range = (-200,120), bins = 50, alpha = 1.0, label = 'ttbar', histtype = 'step')\n",
    "#pyplot.hist(qcd_allyears['Dzeta'], density = 1, range = (-200,120), bins = 50, alpha = 1.0, label = 'QCD', histtype = 'step')\n",
    "pyplot.legend(loc = 'upper right')\n",
    "pyplot.xlabel('$D_\\zeta$ (GeV)')\n",
    "pyplot.show()\n",
    "\n",
    "pyplot.hist(sig_allyears['bpt_deepcsv_1'], density = 1, range = (10,130), bins = 50, alpha = 0.3, label = 'h->aa->bbtautau')\n",
    "pyplot.hist(df_bkg['bpt_deepcsv_1'], density = 1, range = (10,130), bins = 50, alpha = 0.3, label = 'bkg (ZTT, ttbar, QCD)')\n",
    "#pyplot.hist(ZTT_allyears['bpt_deepcsv_1'], density = 1, range = (10,130), bins = 50, alpha = 1.0, label = 'ZTT', histtype = 'step')\n",
    "#pyplot.hist(TT_allyears['bpt_deepcsv_1'], density = 1, range = (10,130), bins = 50, alpha = 1.0, label = 'ttbar', histtype = 'step')\n",
    "#pyplot.hist(qcd_allyears['bpt_deepcsv_1'], density = 1, range = (10,130), bins = 50, alpha = 1.0, label = 'QCD', histtype = 'step')\n",
    "pyplot.legend(loc = 'upper right')\n",
    "pyplot.xlabel('Leading b jet pt (GeV)')\n",
    "pyplot.show()\n",
    "\n",
    "pyplot.hist(sig_allyears['njets'], density = 1, range = (0,8), bins = 8, alpha = 0.3, label = 'h->aa->bbtautau')\n",
    "pyplot.hist(df_bkg['njets'], density = 1, range = (0,8), bins = 8, alpha = 0.3, label = 'bkg (ZTT, ttbar, QCD)')\n",
    "#pyplot.hist(ZTT_allyears['njets'], density = 1, range = (0,8), bins = 8, alpha = 1.0, label = 'ZTT', histtype = 'step')\n",
    "#pyplot.hist(TT_allyears['njets'], density = 1, range = (0,8), bins = 8, alpha = 1.0, label = 'ttbar', histtype = 'step')\n",
    "#pyplot.hist(qcd_allyears['njets'], density = 1, range = (0,8), bins = 8, alpha = 1.0, label = 'QCD', histtype = 'step')\n",
    "pyplot.legend(loc = 'upper right')\n",
    "pyplot.xlabel('njets')\n",
    "pyplot.show()"
   ]
  },
  {
   "cell_type": "markdown",
   "metadata": {},
   "source": [
    "## Input data pre-processing"
   ]
  },
  {
   "cell_type": "code",
   "execution_count": 9,
   "metadata": {},
   "outputs": [
    {
     "name": "stdout",
     "output_type": "stream",
     "text": [
      "\n",
      "Partition the data set into train/val/test: 0.60/0.20/0.20\n",
      "X_train.shape: (69531, 16)\n",
      "Y_train.shape: (69531, 1)\n",
      "X_val.shape: (23177, 16)\n",
      "Y_val.shape: (23177, 1)\n",
      "X_test.shape: (23178, 16)\n",
      "Y_test.shape: (23178, 1)\n",
      "\n",
      "Total number of sig/bkg examples: 57943/57943 (50.00%/50.00%)\n",
      "\n",
      "Number of sig/bkg examples in each set:\n",
      "train : 34732/34799 (50.0%/50.0%)\n",
      "val   : 11655/11522 (50.3%/49.7%)\n",
      "test  : 11556/11622 (49.9%/50.1%)\n"
     ]
    }
   ],
   "source": [
    "# convert to numpy arrays\n",
    "dataset = df_MC.values\n",
    "X = dataset[:,0:(dataset.shape[1]-1)]\n",
    "Y = dataset[:,dataset.shape[1]-1]\n",
    "Y = Y.reshape(Y.shape[0],1)\n",
    "\n",
    "#dataset_obs = df_obs.values\n",
    "#X_obs = dataset_obs[:,0:(dataset_obs.shape[1])]\n",
    "\n",
    "# give train/val/test partition ratios\n",
    "train_ratio = 0.6\n",
    "val_ratio = 0.2\n",
    "test_ratio = 1 - train_ratio - val_ratio\n",
    "\n",
    "# randomly partition data set into train/val/test sets with given ratios\n",
    "X_train_val, X_test, Y_train_val, Y_test = train_test_split(X, Y, test_size = test_ratio, random_state=15)\n",
    "X_train, X_val, Y_train, Y_val = train_test_split(X_train_val, Y_train_val, test_size = val_ratio/(val_ratio+train_ratio), random_state=15)\n",
    "\n",
    "# standardize feature variables\n",
    "# only based on means and stds in train_val set, should apply this only scaler to all other sets\n",
    "# think of the transformation in phase space\n",
    "scaler = StandardScaler().fit(X_train_val)\n",
    "X_train_val = scaler.transform(X_train_val)\n",
    "X_train = scaler.transform(X_train)\n",
    "X_val = scaler.transform(X_val)\n",
    "X_test = scaler.transform(X_test)\n",
    "#X_obs = scaler.transform(X_obs)\n",
    "\n",
    "# print input data shapes\n",
    "print(\"\\nPartition the data set into train/val/test: %.2f/%.2f/%.2f\" % (train_ratio, val_ratio, test_ratio))\n",
    "print(\"X_train.shape: \" + str(X_train.shape))\n",
    "print(\"Y_train.shape: \" + str(Y_train.shape))\n",
    "print(\"X_val.shape: \" + str(X_val.shape))\n",
    "print(\"Y_val.shape: \" + str(Y_val.shape))\n",
    "print(\"X_test.shape: \" + str(X_test.shape))\n",
    "print(\"Y_test.shape: \" + str(Y_test.shape))\n",
    "#print(\"\\nX_obs.shape: \" + str(X_obs.shape))\n",
    "\n",
    "# print ratio of signal/background examples in each set\n",
    "train_sig = np.count_nonzero(Y_train)\n",
    "train_bkg = np.count_nonzero(Y_train == 0)\n",
    "train_sig_perc = 100*train_sig/(train_sig+train_bkg)\n",
    "train_bkg_perc = 100*train_bkg/(train_sig+train_bkg)\n",
    "val_sig = np.count_nonzero(Y_val)\n",
    "val_bkg = np.count_nonzero(Y_val == 0)\n",
    "val_sig_perc = 100*val_sig/(val_sig+val_bkg)\n",
    "val_bkg_perc = 100*val_bkg/(val_sig+val_bkg)\n",
    "test_sig = np.count_nonzero(Y_test)\n",
    "test_bkg = np.count_nonzero(Y_test == 0)\n",
    "test_sig_perc = 100*test_sig/(test_sig+test_bkg)\n",
    "test_bkg_perc = 100*test_bkg/(test_sig+test_bkg)\n",
    "\n",
    "total_sig = train_sig + val_sig + test_sig\n",
    "total_bkg = train_bkg + val_bkg + test_bkg\n",
    "total_sig_perc = 100*total_sig/(total_sig+total_bkg)\n",
    "total_bkg_perc = 100*total_bkg/(total_sig+total_bkg)\n",
    "print(\"\\nTotal number of sig/bkg examples: %d/%d (%.2f%%/%.2f%%)\" % (total_sig, total_bkg, total_sig_perc, total_bkg_perc))\n",
    "\n",
    "print(\"\\nNumber of sig/bkg examples in each set:\")\n",
    "print(\"train : %d/%d (%.1f%%/%.1f%%)\" % (train_sig, train_bkg, train_sig_perc, train_bkg_perc))\n",
    "print(\"val   : %d/%d (%.1f%%/%.1f%%)\" % (val_sig, val_bkg, val_sig_perc, val_bkg_perc))\n",
    "print(\"test  : %d/%d (%.1f%%/%.1f%%)\" % (test_sig, test_bkg, test_sig_perc, test_bkg_perc))"
   ]
  },
  {
   "cell_type": "markdown",
   "metadata": {},
   "source": [
    "## DNN Hyperparameters searching"
   ]
  },
  {
   "cell_type": "code",
   "execution_count": 10,
   "metadata": {},
   "outputs": [],
   "source": [
    "# define model for the search\n",
    "def hypermodel(hp):\n",
    "    hp_model = keras.Sequential()\n",
    "    hp_model.add(keras.layers.Input(shape = (X.shape[1],)))\n",
    "    \n",
    "    hp_model.add(keras.layers.Dense(units = hp.Int('units_1',\n",
    "                                                   min_value = 20,\n",
    "                                                   max_value = 60,\n",
    "                                                   step = 2),\n",
    "                                    activation = 'relu',\n",
    "                                    kernel_initializer = glorot_uniform(seed=1)))\n",
    "    \n",
    "    hp_model.add(keras.layers.Dropout(rate = hp.Float('rate_1',\n",
    "                                                      min_value = 0.2,\n",
    "                                                      max_value = 0.5,\n",
    "                                                      default = 0.2,\n",
    "                                                      step = 0.1),\n",
    "                                      seed = 10))\n",
    "    \n",
    "    hp_model.add(keras.layers.Dense(units = hp.Int('units_2',\n",
    "                                                   min_value = 20,\n",
    "                                                   max_value = 60,\n",
    "                                                   step = 2),\n",
    "                                    activation = 'relu',\n",
    "                                    kernel_initializer = glorot_uniform(seed=1)))\n",
    "    \n",
    "    hp_model.add(keras.layers.Dropout(rate = hp.Float('rate_2',\n",
    "                                                      min_value = 0.2,\n",
    "                                                      max_value = 0.5,\n",
    "                                                      default = 0.2,\n",
    "                                                      step = 0.1),\n",
    "                                      seed = 10))\n",
    "\n",
    "    hp_model.add(keras.layers.Dense(units = 1, activation = 'sigmoid', kernel_initializer = glorot_uniform(seed=1)))\n",
    "    hp_model.compile(optimizer = 'adam', loss = 'binary_crossentropy', metrics = ['accuracy'])\n",
    "    return hp_model"
   ]
  },
  {
   "cell_type": "code",
   "execution_count": 11,
   "metadata": {},
   "outputs": [
    {
     "name": "stderr",
     "output_type": "stream",
     "text": [
      "2021-02-27 18:58:43.843016: I tensorflow/core/platform/cpu_feature_guard.cc:145] This TensorFlow binary is optimized with Intel(R) MKL-DNN to use the following CPU instructions in performance critical operations:  SSE4.1 SSE4.2\n",
      "To enable them in non-MKL-DNN operations, rebuild TensorFlow with the appropriate compiler flags.\n",
      "2021-02-27 18:58:43.843336: I tensorflow/core/common_runtime/process_util.cc:115] Creating new thread pool with default inter op setting: 8. Tune using inter_op_parallelism_threads for best performance.\n"
     ]
    }
   ],
   "source": [
    "# define tuner model\n",
    "tuner = Hyperband(hypermodel,\n",
    "                  objective = 'val_accuracy',\n",
    "                  max_epochs = 20,\n",
    "                  factor = 3, #number of models to train in a bracket = 1+log_factor(max_epochs)\n",
    "                  hyperband_iterations = 1, #number of times to iterate over the full Hyperband algorithm\n",
    "                  seed = 10,\n",
    "                  directory = 'hypertuning',\n",
    "                  project_name = 'tune',\n",
    "                  overwrite = True)"
   ]
  },
  {
   "cell_type": "code",
   "execution_count": 12,
   "metadata": {
    "scrolled": true
   },
   "outputs": [
    {
     "name": "stdout",
     "output_type": "stream",
     "text": [
      "Train on 69531 samples, validate on 23177 samples\n",
      "Epoch 1/3\n",
      "69531/69531 [==============================] - ETA: 3:05 - loss: 0.7084 - accuracy: 0.50 - ETA: 21s - loss: 0.6659 - accuracy: 0.5851 - ETA: 11s - loss: 0.6172 - accuracy: 0.651 - ETA: 8s - loss: 0.5769 - accuracy: 0.700 - ETA: 6s - loss: 0.5393 - accuracy: 0.73 - ETA: 5s - loss: 0.5004 - accuracy: 0.76 - ETA: 4s - loss: 0.4723 - accuracy: 0.78 - ETA: 3s - loss: 0.4456 - accuracy: 0.80 - ETA: 3s - loss: 0.4241 - accuracy: 0.81 - ETA: 3s - loss: 0.4016 - accuracy: 0.82 - ETA: 2s - loss: 0.3849 - accuracy: 0.83 - ETA: 2s - loss: 0.3695 - accuracy: 0.84 - ETA: 2s - loss: 0.3550 - accuracy: 0.84 - ETA: 2s - loss: 0.3417 - accuracy: 0.85 - ETA: 1s - loss: 0.3313 - accuracy: 0.86 - ETA: 1s - loss: 0.3207 - accuracy: 0.86 - ETA: 1s - loss: 0.3121 - accuracy: 0.87 - ETA: 1s - loss: 0.3034 - accuracy: 0.87 - ETA: 1s - loss: 0.2953 - accuracy: 0.87 - ETA: 1s - loss: 0.2889 - accuracy: 0.88 - ETA: 1s - loss: 0.2819 - accuracy: 0.88 - ETA: 1s - loss: 0.2764 - accuracy: 0.88 - ETA: 0s - loss: 0.2715 - accuracy: 0.89 - ETA: 0s - loss: 0.2664 - accuracy: 0.89 - ETA: 0s - loss: 0.2615 - accuracy: 0.89 - ETA: 0s - loss: 0.2585 - accuracy: 0.89 - ETA: 0s - loss: 0.2549 - accuracy: 0.89 - ETA: 0s - loss: 0.2510 - accuracy: 0.89 - ETA: 0s - loss: 0.2472 - accuracy: 0.90 - ETA: 0s - loss: 0.2431 - accuracy: 0.90 - ETA: 0s - loss: 0.2399 - accuracy: 0.90 - ETA: 0s - loss: 0.2370 - accuracy: 0.90 - ETA: 0s - loss: 0.2339 - accuracy: 0.90 - 3s 39us/sample - loss: 0.2322 - accuracy: 0.9086 - val_loss: 0.1264 - val_accuracy: 0.9529\n",
      "Epoch 2/3\n",
      "69531/69531 [==============================] - ETA: 1s - loss: 0.1627 - accuracy: 0.94 - ETA: 1s - loss: 0.1443 - accuracy: 0.94 - ETA: 1s - loss: 0.1510 - accuracy: 0.94 - ETA: 1s - loss: 0.1413 - accuracy: 0.94 - ETA: 1s - loss: 0.1403 - accuracy: 0.94 - ETA: 1s - loss: 0.1387 - accuracy: 0.95 - ETA: 1s - loss: 0.1359 - accuracy: 0.95 - ETA: 1s - loss: 0.1368 - accuracy: 0.95 - ETA: 1s - loss: 0.1398 - accuracy: 0.95 - ETA: 1s - loss: 0.1390 - accuracy: 0.95 - ETA: 1s - loss: 0.1381 - accuracy: 0.95 - ETA: 1s - loss: 0.1388 - accuracy: 0.95 - ETA: 1s - loss: 0.1397 - accuracy: 0.95 - ETA: 1s - loss: 0.1394 - accuracy: 0.95 - ETA: 0s - loss: 0.1395 - accuracy: 0.95 - ETA: 0s - loss: 0.1398 - accuracy: 0.95 - ETA: 0s - loss: 0.1403 - accuracy: 0.94 - ETA: 0s - loss: 0.1400 - accuracy: 0.94 - ETA: 0s - loss: 0.1403 - accuracy: 0.94 - ETA: 0s - loss: 0.1402 - accuracy: 0.94 - ETA: 0s - loss: 0.1411 - accuracy: 0.94 - ETA: 0s - loss: 0.1408 - accuracy: 0.94 - ETA: 0s - loss: 0.1410 - accuracy: 0.94 - ETA: 0s - loss: 0.1409 - accuracy: 0.94 - ETA: 0s - loss: 0.1409 - accuracy: 0.94 - ETA: 0s - loss: 0.1404 - accuracy: 0.94 - ETA: 0s - loss: 0.1396 - accuracy: 0.95 - ETA: 0s - loss: 0.1391 - accuracy: 0.95 - ETA: 0s - loss: 0.1389 - accuracy: 0.95 - ETA: 0s - loss: 0.1390 - accuracy: 0.95 - ETA: 0s - loss: 0.1391 - accuracy: 0.95 - ETA: 0s - loss: 0.1389 - accuracy: 0.95 - 2s 27us/sample - loss: 0.1385 - accuracy: 0.9507 - val_loss: 0.1204 - val_accuracy: 0.9550\n",
      "Epoch 3/3\n",
      "69531/69531 [==============================] - ETA: 1s - loss: 0.1329 - accuracy: 0.95 - ETA: 1s - loss: 0.1233 - accuracy: 0.95 - ETA: 1s - loss: 0.1225 - accuracy: 0.95 - ETA: 1s - loss: 0.1305 - accuracy: 0.95 - ETA: 1s - loss: 0.1304 - accuracy: 0.95 - ETA: 1s - loss: 0.1312 - accuracy: 0.95 - ETA: 1s - loss: 0.1302 - accuracy: 0.95 - ETA: 1s - loss: 0.1312 - accuracy: 0.95 - ETA: 1s - loss: 0.1331 - accuracy: 0.95 - ETA: 1s - loss: 0.1313 - accuracy: 0.95 - ETA: 1s - loss: 0.1314 - accuracy: 0.95 - ETA: 1s - loss: 0.1303 - accuracy: 0.95 - ETA: 1s - loss: 0.1316 - accuracy: 0.95 - ETA: 0s - loss: 0.1298 - accuracy: 0.95 - ETA: 0s - loss: 0.1301 - accuracy: 0.95 - ETA: 0s - loss: 0.1290 - accuracy: 0.95 - ETA: 0s - loss: 0.1297 - accuracy: 0.95 - ETA: 0s - loss: 0.1305 - accuracy: 0.95 - ETA: 0s - loss: 0.1294 - accuracy: 0.95 - ETA: 0s - loss: 0.1296 - accuracy: 0.95 - ETA: 0s - loss: 0.1289 - accuracy: 0.95 - ETA: 0s - loss: 0.1287 - accuracy: 0.95 - ETA: 0s - loss: 0.1296 - accuracy: 0.95 - ETA: 0s - loss: 0.1296 - accuracy: 0.95 - ETA: 0s - loss: 0.1303 - accuracy: 0.95 - ETA: 0s - loss: 0.1300 - accuracy: 0.95 - ETA: 0s - loss: 0.1296 - accuracy: 0.95 - ETA: 0s - loss: 0.1296 - accuracy: 0.95 - ETA: 0s - loss: 0.1291 - accuracy: 0.95 - ETA: 0s - loss: 0.1289 - accuracy: 0.95 - ETA: 0s - loss: 0.1285 - accuracy: 0.95 - ETA: 0s - loss: 0.1285 - accuracy: 0.95 - ETA: 0s - loss: 0.1290 - accuracy: 0.95 - 2s 27us/sample - loss: 0.1290 - accuracy: 0.9545 - val_loss: 0.1173 - val_accuracy: 0.9562\n"
     ]
    },
    {
     "data": {
      "text/html": [
       "<span style=\"color:#4527A0\"><h1 style=\"font-size:18px\">Trial complete</h1></span>"
      ],
      "text/plain": [
       "<IPython.core.display.HTML object>"
      ]
     },
     "metadata": {},
     "output_type": "display_data"
    },
    {
     "data": {
      "text/html": [
       "<span style=\"color:#4527A0\"><h1 style=\"font-size:18px\">Trial summary</h1></span>"
      ],
      "text/plain": [
       "<IPython.core.display.HTML object>"
      ]
     },
     "metadata": {},
     "output_type": "display_data"
    },
    {
     "data": {
      "text/html": [
       "<span style=\"color:cyan\"> |-Trial ID: 1ec66649763fda402427c4c9730a7634</span>"
      ],
      "text/plain": [
       "<IPython.core.display.HTML object>"
      ]
     },
     "metadata": {},
     "output_type": "display_data"
    },
    {
     "data": {
      "text/html": [
       "<span style=\"color:cyan\"> |-Score: 0.9562065601348877</span>"
      ],
      "text/plain": [
       "<IPython.core.display.HTML object>"
      ]
     },
     "metadata": {},
     "output_type": "display_data"
    },
    {
     "data": {
      "text/html": [
       "<span style=\"color:cyan\"> |-Best step: 0</span>"
      ],
      "text/plain": [
       "<IPython.core.display.HTML object>"
      ]
     },
     "metadata": {},
     "output_type": "display_data"
    },
    {
     "data": {
      "text/html": [
       "<span style=\"color:#7E57C2\"><h2 style=\"font-size:16px\">Hyperparameters:</h2></span>"
      ],
      "text/plain": [
       "<IPython.core.display.HTML object>"
      ]
     },
     "metadata": {},
     "output_type": "display_data"
    },
    {
     "data": {
      "text/html": [
       "<span style=\"color:cyan\"> |-rate_1: 0.30000000000000004</span>"
      ],
      "text/plain": [
       "<IPython.core.display.HTML object>"
      ]
     },
     "metadata": {},
     "output_type": "display_data"
    },
    {
     "data": {
      "text/html": [
       "<span style=\"color:blue\"> |-rate_2: 0.30000000000000004</span>"
      ],
      "text/plain": [
       "<IPython.core.display.HTML object>"
      ]
     },
     "metadata": {},
     "output_type": "display_data"
    },
    {
     "data": {
      "text/html": [
       "<span style=\"color:cyan\"> |-tuner/bracket: 2</span>"
      ],
      "text/plain": [
       "<IPython.core.display.HTML object>"
      ]
     },
     "metadata": {},
     "output_type": "display_data"
    },
    {
     "data": {
      "text/html": [
       "<span style=\"color:blue\"> |-tuner/epochs: 3</span>"
      ],
      "text/plain": [
       "<IPython.core.display.HTML object>"
      ]
     },
     "metadata": {},
     "output_type": "display_data"
    },
    {
     "data": {
      "text/html": [
       "<span style=\"color:cyan\"> |-tuner/initial_epoch: 0</span>"
      ],
      "text/plain": [
       "<IPython.core.display.HTML object>"
      ]
     },
     "metadata": {},
     "output_type": "display_data"
    },
    {
     "data": {
      "text/html": [
       "<span style=\"color:blue\"> |-tuner/round: 0</span>"
      ],
      "text/plain": [
       "<IPython.core.display.HTML object>"
      ]
     },
     "metadata": {},
     "output_type": "display_data"
    },
    {
     "data": {
      "text/html": [
       "<span style=\"color:cyan\"> |-units_1: 42</span>"
      ],
      "text/plain": [
       "<IPython.core.display.HTML object>"
      ]
     },
     "metadata": {},
     "output_type": "display_data"
    },
    {
     "data": {
      "text/html": [
       "<span style=\"color:blue\"> |-units_2: 38</span>"
      ],
      "text/plain": [
       "<IPython.core.display.HTML object>"
      ]
     },
     "metadata": {},
     "output_type": "display_data"
    },
    {
     "name": "stdout",
     "output_type": "stream",
     "text": [
      "WARNING:tensorflow:Large dropout rate: 0.5 (>0.5). In TensorFlow 2.x, dropout() uses dropout rate instead of keep_prob. Please ensure that this is intended.\n",
      "Train on 69531 samples, validate on 23177 samples\n",
      "Epoch 1/3\n",
      "WARNING:tensorflow:Large dropout rate: 0.5 (>0.5). In TensorFlow 2.x, dropout() uses dropout rate instead of keep_prob. Please ensure that this is intended.\n",
      "WARNING:tensorflow:Large dropout rate: 0.5 (>0.5). In TensorFlow 2.x, dropout() uses dropout rate instead of keep_prob. Please ensure that this is intended.\n",
      "69531/69531 [==============================] - ETA: 2:17 - loss: 0.6660 - accuracy: 0.57 - ETA: 14s - loss: 0.6362 - accuracy: 0.6137 - ETA: 8s - loss: 0.6194 - accuracy: 0.635 - ETA: 5s - loss: 0.5978 - accuracy: 0.66 - ETA: 4s - loss: 0.5795 - accuracy: 0.68 - ETA: 3s - loss: 0.5580 - accuracy: 0.70 - ETA: 3s - loss: 0.5399 - accuracy: 0.72 - ETA: 2s - loss: 0.5244 - accuracy: 0.73 - ETA: 2s - loss: 0.5043 - accuracy: 0.75 - ETA: 2s - loss: 0.4873 - accuracy: 0.76 - ETA: 2s - loss: 0.4699 - accuracy: 0.77 - ETA: 2s - loss: 0.4640 - accuracy: 0.77 - ETA: 1s - loss: 0.4475 - accuracy: 0.79 - ETA: 1s - loss: 0.4342 - accuracy: 0.79 - ETA: 1s - loss: 0.4211 - accuracy: 0.80 - ETA: 1s - loss: 0.4103 - accuracy: 0.81 - ETA: 1s - loss: 0.4000 - accuracy: 0.81 - ETA: 1s - loss: 0.3881 - accuracy: 0.82 - ETA: 1s - loss: 0.3786 - accuracy: 0.83 - ETA: 0s - loss: 0.3697 - accuracy: 0.83 - ETA: 0s - loss: 0.3621 - accuracy: 0.84 - ETA: 0s - loss: 0.3540 - accuracy: 0.84 - ETA: 0s - loss: 0.3462 - accuracy: 0.84 - ETA: 0s - loss: 0.3386 - accuracy: 0.85 - ETA: 0s - loss: 0.3329 - accuracy: 0.85 - ETA: 0s - loss: 0.3277 - accuracy: 0.86 - ETA: 0s - loss: 0.3219 - accuracy: 0.86 - ETA: 0s - loss: 0.3166 - accuracy: 0.86 - ETA: 0s - loss: 0.3114 - accuracy: 0.86 - ETA: 0s - loss: 0.3073 - accuracy: 0.87 - ETA: 0s - loss: 0.3027 - accuracy: 0.87 - 2s 35us/sample - loss: 0.3009 - accuracy: 0.8744 - val_loss: 0.1364 - val_accuracy: 0.9498\n",
      "Epoch 2/3\n",
      "69531/69531 [==============================] - ETA: 1s - loss: 0.1965 - accuracy: 0.91 - ETA: 1s - loss: 0.1784 - accuracy: 0.93 - ETA: 1s - loss: 0.1776 - accuracy: 0.93 - ETA: 1s - loss: 0.1812 - accuracy: 0.93 - ETA: 1s - loss: 0.1764 - accuracy: 0.94 - ETA: 1s - loss: 0.1770 - accuracy: 0.94 - ETA: 1s - loss: 0.1748 - accuracy: 0.94 - ETA: 1s - loss: 0.1728 - accuracy: 0.94 - ETA: 1s - loss: 0.1719 - accuracy: 0.94 - ETA: 1s - loss: 0.1704 - accuracy: 0.94 - ETA: 1s - loss: 0.1700 - accuracy: 0.94 - ETA: 0s - loss: 0.1712 - accuracy: 0.94 - ETA: 0s - loss: 0.1696 - accuracy: 0.94 - ETA: 0s - loss: 0.1682 - accuracy: 0.94 - ETA: 0s - loss: 0.1682 - accuracy: 0.94 - ETA: 0s - loss: 0.1673 - accuracy: 0.94 - ETA: 0s - loss: 0.1669 - accuracy: 0.94 - ETA: 0s - loss: 0.1663 - accuracy: 0.94 - ETA: 0s - loss: 0.1660 - accuracy: 0.94 - ETA: 0s - loss: 0.1652 - accuracy: 0.94 - ETA: 0s - loss: 0.1649 - accuracy: 0.94 - ETA: 0s - loss: 0.1649 - accuracy: 0.94 - ETA: 0s - loss: 0.1646 - accuracy: 0.94 - ETA: 0s - loss: 0.1645 - accuracy: 0.94 - ETA: 0s - loss: 0.1647 - accuracy: 0.94 - ETA: 0s - loss: 0.1642 - accuracy: 0.94 - ETA: 0s - loss: 0.1642 - accuracy: 0.94 - ETA: 0s - loss: 0.1643 - accuracy: 0.94 - ETA: 0s - loss: 0.1636 - accuracy: 0.94 - ETA: 0s - loss: 0.1631 - accuracy: 0.94 - 2s 25us/sample - loss: 0.1631 - accuracy: 0.9446 - val_loss: 0.1257 - val_accuracy: 0.9538\n",
      "Epoch 3/3\n",
      "69531/69531 [==============================] - ETA: 1s - loss: 0.1199 - accuracy: 0.95 - ETA: 1s - loss: 0.1457 - accuracy: 0.94 - ETA: 1s - loss: 0.1537 - accuracy: 0.94 - ETA: 1s - loss: 0.1575 - accuracy: 0.94 - ETA: 1s - loss: 0.1579 - accuracy: 0.94 - ETA: 1s - loss: 0.1567 - accuracy: 0.94 - ETA: 1s - loss: 0.1530 - accuracy: 0.94 - ETA: 1s - loss: 0.1530 - accuracy: 0.94 - ETA: 1s - loss: 0.1542 - accuracy: 0.94 - ETA: 1s - loss: 0.1552 - accuracy: 0.94 - ETA: 0s - loss: 0.1546 - accuracy: 0.94 - ETA: 0s - loss: 0.1537 - accuracy: 0.94 - ETA: 0s - loss: 0.1540 - accuracy: 0.94 - ETA: 0s - loss: 0.1529 - accuracy: 0.94 - ETA: 0s - loss: 0.1528 - accuracy: 0.94 - ETA: 0s - loss: 0.1525 - accuracy: 0.94 - ETA: 0s - loss: 0.1527 - accuracy: 0.94 - ETA: 0s - loss: 0.1529 - accuracy: 0.94 - ETA: 0s - loss: 0.1524 - accuracy: 0.94 - ETA: 0s - loss: 0.1514 - accuracy: 0.94 - ETA: 0s - loss: 0.1511 - accuracy: 0.94 - ETA: 0s - loss: 0.1504 - accuracy: 0.94 - ETA: 0s - loss: 0.1504 - accuracy: 0.94 - ETA: 0s - loss: 0.1507 - accuracy: 0.94 - ETA: 0s - loss: 0.1504 - accuracy: 0.94 - ETA: 0s - loss: 0.1501 - accuracy: 0.94 - ETA: 0s - loss: 0.1498 - accuracy: 0.94 - ETA: 0s - loss: 0.1497 - accuracy: 0.94 - ETA: 0s - loss: 0.1491 - accuracy: 0.94 - ETA: 0s - loss: 0.1490 - accuracy: 0.94 - ETA: 0s - loss: 0.1488 - accuracy: 0.94 - 2s 26us/sample - loss: 0.1486 - accuracy: 0.9496 - val_loss: 0.1229 - val_accuracy: 0.9553\n"
     ]
    },
    {
     "data": {
      "text/html": [
       "<span style=\"color:#4527A0\"><h1 style=\"font-size:18px\">Trial complete</h1></span>"
      ],
      "text/plain": [
       "<IPython.core.display.HTML object>"
      ]
     },
     "metadata": {},
     "output_type": "display_data"
    },
    {
     "data": {
      "text/html": [
       "<span style=\"color:#4527A0\"><h1 style=\"font-size:18px\">Trial summary</h1></span>"
      ],
      "text/plain": [
       "<IPython.core.display.HTML object>"
      ]
     },
     "metadata": {},
     "output_type": "display_data"
    },
    {
     "data": {
      "text/html": [
       "<span style=\"color:cyan\"> |-Trial ID: 14f1bfc595cacc45819f313d05d79039</span>"
      ],
      "text/plain": [
       "<IPython.core.display.HTML object>"
      ]
     },
     "metadata": {},
     "output_type": "display_data"
    },
    {
     "data": {
      "text/html": [
       "<span style=\"color:cyan\"> |-Score: 0.9553436636924744</span>"
      ],
      "text/plain": [
       "<IPython.core.display.HTML object>"
      ]
     },
     "metadata": {},
     "output_type": "display_data"
    },
    {
     "data": {
      "text/html": [
       "<span style=\"color:cyan\"> |-Best step: 0</span>"
      ],
      "text/plain": [
       "<IPython.core.display.HTML object>"
      ]
     },
     "metadata": {},
     "output_type": "display_data"
    },
    {
     "data": {
      "text/html": [
       "<span style=\"color:#7E57C2\"><h2 style=\"font-size:16px\">Hyperparameters:</h2></span>"
      ],
      "text/plain": [
       "<IPython.core.display.HTML object>"
      ]
     },
     "metadata": {},
     "output_type": "display_data"
    },
    {
     "data": {
      "text/html": [
       "<span style=\"color:cyan\"> |-rate_1: 0.5000000000000001</span>"
      ],
      "text/plain": [
       "<IPython.core.display.HTML object>"
      ]
     },
     "metadata": {},
     "output_type": "display_data"
    },
    {
     "data": {
      "text/html": [
       "<span style=\"color:blue\"> |-rate_2: 0.4000000000000001</span>"
      ],
      "text/plain": [
       "<IPython.core.display.HTML object>"
      ]
     },
     "metadata": {},
     "output_type": "display_data"
    },
    {
     "data": {
      "text/html": [
       "<span style=\"color:cyan\"> |-tuner/bracket: 2</span>"
      ],
      "text/plain": [
       "<IPython.core.display.HTML object>"
      ]
     },
     "metadata": {},
     "output_type": "display_data"
    },
    {
     "data": {
      "text/html": [
       "<span style=\"color:blue\"> |-tuner/epochs: 3</span>"
      ],
      "text/plain": [
       "<IPython.core.display.HTML object>"
      ]
     },
     "metadata": {},
     "output_type": "display_data"
    },
    {
     "data": {
      "text/html": [
       "<span style=\"color:cyan\"> |-tuner/initial_epoch: 0</span>"
      ],
      "text/plain": [
       "<IPython.core.display.HTML object>"
      ]
     },
     "metadata": {},
     "output_type": "display_data"
    },
    {
     "data": {
      "text/html": [
       "<span style=\"color:blue\"> |-tuner/round: 0</span>"
      ],
      "text/plain": [
       "<IPython.core.display.HTML object>"
      ]
     },
     "metadata": {},
     "output_type": "display_data"
    },
    {
     "data": {
      "text/html": [
       "<span style=\"color:cyan\"> |-units_1: 24</span>"
      ],
      "text/plain": [
       "<IPython.core.display.HTML object>"
      ]
     },
     "metadata": {},
     "output_type": "display_data"
    },
    {
     "data": {
      "text/html": [
       "<span style=\"color:blue\"> |-units_2: 34</span>"
      ],
      "text/plain": [
       "<IPython.core.display.HTML object>"
      ]
     },
     "metadata": {},
     "output_type": "display_data"
    },
    {
     "name": "stdout",
     "output_type": "stream",
     "text": [
      "Train on 69531 samples, validate on 23177 samples\n",
      "Epoch 1/3\n",
      "69531/69531 [==============================] - ETA: 2:21 - loss: 0.7910 - accuracy: 0.38 - ETA: 16s - loss: 0.7036 - accuracy: 0.4714 - ETA: 9s - loss: 0.6647 - accuracy: 0.525 - ETA: 6s - loss: 0.6294 - accuracy: 0.58 - ETA: 5s - loss: 0.5970 - accuracy: 0.63 - ETA: 4s - loss: 0.5669 - accuracy: 0.67 - ETA: 3s - loss: 0.5421 - accuracy: 0.69 - ETA: 3s - loss: 0.5204 - accuracy: 0.72 - ETA: 3s - loss: 0.5009 - accuracy: 0.73 - ETA: 2s - loss: 0.4809 - accuracy: 0.75 - ETA: 2s - loss: 0.4630 - accuracy: 0.76 - ETA: 2s - loss: 0.4451 - accuracy: 0.77 - ETA: 2s - loss: 0.4314 - accuracy: 0.78 - ETA: 2s - loss: 0.4176 - accuracy: 0.79 - ETA: 1s - loss: 0.4036 - accuracy: 0.80 - ETA: 1s - loss: 0.3920 - accuracy: 0.81 - ETA: 1s - loss: 0.3827 - accuracy: 0.81 - ETA: 1s - loss: 0.3720 - accuracy: 0.82 - ETA: 1s - loss: 0.3643 - accuracy: 0.82 - ETA: 1s - loss: 0.3554 - accuracy: 0.83 - ETA: 1s - loss: 0.3460 - accuracy: 0.83 - ETA: 1s - loss: 0.3392 - accuracy: 0.84 - ETA: 1s - loss: 0.3323 - accuracy: 0.84 - ETA: 0s - loss: 0.3254 - accuracy: 0.85 - ETA: 0s - loss: 0.3191 - accuracy: 0.85 - ETA: 0s - loss: 0.3135 - accuracy: 0.85 - ETA: 0s - loss: 0.3078 - accuracy: 0.86 - ETA: 0s - loss: 0.3038 - accuracy: 0.86 - ETA: 0s - loss: 0.2986 - accuracy: 0.86 - ETA: 0s - loss: 0.2938 - accuracy: 0.86 - ETA: 0s - loss: 0.2893 - accuracy: 0.87 - ETA: 0s - loss: 0.2852 - accuracy: 0.87 - ETA: 0s - loss: 0.2814 - accuracy: 0.87 - ETA: 0s - loss: 0.2779 - accuracy: 0.87 - ETA: 0s - loss: 0.2745 - accuracy: 0.88 - ETA: 0s - loss: 0.2713 - accuracy: 0.88 - 3s 39us/sample - loss: 0.2708 - accuracy: 0.8819 - val_loss: 0.1334 - val_accuracy: 0.9515\n",
      "Epoch 2/3\n",
      "69531/69531 [==============================] - ETA: 2s - loss: 0.1456 - accuracy: 0.94 - ETA: 1s - loss: 0.1546 - accuracy: 0.94 - ETA: 1s - loss: 0.1542 - accuracy: 0.94 - ETA: 1s - loss: 0.1561 - accuracy: 0.94 - ETA: 1s - loss: 0.1572 - accuracy: 0.94 - ETA: 1s - loss: 0.1560 - accuracy: 0.94 - ETA: 1s - loss: 0.1550 - accuracy: 0.94 - ETA: 1s - loss: 0.1524 - accuracy: 0.94 - ETA: 1s - loss: 0.1519 - accuracy: 0.94 - ETA: 1s - loss: 0.1517 - accuracy: 0.94 - ETA: 1s - loss: 0.1532 - accuracy: 0.94 - ETA: 1s - loss: 0.1525 - accuracy: 0.94 - ETA: 1s - loss: 0.1526 - accuracy: 0.94 - ETA: 1s - loss: 0.1510 - accuracy: 0.94 - ETA: 1s - loss: 0.1512 - accuracy: 0.94 - ETA: 1s - loss: 0.1517 - accuracy: 0.94 - ETA: 0s - loss: 0.1512 - accuracy: 0.94 - ETA: 0s - loss: 0.1516 - accuracy: 0.94 - ETA: 0s - loss: 0.1511 - accuracy: 0.94 - ETA: 0s - loss: 0.1506 - accuracy: 0.94 - ETA: 0s - loss: 0.1497 - accuracy: 0.94 - ETA: 0s - loss: 0.1496 - accuracy: 0.94 - ETA: 0s - loss: 0.1508 - accuracy: 0.94 - ETA: 0s - loss: 0.1509 - accuracy: 0.94 - ETA: 0s - loss: 0.1505 - accuracy: 0.94 - ETA: 0s - loss: 0.1500 - accuracy: 0.94 - ETA: 0s - loss: 0.1492 - accuracy: 0.94 - ETA: 0s - loss: 0.1492 - accuracy: 0.94 - ETA: 0s - loss: 0.1491 - accuracy: 0.94 - ETA: 0s - loss: 0.1483 - accuracy: 0.94 - ETA: 0s - loss: 0.1483 - accuracy: 0.94 - ETA: 0s - loss: 0.1481 - accuracy: 0.94 - ETA: 0s - loss: 0.1482 - accuracy: 0.94 - ETA: 0s - loss: 0.1480 - accuracy: 0.94 - ETA: 0s - loss: 0.1480 - accuracy: 0.94 - 2s 29us/sample - loss: 0.1479 - accuracy: 0.9478 - val_loss: 0.1233 - val_accuracy: 0.9549\n",
      "Epoch 3/3\n",
      "69531/69531 [==============================] - ETA: 1s - loss: 0.1753 - accuracy: 0.93 - ETA: 1s - loss: 0.1460 - accuracy: 0.95 - ETA: 1s - loss: 0.1433 - accuracy: 0.94 - ETA: 1s - loss: 0.1528 - accuracy: 0.94 - ETA: 1s - loss: 0.1534 - accuracy: 0.94 - ETA: 1s - loss: 0.1498 - accuracy: 0.94 - ETA: 1s - loss: 0.1452 - accuracy: 0.94 - ETA: 1s - loss: 0.1435 - accuracy: 0.94 - ETA: 1s - loss: 0.1438 - accuracy: 0.94 - ETA: 1s - loss: 0.1420 - accuracy: 0.94 - ETA: 1s - loss: 0.1401 - accuracy: 0.94 - ETA: 1s - loss: 0.1409 - accuracy: 0.94 - ETA: 1s - loss: 0.1400 - accuracy: 0.94 - ETA: 1s - loss: 0.1420 - accuracy: 0.94 - ETA: 1s - loss: 0.1420 - accuracy: 0.94 - ETA: 1s - loss: 0.1414 - accuracy: 0.94 - ETA: 1s - loss: 0.1414 - accuracy: 0.95 - ETA: 1s - loss: 0.1402 - accuracy: 0.95 - ETA: 1s - loss: 0.1409 - accuracy: 0.95 - ETA: 0s - loss: 0.1396 - accuracy: 0.95 - ETA: 0s - loss: 0.1399 - accuracy: 0.95 - ETA: 0s - loss: 0.1393 - accuracy: 0.95 - ETA: 0s - loss: 0.1394 - accuracy: 0.95 - ETA: 0s - loss: 0.1390 - accuracy: 0.95 - ETA: 0s - loss: 0.1387 - accuracy: 0.95 - ETA: 0s - loss: 0.1378 - accuracy: 0.95 - ETA: 0s - loss: 0.1375 - accuracy: 0.95 - ETA: 0s - loss: 0.1376 - accuracy: 0.95 - ETA: 0s - loss: 0.1375 - accuracy: 0.95 - ETA: 0s - loss: 0.1381 - accuracy: 0.95 - ETA: 0s - loss: 0.1377 - accuracy: 0.95 - ETA: 0s - loss: 0.1378 - accuracy: 0.95 - ETA: 0s - loss: 0.1377 - accuracy: 0.95 - ETA: 0s - loss: 0.1374 - accuracy: 0.95 - ETA: 0s - loss: 0.1367 - accuracy: 0.95 - ETA: 0s - loss: 0.1362 - accuracy: 0.95 - 2s 30us/sample - loss: 0.1359 - accuracy: 0.9522 - val_loss: 0.1211 - val_accuracy: 0.9559\n"
     ]
    },
    {
     "data": {
      "text/html": [
       "<span style=\"color:#4527A0\"><h1 style=\"font-size:18px\">Trial complete</h1></span>"
      ],
      "text/plain": [
       "<IPython.core.display.HTML object>"
      ]
     },
     "metadata": {},
     "output_type": "display_data"
    },
    {
     "data": {
      "text/html": [
       "<span style=\"color:#4527A0\"><h1 style=\"font-size:18px\">Trial summary</h1></span>"
      ],
      "text/plain": [
       "<IPython.core.display.HTML object>"
      ]
     },
     "metadata": {},
     "output_type": "display_data"
    },
    {
     "data": {
      "text/html": [
       "<span style=\"color:cyan\"> |-Trial ID: c5e377fcb110e53830c0d3ee5c4483b1</span>"
      ],
      "text/plain": [
       "<IPython.core.display.HTML object>"
      ]
     },
     "metadata": {},
     "output_type": "display_data"
    },
    {
     "data": {
      "text/html": [
       "<span style=\"color:cyan\"> |-Score: 0.9558613896369934</span>"
      ],
      "text/plain": [
       "<IPython.core.display.HTML object>"
      ]
     },
     "metadata": {},
     "output_type": "display_data"
    },
    {
     "data": {
      "text/html": [
       "<span style=\"color:cyan\"> |-Best step: 0</span>"
      ],
      "text/plain": [
       "<IPython.core.display.HTML object>"
      ]
     },
     "metadata": {},
     "output_type": "display_data"
    },
    {
     "data": {
      "text/html": [
       "<span style=\"color:#7E57C2\"><h2 style=\"font-size:16px\">Hyperparameters:</h2></span>"
      ],
      "text/plain": [
       "<IPython.core.display.HTML object>"
      ]
     },
     "metadata": {},
     "output_type": "display_data"
    },
    {
     "data": {
      "text/html": [
       "<span style=\"color:cyan\"> |-rate_1: 0.4000000000000001</span>"
      ],
      "text/plain": [
       "<IPython.core.display.HTML object>"
      ]
     },
     "metadata": {},
     "output_type": "display_data"
    },
    {
     "data": {
      "text/html": [
       "<span style=\"color:blue\"> |-rate_2: 0.2</span>"
      ],
      "text/plain": [
       "<IPython.core.display.HTML object>"
      ]
     },
     "metadata": {},
     "output_type": "display_data"
    },
    {
     "data": {
      "text/html": [
       "<span style=\"color:cyan\"> |-tuner/bracket: 2</span>"
      ],
      "text/plain": [
       "<IPython.core.display.HTML object>"
      ]
     },
     "metadata": {},
     "output_type": "display_data"
    },
    {
     "data": {
      "text/html": [
       "<span style=\"color:blue\"> |-tuner/epochs: 3</span>"
      ],
      "text/plain": [
       "<IPython.core.display.HTML object>"
      ]
     },
     "metadata": {},
     "output_type": "display_data"
    },
    {
     "data": {
      "text/html": [
       "<span style=\"color:cyan\"> |-tuner/initial_epoch: 0</span>"
      ],
      "text/plain": [
       "<IPython.core.display.HTML object>"
      ]
     },
     "metadata": {},
     "output_type": "display_data"
    },
    {
     "data": {
      "text/html": [
       "<span style=\"color:blue\"> |-tuner/round: 0</span>"
      ],
      "text/plain": [
       "<IPython.core.display.HTML object>"
      ]
     },
     "metadata": {},
     "output_type": "display_data"
    },
    {
     "data": {
      "text/html": [
       "<span style=\"color:cyan\"> |-units_1: 28</span>"
      ],
      "text/plain": [
       "<IPython.core.display.HTML object>"
      ]
     },
     "metadata": {},
     "output_type": "display_data"
    },
    {
     "data": {
      "text/html": [
       "<span style=\"color:blue\"> |-units_2: 56</span>"
      ],
      "text/plain": [
       "<IPython.core.display.HTML object>"
      ]
     },
     "metadata": {},
     "output_type": "display_data"
    },
    {
     "name": "stdout",
     "output_type": "stream",
     "text": [
      "WARNING:tensorflow:Large dropout rate: 0.5 (>0.5). In TensorFlow 2.x, dropout() uses dropout rate instead of keep_prob. Please ensure that this is intended.\n",
      "Train on 69531 samples, validate on 23177 samples\n",
      "Epoch 1/3\n",
      "WARNING:tensorflow:Large dropout rate: 0.5 (>0.5). In TensorFlow 2.x, dropout() uses dropout rate instead of keep_prob. Please ensure that this is intended.\n",
      "69531/69531 [==============================] - ETA: 2:16 - loss: 0.6951 - accuracy: 0.50 - ETA: 16s - loss: 0.6395 - accuracy: 0.6211 - ETA: 9s - loss: 0.5944 - accuracy: 0.669 - ETA: 7s - loss: 0.5515 - accuracy: 0.71 - ETA: 5s - loss: 0.5177 - accuracy: 0.74 - ETA: 4s - loss: 0.4839 - accuracy: 0.77 - ETA: 4s - loss: 0.4584 - accuracy: 0.78 - ETA: 3s - loss: 0.4341 - accuracy: 0.80 - ETA: 3s - loss: 0.4158 - accuracy: 0.81 - ETA: 3s - loss: 0.3997 - accuracy: 0.82 - ETA: 2s - loss: 0.3870 - accuracy: 0.82 - ETA: 2s - loss: 0.3716 - accuracy: 0.83 - ETA: 2s - loss: 0.3581 - accuracy: 0.84 - ETA: 2s - loss: 0.3471 - accuracy: 0.85 - ETA: 2s - loss: 0.3358 - accuracy: 0.85 - ETA: 1s - loss: 0.3262 - accuracy: 0.86 - ETA: 1s - loss: 0.3183 - accuracy: 0.86 - ETA: 1s - loss: 0.3112 - accuracy: 0.86 - ETA: 1s - loss: 0.3042 - accuracy: 0.87 - ETA: 1s - loss: 0.2966 - accuracy: 0.87 - ETA: 1s - loss: 0.2927 - accuracy: 0.87 - ETA: 1s - loss: 0.2865 - accuracy: 0.88 - ETA: 1s - loss: 0.2810 - accuracy: 0.88 - ETA: 1s - loss: 0.2754 - accuracy: 0.88 - ETA: 1s - loss: 0.2715 - accuracy: 0.88 - ETA: 0s - loss: 0.2663 - accuracy: 0.89 - ETA: 0s - loss: 0.2626 - accuracy: 0.89 - ETA: 0s - loss: 0.2598 - accuracy: 0.89 - ETA: 0s - loss: 0.2560 - accuracy: 0.89 - ETA: 0s - loss: 0.2534 - accuracy: 0.89 - ETA: 0s - loss: 0.2493 - accuracy: 0.89 - ETA: 0s - loss: 0.2461 - accuracy: 0.90 - ETA: 0s - loss: 0.2435 - accuracy: 0.90 - ETA: 0s - loss: 0.2411 - accuracy: 0.90 - ETA: 0s - loss: 0.2381 - accuracy: 0.90 - ETA: 0s - loss: 0.2356 - accuracy: 0.90 - ETA: 0s - loss: 0.2335 - accuracy: 0.90 - ETA: 0s - loss: 0.2309 - accuracy: 0.90 - 3s 41us/sample - loss: 0.2298 - accuracy: 0.9093 - val_loss: 0.1267 - val_accuracy: 0.9518\n",
      "Epoch 2/3\n",
      "69531/69531 [==============================] - ETA: 2s - loss: 0.1229 - accuracy: 0.95 - ETA: 2s - loss: 0.1306 - accuracy: 0.95 - ETA: 2s - loss: 0.1380 - accuracy: 0.95 - ETA: 1s - loss: 0.1394 - accuracy: 0.95 - ETA: 1s - loss: 0.1411 - accuracy: 0.95 - ETA: 1s - loss: 0.1421 - accuracy: 0.95 - ETA: 1s - loss: 0.1427 - accuracy: 0.95 - ETA: 1s - loss: 0.1475 - accuracy: 0.95 - ETA: 1s - loss: 0.1485 - accuracy: 0.94 - ETA: 1s - loss: 0.1465 - accuracy: 0.95 - ETA: 1s - loss: 0.1471 - accuracy: 0.95 - ETA: 1s - loss: 0.1477 - accuracy: 0.94 - ETA: 1s - loss: 0.1475 - accuracy: 0.94 - ETA: 1s - loss: 0.1477 - accuracy: 0.94 - ETA: 1s - loss: 0.1482 - accuracy: 0.94 - ETA: 1s - loss: 0.1482 - accuracy: 0.94 - ETA: 1s - loss: 0.1483 - accuracy: 0.94 - ETA: 1s - loss: 0.1467 - accuracy: 0.94 - ETA: 1s - loss: 0.1470 - accuracy: 0.94 - ETA: 0s - loss: 0.1469 - accuracy: 0.94 - ETA: 0s - loss: 0.1467 - accuracy: 0.94 - ETA: 0s - loss: 0.1469 - accuracy: 0.94 - ETA: 0s - loss: 0.1466 - accuracy: 0.94 - ETA: 0s - loss: 0.1455 - accuracy: 0.94 - ETA: 0s - loss: 0.1450 - accuracy: 0.94 - ETA: 0s - loss: 0.1446 - accuracy: 0.95 - ETA: 0s - loss: 0.1447 - accuracy: 0.94 - ETA: 0s - loss: 0.1441 - accuracy: 0.95 - ETA: 0s - loss: 0.1431 - accuracy: 0.95 - ETA: 0s - loss: 0.1430 - accuracy: 0.95 - ETA: 0s - loss: 0.1426 - accuracy: 0.95 - ETA: 0s - loss: 0.1421 - accuracy: 0.95 - ETA: 0s - loss: 0.1415 - accuracy: 0.95 - ETA: 0s - loss: 0.1416 - accuracy: 0.95 - ETA: 0s - loss: 0.1414 - accuracy: 0.95 - ETA: 0s - loss: 0.1414 - accuracy: 0.95 - ETA: 0s - loss: 0.1408 - accuracy: 0.95 - ETA: 0s - loss: 0.1410 - accuracy: 0.95 - 2s 32us/sample - loss: 0.1412 - accuracy: 0.9508 - val_loss: 0.1211 - val_accuracy: 0.9547\n",
      "Epoch 3/3\n",
      "69531/69531 [==============================] - ETA: 2s - loss: 0.1731 - accuracy: 0.95 - ETA: 1s - loss: 0.1463 - accuracy: 0.95 - ETA: 1s - loss: 0.1405 - accuracy: 0.95 - ETA: 1s - loss: 0.1404 - accuracy: 0.94 - ETA: 1s - loss: 0.1404 - accuracy: 0.95 - ETA: 1s - loss: 0.1352 - accuracy: 0.95 - ETA: 1s - loss: 0.1376 - accuracy: 0.95 - ETA: 1s - loss: 0.1352 - accuracy: 0.95 - ETA: 1s - loss: 0.1363 - accuracy: 0.95 - ETA: 1s - loss: 0.1345 - accuracy: 0.95 - ETA: 1s - loss: 0.1359 - accuracy: 0.95 - ETA: 1s - loss: 0.1352 - accuracy: 0.95 - ETA: 1s - loss: 0.1364 - accuracy: 0.95 - ETA: 1s - loss: 0.1370 - accuracy: 0.95 - ETA: 1s - loss: 0.1366 - accuracy: 0.95 - ETA: 1s - loss: 0.1370 - accuracy: 0.95 - ETA: 1s - loss: 0.1372 - accuracy: 0.95 - ETA: 1s - loss: 0.1370 - accuracy: 0.95 - ETA: 1s - loss: 0.1359 - accuracy: 0.95 - ETA: 1s - loss: 0.1363 - accuracy: 0.95 - ETA: 0s - loss: 0.1364 - accuracy: 0.95 - ETA: 0s - loss: 0.1363 - accuracy: 0.95 - ETA: 0s - loss: 0.1356 - accuracy: 0.95 - ETA: 0s - loss: 0.1360 - accuracy: 0.95 - ETA: 0s - loss: 0.1361 - accuracy: 0.95 - ETA: 0s - loss: 0.1353 - accuracy: 0.95 - ETA: 0s - loss: 0.1346 - accuracy: 0.95 - ETA: 0s - loss: 0.1343 - accuracy: 0.95 - ETA: 0s - loss: 0.1341 - accuracy: 0.95 - ETA: 0s - loss: 0.1344 - accuracy: 0.95 - ETA: 0s - loss: 0.1340 - accuracy: 0.95 - ETA: 0s - loss: 0.1336 - accuracy: 0.95 - ETA: 0s - loss: 0.1333 - accuracy: 0.95 - ETA: 0s - loss: 0.1337 - accuracy: 0.95 - ETA: 0s - loss: 0.1335 - accuracy: 0.95 - ETA: 0s - loss: 0.1338 - accuracy: 0.95 - ETA: 0s - loss: 0.1334 - accuracy: 0.95 - ETA: 0s - loss: 0.1330 - accuracy: 0.95 - ETA: 0s - loss: 0.1328 - accuracy: 0.95 - 2s 32us/sample - loss: 0.1329 - accuracy: 0.9536 - val_loss: 0.1181 - val_accuracy: 0.9553\n"
     ]
    },
    {
     "data": {
      "text/html": [
       "<span style=\"color:#4527A0\"><h1 style=\"font-size:18px\">Trial complete</h1></span>"
      ],
      "text/plain": [
       "<IPython.core.display.HTML object>"
      ]
     },
     "metadata": {},
     "output_type": "display_data"
    },
    {
     "data": {
      "text/html": [
       "<span style=\"color:#4527A0\"><h1 style=\"font-size:18px\">Trial summary</h1></span>"
      ],
      "text/plain": [
       "<IPython.core.display.HTML object>"
      ]
     },
     "metadata": {},
     "output_type": "display_data"
    },
    {
     "data": {
      "text/html": [
       "<span style=\"color:cyan\"> |-Trial ID: 1b0ec6416c5c0c9f6db862b751eb632c</span>"
      ],
      "text/plain": [
       "<IPython.core.display.HTML object>"
      ]
     },
     "metadata": {},
     "output_type": "display_data"
    },
    {
     "data": {
      "text/html": [
       "<span style=\"color:cyan\"> |-Score: 0.955300509929657</span>"
      ],
      "text/plain": [
       "<IPython.core.display.HTML object>"
      ]
     },
     "metadata": {},
     "output_type": "display_data"
    },
    {
     "data": {
      "text/html": [
       "<span style=\"color:cyan\"> |-Best step: 0</span>"
      ],
      "text/plain": [
       "<IPython.core.display.HTML object>"
      ]
     },
     "metadata": {},
     "output_type": "display_data"
    },
    {
     "data": {
      "text/html": [
       "<span style=\"color:#7E57C2\"><h2 style=\"font-size:16px\">Hyperparameters:</h2></span>"
      ],
      "text/plain": [
       "<IPython.core.display.HTML object>"
      ]
     },
     "metadata": {},
     "output_type": "display_data"
    },
    {
     "data": {
      "text/html": [
       "<span style=\"color:cyan\"> |-rate_1: 0.5000000000000001</span>"
      ],
      "text/plain": [
       "<IPython.core.display.HTML object>"
      ]
     },
     "metadata": {},
     "output_type": "display_data"
    },
    {
     "data": {
      "text/html": [
       "<span style=\"color:blue\"> |-rate_2: 0.30000000000000004</span>"
      ],
      "text/plain": [
       "<IPython.core.display.HTML object>"
      ]
     },
     "metadata": {},
     "output_type": "display_data"
    },
    {
     "data": {
      "text/html": [
       "<span style=\"color:cyan\"> |-tuner/bracket: 2</span>"
      ],
      "text/plain": [
       "<IPython.core.display.HTML object>"
      ]
     },
     "metadata": {},
     "output_type": "display_data"
    },
    {
     "data": {
      "text/html": [
       "<span style=\"color:blue\"> |-tuner/epochs: 3</span>"
      ],
      "text/plain": [
       "<IPython.core.display.HTML object>"
      ]
     },
     "metadata": {},
     "output_type": "display_data"
    },
    {
     "data": {
      "text/html": [
       "<span style=\"color:cyan\"> |-tuner/initial_epoch: 0</span>"
      ],
      "text/plain": [
       "<IPython.core.display.HTML object>"
      ]
     },
     "metadata": {},
     "output_type": "display_data"
    },
    {
     "data": {
      "text/html": [
       "<span style=\"color:blue\"> |-tuner/round: 0</span>"
      ],
      "text/plain": [
       "<IPython.core.display.HTML object>"
      ]
     },
     "metadata": {},
     "output_type": "display_data"
    },
    {
     "data": {
      "text/html": [
       "<span style=\"color:cyan\"> |-units_1: 58</span>"
      ],
      "text/plain": [
       "<IPython.core.display.HTML object>"
      ]
     },
     "metadata": {},
     "output_type": "display_data"
    },
    {
     "data": {
      "text/html": [
       "<span style=\"color:blue\"> |-units_2: 48</span>"
      ],
      "text/plain": [
       "<IPython.core.display.HTML object>"
      ]
     },
     "metadata": {},
     "output_type": "display_data"
    },
    {
     "name": "stdout",
     "output_type": "stream",
     "text": [
      "Train on 69531 samples, validate on 23177 samples\n",
      "Epoch 1/3\n",
      "69531/69531 [==============================] - ETA: 2:17 - loss: 0.7313 - accuracy: 0.50 - ETA: 16s - loss: 0.6979 - accuracy: 0.5473 - ETA: 9s - loss: 0.6538 - accuracy: 0.603 - ETA: 6s - loss: 0.6197 - accuracy: 0.64 - ETA: 5s - loss: 0.5859 - accuracy: 0.68 - ETA: 4s - loss: 0.5584 - accuracy: 0.71 - ETA: 3s - loss: 0.5345 - accuracy: 0.73 - ETA: 3s - loss: 0.5084 - accuracy: 0.75 - ETA: 3s - loss: 0.4852 - accuracy: 0.76 - ETA: 2s - loss: 0.4649 - accuracy: 0.78 - ETA: 2s - loss: 0.4462 - accuracy: 0.79 - ETA: 2s - loss: 0.4326 - accuracy: 0.80 - ETA: 2s - loss: 0.4145 - accuracy: 0.81 - ETA: 1s - loss: 0.3978 - accuracy: 0.82 - ETA: 1s - loss: 0.3844 - accuracy: 0.82 - ETA: 1s - loss: 0.3712 - accuracy: 0.83 - ETA: 1s - loss: 0.3602 - accuracy: 0.84 - ETA: 1s - loss: 0.3504 - accuracy: 0.84 - ETA: 1s - loss: 0.3413 - accuracy: 0.85 - ETA: 1s - loss: 0.3337 - accuracy: 0.85 - ETA: 1s - loss: 0.3272 - accuracy: 0.86 - ETA: 0s - loss: 0.3206 - accuracy: 0.86 - ETA: 0s - loss: 0.3141 - accuracy: 0.86 - ETA: 0s - loss: 0.3084 - accuracy: 0.87 - ETA: 0s - loss: 0.3030 - accuracy: 0.87 - ETA: 0s - loss: 0.2971 - accuracy: 0.87 - ETA: 0s - loss: 0.2923 - accuracy: 0.87 - ETA: 0s - loss: 0.2876 - accuracy: 0.88 - ETA: 0s - loss: 0.2830 - accuracy: 0.88 - ETA: 0s - loss: 0.2787 - accuracy: 0.88 - ETA: 0s - loss: 0.2749 - accuracy: 0.88 - ETA: 0s - loss: 0.2710 - accuracy: 0.88 - ETA: 0s - loss: 0.2682 - accuracy: 0.89 - ETA: 0s - loss: 0.2658 - accuracy: 0.89 - 3s 38us/sample - loss: 0.2640 - accuracy: 0.8934 - val_loss: 0.1314 - val_accuracy: 0.9509\n",
      "Epoch 2/3\n",
      "69531/69531 [==============================] - ETA: 2s - loss: 0.1204 - accuracy: 0.96 - ETA: 1s - loss: 0.1423 - accuracy: 0.95 - ETA: 1s - loss: 0.1477 - accuracy: 0.94 - ETA: 1s - loss: 0.1536 - accuracy: 0.94 - ETA: 1s - loss: 0.1575 - accuracy: 0.94 - ETA: 1s - loss: 0.1547 - accuracy: 0.94 - ETA: 1s - loss: 0.1534 - accuracy: 0.94 - ETA: 1s - loss: 0.1522 - accuracy: 0.94 - ETA: 1s - loss: 0.1536 - accuracy: 0.94 - ETA: 1s - loss: 0.1510 - accuracy: 0.94 - ETA: 1s - loss: 0.1501 - accuracy: 0.94 - ETA: 1s - loss: 0.1507 - accuracy: 0.94 - ETA: 1s - loss: 0.1499 - accuracy: 0.94 - ETA: 1s - loss: 0.1502 - accuracy: 0.94 - ETA: 1s - loss: 0.1497 - accuracy: 0.94 - ETA: 0s - loss: 0.1489 - accuracy: 0.94 - ETA: 0s - loss: 0.1485 - accuracy: 0.94 - ETA: 0s - loss: 0.1484 - accuracy: 0.94 - ETA: 0s - loss: 0.1486 - accuracy: 0.94 - ETA: 0s - loss: 0.1491 - accuracy: 0.94 - ETA: 0s - loss: 0.1492 - accuracy: 0.94 - ETA: 0s - loss: 0.1492 - accuracy: 0.94 - ETA: 0s - loss: 0.1481 - accuracy: 0.95 - ETA: 0s - loss: 0.1480 - accuracy: 0.94 - ETA: 0s - loss: 0.1476 - accuracy: 0.95 - ETA: 0s - loss: 0.1474 - accuracy: 0.95 - ETA: 0s - loss: 0.1479 - accuracy: 0.95 - ETA: 0s - loss: 0.1479 - accuracy: 0.94 - ETA: 0s - loss: 0.1476 - accuracy: 0.94 - ETA: 0s - loss: 0.1474 - accuracy: 0.95 - ETA: 0s - loss: 0.1476 - accuracy: 0.94 - ETA: 0s - loss: 0.1479 - accuracy: 0.94 - ETA: 0s - loss: 0.1478 - accuracy: 0.94 - ETA: 0s - loss: 0.1473 - accuracy: 0.94 - 2s 28us/sample - loss: 0.1472 - accuracy: 0.9500 - val_loss: 0.1218 - val_accuracy: 0.9556\n",
      "Epoch 3/3\n",
      "69531/69531 [==============================] - ETA: 2s - loss: 0.1153 - accuracy: 0.95 - ETA: 1s - loss: 0.1396 - accuracy: 0.95 - ETA: 1s - loss: 0.1411 - accuracy: 0.95 - ETA: 1s - loss: 0.1385 - accuracy: 0.95 - ETA: 1s - loss: 0.1390 - accuracy: 0.95 - ETA: 1s - loss: 0.1369 - accuracy: 0.95 - ETA: 1s - loss: 0.1386 - accuracy: 0.95 - ETA: 1s - loss: 0.1379 - accuracy: 0.95 - ETA: 1s - loss: 0.1369 - accuracy: 0.95 - ETA: 1s - loss: 0.1364 - accuracy: 0.95 - ETA: 1s - loss: 0.1376 - accuracy: 0.95 - ETA: 1s - loss: 0.1367 - accuracy: 0.95 - ETA: 1s - loss: 0.1385 - accuracy: 0.95 - ETA: 1s - loss: 0.1383 - accuracy: 0.95 - ETA: 1s - loss: 0.1371 - accuracy: 0.95 - ETA: 1s - loss: 0.1375 - accuracy: 0.95 - ETA: 0s - loss: 0.1373 - accuracy: 0.95 - ETA: 0s - loss: 0.1377 - accuracy: 0.95 - ETA: 0s - loss: 0.1376 - accuracy: 0.95 - ETA: 0s - loss: 0.1370 - accuracy: 0.95 - ETA: 0s - loss: 0.1362 - accuracy: 0.95 - ETA: 0s - loss: 0.1361 - accuracy: 0.95 - ETA: 0s - loss: 0.1359 - accuracy: 0.95 - ETA: 0s - loss: 0.1356 - accuracy: 0.95 - ETA: 0s - loss: 0.1358 - accuracy: 0.95 - ETA: 0s - loss: 0.1365 - accuracy: 0.95 - ETA: 0s - loss: 0.1367 - accuracy: 0.95 - ETA: 0s - loss: 0.1363 - accuracy: 0.95 - ETA: 0s - loss: 0.1369 - accuracy: 0.95 - ETA: 0s - loss: 0.1370 - accuracy: 0.95 - ETA: 0s - loss: 0.1363 - accuracy: 0.95 - ETA: 0s - loss: 0.1357 - accuracy: 0.95 - ETA: 0s - loss: 0.1364 - accuracy: 0.95 - 2s 28us/sample - loss: 0.1363 - accuracy: 0.9536 - val_loss: 0.1176 - val_accuracy: 0.9567\n"
     ]
    },
    {
     "data": {
      "text/html": [
       "<span style=\"color:#4527A0\"><h1 style=\"font-size:18px\">Trial complete</h1></span>"
      ],
      "text/plain": [
       "<IPython.core.display.HTML object>"
      ]
     },
     "metadata": {},
     "output_type": "display_data"
    },
    {
     "data": {
      "text/html": [
       "<span style=\"color:#4527A0\"><h1 style=\"font-size:18px\">Trial summary</h1></span>"
      ],
      "text/plain": [
       "<IPython.core.display.HTML object>"
      ]
     },
     "metadata": {},
     "output_type": "display_data"
    },
    {
     "data": {
      "text/html": [
       "<span style=\"color:cyan\"> |-Trial ID: c79d562b5254da3b44c94035b5f3c2f6</span>"
      ],
      "text/plain": [
       "<IPython.core.display.HTML object>"
      ]
     },
     "metadata": {},
     "output_type": "display_data"
    },
    {
     "data": {
      "text/html": [
       "<span style=\"color:cyan\"> |-Score: 0.9567243456840515</span>"
      ],
      "text/plain": [
       "<IPython.core.display.HTML object>"
      ]
     },
     "metadata": {},
     "output_type": "display_data"
    },
    {
     "data": {
      "text/html": [
       "<span style=\"color:cyan\"> |-Best step: 0</span>"
      ],
      "text/plain": [
       "<IPython.core.display.HTML object>"
      ]
     },
     "metadata": {},
     "output_type": "display_data"
    },
    {
     "data": {
      "text/html": [
       "<span style=\"color:#7E57C2\"><h2 style=\"font-size:16px\">Hyperparameters:</h2></span>"
      ],
      "text/plain": [
       "<IPython.core.display.HTML object>"
      ]
     },
     "metadata": {},
     "output_type": "display_data"
    },
    {
     "data": {
      "text/html": [
       "<span style=\"color:cyan\"> |-rate_1: 0.4000000000000001</span>"
      ],
      "text/plain": [
       "<IPython.core.display.HTML object>"
      ]
     },
     "metadata": {},
     "output_type": "display_data"
    },
    {
     "data": {
      "text/html": [
       "<span style=\"color:blue\"> |-rate_2: 0.4000000000000001</span>"
      ],
      "text/plain": [
       "<IPython.core.display.HTML object>"
      ]
     },
     "metadata": {},
     "output_type": "display_data"
    },
    {
     "data": {
      "text/html": [
       "<span style=\"color:cyan\"> |-tuner/bracket: 2</span>"
      ],
      "text/plain": [
       "<IPython.core.display.HTML object>"
      ]
     },
     "metadata": {},
     "output_type": "display_data"
    },
    {
     "data": {
      "text/html": [
       "<span style=\"color:blue\"> |-tuner/epochs: 3</span>"
      ],
      "text/plain": [
       "<IPython.core.display.HTML object>"
      ]
     },
     "metadata": {},
     "output_type": "display_data"
    },
    {
     "data": {
      "text/html": [
       "<span style=\"color:cyan\"> |-tuner/initial_epoch: 0</span>"
      ],
      "text/plain": [
       "<IPython.core.display.HTML object>"
      ]
     },
     "metadata": {},
     "output_type": "display_data"
    },
    {
     "data": {
      "text/html": [
       "<span style=\"color:blue\"> |-tuner/round: 0</span>"
      ],
      "text/plain": [
       "<IPython.core.display.HTML object>"
      ]
     },
     "metadata": {},
     "output_type": "display_data"
    },
    {
     "data": {
      "text/html": [
       "<span style=\"color:cyan\"> |-units_1: 50</span>"
      ],
      "text/plain": [
       "<IPython.core.display.HTML object>"
      ]
     },
     "metadata": {},
     "output_type": "display_data"
    },
    {
     "data": {
      "text/html": [
       "<span style=\"color:blue\"> |-units_2: 24</span>"
      ],
      "text/plain": [
       "<IPython.core.display.HTML object>"
      ]
     },
     "metadata": {},
     "output_type": "display_data"
    },
    {
     "name": "stdout",
     "output_type": "stream",
     "text": [
      "Train on 69531 samples, validate on 23177 samples\n",
      "Epoch 1/3\n",
      "69531/69531 [==============================] - ETA: 2:17 - loss: 0.8113 - accuracy: 0.55 - ETA: 14s - loss: 0.7077 - accuracy: 0.5898 - ETA: 8s - loss: 0.6596 - accuracy: 0.632 - ETA: 5s - loss: 0.6083 - accuracy: 0.68 - ETA: 4s - loss: 0.5630 - accuracy: 0.71 - ETA: 3s - loss: 0.5275 - accuracy: 0.74 - ETA: 3s - loss: 0.4959 - accuracy: 0.76 - ETA: 2s - loss: 0.4692 - accuracy: 0.78 - ETA: 2s - loss: 0.4469 - accuracy: 0.79 - ETA: 2s - loss: 0.4270 - accuracy: 0.81 - ETA: 2s - loss: 0.4083 - accuracy: 0.82 - ETA: 1s - loss: 0.3933 - accuracy: 0.82 - ETA: 1s - loss: 0.3781 - accuracy: 0.83 - ETA: 1s - loss: 0.3659 - accuracy: 0.84 - ETA: 1s - loss: 0.3542 - accuracy: 0.85 - ETA: 1s - loss: 0.3424 - accuracy: 0.85 - ETA: 1s - loss: 0.3318 - accuracy: 0.86 - ETA: 1s - loss: 0.3241 - accuracy: 0.86 - ETA: 1s - loss: 0.3149 - accuracy: 0.87 - ETA: 0s - loss: 0.3070 - accuracy: 0.87 - ETA: 0s - loss: 0.2999 - accuracy: 0.87 - ETA: 0s - loss: 0.2936 - accuracy: 0.88 - ETA: 0s - loss: 0.2879 - accuracy: 0.88 - ETA: 0s - loss: 0.2821 - accuracy: 0.88 - ETA: 0s - loss: 0.2764 - accuracy: 0.88 - ETA: 0s - loss: 0.2717 - accuracy: 0.89 - ETA: 0s - loss: 0.2672 - accuracy: 0.89 - ETA: 0s - loss: 0.2638 - accuracy: 0.89 - ETA: 0s - loss: 0.2591 - accuracy: 0.89 - ETA: 0s - loss: 0.2550 - accuracy: 0.89 - ETA: 0s - loss: 0.2520 - accuracy: 0.90 - 2s 35us/sample - loss: 0.2501 - accuracy: 0.9015 - val_loss: 0.1273 - val_accuracy: 0.9531\n",
      "Epoch 2/3\n",
      "69531/69531 [==============================] - ETA: 1s - loss: 0.1494 - accuracy: 0.94 - ETA: 1s - loss: 0.1729 - accuracy: 0.94 - ETA: 1s - loss: 0.1567 - accuracy: 0.94 - ETA: 1s - loss: 0.1517 - accuracy: 0.94 - ETA: 1s - loss: 0.1541 - accuracy: 0.94 - ETA: 1s - loss: 0.1472 - accuracy: 0.94 - ETA: 1s - loss: 0.1452 - accuracy: 0.95 - ETA: 1s - loss: 0.1423 - accuracy: 0.95 - ETA: 1s - loss: 0.1426 - accuracy: 0.95 - ETA: 1s - loss: 0.1422 - accuracy: 0.95 - ETA: 1s - loss: 0.1439 - accuracy: 0.95 - ETA: 1s - loss: 0.1434 - accuracy: 0.95 - ETA: 0s - loss: 0.1436 - accuracy: 0.95 - ETA: 0s - loss: 0.1432 - accuracy: 0.95 - ETA: 0s - loss: 0.1426 - accuracy: 0.95 - ETA: 0s - loss: 0.1418 - accuracy: 0.95 - ETA: 0s - loss: 0.1425 - accuracy: 0.95 - ETA: 0s - loss: 0.1418 - accuracy: 0.95 - ETA: 0s - loss: 0.1420 - accuracy: 0.95 - ETA: 0s - loss: 0.1434 - accuracy: 0.95 - ETA: 0s - loss: 0.1431 - accuracy: 0.95 - ETA: 0s - loss: 0.1428 - accuracy: 0.95 - ETA: 0s - loss: 0.1421 - accuracy: 0.95 - ETA: 0s - loss: 0.1421 - accuracy: 0.95 - ETA: 0s - loss: 0.1418 - accuracy: 0.95 - ETA: 0s - loss: 0.1420 - accuracy: 0.95 - ETA: 0s - loss: 0.1416 - accuracy: 0.95 - ETA: 0s - loss: 0.1427 - accuracy: 0.95 - ETA: 0s - loss: 0.1428 - accuracy: 0.95 - ETA: 0s - loss: 0.1428 - accuracy: 0.95 - ETA: 0s - loss: 0.1424 - accuracy: 0.95 - 2s 26us/sample - loss: 0.1419 - accuracy: 0.9506 - val_loss: 0.1204 - val_accuracy: 0.9556\n",
      "Epoch 3/3\n",
      "69531/69531 [==============================] - ETA: 1s - loss: 0.1437 - accuracy: 0.93 - ETA: 1s - loss: 0.1291 - accuracy: 0.95 - ETA: 1s - loss: 0.1317 - accuracy: 0.95 - ETA: 1s - loss: 0.1301 - accuracy: 0.95 - ETA: 1s - loss: 0.1372 - accuracy: 0.95 - ETA: 1s - loss: 0.1364 - accuracy: 0.95 - ETA: 1s - loss: 0.1353 - accuracy: 0.95 - ETA: 1s - loss: 0.1349 - accuracy: 0.95 - ETA: 1s - loss: 0.1342 - accuracy: 0.95 - ETA: 1s - loss: 0.1318 - accuracy: 0.95 - ETA: 1s - loss: 0.1327 - accuracy: 0.95 - ETA: 1s - loss: 0.1330 - accuracy: 0.95 - ETA: 0s - loss: 0.1323 - accuracy: 0.95 - ETA: 0s - loss: 0.1323 - accuracy: 0.95 - ETA: 0s - loss: 0.1323 - accuracy: 0.95 - ETA: 0s - loss: 0.1327 - accuracy: 0.95 - ETA: 0s - loss: 0.1313 - accuracy: 0.95 - ETA: 0s - loss: 0.1312 - accuracy: 0.95 - ETA: 0s - loss: 0.1314 - accuracy: 0.95 - ETA: 0s - loss: 0.1311 - accuracy: 0.95 - ETA: 0s - loss: 0.1304 - accuracy: 0.95 - ETA: 0s - loss: 0.1304 - accuracy: 0.95 - ETA: 0s - loss: 0.1304 - accuracy: 0.95 - ETA: 0s - loss: 0.1313 - accuracy: 0.95 - ETA: 0s - loss: 0.1312 - accuracy: 0.95 - ETA: 0s - loss: 0.1322 - accuracy: 0.95 - ETA: 0s - loss: 0.1322 - accuracy: 0.95 - ETA: 0s - loss: 0.1321 - accuracy: 0.95 - ETA: 0s - loss: 0.1321 - accuracy: 0.95 - ETA: 0s - loss: 0.1322 - accuracy: 0.95 - ETA: 0s - loss: 0.1319 - accuracy: 0.95 - 2s 26us/sample - loss: 0.1315 - accuracy: 0.9550 - val_loss: 0.1175 - val_accuracy: 0.9565\n"
     ]
    },
    {
     "data": {
      "text/html": [
       "<span style=\"color:#4527A0\"><h1 style=\"font-size:18px\">Trial complete</h1></span>"
      ],
      "text/plain": [
       "<IPython.core.display.HTML object>"
      ]
     },
     "metadata": {},
     "output_type": "display_data"
    },
    {
     "data": {
      "text/html": [
       "<span style=\"color:#4527A0\"><h1 style=\"font-size:18px\">Trial summary</h1></span>"
      ],
      "text/plain": [
       "<IPython.core.display.HTML object>"
      ]
     },
     "metadata": {},
     "output_type": "display_data"
    },
    {
     "data": {
      "text/html": [
       "<span style=\"color:cyan\"> |-Trial ID: 52acc22a69c5c6b5d81f91795d61a046</span>"
      ],
      "text/plain": [
       "<IPython.core.display.HTML object>"
      ]
     },
     "metadata": {},
     "output_type": "display_data"
    },
    {
     "data": {
      "text/html": [
       "<span style=\"color:cyan\"> |-Score: 0.956465482711792</span>"
      ],
      "text/plain": [
       "<IPython.core.display.HTML object>"
      ]
     },
     "metadata": {},
     "output_type": "display_data"
    },
    {
     "data": {
      "text/html": [
       "<span style=\"color:cyan\"> |-Best step: 0</span>"
      ],
      "text/plain": [
       "<IPython.core.display.HTML object>"
      ]
     },
     "metadata": {},
     "output_type": "display_data"
    },
    {
     "data": {
      "text/html": [
       "<span style=\"color:#7E57C2\"><h2 style=\"font-size:16px\">Hyperparameters:</h2></span>"
      ],
      "text/plain": [
       "<IPython.core.display.HTML object>"
      ]
     },
     "metadata": {},
     "output_type": "display_data"
    },
    {
     "data": {
      "text/html": [
       "<span style=\"color:cyan\"> |-rate_1: 0.2</span>"
      ],
      "text/plain": [
       "<IPython.core.display.HTML object>"
      ]
     },
     "metadata": {},
     "output_type": "display_data"
    },
    {
     "data": {
      "text/html": [
       "<span style=\"color:blue\"> |-rate_2: 0.4000000000000001</span>"
      ],
      "text/plain": [
       "<IPython.core.display.HTML object>"
      ]
     },
     "metadata": {},
     "output_type": "display_data"
    },
    {
     "data": {
      "text/html": [
       "<span style=\"color:cyan\"> |-tuner/bracket: 2</span>"
      ],
      "text/plain": [
       "<IPython.core.display.HTML object>"
      ]
     },
     "metadata": {},
     "output_type": "display_data"
    },
    {
     "data": {
      "text/html": [
       "<span style=\"color:blue\"> |-tuner/epochs: 3</span>"
      ],
      "text/plain": [
       "<IPython.core.display.HTML object>"
      ]
     },
     "metadata": {},
     "output_type": "display_data"
    },
    {
     "data": {
      "text/html": [
       "<span style=\"color:cyan\"> |-tuner/initial_epoch: 0</span>"
      ],
      "text/plain": [
       "<IPython.core.display.HTML object>"
      ]
     },
     "metadata": {},
     "output_type": "display_data"
    },
    {
     "data": {
      "text/html": [
       "<span style=\"color:blue\"> |-tuner/round: 0</span>"
      ],
      "text/plain": [
       "<IPython.core.display.HTML object>"
      ]
     },
     "metadata": {},
     "output_type": "display_data"
    },
    {
     "data": {
      "text/html": [
       "<span style=\"color:cyan\"> |-units_1: 42</span>"
      ],
      "text/plain": [
       "<IPython.core.display.HTML object>"
      ]
     },
     "metadata": {},
     "output_type": "display_data"
    },
    {
     "data": {
      "text/html": [
       "<span style=\"color:blue\"> |-units_2: 24</span>"
      ],
      "text/plain": [
       "<IPython.core.display.HTML object>"
      ]
     },
     "metadata": {},
     "output_type": "display_data"
    },
    {
     "name": "stdout",
     "output_type": "stream",
     "text": [
      "Train on 69531 samples, validate on 23177 samples\n",
      "Epoch 1/3\n",
      "69531/69531 [==============================] - ETA: 2:17 - loss: 0.6969 - accuracy: 0.51 - ETA: 14s - loss: 0.6549 - accuracy: 0.5945 - ETA: 8s - loss: 0.6212 - accuracy: 0.640 - ETA: 6s - loss: 0.5868 - accuracy: 0.68 - ETA: 5s - loss: 0.5577 - accuracy: 0.71 - ETA: 4s - loss: 0.5299 - accuracy: 0.74 - ETA: 3s - loss: 0.5036 - accuracy: 0.76 - ETA: 3s - loss: 0.4794 - accuracy: 0.78 - ETA: 2s - loss: 0.4593 - accuracy: 0.79 - ETA: 2s - loss: 0.4387 - accuracy: 0.80 - ETA: 2s - loss: 0.4194 - accuracy: 0.81 - ETA: 2s - loss: 0.4053 - accuracy: 0.82 - ETA: 2s - loss: 0.3881 - accuracy: 0.83 - ETA: 1s - loss: 0.3745 - accuracy: 0.84 - ETA: 1s - loss: 0.3624 - accuracy: 0.84 - ETA: 1s - loss: 0.3492 - accuracy: 0.85 - ETA: 1s - loss: 0.3382 - accuracy: 0.85 - ETA: 1s - loss: 0.3291 - accuracy: 0.86 - ETA: 1s - loss: 0.3211 - accuracy: 0.86 - ETA: 1s - loss: 0.3137 - accuracy: 0.87 - ETA: 1s - loss: 0.3066 - accuracy: 0.87 - ETA: 0s - loss: 0.3015 - accuracy: 0.87 - ETA: 0s - loss: 0.2960 - accuracy: 0.87 - ETA: 0s - loss: 0.2909 - accuracy: 0.88 - ETA: 0s - loss: 0.2846 - accuracy: 0.88 - ETA: 0s - loss: 0.2788 - accuracy: 0.88 - ETA: 0s - loss: 0.2744 - accuracy: 0.88 - ETA: 0s - loss: 0.2700 - accuracy: 0.89 - ETA: 0s - loss: 0.2667 - accuracy: 0.89 - ETA: 0s - loss: 0.2627 - accuracy: 0.89 - ETA: 0s - loss: 0.2594 - accuracy: 0.89 - ETA: 0s - loss: 0.2560 - accuracy: 0.89 - ETA: 0s - loss: 0.2525 - accuracy: 0.90 - 3s 37us/sample - loss: 0.2503 - accuracy: 0.9010 - val_loss: 0.1288 - val_accuracy: 0.9520\n",
      "Epoch 2/3\n",
      "69531/69531 [==============================] - ETA: 1s - loss: 0.1395 - accuracy: 0.96 - ETA: 1s - loss: 0.1601 - accuracy: 0.94 - ETA: 1s - loss: 0.1644 - accuracy: 0.94 - ETA: 1s - loss: 0.1592 - accuracy: 0.94 - ETA: 1s - loss: 0.1555 - accuracy: 0.94 - ETA: 1s - loss: 0.1520 - accuracy: 0.94 - ETA: 1s - loss: 0.1564 - accuracy: 0.94 - ETA: 1s - loss: 0.1535 - accuracy: 0.94 - ETA: 1s - loss: 0.1497 - accuracy: 0.94 - ETA: 1s - loss: 0.1488 - accuracy: 0.94 - ETA: 1s - loss: 0.1467 - accuracy: 0.94 - ETA: 1s - loss: 0.1473 - accuracy: 0.94 - ETA: 1s - loss: 0.1469 - accuracy: 0.94 - ETA: 1s - loss: 0.1466 - accuracy: 0.94 - ETA: 1s - loss: 0.1469 - accuracy: 0.94 - ETA: 0s - loss: 0.1495 - accuracy: 0.94 - ETA: 0s - loss: 0.1485 - accuracy: 0.94 - ETA: 0s - loss: 0.1489 - accuracy: 0.94 - ETA: 0s - loss: 0.1488 - accuracy: 0.94 - ETA: 0s - loss: 0.1481 - accuracy: 0.94 - ETA: 0s - loss: 0.1480 - accuracy: 0.94 - ETA: 0s - loss: 0.1477 - accuracy: 0.94 - ETA: 0s - loss: 0.1471 - accuracy: 0.95 - ETA: 0s - loss: 0.1470 - accuracy: 0.94 - ETA: 0s - loss: 0.1473 - accuracy: 0.94 - ETA: 0s - loss: 0.1469 - accuracy: 0.95 - ETA: 0s - loss: 0.1460 - accuracy: 0.95 - ETA: 0s - loss: 0.1457 - accuracy: 0.95 - ETA: 0s - loss: 0.1453 - accuracy: 0.95 - ETA: 0s - loss: 0.1454 - accuracy: 0.95 - ETA: 0s - loss: 0.1450 - accuracy: 0.95 - ETA: 0s - loss: 0.1445 - accuracy: 0.95 - ETA: 0s - loss: 0.1442 - accuracy: 0.95 - 2s 28us/sample - loss: 0.1442 - accuracy: 0.9504 - val_loss: 0.1209 - val_accuracy: 0.9553\n",
      "Epoch 3/3\n",
      "69531/69531 [==============================] - ETA: 2s - loss: 0.0995 - accuracy: 0.95 - ETA: 1s - loss: 0.1329 - accuracy: 0.95 - ETA: 1s - loss: 0.1392 - accuracy: 0.94 - ETA: 1s - loss: 0.1364 - accuracy: 0.95 - ETA: 1s - loss: 0.1341 - accuracy: 0.95 - ETA: 1s - loss: 0.1308 - accuracy: 0.95 - ETA: 1s - loss: 0.1323 - accuracy: 0.95 - ETA: 1s - loss: 0.1344 - accuracy: 0.95 - ETA: 1s - loss: 0.1338 - accuracy: 0.95 - ETA: 1s - loss: 0.1353 - accuracy: 0.95 - ETA: 1s - loss: 0.1355 - accuracy: 0.95 - ETA: 1s - loss: 0.1348 - accuracy: 0.95 - ETA: 1s - loss: 0.1356 - accuracy: 0.95 - ETA: 1s - loss: 0.1355 - accuracy: 0.95 - ETA: 0s - loss: 0.1359 - accuracy: 0.95 - ETA: 0s - loss: 0.1372 - accuracy: 0.95 - ETA: 0s - loss: 0.1367 - accuracy: 0.95 - ETA: 0s - loss: 0.1365 - accuracy: 0.95 - ETA: 0s - loss: 0.1360 - accuracy: 0.95 - ETA: 0s - loss: 0.1354 - accuracy: 0.95 - ETA: 0s - loss: 0.1342 - accuracy: 0.95 - ETA: 0s - loss: 0.1351 - accuracy: 0.95 - ETA: 0s - loss: 0.1352 - accuracy: 0.95 - ETA: 0s - loss: 0.1345 - accuracy: 0.95 - ETA: 0s - loss: 0.1353 - accuracy: 0.95 - ETA: 0s - loss: 0.1348 - accuracy: 0.95 - ETA: 0s - loss: 0.1347 - accuracy: 0.95 - ETA: 0s - loss: 0.1345 - accuracy: 0.95 - ETA: 0s - loss: 0.1344 - accuracy: 0.95 - ETA: 0s - loss: 0.1340 - accuracy: 0.95 - ETA: 0s - loss: 0.1349 - accuracy: 0.95 - ETA: 0s - loss: 0.1351 - accuracy: 0.95 - ETA: 0s - loss: 0.1346 - accuracy: 0.95 - 2s 27us/sample - loss: 0.1343 - accuracy: 0.9543 - val_loss: 0.1180 - val_accuracy: 0.9562\n"
     ]
    },
    {
     "data": {
      "text/html": [
       "<span style=\"color:#4527A0\"><h1 style=\"font-size:18px\">Trial complete</h1></span>"
      ],
      "text/plain": [
       "<IPython.core.display.HTML object>"
      ]
     },
     "metadata": {},
     "output_type": "display_data"
    },
    {
     "data": {
      "text/html": [
       "<span style=\"color:#4527A0\"><h1 style=\"font-size:18px\">Trial summary</h1></span>"
      ],
      "text/plain": [
       "<IPython.core.display.HTML object>"
      ]
     },
     "metadata": {},
     "output_type": "display_data"
    },
    {
     "data": {
      "text/html": [
       "<span style=\"color:cyan\"> |-Trial ID: 3f30c1eeeae168e04ebc994e62b5c14f</span>"
      ],
      "text/plain": [
       "<IPython.core.display.HTML object>"
      ]
     },
     "metadata": {},
     "output_type": "display_data"
    },
    {
     "data": {
      "text/html": [
       "<span style=\"color:cyan\"> |-Score: 0.9562497138977051</span>"
      ],
      "text/plain": [
       "<IPython.core.display.HTML object>"
      ]
     },
     "metadata": {},
     "output_type": "display_data"
    },
    {
     "data": {
      "text/html": [
       "<span style=\"color:cyan\"> |-Best step: 0</span>"
      ],
      "text/plain": [
       "<IPython.core.display.HTML object>"
      ]
     },
     "metadata": {},
     "output_type": "display_data"
    },
    {
     "data": {
      "text/html": [
       "<span style=\"color:#7E57C2\"><h2 style=\"font-size:16px\">Hyperparameters:</h2></span>"
      ],
      "text/plain": [
       "<IPython.core.display.HTML object>"
      ]
     },
     "metadata": {},
     "output_type": "display_data"
    },
    {
     "data": {
      "text/html": [
       "<span style=\"color:cyan\"> |-rate_1: 0.4000000000000001</span>"
      ],
      "text/plain": [
       "<IPython.core.display.HTML object>"
      ]
     },
     "metadata": {},
     "output_type": "display_data"
    },
    {
     "data": {
      "text/html": [
       "<span style=\"color:blue\"> |-rate_2: 0.4000000000000001</span>"
      ],
      "text/plain": [
       "<IPython.core.display.HTML object>"
      ]
     },
     "metadata": {},
     "output_type": "display_data"
    },
    {
     "data": {
      "text/html": [
       "<span style=\"color:cyan\"> |-tuner/bracket: 2</span>"
      ],
      "text/plain": [
       "<IPython.core.display.HTML object>"
      ]
     },
     "metadata": {},
     "output_type": "display_data"
    },
    {
     "data": {
      "text/html": [
       "<span style=\"color:blue\"> |-tuner/epochs: 3</span>"
      ],
      "text/plain": [
       "<IPython.core.display.HTML object>"
      ]
     },
     "metadata": {},
     "output_type": "display_data"
    },
    {
     "data": {
      "text/html": [
       "<span style=\"color:cyan\"> |-tuner/initial_epoch: 0</span>"
      ],
      "text/plain": [
       "<IPython.core.display.HTML object>"
      ]
     },
     "metadata": {},
     "output_type": "display_data"
    },
    {
     "data": {
      "text/html": [
       "<span style=\"color:blue\"> |-tuner/round: 0</span>"
      ],
      "text/plain": [
       "<IPython.core.display.HTML object>"
      ]
     },
     "metadata": {},
     "output_type": "display_data"
    },
    {
     "data": {
      "text/html": [
       "<span style=\"color:cyan\"> |-units_1: 42</span>"
      ],
      "text/plain": [
       "<IPython.core.display.HTML object>"
      ]
     },
     "metadata": {},
     "output_type": "display_data"
    },
    {
     "data": {
      "text/html": [
       "<span style=\"color:blue\"> |-units_2: 34</span>"
      ],
      "text/plain": [
       "<IPython.core.display.HTML object>"
      ]
     },
     "metadata": {},
     "output_type": "display_data"
    },
    {
     "name": "stdout",
     "output_type": "stream",
     "text": [
      "Train on 69531 samples, validate on 23177 samples\n",
      "Epoch 1/3\n",
      "69531/69531 [==============================] - ETA: 2:17 - loss: 0.6800 - accuracy: 0.56 - ETA: 16s - loss: 0.6346 - accuracy: 0.6528 - ETA: 9s - loss: 0.5934 - accuracy: 0.713 - ETA: 6s - loss: 0.5544 - accuracy: 0.75 - ETA: 5s - loss: 0.5193 - accuracy: 0.77 - ETA: 4s - loss: 0.4860 - accuracy: 0.80 - ETA: 3s - loss: 0.4586 - accuracy: 0.81 - ETA: 3s - loss: 0.4347 - accuracy: 0.82 - ETA: 2s - loss: 0.4148 - accuracy: 0.83 - ETA: 2s - loss: 0.3972 - accuracy: 0.84 - ETA: 2s - loss: 0.3802 - accuracy: 0.85 - ETA: 2s - loss: 0.3682 - accuracy: 0.85 - ETA: 2s - loss: 0.3566 - accuracy: 0.86 - ETA: 1s - loss: 0.3459 - accuracy: 0.86 - ETA: 1s - loss: 0.3344 - accuracy: 0.87 - ETA: 1s - loss: 0.3255 - accuracy: 0.87 - ETA: 1s - loss: 0.3156 - accuracy: 0.88 - ETA: 1s - loss: 0.3077 - accuracy: 0.88 - ETA: 1s - loss: 0.2987 - accuracy: 0.88 - ETA: 1s - loss: 0.2911 - accuracy: 0.89 - ETA: 1s - loss: 0.2837 - accuracy: 0.89 - ETA: 1s - loss: 0.2777 - accuracy: 0.89 - ETA: 0s - loss: 0.2718 - accuracy: 0.89 - ETA: 0s - loss: 0.2664 - accuracy: 0.90 - ETA: 0s - loss: 0.2613 - accuracy: 0.90 - ETA: 0s - loss: 0.2569 - accuracy: 0.90 - ETA: 0s - loss: 0.2525 - accuracy: 0.90 - ETA: 0s - loss: 0.2488 - accuracy: 0.90 - ETA: 0s - loss: 0.2459 - accuracy: 0.90 - ETA: 0s - loss: 0.2425 - accuracy: 0.91 - ETA: 0s - loss: 0.2398 - accuracy: 0.91 - ETA: 0s - loss: 0.2365 - accuracy: 0.91 - ETA: 0s - loss: 0.2340 - accuracy: 0.91 - ETA: 0s - loss: 0.2316 - accuracy: 0.91 - ETA: 0s - loss: 0.2286 - accuracy: 0.91 - 3s 38us/sample - loss: 0.2281 - accuracy: 0.9157 - val_loss: 0.1276 - val_accuracy: 0.9524\n",
      "Epoch 2/3\n",
      "69531/69531 [==============================] - ETA: 1s - loss: 0.1114 - accuracy: 0.95 - ETA: 1s - loss: 0.1300 - accuracy: 0.95 - ETA: 1s - loss: 0.1442 - accuracy: 0.95 - ETA: 1s - loss: 0.1517 - accuracy: 0.94 - ETA: 1s - loss: 0.1480 - accuracy: 0.94 - ETA: 1s - loss: 0.1487 - accuracy: 0.94 - ETA: 1s - loss: 0.1472 - accuracy: 0.94 - ETA: 1s - loss: 0.1441 - accuracy: 0.95 - ETA: 1s - loss: 0.1441 - accuracy: 0.95 - ETA: 1s - loss: 0.1445 - accuracy: 0.95 - ETA: 1s - loss: 0.1439 - accuracy: 0.95 - ETA: 1s - loss: 0.1418 - accuracy: 0.95 - ETA: 1s - loss: 0.1414 - accuracy: 0.95 - ETA: 1s - loss: 0.1403 - accuracy: 0.95 - ETA: 1s - loss: 0.1406 - accuracy: 0.95 - ETA: 0s - loss: 0.1400 - accuracy: 0.95 - ETA: 0s - loss: 0.1394 - accuracy: 0.95 - ETA: 0s - loss: 0.1389 - accuracy: 0.95 - ETA: 0s - loss: 0.1386 - accuracy: 0.95 - ETA: 0s - loss: 0.1380 - accuracy: 0.95 - ETA: 0s - loss: 0.1384 - accuracy: 0.95 - ETA: 0s - loss: 0.1382 - accuracy: 0.95 - ETA: 0s - loss: 0.1376 - accuracy: 0.95 - ETA: 0s - loss: 0.1372 - accuracy: 0.95 - ETA: 0s - loss: 0.1377 - accuracy: 0.95 - ETA: 0s - loss: 0.1378 - accuracy: 0.95 - ETA: 0s - loss: 0.1377 - accuracy: 0.95 - ETA: 0s - loss: 0.1375 - accuracy: 0.95 - ETA: 0s - loss: 0.1373 - accuracy: 0.95 - ETA: 0s - loss: 0.1372 - accuracy: 0.95 - ETA: 0s - loss: 0.1375 - accuracy: 0.95 - ETA: 0s - loss: 0.1370 - accuracy: 0.95 - ETA: 0s - loss: 0.1363 - accuracy: 0.95 - ETA: 0s - loss: 0.1361 - accuracy: 0.95 - 2s 29us/sample - loss: 0.1359 - accuracy: 0.9528 - val_loss: 0.1200 - val_accuracy: 0.9545\n",
      "Epoch 3/3\n",
      "69531/69531 [==============================] - ETA: 1s - loss: 0.1386 - accuracy: 0.94 - ETA: 1s - loss: 0.1331 - accuracy: 0.95 - ETA: 1s - loss: 0.1300 - accuracy: 0.95 - ETA: 1s - loss: 0.1277 - accuracy: 0.95 - ETA: 1s - loss: 0.1276 - accuracy: 0.95 - ETA: 1s - loss: 0.1251 - accuracy: 0.95 - ETA: 1s - loss: 0.1256 - accuracy: 0.95 - ETA: 1s - loss: 0.1237 - accuracy: 0.95 - ETA: 1s - loss: 0.1252 - accuracy: 0.95 - ETA: 1s - loss: 0.1240 - accuracy: 0.95 - ETA: 1s - loss: 0.1259 - accuracy: 0.95 - ETA: 1s - loss: 0.1260 - accuracy: 0.95 - ETA: 1s - loss: 0.1267 - accuracy: 0.95 - ETA: 1s - loss: 0.1256 - accuracy: 0.95 - ETA: 1s - loss: 0.1260 - accuracy: 0.95 - ETA: 1s - loss: 0.1270 - accuracy: 0.95 - ETA: 1s - loss: 0.1263 - accuracy: 0.95 - ETA: 0s - loss: 0.1253 - accuracy: 0.95 - ETA: 0s - loss: 0.1254 - accuracy: 0.95 - ETA: 0s - loss: 0.1252 - accuracy: 0.95 - ETA: 0s - loss: 0.1248 - accuracy: 0.95 - ETA: 0s - loss: 0.1251 - accuracy: 0.95 - ETA: 0s - loss: 0.1250 - accuracy: 0.95 - ETA: 0s - loss: 0.1255 - accuracy: 0.95 - ETA: 0s - loss: 0.1256 - accuracy: 0.95 - ETA: 0s - loss: 0.1259 - accuracy: 0.95 - ETA: 0s - loss: 0.1268 - accuracy: 0.95 - ETA: 0s - loss: 0.1270 - accuracy: 0.95 - ETA: 0s - loss: 0.1274 - accuracy: 0.95 - ETA: 0s - loss: 0.1275 - accuracy: 0.95 - ETA: 0s - loss: 0.1278 - accuracy: 0.95 - ETA: 0s - loss: 0.1276 - accuracy: 0.95 - ETA: 0s - loss: 0.1277 - accuracy: 0.95 - ETA: 0s - loss: 0.1275 - accuracy: 0.95 - ETA: 0s - loss: 0.1282 - accuracy: 0.95 - ETA: 0s - loss: 0.1279 - accuracy: 0.95 - 2s 30us/sample - loss: 0.1278 - accuracy: 0.9545 - val_loss: 0.1163 - val_accuracy: 0.9559\n"
     ]
    },
    {
     "data": {
      "text/html": [
       "<span style=\"color:#4527A0\"><h1 style=\"font-size:18px\">Trial complete</h1></span>"
      ],
      "text/plain": [
       "<IPython.core.display.HTML object>"
      ]
     },
     "metadata": {},
     "output_type": "display_data"
    },
    {
     "data": {
      "text/html": [
       "<span style=\"color:#4527A0\"><h1 style=\"font-size:18px\">Trial summary</h1></span>"
      ],
      "text/plain": [
       "<IPython.core.display.HTML object>"
      ]
     },
     "metadata": {},
     "output_type": "display_data"
    },
    {
     "data": {
      "text/html": [
       "<span style=\"color:cyan\"> |-Trial ID: a17024bb5508e73e01f2ad79cfe65c9a</span>"
      ],
      "text/plain": [
       "<IPython.core.display.HTML object>"
      ]
     },
     "metadata": {},
     "output_type": "display_data"
    },
    {
     "data": {
      "text/html": [
       "<span style=\"color:cyan\"> |-Score: 0.9558613896369934</span>"
      ],
      "text/plain": [
       "<IPython.core.display.HTML object>"
      ]
     },
     "metadata": {},
     "output_type": "display_data"
    },
    {
     "data": {
      "text/html": [
       "<span style=\"color:cyan\"> |-Best step: 0</span>"
      ],
      "text/plain": [
       "<IPython.core.display.HTML object>"
      ]
     },
     "metadata": {},
     "output_type": "display_data"
    },
    {
     "data": {
      "text/html": [
       "<span style=\"color:#7E57C2\"><h2 style=\"font-size:16px\">Hyperparameters:</h2></span>"
      ],
      "text/plain": [
       "<IPython.core.display.HTML object>"
      ]
     },
     "metadata": {},
     "output_type": "display_data"
    },
    {
     "data": {
      "text/html": [
       "<span style=\"color:cyan\"> |-rate_1: 0.30000000000000004</span>"
      ],
      "text/plain": [
       "<IPython.core.display.HTML object>"
      ]
     },
     "metadata": {},
     "output_type": "display_data"
    },
    {
     "data": {
      "text/html": [
       "<span style=\"color:blue\"> |-rate_2: 0.30000000000000004</span>"
      ],
      "text/plain": [
       "<IPython.core.display.HTML object>"
      ]
     },
     "metadata": {},
     "output_type": "display_data"
    },
    {
     "data": {
      "text/html": [
       "<span style=\"color:cyan\"> |-tuner/bracket: 2</span>"
      ],
      "text/plain": [
       "<IPython.core.display.HTML object>"
      ]
     },
     "metadata": {},
     "output_type": "display_data"
    },
    {
     "data": {
      "text/html": [
       "<span style=\"color:blue\"> |-tuner/epochs: 3</span>"
      ],
      "text/plain": [
       "<IPython.core.display.HTML object>"
      ]
     },
     "metadata": {},
     "output_type": "display_data"
    },
    {
     "data": {
      "text/html": [
       "<span style=\"color:cyan\"> |-tuner/initial_epoch: 0</span>"
      ],
      "text/plain": [
       "<IPython.core.display.HTML object>"
      ]
     },
     "metadata": {},
     "output_type": "display_data"
    },
    {
     "data": {
      "text/html": [
       "<span style=\"color:blue\"> |-tuner/round: 0</span>"
      ],
      "text/plain": [
       "<IPython.core.display.HTML object>"
      ]
     },
     "metadata": {},
     "output_type": "display_data"
    },
    {
     "data": {
      "text/html": [
       "<span style=\"color:cyan\"> |-units_1: 46</span>"
      ],
      "text/plain": [
       "<IPython.core.display.HTML object>"
      ]
     },
     "metadata": {},
     "output_type": "display_data"
    },
    {
     "data": {
      "text/html": [
       "<span style=\"color:blue\"> |-units_2: 38</span>"
      ],
      "text/plain": [
       "<IPython.core.display.HTML object>"
      ]
     },
     "metadata": {},
     "output_type": "display_data"
    },
    {
     "name": "stdout",
     "output_type": "stream",
     "text": [
      "Train on 69531 samples, validate on 23177 samples\n",
      "Epoch 1/3\n",
      "69531/69531 [==============================] - ETA: 2:21 - loss: 0.6791 - accuracy: 0.52 - ETA: 16s - loss: 0.6288 - accuracy: 0.6011 - ETA: 9s - loss: 0.5953 - accuracy: 0.654 - ETA: 6s - loss: 0.5632 - accuracy: 0.69 - ETA: 5s - loss: 0.5314 - accuracy: 0.73 - ETA: 4s - loss: 0.5034 - accuracy: 0.75 - ETA: 3s - loss: 0.4769 - accuracy: 0.77 - ETA: 3s - loss: 0.4530 - accuracy: 0.79 - ETA: 3s - loss: 0.4325 - accuracy: 0.80 - ETA: 2s - loss: 0.4105 - accuracy: 0.81 - ETA: 2s - loss: 0.3992 - accuracy: 0.82 - ETA: 2s - loss: 0.3824 - accuracy: 0.83 - ETA: 2s - loss: 0.3675 - accuracy: 0.84 - ETA: 2s - loss: 0.3537 - accuracy: 0.84 - ETA: 1s - loss: 0.3405 - accuracy: 0.85 - ETA: 1s - loss: 0.3301 - accuracy: 0.86 - ETA: 1s - loss: 0.3201 - accuracy: 0.86 - ETA: 1s - loss: 0.3103 - accuracy: 0.87 - ETA: 1s - loss: 0.3017 - accuracy: 0.87 - ETA: 1s - loss: 0.2937 - accuracy: 0.87 - ETA: 1s - loss: 0.2871 - accuracy: 0.88 - ETA: 1s - loss: 0.2810 - accuracy: 0.88 - ETA: 0s - loss: 0.2754 - accuracy: 0.88 - ETA: 0s - loss: 0.2694 - accuracy: 0.88 - ETA: 0s - loss: 0.2636 - accuracy: 0.89 - ETA: 0s - loss: 0.2585 - accuracy: 0.89 - ETA: 0s - loss: 0.2545 - accuracy: 0.89 - ETA: 0s - loss: 0.2502 - accuracy: 0.89 - ETA: 0s - loss: 0.2465 - accuracy: 0.89 - ETA: 0s - loss: 0.2431 - accuracy: 0.90 - ETA: 0s - loss: 0.2394 - accuracy: 0.90 - ETA: 0s - loss: 0.2365 - accuracy: 0.90 - ETA: 0s - loss: 0.2337 - accuracy: 0.90 - ETA: 0s - loss: 0.2309 - accuracy: 0.90 - ETA: 0s - loss: 0.2282 - accuracy: 0.90 - 3s 38us/sample - loss: 0.2279 - accuracy: 0.9088 - val_loss: 0.1261 - val_accuracy: 0.9527\n",
      "Epoch 2/3\n",
      "69531/69531 [==============================] - ETA: 1s - loss: 0.1305 - accuracy: 0.94 - ETA: 1s - loss: 0.1387 - accuracy: 0.94 - ETA: 1s - loss: 0.1328 - accuracy: 0.95 - ETA: 1s - loss: 0.1338 - accuracy: 0.95 - ETA: 1s - loss: 0.1351 - accuracy: 0.95 - ETA: 1s - loss: 0.1387 - accuracy: 0.95 - ETA: 1s - loss: 0.1376 - accuracy: 0.95 - ETA: 1s - loss: 0.1381 - accuracy: 0.95 - ETA: 1s - loss: 0.1392 - accuracy: 0.95 - ETA: 1s - loss: 0.1375 - accuracy: 0.95 - ETA: 1s - loss: 0.1364 - accuracy: 0.95 - ETA: 1s - loss: 0.1353 - accuracy: 0.95 - ETA: 1s - loss: 0.1365 - accuracy: 0.95 - ETA: 1s - loss: 0.1350 - accuracy: 0.95 - ETA: 0s - loss: 0.1356 - accuracy: 0.95 - ETA: 0s - loss: 0.1354 - accuracy: 0.95 - ETA: 0s - loss: 0.1353 - accuracy: 0.95 - ETA: 0s - loss: 0.1354 - accuracy: 0.95 - ETA: 0s - loss: 0.1350 - accuracy: 0.95 - ETA: 0s - loss: 0.1334 - accuracy: 0.95 - ETA: 0s - loss: 0.1339 - accuracy: 0.95 - ETA: 0s - loss: 0.1336 - accuracy: 0.95 - ETA: 0s - loss: 0.1335 - accuracy: 0.95 - ETA: 0s - loss: 0.1343 - accuracy: 0.95 - ETA: 0s - loss: 0.1340 - accuracy: 0.95 - ETA: 0s - loss: 0.1339 - accuracy: 0.95 - ETA: 0s - loss: 0.1333 - accuracy: 0.95 - ETA: 0s - loss: 0.1331 - accuracy: 0.95 - ETA: 0s - loss: 0.1333 - accuracy: 0.95 - ETA: 0s - loss: 0.1336 - accuracy: 0.95 - ETA: 0s - loss: 0.1334 - accuracy: 0.95 - ETA: 0s - loss: 0.1334 - accuracy: 0.95 - ETA: 0s - loss: 0.1331 - accuracy: 0.95 - 2s 28us/sample - loss: 0.1328 - accuracy: 0.9522 - val_loss: 0.1180 - val_accuracy: 0.9558\n",
      "Epoch 3/3\n",
      "69531/69531 [==============================] - ETA: 1s - loss: 0.1034 - accuracy: 0.96 - ETA: 1s - loss: 0.1251 - accuracy: 0.95 - ETA: 1s - loss: 0.1254 - accuracy: 0.95 - ETA: 1s - loss: 0.1254 - accuracy: 0.95 - ETA: 1s - loss: 0.1274 - accuracy: 0.95 - ETA: 1s - loss: 0.1295 - accuracy: 0.95 - ETA: 1s - loss: 0.1269 - accuracy: 0.95 - ETA: 1s - loss: 0.1266 - accuracy: 0.95 - ETA: 1s - loss: 0.1250 - accuracy: 0.95 - ETA: 1s - loss: 0.1261 - accuracy: 0.95 - ETA: 1s - loss: 0.1235 - accuracy: 0.95 - ETA: 1s - loss: 0.1228 - accuracy: 0.95 - ETA: 1s - loss: 0.1229 - accuracy: 0.95 - ETA: 1s - loss: 0.1224 - accuracy: 0.95 - ETA: 1s - loss: 0.1247 - accuracy: 0.95 - ETA: 0s - loss: 0.1259 - accuracy: 0.95 - ETA: 0s - loss: 0.1260 - accuracy: 0.95 - ETA: 0s - loss: 0.1256 - accuracy: 0.95 - ETA: 0s - loss: 0.1253 - accuracy: 0.95 - ETA: 0s - loss: 0.1256 - accuracy: 0.95 - ETA: 0s - loss: 0.1250 - accuracy: 0.95 - ETA: 0s - loss: 0.1250 - accuracy: 0.95 - ETA: 0s - loss: 0.1244 - accuracy: 0.95 - ETA: 0s - loss: 0.1241 - accuracy: 0.95 - ETA: 0s - loss: 0.1241 - accuracy: 0.95 - ETA: 0s - loss: 0.1240 - accuracy: 0.95 - ETA: 0s - loss: 0.1241 - accuracy: 0.95 - ETA: 0s - loss: 0.1241 - accuracy: 0.95 - ETA: 0s - loss: 0.1247 - accuracy: 0.95 - ETA: 0s - loss: 0.1243 - accuracy: 0.95 - ETA: 0s - loss: 0.1242 - accuracy: 0.95 - ETA: 0s - loss: 0.1241 - accuracy: 0.95 - ETA: 0s - loss: 0.1237 - accuracy: 0.95 - ETA: 0s - loss: 0.1241 - accuracy: 0.95 - ETA: 0s - loss: 0.1241 - accuracy: 0.95 - 2s 29us/sample - loss: 0.1241 - accuracy: 0.9556 - val_loss: 0.1161 - val_accuracy: 0.9574\n"
     ]
    },
    {
     "data": {
      "text/html": [
       "<span style=\"color:#4527A0\"><h1 style=\"font-size:18px\">Trial complete</h1></span>"
      ],
      "text/plain": [
       "<IPython.core.display.HTML object>"
      ]
     },
     "metadata": {},
     "output_type": "display_data"
    },
    {
     "data": {
      "text/html": [
       "<span style=\"color:#4527A0\"><h1 style=\"font-size:18px\">Trial summary</h1></span>"
      ],
      "text/plain": [
       "<IPython.core.display.HTML object>"
      ]
     },
     "metadata": {},
     "output_type": "display_data"
    },
    {
     "data": {
      "text/html": [
       "<span style=\"color:cyan\"> |-Trial ID: c776a5a5d3730a87601372ecc9abbfa2</span>"
      ],
      "text/plain": [
       "<IPython.core.display.HTML object>"
      ]
     },
     "metadata": {},
     "output_type": "display_data"
    },
    {
     "data": {
      "text/html": [
       "<span style=\"color:cyan\"> |-Score: 0.9574146866798401</span>"
      ],
      "text/plain": [
       "<IPython.core.display.HTML object>"
      ]
     },
     "metadata": {},
     "output_type": "display_data"
    },
    {
     "data": {
      "text/html": [
       "<span style=\"color:cyan\"> |-Best step: 0</span>"
      ],
      "text/plain": [
       "<IPython.core.display.HTML object>"
      ]
     },
     "metadata": {},
     "output_type": "display_data"
    },
    {
     "data": {
      "text/html": [
       "<span style=\"color:#7E57C2\"><h2 style=\"font-size:16px\">Hyperparameters:</h2></span>"
      ],
      "text/plain": [
       "<IPython.core.display.HTML object>"
      ]
     },
     "metadata": {},
     "output_type": "display_data"
    },
    {
     "data": {
      "text/html": [
       "<span style=\"color:cyan\"> |-rate_1: 0.2</span>"
      ],
      "text/plain": [
       "<IPython.core.display.HTML object>"
      ]
     },
     "metadata": {},
     "output_type": "display_data"
    },
    {
     "data": {
      "text/html": [
       "<span style=\"color:blue\"> |-rate_2: 0.30000000000000004</span>"
      ],
      "text/plain": [
       "<IPython.core.display.HTML object>"
      ]
     },
     "metadata": {},
     "output_type": "display_data"
    },
    {
     "data": {
      "text/html": [
       "<span style=\"color:cyan\"> |-tuner/bracket: 2</span>"
      ],
      "text/plain": [
       "<IPython.core.display.HTML object>"
      ]
     },
     "metadata": {},
     "output_type": "display_data"
    },
    {
     "data": {
      "text/html": [
       "<span style=\"color:blue\"> |-tuner/epochs: 3</span>"
      ],
      "text/plain": [
       "<IPython.core.display.HTML object>"
      ]
     },
     "metadata": {},
     "output_type": "display_data"
    },
    {
     "data": {
      "text/html": [
       "<span style=\"color:cyan\"> |-tuner/initial_epoch: 0</span>"
      ],
      "text/plain": [
       "<IPython.core.display.HTML object>"
      ]
     },
     "metadata": {},
     "output_type": "display_data"
    },
    {
     "data": {
      "text/html": [
       "<span style=\"color:blue\"> |-tuner/round: 0</span>"
      ],
      "text/plain": [
       "<IPython.core.display.HTML object>"
      ]
     },
     "metadata": {},
     "output_type": "display_data"
    },
    {
     "data": {
      "text/html": [
       "<span style=\"color:cyan\"> |-units_1: 46</span>"
      ],
      "text/plain": [
       "<IPython.core.display.HTML object>"
      ]
     },
     "metadata": {},
     "output_type": "display_data"
    },
    {
     "data": {
      "text/html": [
       "<span style=\"color:blue\"> |-units_2: 36</span>"
      ],
      "text/plain": [
       "<IPython.core.display.HTML object>"
      ]
     },
     "metadata": {},
     "output_type": "display_data"
    },
    {
     "name": "stdout",
     "output_type": "stream",
     "text": [
      "Train on 69531 samples, validate on 23177 samples\n",
      "Epoch 1/3\n",
      "69531/69531 [==============================] - ETA: 2:15 - loss: 0.6424 - accuracy: 0.62 - ETA: 16s - loss: 0.5937 - accuracy: 0.6584 - ETA: 9s - loss: 0.5442 - accuracy: 0.729 - ETA: 6s - loss: 0.5047 - accuracy: 0.77 - ETA: 5s - loss: 0.4676 - accuracy: 0.80 - ETA: 4s - loss: 0.4427 - accuracy: 0.81 - ETA: 3s - loss: 0.4133 - accuracy: 0.83 - ETA: 3s - loss: 0.3931 - accuracy: 0.84 - ETA: 3s - loss: 0.3737 - accuracy: 0.85 - ETA: 2s - loss: 0.3559 - accuracy: 0.86 - ETA: 2s - loss: 0.3430 - accuracy: 0.86 - ETA: 2s - loss: 0.3309 - accuracy: 0.87 - ETA: 2s - loss: 0.3194 - accuracy: 0.87 - ETA: 2s - loss: 0.3077 - accuracy: 0.88 - ETA: 2s - loss: 0.2987 - accuracy: 0.88 - ETA: 1s - loss: 0.2897 - accuracy: 0.89 - ETA: 1s - loss: 0.2813 - accuracy: 0.89 - ETA: 1s - loss: 0.2729 - accuracy: 0.89 - ETA: 1s - loss: 0.2660 - accuracy: 0.89 - ETA: 1s - loss: 0.2598 - accuracy: 0.90 - ETA: 1s - loss: 0.2541 - accuracy: 0.90 - ETA: 1s - loss: 0.2480 - accuracy: 0.90 - ETA: 1s - loss: 0.2434 - accuracy: 0.90 - ETA: 1s - loss: 0.2389 - accuracy: 0.91 - ETA: 0s - loss: 0.2366 - accuracy: 0.91 - ETA: 0s - loss: 0.2342 - accuracy: 0.91 - ETA: 0s - loss: 0.2305 - accuracy: 0.91 - ETA: 0s - loss: 0.2270 - accuracy: 0.91 - ETA: 0s - loss: 0.2235 - accuracy: 0.91 - ETA: 0s - loss: 0.2207 - accuracy: 0.91 - ETA: 0s - loss: 0.2175 - accuracy: 0.91 - ETA: 0s - loss: 0.2149 - accuracy: 0.92 - ETA: 0s - loss: 0.2129 - accuracy: 0.92 - ETA: 0s - loss: 0.2105 - accuracy: 0.92 - ETA: 0s - loss: 0.2079 - accuracy: 0.92 - ETA: 0s - loss: 0.2056 - accuracy: 0.92 - ETA: 0s - loss: 0.2045 - accuracy: 0.92 - 3s 40us/sample - loss: 0.2037 - accuracy: 0.9247 - val_loss: 0.1250 - val_accuracy: 0.9532\n",
      "Epoch 2/3\n",
      "69531/69531 [==============================] - ETA: 2s - loss: 0.1251 - accuracy: 0.96 - ETA: 2s - loss: 0.1381 - accuracy: 0.95 - ETA: 1s - loss: 0.1294 - accuracy: 0.95 - ETA: 1s - loss: 0.1285 - accuracy: 0.95 - ETA: 1s - loss: 0.1317 - accuracy: 0.95 - ETA: 1s - loss: 0.1294 - accuracy: 0.95 - ETA: 1s - loss: 0.1302 - accuracy: 0.95 - ETA: 1s - loss: 0.1316 - accuracy: 0.95 - ETA: 1s - loss: 0.1349 - accuracy: 0.95 - ETA: 1s - loss: 0.1349 - accuracy: 0.95 - ETA: 1s - loss: 0.1345 - accuracy: 0.95 - ETA: 1s - loss: 0.1335 - accuracy: 0.95 - ETA: 1s - loss: 0.1336 - accuracy: 0.95 - ETA: 1s - loss: 0.1337 - accuracy: 0.95 - ETA: 1s - loss: 0.1323 - accuracy: 0.95 - ETA: 1s - loss: 0.1323 - accuracy: 0.95 - ETA: 1s - loss: 0.1319 - accuracy: 0.95 - ETA: 0s - loss: 0.1317 - accuracy: 0.95 - ETA: 0s - loss: 0.1317 - accuracy: 0.95 - ETA: 0s - loss: 0.1320 - accuracy: 0.95 - ETA: 0s - loss: 0.1326 - accuracy: 0.95 - ETA: 0s - loss: 0.1329 - accuracy: 0.95 - ETA: 0s - loss: 0.1317 - accuracy: 0.95 - ETA: 0s - loss: 0.1318 - accuracy: 0.95 - ETA: 0s - loss: 0.1314 - accuracy: 0.95 - ETA: 0s - loss: 0.1310 - accuracy: 0.95 - ETA: 0s - loss: 0.1306 - accuracy: 0.95 - ETA: 0s - loss: 0.1308 - accuracy: 0.95 - ETA: 0s - loss: 0.1311 - accuracy: 0.95 - ETA: 0s - loss: 0.1308 - accuracy: 0.95 - ETA: 0s - loss: 0.1303 - accuracy: 0.95 - ETA: 0s - loss: 0.1300 - accuracy: 0.95 - ETA: 0s - loss: 0.1303 - accuracy: 0.95 - ETA: 0s - loss: 0.1307 - accuracy: 0.95 - ETA: 0s - loss: 0.1303 - accuracy: 0.95 - ETA: 0s - loss: 0.1302 - accuracy: 0.95 - 2s 30us/sample - loss: 0.1302 - accuracy: 0.9528 - val_loss: 0.1180 - val_accuracy: 0.9564\n",
      "Epoch 3/3\n",
      "69531/69531 [==============================] - ETA: 2s - loss: 0.1774 - accuracy: 0.93 - ETA: 1s - loss: 0.1233 - accuracy: 0.95 - ETA: 1s - loss: 0.1316 - accuracy: 0.95 - ETA: 1s - loss: 0.1259 - accuracy: 0.95 - ETA: 1s - loss: 0.1240 - accuracy: 0.95 - ETA: 1s - loss: 0.1221 - accuracy: 0.95 - ETA: 1s - loss: 0.1256 - accuracy: 0.95 - ETA: 1s - loss: 0.1238 - accuracy: 0.95 - ETA: 1s - loss: 0.1244 - accuracy: 0.95 - ETA: 1s - loss: 0.1256 - accuracy: 0.95 - ETA: 1s - loss: 0.1268 - accuracy: 0.95 - ETA: 1s - loss: 0.1275 - accuracy: 0.95 - ETA: 1s - loss: 0.1275 - accuracy: 0.95 - ETA: 1s - loss: 0.1266 - accuracy: 0.95 - ETA: 1s - loss: 0.1263 - accuracy: 0.95 - ETA: 1s - loss: 0.1260 - accuracy: 0.95 - ETA: 0s - loss: 0.1273 - accuracy: 0.95 - ETA: 0s - loss: 0.1276 - accuracy: 0.95 - ETA: 0s - loss: 0.1267 - accuracy: 0.95 - ETA: 0s - loss: 0.1261 - accuracy: 0.95 - ETA: 0s - loss: 0.1258 - accuracy: 0.95 - ETA: 0s - loss: 0.1251 - accuracy: 0.95 - ETA: 0s - loss: 0.1245 - accuracy: 0.95 - ETA: 0s - loss: 0.1241 - accuracy: 0.95 - ETA: 0s - loss: 0.1234 - accuracy: 0.95 - ETA: 0s - loss: 0.1238 - accuracy: 0.95 - ETA: 0s - loss: 0.1231 - accuracy: 0.95 - ETA: 0s - loss: 0.1229 - accuracy: 0.95 - ETA: 0s - loss: 0.1233 - accuracy: 0.95 - ETA: 0s - loss: 0.1235 - accuracy: 0.95 - ETA: 0s - loss: 0.1230 - accuracy: 0.95 - ETA: 0s - loss: 0.1229 - accuracy: 0.95 - ETA: 0s - loss: 0.1232 - accuracy: 0.95 - ETA: 0s - loss: 0.1232 - accuracy: 0.95 - ETA: 0s - loss: 0.1240 - accuracy: 0.95 - 2s 30us/sample - loss: 0.1241 - accuracy: 0.9553 - val_loss: 0.1145 - val_accuracy: 0.9576\n"
     ]
    },
    {
     "data": {
      "text/html": [
       "<span style=\"color:#4527A0\"><h1 style=\"font-size:18px\">Trial complete</h1></span>"
      ],
      "text/plain": [
       "<IPython.core.display.HTML object>"
      ]
     },
     "metadata": {},
     "output_type": "display_data"
    },
    {
     "data": {
      "text/html": [
       "<span style=\"color:#4527A0\"><h1 style=\"font-size:18px\">Trial summary</h1></span>"
      ],
      "text/plain": [
       "<IPython.core.display.HTML object>"
      ]
     },
     "metadata": {},
     "output_type": "display_data"
    },
    {
     "data": {
      "text/html": [
       "<span style=\"color:cyan\"> |-Trial ID: cd9321cb8decda7999feefeec381f65a</span>"
      ],
      "text/plain": [
       "<IPython.core.display.HTML object>"
      ]
     },
     "metadata": {},
     "output_type": "display_data"
    },
    {
     "data": {
      "text/html": [
       "<span style=\"color:cyan\"> |-Score: 0.9575872421264648</span>"
      ],
      "text/plain": [
       "<IPython.core.display.HTML object>"
      ]
     },
     "metadata": {},
     "output_type": "display_data"
    },
    {
     "data": {
      "text/html": [
       "<span style=\"color:cyan\"> |-Best step: 0</span>"
      ],
      "text/plain": [
       "<IPython.core.display.HTML object>"
      ]
     },
     "metadata": {},
     "output_type": "display_data"
    },
    {
     "data": {
      "text/html": [
       "<span style=\"color:#7E57C2\"><h2 style=\"font-size:16px\">Hyperparameters:</h2></span>"
      ],
      "text/plain": [
       "<IPython.core.display.HTML object>"
      ]
     },
     "metadata": {},
     "output_type": "display_data"
    },
    {
     "data": {
      "text/html": [
       "<span style=\"color:cyan\"> |-rate_1: 0.30000000000000004</span>"
      ],
      "text/plain": [
       "<IPython.core.display.HTML object>"
      ]
     },
     "metadata": {},
     "output_type": "display_data"
    },
    {
     "data": {
      "text/html": [
       "<span style=\"color:blue\"> |-rate_2: 0.2</span>"
      ],
      "text/plain": [
       "<IPython.core.display.HTML object>"
      ]
     },
     "metadata": {},
     "output_type": "display_data"
    },
    {
     "data": {
      "text/html": [
       "<span style=\"color:cyan\"> |-tuner/bracket: 2</span>"
      ],
      "text/plain": [
       "<IPython.core.display.HTML object>"
      ]
     },
     "metadata": {},
     "output_type": "display_data"
    },
    {
     "data": {
      "text/html": [
       "<span style=\"color:blue\"> |-tuner/epochs: 3</span>"
      ],
      "text/plain": [
       "<IPython.core.display.HTML object>"
      ]
     },
     "metadata": {},
     "output_type": "display_data"
    },
    {
     "data": {
      "text/html": [
       "<span style=\"color:cyan\"> |-tuner/initial_epoch: 0</span>"
      ],
      "text/plain": [
       "<IPython.core.display.HTML object>"
      ]
     },
     "metadata": {},
     "output_type": "display_data"
    },
    {
     "data": {
      "text/html": [
       "<span style=\"color:blue\"> |-tuner/round: 0</span>"
      ],
      "text/plain": [
       "<IPython.core.display.HTML object>"
      ]
     },
     "metadata": {},
     "output_type": "display_data"
    },
    {
     "data": {
      "text/html": [
       "<span style=\"color:cyan\"> |-units_1: 56</span>"
      ],
      "text/plain": [
       "<IPython.core.display.HTML object>"
      ]
     },
     "metadata": {},
     "output_type": "display_data"
    },
    {
     "data": {
      "text/html": [
       "<span style=\"color:blue\"> |-units_2: 42</span>"
      ],
      "text/plain": [
       "<IPython.core.display.HTML object>"
      ]
     },
     "metadata": {},
     "output_type": "display_data"
    },
    {
     "name": "stdout",
     "output_type": "stream",
     "text": [
      "Train on 69531 samples, validate on 23177 samples\n",
      "Epoch 1/3\n",
      "69531/69531 [==============================] - ETA: 2:25 - loss: 0.7522 - accuracy: 0.45 - ETA: 19s - loss: 0.6959 - accuracy: 0.5625 - ETA: 10s - loss: 0.6456 - accuracy: 0.636 - ETA: 7s - loss: 0.6067 - accuracy: 0.689 - ETA: 6s - loss: 0.5705 - accuracy: 0.72 - ETA: 5s - loss: 0.5362 - accuracy: 0.75 - ETA: 4s - loss: 0.5082 - accuracy: 0.77 - ETA: 4s - loss: 0.4804 - accuracy: 0.79 - ETA: 3s - loss: 0.4564 - accuracy: 0.80 - ETA: 3s - loss: 0.4316 - accuracy: 0.82 - ETA: 2s - loss: 0.4094 - accuracy: 0.83 - ETA: 2s - loss: 0.3934 - accuracy: 0.83 - ETA: 2s - loss: 0.3804 - accuracy: 0.84 - ETA: 2s - loss: 0.3674 - accuracy: 0.85 - ETA: 2s - loss: 0.3565 - accuracy: 0.85 - ETA: 2s - loss: 0.3445 - accuracy: 0.86 - ETA: 1s - loss: 0.3352 - accuracy: 0.86 - ETA: 1s - loss: 0.3236 - accuracy: 0.87 - ETA: 1s - loss: 0.3159 - accuracy: 0.87 - ETA: 1s - loss: 0.3094 - accuracy: 0.87 - ETA: 1s - loss: 0.3028 - accuracy: 0.88 - ETA: 1s - loss: 0.2968 - accuracy: 0.88 - ETA: 1s - loss: 0.2907 - accuracy: 0.88 - ETA: 1s - loss: 0.2839 - accuracy: 0.88 - ETA: 1s - loss: 0.2785 - accuracy: 0.89 - ETA: 0s - loss: 0.2740 - accuracy: 0.89 - ETA: 0s - loss: 0.2690 - accuracy: 0.89 - ETA: 0s - loss: 0.2650 - accuracy: 0.89 - ETA: 0s - loss: 0.2601 - accuracy: 0.89 - ETA: 0s - loss: 0.2569 - accuracy: 0.90 - ETA: 0s - loss: 0.2536 - accuracy: 0.90 - ETA: 0s - loss: 0.2509 - accuracy: 0.90 - ETA: 0s - loss: 0.2478 - accuracy: 0.90 - ETA: 0s - loss: 0.2454 - accuracy: 0.90 - ETA: 0s - loss: 0.2419 - accuracy: 0.90 - ETA: 0s - loss: 0.2393 - accuracy: 0.90 - ETA: 0s - loss: 0.2369 - accuracy: 0.90 - ETA: 0s - loss: 0.2346 - accuracy: 0.91 - 3s 41us/sample - loss: 0.2343 - accuracy: 0.9104 - val_loss: 0.1264 - val_accuracy: 0.9534\n",
      "Epoch 2/3\n",
      "69531/69531 [==============================] - ETA: 2s - loss: 0.1584 - accuracy: 0.94 - ETA: 1s - loss: 0.1668 - accuracy: 0.94 - ETA: 1s - loss: 0.1600 - accuracy: 0.94 - ETA: 1s - loss: 0.1580 - accuracy: 0.94 - ETA: 1s - loss: 0.1561 - accuracy: 0.94 - ETA: 1s - loss: 0.1515 - accuracy: 0.94 - ETA: 1s - loss: 0.1505 - accuracy: 0.94 - ETA: 1s - loss: 0.1477 - accuracy: 0.94 - ETA: 1s - loss: 0.1457 - accuracy: 0.95 - ETA: 1s - loss: 0.1446 - accuracy: 0.95 - ETA: 1s - loss: 0.1448 - accuracy: 0.95 - ETA: 1s - loss: 0.1472 - accuracy: 0.94 - ETA: 1s - loss: 0.1457 - accuracy: 0.95 - ETA: 1s - loss: 0.1446 - accuracy: 0.95 - ETA: 1s - loss: 0.1449 - accuracy: 0.95 - ETA: 1s - loss: 0.1439 - accuracy: 0.95 - ETA: 1s - loss: 0.1437 - accuracy: 0.95 - ETA: 1s - loss: 0.1431 - accuracy: 0.95 - ETA: 0s - loss: 0.1429 - accuracy: 0.95 - ETA: 0s - loss: 0.1439 - accuracy: 0.95 - ETA: 0s - loss: 0.1434 - accuracy: 0.95 - ETA: 0s - loss: 0.1425 - accuracy: 0.95 - ETA: 0s - loss: 0.1429 - accuracy: 0.95 - ETA: 0s - loss: 0.1420 - accuracy: 0.95 - ETA: 0s - loss: 0.1419 - accuracy: 0.95 - ETA: 0s - loss: 0.1410 - accuracy: 0.95 - ETA: 0s - loss: 0.1402 - accuracy: 0.95 - ETA: 0s - loss: 0.1402 - accuracy: 0.95 - ETA: 0s - loss: 0.1397 - accuracy: 0.95 - ETA: 0s - loss: 0.1396 - accuracy: 0.95 - ETA: 0s - loss: 0.1388 - accuracy: 0.95 - ETA: 0s - loss: 0.1386 - accuracy: 0.95 - ETA: 0s - loss: 0.1383 - accuracy: 0.95 - ETA: 0s - loss: 0.1380 - accuracy: 0.95 - ETA: 0s - loss: 0.1379 - accuracy: 0.95 - ETA: 0s - loss: 0.1380 - accuracy: 0.95 - 2s 30us/sample - loss: 0.1376 - accuracy: 0.9512 - val_loss: 0.1185 - val_accuracy: 0.9559\n",
      "Epoch 3/3\n",
      "69531/69531 [==============================] - ETA: 1s - loss: 0.1310 - accuracy: 0.94 - ETA: 1s - loss: 0.1288 - accuracy: 0.95 - ETA: 1s - loss: 0.1267 - accuracy: 0.95 - ETA: 1s - loss: 0.1320 - accuracy: 0.95 - ETA: 1s - loss: 0.1314 - accuracy: 0.95 - ETA: 1s - loss: 0.1330 - accuracy: 0.95 - ETA: 1s - loss: 0.1289 - accuracy: 0.95 - ETA: 1s - loss: 0.1286 - accuracy: 0.95 - ETA: 1s - loss: 0.1300 - accuracy: 0.95 - ETA: 1s - loss: 0.1301 - accuracy: 0.95 - ETA: 1s - loss: 0.1294 - accuracy: 0.95 - ETA: 1s - loss: 0.1294 - accuracy: 0.95 - ETA: 1s - loss: 0.1275 - accuracy: 0.95 - ETA: 1s - loss: 0.1283 - accuracy: 0.95 - ETA: 1s - loss: 0.1286 - accuracy: 0.95 - ETA: 1s - loss: 0.1280 - accuracy: 0.95 - ETA: 1s - loss: 0.1285 - accuracy: 0.95 - ETA: 0s - loss: 0.1284 - accuracy: 0.95 - ETA: 0s - loss: 0.1294 - accuracy: 0.95 - ETA: 0s - loss: 0.1280 - accuracy: 0.95 - ETA: 0s - loss: 0.1277 - accuracy: 0.95 - ETA: 0s - loss: 0.1285 - accuracy: 0.95 - ETA: 0s - loss: 0.1288 - accuracy: 0.95 - ETA: 0s - loss: 0.1289 - accuracy: 0.95 - ETA: 0s - loss: 0.1284 - accuracy: 0.95 - ETA: 0s - loss: 0.1285 - accuracy: 0.95 - ETA: 0s - loss: 0.1281 - accuracy: 0.95 - ETA: 0s - loss: 0.1280 - accuracy: 0.95 - ETA: 0s - loss: 0.1282 - accuracy: 0.95 - ETA: 0s - loss: 0.1280 - accuracy: 0.95 - ETA: 0s - loss: 0.1277 - accuracy: 0.95 - ETA: 0s - loss: 0.1278 - accuracy: 0.95 - ETA: 0s - loss: 0.1279 - accuracy: 0.95 - ETA: 0s - loss: 0.1279 - accuracy: 0.95 - ETA: 0s - loss: 0.1283 - accuracy: 0.95 - 2s 30us/sample - loss: 0.1283 - accuracy: 0.9547 - val_loss: 0.1163 - val_accuracy: 0.9572\n"
     ]
    },
    {
     "data": {
      "text/html": [
       "<span style=\"color:#4527A0\"><h1 style=\"font-size:18px\">Trial complete</h1></span>"
      ],
      "text/plain": [
       "<IPython.core.display.HTML object>"
      ]
     },
     "metadata": {},
     "output_type": "display_data"
    },
    {
     "data": {
      "text/html": [
       "<span style=\"color:#4527A0\"><h1 style=\"font-size:18px\">Trial summary</h1></span>"
      ],
      "text/plain": [
       "<IPython.core.display.HTML object>"
      ]
     },
     "metadata": {},
     "output_type": "display_data"
    },
    {
     "data": {
      "text/html": [
       "<span style=\"color:cyan\"> |-Trial ID: 79694c7214533021cf448a0fad40411f</span>"
      ],
      "text/plain": [
       "<IPython.core.display.HTML object>"
      ]
     },
     "metadata": {},
     "output_type": "display_data"
    },
    {
     "data": {
      "text/html": [
       "<span style=\"color:cyan\"> |-Score: 0.9572420716285706</span>"
      ],
      "text/plain": [
       "<IPython.core.display.HTML object>"
      ]
     },
     "metadata": {},
     "output_type": "display_data"
    },
    {
     "data": {
      "text/html": [
       "<span style=\"color:cyan\"> |-Best step: 0</span>"
      ],
      "text/plain": [
       "<IPython.core.display.HTML object>"
      ]
     },
     "metadata": {},
     "output_type": "display_data"
    },
    {
     "data": {
      "text/html": [
       "<span style=\"color:#7E57C2\"><h2 style=\"font-size:16px\">Hyperparameters:</h2></span>"
      ],
      "text/plain": [
       "<IPython.core.display.HTML object>"
      ]
     },
     "metadata": {},
     "output_type": "display_data"
    },
    {
     "data": {
      "text/html": [
       "<span style=\"color:cyan\"> |-rate_1: 0.30000000000000004</span>"
      ],
      "text/plain": [
       "<IPython.core.display.HTML object>"
      ]
     },
     "metadata": {},
     "output_type": "display_data"
    },
    {
     "data": {
      "text/html": [
       "<span style=\"color:blue\"> |-rate_2: 0.4000000000000001</span>"
      ],
      "text/plain": [
       "<IPython.core.display.HTML object>"
      ]
     },
     "metadata": {},
     "output_type": "display_data"
    },
    {
     "data": {
      "text/html": [
       "<span style=\"color:cyan\"> |-tuner/bracket: 2</span>"
      ],
      "text/plain": [
       "<IPython.core.display.HTML object>"
      ]
     },
     "metadata": {},
     "output_type": "display_data"
    },
    {
     "data": {
      "text/html": [
       "<span style=\"color:blue\"> |-tuner/epochs: 3</span>"
      ],
      "text/plain": [
       "<IPython.core.display.HTML object>"
      ]
     },
     "metadata": {},
     "output_type": "display_data"
    },
    {
     "data": {
      "text/html": [
       "<span style=\"color:cyan\"> |-tuner/initial_epoch: 0</span>"
      ],
      "text/plain": [
       "<IPython.core.display.HTML object>"
      ]
     },
     "metadata": {},
     "output_type": "display_data"
    },
    {
     "data": {
      "text/html": [
       "<span style=\"color:blue\"> |-tuner/round: 0</span>"
      ],
      "text/plain": [
       "<IPython.core.display.HTML object>"
      ]
     },
     "metadata": {},
     "output_type": "display_data"
    },
    {
     "data": {
      "text/html": [
       "<span style=\"color:cyan\"> |-units_1: 40</span>"
      ],
      "text/plain": [
       "<IPython.core.display.HTML object>"
      ]
     },
     "metadata": {},
     "output_type": "display_data"
    },
    {
     "data": {
      "text/html": [
       "<span style=\"color:blue\"> |-units_2: 60</span>"
      ],
      "text/plain": [
       "<IPython.core.display.HTML object>"
      ]
     },
     "metadata": {},
     "output_type": "display_data"
    },
    {
     "name": "stdout",
     "output_type": "stream",
     "text": [
      "Train on 69531 samples, validate on 23177 samples\n",
      "Epoch 1/3\n",
      "69531/69531 [==============================] - ETA: 2:18 - loss: 0.7341 - accuracy: 0.52 - ETA: 18s - loss: 0.6555 - accuracy: 0.6284 - ETA: 10s - loss: 0.5928 - accuracy: 0.713 - ETA: 7s - loss: 0.5407 - accuracy: 0.756 - ETA: 6s - loss: 0.5022 - accuracy: 0.78 - ETA: 5s - loss: 0.4684 - accuracy: 0.80 - ETA: 4s - loss: 0.4373 - accuracy: 0.82 - ETA: 3s - loss: 0.4124 - accuracy: 0.83 - ETA: 3s - loss: 0.3906 - accuracy: 0.84 - ETA: 3s - loss: 0.3719 - accuracy: 0.85 - ETA: 2s - loss: 0.3535 - accuracy: 0.86 - ETA: 2s - loss: 0.3367 - accuracy: 0.87 - ETA: 2s - loss: 0.3244 - accuracy: 0.87 - ETA: 2s - loss: 0.3117 - accuracy: 0.88 - ETA: 2s - loss: 0.3007 - accuracy: 0.88 - ETA: 2s - loss: 0.2923 - accuracy: 0.88 - ETA: 1s - loss: 0.2843 - accuracy: 0.89 - ETA: 1s - loss: 0.2767 - accuracy: 0.89 - ETA: 1s - loss: 0.2700 - accuracy: 0.89 - ETA: 1s - loss: 0.2635 - accuracy: 0.89 - ETA: 1s - loss: 0.2575 - accuracy: 0.90 - ETA: 1s - loss: 0.2526 - accuracy: 0.90 - ETA: 1s - loss: 0.2483 - accuracy: 0.90 - ETA: 1s - loss: 0.2438 - accuracy: 0.90 - ETA: 1s - loss: 0.2395 - accuracy: 0.90 - ETA: 0s - loss: 0.2354 - accuracy: 0.91 - ETA: 0s - loss: 0.2316 - accuracy: 0.91 - ETA: 0s - loss: 0.2281 - accuracy: 0.91 - ETA: 0s - loss: 0.2253 - accuracy: 0.91 - ETA: 0s - loss: 0.2220 - accuracy: 0.91 - ETA: 0s - loss: 0.2191 - accuracy: 0.91 - ETA: 0s - loss: 0.2162 - accuracy: 0.91 - ETA: 0s - loss: 0.2136 - accuracy: 0.91 - ETA: 0s - loss: 0.2110 - accuracy: 0.92 - ETA: 0s - loss: 0.2096 - accuracy: 0.92 - ETA: 0s - loss: 0.2075 - accuracy: 0.92 - ETA: 0s - loss: 0.2060 - accuracy: 0.92 - ETA: 0s - loss: 0.2041 - accuracy: 0.92 - ETA: 0s - loss: 0.2026 - accuracy: 0.92 - 3s 41us/sample - loss: 0.2014 - accuracy: 0.9245 - val_loss: 0.1245 - val_accuracy: 0.9535\n",
      "Epoch 2/3\n",
      "69531/69531 [==============================] - ETA: 2s - loss: 0.1185 - accuracy: 0.96 - ETA: 2s - loss: 0.1381 - accuracy: 0.95 - ETA: 1s - loss: 0.1335 - accuracy: 0.95 - ETA: 1s - loss: 0.1303 - accuracy: 0.95 - ETA: 1s - loss: 0.1282 - accuracy: 0.95 - ETA: 1s - loss: 0.1286 - accuracy: 0.95 - ETA: 1s - loss: 0.1258 - accuracy: 0.95 - ETA: 1s - loss: 0.1270 - accuracy: 0.95 - ETA: 1s - loss: 0.1281 - accuracy: 0.95 - ETA: 1s - loss: 0.1273 - accuracy: 0.95 - ETA: 1s - loss: 0.1283 - accuracy: 0.95 - ETA: 1s - loss: 0.1289 - accuracy: 0.95 - ETA: 1s - loss: 0.1285 - accuracy: 0.95 - ETA: 1s - loss: 0.1286 - accuracy: 0.95 - ETA: 1s - loss: 0.1287 - accuracy: 0.95 - ETA: 1s - loss: 0.1280 - accuracy: 0.95 - ETA: 1s - loss: 0.1283 - accuracy: 0.95 - ETA: 1s - loss: 0.1300 - accuracy: 0.95 - ETA: 1s - loss: 0.1306 - accuracy: 0.95 - ETA: 0s - loss: 0.1313 - accuracy: 0.95 - ETA: 0s - loss: 0.1318 - accuracy: 0.95 - ETA: 0s - loss: 0.1314 - accuracy: 0.95 - ETA: 0s - loss: 0.1305 - accuracy: 0.95 - ETA: 0s - loss: 0.1306 - accuracy: 0.95 - ETA: 0s - loss: 0.1303 - accuracy: 0.95 - ETA: 0s - loss: 0.1301 - accuracy: 0.95 - ETA: 0s - loss: 0.1298 - accuracy: 0.95 - ETA: 0s - loss: 0.1297 - accuracy: 0.95 - ETA: 0s - loss: 0.1296 - accuracy: 0.95 - ETA: 0s - loss: 0.1292 - accuracy: 0.95 - ETA: 0s - loss: 0.1291 - accuracy: 0.95 - ETA: 0s - loss: 0.1291 - accuracy: 0.95 - ETA: 0s - loss: 0.1288 - accuracy: 0.95 - ETA: 0s - loss: 0.1288 - accuracy: 0.95 - ETA: 0s - loss: 0.1290 - accuracy: 0.95 - ETA: 0s - loss: 0.1291 - accuracy: 0.95 - ETA: 0s - loss: 0.1287 - accuracy: 0.95 - ETA: 0s - loss: 0.1284 - accuracy: 0.95 - 2s 32us/sample - loss: 0.1283 - accuracy: 0.9546 - val_loss: 0.1175 - val_accuracy: 0.9562\n",
      "Epoch 3/3\n",
      "69531/69531 [==============================] - ETA: 2s - loss: 0.1495 - accuracy: 0.95 - ETA: 1s - loss: 0.1099 - accuracy: 0.96 - ETA: 1s - loss: 0.1143 - accuracy: 0.95 - ETA: 1s - loss: 0.1170 - accuracy: 0.95 - ETA: 1s - loss: 0.1177 - accuracy: 0.95 - ETA: 1s - loss: 0.1197 - accuracy: 0.95 - ETA: 1s - loss: 0.1224 - accuracy: 0.95 - ETA: 1s - loss: 0.1212 - accuracy: 0.95 - ETA: 1s - loss: 0.1211 - accuracy: 0.95 - ETA: 1s - loss: 0.1212 - accuracy: 0.95 - ETA: 1s - loss: 0.1233 - accuracy: 0.95 - ETA: 1s - loss: 0.1234 - accuracy: 0.95 - ETA: 1s - loss: 0.1236 - accuracy: 0.95 - ETA: 1s - loss: 0.1252 - accuracy: 0.95 - ETA: 1s - loss: 0.1245 - accuracy: 0.95 - ETA: 1s - loss: 0.1243 - accuracy: 0.95 - ETA: 1s - loss: 0.1248 - accuracy: 0.95 - ETA: 1s - loss: 0.1246 - accuracy: 0.95 - ETA: 1s - loss: 0.1235 - accuracy: 0.95 - ETA: 0s - loss: 0.1234 - accuracy: 0.95 - ETA: 0s - loss: 0.1221 - accuracy: 0.95 - ETA: 0s - loss: 0.1218 - accuracy: 0.95 - ETA: 0s - loss: 0.1215 - accuracy: 0.95 - ETA: 0s - loss: 0.1227 - accuracy: 0.95 - ETA: 0s - loss: 0.1224 - accuracy: 0.95 - ETA: 0s - loss: 0.1228 - accuracy: 0.95 - ETA: 0s - loss: 0.1231 - accuracy: 0.95 - ETA: 0s - loss: 0.1225 - accuracy: 0.95 - ETA: 0s - loss: 0.1226 - accuracy: 0.95 - ETA: 0s - loss: 0.1222 - accuracy: 0.95 - ETA: 0s - loss: 0.1226 - accuracy: 0.95 - ETA: 0s - loss: 0.1219 - accuracy: 0.95 - ETA: 0s - loss: 0.1215 - accuracy: 0.95 - ETA: 0s - loss: 0.1217 - accuracy: 0.95 - ETA: 0s - loss: 0.1221 - accuracy: 0.95 - ETA: 0s - loss: 0.1223 - accuracy: 0.95 - ETA: 0s - loss: 0.1221 - accuracy: 0.95 - ETA: 0s - loss: 0.1218 - accuracy: 0.95 - 2s 32us/sample - loss: 0.1216 - accuracy: 0.9557 - val_loss: 0.1140 - val_accuracy: 0.9581\n"
     ]
    },
    {
     "data": {
      "text/html": [
       "<span style=\"color:#4527A0\"><h1 style=\"font-size:18px\">Trial complete</h1></span>"
      ],
      "text/plain": [
       "<IPython.core.display.HTML object>"
      ]
     },
     "metadata": {},
     "output_type": "display_data"
    },
    {
     "data": {
      "text/html": [
       "<span style=\"color:#4527A0\"><h1 style=\"font-size:18px\">Trial summary</h1></span>"
      ],
      "text/plain": [
       "<IPython.core.display.HTML object>"
      ]
     },
     "metadata": {},
     "output_type": "display_data"
    },
    {
     "data": {
      "text/html": [
       "<span style=\"color:cyan\"> |-Trial ID: 0565144cbf9e7adab3f6eef4c7afeaf8</span>"
      ],
      "text/plain": [
       "<IPython.core.display.HTML object>"
      ]
     },
     "metadata": {},
     "output_type": "display_data"
    },
    {
     "data": {
      "text/html": [
       "<span style=\"color:cyan\"> |-Score: 0.9580618739128113</span>"
      ],
      "text/plain": [
       "<IPython.core.display.HTML object>"
      ]
     },
     "metadata": {},
     "output_type": "display_data"
    },
    {
     "data": {
      "text/html": [
       "<span style=\"color:cyan\"> |-Best step: 0</span>"
      ],
      "text/plain": [
       "<IPython.core.display.HTML object>"
      ]
     },
     "metadata": {},
     "output_type": "display_data"
    },
    {
     "data": {
      "text/html": [
       "<span style=\"color:#7E57C2\"><h2 style=\"font-size:16px\">Hyperparameters:</h2></span>"
      ],
      "text/plain": [
       "<IPython.core.display.HTML object>"
      ]
     },
     "metadata": {},
     "output_type": "display_data"
    },
    {
     "data": {
      "text/html": [
       "<span style=\"color:cyan\"> |-rate_1: 0.2</span>"
      ],
      "text/plain": [
       "<IPython.core.display.HTML object>"
      ]
     },
     "metadata": {},
     "output_type": "display_data"
    },
    {
     "data": {
      "text/html": [
       "<span style=\"color:blue\"> |-rate_2: 0.2</span>"
      ],
      "text/plain": [
       "<IPython.core.display.HTML object>"
      ]
     },
     "metadata": {},
     "output_type": "display_data"
    },
    {
     "data": {
      "text/html": [
       "<span style=\"color:cyan\"> |-tuner/bracket: 2</span>"
      ],
      "text/plain": [
       "<IPython.core.display.HTML object>"
      ]
     },
     "metadata": {},
     "output_type": "display_data"
    },
    {
     "data": {
      "text/html": [
       "<span style=\"color:blue\"> |-tuner/epochs: 3</span>"
      ],
      "text/plain": [
       "<IPython.core.display.HTML object>"
      ]
     },
     "metadata": {},
     "output_type": "display_data"
    },
    {
     "data": {
      "text/html": [
       "<span style=\"color:cyan\"> |-tuner/initial_epoch: 0</span>"
      ],
      "text/plain": [
       "<IPython.core.display.HTML object>"
      ]
     },
     "metadata": {},
     "output_type": "display_data"
    },
    {
     "data": {
      "text/html": [
       "<span style=\"color:blue\"> |-tuner/round: 0</span>"
      ],
      "text/plain": [
       "<IPython.core.display.HTML object>"
      ]
     },
     "metadata": {},
     "output_type": "display_data"
    },
    {
     "data": {
      "text/html": [
       "<span style=\"color:cyan\"> |-units_1: 56</span>"
      ],
      "text/plain": [
       "<IPython.core.display.HTML object>"
      ]
     },
     "metadata": {},
     "output_type": "display_data"
    },
    {
     "data": {
      "text/html": [
       "<span style=\"color:blue\"> |-units_2: 58</span>"
      ],
      "text/plain": [
       "<IPython.core.display.HTML object>"
      ]
     },
     "metadata": {},
     "output_type": "display_data"
    },
    {
     "name": "stdout",
     "output_type": "stream",
     "text": [
      "Train on 69531 samples, validate on 23177 samples\n",
      "Epoch 4/7\n",
      "69531/69531 [==============================] - ETA: 2:16 - loss: 0.7789 - accuracy: 0.36 - ETA: 18s - loss: 0.6909 - accuracy: 0.5293 - ETA: 10s - loss: 0.6212 - accuracy: 0.653 - ETA: 7s - loss: 0.5629 - accuracy: 0.727 - ETA: 6s - loss: 0.5224 - accuracy: 0.76 - ETA: 5s - loss: 0.4812 - accuracy: 0.78 - ETA: 4s - loss: 0.4516 - accuracy: 0.80 - ETA: 4s - loss: 0.4209 - accuracy: 0.82 - ETA: 3s - loss: 0.3937 - accuracy: 0.83 - ETA: 3s - loss: 0.3738 - accuracy: 0.84 - ETA: 3s - loss: 0.3540 - accuracy: 0.85 - ETA: 2s - loss: 0.3372 - accuracy: 0.86 - ETA: 2s - loss: 0.3235 - accuracy: 0.86 - ETA: 2s - loss: 0.3105 - accuracy: 0.87 - ETA: 2s - loss: 0.3007 - accuracy: 0.87 - ETA: 2s - loss: 0.2903 - accuracy: 0.88 - ETA: 1s - loss: 0.2818 - accuracy: 0.88 - ETA: 1s - loss: 0.2752 - accuracy: 0.89 - ETA: 1s - loss: 0.2690 - accuracy: 0.89 - ETA: 1s - loss: 0.2629 - accuracy: 0.89 - ETA: 1s - loss: 0.2570 - accuracy: 0.89 - ETA: 1s - loss: 0.2518 - accuracy: 0.90 - ETA: 1s - loss: 0.2466 - accuracy: 0.90 - ETA: 1s - loss: 0.2422 - accuracy: 0.90 - ETA: 1s - loss: 0.2382 - accuracy: 0.90 - ETA: 1s - loss: 0.2341 - accuracy: 0.90 - ETA: 0s - loss: 0.2300 - accuracy: 0.91 - ETA: 0s - loss: 0.2266 - accuracy: 0.91 - ETA: 0s - loss: 0.2236 - accuracy: 0.91 - ETA: 0s - loss: 0.2207 - accuracy: 0.91 - ETA: 0s - loss: 0.2180 - accuracy: 0.91 - ETA: 0s - loss: 0.2153 - accuracy: 0.91 - ETA: 0s - loss: 0.2130 - accuracy: 0.91 - ETA: 0s - loss: 0.2107 - accuracy: 0.91 - ETA: 0s - loss: 0.2082 - accuracy: 0.92 - ETA: 0s - loss: 0.2067 - accuracy: 0.92 - ETA: 0s - loss: 0.2051 - accuracy: 0.92 - ETA: 0s - loss: 0.2029 - accuracy: 0.92 - ETA: 0s - loss: 0.2009 - accuracy: 0.92 - 3s 42us/sample - loss: 0.1987 - accuracy: 0.9242 - val_loss: 0.1236 - val_accuracy: 0.9537\n",
      "Epoch 5/7\n",
      "69531/69531 [==============================] - ETA: 2s - loss: 0.1713 - accuracy: 0.93 - ETA: 1s - loss: 0.1347 - accuracy: 0.95 - ETA: 1s - loss: 0.1304 - accuracy: 0.94 - ETA: 1s - loss: 0.1366 - accuracy: 0.94 - ETA: 1s - loss: 0.1268 - accuracy: 0.95 - ETA: 1s - loss: 0.1296 - accuracy: 0.95 - ETA: 1s - loss: 0.1279 - accuracy: 0.95 - ETA: 1s - loss: 0.1266 - accuracy: 0.95 - ETA: 1s - loss: 0.1261 - accuracy: 0.95 - ETA: 1s - loss: 0.1260 - accuracy: 0.95 - ETA: 1s - loss: 0.1255 - accuracy: 0.95 - ETA: 1s - loss: 0.1263 - accuracy: 0.95 - ETA: 1s - loss: 0.1268 - accuracy: 0.95 - ETA: 1s - loss: 0.1269 - accuracy: 0.95 - ETA: 1s - loss: 0.1282 - accuracy: 0.95 - ETA: 1s - loss: 0.1290 - accuracy: 0.95 - ETA: 1s - loss: 0.1288 - accuracy: 0.95 - ETA: 1s - loss: 0.1297 - accuracy: 0.95 - ETA: 1s - loss: 0.1295 - accuracy: 0.95 - ETA: 1s - loss: 0.1282 - accuracy: 0.95 - ETA: 0s - loss: 0.1282 - accuracy: 0.95 - ETA: 0s - loss: 0.1277 - accuracy: 0.95 - ETA: 0s - loss: 0.1281 - accuracy: 0.95 - ETA: 0s - loss: 0.1279 - accuracy: 0.95 - ETA: 0s - loss: 0.1274 - accuracy: 0.95 - ETA: 0s - loss: 0.1268 - accuracy: 0.95 - ETA: 0s - loss: 0.1267 - accuracy: 0.95 - ETA: 0s - loss: 0.1265 - accuracy: 0.95 - ETA: 0s - loss: 0.1258 - accuracy: 0.95 - ETA: 0s - loss: 0.1262 - accuracy: 0.95 - ETA: 0s - loss: 0.1263 - accuracy: 0.95 - ETA: 0s - loss: 0.1259 - accuracy: 0.95 - ETA: 0s - loss: 0.1256 - accuracy: 0.95 - ETA: 0s - loss: 0.1264 - accuracy: 0.95 - ETA: 0s - loss: 0.1259 - accuracy: 0.95 - ETA: 0s - loss: 0.1262 - accuracy: 0.95 - ETA: 0s - loss: 0.1260 - accuracy: 0.95 - ETA: 0s - loss: 0.1260 - accuracy: 0.95 - ETA: 0s - loss: 0.1260 - accuracy: 0.95 - 2s 32us/sample - loss: 0.1261 - accuracy: 0.9544 - val_loss: 0.1169 - val_accuracy: 0.9562\n",
      "Epoch 6/7\n",
      "69531/69531 [==============================] - ETA: 1s - loss: 0.1416 - accuracy: 0.96 - ETA: 1s - loss: 0.1298 - accuracy: 0.95 - ETA: 1s - loss: 0.1216 - accuracy: 0.95 - ETA: 1s - loss: 0.1247 - accuracy: 0.95 - ETA: 1s - loss: 0.1243 - accuracy: 0.95 - ETA: 1s - loss: 0.1254 - accuracy: 0.95 - ETA: 1s - loss: 0.1244 - accuracy: 0.95 - ETA: 1s - loss: 0.1268 - accuracy: 0.95 - ETA: 1s - loss: 0.1268 - accuracy: 0.95 - ETA: 1s - loss: 0.1251 - accuracy: 0.95 - ETA: 1s - loss: 0.1264 - accuracy: 0.95 - ETA: 1s - loss: 0.1259 - accuracy: 0.95 - ETA: 1s - loss: 0.1258 - accuracy: 0.95 - ETA: 1s - loss: 0.1247 - accuracy: 0.95 - ETA: 1s - loss: 0.1237 - accuracy: 0.95 - ETA: 1s - loss: 0.1227 - accuracy: 0.95 - ETA: 1s - loss: 0.1240 - accuracy: 0.95 - ETA: 1s - loss: 0.1229 - accuracy: 0.95 - ETA: 1s - loss: 0.1224 - accuracy: 0.95 - ETA: 1s - loss: 0.1219 - accuracy: 0.95 - ETA: 0s - loss: 0.1209 - accuracy: 0.95 - ETA: 0s - loss: 0.1196 - accuracy: 0.95 - ETA: 0s - loss: 0.1188 - accuracy: 0.95 - ETA: 0s - loss: 0.1190 - accuracy: 0.95 - ETA: 0s - loss: 0.1191 - accuracy: 0.95 - ETA: 0s - loss: 0.1201 - accuracy: 0.95 - ETA: 0s - loss: 0.1206 - accuracy: 0.95 - ETA: 0s - loss: 0.1209 - accuracy: 0.95 - ETA: 0s - loss: 0.1213 - accuracy: 0.95 - ETA: 0s - loss: 0.1206 - accuracy: 0.95 - ETA: 0s - loss: 0.1208 - accuracy: 0.95 - ETA: 0s - loss: 0.1205 - accuracy: 0.95 - ETA: 0s - loss: 0.1202 - accuracy: 0.95 - ETA: 0s - loss: 0.1202 - accuracy: 0.95 - ETA: 0s - loss: 0.1204 - accuracy: 0.95 - ETA: 0s - loss: 0.1204 - accuracy: 0.95 - ETA: 0s - loss: 0.1200 - accuracy: 0.95 - ETA: 0s - loss: 0.1203 - accuracy: 0.95 - 2s 32us/sample - loss: 0.1204 - accuracy: 0.9556 - val_loss: 0.1137 - val_accuracy: 0.9573\n",
      "Epoch 7/7\n",
      "69531/69531 [==============================] - ETA: 2s - loss: 0.1306 - accuracy: 0.95 - ETA: 1s - loss: 0.1254 - accuracy: 0.95 - ETA: 1s - loss: 0.1277 - accuracy: 0.95 - ETA: 1s - loss: 0.1275 - accuracy: 0.95 - ETA: 1s - loss: 0.1289 - accuracy: 0.95 - ETA: 1s - loss: 0.1268 - accuracy: 0.95 - ETA: 1s - loss: 0.1238 - accuracy: 0.95 - ETA: 1s - loss: 0.1244 - accuracy: 0.95 - ETA: 1s - loss: 0.1238 - accuracy: 0.95 - ETA: 1s - loss: 0.1221 - accuracy: 0.95 - ETA: 1s - loss: 0.1205 - accuracy: 0.95 - ETA: 1s - loss: 0.1188 - accuracy: 0.95 - ETA: 1s - loss: 0.1179 - accuracy: 0.95 - ETA: 1s - loss: 0.1168 - accuracy: 0.95 - ETA: 1s - loss: 0.1171 - accuracy: 0.95 - ETA: 1s - loss: 0.1167 - accuracy: 0.95 - ETA: 1s - loss: 0.1156 - accuracy: 0.95 - ETA: 1s - loss: 0.1154 - accuracy: 0.95 - ETA: 1s - loss: 0.1153 - accuracy: 0.95 - ETA: 0s - loss: 0.1167 - accuracy: 0.95 - ETA: 0s - loss: 0.1160 - accuracy: 0.95 - ETA: 0s - loss: 0.1163 - accuracy: 0.95 - ETA: 0s - loss: 0.1157 - accuracy: 0.95 - ETA: 0s - loss: 0.1167 - accuracy: 0.95 - ETA: 0s - loss: 0.1171 - accuracy: 0.95 - ETA: 0s - loss: 0.1174 - accuracy: 0.95 - ETA: 0s - loss: 0.1171 - accuracy: 0.95 - ETA: 0s - loss: 0.1175 - accuracy: 0.95 - ETA: 0s - loss: 0.1174 - accuracy: 0.95 - ETA: 0s - loss: 0.1174 - accuracy: 0.95 - ETA: 0s - loss: 0.1172 - accuracy: 0.95 - ETA: 0s - loss: 0.1167 - accuracy: 0.95 - ETA: 0s - loss: 0.1163 - accuracy: 0.95 - ETA: 0s - loss: 0.1171 - accuracy: 0.95 - ETA: 0s - loss: 0.1173 - accuracy: 0.95 - ETA: 0s - loss: 0.1170 - accuracy: 0.95 - ETA: 0s - loss: 0.1173 - accuracy: 0.95 - ETA: 0s - loss: 0.1169 - accuracy: 0.95 - ETA: 0s - loss: 0.1171 - accuracy: 0.95 - 2s 32us/sample - loss: 0.1170 - accuracy: 0.9577 - val_loss: 0.1115 - val_accuracy: 0.9592\n"
     ]
    },
    {
     "data": {
      "text/html": [
       "<span style=\"color:#4527A0\"><h1 style=\"font-size:18px\">Trial complete</h1></span>"
      ],
      "text/plain": [
       "<IPython.core.display.HTML object>"
      ]
     },
     "metadata": {},
     "output_type": "display_data"
    },
    {
     "data": {
      "text/html": [
       "<span style=\"color:#4527A0\"><h1 style=\"font-size:18px\">Trial summary</h1></span>"
      ],
      "text/plain": [
       "<IPython.core.display.HTML object>"
      ]
     },
     "metadata": {},
     "output_type": "display_data"
    },
    {
     "data": {
      "text/html": [
       "<span style=\"color:cyan\"> |-Trial ID: 34a67f717bfcac4bd800b4292d2e621c</span>"
      ],
      "text/plain": [
       "<IPython.core.display.HTML object>"
      ]
     },
     "metadata": {},
     "output_type": "display_data"
    },
    {
     "data": {
      "text/html": [
       "<span style=\"color:cyan\"> |-Score: 0.9591836929321289</span>"
      ],
      "text/plain": [
       "<IPython.core.display.HTML object>"
      ]
     },
     "metadata": {},
     "output_type": "display_data"
    },
    {
     "data": {
      "text/html": [
       "<span style=\"color:cyan\"> |-Best step: 0</span>"
      ],
      "text/plain": [
       "<IPython.core.display.HTML object>"
      ]
     },
     "metadata": {},
     "output_type": "display_data"
    },
    {
     "data": {
      "text/html": [
       "<span style=\"color:#7E57C2\"><h2 style=\"font-size:16px\">Hyperparameters:</h2></span>"
      ],
      "text/plain": [
       "<IPython.core.display.HTML object>"
      ]
     },
     "metadata": {},
     "output_type": "display_data"
    },
    {
     "data": {
      "text/html": [
       "<span style=\"color:cyan\"> |-rate_1: 0.2</span>"
      ],
      "text/plain": [
       "<IPython.core.display.HTML object>"
      ]
     },
     "metadata": {},
     "output_type": "display_data"
    },
    {
     "data": {
      "text/html": [
       "<span style=\"color:blue\"> |-rate_2: 0.2</span>"
      ],
      "text/plain": [
       "<IPython.core.display.HTML object>"
      ]
     },
     "metadata": {},
     "output_type": "display_data"
    },
    {
     "data": {
      "text/html": [
       "<span style=\"color:cyan\"> |-tuner/bracket: 2</span>"
      ],
      "text/plain": [
       "<IPython.core.display.HTML object>"
      ]
     },
     "metadata": {},
     "output_type": "display_data"
    },
    {
     "data": {
      "text/html": [
       "<span style=\"color:blue\"> |-tuner/epochs: 7</span>"
      ],
      "text/plain": [
       "<IPython.core.display.HTML object>"
      ]
     },
     "metadata": {},
     "output_type": "display_data"
    },
    {
     "data": {
      "text/html": [
       "<span style=\"color:cyan\"> |-tuner/initial_epoch: 3</span>"
      ],
      "text/plain": [
       "<IPython.core.display.HTML object>"
      ]
     },
     "metadata": {},
     "output_type": "display_data"
    },
    {
     "data": {
      "text/html": [
       "<span style=\"color:blue\"> |-tuner/round: 1</span>"
      ],
      "text/plain": [
       "<IPython.core.display.HTML object>"
      ]
     },
     "metadata": {},
     "output_type": "display_data"
    },
    {
     "data": {
      "text/html": [
       "<span style=\"color:cyan\"> |-tuner/trial_id: 0565144cbf9e7adab3f6eef4c7afeaf8</span>"
      ],
      "text/plain": [
       "<IPython.core.display.HTML object>"
      ]
     },
     "metadata": {},
     "output_type": "display_data"
    },
    {
     "data": {
      "text/html": [
       "<span style=\"color:blue\"> |-units_1: 56</span>"
      ],
      "text/plain": [
       "<IPython.core.display.HTML object>"
      ]
     },
     "metadata": {},
     "output_type": "display_data"
    },
    {
     "data": {
      "text/html": [
       "<span style=\"color:cyan\"> |-units_2: 58</span>"
      ],
      "text/plain": [
       "<IPython.core.display.HTML object>"
      ]
     },
     "metadata": {},
     "output_type": "display_data"
    },
    {
     "name": "stdout",
     "output_type": "stream",
     "text": [
      "Train on 69531 samples, validate on 23177 samples\n",
      "Epoch 4/7\n",
      "69531/69531 [==============================] - ETA: 2:18 - loss: 0.7395 - accuracy: 0.50 - ETA: 16s - loss: 0.6287 - accuracy: 0.6623 - ETA: 9s - loss: 0.5589 - accuracy: 0.741 - ETA: 6s - loss: 0.5072 - accuracy: 0.78 - ETA: 5s - loss: 0.4653 - accuracy: 0.80 - ETA: 4s - loss: 0.4303 - accuracy: 0.82 - ETA: 3s - loss: 0.3984 - accuracy: 0.84 - ETA: 3s - loss: 0.3746 - accuracy: 0.85 - ETA: 3s - loss: 0.3544 - accuracy: 0.86 - ETA: 2s - loss: 0.3368 - accuracy: 0.86 - ETA: 2s - loss: 0.3233 - accuracy: 0.87 - ETA: 2s - loss: 0.3112 - accuracy: 0.87 - ETA: 2s - loss: 0.3013 - accuracy: 0.88 - ETA: 2s - loss: 0.2914 - accuracy: 0.88 - ETA: 1s - loss: 0.2824 - accuracy: 0.89 - ETA: 1s - loss: 0.2729 - accuracy: 0.89 - ETA: 1s - loss: 0.2661 - accuracy: 0.89 - ETA: 1s - loss: 0.2600 - accuracy: 0.90 - ETA: 1s - loss: 0.2539 - accuracy: 0.90 - ETA: 1s - loss: 0.2490 - accuracy: 0.90 - ETA: 1s - loss: 0.2445 - accuracy: 0.90 - ETA: 1s - loss: 0.2394 - accuracy: 0.90 - ETA: 0s - loss: 0.2358 - accuracy: 0.91 - ETA: 0s - loss: 0.2322 - accuracy: 0.91 - ETA: 0s - loss: 0.2284 - accuracy: 0.91 - ETA: 0s - loss: 0.2249 - accuracy: 0.91 - ETA: 0s - loss: 0.2215 - accuracy: 0.91 - ETA: 0s - loss: 0.2183 - accuracy: 0.91 - ETA: 0s - loss: 0.2160 - accuracy: 0.91 - ETA: 0s - loss: 0.2134 - accuracy: 0.91 - ETA: 0s - loss: 0.2118 - accuracy: 0.92 - ETA: 0s - loss: 0.2101 - accuracy: 0.92 - ETA: 0s - loss: 0.2077 - accuracy: 0.92 - ETA: 0s - loss: 0.2056 - accuracy: 0.92 - ETA: 0s - loss: 0.2038 - accuracy: 0.92 - 3s 39us/sample - loss: 0.2027 - accuracy: 0.9243 - val_loss: 0.1250 - val_accuracy: 0.9533\n",
      "Epoch 5/7\n",
      "69531/69531 [==============================] - ETA: 1s - loss: 0.1874 - accuracy: 0.93 - ETA: 1s - loss: 0.1520 - accuracy: 0.94 - ETA: 1s - loss: 0.1458 - accuracy: 0.94 - ETA: 1s - loss: 0.1391 - accuracy: 0.94 - ETA: 1s - loss: 0.1379 - accuracy: 0.95 - ETA: 1s - loss: 0.1378 - accuracy: 0.95 - ETA: 1s - loss: 0.1379 - accuracy: 0.95 - ETA: 1s - loss: 0.1339 - accuracy: 0.95 - ETA: 1s - loss: 0.1333 - accuracy: 0.95 - ETA: 1s - loss: 0.1322 - accuracy: 0.95 - ETA: 1s - loss: 0.1336 - accuracy: 0.95 - ETA: 1s - loss: 0.1350 - accuracy: 0.95 - ETA: 1s - loss: 0.1349 - accuracy: 0.95 - ETA: 1s - loss: 0.1363 - accuracy: 0.95 - ETA: 1s - loss: 0.1355 - accuracy: 0.95 - ETA: 1s - loss: 0.1360 - accuracy: 0.95 - ETA: 0s - loss: 0.1363 - accuracy: 0.95 - ETA: 0s - loss: 0.1359 - accuracy: 0.95 - ETA: 0s - loss: 0.1366 - accuracy: 0.95 - ETA: 0s - loss: 0.1360 - accuracy: 0.95 - ETA: 0s - loss: 0.1355 - accuracy: 0.95 - ETA: 0s - loss: 0.1355 - accuracy: 0.95 - ETA: 0s - loss: 0.1344 - accuracy: 0.95 - ETA: 0s - loss: 0.1350 - accuracy: 0.95 - ETA: 0s - loss: 0.1345 - accuracy: 0.95 - ETA: 0s - loss: 0.1343 - accuracy: 0.95 - ETA: 0s - loss: 0.1340 - accuracy: 0.95 - ETA: 0s - loss: 0.1345 - accuracy: 0.95 - ETA: 0s - loss: 0.1339 - accuracy: 0.95 - ETA: 0s - loss: 0.1335 - accuracy: 0.95 - ETA: 0s - loss: 0.1330 - accuracy: 0.95 - ETA: 0s - loss: 0.1333 - accuracy: 0.95 - ETA: 0s - loss: 0.1328 - accuracy: 0.95 - ETA: 0s - loss: 0.1327 - accuracy: 0.95 - ETA: 0s - loss: 0.1328 - accuracy: 0.95 - 2s 29us/sample - loss: 0.1325 - accuracy: 0.9528 - val_loss: 0.1186 - val_accuracy: 0.9561\n",
      "Epoch 6/7\n",
      "69531/69531 [==============================] - ETA: 1s - loss: 0.0995 - accuracy: 0.96 - ETA: 1s - loss: 0.1190 - accuracy: 0.96 - ETA: 1s - loss: 0.1199 - accuracy: 0.95 - ETA: 1s - loss: 0.1250 - accuracy: 0.95 - ETA: 1s - loss: 0.1240 - accuracy: 0.95 - ETA: 1s - loss: 0.1239 - accuracy: 0.95 - ETA: 1s - loss: 0.1275 - accuracy: 0.95 - ETA: 1s - loss: 0.1270 - accuracy: 0.95 - ETA: 1s - loss: 0.1290 - accuracy: 0.95 - ETA: 1s - loss: 0.1290 - accuracy: 0.95 - ETA: 1s - loss: 0.1298 - accuracy: 0.95 - ETA: 1s - loss: 0.1297 - accuracy: 0.95 - ETA: 1s - loss: 0.1292 - accuracy: 0.95 - ETA: 1s - loss: 0.1296 - accuracy: 0.95 - ETA: 1s - loss: 0.1304 - accuracy: 0.95 - ETA: 1s - loss: 0.1298 - accuracy: 0.95 - ETA: 1s - loss: 0.1299 - accuracy: 0.95 - ETA: 0s - loss: 0.1301 - accuracy: 0.95 - ETA: 0s - loss: 0.1295 - accuracy: 0.95 - ETA: 0s - loss: 0.1293 - accuracy: 0.95 - ETA: 0s - loss: 0.1285 - accuracy: 0.95 - ETA: 0s - loss: 0.1277 - accuracy: 0.95 - ETA: 0s - loss: 0.1277 - accuracy: 0.95 - ETA: 0s - loss: 0.1267 - accuracy: 0.95 - ETA: 0s - loss: 0.1261 - accuracy: 0.95 - ETA: 0s - loss: 0.1260 - accuracy: 0.95 - ETA: 0s - loss: 0.1258 - accuracy: 0.95 - ETA: 0s - loss: 0.1249 - accuracy: 0.95 - ETA: 0s - loss: 0.1246 - accuracy: 0.95 - ETA: 0s - loss: 0.1241 - accuracy: 0.95 - ETA: 0s - loss: 0.1244 - accuracy: 0.95 - ETA: 0s - loss: 0.1243 - accuracy: 0.95 - ETA: 0s - loss: 0.1242 - accuracy: 0.95 - ETA: 0s - loss: 0.1239 - accuracy: 0.95 - ETA: 0s - loss: 0.1241 - accuracy: 0.95 - 2s 30us/sample - loss: 0.1240 - accuracy: 0.9559 - val_loss: 0.1151 - val_accuracy: 0.9564\n",
      "Epoch 7/7\n",
      "69531/69531 [==============================] - ETA: 1s - loss: 0.0862 - accuracy: 0.96 - ETA: 1s - loss: 0.1218 - accuracy: 0.95 - ETA: 1s - loss: 0.1207 - accuracy: 0.95 - ETA: 1s - loss: 0.1219 - accuracy: 0.95 - ETA: 1s - loss: 0.1216 - accuracy: 0.95 - ETA: 1s - loss: 0.1177 - accuracy: 0.95 - ETA: 1s - loss: 0.1184 - accuracy: 0.95 - ETA: 1s - loss: 0.1197 - accuracy: 0.95 - ETA: 1s - loss: 0.1193 - accuracy: 0.95 - ETA: 1s - loss: 0.1190 - accuracy: 0.95 - ETA: 1s - loss: 0.1192 - accuracy: 0.95 - ETA: 1s - loss: 0.1186 - accuracy: 0.95 - ETA: 1s - loss: 0.1197 - accuracy: 0.95 - ETA: 1s - loss: 0.1194 - accuracy: 0.95 - ETA: 1s - loss: 0.1203 - accuracy: 0.95 - ETA: 1s - loss: 0.1207 - accuracy: 0.95 - ETA: 0s - loss: 0.1218 - accuracy: 0.95 - ETA: 0s - loss: 0.1217 - accuracy: 0.95 - ETA: 0s - loss: 0.1217 - accuracy: 0.95 - ETA: 0s - loss: 0.1217 - accuracy: 0.95 - ETA: 0s - loss: 0.1215 - accuracy: 0.95 - ETA: 0s - loss: 0.1210 - accuracy: 0.95 - ETA: 0s - loss: 0.1208 - accuracy: 0.95 - ETA: 0s - loss: 0.1202 - accuracy: 0.95 - ETA: 0s - loss: 0.1196 - accuracy: 0.95 - ETA: 0s - loss: 0.1189 - accuracy: 0.95 - ETA: 0s - loss: 0.1188 - accuracy: 0.95 - ETA: 0s - loss: 0.1186 - accuracy: 0.95 - ETA: 0s - loss: 0.1193 - accuracy: 0.95 - ETA: 0s - loss: 0.1198 - accuracy: 0.95 - ETA: 0s - loss: 0.1203 - accuracy: 0.95 - ETA: 0s - loss: 0.1211 - accuracy: 0.95 - ETA: 0s - loss: 0.1210 - accuracy: 0.95 - ETA: 0s - loss: 0.1206 - accuracy: 0.95 - ETA: 0s - loss: 0.1205 - accuracy: 0.95 - 2s 29us/sample - loss: 0.1202 - accuracy: 0.9573 - val_loss: 0.1132 - val_accuracy: 0.9575\n"
     ]
    },
    {
     "data": {
      "text/html": [
       "<span style=\"color:#4527A0\"><h1 style=\"font-size:18px\">Trial complete</h1></span>"
      ],
      "text/plain": [
       "<IPython.core.display.HTML object>"
      ]
     },
     "metadata": {},
     "output_type": "display_data"
    },
    {
     "data": {
      "text/html": [
       "<span style=\"color:#4527A0\"><h1 style=\"font-size:18px\">Trial summary</h1></span>"
      ],
      "text/plain": [
       "<IPython.core.display.HTML object>"
      ]
     },
     "metadata": {},
     "output_type": "display_data"
    },
    {
     "data": {
      "text/html": [
       "<span style=\"color:cyan\"> |-Trial ID: 23ea2067bc65e84abfd0904ff99f5c07</span>"
      ],
      "text/plain": [
       "<IPython.core.display.HTML object>"
      ]
     },
     "metadata": {},
     "output_type": "display_data"
    },
    {
     "data": {
      "text/html": [
       "<span style=\"color:cyan\"> |-Score: 0.9575009942054749</span>"
      ],
      "text/plain": [
       "<IPython.core.display.HTML object>"
      ]
     },
     "metadata": {},
     "output_type": "display_data"
    },
    {
     "data": {
      "text/html": [
       "<span style=\"color:cyan\"> |-Best step: 0</span>"
      ],
      "text/plain": [
       "<IPython.core.display.HTML object>"
      ]
     },
     "metadata": {},
     "output_type": "display_data"
    },
    {
     "data": {
      "text/html": [
       "<span style=\"color:#7E57C2\"><h2 style=\"font-size:16px\">Hyperparameters:</h2></span>"
      ],
      "text/plain": [
       "<IPython.core.display.HTML object>"
      ]
     },
     "metadata": {},
     "output_type": "display_data"
    },
    {
     "data": {
      "text/html": [
       "<span style=\"color:cyan\"> |-rate_1: 0.30000000000000004</span>"
      ],
      "text/plain": [
       "<IPython.core.display.HTML object>"
      ]
     },
     "metadata": {},
     "output_type": "display_data"
    },
    {
     "data": {
      "text/html": [
       "<span style=\"color:blue\"> |-rate_2: 0.2</span>"
      ],
      "text/plain": [
       "<IPython.core.display.HTML object>"
      ]
     },
     "metadata": {},
     "output_type": "display_data"
    },
    {
     "data": {
      "text/html": [
       "<span style=\"color:cyan\"> |-tuner/bracket: 2</span>"
      ],
      "text/plain": [
       "<IPython.core.display.HTML object>"
      ]
     },
     "metadata": {},
     "output_type": "display_data"
    },
    {
     "data": {
      "text/html": [
       "<span style=\"color:blue\"> |-tuner/epochs: 7</span>"
      ],
      "text/plain": [
       "<IPython.core.display.HTML object>"
      ]
     },
     "metadata": {},
     "output_type": "display_data"
    },
    {
     "data": {
      "text/html": [
       "<span style=\"color:cyan\"> |-tuner/initial_epoch: 3</span>"
      ],
      "text/plain": [
       "<IPython.core.display.HTML object>"
      ]
     },
     "metadata": {},
     "output_type": "display_data"
    },
    {
     "data": {
      "text/html": [
       "<span style=\"color:blue\"> |-tuner/round: 1</span>"
      ],
      "text/plain": [
       "<IPython.core.display.HTML object>"
      ]
     },
     "metadata": {},
     "output_type": "display_data"
    },
    {
     "data": {
      "text/html": [
       "<span style=\"color:cyan\"> |-tuner/trial_id: cd9321cb8decda7999feefeec381f65a</span>"
      ],
      "text/plain": [
       "<IPython.core.display.HTML object>"
      ]
     },
     "metadata": {},
     "output_type": "display_data"
    },
    {
     "data": {
      "text/html": [
       "<span style=\"color:blue\"> |-units_1: 56</span>"
      ],
      "text/plain": [
       "<IPython.core.display.HTML object>"
      ]
     },
     "metadata": {},
     "output_type": "display_data"
    },
    {
     "data": {
      "text/html": [
       "<span style=\"color:cyan\"> |-units_2: 42</span>"
      ],
      "text/plain": [
       "<IPython.core.display.HTML object>"
      ]
     },
     "metadata": {},
     "output_type": "display_data"
    },
    {
     "name": "stdout",
     "output_type": "stream",
     "text": [
      "Train on 69531 samples, validate on 23177 samples\n",
      "Epoch 4/7\n",
      "69531/69531 [==============================] - ETA: 2:18 - loss: 0.6255 - accuracy: 0.62 - ETA: 14s - loss: 0.5524 - accuracy: 0.7156 - ETA: 8s - loss: 0.5101 - accuracy: 0.765 - ETA: 6s - loss: 0.4722 - accuracy: 0.79 - ETA: 5s - loss: 0.4416 - accuracy: 0.81 - ETA: 4s - loss: 0.4092 - accuracy: 0.83 - ETA: 3s - loss: 0.3853 - accuracy: 0.84 - ETA: 3s - loss: 0.3623 - accuracy: 0.86 - ETA: 2s - loss: 0.3437 - accuracy: 0.86 - ETA: 2s - loss: 0.3272 - accuracy: 0.87 - ETA: 2s - loss: 0.3124 - accuracy: 0.88 - ETA: 2s - loss: 0.3001 - accuracy: 0.88 - ETA: 1s - loss: 0.2904 - accuracy: 0.89 - ETA: 1s - loss: 0.2821 - accuracy: 0.89 - ETA: 1s - loss: 0.2738 - accuracy: 0.89 - ETA: 1s - loss: 0.2653 - accuracy: 0.90 - ETA: 1s - loss: 0.2579 - accuracy: 0.90 - ETA: 1s - loss: 0.2522 - accuracy: 0.90 - ETA: 1s - loss: 0.2460 - accuracy: 0.90 - ETA: 1s - loss: 0.2415 - accuracy: 0.90 - ETA: 1s - loss: 0.2371 - accuracy: 0.91 - ETA: 0s - loss: 0.2334 - accuracy: 0.91 - ETA: 0s - loss: 0.2290 - accuracy: 0.91 - ETA: 0s - loss: 0.2265 - accuracy: 0.91 - ETA: 0s - loss: 0.2236 - accuracy: 0.91 - ETA: 0s - loss: 0.2203 - accuracy: 0.91 - ETA: 0s - loss: 0.2179 - accuracy: 0.91 - ETA: 0s - loss: 0.2152 - accuracy: 0.92 - ETA: 0s - loss: 0.2128 - accuracy: 0.92 - ETA: 0s - loss: 0.2104 - accuracy: 0.92 - ETA: 0s - loss: 0.2075 - accuracy: 0.92 - ETA: 0s - loss: 0.2055 - accuracy: 0.92 - ETA: 0s - loss: 0.2037 - accuracy: 0.92 - 3s 37us/sample - loss: 0.2024 - accuracy: 0.9256 - val_loss: 0.1280 - val_accuracy: 0.9521\n",
      "Epoch 5/7\n",
      "69531/69531 [==============================] - ETA: 2s - loss: 0.1353 - accuracy: 0.94 - ETA: 1s - loss: 0.1444 - accuracy: 0.94 - ETA: 1s - loss: 0.1386 - accuracy: 0.95 - ETA: 1s - loss: 0.1303 - accuracy: 0.95 - ETA: 1s - loss: 0.1306 - accuracy: 0.95 - ETA: 1s - loss: 0.1333 - accuracy: 0.95 - ETA: 1s - loss: 0.1343 - accuracy: 0.95 - ETA: 1s - loss: 0.1351 - accuracy: 0.95 - ETA: 1s - loss: 0.1367 - accuracy: 0.95 - ETA: 1s - loss: 0.1364 - accuracy: 0.95 - ETA: 1s - loss: 0.1366 - accuracy: 0.95 - ETA: 1s - loss: 0.1334 - accuracy: 0.95 - ETA: 1s - loss: 0.1340 - accuracy: 0.95 - ETA: 1s - loss: 0.1343 - accuracy: 0.95 - ETA: 0s - loss: 0.1342 - accuracy: 0.95 - ETA: 0s - loss: 0.1353 - accuracy: 0.95 - ETA: 0s - loss: 0.1353 - accuracy: 0.95 - ETA: 0s - loss: 0.1351 - accuracy: 0.95 - ETA: 0s - loss: 0.1347 - accuracy: 0.95 - ETA: 0s - loss: 0.1343 - accuracy: 0.95 - ETA: 0s - loss: 0.1337 - accuracy: 0.95 - ETA: 0s - loss: 0.1343 - accuracy: 0.95 - ETA: 0s - loss: 0.1333 - accuracy: 0.95 - ETA: 0s - loss: 0.1331 - accuracy: 0.95 - ETA: 0s - loss: 0.1330 - accuracy: 0.95 - ETA: 0s - loss: 0.1325 - accuracy: 0.95 - ETA: 0s - loss: 0.1320 - accuracy: 0.95 - ETA: 0s - loss: 0.1326 - accuracy: 0.95 - ETA: 0s - loss: 0.1323 - accuracy: 0.95 - ETA: 0s - loss: 0.1325 - accuracy: 0.95 - ETA: 0s - loss: 0.1328 - accuracy: 0.95 - ETA: 0s - loss: 0.1328 - accuracy: 0.95 - ETA: 0s - loss: 0.1328 - accuracy: 0.95 - 2s 28us/sample - loss: 0.1330 - accuracy: 0.9527 - val_loss: 0.1206 - val_accuracy: 0.9548\n",
      "Epoch 6/7\n",
      "69531/69531 [==============================] - ETA: 1s - loss: 0.1278 - accuracy: 0.93 - ETA: 1s - loss: 0.1321 - accuracy: 0.95 - ETA: 1s - loss: 0.1283 - accuracy: 0.95 - ETA: 1s - loss: 0.1283 - accuracy: 0.95 - ETA: 1s - loss: 0.1252 - accuracy: 0.95 - ETA: 1s - loss: 0.1254 - accuracy: 0.95 - ETA: 1s - loss: 0.1277 - accuracy: 0.95 - ETA: 1s - loss: 0.1284 - accuracy: 0.95 - ETA: 1s - loss: 0.1286 - accuracy: 0.95 - ETA: 1s - loss: 0.1286 - accuracy: 0.95 - ETA: 1s - loss: 0.1279 - accuracy: 0.95 - ETA: 1s - loss: 0.1288 - accuracy: 0.95 - ETA: 1s - loss: 0.1290 - accuracy: 0.95 - ETA: 1s - loss: 0.1283 - accuracy: 0.95 - ETA: 0s - loss: 0.1277 - accuracy: 0.95 - ETA: 0s - loss: 0.1267 - accuracy: 0.95 - ETA: 0s - loss: 0.1269 - accuracy: 0.95 - ETA: 0s - loss: 0.1270 - accuracy: 0.95 - ETA: 0s - loss: 0.1276 - accuracy: 0.95 - ETA: 0s - loss: 0.1275 - accuracy: 0.95 - ETA: 0s - loss: 0.1272 - accuracy: 0.95 - ETA: 0s - loss: 0.1273 - accuracy: 0.95 - ETA: 0s - loss: 0.1270 - accuracy: 0.95 - ETA: 0s - loss: 0.1264 - accuracy: 0.95 - ETA: 0s - loss: 0.1262 - accuracy: 0.95 - ETA: 0s - loss: 0.1259 - accuracy: 0.95 - ETA: 0s - loss: 0.1260 - accuracy: 0.95 - ETA: 0s - loss: 0.1256 - accuracy: 0.95 - ETA: 0s - loss: 0.1256 - accuracy: 0.95 - ETA: 0s - loss: 0.1256 - accuracy: 0.95 - ETA: 0s - loss: 0.1254 - accuracy: 0.95 - ETA: 0s - loss: 0.1257 - accuracy: 0.95 - 2s 27us/sample - loss: 0.1255 - accuracy: 0.9554 - val_loss: 0.1176 - val_accuracy: 0.9562\n",
      "Epoch 7/7\n",
      "69531/69531 [==============================] - ETA: 1s - loss: 0.1203 - accuracy: 0.96 - ETA: 1s - loss: 0.1417 - accuracy: 0.95 - ETA: 1s - loss: 0.1259 - accuracy: 0.95 - ETA: 1s - loss: 0.1204 - accuracy: 0.95 - ETA: 1s - loss: 0.1242 - accuracy: 0.95 - ETA: 1s - loss: 0.1248 - accuracy: 0.95 - ETA: 1s - loss: 0.1228 - accuracy: 0.95 - ETA: 1s - loss: 0.1232 - accuracy: 0.95 - ETA: 1s - loss: 0.1248 - accuracy: 0.95 - ETA: 1s - loss: 0.1235 - accuracy: 0.95 - ETA: 1s - loss: 0.1231 - accuracy: 0.95 - ETA: 1s - loss: 0.1226 - accuracy: 0.95 - ETA: 1s - loss: 0.1228 - accuracy: 0.95 - ETA: 1s - loss: 0.1230 - accuracy: 0.95 - ETA: 0s - loss: 0.1233 - accuracy: 0.95 - ETA: 0s - loss: 0.1243 - accuracy: 0.95 - ETA: 0s - loss: 0.1231 - accuracy: 0.95 - ETA: 0s - loss: 0.1228 - accuracy: 0.95 - ETA: 0s - loss: 0.1228 - accuracy: 0.95 - ETA: 0s - loss: 0.1228 - accuracy: 0.95 - ETA: 0s - loss: 0.1223 - accuracy: 0.95 - ETA: 0s - loss: 0.1225 - accuracy: 0.95 - ETA: 0s - loss: 0.1219 - accuracy: 0.95 - ETA: 0s - loss: 0.1226 - accuracy: 0.95 - ETA: 0s - loss: 0.1232 - accuracy: 0.95 - ETA: 0s - loss: 0.1230 - accuracy: 0.95 - ETA: 0s - loss: 0.1232 - accuracy: 0.95 - ETA: 0s - loss: 0.1231 - accuracy: 0.95 - ETA: 0s - loss: 0.1229 - accuracy: 0.95 - ETA: 0s - loss: 0.1228 - accuracy: 0.95 - ETA: 0s - loss: 0.1223 - accuracy: 0.95 - ETA: 0s - loss: 0.1219 - accuracy: 0.95 - ETA: 0s - loss: 0.1216 - accuracy: 0.95 - 2s 28us/sample - loss: 0.1215 - accuracy: 0.9571 - val_loss: 0.1151 - val_accuracy: 0.9567\n"
     ]
    },
    {
     "data": {
      "text/html": [
       "<span style=\"color:#4527A0\"><h1 style=\"font-size:18px\">Trial complete</h1></span>"
      ],
      "text/plain": [
       "<IPython.core.display.HTML object>"
      ]
     },
     "metadata": {},
     "output_type": "display_data"
    },
    {
     "data": {
      "text/html": [
       "<span style=\"color:#4527A0\"><h1 style=\"font-size:18px\">Trial summary</h1></span>"
      ],
      "text/plain": [
       "<IPython.core.display.HTML object>"
      ]
     },
     "metadata": {},
     "output_type": "display_data"
    },
    {
     "data": {
      "text/html": [
       "<span style=\"color:cyan\"> |-Trial ID: 58757e26ed210fb19ee08c4c64edcffb</span>"
      ],
      "text/plain": [
       "<IPython.core.display.HTML object>"
      ]
     },
     "metadata": {},
     "output_type": "display_data"
    },
    {
     "data": {
      "text/html": [
       "<span style=\"color:cyan\"> |-Score: 0.9566811919212341</span>"
      ],
      "text/plain": [
       "<IPython.core.display.HTML object>"
      ]
     },
     "metadata": {},
     "output_type": "display_data"
    },
    {
     "data": {
      "text/html": [
       "<span style=\"color:cyan\"> |-Best step: 0</span>"
      ],
      "text/plain": [
       "<IPython.core.display.HTML object>"
      ]
     },
     "metadata": {},
     "output_type": "display_data"
    },
    {
     "data": {
      "text/html": [
       "<span style=\"color:#7E57C2\"><h2 style=\"font-size:16px\">Hyperparameters:</h2></span>"
      ],
      "text/plain": [
       "<IPython.core.display.HTML object>"
      ]
     },
     "metadata": {},
     "output_type": "display_data"
    },
    {
     "data": {
      "text/html": [
       "<span style=\"color:cyan\"> |-rate_1: 0.2</span>"
      ],
      "text/plain": [
       "<IPython.core.display.HTML object>"
      ]
     },
     "metadata": {},
     "output_type": "display_data"
    },
    {
     "data": {
      "text/html": [
       "<span style=\"color:blue\"> |-rate_2: 0.30000000000000004</span>"
      ],
      "text/plain": [
       "<IPython.core.display.HTML object>"
      ]
     },
     "metadata": {},
     "output_type": "display_data"
    },
    {
     "data": {
      "text/html": [
       "<span style=\"color:cyan\"> |-tuner/bracket: 2</span>"
      ],
      "text/plain": [
       "<IPython.core.display.HTML object>"
      ]
     },
     "metadata": {},
     "output_type": "display_data"
    },
    {
     "data": {
      "text/html": [
       "<span style=\"color:blue\"> |-tuner/epochs: 7</span>"
      ],
      "text/plain": [
       "<IPython.core.display.HTML object>"
      ]
     },
     "metadata": {},
     "output_type": "display_data"
    },
    {
     "data": {
      "text/html": [
       "<span style=\"color:cyan\"> |-tuner/initial_epoch: 3</span>"
      ],
      "text/plain": [
       "<IPython.core.display.HTML object>"
      ]
     },
     "metadata": {},
     "output_type": "display_data"
    },
    {
     "data": {
      "text/html": [
       "<span style=\"color:blue\"> |-tuner/round: 1</span>"
      ],
      "text/plain": [
       "<IPython.core.display.HTML object>"
      ]
     },
     "metadata": {},
     "output_type": "display_data"
    },
    {
     "data": {
      "text/html": [
       "<span style=\"color:cyan\"> |-tuner/trial_id: c776a5a5d3730a87601372ecc9abbfa2</span>"
      ],
      "text/plain": [
       "<IPython.core.display.HTML object>"
      ]
     },
     "metadata": {},
     "output_type": "display_data"
    },
    {
     "data": {
      "text/html": [
       "<span style=\"color:blue\"> |-units_1: 46</span>"
      ],
      "text/plain": [
       "<IPython.core.display.HTML object>"
      ]
     },
     "metadata": {},
     "output_type": "display_data"
    },
    {
     "data": {
      "text/html": [
       "<span style=\"color:cyan\"> |-units_2: 36</span>"
      ],
      "text/plain": [
       "<IPython.core.display.HTML object>"
      ]
     },
     "metadata": {},
     "output_type": "display_data"
    },
    {
     "name": "stdout",
     "output_type": "stream",
     "text": [
      "Train on 69531 samples, validate on 23177 samples\n",
      "Epoch 4/7\n",
      "69531/69531 [==============================] - ETA: 2:17 - loss: 0.7696 - accuracy: 0.43 - ETA: 18s - loss: 0.7174 - accuracy: 0.4922 - ETA: 10s - loss: 0.6683 - accuracy: 0.583 - ETA: 7s - loss: 0.6256 - accuracy: 0.644 - ETA: 5s - loss: 0.5888 - accuracy: 0.68 - ETA: 4s - loss: 0.5510 - accuracy: 0.72 - ETA: 4s - loss: 0.5212 - accuracy: 0.75 - ETA: 3s - loss: 0.4946 - accuracy: 0.76 - ETA: 3s - loss: 0.4690 - accuracy: 0.78 - ETA: 3s - loss: 0.4485 - accuracy: 0.79 - ETA: 2s - loss: 0.4261 - accuracy: 0.80 - ETA: 2s - loss: 0.4104 - accuracy: 0.81 - ETA: 2s - loss: 0.3951 - accuracy: 0.82 - ETA: 2s - loss: 0.3809 - accuracy: 0.83 - ETA: 2s - loss: 0.3652 - accuracy: 0.84 - ETA: 1s - loss: 0.3542 - accuracy: 0.84 - ETA: 1s - loss: 0.3420 - accuracy: 0.85 - ETA: 1s - loss: 0.3314 - accuracy: 0.85 - ETA: 1s - loss: 0.3226 - accuracy: 0.86 - ETA: 1s - loss: 0.3135 - accuracy: 0.86 - ETA: 1s - loss: 0.3056 - accuracy: 0.87 - ETA: 1s - loss: 0.2989 - accuracy: 0.87 - ETA: 1s - loss: 0.2935 - accuracy: 0.87 - ETA: 1s - loss: 0.2873 - accuracy: 0.88 - ETA: 0s - loss: 0.2820 - accuracy: 0.88 - ETA: 0s - loss: 0.2771 - accuracy: 0.88 - ETA: 0s - loss: 0.2718 - accuracy: 0.88 - ETA: 0s - loss: 0.2679 - accuracy: 0.89 - ETA: 0s - loss: 0.2633 - accuracy: 0.89 - ETA: 0s - loss: 0.2592 - accuracy: 0.89 - ETA: 0s - loss: 0.2561 - accuracy: 0.89 - ETA: 0s - loss: 0.2525 - accuracy: 0.89 - ETA: 0s - loss: 0.2491 - accuracy: 0.89 - ETA: 0s - loss: 0.2462 - accuracy: 0.90 - ETA: 0s - loss: 0.2434 - accuracy: 0.90 - ETA: 0s - loss: 0.2419 - accuracy: 0.90 - ETA: 0s - loss: 0.2394 - accuracy: 0.90 - 3s 40us/sample - loss: 0.2371 - accuracy: 0.9049 - val_loss: 0.1282 - val_accuracy: 0.9521\n",
      "Epoch 5/7\n",
      "69531/69531 [==============================] - ETA: 2s - loss: 0.1534 - accuracy: 0.94 - ETA: 1s - loss: 0.1463 - accuracy: 0.94 - ETA: 1s - loss: 0.1397 - accuracy: 0.94 - ETA: 1s - loss: 0.1347 - accuracy: 0.95 - ETA: 1s - loss: 0.1332 - accuracy: 0.95 - ETA: 1s - loss: 0.1349 - accuracy: 0.95 - ETA: 1s - loss: 0.1363 - accuracy: 0.95 - ETA: 1s - loss: 0.1388 - accuracy: 0.95 - ETA: 1s - loss: 0.1394 - accuracy: 0.95 - ETA: 1s - loss: 0.1385 - accuracy: 0.95 - ETA: 1s - loss: 0.1388 - accuracy: 0.95 - ETA: 1s - loss: 0.1380 - accuracy: 0.95 - ETA: 1s - loss: 0.1379 - accuracy: 0.95 - ETA: 1s - loss: 0.1384 - accuracy: 0.95 - ETA: 1s - loss: 0.1383 - accuracy: 0.95 - ETA: 1s - loss: 0.1373 - accuracy: 0.95 - ETA: 1s - loss: 0.1372 - accuracy: 0.95 - ETA: 0s - loss: 0.1378 - accuracy: 0.95 - ETA: 0s - loss: 0.1376 - accuracy: 0.95 - ETA: 0s - loss: 0.1383 - accuracy: 0.95 - ETA: 0s - loss: 0.1381 - accuracy: 0.95 - ETA: 0s - loss: 0.1382 - accuracy: 0.95 - ETA: 0s - loss: 0.1380 - accuracy: 0.95 - ETA: 0s - loss: 0.1385 - accuracy: 0.95 - ETA: 0s - loss: 0.1383 - accuracy: 0.95 - ETA: 0s - loss: 0.1375 - accuracy: 0.95 - ETA: 0s - loss: 0.1382 - accuracy: 0.95 - ETA: 0s - loss: 0.1380 - accuracy: 0.95 - ETA: 0s - loss: 0.1372 - accuracy: 0.95 - ETA: 0s - loss: 0.1370 - accuracy: 0.95 - ETA: 0s - loss: 0.1372 - accuracy: 0.95 - ETA: 0s - loss: 0.1379 - accuracy: 0.95 - ETA: 0s - loss: 0.1374 - accuracy: 0.95 - ETA: 0s - loss: 0.1378 - accuracy: 0.95 - ETA: 0s - loss: 0.1378 - accuracy: 0.95 - ETA: 0s - loss: 0.1371 - accuracy: 0.95 - 2s 31us/sample - loss: 0.1377 - accuracy: 0.9512 - val_loss: 0.1205 - val_accuracy: 0.9559\n",
      "Epoch 6/7\n",
      "69531/69531 [==============================] - ETA: 2s - loss: 0.1776 - accuracy: 0.91 - ETA: 1s - loss: 0.1437 - accuracy: 0.94 - ETA: 1s - loss: 0.1299 - accuracy: 0.95 - ETA: 1s - loss: 0.1319 - accuracy: 0.95 - ETA: 1s - loss: 0.1310 - accuracy: 0.95 - ETA: 1s - loss: 0.1332 - accuracy: 0.95 - ETA: 1s - loss: 0.1306 - accuracy: 0.95 - ETA: 1s - loss: 0.1317 - accuracy: 0.95 - ETA: 1s - loss: 0.1299 - accuracy: 0.95 - ETA: 1s - loss: 0.1284 - accuracy: 0.95 - ETA: 1s - loss: 0.1279 - accuracy: 0.95 - ETA: 1s - loss: 0.1284 - accuracy: 0.95 - ETA: 1s - loss: 0.1284 - accuracy: 0.95 - ETA: 1s - loss: 0.1267 - accuracy: 0.95 - ETA: 1s - loss: 0.1268 - accuracy: 0.95 - ETA: 1s - loss: 0.1266 - accuracy: 0.95 - ETA: 1s - loss: 0.1266 - accuracy: 0.95 - ETA: 0s - loss: 0.1276 - accuracy: 0.95 - ETA: 0s - loss: 0.1280 - accuracy: 0.95 - ETA: 0s - loss: 0.1286 - accuracy: 0.95 - ETA: 0s - loss: 0.1291 - accuracy: 0.95 - ETA: 0s - loss: 0.1289 - accuracy: 0.95 - ETA: 0s - loss: 0.1289 - accuracy: 0.95 - ETA: 0s - loss: 0.1284 - accuracy: 0.95 - ETA: 0s - loss: 0.1292 - accuracy: 0.95 - ETA: 0s - loss: 0.1295 - accuracy: 0.95 - ETA: 0s - loss: 0.1298 - accuracy: 0.95 - ETA: 0s - loss: 0.1298 - accuracy: 0.95 - ETA: 0s - loss: 0.1299 - accuracy: 0.95 - ETA: 0s - loss: 0.1296 - accuracy: 0.95 - ETA: 0s - loss: 0.1296 - accuracy: 0.95 - ETA: 0s - loss: 0.1296 - accuracy: 0.95 - ETA: 0s - loss: 0.1299 - accuracy: 0.95 - ETA: 0s - loss: 0.1295 - accuracy: 0.95 - ETA: 0s - loss: 0.1297 - accuracy: 0.95 - 2s 30us/sample - loss: 0.1293 - accuracy: 0.9540 - val_loss: 0.1177 - val_accuracy: 0.9568\n",
      "Epoch 7/7\n",
      "69531/69531 [==============================] - ETA: 1s - loss: 0.1259 - accuracy: 0.95 - ETA: 1s - loss: 0.1286 - accuracy: 0.95 - ETA: 1s - loss: 0.1289 - accuracy: 0.95 - ETA: 1s - loss: 0.1235 - accuracy: 0.95 - ETA: 1s - loss: 0.1224 - accuracy: 0.95 - ETA: 1s - loss: 0.1249 - accuracy: 0.95 - ETA: 1s - loss: 0.1251 - accuracy: 0.95 - ETA: 1s - loss: 0.1244 - accuracy: 0.95 - ETA: 1s - loss: 0.1256 - accuracy: 0.95 - ETA: 1s - loss: 0.1260 - accuracy: 0.95 - ETA: 1s - loss: 0.1243 - accuracy: 0.95 - ETA: 1s - loss: 0.1225 - accuracy: 0.95 - ETA: 1s - loss: 0.1230 - accuracy: 0.95 - ETA: 1s - loss: 0.1234 - accuracy: 0.95 - ETA: 1s - loss: 0.1216 - accuracy: 0.95 - ETA: 1s - loss: 0.1211 - accuracy: 0.95 - ETA: 1s - loss: 0.1214 - accuracy: 0.95 - ETA: 0s - loss: 0.1213 - accuracy: 0.95 - ETA: 0s - loss: 0.1211 - accuracy: 0.95 - ETA: 0s - loss: 0.1215 - accuracy: 0.95 - ETA: 0s - loss: 0.1217 - accuracy: 0.95 - ETA: 0s - loss: 0.1222 - accuracy: 0.95 - ETA: 0s - loss: 0.1229 - accuracy: 0.95 - ETA: 0s - loss: 0.1231 - accuracy: 0.95 - ETA: 0s - loss: 0.1234 - accuracy: 0.95 - ETA: 0s - loss: 0.1233 - accuracy: 0.95 - ETA: 0s - loss: 0.1238 - accuracy: 0.95 - ETA: 0s - loss: 0.1250 - accuracy: 0.95 - ETA: 0s - loss: 0.1256 - accuracy: 0.95 - ETA: 0s - loss: 0.1257 - accuracy: 0.95 - ETA: 0s - loss: 0.1255 - accuracy: 0.95 - ETA: 0s - loss: 0.1257 - accuracy: 0.95 - ETA: 0s - loss: 0.1251 - accuracy: 0.95 - ETA: 0s - loss: 0.1251 - accuracy: 0.95 - ETA: 0s - loss: 0.1251 - accuracy: 0.95 - ETA: 0s - loss: 0.1248 - accuracy: 0.95 - 2s 31us/sample - loss: 0.1246 - accuracy: 0.9552 - val_loss: 0.1149 - val_accuracy: 0.9572\n"
     ]
    },
    {
     "data": {
      "text/html": [
       "<span style=\"color:#4527A0\"><h1 style=\"font-size:18px\">Trial complete</h1></span>"
      ],
      "text/plain": [
       "<IPython.core.display.HTML object>"
      ]
     },
     "metadata": {},
     "output_type": "display_data"
    },
    {
     "data": {
      "text/html": [
       "<span style=\"color:#4527A0\"><h1 style=\"font-size:18px\">Trial summary</h1></span>"
      ],
      "text/plain": [
       "<IPython.core.display.HTML object>"
      ]
     },
     "metadata": {},
     "output_type": "display_data"
    },
    {
     "data": {
      "text/html": [
       "<span style=\"color:cyan\"> |-Trial ID: 18a4a9e69bc083a014cc94acb8d9915c</span>"
      ],
      "text/plain": [
       "<IPython.core.display.HTML object>"
      ]
     },
     "metadata": {},
     "output_type": "display_data"
    },
    {
     "data": {
      "text/html": [
       "<span style=\"color:cyan\"> |-Score: 0.9571558237075806</span>"
      ],
      "text/plain": [
       "<IPython.core.display.HTML object>"
      ]
     },
     "metadata": {},
     "output_type": "display_data"
    },
    {
     "data": {
      "text/html": [
       "<span style=\"color:cyan\"> |-Best step: 0</span>"
      ],
      "text/plain": [
       "<IPython.core.display.HTML object>"
      ]
     },
     "metadata": {},
     "output_type": "display_data"
    },
    {
     "data": {
      "text/html": [
       "<span style=\"color:#7E57C2\"><h2 style=\"font-size:16px\">Hyperparameters:</h2></span>"
      ],
      "text/plain": [
       "<IPython.core.display.HTML object>"
      ]
     },
     "metadata": {},
     "output_type": "display_data"
    },
    {
     "data": {
      "text/html": [
       "<span style=\"color:cyan\"> |-rate_1: 0.30000000000000004</span>"
      ],
      "text/plain": [
       "<IPython.core.display.HTML object>"
      ]
     },
     "metadata": {},
     "output_type": "display_data"
    },
    {
     "data": {
      "text/html": [
       "<span style=\"color:blue\"> |-rate_2: 0.4000000000000001</span>"
      ],
      "text/plain": [
       "<IPython.core.display.HTML object>"
      ]
     },
     "metadata": {},
     "output_type": "display_data"
    },
    {
     "data": {
      "text/html": [
       "<span style=\"color:cyan\"> |-tuner/bracket: 2</span>"
      ],
      "text/plain": [
       "<IPython.core.display.HTML object>"
      ]
     },
     "metadata": {},
     "output_type": "display_data"
    },
    {
     "data": {
      "text/html": [
       "<span style=\"color:blue\"> |-tuner/epochs: 7</span>"
      ],
      "text/plain": [
       "<IPython.core.display.HTML object>"
      ]
     },
     "metadata": {},
     "output_type": "display_data"
    },
    {
     "data": {
      "text/html": [
       "<span style=\"color:cyan\"> |-tuner/initial_epoch: 3</span>"
      ],
      "text/plain": [
       "<IPython.core.display.HTML object>"
      ]
     },
     "metadata": {},
     "output_type": "display_data"
    },
    {
     "data": {
      "text/html": [
       "<span style=\"color:blue\"> |-tuner/round: 1</span>"
      ],
      "text/plain": [
       "<IPython.core.display.HTML object>"
      ]
     },
     "metadata": {},
     "output_type": "display_data"
    },
    {
     "data": {
      "text/html": [
       "<span style=\"color:cyan\"> |-tuner/trial_id: 79694c7214533021cf448a0fad40411f</span>"
      ],
      "text/plain": [
       "<IPython.core.display.HTML object>"
      ]
     },
     "metadata": {},
     "output_type": "display_data"
    },
    {
     "data": {
      "text/html": [
       "<span style=\"color:blue\"> |-units_1: 40</span>"
      ],
      "text/plain": [
       "<IPython.core.display.HTML object>"
      ]
     },
     "metadata": {},
     "output_type": "display_data"
    },
    {
     "data": {
      "text/html": [
       "<span style=\"color:cyan\"> |-units_2: 60</span>"
      ],
      "text/plain": [
       "<IPython.core.display.HTML object>"
      ]
     },
     "metadata": {},
     "output_type": "display_data"
    },
    {
     "name": "stdout",
     "output_type": "stream",
     "text": [
      "Train on 69531 samples, validate on 23177 samples\n",
      "Epoch 8/20\n",
      "69531/69531 [==============================] - ETA: 2:19 - loss: 0.6176 - accuracy: 0.64 - ETA: 18s - loss: 0.5627 - accuracy: 0.7695 - ETA: 10s - loss: 0.5156 - accuracy: 0.819 - ETA: 7s - loss: 0.4756 - accuracy: 0.842 - ETA: 6s - loss: 0.4369 - accuracy: 0.86 - ETA: 5s - loss: 0.4015 - accuracy: 0.87 - ETA: 4s - loss: 0.3724 - accuracy: 0.88 - ETA: 3s - loss: 0.3487 - accuracy: 0.89 - ETA: 3s - loss: 0.3311 - accuracy: 0.89 - ETA: 3s - loss: 0.3131 - accuracy: 0.90 - ETA: 3s - loss: 0.2980 - accuracy: 0.90 - ETA: 2s - loss: 0.2883 - accuracy: 0.90 - ETA: 2s - loss: 0.2763 - accuracy: 0.91 - ETA: 2s - loss: 0.2677 - accuracy: 0.91 - ETA: 2s - loss: 0.2585 - accuracy: 0.91 - ETA: 2s - loss: 0.2517 - accuracy: 0.91 - ETA: 2s - loss: 0.2449 - accuracy: 0.91 - ETA: 1s - loss: 0.2390 - accuracy: 0.92 - ETA: 1s - loss: 0.2337 - accuracy: 0.92 - ETA: 1s - loss: 0.2281 - accuracy: 0.92 - ETA: 1s - loss: 0.2234 - accuracy: 0.92 - ETA: 1s - loss: 0.2192 - accuracy: 0.92 - ETA: 1s - loss: 0.2153 - accuracy: 0.92 - ETA: 1s - loss: 0.2120 - accuracy: 0.92 - ETA: 1s - loss: 0.2083 - accuracy: 0.92 - ETA: 1s - loss: 0.2044 - accuracy: 0.93 - ETA: 0s - loss: 0.2010 - accuracy: 0.93 - ETA: 0s - loss: 0.1990 - accuracy: 0.93 - ETA: 0s - loss: 0.1973 - accuracy: 0.93 - ETA: 0s - loss: 0.1950 - accuracy: 0.93 - ETA: 0s - loss: 0.1933 - accuracy: 0.93 - ETA: 0s - loss: 0.1915 - accuracy: 0.93 - ETA: 0s - loss: 0.1898 - accuracy: 0.93 - ETA: 0s - loss: 0.1879 - accuracy: 0.93 - ETA: 0s - loss: 0.1860 - accuracy: 0.93 - ETA: 0s - loss: 0.1846 - accuracy: 0.93 - ETA: 0s - loss: 0.1830 - accuracy: 0.93 - ETA: 0s - loss: 0.1819 - accuracy: 0.93 - ETA: 0s - loss: 0.1804 - accuracy: 0.93 - 3s 41us/sample - loss: 0.1792 - accuracy: 0.9386 - val_loss: 0.1200 - val_accuracy: 0.9555\n",
      "Epoch 9/20\n",
      "69531/69531 [==============================] - ETA: 2s - loss: 0.1416 - accuracy: 0.95 - ETA: 1s - loss: 0.1301 - accuracy: 0.95 - ETA: 1s - loss: 0.1244 - accuracy: 0.95 - ETA: 1s - loss: 0.1238 - accuracy: 0.95 - ETA: 1s - loss: 0.1232 - accuracy: 0.95 - ETA: 1s - loss: 0.1253 - accuracy: 0.95 - ETA: 1s - loss: 0.1273 - accuracy: 0.95 - ETA: 1s - loss: 0.1298 - accuracy: 0.95 - ETA: 1s - loss: 0.1284 - accuracy: 0.95 - ETA: 1s - loss: 0.1275 - accuracy: 0.95 - ETA: 1s - loss: 0.1274 - accuracy: 0.95 - ETA: 1s - loss: 0.1264 - accuracy: 0.95 - ETA: 1s - loss: 0.1279 - accuracy: 0.95 - ETA: 1s - loss: 0.1278 - accuracy: 0.95 - ETA: 1s - loss: 0.1268 - accuracy: 0.95 - ETA: 1s - loss: 0.1256 - accuracy: 0.95 - ETA: 1s - loss: 0.1261 - accuracy: 0.95 - ETA: 1s - loss: 0.1257 - accuracy: 0.95 - ETA: 1s - loss: 0.1255 - accuracy: 0.95 - ETA: 0s - loss: 0.1254 - accuracy: 0.95 - ETA: 0s - loss: 0.1259 - accuracy: 0.95 - ETA: 0s - loss: 0.1260 - accuracy: 0.95 - ETA: 0s - loss: 0.1263 - accuracy: 0.95 - ETA: 0s - loss: 0.1260 - accuracy: 0.95 - ETA: 0s - loss: 0.1259 - accuracy: 0.95 - ETA: 0s - loss: 0.1258 - accuracy: 0.95 - ETA: 0s - loss: 0.1253 - accuracy: 0.95 - ETA: 0s - loss: 0.1256 - accuracy: 0.95 - ETA: 0s - loss: 0.1252 - accuracy: 0.95 - ETA: 0s - loss: 0.1257 - accuracy: 0.95 - ETA: 0s - loss: 0.1261 - accuracy: 0.95 - ETA: 0s - loss: 0.1257 - accuracy: 0.95 - ETA: 0s - loss: 0.1253 - accuracy: 0.95 - ETA: 0s - loss: 0.1251 - accuracy: 0.95 - ETA: 0s - loss: 0.1250 - accuracy: 0.95 - ETA: 0s - loss: 0.1251 - accuracy: 0.95 - ETA: 0s - loss: 0.1248 - accuracy: 0.95 - ETA: 0s - loss: 0.1246 - accuracy: 0.95 - 2s 32us/sample - loss: 0.1243 - accuracy: 0.9551 - val_loss: 0.1143 - val_accuracy: 0.9566\n",
      "Epoch 10/20\n",
      "69531/69531 [==============================] - ETA: 2s - loss: 0.1177 - accuracy: 0.95 - ETA: 1s - loss: 0.1151 - accuracy: 0.95 - ETA: 1s - loss: 0.1121 - accuracy: 0.95 - ETA: 1s - loss: 0.1104 - accuracy: 0.95 - ETA: 1s - loss: 0.1101 - accuracy: 0.95 - ETA: 1s - loss: 0.1108 - accuracy: 0.95 - ETA: 1s - loss: 0.1134 - accuracy: 0.95 - ETA: 1s - loss: 0.1141 - accuracy: 0.95 - ETA: 1s - loss: 0.1161 - accuracy: 0.95 - ETA: 1s - loss: 0.1155 - accuracy: 0.95 - ETA: 1s - loss: 0.1145 - accuracy: 0.95 - ETA: 1s - loss: 0.1152 - accuracy: 0.95 - ETA: 1s - loss: 0.1146 - accuracy: 0.95 - ETA: 1s - loss: 0.1138 - accuracy: 0.95 - ETA: 1s - loss: 0.1161 - accuracy: 0.95 - ETA: 1s - loss: 0.1149 - accuracy: 0.95 - ETA: 1s - loss: 0.1150 - accuracy: 0.95 - ETA: 1s - loss: 0.1155 - accuracy: 0.95 - ETA: 1s - loss: 0.1157 - accuracy: 0.95 - ETA: 1s - loss: 0.1165 - accuracy: 0.95 - ETA: 0s - loss: 0.1167 - accuracy: 0.95 - ETA: 0s - loss: 0.1164 - accuracy: 0.95 - ETA: 0s - loss: 0.1168 - accuracy: 0.95 - ETA: 0s - loss: 0.1170 - accuracy: 0.95 - ETA: 0s - loss: 0.1173 - accuracy: 0.95 - ETA: 0s - loss: 0.1180 - accuracy: 0.95 - ETA: 0s - loss: 0.1177 - accuracy: 0.95 - ETA: 0s - loss: 0.1171 - accuracy: 0.95 - ETA: 0s - loss: 0.1165 - accuracy: 0.95 - ETA: 0s - loss: 0.1173 - accuracy: 0.95 - ETA: 0s - loss: 0.1169 - accuracy: 0.95 - ETA: 0s - loss: 0.1171 - accuracy: 0.95 - ETA: 0s - loss: 0.1178 - accuracy: 0.95 - ETA: 0s - loss: 0.1180 - accuracy: 0.95 - ETA: 0s - loss: 0.1181 - accuracy: 0.95 - ETA: 0s - loss: 0.1182 - accuracy: 0.95 - ETA: 0s - loss: 0.1182 - accuracy: 0.95 - ETA: 0s - loss: 0.1179 - accuracy: 0.95 - ETA: 0s - loss: 0.1179 - accuracy: 0.95 - 2s 32us/sample - loss: 0.1179 - accuracy: 0.9580 - val_loss: 0.1121 - val_accuracy: 0.9581\n",
      "Epoch 11/20\n",
      "69531/69531 [==============================] - ETA: 1s - loss: 0.1945 - accuracy: 0.92 - ETA: 1s - loss: 0.1249 - accuracy: 0.94 - ETA: 1s - loss: 0.1142 - accuracy: 0.95 - ETA: 1s - loss: 0.1101 - accuracy: 0.95 - ETA: 1s - loss: 0.1112 - accuracy: 0.95 - ETA: 1s - loss: 0.1094 - accuracy: 0.95 - ETA: 1s - loss: 0.1096 - accuracy: 0.95 - ETA: 1s - loss: 0.1126 - accuracy: 0.95 - ETA: 1s - loss: 0.1132 - accuracy: 0.95 - ETA: 1s - loss: 0.1119 - accuracy: 0.95 - ETA: 1s - loss: 0.1105 - accuracy: 0.95 - ETA: 1s - loss: 0.1120 - accuracy: 0.95 - ETA: 1s - loss: 0.1119 - accuracy: 0.95 - ETA: 1s - loss: 0.1109 - accuracy: 0.95 - ETA: 1s - loss: 0.1105 - accuracy: 0.95 - ETA: 1s - loss: 0.1114 - accuracy: 0.95 - ETA: 1s - loss: 0.1113 - accuracy: 0.95 - ETA: 1s - loss: 0.1117 - accuracy: 0.95 - ETA: 1s - loss: 0.1134 - accuracy: 0.95 - ETA: 1s - loss: 0.1126 - accuracy: 0.95 - ETA: 1s - loss: 0.1129 - accuracy: 0.95 - ETA: 0s - loss: 0.1139 - accuracy: 0.95 - ETA: 0s - loss: 0.1143 - accuracy: 0.95 - ETA: 0s - loss: 0.1147 - accuracy: 0.95 - ETA: 0s - loss: 0.1145 - accuracy: 0.95 - ETA: 0s - loss: 0.1150 - accuracy: 0.95 - ETA: 0s - loss: 0.1144 - accuracy: 0.95 - ETA: 0s - loss: 0.1141 - accuracy: 0.95 - ETA: 0s - loss: 0.1134 - accuracy: 0.95 - ETA: 0s - loss: 0.1133 - accuracy: 0.95 - ETA: 0s - loss: 0.1143 - accuracy: 0.95 - ETA: 0s - loss: 0.1145 - accuracy: 0.95 - ETA: 0s - loss: 0.1146 - accuracy: 0.95 - ETA: 0s - loss: 0.1143 - accuracy: 0.95 - ETA: 0s - loss: 0.1141 - accuracy: 0.95 - ETA: 0s - loss: 0.1141 - accuracy: 0.95 - ETA: 0s - loss: 0.1145 - accuracy: 0.95 - ETA: 0s - loss: 0.1142 - accuracy: 0.95 - ETA: 0s - loss: 0.1140 - accuracy: 0.95 - ETA: 0s - loss: 0.1141 - accuracy: 0.95 - 2s 33us/sample - loss: 0.1140 - accuracy: 0.9583 - val_loss: 0.1102 - val_accuracy: 0.9595\n",
      "Epoch 12/20\n"
     ]
    },
    {
     "name": "stdout",
     "output_type": "stream",
     "text": [
      "69531/69531 [==============================] - ETA: 2s - loss: 0.1167 - accuracy: 0.94 - ETA: 1s - loss: 0.1059 - accuracy: 0.96 - ETA: 1s - loss: 0.1165 - accuracy: 0.95 - ETA: 1s - loss: 0.1266 - accuracy: 0.95 - ETA: 1s - loss: 0.1237 - accuracy: 0.95 - ETA: 1s - loss: 0.1264 - accuracy: 0.95 - ETA: 1s - loss: 0.1233 - accuracy: 0.95 - ETA: 1s - loss: 0.1210 - accuracy: 0.95 - ETA: 1s - loss: 0.1194 - accuracy: 0.95 - ETA: 1s - loss: 0.1185 - accuracy: 0.95 - ETA: 1s - loss: 0.1173 - accuracy: 0.95 - ETA: 1s - loss: 0.1167 - accuracy: 0.95 - ETA: 1s - loss: 0.1164 - accuracy: 0.95 - ETA: 1s - loss: 0.1148 - accuracy: 0.95 - ETA: 1s - loss: 0.1160 - accuracy: 0.95 - ETA: 1s - loss: 0.1149 - accuracy: 0.95 - ETA: 1s - loss: 0.1139 - accuracy: 0.95 - ETA: 1s - loss: 0.1145 - accuracy: 0.95 - ETA: 1s - loss: 0.1150 - accuracy: 0.95 - ETA: 1s - loss: 0.1145 - accuracy: 0.95 - ETA: 0s - loss: 0.1151 - accuracy: 0.95 - ETA: 0s - loss: 0.1141 - accuracy: 0.95 - ETA: 0s - loss: 0.1147 - accuracy: 0.95 - ETA: 0s - loss: 0.1147 - accuracy: 0.95 - ETA: 0s - loss: 0.1145 - accuracy: 0.95 - ETA: 0s - loss: 0.1146 - accuracy: 0.95 - ETA: 0s - loss: 0.1148 - accuracy: 0.95 - ETA: 0s - loss: 0.1151 - accuracy: 0.95 - ETA: 0s - loss: 0.1146 - accuracy: 0.95 - ETA: 0s - loss: 0.1142 - accuracy: 0.95 - ETA: 0s - loss: 0.1142 - accuracy: 0.95 - ETA: 0s - loss: 0.1141 - accuracy: 0.95 - ETA: 0s - loss: 0.1143 - accuracy: 0.95 - ETA: 0s - loss: 0.1135 - accuracy: 0.95 - ETA: 0s - loss: 0.1137 - accuracy: 0.95 - ETA: 0s - loss: 0.1139 - accuracy: 0.95 - ETA: 0s - loss: 0.1134 - accuracy: 0.95 - ETA: 0s - loss: 0.1132 - accuracy: 0.95 - ETA: 0s - loss: 0.1129 - accuracy: 0.95 - 2s 33us/sample - loss: 0.1126 - accuracy: 0.9591 - val_loss: 0.1094 - val_accuracy: 0.9600\n",
      "Epoch 13/20\n",
      "69531/69531 [==============================] - ETA: 2s - loss: 0.1098 - accuracy: 0.95 - ETA: 2s - loss: 0.1088 - accuracy: 0.96 - ETA: 1s - loss: 0.1075 - accuracy: 0.96 - ETA: 1s - loss: 0.1086 - accuracy: 0.96 - ETA: 1s - loss: 0.1064 - accuracy: 0.96 - ETA: 1s - loss: 0.1081 - accuracy: 0.96 - ETA: 1s - loss: 0.1063 - accuracy: 0.96 - ETA: 1s - loss: 0.1114 - accuracy: 0.95 - ETA: 1s - loss: 0.1103 - accuracy: 0.95 - ETA: 1s - loss: 0.1099 - accuracy: 0.96 - ETA: 1s - loss: 0.1108 - accuracy: 0.95 - ETA: 1s - loss: 0.1119 - accuracy: 0.95 - ETA: 1s - loss: 0.1109 - accuracy: 0.95 - ETA: 1s - loss: 0.1118 - accuracy: 0.95 - ETA: 1s - loss: 0.1121 - accuracy: 0.95 - ETA: 1s - loss: 0.1114 - accuracy: 0.95 - ETA: 1s - loss: 0.1112 - accuracy: 0.95 - ETA: 1s - loss: 0.1115 - accuracy: 0.95 - ETA: 1s - loss: 0.1112 - accuracy: 0.95 - ETA: 0s - loss: 0.1114 - accuracy: 0.95 - ETA: 0s - loss: 0.1119 - accuracy: 0.95 - ETA: 0s - loss: 0.1117 - accuracy: 0.95 - ETA: 0s - loss: 0.1119 - accuracy: 0.95 - ETA: 0s - loss: 0.1111 - accuracy: 0.96 - ETA: 0s - loss: 0.1121 - accuracy: 0.95 - ETA: 0s - loss: 0.1124 - accuracy: 0.95 - ETA: 0s - loss: 0.1120 - accuracy: 0.95 - ETA: 0s - loss: 0.1115 - accuracy: 0.95 - ETA: 0s - loss: 0.1114 - accuracy: 0.95 - ETA: 0s - loss: 0.1114 - accuracy: 0.95 - ETA: 0s - loss: 0.1118 - accuracy: 0.95 - ETA: 0s - loss: 0.1119 - accuracy: 0.95 - ETA: 0s - loss: 0.1119 - accuracy: 0.95 - ETA: 0s - loss: 0.1116 - accuracy: 0.95 - ETA: 0s - loss: 0.1121 - accuracy: 0.95 - ETA: 0s - loss: 0.1124 - accuracy: 0.95 - ETA: 0s - loss: 0.1123 - accuracy: 0.95 - ETA: 0s - loss: 0.1117 - accuracy: 0.95 - 2s 32us/sample - loss: 0.1116 - accuracy: 0.9597 - val_loss: 0.1081 - val_accuracy: 0.9603\n",
      "Epoch 14/20\n",
      "69531/69531 [==============================] - ETA: 1s - loss: 0.1297 - accuracy: 0.95 - ETA: 1s - loss: 0.1052 - accuracy: 0.96 - ETA: 1s - loss: 0.1049 - accuracy: 0.96 - ETA: 1s - loss: 0.1017 - accuracy: 0.96 - ETA: 1s - loss: 0.1036 - accuracy: 0.96 - ETA: 1s - loss: 0.1074 - accuracy: 0.96 - ETA: 1s - loss: 0.1096 - accuracy: 0.96 - ETA: 1s - loss: 0.1100 - accuracy: 0.96 - ETA: 1s - loss: 0.1110 - accuracy: 0.96 - ETA: 1s - loss: 0.1116 - accuracy: 0.96 - ETA: 1s - loss: 0.1119 - accuracy: 0.95 - ETA: 1s - loss: 0.1109 - accuracy: 0.96 - ETA: 1s - loss: 0.1105 - accuracy: 0.96 - ETA: 1s - loss: 0.1090 - accuracy: 0.96 - ETA: 1s - loss: 0.1089 - accuracy: 0.96 - ETA: 1s - loss: 0.1086 - accuracy: 0.96 - ETA: 1s - loss: 0.1086 - accuracy: 0.96 - ETA: 1s - loss: 0.1083 - accuracy: 0.96 - ETA: 1s - loss: 0.1090 - accuracy: 0.96 - ETA: 1s - loss: 0.1085 - accuracy: 0.96 - ETA: 0s - loss: 0.1088 - accuracy: 0.96 - ETA: 0s - loss: 0.1076 - accuracy: 0.96 - ETA: 0s - loss: 0.1082 - accuracy: 0.96 - ETA: 0s - loss: 0.1090 - accuracy: 0.96 - ETA: 0s - loss: 0.1091 - accuracy: 0.96 - ETA: 0s - loss: 0.1085 - accuracy: 0.96 - ETA: 0s - loss: 0.1082 - accuracy: 0.96 - ETA: 0s - loss: 0.1086 - accuracy: 0.96 - ETA: 0s - loss: 0.1082 - accuracy: 0.96 - ETA: 0s - loss: 0.1085 - accuracy: 0.96 - ETA: 0s - loss: 0.1086 - accuracy: 0.96 - ETA: 0s - loss: 0.1088 - accuracy: 0.96 - ETA: 0s - loss: 0.1086 - accuracy: 0.96 - ETA: 0s - loss: 0.1091 - accuracy: 0.96 - ETA: 0s - loss: 0.1093 - accuracy: 0.96 - ETA: 0s - loss: 0.1089 - accuracy: 0.96 - ETA: 0s - loss: 0.1088 - accuracy: 0.96 - ETA: 0s - loss: 0.1088 - accuracy: 0.96 - ETA: 0s - loss: 0.1087 - accuracy: 0.96 - 2s 32us/sample - loss: 0.1088 - accuracy: 0.9602 - val_loss: 0.1071 - val_accuracy: 0.9614\n",
      "Epoch 15/20\n",
      "69531/69531 [==============================] - ETA: 2s - loss: 0.1211 - accuracy: 0.94 - ETA: 2s - loss: 0.1099 - accuracy: 0.95 - ETA: 1s - loss: 0.1031 - accuracy: 0.96 - ETA: 1s - loss: 0.1025 - accuracy: 0.96 - ETA: 1s - loss: 0.1047 - accuracy: 0.96 - ETA: 1s - loss: 0.1061 - accuracy: 0.96 - ETA: 1s - loss: 0.1065 - accuracy: 0.96 - ETA: 1s - loss: 0.1048 - accuracy: 0.96 - ETA: 1s - loss: 0.1060 - accuracy: 0.96 - ETA: 1s - loss: 0.1074 - accuracy: 0.96 - ETA: 1s - loss: 0.1082 - accuracy: 0.96 - ETA: 1s - loss: 0.1075 - accuracy: 0.96 - ETA: 1s - loss: 0.1081 - accuracy: 0.96 - ETA: 1s - loss: 0.1078 - accuracy: 0.96 - ETA: 1s - loss: 0.1073 - accuracy: 0.96 - ETA: 1s - loss: 0.1067 - accuracy: 0.96 - ETA: 1s - loss: 0.1056 - accuracy: 0.96 - ETA: 1s - loss: 0.1058 - accuracy: 0.96 - ETA: 1s - loss: 0.1063 - accuracy: 0.96 - ETA: 1s - loss: 0.1070 - accuracy: 0.96 - ETA: 0s - loss: 0.1072 - accuracy: 0.96 - ETA: 0s - loss: 0.1072 - accuracy: 0.96 - ETA: 0s - loss: 0.1076 - accuracy: 0.96 - ETA: 0s - loss: 0.1074 - accuracy: 0.96 - ETA: 0s - loss: 0.1074 - accuracy: 0.96 - ETA: 0s - loss: 0.1078 - accuracy: 0.96 - ETA: 0s - loss: 0.1075 - accuracy: 0.96 - ETA: 0s - loss: 0.1082 - accuracy: 0.96 - ETA: 0s - loss: 0.1080 - accuracy: 0.96 - ETA: 0s - loss: 0.1086 - accuracy: 0.96 - ETA: 0s - loss: 0.1086 - accuracy: 0.96 - ETA: 0s - loss: 0.1083 - accuracy: 0.96 - ETA: 0s - loss: 0.1084 - accuracy: 0.96 - ETA: 0s - loss: 0.1081 - accuracy: 0.96 - ETA: 0s - loss: 0.1081 - accuracy: 0.96 - ETA: 0s - loss: 0.1082 - accuracy: 0.96 - ETA: 0s - loss: 0.1083 - accuracy: 0.96 - ETA: 0s - loss: 0.1085 - accuracy: 0.96 - ETA: 0s - loss: 0.1086 - accuracy: 0.96 - 2s 32us/sample - loss: 0.1086 - accuracy: 0.9608 - val_loss: 0.1061 - val_accuracy: 0.9610\n",
      "Epoch 16/20\n"
     ]
    },
    {
     "name": "stdout",
     "output_type": "stream",
     "text": [
      "69531/69531 [==============================] - ETA: 1s - loss: 0.1296 - accuracy: 0.94 - ETA: 1s - loss: 0.1103 - accuracy: 0.95 - ETA: 1s - loss: 0.1077 - accuracy: 0.95 - ETA: 1s - loss: 0.1149 - accuracy: 0.95 - ETA: 1s - loss: 0.1096 - accuracy: 0.95 - ETA: 1s - loss: 0.1105 - accuracy: 0.95 - ETA: 1s - loss: 0.1101 - accuracy: 0.95 - ETA: 1s - loss: 0.1064 - accuracy: 0.95 - ETA: 1s - loss: 0.1090 - accuracy: 0.95 - ETA: 1s - loss: 0.1071 - accuracy: 0.96 - ETA: 1s - loss: 0.1065 - accuracy: 0.96 - ETA: 1s - loss: 0.1071 - accuracy: 0.96 - ETA: 1s - loss: 0.1080 - accuracy: 0.96 - ETA: 1s - loss: 0.1092 - accuracy: 0.96 - ETA: 1s - loss: 0.1091 - accuracy: 0.95 - ETA: 1s - loss: 0.1092 - accuracy: 0.95 - ETA: 1s - loss: 0.1091 - accuracy: 0.95 - ETA: 1s - loss: 0.1098 - accuracy: 0.95 - ETA: 1s - loss: 0.1101 - accuracy: 0.95 - ETA: 1s - loss: 0.1098 - accuracy: 0.96 - ETA: 0s - loss: 0.1098 - accuracy: 0.95 - ETA: 0s - loss: 0.1096 - accuracy: 0.96 - ETA: 0s - loss: 0.1084 - accuracy: 0.96 - ETA: 0s - loss: 0.1079 - accuracy: 0.96 - ETA: 0s - loss: 0.1082 - accuracy: 0.96 - ETA: 0s - loss: 0.1078 - accuracy: 0.96 - ETA: 0s - loss: 0.1076 - accuracy: 0.96 - ETA: 0s - loss: 0.1078 - accuracy: 0.96 - ETA: 0s - loss: 0.1077 - accuracy: 0.96 - ETA: 0s - loss: 0.1077 - accuracy: 0.96 - ETA: 0s - loss: 0.1075 - accuracy: 0.96 - ETA: 0s - loss: 0.1075 - accuracy: 0.96 - ETA: 0s - loss: 0.1079 - accuracy: 0.96 - ETA: 0s - loss: 0.1079 - accuracy: 0.96 - ETA: 0s - loss: 0.1079 - accuracy: 0.96 - ETA: 0s - loss: 0.1078 - accuracy: 0.96 - ETA: 0s - loss: 0.1076 - accuracy: 0.96 - ETA: 0s - loss: 0.1076 - accuracy: 0.96 - ETA: 0s - loss: 0.1075 - accuracy: 0.96 - 2s 32us/sample - loss: 0.1073 - accuracy: 0.9611 - val_loss: 0.1054 - val_accuracy: 0.9617\n",
      "Epoch 17/20\n",
      "69531/69531 [==============================] - ETA: 1s - loss: 0.0574 - accuracy: 0.98 - ETA: 1s - loss: 0.1123 - accuracy: 0.96 - ETA: 1s - loss: 0.1030 - accuracy: 0.96 - ETA: 1s - loss: 0.1054 - accuracy: 0.96 - ETA: 1s - loss: 0.1093 - accuracy: 0.95 - ETA: 1s - loss: 0.1063 - accuracy: 0.96 - ETA: 1s - loss: 0.1067 - accuracy: 0.95 - ETA: 1s - loss: 0.1072 - accuracy: 0.96 - ETA: 1s - loss: 0.1079 - accuracy: 0.95 - ETA: 1s - loss: 0.1053 - accuracy: 0.96 - ETA: 1s - loss: 0.1040 - accuracy: 0.96 - ETA: 1s - loss: 0.1055 - accuracy: 0.96 - ETA: 1s - loss: 0.1041 - accuracy: 0.96 - ETA: 1s - loss: 0.1065 - accuracy: 0.96 - ETA: 1s - loss: 0.1062 - accuracy: 0.96 - ETA: 1s - loss: 0.1060 - accuracy: 0.96 - ETA: 1s - loss: 0.1072 - accuracy: 0.96 - ETA: 1s - loss: 0.1063 - accuracy: 0.96 - ETA: 1s - loss: 0.1063 - accuracy: 0.96 - ETA: 1s - loss: 0.1066 - accuracy: 0.96 - ETA: 0s - loss: 0.1069 - accuracy: 0.96 - ETA: 0s - loss: 0.1065 - accuracy: 0.96 - ETA: 0s - loss: 0.1061 - accuracy: 0.96 - ETA: 0s - loss: 0.1057 - accuracy: 0.96 - ETA: 0s - loss: 0.1052 - accuracy: 0.96 - ETA: 0s - loss: 0.1049 - accuracy: 0.96 - ETA: 0s - loss: 0.1055 - accuracy: 0.96 - ETA: 0s - loss: 0.1058 - accuracy: 0.96 - ETA: 0s - loss: 0.1060 - accuracy: 0.96 - ETA: 0s - loss: 0.1060 - accuracy: 0.96 - ETA: 0s - loss: 0.1058 - accuracy: 0.96 - ETA: 0s - loss: 0.1061 - accuracy: 0.96 - ETA: 0s - loss: 0.1067 - accuracy: 0.96 - ETA: 0s - loss: 0.1068 - accuracy: 0.96 - ETA: 0s - loss: 0.1064 - accuracy: 0.96 - ETA: 0s - loss: 0.1059 - accuracy: 0.96 - ETA: 0s - loss: 0.1064 - accuracy: 0.96 - ETA: 0s - loss: 0.1064 - accuracy: 0.96 - ETA: 0s - loss: 0.1066 - accuracy: 0.96 - 2s 32us/sample - loss: 0.1065 - accuracy: 0.9607 - val_loss: 0.1049 - val_accuracy: 0.9621\n",
      "Epoch 18/20\n",
      "69531/69531 [==============================] - ETA: 1s - loss: 0.0942 - accuracy: 0.97 - ETA: 1s - loss: 0.0927 - accuracy: 0.96 - ETA: 1s - loss: 0.1023 - accuracy: 0.96 - ETA: 1s - loss: 0.1022 - accuracy: 0.96 - ETA: 1s - loss: 0.1030 - accuracy: 0.96 - ETA: 1s - loss: 0.1069 - accuracy: 0.96 - ETA: 1s - loss: 0.1082 - accuracy: 0.96 - ETA: 1s - loss: 0.1063 - accuracy: 0.96 - ETA: 1s - loss: 0.1067 - accuracy: 0.96 - ETA: 1s - loss: 0.1048 - accuracy: 0.96 - ETA: 1s - loss: 0.1043 - accuracy: 0.96 - ETA: 1s - loss: 0.1032 - accuracy: 0.96 - ETA: 1s - loss: 0.1034 - accuracy: 0.96 - ETA: 1s - loss: 0.1028 - accuracy: 0.96 - ETA: 1s - loss: 0.1033 - accuracy: 0.96 - ETA: 1s - loss: 0.1041 - accuracy: 0.96 - ETA: 1s - loss: 0.1046 - accuracy: 0.96 - ETA: 1s - loss: 0.1046 - accuracy: 0.96 - ETA: 1s - loss: 0.1042 - accuracy: 0.96 - ETA: 1s - loss: 0.1037 - accuracy: 0.96 - ETA: 0s - loss: 0.1044 - accuracy: 0.96 - ETA: 0s - loss: 0.1051 - accuracy: 0.96 - ETA: 0s - loss: 0.1051 - accuracy: 0.96 - ETA: 0s - loss: 0.1052 - accuracy: 0.96 - ETA: 0s - loss: 0.1058 - accuracy: 0.96 - ETA: 0s - loss: 0.1056 - accuracy: 0.96 - ETA: 0s - loss: 0.1051 - accuracy: 0.96 - ETA: 0s - loss: 0.1052 - accuracy: 0.96 - ETA: 0s - loss: 0.1052 - accuracy: 0.96 - ETA: 0s - loss: 0.1059 - accuracy: 0.96 - ETA: 0s - loss: 0.1062 - accuracy: 0.96 - ETA: 0s - loss: 0.1066 - accuracy: 0.96 - ETA: 0s - loss: 0.1068 - accuracy: 0.96 - ETA: 0s - loss: 0.1069 - accuracy: 0.96 - ETA: 0s - loss: 0.1068 - accuracy: 0.96 - ETA: 0s - loss: 0.1066 - accuracy: 0.96 - ETA: 0s - loss: 0.1065 - accuracy: 0.96 - ETA: 0s - loss: 0.1066 - accuracy: 0.96 - ETA: 0s - loss: 0.1064 - accuracy: 0.96 - 2s 32us/sample - loss: 0.1064 - accuracy: 0.9611 - val_loss: 0.1053 - val_accuracy: 0.9616\n",
      "Epoch 19/20\n",
      "69531/69531 [==============================] - ETA: 1s - loss: 0.0968 - accuracy: 0.96 - ETA: 1s - loss: 0.1121 - accuracy: 0.95 - ETA: 1s - loss: 0.1072 - accuracy: 0.95 - ETA: 1s - loss: 0.1123 - accuracy: 0.95 - ETA: 1s - loss: 0.1070 - accuracy: 0.96 - ETA: 1s - loss: 0.1076 - accuracy: 0.95 - ETA: 1s - loss: 0.1069 - accuracy: 0.96 - ETA: 1s - loss: 0.1046 - accuracy: 0.96 - ETA: 1s - loss: 0.1060 - accuracy: 0.96 - ETA: 1s - loss: 0.1053 - accuracy: 0.96 - ETA: 1s - loss: 0.1054 - accuracy: 0.96 - ETA: 1s - loss: 0.1048 - accuracy: 0.96 - ETA: 1s - loss: 0.1042 - accuracy: 0.96 - ETA: 1s - loss: 0.1051 - accuracy: 0.96 - ETA: 1s - loss: 0.1062 - accuracy: 0.96 - ETA: 1s - loss: 0.1060 - accuracy: 0.96 - ETA: 1s - loss: 0.1056 - accuracy: 0.96 - ETA: 1s - loss: 0.1060 - accuracy: 0.96 - ETA: 1s - loss: 0.1062 - accuracy: 0.96 - ETA: 1s - loss: 0.1066 - accuracy: 0.96 - ETA: 0s - loss: 0.1071 - accuracy: 0.96 - ETA: 0s - loss: 0.1073 - accuracy: 0.96 - ETA: 0s - loss: 0.1072 - accuracy: 0.96 - ETA: 0s - loss: 0.1073 - accuracy: 0.96 - ETA: 0s - loss: 0.1071 - accuracy: 0.96 - ETA: 0s - loss: 0.1067 - accuracy: 0.96 - ETA: 0s - loss: 0.1064 - accuracy: 0.96 - ETA: 0s - loss: 0.1062 - accuracy: 0.96 - ETA: 0s - loss: 0.1062 - accuracy: 0.96 - ETA: 0s - loss: 0.1066 - accuracy: 0.96 - ETA: 0s - loss: 0.1064 - accuracy: 0.96 - ETA: 0s - loss: 0.1064 - accuracy: 0.96 - ETA: 0s - loss: 0.1064 - accuracy: 0.96 - ETA: 0s - loss: 0.1064 - accuracy: 0.96 - ETA: 0s - loss: 0.1064 - accuracy: 0.96 - ETA: 0s - loss: 0.1058 - accuracy: 0.96 - ETA: 0s - loss: 0.1059 - accuracy: 0.96 - ETA: 0s - loss: 0.1061 - accuracy: 0.96 - 2s 31us/sample - loss: 0.1056 - accuracy: 0.9619 - val_loss: 0.1052 - val_accuracy: 0.9616\n",
      "Epoch 20/20\n"
     ]
    },
    {
     "name": "stdout",
     "output_type": "stream",
     "text": [
      "69531/69531 [==============================] - ETA: 1s - loss: 0.1406 - accuracy: 0.94 - ETA: 1s - loss: 0.1118 - accuracy: 0.95 - ETA: 1s - loss: 0.1005 - accuracy: 0.96 - ETA: 1s - loss: 0.1015 - accuracy: 0.96 - ETA: 1s - loss: 0.0981 - accuracy: 0.96 - ETA: 1s - loss: 0.1014 - accuracy: 0.96 - ETA: 1s - loss: 0.1020 - accuracy: 0.96 - ETA: 1s - loss: 0.1029 - accuracy: 0.96 - ETA: 1s - loss: 0.1015 - accuracy: 0.96 - ETA: 1s - loss: 0.1009 - accuracy: 0.96 - ETA: 1s - loss: 0.1022 - accuracy: 0.96 - ETA: 1s - loss: 0.1017 - accuracy: 0.96 - ETA: 1s - loss: 0.1034 - accuracy: 0.96 - ETA: 1s - loss: 0.1028 - accuracy: 0.96 - ETA: 1s - loss: 0.1035 - accuracy: 0.96 - ETA: 1s - loss: 0.1041 - accuracy: 0.96 - ETA: 1s - loss: 0.1041 - accuracy: 0.96 - ETA: 1s - loss: 0.1045 - accuracy: 0.96 - ETA: 1s - loss: 0.1044 - accuracy: 0.96 - ETA: 1s - loss: 0.1055 - accuracy: 0.96 - ETA: 0s - loss: 0.1062 - accuracy: 0.96 - ETA: 0s - loss: 0.1060 - accuracy: 0.96 - ETA: 0s - loss: 0.1065 - accuracy: 0.96 - ETA: 0s - loss: 0.1068 - accuracy: 0.96 - ETA: 0s - loss: 0.1068 - accuracy: 0.96 - ETA: 0s - loss: 0.1067 - accuracy: 0.96 - ETA: 0s - loss: 0.1066 - accuracy: 0.96 - ETA: 0s - loss: 0.1057 - accuracy: 0.96 - ETA: 0s - loss: 0.1062 - accuracy: 0.96 - ETA: 0s - loss: 0.1065 - accuracy: 0.96 - ETA: 0s - loss: 0.1055 - accuracy: 0.96 - ETA: 0s - loss: 0.1058 - accuracy: 0.96 - ETA: 0s - loss: 0.1056 - accuracy: 0.96 - ETA: 0s - loss: 0.1059 - accuracy: 0.96 - ETA: 0s - loss: 0.1057 - accuracy: 0.96 - ETA: 0s - loss: 0.1051 - accuracy: 0.96 - ETA: 0s - loss: 0.1048 - accuracy: 0.96 - ETA: 0s - loss: 0.1047 - accuracy: 0.96 - ETA: 0s - loss: 0.1047 - accuracy: 0.96 - 2s 32us/sample - loss: 0.1046 - accuracy: 0.9616 - val_loss: 0.1047 - val_accuracy: 0.9624\n"
     ]
    },
    {
     "data": {
      "text/html": [
       "<span style=\"color:#4527A0\"><h1 style=\"font-size:18px\">Trial complete</h1></span>"
      ],
      "text/plain": [
       "<IPython.core.display.HTML object>"
      ]
     },
     "metadata": {},
     "output_type": "display_data"
    },
    {
     "data": {
      "text/html": [
       "<span style=\"color:#4527A0\"><h1 style=\"font-size:18px\">Trial summary</h1></span>"
      ],
      "text/plain": [
       "<IPython.core.display.HTML object>"
      ]
     },
     "metadata": {},
     "output_type": "display_data"
    },
    {
     "data": {
      "text/html": [
       "<span style=\"color:cyan\"> |-Trial ID: be429d97b0971e47d8a5c77f8f76b804</span>"
      ],
      "text/plain": [
       "<IPython.core.display.HTML object>"
      ]
     },
     "metadata": {},
     "output_type": "display_data"
    },
    {
     "data": {
      "text/html": [
       "<span style=\"color:cyan\"> |-Score: 0.9623764753341675</span>"
      ],
      "text/plain": [
       "<IPython.core.display.HTML object>"
      ]
     },
     "metadata": {},
     "output_type": "display_data"
    },
    {
     "data": {
      "text/html": [
       "<span style=\"color:cyan\"> |-Best step: 0</span>"
      ],
      "text/plain": [
       "<IPython.core.display.HTML object>"
      ]
     },
     "metadata": {},
     "output_type": "display_data"
    },
    {
     "data": {
      "text/html": [
       "<span style=\"color:#7E57C2\"><h2 style=\"font-size:16px\">Hyperparameters:</h2></span>"
      ],
      "text/plain": [
       "<IPython.core.display.HTML object>"
      ]
     },
     "metadata": {},
     "output_type": "display_data"
    },
    {
     "data": {
      "text/html": [
       "<span style=\"color:cyan\"> |-rate_1: 0.2</span>"
      ],
      "text/plain": [
       "<IPython.core.display.HTML object>"
      ]
     },
     "metadata": {},
     "output_type": "display_data"
    },
    {
     "data": {
      "text/html": [
       "<span style=\"color:blue\"> |-rate_2: 0.2</span>"
      ],
      "text/plain": [
       "<IPython.core.display.HTML object>"
      ]
     },
     "metadata": {},
     "output_type": "display_data"
    },
    {
     "data": {
      "text/html": [
       "<span style=\"color:cyan\"> |-tuner/bracket: 2</span>"
      ],
      "text/plain": [
       "<IPython.core.display.HTML object>"
      ]
     },
     "metadata": {},
     "output_type": "display_data"
    },
    {
     "data": {
      "text/html": [
       "<span style=\"color:blue\"> |-tuner/epochs: 20</span>"
      ],
      "text/plain": [
       "<IPython.core.display.HTML object>"
      ]
     },
     "metadata": {},
     "output_type": "display_data"
    },
    {
     "data": {
      "text/html": [
       "<span style=\"color:cyan\"> |-tuner/initial_epoch: 7</span>"
      ],
      "text/plain": [
       "<IPython.core.display.HTML object>"
      ]
     },
     "metadata": {},
     "output_type": "display_data"
    },
    {
     "data": {
      "text/html": [
       "<span style=\"color:blue\"> |-tuner/round: 2</span>"
      ],
      "text/plain": [
       "<IPython.core.display.HTML object>"
      ]
     },
     "metadata": {},
     "output_type": "display_data"
    },
    {
     "data": {
      "text/html": [
       "<span style=\"color:cyan\"> |-tuner/trial_id: 34a67f717bfcac4bd800b4292d2e621c</span>"
      ],
      "text/plain": [
       "<IPython.core.display.HTML object>"
      ]
     },
     "metadata": {},
     "output_type": "display_data"
    },
    {
     "data": {
      "text/html": [
       "<span style=\"color:blue\"> |-units_1: 56</span>"
      ],
      "text/plain": [
       "<IPython.core.display.HTML object>"
      ]
     },
     "metadata": {},
     "output_type": "display_data"
    },
    {
     "data": {
      "text/html": [
       "<span style=\"color:cyan\"> |-units_2: 58</span>"
      ],
      "text/plain": [
       "<IPython.core.display.HTML object>"
      ]
     },
     "metadata": {},
     "output_type": "display_data"
    },
    {
     "name": "stdout",
     "output_type": "stream",
     "text": [
      "Train on 69531 samples, validate on 23177 samples\n",
      "Epoch 8/20\n",
      "69531/69531 [==============================] - ETA: 2:18 - loss: 0.7062 - accuracy: 0.52 - ETA: 16s - loss: 0.6471 - accuracy: 0.5959 - ETA: 9s - loss: 0.5974 - accuracy: 0.677 - ETA: 6s - loss: 0.5480 - accuracy: 0.73 - ETA: 5s - loss: 0.5085 - accuracy: 0.77 - ETA: 4s - loss: 0.4730 - accuracy: 0.79 - ETA: 3s - loss: 0.4419 - accuracy: 0.81 - ETA: 3s - loss: 0.4144 - accuracy: 0.83 - ETA: 3s - loss: 0.3941 - accuracy: 0.83 - ETA: 2s - loss: 0.3768 - accuracy: 0.84 - ETA: 2s - loss: 0.3615 - accuracy: 0.85 - ETA: 2s - loss: 0.3440 - accuracy: 0.86 - ETA: 2s - loss: 0.3301 - accuracy: 0.86 - ETA: 2s - loss: 0.3170 - accuracy: 0.87 - ETA: 1s - loss: 0.3078 - accuracy: 0.87 - ETA: 1s - loss: 0.2982 - accuracy: 0.88 - ETA: 1s - loss: 0.2899 - accuracy: 0.88 - ETA: 1s - loss: 0.2813 - accuracy: 0.89 - ETA: 1s - loss: 0.2733 - accuracy: 0.89 - ETA: 1s - loss: 0.2667 - accuracy: 0.89 - ETA: 1s - loss: 0.2605 - accuracy: 0.89 - ETA: 1s - loss: 0.2555 - accuracy: 0.90 - ETA: 0s - loss: 0.2514 - accuracy: 0.90 - ETA: 0s - loss: 0.2477 - accuracy: 0.90 - ETA: 0s - loss: 0.2433 - accuracy: 0.90 - ETA: 0s - loss: 0.2390 - accuracy: 0.90 - ETA: 0s - loss: 0.2356 - accuracy: 0.90 - ETA: 0s - loss: 0.2326 - accuracy: 0.91 - ETA: 0s - loss: 0.2292 - accuracy: 0.91 - ETA: 0s - loss: 0.2259 - accuracy: 0.91 - ETA: 0s - loss: 0.2228 - accuracy: 0.91 - ETA: 0s - loss: 0.2197 - accuracy: 0.91 - ETA: 0s - loss: 0.2181 - accuracy: 0.91 - ETA: 0s - loss: 0.2161 - accuracy: 0.91 - ETA: 0s - loss: 0.2143 - accuracy: 0.91 - 3s 39us/sample - loss: 0.2132 - accuracy: 0.9194 - val_loss: 0.1251 - val_accuracy: 0.9532\n",
      "Epoch 9/20\n",
      "69531/69531 [==============================] - ETA: 2s - loss: 0.1105 - accuracy: 0.96 - ETA: 1s - loss: 0.1181 - accuracy: 0.95 - ETA: 1s - loss: 0.1377 - accuracy: 0.95 - ETA: 1s - loss: 0.1392 - accuracy: 0.94 - ETA: 1s - loss: 0.1429 - accuracy: 0.94 - ETA: 1s - loss: 0.1403 - accuracy: 0.94 - ETA: 1s - loss: 0.1391 - accuracy: 0.94 - ETA: 1s - loss: 0.1375 - accuracy: 0.94 - ETA: 1s - loss: 0.1363 - accuracy: 0.94 - ETA: 1s - loss: 0.1378 - accuracy: 0.94 - ETA: 1s - loss: 0.1368 - accuracy: 0.95 - ETA: 1s - loss: 0.1370 - accuracy: 0.94 - ETA: 1s - loss: 0.1359 - accuracy: 0.95 - ETA: 1s - loss: 0.1354 - accuracy: 0.95 - ETA: 1s - loss: 0.1355 - accuracy: 0.95 - ETA: 1s - loss: 0.1353 - accuracy: 0.95 - ETA: 0s - loss: 0.1355 - accuracy: 0.95 - ETA: 0s - loss: 0.1364 - accuracy: 0.95 - ETA: 0s - loss: 0.1356 - accuracy: 0.95 - ETA: 0s - loss: 0.1356 - accuracy: 0.95 - ETA: 0s - loss: 0.1344 - accuracy: 0.95 - ETA: 0s - loss: 0.1339 - accuracy: 0.95 - ETA: 0s - loss: 0.1341 - accuracy: 0.95 - ETA: 0s - loss: 0.1334 - accuracy: 0.95 - ETA: 0s - loss: 0.1329 - accuracy: 0.95 - ETA: 0s - loss: 0.1326 - accuracy: 0.95 - ETA: 0s - loss: 0.1331 - accuracy: 0.95 - ETA: 0s - loss: 0.1333 - accuracy: 0.95 - ETA: 0s - loss: 0.1331 - accuracy: 0.95 - ETA: 0s - loss: 0.1334 - accuracy: 0.95 - ETA: 0s - loss: 0.1326 - accuracy: 0.95 - ETA: 0s - loss: 0.1326 - accuracy: 0.95 - ETA: 0s - loss: 0.1327 - accuracy: 0.95 - ETA: 0s - loss: 0.1327 - accuracy: 0.95 - ETA: 0s - loss: 0.1325 - accuracy: 0.95 - 2s 30us/sample - loss: 0.1322 - accuracy: 0.9526 - val_loss: 0.1183 - val_accuracy: 0.9556\n",
      "Epoch 10/20\n",
      "69531/69531 [==============================] - ETA: 1s - loss: 0.1198 - accuracy: 0.94 - ETA: 1s - loss: 0.1348 - accuracy: 0.95 - ETA: 1s - loss: 0.1439 - accuracy: 0.94 - ETA: 1s - loss: 0.1374 - accuracy: 0.95 - ETA: 1s - loss: 0.1345 - accuracy: 0.95 - ETA: 1s - loss: 0.1345 - accuracy: 0.95 - ETA: 1s - loss: 0.1337 - accuracy: 0.95 - ETA: 1s - loss: 0.1307 - accuracy: 0.95 - ETA: 1s - loss: 0.1286 - accuracy: 0.95 - ETA: 1s - loss: 0.1296 - accuracy: 0.95 - ETA: 1s - loss: 0.1294 - accuracy: 0.95 - ETA: 1s - loss: 0.1303 - accuracy: 0.95 - ETA: 1s - loss: 0.1313 - accuracy: 0.95 - ETA: 1s - loss: 0.1302 - accuracy: 0.95 - ETA: 1s - loss: 0.1312 - accuracy: 0.95 - ETA: 1s - loss: 0.1305 - accuracy: 0.95 - ETA: 0s - loss: 0.1298 - accuracy: 0.95 - ETA: 0s - loss: 0.1298 - accuracy: 0.95 - ETA: 0s - loss: 0.1292 - accuracy: 0.95 - ETA: 0s - loss: 0.1286 - accuracy: 0.95 - ETA: 0s - loss: 0.1281 - accuracy: 0.95 - ETA: 0s - loss: 0.1270 - accuracy: 0.95 - ETA: 0s - loss: 0.1268 - accuracy: 0.95 - ETA: 0s - loss: 0.1267 - accuracy: 0.95 - ETA: 0s - loss: 0.1267 - accuracy: 0.95 - ETA: 0s - loss: 0.1266 - accuracy: 0.95 - ETA: 0s - loss: 0.1263 - accuracy: 0.95 - ETA: 0s - loss: 0.1261 - accuracy: 0.95 - ETA: 0s - loss: 0.1259 - accuracy: 0.95 - ETA: 0s - loss: 0.1255 - accuracy: 0.95 - ETA: 0s - loss: 0.1257 - accuracy: 0.95 - ETA: 0s - loss: 0.1252 - accuracy: 0.95 - ETA: 0s - loss: 0.1247 - accuracy: 0.95 - ETA: 0s - loss: 0.1245 - accuracy: 0.95 - ETA: 0s - loss: 0.1249 - accuracy: 0.95 - 2s 30us/sample - loss: 0.1244 - accuracy: 0.9559 - val_loss: 0.1155 - val_accuracy: 0.9572\n",
      "Epoch 11/20\n",
      "69531/69531 [==============================] - ETA: 1s - loss: 0.2374 - accuracy: 0.92 - ETA: 1s - loss: 0.1570 - accuracy: 0.94 - ETA: 1s - loss: 0.1433 - accuracy: 0.94 - ETA: 1s - loss: 0.1316 - accuracy: 0.95 - ETA: 1s - loss: 0.1263 - accuracy: 0.95 - ETA: 1s - loss: 0.1243 - accuracy: 0.95 - ETA: 1s - loss: 0.1239 - accuracy: 0.95 - ETA: 1s - loss: 0.1239 - accuracy: 0.95 - ETA: 1s - loss: 0.1241 - accuracy: 0.95 - ETA: 1s - loss: 0.1234 - accuracy: 0.95 - ETA: 1s - loss: 0.1236 - accuracy: 0.95 - ETA: 1s - loss: 0.1242 - accuracy: 0.95 - ETA: 1s - loss: 0.1240 - accuracy: 0.95 - ETA: 1s - loss: 0.1248 - accuracy: 0.95 - ETA: 1s - loss: 0.1238 - accuracy: 0.95 - ETA: 1s - loss: 0.1228 - accuracy: 0.95 - ETA: 0s - loss: 0.1229 - accuracy: 0.95 - ETA: 0s - loss: 0.1235 - accuracy: 0.95 - ETA: 0s - loss: 0.1227 - accuracy: 0.95 - ETA: 0s - loss: 0.1224 - accuracy: 0.95 - ETA: 0s - loss: 0.1223 - accuracy: 0.95 - ETA: 0s - loss: 0.1226 - accuracy: 0.95 - ETA: 0s - loss: 0.1226 - accuracy: 0.95 - ETA: 0s - loss: 0.1228 - accuracy: 0.95 - ETA: 0s - loss: 0.1226 - accuracy: 0.95 - ETA: 0s - loss: 0.1219 - accuracy: 0.95 - ETA: 0s - loss: 0.1214 - accuracy: 0.95 - ETA: 0s - loss: 0.1214 - accuracy: 0.95 - ETA: 0s - loss: 0.1214 - accuracy: 0.95 - ETA: 0s - loss: 0.1215 - accuracy: 0.95 - ETA: 0s - loss: 0.1215 - accuracy: 0.95 - ETA: 0s - loss: 0.1208 - accuracy: 0.95 - ETA: 0s - loss: 0.1207 - accuracy: 0.95 - ETA: 0s - loss: 0.1207 - accuracy: 0.95 - ETA: 0s - loss: 0.1200 - accuracy: 0.95 - 2s 29us/sample - loss: 0.1200 - accuracy: 0.9570 - val_loss: 0.1133 - val_accuracy: 0.9585\n",
      "Epoch 12/20\n",
      "69531/69531 [==============================] - ETA: 1s - loss: 0.1051 - accuracy: 0.96 - ETA: 1s - loss: 0.1088 - accuracy: 0.96 - ETA: 1s - loss: 0.1180 - accuracy: 0.95 - ETA: 1s - loss: 0.1187 - accuracy: 0.95 - ETA: 1s - loss: 0.1235 - accuracy: 0.95 - ETA: 1s - loss: 0.1245 - accuracy: 0.95 - ETA: 1s - loss: 0.1230 - accuracy: 0.95 - ETA: 1s - loss: 0.1228 - accuracy: 0.95 - ETA: 1s - loss: 0.1227 - accuracy: 0.95 - ETA: 1s - loss: 0.1225 - accuracy: 0.95 - ETA: 1s - loss: 0.1210 - accuracy: 0.95 - ETA: 1s - loss: 0.1196 - accuracy: 0.95 - ETA: 1s - loss: 0.1199 - accuracy: 0.95 - ETA: 1s - loss: 0.1193 - accuracy: 0.95 - ETA: 1s - loss: 0.1198 - accuracy: 0.95 - ETA: 1s - loss: 0.1189 - accuracy: 0.95 - ETA: 0s - loss: 0.1194 - accuracy: 0.95 - ETA: 0s - loss: 0.1189 - accuracy: 0.95 - ETA: 0s - loss: 0.1187 - accuracy: 0.95 - ETA: 0s - loss: 0.1185 - accuracy: 0.95 - ETA: 0s - loss: 0.1180 - accuracy: 0.95 - ETA: 0s - loss: 0.1179 - accuracy: 0.95 - ETA: 0s - loss: 0.1182 - accuracy: 0.95 - ETA: 0s - loss: 0.1186 - accuracy: 0.95 - ETA: 0s - loss: 0.1183 - accuracy: 0.95 - ETA: 0s - loss: 0.1177 - accuracy: 0.95 - ETA: 0s - loss: 0.1177 - accuracy: 0.95 - ETA: 0s - loss: 0.1178 - accuracy: 0.95 - ETA: 0s - loss: 0.1182 - accuracy: 0.95 - ETA: 0s - loss: 0.1184 - accuracy: 0.95 - ETA: 0s - loss: 0.1181 - accuracy: 0.95 - ETA: 0s - loss: 0.1177 - accuracy: 0.95 - ETA: 0s - loss: 0.1182 - accuracy: 0.95 - ETA: 0s - loss: 0.1180 - accuracy: 0.95 - ETA: 0s - loss: 0.1178 - accuracy: 0.95 - 2s 30us/sample - loss: 0.1178 - accuracy: 0.9580 - val_loss: 0.1117 - val_accuracy: 0.9586\n",
      "Epoch 13/20\n"
     ]
    },
    {
     "name": "stdout",
     "output_type": "stream",
     "text": [
      "69531/69531 [==============================] - ETA: 1s - loss: 0.1649 - accuracy: 0.92 - ETA: 1s - loss: 0.1225 - accuracy: 0.95 - ETA: 1s - loss: 0.1208 - accuracy: 0.95 - ETA: 1s - loss: 0.1205 - accuracy: 0.95 - ETA: 1s - loss: 0.1207 - accuracy: 0.95 - ETA: 1s - loss: 0.1174 - accuracy: 0.95 - ETA: 1s - loss: 0.1145 - accuracy: 0.95 - ETA: 1s - loss: 0.1145 - accuracy: 0.95 - ETA: 1s - loss: 0.1151 - accuracy: 0.95 - ETA: 1s - loss: 0.1165 - accuracy: 0.95 - ETA: 1s - loss: 0.1159 - accuracy: 0.95 - ETA: 1s - loss: 0.1159 - accuracy: 0.95 - ETA: 1s - loss: 0.1158 - accuracy: 0.95 - ETA: 1s - loss: 0.1152 - accuracy: 0.95 - ETA: 1s - loss: 0.1147 - accuracy: 0.95 - ETA: 1s - loss: 0.1149 - accuracy: 0.95 - ETA: 0s - loss: 0.1144 - accuracy: 0.95 - ETA: 0s - loss: 0.1141 - accuracy: 0.95 - ETA: 0s - loss: 0.1145 - accuracy: 0.95 - ETA: 0s - loss: 0.1146 - accuracy: 0.95 - ETA: 0s - loss: 0.1141 - accuracy: 0.95 - ETA: 0s - loss: 0.1140 - accuracy: 0.95 - ETA: 0s - loss: 0.1147 - accuracy: 0.95 - ETA: 0s - loss: 0.1146 - accuracy: 0.95 - ETA: 0s - loss: 0.1146 - accuracy: 0.95 - ETA: 0s - loss: 0.1152 - accuracy: 0.95 - ETA: 0s - loss: 0.1149 - accuracy: 0.95 - ETA: 0s - loss: 0.1151 - accuracy: 0.95 - ETA: 0s - loss: 0.1145 - accuracy: 0.95 - ETA: 0s - loss: 0.1144 - accuracy: 0.95 - ETA: 0s - loss: 0.1144 - accuracy: 0.95 - ETA: 0s - loss: 0.1147 - accuracy: 0.95 - ETA: 0s - loss: 0.1150 - accuracy: 0.95 - ETA: 0s - loss: 0.1147 - accuracy: 0.95 - ETA: 0s - loss: 0.1144 - accuracy: 0.95 - 2s 29us/sample - loss: 0.1143 - accuracy: 0.9589 - val_loss: 0.1101 - val_accuracy: 0.9594\n",
      "Epoch 14/20\n",
      "69531/69531 [==============================] - ETA: 1s - loss: 0.0927 - accuracy: 0.96 - ETA: 1s - loss: 0.1169 - accuracy: 0.95 - ETA: 1s - loss: 0.1174 - accuracy: 0.95 - ETA: 1s - loss: 0.1169 - accuracy: 0.95 - ETA: 1s - loss: 0.1178 - accuracy: 0.95 - ETA: 1s - loss: 0.1175 - accuracy: 0.96 - ETA: 1s - loss: 0.1179 - accuracy: 0.96 - ETA: 1s - loss: 0.1173 - accuracy: 0.95 - ETA: 1s - loss: 0.1157 - accuracy: 0.96 - ETA: 1s - loss: 0.1135 - accuracy: 0.96 - ETA: 1s - loss: 0.1147 - accuracy: 0.96 - ETA: 1s - loss: 0.1153 - accuracy: 0.95 - ETA: 1s - loss: 0.1148 - accuracy: 0.95 - ETA: 1s - loss: 0.1142 - accuracy: 0.95 - ETA: 1s - loss: 0.1133 - accuracy: 0.95 - ETA: 1s - loss: 0.1128 - accuracy: 0.95 - ETA: 0s - loss: 0.1125 - accuracy: 0.95 - ETA: 0s - loss: 0.1129 - accuracy: 0.95 - ETA: 0s - loss: 0.1143 - accuracy: 0.95 - ETA: 0s - loss: 0.1145 - accuracy: 0.95 - ETA: 0s - loss: 0.1143 - accuracy: 0.95 - ETA: 0s - loss: 0.1143 - accuracy: 0.95 - ETA: 0s - loss: 0.1139 - accuracy: 0.95 - ETA: 0s - loss: 0.1134 - accuracy: 0.95 - ETA: 0s - loss: 0.1133 - accuracy: 0.95 - ETA: 0s - loss: 0.1139 - accuracy: 0.95 - ETA: 0s - loss: 0.1143 - accuracy: 0.95 - ETA: 0s - loss: 0.1141 - accuracy: 0.95 - ETA: 0s - loss: 0.1141 - accuracy: 0.95 - ETA: 0s - loss: 0.1137 - accuracy: 0.95 - ETA: 0s - loss: 0.1140 - accuracy: 0.95 - ETA: 0s - loss: 0.1141 - accuracy: 0.95 - ETA: 0s - loss: 0.1143 - accuracy: 0.95 - ETA: 0s - loss: 0.1140 - accuracy: 0.95 - ETA: 0s - loss: 0.1137 - accuracy: 0.95 - 2s 29us/sample - loss: 0.1136 - accuracy: 0.9589 - val_loss: 0.1100 - val_accuracy: 0.9600\n",
      "Epoch 15/20\n",
      "69531/69531 [==============================] - ETA: 1s - loss: 0.1254 - accuracy: 0.96 - ETA: 1s - loss: 0.1212 - accuracy: 0.95 - ETA: 1s - loss: 0.1202 - accuracy: 0.95 - ETA: 1s - loss: 0.1178 - accuracy: 0.95 - ETA: 1s - loss: 0.1178 - accuracy: 0.95 - ETA: 1s - loss: 0.1195 - accuracy: 0.95 - ETA: 1s - loss: 0.1184 - accuracy: 0.95 - ETA: 1s - loss: 0.1177 - accuracy: 0.95 - ETA: 1s - loss: 0.1175 - accuracy: 0.95 - ETA: 1s - loss: 0.1150 - accuracy: 0.95 - ETA: 1s - loss: 0.1151 - accuracy: 0.95 - ETA: 1s - loss: 0.1151 - accuracy: 0.95 - ETA: 1s - loss: 0.1143 - accuracy: 0.95 - ETA: 1s - loss: 0.1145 - accuracy: 0.95 - ETA: 1s - loss: 0.1134 - accuracy: 0.95 - ETA: 1s - loss: 0.1131 - accuracy: 0.95 - ETA: 1s - loss: 0.1133 - accuracy: 0.95 - ETA: 0s - loss: 0.1130 - accuracy: 0.95 - ETA: 0s - loss: 0.1127 - accuracy: 0.95 - ETA: 0s - loss: 0.1126 - accuracy: 0.95 - ETA: 0s - loss: 0.1130 - accuracy: 0.95 - ETA: 0s - loss: 0.1138 - accuracy: 0.95 - ETA: 0s - loss: 0.1138 - accuracy: 0.95 - ETA: 0s - loss: 0.1144 - accuracy: 0.95 - ETA: 0s - loss: 0.1142 - accuracy: 0.95 - ETA: 0s - loss: 0.1146 - accuracy: 0.95 - ETA: 0s - loss: 0.1147 - accuracy: 0.95 - ETA: 0s - loss: 0.1144 - accuracy: 0.95 - ETA: 0s - loss: 0.1137 - accuracy: 0.95 - ETA: 0s - loss: 0.1132 - accuracy: 0.95 - ETA: 0s - loss: 0.1130 - accuracy: 0.95 - ETA: 0s - loss: 0.1126 - accuracy: 0.95 - ETA: 0s - loss: 0.1126 - accuracy: 0.95 - ETA: 0s - loss: 0.1122 - accuracy: 0.95 - ETA: 0s - loss: 0.1125 - accuracy: 0.95 - 2s 30us/sample - loss: 0.1125 - accuracy: 0.9594 - val_loss: 0.1089 - val_accuracy: 0.9601\n",
      "Epoch 16/20\n",
      "69531/69531 [==============================] - ETA: 1s - loss: 0.1219 - accuracy: 0.94 - ETA: 1s - loss: 0.1185 - accuracy: 0.95 - ETA: 1s - loss: 0.1139 - accuracy: 0.95 - ETA: 1s - loss: 0.1113 - accuracy: 0.95 - ETA: 1s - loss: 0.1140 - accuracy: 0.95 - ETA: 1s - loss: 0.1150 - accuracy: 0.95 - ETA: 1s - loss: 0.1157 - accuracy: 0.95 - ETA: 1s - loss: 0.1133 - accuracy: 0.95 - ETA: 1s - loss: 0.1130 - accuracy: 0.95 - ETA: 1s - loss: 0.1132 - accuracy: 0.95 - ETA: 1s - loss: 0.1147 - accuracy: 0.95 - ETA: 1s - loss: 0.1143 - accuracy: 0.95 - ETA: 1s - loss: 0.1131 - accuracy: 0.95 - ETA: 1s - loss: 0.1130 - accuracy: 0.95 - ETA: 1s - loss: 0.1127 - accuracy: 0.95 - ETA: 1s - loss: 0.1118 - accuracy: 0.95 - ETA: 1s - loss: 0.1125 - accuracy: 0.95 - ETA: 1s - loss: 0.1135 - accuracy: 0.95 - ETA: 1s - loss: 0.1135 - accuracy: 0.95 - ETA: 0s - loss: 0.1135 - accuracy: 0.95 - ETA: 0s - loss: 0.1138 - accuracy: 0.95 - ETA: 0s - loss: 0.1137 - accuracy: 0.95 - ETA: 0s - loss: 0.1132 - accuracy: 0.95 - ETA: 0s - loss: 0.1130 - accuracy: 0.95 - ETA: 0s - loss: 0.1131 - accuracy: 0.95 - ETA: 0s - loss: 0.1131 - accuracy: 0.95 - ETA: 0s - loss: 0.1122 - accuracy: 0.95 - ETA: 0s - loss: 0.1121 - accuracy: 0.95 - ETA: 0s - loss: 0.1117 - accuracy: 0.95 - ETA: 0s - loss: 0.1119 - accuracy: 0.95 - ETA: 0s - loss: 0.1119 - accuracy: 0.95 - ETA: 0s - loss: 0.1117 - accuracy: 0.95 - ETA: 0s - loss: 0.1117 - accuracy: 0.95 - ETA: 0s - loss: 0.1116 - accuracy: 0.95 - ETA: 0s - loss: 0.1116 - accuracy: 0.95 - ETA: 0s - loss: 0.1118 - accuracy: 0.95 - ETA: 0s - loss: 0.1113 - accuracy: 0.95 - 2s 31us/sample - loss: 0.1114 - accuracy: 0.9597 - val_loss: 0.1079 - val_accuracy: 0.9605\n",
      "Epoch 17/20\n",
      "69531/69531 [==============================] - ETA: 1s - loss: 0.0870 - accuracy: 0.97 - ETA: 1s - loss: 0.0948 - accuracy: 0.96 - ETA: 1s - loss: 0.1047 - accuracy: 0.96 - ETA: 1s - loss: 0.1053 - accuracy: 0.96 - ETA: 1s - loss: 0.1066 - accuracy: 0.96 - ETA: 1s - loss: 0.1039 - accuracy: 0.96 - ETA: 1s - loss: 0.1069 - accuracy: 0.96 - ETA: 1s - loss: 0.1073 - accuracy: 0.96 - ETA: 1s - loss: 0.1075 - accuracy: 0.96 - ETA: 1s - loss: 0.1091 - accuracy: 0.96 - ETA: 1s - loss: 0.1080 - accuracy: 0.96 - ETA: 1s - loss: 0.1081 - accuracy: 0.96 - ETA: 1s - loss: 0.1079 - accuracy: 0.96 - ETA: 1s - loss: 0.1083 - accuracy: 0.96 - ETA: 1s - loss: 0.1075 - accuracy: 0.96 - ETA: 1s - loss: 0.1072 - accuracy: 0.96 - ETA: 1s - loss: 0.1085 - accuracy: 0.96 - ETA: 1s - loss: 0.1082 - accuracy: 0.96 - ETA: 0s - loss: 0.1087 - accuracy: 0.96 - ETA: 0s - loss: 0.1099 - accuracy: 0.96 - ETA: 0s - loss: 0.1099 - accuracy: 0.96 - ETA: 0s - loss: 0.1106 - accuracy: 0.96 - ETA: 0s - loss: 0.1100 - accuracy: 0.96 - ETA: 0s - loss: 0.1100 - accuracy: 0.96 - ETA: 0s - loss: 0.1107 - accuracy: 0.96 - ETA: 0s - loss: 0.1111 - accuracy: 0.96 - ETA: 0s - loss: 0.1114 - accuracy: 0.96 - ETA: 0s - loss: 0.1114 - accuracy: 0.96 - ETA: 0s - loss: 0.1112 - accuracy: 0.96 - ETA: 0s - loss: 0.1111 - accuracy: 0.96 - ETA: 0s - loss: 0.1110 - accuracy: 0.96 - ETA: 0s - loss: 0.1110 - accuracy: 0.96 - ETA: 0s - loss: 0.1105 - accuracy: 0.96 - ETA: 0s - loss: 0.1105 - accuracy: 0.95 - ETA: 0s - loss: 0.1103 - accuracy: 0.96 - 2s 30us/sample - loss: 0.1101 - accuracy: 0.9601 - val_loss: 0.1071 - val_accuracy: 0.9615\n",
      "Epoch 18/20\n"
     ]
    },
    {
     "name": "stdout",
     "output_type": "stream",
     "text": [
      "69531/69531 [==============================] - ETA: 1s - loss: 0.1142 - accuracy: 0.94 - ETA: 1s - loss: 0.1076 - accuracy: 0.96 - ETA: 1s - loss: 0.1090 - accuracy: 0.95 - ETA: 1s - loss: 0.1112 - accuracy: 0.95 - ETA: 1s - loss: 0.1132 - accuracy: 0.95 - ETA: 1s - loss: 0.1115 - accuracy: 0.95 - ETA: 1s - loss: 0.1127 - accuracy: 0.95 - ETA: 1s - loss: 0.1129 - accuracy: 0.95 - ETA: 1s - loss: 0.1139 - accuracy: 0.95 - ETA: 1s - loss: 0.1131 - accuracy: 0.95 - ETA: 1s - loss: 0.1108 - accuracy: 0.95 - ETA: 1s - loss: 0.1109 - accuracy: 0.95 - ETA: 1s - loss: 0.1101 - accuracy: 0.95 - ETA: 1s - loss: 0.1086 - accuracy: 0.96 - ETA: 1s - loss: 0.1085 - accuracy: 0.96 - ETA: 1s - loss: 0.1091 - accuracy: 0.96 - ETA: 0s - loss: 0.1087 - accuracy: 0.96 - ETA: 0s - loss: 0.1091 - accuracy: 0.96 - ETA: 0s - loss: 0.1096 - accuracy: 0.96 - ETA: 0s - loss: 0.1096 - accuracy: 0.96 - ETA: 0s - loss: 0.1095 - accuracy: 0.96 - ETA: 0s - loss: 0.1098 - accuracy: 0.96 - ETA: 0s - loss: 0.1098 - accuracy: 0.96 - ETA: 0s - loss: 0.1094 - accuracy: 0.95 - ETA: 0s - loss: 0.1092 - accuracy: 0.95 - ETA: 0s - loss: 0.1086 - accuracy: 0.96 - ETA: 0s - loss: 0.1090 - accuracy: 0.96 - ETA: 0s - loss: 0.1089 - accuracy: 0.96 - ETA: 0s - loss: 0.1093 - accuracy: 0.96 - ETA: 0s - loss: 0.1098 - accuracy: 0.96 - ETA: 0s - loss: 0.1099 - accuracy: 0.95 - ETA: 0s - loss: 0.1098 - accuracy: 0.95 - ETA: 0s - loss: 0.1097 - accuracy: 0.96 - ETA: 0s - loss: 0.1095 - accuracy: 0.95 - ETA: 0s - loss: 0.1095 - accuracy: 0.95 - 2s 29us/sample - loss: 0.1096 - accuracy: 0.9599 - val_loss: 0.1070 - val_accuracy: 0.9614\n",
      "Epoch 19/20\n",
      "69531/69531 [==============================] - ETA: 2s - loss: 0.1662 - accuracy: 0.94 - ETA: 1s - loss: 0.1215 - accuracy: 0.95 - ETA: 1s - loss: 0.1149 - accuracy: 0.95 - ETA: 1s - loss: 0.1144 - accuracy: 0.95 - ETA: 1s - loss: 0.1120 - accuracy: 0.95 - ETA: 1s - loss: 0.1122 - accuracy: 0.95 - ETA: 1s - loss: 0.1119 - accuracy: 0.95 - ETA: 1s - loss: 0.1114 - accuracy: 0.96 - ETA: 1s - loss: 0.1122 - accuracy: 0.95 - ETA: 1s - loss: 0.1122 - accuracy: 0.95 - ETA: 1s - loss: 0.1119 - accuracy: 0.95 - ETA: 1s - loss: 0.1121 - accuracy: 0.95 - ETA: 1s - loss: 0.1119 - accuracy: 0.95 - ETA: 1s - loss: 0.1110 - accuracy: 0.95 - ETA: 1s - loss: 0.1093 - accuracy: 0.96 - ETA: 1s - loss: 0.1085 - accuracy: 0.96 - ETA: 1s - loss: 0.1089 - accuracy: 0.96 - ETA: 0s - loss: 0.1092 - accuracy: 0.96 - ETA: 0s - loss: 0.1094 - accuracy: 0.96 - ETA: 0s - loss: 0.1087 - accuracy: 0.96 - ETA: 0s - loss: 0.1092 - accuracy: 0.96 - ETA: 0s - loss: 0.1088 - accuracy: 0.96 - ETA: 0s - loss: 0.1090 - accuracy: 0.96 - ETA: 0s - loss: 0.1091 - accuracy: 0.96 - ETA: 0s - loss: 0.1092 - accuracy: 0.96 - ETA: 0s - loss: 0.1091 - accuracy: 0.96 - ETA: 0s - loss: 0.1085 - accuracy: 0.96 - ETA: 0s - loss: 0.1083 - accuracy: 0.96 - ETA: 0s - loss: 0.1083 - accuracy: 0.96 - ETA: 0s - loss: 0.1083 - accuracy: 0.96 - ETA: 0s - loss: 0.1082 - accuracy: 0.96 - ETA: 0s - loss: 0.1083 - accuracy: 0.96 - ETA: 0s - loss: 0.1084 - accuracy: 0.96 - ETA: 0s - loss: 0.1082 - accuracy: 0.96 - ETA: 0s - loss: 0.1085 - accuracy: 0.96 - 2s 29us/sample - loss: 0.1080 - accuracy: 0.9609 - val_loss: 0.1061 - val_accuracy: 0.9613\n",
      "Epoch 20/20\n",
      "69531/69531 [==============================] - ETA: 1s - loss: 0.0658 - accuracy: 0.97 - ETA: 1s - loss: 0.0966 - accuracy: 0.96 - ETA: 1s - loss: 0.0986 - accuracy: 0.96 - ETA: 1s - loss: 0.1032 - accuracy: 0.95 - ETA: 1s - loss: 0.1015 - accuracy: 0.96 - ETA: 1s - loss: 0.1076 - accuracy: 0.96 - ETA: 1s - loss: 0.1082 - accuracy: 0.96 - ETA: 1s - loss: 0.1066 - accuracy: 0.96 - ETA: 1s - loss: 0.1072 - accuracy: 0.96 - ETA: 1s - loss: 0.1071 - accuracy: 0.96 - ETA: 1s - loss: 0.1075 - accuracy: 0.96 - ETA: 1s - loss: 0.1075 - accuracy: 0.96 - ETA: 1s - loss: 0.1081 - accuracy: 0.96 - ETA: 1s - loss: 0.1078 - accuracy: 0.96 - ETA: 1s - loss: 0.1096 - accuracy: 0.95 - ETA: 1s - loss: 0.1094 - accuracy: 0.95 - ETA: 1s - loss: 0.1083 - accuracy: 0.96 - ETA: 1s - loss: 0.1081 - accuracy: 0.96 - ETA: 0s - loss: 0.1077 - accuracy: 0.96 - ETA: 0s - loss: 0.1070 - accuracy: 0.96 - ETA: 0s - loss: 0.1064 - accuracy: 0.96 - ETA: 0s - loss: 0.1060 - accuracy: 0.96 - ETA: 0s - loss: 0.1064 - accuracy: 0.96 - ETA: 0s - loss: 0.1070 - accuracy: 0.96 - ETA: 0s - loss: 0.1071 - accuracy: 0.96 - ETA: 0s - loss: 0.1068 - accuracy: 0.96 - ETA: 0s - loss: 0.1068 - accuracy: 0.96 - ETA: 0s - loss: 0.1069 - accuracy: 0.96 - ETA: 0s - loss: 0.1076 - accuracy: 0.96 - ETA: 0s - loss: 0.1082 - accuracy: 0.96 - ETA: 0s - loss: 0.1086 - accuracy: 0.96 - ETA: 0s - loss: 0.1082 - accuracy: 0.96 - ETA: 0s - loss: 0.1081 - accuracy: 0.96 - ETA: 0s - loss: 0.1079 - accuracy: 0.96 - ETA: 0s - loss: 0.1079 - accuracy: 0.96 - 2s 30us/sample - loss: 0.1076 - accuracy: 0.9614 - val_loss: 0.1058 - val_accuracy: 0.9614\n"
     ]
    },
    {
     "data": {
      "text/html": [
       "<span style=\"color:#4527A0\"><h1 style=\"font-size:18px\">Trial complete</h1></span>"
      ],
      "text/plain": [
       "<IPython.core.display.HTML object>"
      ]
     },
     "metadata": {},
     "output_type": "display_data"
    },
    {
     "data": {
      "text/html": [
       "<span style=\"color:#4527A0\"><h1 style=\"font-size:18px\">Trial summary</h1></span>"
      ],
      "text/plain": [
       "<IPython.core.display.HTML object>"
      ]
     },
     "metadata": {},
     "output_type": "display_data"
    },
    {
     "data": {
      "text/html": [
       "<span style=\"color:cyan\"> |-Trial ID: d0f5bbd02d6cdb03885cb258927bf70a</span>"
      ],
      "text/plain": [
       "<IPython.core.display.HTML object>"
      ]
     },
     "metadata": {},
     "output_type": "display_data"
    },
    {
     "data": {
      "text/html": [
       "<span style=\"color:cyan\"> |-Score: 0.9615135788917542</span>"
      ],
      "text/plain": [
       "<IPython.core.display.HTML object>"
      ]
     },
     "metadata": {},
     "output_type": "display_data"
    },
    {
     "data": {
      "text/html": [
       "<span style=\"color:cyan\"> |-Best step: 0</span>"
      ],
      "text/plain": [
       "<IPython.core.display.HTML object>"
      ]
     },
     "metadata": {},
     "output_type": "display_data"
    },
    {
     "data": {
      "text/html": [
       "<span style=\"color:#7E57C2\"><h2 style=\"font-size:16px\">Hyperparameters:</h2></span>"
      ],
      "text/plain": [
       "<IPython.core.display.HTML object>"
      ]
     },
     "metadata": {},
     "output_type": "display_data"
    },
    {
     "data": {
      "text/html": [
       "<span style=\"color:cyan\"> |-rate_1: 0.30000000000000004</span>"
      ],
      "text/plain": [
       "<IPython.core.display.HTML object>"
      ]
     },
     "metadata": {},
     "output_type": "display_data"
    },
    {
     "data": {
      "text/html": [
       "<span style=\"color:blue\"> |-rate_2: 0.2</span>"
      ],
      "text/plain": [
       "<IPython.core.display.HTML object>"
      ]
     },
     "metadata": {},
     "output_type": "display_data"
    },
    {
     "data": {
      "text/html": [
       "<span style=\"color:cyan\"> |-tuner/bracket: 2</span>"
      ],
      "text/plain": [
       "<IPython.core.display.HTML object>"
      ]
     },
     "metadata": {},
     "output_type": "display_data"
    },
    {
     "data": {
      "text/html": [
       "<span style=\"color:blue\"> |-tuner/epochs: 20</span>"
      ],
      "text/plain": [
       "<IPython.core.display.HTML object>"
      ]
     },
     "metadata": {},
     "output_type": "display_data"
    },
    {
     "data": {
      "text/html": [
       "<span style=\"color:cyan\"> |-tuner/initial_epoch: 7</span>"
      ],
      "text/plain": [
       "<IPython.core.display.HTML object>"
      ]
     },
     "metadata": {},
     "output_type": "display_data"
    },
    {
     "data": {
      "text/html": [
       "<span style=\"color:blue\"> |-tuner/round: 2</span>"
      ],
      "text/plain": [
       "<IPython.core.display.HTML object>"
      ]
     },
     "metadata": {},
     "output_type": "display_data"
    },
    {
     "data": {
      "text/html": [
       "<span style=\"color:cyan\"> |-tuner/trial_id: 23ea2067bc65e84abfd0904ff99f5c07</span>"
      ],
      "text/plain": [
       "<IPython.core.display.HTML object>"
      ]
     },
     "metadata": {},
     "output_type": "display_data"
    },
    {
     "data": {
      "text/html": [
       "<span style=\"color:blue\"> |-units_1: 56</span>"
      ],
      "text/plain": [
       "<IPython.core.display.HTML object>"
      ]
     },
     "metadata": {},
     "output_type": "display_data"
    },
    {
     "data": {
      "text/html": [
       "<span style=\"color:cyan\"> |-units_2: 42</span>"
      ],
      "text/plain": [
       "<IPython.core.display.HTML object>"
      ]
     },
     "metadata": {},
     "output_type": "display_data"
    },
    {
     "name": "stdout",
     "output_type": "stream",
     "text": [
      "Train on 69531 samples, validate on 23177 samples\n",
      "Epoch 1/7\n",
      "69531/69531 [==============================] - ETA: 2:20 - loss: 0.7832 - accuracy: 0.45 - ETA: 16s - loss: 0.6912 - accuracy: 0.5690 - ETA: 9s - loss: 0.6431 - accuracy: 0.634 - ETA: 6s - loss: 0.5962 - accuracy: 0.69 - ETA: 5s - loss: 0.5602 - accuracy: 0.73 - ETA: 4s - loss: 0.5254 - accuracy: 0.76 - ETA: 3s - loss: 0.4990 - accuracy: 0.77 - ETA: 3s - loss: 0.4711 - accuracy: 0.79 - ETA: 2s - loss: 0.4468 - accuracy: 0.80 - ETA: 2s - loss: 0.4228 - accuracy: 0.82 - ETA: 2s - loss: 0.4055 - accuracy: 0.82 - ETA: 2s - loss: 0.3881 - accuracy: 0.83 - ETA: 1s - loss: 0.3725 - accuracy: 0.84 - ETA: 1s - loss: 0.3593 - accuracy: 0.85 - ETA: 1s - loss: 0.3474 - accuracy: 0.85 - ETA: 1s - loss: 0.3366 - accuracy: 0.86 - ETA: 1s - loss: 0.3258 - accuracy: 0.86 - ETA: 1s - loss: 0.3180 - accuracy: 0.87 - ETA: 1s - loss: 0.3102 - accuracy: 0.87 - ETA: 1s - loss: 0.3028 - accuracy: 0.87 - ETA: 0s - loss: 0.2958 - accuracy: 0.88 - ETA: 0s - loss: 0.2883 - accuracy: 0.88 - ETA: 0s - loss: 0.2825 - accuracy: 0.88 - ETA: 0s - loss: 0.2778 - accuracy: 0.89 - ETA: 0s - loss: 0.2731 - accuracy: 0.89 - ETA: 0s - loss: 0.2688 - accuracy: 0.89 - ETA: 0s - loss: 0.2646 - accuracy: 0.89 - ETA: 0s - loss: 0.2602 - accuracy: 0.89 - ETA: 0s - loss: 0.2558 - accuracy: 0.90 - ETA: 0s - loss: 0.2520 - accuracy: 0.90 - ETA: 0s - loss: 0.2482 - accuracy: 0.90 - ETA: 0s - loss: 0.2447 - accuracy: 0.90 - 3s 36us/sample - loss: 0.2413 - accuracy: 0.9066 - val_loss: 0.1289 - val_accuracy: 0.9528\n",
      "Epoch 2/7\n",
      "69531/69531 [==============================] - ETA: 1s - loss: 0.1644 - accuracy: 0.93 - ETA: 1s - loss: 0.1372 - accuracy: 0.95 - ETA: 1s - loss: 0.1440 - accuracy: 0.95 - ETA: 1s - loss: 0.1495 - accuracy: 0.94 - ETA: 1s - loss: 0.1491 - accuracy: 0.94 - ETA: 1s - loss: 0.1477 - accuracy: 0.94 - ETA: 1s - loss: 0.1449 - accuracy: 0.94 - ETA: 1s - loss: 0.1452 - accuracy: 0.94 - ETA: 1s - loss: 0.1431 - accuracy: 0.95 - ETA: 1s - loss: 0.1434 - accuracy: 0.95 - ETA: 1s - loss: 0.1426 - accuracy: 0.95 - ETA: 1s - loss: 0.1412 - accuracy: 0.95 - ETA: 1s - loss: 0.1423 - accuracy: 0.95 - ETA: 0s - loss: 0.1416 - accuracy: 0.95 - ETA: 0s - loss: 0.1429 - accuracy: 0.95 - ETA: 0s - loss: 0.1422 - accuracy: 0.95 - ETA: 0s - loss: 0.1418 - accuracy: 0.95 - ETA: 0s - loss: 0.1411 - accuracy: 0.95 - ETA: 0s - loss: 0.1418 - accuracy: 0.95 - ETA: 0s - loss: 0.1406 - accuracy: 0.95 - ETA: 0s - loss: 0.1405 - accuracy: 0.95 - ETA: 0s - loss: 0.1396 - accuracy: 0.95 - ETA: 0s - loss: 0.1389 - accuracy: 0.95 - ETA: 0s - loss: 0.1388 - accuracy: 0.95 - ETA: 0s - loss: 0.1384 - accuracy: 0.95 - ETA: 0s - loss: 0.1376 - accuracy: 0.95 - ETA: 0s - loss: 0.1383 - accuracy: 0.95 - ETA: 0s - loss: 0.1390 - accuracy: 0.95 - ETA: 0s - loss: 0.1391 - accuracy: 0.95 - ETA: 0s - loss: 0.1390 - accuracy: 0.95 - ETA: 0s - loss: 0.1389 - accuracy: 0.95 - ETA: 0s - loss: 0.1389 - accuracy: 0.95 - 2s 27us/sample - loss: 0.1392 - accuracy: 0.9512 - val_loss: 0.1216 - val_accuracy: 0.9547\n",
      "Epoch 3/7\n",
      "69531/69531 [==============================] - ETA: 1s - loss: 0.0853 - accuracy: 0.98 - ETA: 1s - loss: 0.1282 - accuracy: 0.95 - ETA: 1s - loss: 0.1338 - accuracy: 0.95 - ETA: 1s - loss: 0.1365 - accuracy: 0.95 - ETA: 1s - loss: 0.1413 - accuracy: 0.95 - ETA: 1s - loss: 0.1379 - accuracy: 0.95 - ETA: 1s - loss: 0.1386 - accuracy: 0.95 - ETA: 1s - loss: 0.1371 - accuracy: 0.95 - ETA: 1s - loss: 0.1356 - accuracy: 0.95 - ETA: 1s - loss: 0.1351 - accuracy: 0.95 - ETA: 1s - loss: 0.1351 - accuracy: 0.95 - ETA: 1s - loss: 0.1355 - accuracy: 0.95 - ETA: 1s - loss: 0.1357 - accuracy: 0.95 - ETA: 0s - loss: 0.1357 - accuracy: 0.95 - ETA: 0s - loss: 0.1360 - accuracy: 0.95 - ETA: 0s - loss: 0.1362 - accuracy: 0.95 - ETA: 0s - loss: 0.1353 - accuracy: 0.95 - ETA: 0s - loss: 0.1345 - accuracy: 0.95 - ETA: 0s - loss: 0.1337 - accuracy: 0.95 - ETA: 0s - loss: 0.1336 - accuracy: 0.95 - ETA: 0s - loss: 0.1331 - accuracy: 0.95 - ETA: 0s - loss: 0.1332 - accuracy: 0.95 - ETA: 0s - loss: 0.1337 - accuracy: 0.95 - ETA: 0s - loss: 0.1327 - accuracy: 0.95 - ETA: 0s - loss: 0.1322 - accuracy: 0.95 - ETA: 0s - loss: 0.1318 - accuracy: 0.95 - ETA: 0s - loss: 0.1316 - accuracy: 0.95 - ETA: 0s - loss: 0.1311 - accuracy: 0.95 - ETA: 0s - loss: 0.1309 - accuracy: 0.95 - ETA: 0s - loss: 0.1310 - accuracy: 0.95 - ETA: 0s - loss: 0.1309 - accuracy: 0.95 - ETA: 0s - loss: 0.1304 - accuracy: 0.95 - 2s 27us/sample - loss: 0.1306 - accuracy: 0.9539 - val_loss: 0.1185 - val_accuracy: 0.9559\n",
      "Epoch 4/7\n",
      "69531/69531 [==============================] - ETA: 2s - loss: 0.1221 - accuracy: 0.94 - ETA: 1s - loss: 0.1479 - accuracy: 0.94 - ETA: 1s - loss: 0.1301 - accuracy: 0.95 - ETA: 1s - loss: 0.1322 - accuracy: 0.95 - ETA: 1s - loss: 0.1325 - accuracy: 0.95 - ETA: 1s - loss: 0.1305 - accuracy: 0.95 - ETA: 1s - loss: 0.1304 - accuracy: 0.95 - ETA: 1s - loss: 0.1273 - accuracy: 0.95 - ETA: 1s - loss: 0.1272 - accuracy: 0.95 - ETA: 1s - loss: 0.1280 - accuracy: 0.95 - ETA: 1s - loss: 0.1284 - accuracy: 0.95 - ETA: 1s - loss: 0.1262 - accuracy: 0.95 - ETA: 1s - loss: 0.1270 - accuracy: 0.95 - ETA: 1s - loss: 0.1268 - accuracy: 0.95 - ETA: 1s - loss: 0.1249 - accuracy: 0.95 - ETA: 0s - loss: 0.1239 - accuracy: 0.95 - ETA: 0s - loss: 0.1238 - accuracy: 0.95 - ETA: 0s - loss: 0.1240 - accuracy: 0.95 - ETA: 0s - loss: 0.1248 - accuracy: 0.95 - ETA: 0s - loss: 0.1247 - accuracy: 0.95 - ETA: 0s - loss: 0.1249 - accuracy: 0.95 - ETA: 0s - loss: 0.1242 - accuracy: 0.95 - ETA: 0s - loss: 0.1245 - accuracy: 0.95 - ETA: 0s - loss: 0.1247 - accuracy: 0.95 - ETA: 0s - loss: 0.1250 - accuracy: 0.95 - ETA: 0s - loss: 0.1245 - accuracy: 0.95 - ETA: 0s - loss: 0.1249 - accuracy: 0.95 - ETA: 0s - loss: 0.1250 - accuracy: 0.95 - ETA: 0s - loss: 0.1258 - accuracy: 0.95 - ETA: 0s - loss: 0.1251 - accuracy: 0.95 - ETA: 0s - loss: 0.1256 - accuracy: 0.95 - ETA: 0s - loss: 0.1249 - accuracy: 0.95 - ETA: 0s - loss: 0.1251 - accuracy: 0.95 - 2s 28us/sample - loss: 0.1251 - accuracy: 0.9558 - val_loss: 0.1157 - val_accuracy: 0.9568\n",
      "Epoch 5/7\n",
      "69531/69531 [==============================] - ETA: 1s - loss: 0.1465 - accuracy: 0.94 - ETA: 1s - loss: 0.1215 - accuracy: 0.95 - ETA: 1s - loss: 0.1294 - accuracy: 0.95 - ETA: 1s - loss: 0.1265 - accuracy: 0.95 - ETA: 1s - loss: 0.1299 - accuracy: 0.95 - ETA: 1s - loss: 0.1277 - accuracy: 0.95 - ETA: 1s - loss: 0.1245 - accuracy: 0.95 - ETA: 1s - loss: 0.1269 - accuracy: 0.95 - ETA: 1s - loss: 0.1263 - accuracy: 0.95 - ETA: 1s - loss: 0.1255 - accuracy: 0.95 - ETA: 1s - loss: 0.1239 - accuracy: 0.95 - ETA: 1s - loss: 0.1231 - accuracy: 0.95 - ETA: 1s - loss: 0.1237 - accuracy: 0.95 - ETA: 1s - loss: 0.1243 - accuracy: 0.95 - ETA: 0s - loss: 0.1242 - accuracy: 0.95 - ETA: 0s - loss: 0.1243 - accuracy: 0.95 - ETA: 0s - loss: 0.1242 - accuracy: 0.95 - ETA: 0s - loss: 0.1237 - accuracy: 0.95 - ETA: 0s - loss: 0.1235 - accuracy: 0.95 - ETA: 0s - loss: 0.1231 - accuracy: 0.95 - ETA: 0s - loss: 0.1238 - accuracy: 0.95 - ETA: 0s - loss: 0.1235 - accuracy: 0.95 - ETA: 0s - loss: 0.1234 - accuracy: 0.95 - ETA: 0s - loss: 0.1230 - accuracy: 0.95 - ETA: 0s - loss: 0.1231 - accuracy: 0.95 - ETA: 0s - loss: 0.1228 - accuracy: 0.95 - ETA: 0s - loss: 0.1225 - accuracy: 0.95 - ETA: 0s - loss: 0.1234 - accuracy: 0.95 - ETA: 0s - loss: 0.1226 - accuracy: 0.95 - ETA: 0s - loss: 0.1228 - accuracy: 0.95 - ETA: 0s - loss: 0.1228 - accuracy: 0.95 - ETA: 0s - loss: 0.1223 - accuracy: 0.95 - ETA: 0s - loss: 0.1231 - accuracy: 0.95 - 2s 27us/sample - loss: 0.1231 - accuracy: 0.9572 - val_loss: 0.1137 - val_accuracy: 0.9572\n",
      "Epoch 6/7\n"
     ]
    },
    {
     "name": "stdout",
     "output_type": "stream",
     "text": [
      "69531/69531 [==============================] - ETA: 1s - loss: 0.1355 - accuracy: 0.95 - ETA: 1s - loss: 0.1275 - accuracy: 0.95 - ETA: 1s - loss: 0.1247 - accuracy: 0.95 - ETA: 1s - loss: 0.1169 - accuracy: 0.95 - ETA: 1s - loss: 0.1173 - accuracy: 0.95 - ETA: 1s - loss: 0.1168 - accuracy: 0.95 - ETA: 1s - loss: 0.1155 - accuracy: 0.96 - ETA: 1s - loss: 0.1136 - accuracy: 0.96 - ETA: 1s - loss: 0.1136 - accuracy: 0.96 - ETA: 1s - loss: 0.1132 - accuracy: 0.96 - ETA: 1s - loss: 0.1148 - accuracy: 0.96 - ETA: 1s - loss: 0.1156 - accuracy: 0.96 - ETA: 1s - loss: 0.1169 - accuracy: 0.95 - ETA: 1s - loss: 0.1169 - accuracy: 0.95 - ETA: 0s - loss: 0.1176 - accuracy: 0.95 - ETA: 0s - loss: 0.1179 - accuracy: 0.95 - ETA: 0s - loss: 0.1184 - accuracy: 0.95 - ETA: 0s - loss: 0.1187 - accuracy: 0.95 - ETA: 0s - loss: 0.1187 - accuracy: 0.95 - ETA: 0s - loss: 0.1186 - accuracy: 0.95 - ETA: 0s - loss: 0.1183 - accuracy: 0.95 - ETA: 0s - loss: 0.1179 - accuracy: 0.95 - ETA: 0s - loss: 0.1185 - accuracy: 0.95 - ETA: 0s - loss: 0.1186 - accuracy: 0.95 - ETA: 0s - loss: 0.1182 - accuracy: 0.95 - ETA: 0s - loss: 0.1189 - accuracy: 0.95 - ETA: 0s - loss: 0.1194 - accuracy: 0.95 - ETA: 0s - loss: 0.1183 - accuracy: 0.95 - ETA: 0s - loss: 0.1188 - accuracy: 0.95 - ETA: 0s - loss: 0.1189 - accuracy: 0.95 - ETA: 0s - loss: 0.1189 - accuracy: 0.95 - ETA: 0s - loss: 0.1186 - accuracy: 0.95 - 2s 27us/sample - loss: 0.1187 - accuracy: 0.9582 - val_loss: 0.1124 - val_accuracy: 0.9579\n",
      "Epoch 7/7\n",
      "69531/69531 [==============================] - ETA: 1s - loss: 0.1413 - accuracy: 0.93 - ETA: 1s - loss: 0.1146 - accuracy: 0.95 - ETA: 1s - loss: 0.1166 - accuracy: 0.95 - ETA: 1s - loss: 0.1235 - accuracy: 0.95 - ETA: 1s - loss: 0.1233 - accuracy: 0.95 - ETA: 1s - loss: 0.1215 - accuracy: 0.95 - ETA: 1s - loss: 0.1199 - accuracy: 0.95 - ETA: 1s - loss: 0.1185 - accuracy: 0.95 - ETA: 1s - loss: 0.1194 - accuracy: 0.95 - ETA: 1s - loss: 0.1184 - accuracy: 0.95 - ETA: 1s - loss: 0.1176 - accuracy: 0.95 - ETA: 1s - loss: 0.1169 - accuracy: 0.95 - ETA: 1s - loss: 0.1180 - accuracy: 0.95 - ETA: 1s - loss: 0.1183 - accuracy: 0.95 - ETA: 0s - loss: 0.1176 - accuracy: 0.95 - ETA: 0s - loss: 0.1175 - accuracy: 0.95 - ETA: 0s - loss: 0.1182 - accuracy: 0.95 - ETA: 0s - loss: 0.1179 - accuracy: 0.95 - ETA: 0s - loss: 0.1176 - accuracy: 0.95 - ETA: 0s - loss: 0.1178 - accuracy: 0.95 - ETA: 0s - loss: 0.1177 - accuracy: 0.95 - ETA: 0s - loss: 0.1175 - accuracy: 0.95 - ETA: 0s - loss: 0.1173 - accuracy: 0.95 - ETA: 0s - loss: 0.1174 - accuracy: 0.95 - ETA: 0s - loss: 0.1174 - accuracy: 0.95 - ETA: 0s - loss: 0.1168 - accuracy: 0.95 - ETA: 0s - loss: 0.1173 - accuracy: 0.95 - ETA: 0s - loss: 0.1173 - accuracy: 0.95 - ETA: 0s - loss: 0.1181 - accuracy: 0.95 - ETA: 0s - loss: 0.1182 - accuracy: 0.95 - ETA: 0s - loss: 0.1183 - accuracy: 0.95 - ETA: 0s - loss: 0.1179 - accuracy: 0.95 - 2s 27us/sample - loss: 0.1180 - accuracy: 0.9579 - val_loss: 0.1105 - val_accuracy: 0.9590\n"
     ]
    },
    {
     "data": {
      "text/html": [
       "<span style=\"color:#4527A0\"><h1 style=\"font-size:18px\">Trial complete</h1></span>"
      ],
      "text/plain": [
       "<IPython.core.display.HTML object>"
      ]
     },
     "metadata": {},
     "output_type": "display_data"
    },
    {
     "data": {
      "text/html": [
       "<span style=\"color:#4527A0\"><h1 style=\"font-size:18px\">Trial summary</h1></span>"
      ],
      "text/plain": [
       "<IPython.core.display.HTML object>"
      ]
     },
     "metadata": {},
     "output_type": "display_data"
    },
    {
     "data": {
      "text/html": [
       "<span style=\"color:cyan\"> |-Trial ID: 61f7122093b9540c4252cd23dfd520ca</span>"
      ],
      "text/plain": [
       "<IPython.core.display.HTML object>"
      ]
     },
     "metadata": {},
     "output_type": "display_data"
    },
    {
     "data": {
      "text/html": [
       "<span style=\"color:cyan\"> |-Score: 0.9590110778808594</span>"
      ],
      "text/plain": [
       "<IPython.core.display.HTML object>"
      ]
     },
     "metadata": {},
     "output_type": "display_data"
    },
    {
     "data": {
      "text/html": [
       "<span style=\"color:cyan\"> |-Best step: 0</span>"
      ],
      "text/plain": [
       "<IPython.core.display.HTML object>"
      ]
     },
     "metadata": {},
     "output_type": "display_data"
    },
    {
     "data": {
      "text/html": [
       "<span style=\"color:#7E57C2\"><h2 style=\"font-size:16px\">Hyperparameters:</h2></span>"
      ],
      "text/plain": [
       "<IPython.core.display.HTML object>"
      ]
     },
     "metadata": {},
     "output_type": "display_data"
    },
    {
     "data": {
      "text/html": [
       "<span style=\"color:cyan\"> |-rate_1: 0.30000000000000004</span>"
      ],
      "text/plain": [
       "<IPython.core.display.HTML object>"
      ]
     },
     "metadata": {},
     "output_type": "display_data"
    },
    {
     "data": {
      "text/html": [
       "<span style=\"color:blue\"> |-rate_2: 0.30000000000000004</span>"
      ],
      "text/plain": [
       "<IPython.core.display.HTML object>"
      ]
     },
     "metadata": {},
     "output_type": "display_data"
    },
    {
     "data": {
      "text/html": [
       "<span style=\"color:cyan\"> |-tuner/bracket: 1</span>"
      ],
      "text/plain": [
       "<IPython.core.display.HTML object>"
      ]
     },
     "metadata": {},
     "output_type": "display_data"
    },
    {
     "data": {
      "text/html": [
       "<span style=\"color:blue\"> |-tuner/epochs: 7</span>"
      ],
      "text/plain": [
       "<IPython.core.display.HTML object>"
      ]
     },
     "metadata": {},
     "output_type": "display_data"
    },
    {
     "data": {
      "text/html": [
       "<span style=\"color:cyan\"> |-tuner/initial_epoch: 0</span>"
      ],
      "text/plain": [
       "<IPython.core.display.HTML object>"
      ]
     },
     "metadata": {},
     "output_type": "display_data"
    },
    {
     "data": {
      "text/html": [
       "<span style=\"color:blue\"> |-tuner/round: 0</span>"
      ],
      "text/plain": [
       "<IPython.core.display.HTML object>"
      ]
     },
     "metadata": {},
     "output_type": "display_data"
    },
    {
     "data": {
      "text/html": [
       "<span style=\"color:cyan\"> |-units_1: 44</span>"
      ],
      "text/plain": [
       "<IPython.core.display.HTML object>"
      ]
     },
     "metadata": {},
     "output_type": "display_data"
    },
    {
     "data": {
      "text/html": [
       "<span style=\"color:blue\"> |-units_2: 32</span>"
      ],
      "text/plain": [
       "<IPython.core.display.HTML object>"
      ]
     },
     "metadata": {},
     "output_type": "display_data"
    },
    {
     "name": "stdout",
     "output_type": "stream",
     "text": [
      "Train on 69531 samples, validate on 23177 samples\n",
      "Epoch 1/7\n",
      "69531/69531 [==============================] - ETA: 2:18 - loss: 0.9125 - accuracy: 0.50 - ETA: 16s - loss: 0.8277 - accuracy: 0.5391 - ETA: 9s - loss: 0.7468 - accuracy: 0.586 - ETA: 7s - loss: 0.6817 - accuracy: 0.63 - ETA: 5s - loss: 0.6265 - accuracy: 0.67 - ETA: 4s - loss: 0.5793 - accuracy: 0.71 - ETA: 3s - loss: 0.5401 - accuracy: 0.73 - ETA: 3s - loss: 0.5124 - accuracy: 0.75 - ETA: 3s - loss: 0.4823 - accuracy: 0.77 - ETA: 2s - loss: 0.4591 - accuracy: 0.78 - ETA: 2s - loss: 0.4374 - accuracy: 0.79 - ETA: 2s - loss: 0.4190 - accuracy: 0.81 - ETA: 2s - loss: 0.4030 - accuracy: 0.81 - ETA: 2s - loss: 0.3887 - accuracy: 0.82 - ETA: 1s - loss: 0.3746 - accuracy: 0.83 - ETA: 1s - loss: 0.3622 - accuracy: 0.84 - ETA: 1s - loss: 0.3494 - accuracy: 0.84 - ETA: 1s - loss: 0.3399 - accuracy: 0.85 - ETA: 1s - loss: 0.3305 - accuracy: 0.85 - ETA: 1s - loss: 0.3219 - accuracy: 0.86 - ETA: 1s - loss: 0.3140 - accuracy: 0.86 - ETA: 1s - loss: 0.3063 - accuracy: 0.86 - ETA: 1s - loss: 0.3000 - accuracy: 0.87 - ETA: 0s - loss: 0.2931 - accuracy: 0.87 - ETA: 0s - loss: 0.2866 - accuracy: 0.87 - ETA: 0s - loss: 0.2814 - accuracy: 0.88 - ETA: 0s - loss: 0.2762 - accuracy: 0.88 - ETA: 0s - loss: 0.2721 - accuracy: 0.88 - ETA: 0s - loss: 0.2674 - accuracy: 0.88 - ETA: 0s - loss: 0.2634 - accuracy: 0.89 - ETA: 0s - loss: 0.2599 - accuracy: 0.89 - ETA: 0s - loss: 0.2573 - accuracy: 0.89 - ETA: 0s - loss: 0.2534 - accuracy: 0.89 - ETA: 0s - loss: 0.2503 - accuracy: 0.89 - ETA: 0s - loss: 0.2473 - accuracy: 0.89 - 3s 39us/sample - loss: 0.2442 - accuracy: 0.9006 - val_loss: 0.1268 - val_accuracy: 0.9525\n",
      "Epoch 2/7\n",
      "69531/69531 [==============================] - ETA: 2s - loss: 0.1248 - accuracy: 0.96 - ETA: 1s - loss: 0.1503 - accuracy: 0.94 - ETA: 1s - loss: 0.1453 - accuracy: 0.94 - ETA: 1s - loss: 0.1444 - accuracy: 0.95 - ETA: 1s - loss: 0.1402 - accuracy: 0.95 - ETA: 1s - loss: 0.1388 - accuracy: 0.95 - ETA: 1s - loss: 0.1379 - accuracy: 0.95 - ETA: 1s - loss: 0.1390 - accuracy: 0.95 - ETA: 1s - loss: 0.1396 - accuracy: 0.95 - ETA: 1s - loss: 0.1377 - accuracy: 0.95 - ETA: 1s - loss: 0.1367 - accuracy: 0.95 - ETA: 1s - loss: 0.1348 - accuracy: 0.95 - ETA: 1s - loss: 0.1350 - accuracy: 0.95 - ETA: 1s - loss: 0.1370 - accuracy: 0.95 - ETA: 1s - loss: 0.1387 - accuracy: 0.95 - ETA: 1s - loss: 0.1382 - accuracy: 0.95 - ETA: 1s - loss: 0.1383 - accuracy: 0.95 - ETA: 0s - loss: 0.1379 - accuracy: 0.95 - ETA: 0s - loss: 0.1374 - accuracy: 0.95 - ETA: 0s - loss: 0.1366 - accuracy: 0.95 - ETA: 0s - loss: 0.1370 - accuracy: 0.95 - ETA: 0s - loss: 0.1368 - accuracy: 0.95 - ETA: 0s - loss: 0.1367 - accuracy: 0.95 - ETA: 0s - loss: 0.1361 - accuracy: 0.95 - ETA: 0s - loss: 0.1356 - accuracy: 0.95 - ETA: 0s - loss: 0.1359 - accuracy: 0.95 - ETA: 0s - loss: 0.1354 - accuracy: 0.95 - ETA: 0s - loss: 0.1349 - accuracy: 0.95 - ETA: 0s - loss: 0.1349 - accuracy: 0.95 - ETA: 0s - loss: 0.1355 - accuracy: 0.95 - ETA: 0s - loss: 0.1357 - accuracy: 0.95 - ETA: 0s - loss: 0.1359 - accuracy: 0.95 - ETA: 0s - loss: 0.1356 - accuracy: 0.95 - ETA: 0s - loss: 0.1354 - accuracy: 0.95 - ETA: 0s - loss: 0.1350 - accuracy: 0.95 - ETA: 0s - loss: 0.1353 - accuracy: 0.95 - ETA: 0s - loss: 0.1351 - accuracy: 0.95 - 2s 31us/sample - loss: 0.1351 - accuracy: 0.9529 - val_loss: 0.1189 - val_accuracy: 0.9547\n",
      "Epoch 3/7\n",
      "69531/69531 [==============================] - ETA: 2s - loss: 0.1056 - accuracy: 0.96 - ETA: 1s - loss: 0.1430 - accuracy: 0.95 - ETA: 1s - loss: 0.1308 - accuracy: 0.95 - ETA: 1s - loss: 0.1343 - accuracy: 0.95 - ETA: 1s - loss: 0.1344 - accuracy: 0.95 - ETA: 1s - loss: 0.1346 - accuracy: 0.95 - ETA: 1s - loss: 0.1351 - accuracy: 0.95 - ETA: 1s - loss: 0.1351 - accuracy: 0.95 - ETA: 1s - loss: 0.1333 - accuracy: 0.95 - ETA: 1s - loss: 0.1311 - accuracy: 0.95 - ETA: 1s - loss: 0.1311 - accuracy: 0.95 - ETA: 1s - loss: 0.1289 - accuracy: 0.95 - ETA: 1s - loss: 0.1284 - accuracy: 0.95 - ETA: 1s - loss: 0.1293 - accuracy: 0.95 - ETA: 1s - loss: 0.1294 - accuracy: 0.95 - ETA: 1s - loss: 0.1293 - accuracy: 0.95 - ETA: 1s - loss: 0.1281 - accuracy: 0.95 - ETA: 1s - loss: 0.1278 - accuracy: 0.95 - ETA: 0s - loss: 0.1283 - accuracy: 0.95 - ETA: 0s - loss: 0.1286 - accuracy: 0.95 - ETA: 0s - loss: 0.1291 - accuracy: 0.95 - ETA: 0s - loss: 0.1286 - accuracy: 0.95 - ETA: 0s - loss: 0.1293 - accuracy: 0.95 - ETA: 0s - loss: 0.1288 - accuracy: 0.95 - ETA: 0s - loss: 0.1284 - accuracy: 0.95 - ETA: 0s - loss: 0.1285 - accuracy: 0.95 - ETA: 0s - loss: 0.1280 - accuracy: 0.95 - ETA: 0s - loss: 0.1279 - accuracy: 0.95 - ETA: 0s - loss: 0.1284 - accuracy: 0.95 - ETA: 0s - loss: 0.1284 - accuracy: 0.95 - ETA: 0s - loss: 0.1284 - accuracy: 0.95 - ETA: 0s - loss: 0.1277 - accuracy: 0.95 - ETA: 0s - loss: 0.1274 - accuracy: 0.95 - ETA: 0s - loss: 0.1283 - accuracy: 0.95 - ETA: 0s - loss: 0.1280 - accuracy: 0.95 - ETA: 0s - loss: 0.1277 - accuracy: 0.95 - ETA: 0s - loss: 0.1274 - accuracy: 0.95 - 2s 31us/sample - loss: 0.1275 - accuracy: 0.9561 - val_loss: 0.1155 - val_accuracy: 0.9564\n",
      "Epoch 4/7\n",
      "69531/69531 [==============================] - ETA: 1s - loss: 0.1374 - accuracy: 0.95 - ETA: 1s - loss: 0.1162 - accuracy: 0.95 - ETA: 1s - loss: 0.1129 - accuracy: 0.95 - ETA: 1s - loss: 0.1188 - accuracy: 0.95 - ETA: 1s - loss: 0.1228 - accuracy: 0.95 - ETA: 1s - loss: 0.1231 - accuracy: 0.95 - ETA: 1s - loss: 0.1211 - accuracy: 0.95 - ETA: 1s - loss: 0.1204 - accuracy: 0.95 - ETA: 1s - loss: 0.1217 - accuracy: 0.95 - ETA: 1s - loss: 0.1230 - accuracy: 0.95 - ETA: 1s - loss: 0.1239 - accuracy: 0.95 - ETA: 1s - loss: 0.1242 - accuracy: 0.95 - ETA: 1s - loss: 0.1241 - accuracy: 0.95 - ETA: 1s - loss: 0.1233 - accuracy: 0.95 - ETA: 1s - loss: 0.1236 - accuracy: 0.95 - ETA: 1s - loss: 0.1225 - accuracy: 0.95 - ETA: 1s - loss: 0.1225 - accuracy: 0.95 - ETA: 0s - loss: 0.1219 - accuracy: 0.95 - ETA: 0s - loss: 0.1224 - accuracy: 0.95 - ETA: 0s - loss: 0.1219 - accuracy: 0.95 - ETA: 0s - loss: 0.1221 - accuracy: 0.95 - ETA: 0s - loss: 0.1224 - accuracy: 0.95 - ETA: 0s - loss: 0.1218 - accuracy: 0.95 - ETA: 0s - loss: 0.1221 - accuracy: 0.95 - ETA: 0s - loss: 0.1225 - accuracy: 0.95 - ETA: 0s - loss: 0.1223 - accuracy: 0.95 - ETA: 0s - loss: 0.1217 - accuracy: 0.95 - ETA: 0s - loss: 0.1219 - accuracy: 0.95 - ETA: 0s - loss: 0.1216 - accuracy: 0.95 - ETA: 0s - loss: 0.1215 - accuracy: 0.95 - ETA: 0s - loss: 0.1213 - accuracy: 0.95 - ETA: 0s - loss: 0.1211 - accuracy: 0.95 - ETA: 0s - loss: 0.1214 - accuracy: 0.95 - ETA: 0s - loss: 0.1212 - accuracy: 0.95 - ETA: 0s - loss: 0.1214 - accuracy: 0.95 - ETA: 0s - loss: 0.1214 - accuracy: 0.95 - ETA: 0s - loss: 0.1211 - accuracy: 0.95 - 2s 31us/sample - loss: 0.1211 - accuracy: 0.9566 - val_loss: 0.1131 - val_accuracy: 0.9576\n",
      "Epoch 5/7\n"
     ]
    },
    {
     "name": "stdout",
     "output_type": "stream",
     "text": [
      "69531/69531 [==============================] - ETA: 2s - loss: 0.1087 - accuracy: 0.95 - ETA: 1s - loss: 0.1263 - accuracy: 0.95 - ETA: 1s - loss: 0.1240 - accuracy: 0.95 - ETA: 1s - loss: 0.1235 - accuracy: 0.95 - ETA: 1s - loss: 0.1271 - accuracy: 0.95 - ETA: 1s - loss: 0.1243 - accuracy: 0.95 - ETA: 1s - loss: 0.1244 - accuracy: 0.95 - ETA: 1s - loss: 0.1223 - accuracy: 0.95 - ETA: 1s - loss: 0.1236 - accuracy: 0.95 - ETA: 1s - loss: 0.1217 - accuracy: 0.95 - ETA: 1s - loss: 0.1213 - accuracy: 0.95 - ETA: 1s - loss: 0.1217 - accuracy: 0.95 - ETA: 1s - loss: 0.1242 - accuracy: 0.95 - ETA: 1s - loss: 0.1250 - accuracy: 0.95 - ETA: 1s - loss: 0.1253 - accuracy: 0.95 - ETA: 1s - loss: 0.1239 - accuracy: 0.95 - ETA: 1s - loss: 0.1228 - accuracy: 0.95 - ETA: 0s - loss: 0.1225 - accuracy: 0.95 - ETA: 0s - loss: 0.1223 - accuracy: 0.95 - ETA: 0s - loss: 0.1232 - accuracy: 0.95 - ETA: 0s - loss: 0.1226 - accuracy: 0.95 - ETA: 0s - loss: 0.1226 - accuracy: 0.95 - ETA: 0s - loss: 0.1226 - accuracy: 0.95 - ETA: 0s - loss: 0.1221 - accuracy: 0.95 - ETA: 0s - loss: 0.1215 - accuracy: 0.95 - ETA: 0s - loss: 0.1213 - accuracy: 0.95 - ETA: 0s - loss: 0.1208 - accuracy: 0.95 - ETA: 0s - loss: 0.1207 - accuracy: 0.95 - ETA: 0s - loss: 0.1204 - accuracy: 0.95 - ETA: 0s - loss: 0.1199 - accuracy: 0.95 - ETA: 0s - loss: 0.1200 - accuracy: 0.95 - ETA: 0s - loss: 0.1202 - accuracy: 0.95 - ETA: 0s - loss: 0.1196 - accuracy: 0.95 - ETA: 0s - loss: 0.1195 - accuracy: 0.95 - ETA: 0s - loss: 0.1193 - accuracy: 0.95 - ETA: 0s - loss: 0.1191 - accuracy: 0.95 - 2s 30us/sample - loss: 0.1194 - accuracy: 0.9577 - val_loss: 0.1116 - val_accuracy: 0.9586\n",
      "Epoch 6/7\n",
      "69531/69531 [==============================] - ETA: 1s - loss: 0.1024 - accuracy: 0.97 - ETA: 1s - loss: 0.1212 - accuracy: 0.95 - ETA: 1s - loss: 0.1163 - accuracy: 0.95 - ETA: 1s - loss: 0.1129 - accuracy: 0.95 - ETA: 1s - loss: 0.1101 - accuracy: 0.96 - ETA: 1s - loss: 0.1115 - accuracy: 0.96 - ETA: 1s - loss: 0.1129 - accuracy: 0.95 - ETA: 1s - loss: 0.1146 - accuracy: 0.95 - ETA: 1s - loss: 0.1163 - accuracy: 0.95 - ETA: 1s - loss: 0.1165 - accuracy: 0.95 - ETA: 1s - loss: 0.1161 - accuracy: 0.95 - ETA: 1s - loss: 0.1162 - accuracy: 0.95 - ETA: 1s - loss: 0.1176 - accuracy: 0.95 - ETA: 1s - loss: 0.1180 - accuracy: 0.95 - ETA: 1s - loss: 0.1176 - accuracy: 0.95 - ETA: 1s - loss: 0.1166 - accuracy: 0.95 - ETA: 0s - loss: 0.1167 - accuracy: 0.95 - ETA: 0s - loss: 0.1174 - accuracy: 0.95 - ETA: 0s - loss: 0.1180 - accuracy: 0.95 - ETA: 0s - loss: 0.1181 - accuracy: 0.95 - ETA: 0s - loss: 0.1179 - accuracy: 0.95 - ETA: 0s - loss: 0.1173 - accuracy: 0.95 - ETA: 0s - loss: 0.1169 - accuracy: 0.95 - ETA: 0s - loss: 0.1166 - accuracy: 0.95 - ETA: 0s - loss: 0.1162 - accuracy: 0.95 - ETA: 0s - loss: 0.1164 - accuracy: 0.95 - ETA: 0s - loss: 0.1154 - accuracy: 0.95 - ETA: 0s - loss: 0.1152 - accuracy: 0.95 - ETA: 0s - loss: 0.1154 - accuracy: 0.95 - ETA: 0s - loss: 0.1153 - accuracy: 0.95 - ETA: 0s - loss: 0.1149 - accuracy: 0.95 - ETA: 0s - loss: 0.1148 - accuracy: 0.95 - ETA: 0s - loss: 0.1154 - accuracy: 0.95 - ETA: 0s - loss: 0.1155 - accuracy: 0.95 - ETA: 0s - loss: 0.1155 - accuracy: 0.95 - 2s 29us/sample - loss: 0.1155 - accuracy: 0.9589 - val_loss: 0.1100 - val_accuracy: 0.9598\n",
      "Epoch 7/7\n",
      "69531/69531 [==============================] - ETA: 1s - loss: 0.1454 - accuracy: 0.95 - ETA: 1s - loss: 0.1120 - accuracy: 0.96 - ETA: 1s - loss: 0.1060 - accuracy: 0.96 - ETA: 1s - loss: 0.1105 - accuracy: 0.96 - ETA: 1s - loss: 0.1095 - accuracy: 0.96 - ETA: 1s - loss: 0.1104 - accuracy: 0.96 - ETA: 1s - loss: 0.1126 - accuracy: 0.96 - ETA: 1s - loss: 0.1136 - accuracy: 0.95 - ETA: 1s - loss: 0.1139 - accuracy: 0.95 - ETA: 1s - loss: 0.1129 - accuracy: 0.95 - ETA: 1s - loss: 0.1140 - accuracy: 0.95 - ETA: 1s - loss: 0.1141 - accuracy: 0.95 - ETA: 1s - loss: 0.1152 - accuracy: 0.95 - ETA: 1s - loss: 0.1170 - accuracy: 0.95 - ETA: 1s - loss: 0.1169 - accuracy: 0.95 - ETA: 1s - loss: 0.1159 - accuracy: 0.95 - ETA: 1s - loss: 0.1158 - accuracy: 0.95 - ETA: 0s - loss: 0.1159 - accuracy: 0.95 - ETA: 0s - loss: 0.1164 - accuracy: 0.95 - ETA: 0s - loss: 0.1167 - accuracy: 0.95 - ETA: 0s - loss: 0.1163 - accuracy: 0.95 - ETA: 0s - loss: 0.1172 - accuracy: 0.95 - ETA: 0s - loss: 0.1174 - accuracy: 0.95 - ETA: 0s - loss: 0.1169 - accuracy: 0.95 - ETA: 0s - loss: 0.1173 - accuracy: 0.95 - ETA: 0s - loss: 0.1165 - accuracy: 0.95 - ETA: 0s - loss: 0.1164 - accuracy: 0.95 - ETA: 0s - loss: 0.1168 - accuracy: 0.95 - ETA: 0s - loss: 0.1164 - accuracy: 0.95 - ETA: 0s - loss: 0.1165 - accuracy: 0.95 - ETA: 0s - loss: 0.1167 - accuracy: 0.95 - ETA: 0s - loss: 0.1162 - accuracy: 0.95 - ETA: 0s - loss: 0.1161 - accuracy: 0.95 - ETA: 0s - loss: 0.1156 - accuracy: 0.95 - ETA: 0s - loss: 0.1152 - accuracy: 0.95 - ETA: 0s - loss: 0.1150 - accuracy: 0.95 - 2s 30us/sample - loss: 0.1148 - accuracy: 0.9595 - val_loss: 0.1095 - val_accuracy: 0.9596\n"
     ]
    },
    {
     "data": {
      "text/html": [
       "<span style=\"color:#4527A0\"><h1 style=\"font-size:18px\">Trial complete</h1></span>"
      ],
      "text/plain": [
       "<IPython.core.display.HTML object>"
      ]
     },
     "metadata": {},
     "output_type": "display_data"
    },
    {
     "data": {
      "text/html": [
       "<span style=\"color:#4527A0\"><h1 style=\"font-size:18px\">Trial summary</h1></span>"
      ],
      "text/plain": [
       "<IPython.core.display.HTML object>"
      ]
     },
     "metadata": {},
     "output_type": "display_data"
    },
    {
     "data": {
      "text/html": [
       "<span style=\"color:cyan\"> |-Trial ID: cbbfd18372b2cb2ab243a4682b699ae5</span>"
      ],
      "text/plain": [
       "<IPython.core.display.HTML object>"
      ]
     },
     "metadata": {},
     "output_type": "display_data"
    },
    {
     "data": {
      "text/html": [
       "<span style=\"color:cyan\"> |-Score: 0.9598308801651001</span>"
      ],
      "text/plain": [
       "<IPython.core.display.HTML object>"
      ]
     },
     "metadata": {},
     "output_type": "display_data"
    },
    {
     "data": {
      "text/html": [
       "<span style=\"color:cyan\"> |-Best step: 0</span>"
      ],
      "text/plain": [
       "<IPython.core.display.HTML object>"
      ]
     },
     "metadata": {},
     "output_type": "display_data"
    },
    {
     "data": {
      "text/html": [
       "<span style=\"color:#7E57C2\"><h2 style=\"font-size:16px\">Hyperparameters:</h2></span>"
      ],
      "text/plain": [
       "<IPython.core.display.HTML object>"
      ]
     },
     "metadata": {},
     "output_type": "display_data"
    },
    {
     "data": {
      "text/html": [
       "<span style=\"color:cyan\"> |-rate_1: 0.30000000000000004</span>"
      ],
      "text/plain": [
       "<IPython.core.display.HTML object>"
      ]
     },
     "metadata": {},
     "output_type": "display_data"
    },
    {
     "data": {
      "text/html": [
       "<span style=\"color:blue\"> |-rate_2: 0.30000000000000004</span>"
      ],
      "text/plain": [
       "<IPython.core.display.HTML object>"
      ]
     },
     "metadata": {},
     "output_type": "display_data"
    },
    {
     "data": {
      "text/html": [
       "<span style=\"color:cyan\"> |-tuner/bracket: 1</span>"
      ],
      "text/plain": [
       "<IPython.core.display.HTML object>"
      ]
     },
     "metadata": {},
     "output_type": "display_data"
    },
    {
     "data": {
      "text/html": [
       "<span style=\"color:blue\"> |-tuner/epochs: 7</span>"
      ],
      "text/plain": [
       "<IPython.core.display.HTML object>"
      ]
     },
     "metadata": {},
     "output_type": "display_data"
    },
    {
     "data": {
      "text/html": [
       "<span style=\"color:cyan\"> |-tuner/initial_epoch: 0</span>"
      ],
      "text/plain": [
       "<IPython.core.display.HTML object>"
      ]
     },
     "metadata": {},
     "output_type": "display_data"
    },
    {
     "data": {
      "text/html": [
       "<span style=\"color:blue\"> |-tuner/round: 0</span>"
      ],
      "text/plain": [
       "<IPython.core.display.HTML object>"
      ]
     },
     "metadata": {},
     "output_type": "display_data"
    },
    {
     "data": {
      "text/html": [
       "<span style=\"color:cyan\"> |-units_1: 58</span>"
      ],
      "text/plain": [
       "<IPython.core.display.HTML object>"
      ]
     },
     "metadata": {},
     "output_type": "display_data"
    },
    {
     "data": {
      "text/html": [
       "<span style=\"color:blue\"> |-units_2: 40</span>"
      ],
      "text/plain": [
       "<IPython.core.display.HTML object>"
      ]
     },
     "metadata": {},
     "output_type": "display_data"
    },
    {
     "name": "stdout",
     "output_type": "stream",
     "text": [
      "Train on 69531 samples, validate on 23177 samples\n",
      "Epoch 1/7\n",
      "69531/69531 [==============================] - ETA: 2:18 - loss: 0.7331 - accuracy: 0.51 - ETA: 16s - loss: 0.7269 - accuracy: 0.5425 - ETA: 9s - loss: 0.6776 - accuracy: 0.599 - ETA: 6s - loss: 0.6406 - accuracy: 0.64 - ETA: 5s - loss: 0.6039 - accuracy: 0.68 - ETA: 4s - loss: 0.5715 - accuracy: 0.71 - ETA: 3s - loss: 0.5379 - accuracy: 0.74 - ETA: 3s - loss: 0.5115 - accuracy: 0.76 - ETA: 2s - loss: 0.4881 - accuracy: 0.77 - ETA: 2s - loss: 0.4653 - accuracy: 0.79 - ETA: 2s - loss: 0.4448 - accuracy: 0.80 - ETA: 2s - loss: 0.4260 - accuracy: 0.81 - ETA: 1s - loss: 0.4113 - accuracy: 0.82 - ETA: 1s - loss: 0.3958 - accuracy: 0.83 - ETA: 1s - loss: 0.3825 - accuracy: 0.83 - ETA: 1s - loss: 0.3699 - accuracy: 0.84 - ETA: 1s - loss: 0.3581 - accuracy: 0.84 - ETA: 1s - loss: 0.3478 - accuracy: 0.85 - ETA: 1s - loss: 0.3390 - accuracy: 0.85 - ETA: 1s - loss: 0.3310 - accuracy: 0.86 - ETA: 0s - loss: 0.3226 - accuracy: 0.86 - ETA: 0s - loss: 0.3160 - accuracy: 0.86 - ETA: 0s - loss: 0.3089 - accuracy: 0.87 - ETA: 0s - loss: 0.3016 - accuracy: 0.87 - ETA: 0s - loss: 0.2971 - accuracy: 0.87 - ETA: 0s - loss: 0.2910 - accuracy: 0.88 - ETA: 0s - loss: 0.2860 - accuracy: 0.88 - ETA: 0s - loss: 0.2821 - accuracy: 0.88 - ETA: 0s - loss: 0.2779 - accuracy: 0.88 - ETA: 0s - loss: 0.2745 - accuracy: 0.88 - ETA: 0s - loss: 0.2711 - accuracy: 0.89 - ETA: 0s - loss: 0.2681 - accuracy: 0.89 - 3s 36us/sample - loss: 0.2663 - accuracy: 0.8932 - val_loss: 0.1321 - val_accuracy: 0.9509\n",
      "Epoch 2/7\n",
      "69531/69531 [==============================] - ETA: 1s - loss: 0.1538 - accuracy: 0.94 - ETA: 1s - loss: 0.1621 - accuracy: 0.94 - ETA: 1s - loss: 0.1595 - accuracy: 0.94 - ETA: 1s - loss: 0.1606 - accuracy: 0.94 - ETA: 1s - loss: 0.1611 - accuracy: 0.94 - ETA: 1s - loss: 0.1625 - accuracy: 0.94 - ETA: 1s - loss: 0.1580 - accuracy: 0.94 - ETA: 1s - loss: 0.1578 - accuracy: 0.94 - ETA: 1s - loss: 0.1556 - accuracy: 0.94 - ETA: 1s - loss: 0.1563 - accuracy: 0.94 - ETA: 1s - loss: 0.1562 - accuracy: 0.94 - ETA: 1s - loss: 0.1556 - accuracy: 0.94 - ETA: 1s - loss: 0.1544 - accuracy: 0.94 - ETA: 0s - loss: 0.1522 - accuracy: 0.94 - ETA: 0s - loss: 0.1523 - accuracy: 0.94 - ETA: 0s - loss: 0.1522 - accuracy: 0.94 - ETA: 0s - loss: 0.1514 - accuracy: 0.94 - ETA: 0s - loss: 0.1514 - accuracy: 0.94 - ETA: 0s - loss: 0.1507 - accuracy: 0.94 - ETA: 0s - loss: 0.1499 - accuracy: 0.94 - ETA: 0s - loss: 0.1493 - accuracy: 0.94 - ETA: 0s - loss: 0.1490 - accuracy: 0.94 - ETA: 0s - loss: 0.1484 - accuracy: 0.94 - ETA: 0s - loss: 0.1481 - accuracy: 0.94 - ETA: 0s - loss: 0.1484 - accuracy: 0.94 - ETA: 0s - loss: 0.1485 - accuracy: 0.94 - ETA: 0s - loss: 0.1487 - accuracy: 0.94 - ETA: 0s - loss: 0.1484 - accuracy: 0.94 - ETA: 0s - loss: 0.1483 - accuracy: 0.94 - ETA: 0s - loss: 0.1475 - accuracy: 0.94 - ETA: 0s - loss: 0.1470 - accuracy: 0.94 - ETA: 0s - loss: 0.1468 - accuracy: 0.94 - 2s 27us/sample - loss: 0.1469 - accuracy: 0.9494 - val_loss: 0.1232 - val_accuracy: 0.9542\n",
      "Epoch 3/7\n",
      "69531/69531 [==============================] - ETA: 1s - loss: 0.0917 - accuracy: 0.97 - ETA: 1s - loss: 0.1357 - accuracy: 0.95 - ETA: 1s - loss: 0.1328 - accuracy: 0.95 - ETA: 1s - loss: 0.1413 - accuracy: 0.95 - ETA: 1s - loss: 0.1401 - accuracy: 0.95 - ETA: 1s - loss: 0.1405 - accuracy: 0.95 - ETA: 1s - loss: 0.1397 - accuracy: 0.95 - ETA: 1s - loss: 0.1383 - accuracy: 0.95 - ETA: 1s - loss: 0.1411 - accuracy: 0.95 - ETA: 1s - loss: 0.1398 - accuracy: 0.95 - ETA: 1s - loss: 0.1392 - accuracy: 0.95 - ETA: 1s - loss: 0.1390 - accuracy: 0.95 - ETA: 1s - loss: 0.1381 - accuracy: 0.95 - ETA: 0s - loss: 0.1386 - accuracy: 0.95 - ETA: 0s - loss: 0.1379 - accuracy: 0.95 - ETA: 0s - loss: 0.1378 - accuracy: 0.95 - ETA: 0s - loss: 0.1375 - accuracy: 0.95 - ETA: 0s - loss: 0.1368 - accuracy: 0.95 - ETA: 0s - loss: 0.1372 - accuracy: 0.95 - ETA: 0s - loss: 0.1369 - accuracy: 0.95 - ETA: 0s - loss: 0.1367 - accuracy: 0.95 - ETA: 0s - loss: 0.1367 - accuracy: 0.95 - ETA: 0s - loss: 0.1368 - accuracy: 0.95 - ETA: 0s - loss: 0.1369 - accuracy: 0.95 - ETA: 0s - loss: 0.1366 - accuracy: 0.95 - ETA: 0s - loss: 0.1366 - accuracy: 0.95 - ETA: 0s - loss: 0.1371 - accuracy: 0.95 - ETA: 0s - loss: 0.1370 - accuracy: 0.95 - ETA: 0s - loss: 0.1366 - accuracy: 0.95 - ETA: 0s - loss: 0.1363 - accuracy: 0.95 - ETA: 0s - loss: 0.1361 - accuracy: 0.95 - ETA: 0s - loss: 0.1354 - accuracy: 0.95 - 2s 27us/sample - loss: 0.1355 - accuracy: 0.9539 - val_loss: 0.1195 - val_accuracy: 0.9554\n",
      "Epoch 4/7\n",
      "69531/69531 [==============================] - ETA: 1s - loss: 0.2104 - accuracy: 0.92 - ETA: 1s - loss: 0.1400 - accuracy: 0.95 - ETA: 1s - loss: 0.1424 - accuracy: 0.95 - ETA: 1s - loss: 0.1348 - accuracy: 0.95 - ETA: 1s - loss: 0.1311 - accuracy: 0.95 - ETA: 1s - loss: 0.1291 - accuracy: 0.95 - ETA: 1s - loss: 0.1304 - accuracy: 0.95 - ETA: 1s - loss: 0.1290 - accuracy: 0.95 - ETA: 1s - loss: 0.1297 - accuracy: 0.95 - ETA: 1s - loss: 0.1317 - accuracy: 0.95 - ETA: 1s - loss: 0.1320 - accuracy: 0.95 - ETA: 1s - loss: 0.1331 - accuracy: 0.95 - ETA: 1s - loss: 0.1312 - accuracy: 0.95 - ETA: 1s - loss: 0.1308 - accuracy: 0.95 - ETA: 0s - loss: 0.1300 - accuracy: 0.95 - ETA: 0s - loss: 0.1304 - accuracy: 0.95 - ETA: 0s - loss: 0.1311 - accuracy: 0.95 - ETA: 0s - loss: 0.1302 - accuracy: 0.95 - ETA: 0s - loss: 0.1308 - accuracy: 0.95 - ETA: 0s - loss: 0.1306 - accuracy: 0.95 - ETA: 0s - loss: 0.1298 - accuracy: 0.95 - ETA: 0s - loss: 0.1293 - accuracy: 0.95 - ETA: 0s - loss: 0.1291 - accuracy: 0.95 - ETA: 0s - loss: 0.1298 - accuracy: 0.95 - ETA: 0s - loss: 0.1298 - accuracy: 0.95 - ETA: 0s - loss: 0.1297 - accuracy: 0.95 - ETA: 0s - loss: 0.1298 - accuracy: 0.95 - ETA: 0s - loss: 0.1306 - accuracy: 0.95 - ETA: 0s - loss: 0.1304 - accuracy: 0.95 - ETA: 0s - loss: 0.1310 - accuracy: 0.95 - ETA: 0s - loss: 0.1309 - accuracy: 0.95 - ETA: 0s - loss: 0.1306 - accuracy: 0.95 - ETA: 0s - loss: 0.1305 - accuracy: 0.95 - 2s 27us/sample - loss: 0.1304 - accuracy: 0.9550 - val_loss: 0.1180 - val_accuracy: 0.9558\n",
      "Epoch 5/7\n",
      "69531/69531 [==============================] - ETA: 1s - loss: 0.1188 - accuracy: 0.96 - ETA: 1s - loss: 0.1302 - accuracy: 0.95 - ETA: 1s - loss: 0.1266 - accuracy: 0.95 - ETA: 1s - loss: 0.1308 - accuracy: 0.95 - ETA: 1s - loss: 0.1255 - accuracy: 0.95 - ETA: 1s - loss: 0.1254 - accuracy: 0.95 - ETA: 1s - loss: 0.1239 - accuracy: 0.95 - ETA: 1s - loss: 0.1244 - accuracy: 0.95 - ETA: 1s - loss: 0.1240 - accuracy: 0.95 - ETA: 1s - loss: 0.1243 - accuracy: 0.95 - ETA: 1s - loss: 0.1242 - accuracy: 0.95 - ETA: 1s - loss: 0.1252 - accuracy: 0.95 - ETA: 1s - loss: 0.1247 - accuracy: 0.95 - ETA: 1s - loss: 0.1257 - accuracy: 0.95 - ETA: 0s - loss: 0.1264 - accuracy: 0.95 - ETA: 0s - loss: 0.1271 - accuracy: 0.95 - ETA: 0s - loss: 0.1257 - accuracy: 0.95 - ETA: 0s - loss: 0.1247 - accuracy: 0.95 - ETA: 0s - loss: 0.1246 - accuracy: 0.95 - ETA: 0s - loss: 0.1251 - accuracy: 0.95 - ETA: 0s - loss: 0.1259 - accuracy: 0.95 - ETA: 0s - loss: 0.1259 - accuracy: 0.95 - ETA: 0s - loss: 0.1259 - accuracy: 0.95 - ETA: 0s - loss: 0.1258 - accuracy: 0.95 - ETA: 0s - loss: 0.1249 - accuracy: 0.95 - ETA: 0s - loss: 0.1247 - accuracy: 0.95 - ETA: 0s - loss: 0.1247 - accuracy: 0.95 - ETA: 0s - loss: 0.1244 - accuracy: 0.95 - ETA: 0s - loss: 0.1247 - accuracy: 0.95 - ETA: 0s - loss: 0.1243 - accuracy: 0.95 - ETA: 0s - loss: 0.1247 - accuracy: 0.95 - ETA: 0s - loss: 0.1249 - accuracy: 0.95 - ETA: 0s - loss: 0.1251 - accuracy: 0.95 - 2s 27us/sample - loss: 0.1250 - accuracy: 0.9559 - val_loss: 0.1146 - val_accuracy: 0.9576\n",
      "Epoch 6/7\n"
     ]
    },
    {
     "name": "stdout",
     "output_type": "stream",
     "text": [
      "69531/69531 [==============================] - ETA: 1s - loss: 0.1430 - accuracy: 0.93 - ETA: 1s - loss: 0.1356 - accuracy: 0.94 - ETA: 1s - loss: 0.1278 - accuracy: 0.95 - ETA: 1s - loss: 0.1240 - accuracy: 0.95 - ETA: 1s - loss: 0.1238 - accuracy: 0.95 - ETA: 1s - loss: 0.1246 - accuracy: 0.95 - ETA: 1s - loss: 0.1249 - accuracy: 0.95 - ETA: 1s - loss: 0.1250 - accuracy: 0.95 - ETA: 1s - loss: 0.1239 - accuracy: 0.95 - ETA: 1s - loss: 0.1274 - accuracy: 0.95 - ETA: 1s - loss: 0.1282 - accuracy: 0.95 - ETA: 1s - loss: 0.1275 - accuracy: 0.95 - ETA: 1s - loss: 0.1271 - accuracy: 0.95 - ETA: 1s - loss: 0.1272 - accuracy: 0.95 - ETA: 1s - loss: 0.1276 - accuracy: 0.95 - ETA: 1s - loss: 0.1267 - accuracy: 0.95 - ETA: 0s - loss: 0.1273 - accuracy: 0.95 - ETA: 0s - loss: 0.1286 - accuracy: 0.95 - ETA: 0s - loss: 0.1281 - accuracy: 0.95 - ETA: 0s - loss: 0.1284 - accuracy: 0.95 - ETA: 0s - loss: 0.1275 - accuracy: 0.95 - ETA: 0s - loss: 0.1262 - accuracy: 0.95 - ETA: 0s - loss: 0.1256 - accuracy: 0.95 - ETA: 0s - loss: 0.1255 - accuracy: 0.95 - ETA: 0s - loss: 0.1250 - accuracy: 0.95 - ETA: 0s - loss: 0.1250 - accuracy: 0.95 - ETA: 0s - loss: 0.1247 - accuracy: 0.95 - ETA: 0s - loss: 0.1246 - accuracy: 0.95 - ETA: 0s - loss: 0.1242 - accuracy: 0.95 - ETA: 0s - loss: 0.1245 - accuracy: 0.95 - ETA: 0s - loss: 0.1241 - accuracy: 0.95 - ETA: 0s - loss: 0.1236 - accuracy: 0.95 - ETA: 0s - loss: 0.1235 - accuracy: 0.95 - ETA: 0s - loss: 0.1229 - accuracy: 0.95 - 2s 28us/sample - loss: 0.1230 - accuracy: 0.9570 - val_loss: 0.1127 - val_accuracy: 0.9583\n",
      "Epoch 7/7\n",
      "69531/69531 [==============================] - ETA: 1s - loss: 0.1342 - accuracy: 0.94 - ETA: 1s - loss: 0.1174 - accuracy: 0.96 - ETA: 1s - loss: 0.1156 - accuracy: 0.96 - ETA: 1s - loss: 0.1195 - accuracy: 0.95 - ETA: 1s - loss: 0.1131 - accuracy: 0.96 - ETA: 1s - loss: 0.1131 - accuracy: 0.96 - ETA: 1s - loss: 0.1186 - accuracy: 0.95 - ETA: 1s - loss: 0.1181 - accuracy: 0.95 - ETA: 1s - loss: 0.1190 - accuracy: 0.95 - ETA: 1s - loss: 0.1191 - accuracy: 0.95 - ETA: 1s - loss: 0.1206 - accuracy: 0.95 - ETA: 1s - loss: 0.1214 - accuracy: 0.95 - ETA: 1s - loss: 0.1205 - accuracy: 0.95 - ETA: 1s - loss: 0.1195 - accuracy: 0.95 - ETA: 0s - loss: 0.1183 - accuracy: 0.95 - ETA: 0s - loss: 0.1186 - accuracy: 0.95 - ETA: 0s - loss: 0.1188 - accuracy: 0.95 - ETA: 0s - loss: 0.1184 - accuracy: 0.95 - ETA: 0s - loss: 0.1190 - accuracy: 0.95 - ETA: 0s - loss: 0.1192 - accuracy: 0.95 - ETA: 0s - loss: 0.1193 - accuracy: 0.95 - ETA: 0s - loss: 0.1202 - accuracy: 0.95 - ETA: 0s - loss: 0.1201 - accuracy: 0.95 - ETA: 0s - loss: 0.1203 - accuracy: 0.95 - ETA: 0s - loss: 0.1206 - accuracy: 0.95 - ETA: 0s - loss: 0.1210 - accuracy: 0.95 - ETA: 0s - loss: 0.1209 - accuracy: 0.95 - ETA: 0s - loss: 0.1210 - accuracy: 0.95 - ETA: 0s - loss: 0.1207 - accuracy: 0.95 - ETA: 0s - loss: 0.1205 - accuracy: 0.95 - ETA: 0s - loss: 0.1202 - accuracy: 0.95 - ETA: 0s - loss: 0.1202 - accuracy: 0.95 - ETA: 0s - loss: 0.1201 - accuracy: 0.95 - 2s 27us/sample - loss: 0.1198 - accuracy: 0.9587 - val_loss: 0.1119 - val_accuracy: 0.9588\n"
     ]
    },
    {
     "data": {
      "text/html": [
       "<span style=\"color:#4527A0\"><h1 style=\"font-size:18px\">Trial complete</h1></span>"
      ],
      "text/plain": [
       "<IPython.core.display.HTML object>"
      ]
     },
     "metadata": {},
     "output_type": "display_data"
    },
    {
     "data": {
      "text/html": [
       "<span style=\"color:#4527A0\"><h1 style=\"font-size:18px\">Trial summary</h1></span>"
      ],
      "text/plain": [
       "<IPython.core.display.HTML object>"
      ]
     },
     "metadata": {},
     "output_type": "display_data"
    },
    {
     "data": {
      "text/html": [
       "<span style=\"color:cyan\"> |-Trial ID: 7ce4ce2d5c0cd9e6a8b7bf6eafc6c4d6</span>"
      ],
      "text/plain": [
       "<IPython.core.display.HTML object>"
      ]
     },
     "metadata": {},
     "output_type": "display_data"
    },
    {
     "data": {
      "text/html": [
       "<span style=\"color:cyan\"> |-Score: 0.9588385224342346</span>"
      ],
      "text/plain": [
       "<IPython.core.display.HTML object>"
      ]
     },
     "metadata": {},
     "output_type": "display_data"
    },
    {
     "data": {
      "text/html": [
       "<span style=\"color:cyan\"> |-Best step: 0</span>"
      ],
      "text/plain": [
       "<IPython.core.display.HTML object>"
      ]
     },
     "metadata": {},
     "output_type": "display_data"
    },
    {
     "data": {
      "text/html": [
       "<span style=\"color:#7E57C2\"><h2 style=\"font-size:16px\">Hyperparameters:</h2></span>"
      ],
      "text/plain": [
       "<IPython.core.display.HTML object>"
      ]
     },
     "metadata": {},
     "output_type": "display_data"
    },
    {
     "data": {
      "text/html": [
       "<span style=\"color:cyan\"> |-rate_1: 0.2</span>"
      ],
      "text/plain": [
       "<IPython.core.display.HTML object>"
      ]
     },
     "metadata": {},
     "output_type": "display_data"
    },
    {
     "data": {
      "text/html": [
       "<span style=\"color:blue\"> |-rate_2: 0.4000000000000001</span>"
      ],
      "text/plain": [
       "<IPython.core.display.HTML object>"
      ]
     },
     "metadata": {},
     "output_type": "display_data"
    },
    {
     "data": {
      "text/html": [
       "<span style=\"color:cyan\"> |-tuner/bracket: 1</span>"
      ],
      "text/plain": [
       "<IPython.core.display.HTML object>"
      ]
     },
     "metadata": {},
     "output_type": "display_data"
    },
    {
     "data": {
      "text/html": [
       "<span style=\"color:blue\"> |-tuner/epochs: 7</span>"
      ],
      "text/plain": [
       "<IPython.core.display.HTML object>"
      ]
     },
     "metadata": {},
     "output_type": "display_data"
    },
    {
     "data": {
      "text/html": [
       "<span style=\"color:cyan\"> |-tuner/initial_epoch: 0</span>"
      ],
      "text/plain": [
       "<IPython.core.display.HTML object>"
      ]
     },
     "metadata": {},
     "output_type": "display_data"
    },
    {
     "data": {
      "text/html": [
       "<span style=\"color:blue\"> |-tuner/round: 0</span>"
      ],
      "text/plain": [
       "<IPython.core.display.HTML object>"
      ]
     },
     "metadata": {},
     "output_type": "display_data"
    },
    {
     "data": {
      "text/html": [
       "<span style=\"color:cyan\"> |-units_1: 22</span>"
      ],
      "text/plain": [
       "<IPython.core.display.HTML object>"
      ]
     },
     "metadata": {},
     "output_type": "display_data"
    },
    {
     "data": {
      "text/html": [
       "<span style=\"color:blue\"> |-units_2: 50</span>"
      ],
      "text/plain": [
       "<IPython.core.display.HTML object>"
      ]
     },
     "metadata": {},
     "output_type": "display_data"
    },
    {
     "name": "stdout",
     "output_type": "stream",
     "text": [
      "Train on 69531 samples, validate on 23177 samples\n",
      "Epoch 1/7\n",
      "69531/69531 [==============================] - ETA: 2:18 - loss: 0.7107 - accuracy: 0.55 - ETA: 16s - loss: 0.6619 - accuracy: 0.6315 - ETA: 9s - loss: 0.6254 - accuracy: 0.680 - ETA: 6s - loss: 0.5855 - accuracy: 0.72 - ETA: 4s - loss: 0.5483 - accuracy: 0.75 - ETA: 4s - loss: 0.5225 - accuracy: 0.77 - ETA: 3s - loss: 0.4941 - accuracy: 0.79 - ETA: 3s - loss: 0.4695 - accuracy: 0.80 - ETA: 2s - loss: 0.4449 - accuracy: 0.82 - ETA: 2s - loss: 0.4241 - accuracy: 0.83 - ETA: 2s - loss: 0.4058 - accuracy: 0.84 - ETA: 2s - loss: 0.3886 - accuracy: 0.85 - ETA: 1s - loss: 0.3741 - accuracy: 0.85 - ETA: 1s - loss: 0.3589 - accuracy: 0.86 - ETA: 1s - loss: 0.3471 - accuracy: 0.86 - ETA: 1s - loss: 0.3365 - accuracy: 0.87 - ETA: 1s - loss: 0.3250 - accuracy: 0.87 - ETA: 1s - loss: 0.3157 - accuracy: 0.88 - ETA: 1s - loss: 0.3077 - accuracy: 0.88 - ETA: 1s - loss: 0.2995 - accuracy: 0.88 - ETA: 0s - loss: 0.2928 - accuracy: 0.89 - ETA: 0s - loss: 0.2865 - accuracy: 0.89 - ETA: 0s - loss: 0.2804 - accuracy: 0.89 - ETA: 0s - loss: 0.2749 - accuracy: 0.89 - ETA: 0s - loss: 0.2701 - accuracy: 0.89 - ETA: 0s - loss: 0.2650 - accuracy: 0.90 - ETA: 0s - loss: 0.2598 - accuracy: 0.90 - ETA: 0s - loss: 0.2559 - accuracy: 0.90 - ETA: 0s - loss: 0.2530 - accuracy: 0.90 - ETA: 0s - loss: 0.2492 - accuracy: 0.90 - ETA: 0s - loss: 0.2462 - accuracy: 0.90 - ETA: 0s - loss: 0.2425 - accuracy: 0.91 - ETA: 0s - loss: 0.2403 - accuracy: 0.91 - ETA: 0s - loss: 0.2376 - accuracy: 0.91 - 3s 37us/sample - loss: 0.2374 - accuracy: 0.9130 - val_loss: 0.1249 - val_accuracy: 0.9542\n",
      "Epoch 2/7\n",
      "69531/69531 [==============================] - ETA: 1s - loss: 0.1318 - accuracy: 0.94 - ETA: 1s - loss: 0.1372 - accuracy: 0.95 - ETA: 1s - loss: 0.1418 - accuracy: 0.95 - ETA: 1s - loss: 0.1404 - accuracy: 0.95 - ETA: 1s - loss: 0.1457 - accuracy: 0.94 - ETA: 1s - loss: 0.1447 - accuracy: 0.95 - ETA: 1s - loss: 0.1455 - accuracy: 0.95 - ETA: 1s - loss: 0.1434 - accuracy: 0.95 - ETA: 1s - loss: 0.1444 - accuracy: 0.95 - ETA: 1s - loss: 0.1425 - accuracy: 0.95 - ETA: 1s - loss: 0.1415 - accuracy: 0.95 - ETA: 1s - loss: 0.1430 - accuracy: 0.95 - ETA: 1s - loss: 0.1430 - accuracy: 0.95 - ETA: 1s - loss: 0.1432 - accuracy: 0.95 - ETA: 1s - loss: 0.1427 - accuracy: 0.95 - ETA: 0s - loss: 0.1412 - accuracy: 0.95 - ETA: 0s - loss: 0.1402 - accuracy: 0.95 - ETA: 0s - loss: 0.1402 - accuracy: 0.95 - ETA: 0s - loss: 0.1399 - accuracy: 0.95 - ETA: 0s - loss: 0.1392 - accuracy: 0.95 - ETA: 0s - loss: 0.1398 - accuracy: 0.95 - ETA: 0s - loss: 0.1406 - accuracy: 0.95 - ETA: 0s - loss: 0.1408 - accuracy: 0.95 - ETA: 0s - loss: 0.1400 - accuracy: 0.95 - ETA: 0s - loss: 0.1394 - accuracy: 0.95 - ETA: 0s - loss: 0.1393 - accuracy: 0.95 - ETA: 0s - loss: 0.1388 - accuracy: 0.95 - ETA: 0s - loss: 0.1382 - accuracy: 0.95 - ETA: 0s - loss: 0.1378 - accuracy: 0.95 - ETA: 0s - loss: 0.1382 - accuracy: 0.95 - ETA: 0s - loss: 0.1381 - accuracy: 0.95 - ETA: 0s - loss: 0.1374 - accuracy: 0.95 - ETA: 0s - loss: 0.1371 - accuracy: 0.95 - 2s 28us/sample - loss: 0.1371 - accuracy: 0.9523 - val_loss: 0.1199 - val_accuracy: 0.9559\n",
      "Epoch 3/7\n",
      "69531/69531 [==============================] - ETA: 1s - loss: 0.1148 - accuracy: 0.95 - ETA: 1s - loss: 0.1208 - accuracy: 0.95 - ETA: 1s - loss: 0.1346 - accuracy: 0.95 - ETA: 1s - loss: 0.1329 - accuracy: 0.95 - ETA: 1s - loss: 0.1359 - accuracy: 0.95 - ETA: 1s - loss: 0.1316 - accuracy: 0.95 - ETA: 1s - loss: 0.1279 - accuracy: 0.95 - ETA: 1s - loss: 0.1288 - accuracy: 0.95 - ETA: 1s - loss: 0.1295 - accuracy: 0.95 - ETA: 1s - loss: 0.1296 - accuracy: 0.95 - ETA: 1s - loss: 0.1282 - accuracy: 0.95 - ETA: 1s - loss: 0.1288 - accuracy: 0.95 - ETA: 1s - loss: 0.1292 - accuracy: 0.95 - ETA: 1s - loss: 0.1285 - accuracy: 0.95 - ETA: 0s - loss: 0.1287 - accuracy: 0.95 - ETA: 0s - loss: 0.1279 - accuracy: 0.95 - ETA: 0s - loss: 0.1277 - accuracy: 0.95 - ETA: 0s - loss: 0.1274 - accuracy: 0.95 - ETA: 0s - loss: 0.1273 - accuracy: 0.95 - ETA: 0s - loss: 0.1273 - accuracy: 0.95 - ETA: 0s - loss: 0.1271 - accuracy: 0.95 - ETA: 0s - loss: 0.1275 - accuracy: 0.95 - ETA: 0s - loss: 0.1273 - accuracy: 0.95 - ETA: 0s - loss: 0.1268 - accuracy: 0.95 - ETA: 0s - loss: 0.1266 - accuracy: 0.95 - ETA: 0s - loss: 0.1264 - accuracy: 0.95 - ETA: 0s - loss: 0.1264 - accuracy: 0.95 - ETA: 0s - loss: 0.1266 - accuracy: 0.95 - ETA: 0s - loss: 0.1270 - accuracy: 0.95 - ETA: 0s - loss: 0.1277 - accuracy: 0.95 - ETA: 0s - loss: 0.1277 - accuracy: 0.95 - ETA: 0s - loss: 0.1277 - accuracy: 0.95 - ETA: 0s - loss: 0.1275 - accuracy: 0.95 - 2s 28us/sample - loss: 0.1275 - accuracy: 0.9550 - val_loss: 0.1174 - val_accuracy: 0.9566\n",
      "Epoch 4/7\n",
      "69531/69531 [==============================] - ETA: 2s - loss: 0.1439 - accuracy: 0.96 - ETA: 1s - loss: 0.1187 - accuracy: 0.95 - ETA: 1s - loss: 0.1211 - accuracy: 0.95 - ETA: 1s - loss: 0.1246 - accuracy: 0.95 - ETA: 1s - loss: 0.1224 - accuracy: 0.95 - ETA: 1s - loss: 0.1238 - accuracy: 0.95 - ETA: 1s - loss: 0.1256 - accuracy: 0.95 - ETA: 1s - loss: 0.1256 - accuracy: 0.95 - ETA: 1s - loss: 0.1262 - accuracy: 0.95 - ETA: 1s - loss: 0.1262 - accuracy: 0.95 - ETA: 1s - loss: 0.1262 - accuracy: 0.95 - ETA: 1s - loss: 0.1267 - accuracy: 0.95 - ETA: 1s - loss: 0.1261 - accuracy: 0.95 - ETA: 1s - loss: 0.1258 - accuracy: 0.95 - ETA: 0s - loss: 0.1254 - accuracy: 0.95 - ETA: 0s - loss: 0.1255 - accuracy: 0.95 - ETA: 0s - loss: 0.1257 - accuracy: 0.95 - ETA: 0s - loss: 0.1248 - accuracy: 0.95 - ETA: 0s - loss: 0.1244 - accuracy: 0.95 - ETA: 0s - loss: 0.1248 - accuracy: 0.95 - ETA: 0s - loss: 0.1244 - accuracy: 0.95 - ETA: 0s - loss: 0.1245 - accuracy: 0.95 - ETA: 0s - loss: 0.1243 - accuracy: 0.95 - ETA: 0s - loss: 0.1238 - accuracy: 0.95 - ETA: 0s - loss: 0.1238 - accuracy: 0.95 - ETA: 0s - loss: 0.1234 - accuracy: 0.95 - ETA: 0s - loss: 0.1231 - accuracy: 0.95 - ETA: 0s - loss: 0.1229 - accuracy: 0.95 - ETA: 0s - loss: 0.1234 - accuracy: 0.95 - ETA: 0s - loss: 0.1237 - accuracy: 0.95 - ETA: 0s - loss: 0.1238 - accuracy: 0.95 - ETA: 0s - loss: 0.1239 - accuracy: 0.95 - ETA: 0s - loss: 0.1237 - accuracy: 0.95 - 2s 27us/sample - loss: 0.1236 - accuracy: 0.9564 - val_loss: 0.1154 - val_accuracy: 0.9570\n",
      "Epoch 5/7\n",
      "69531/69531 [==============================] - ETA: 2s - loss: 0.0714 - accuracy: 0.98 - ETA: 1s - loss: 0.1192 - accuracy: 0.95 - ETA: 1s - loss: 0.1195 - accuracy: 0.95 - ETA: 1s - loss: 0.1182 - accuracy: 0.95 - ETA: 1s - loss: 0.1200 - accuracy: 0.95 - ETA: 1s - loss: 0.1193 - accuracy: 0.95 - ETA: 1s - loss: 0.1189 - accuracy: 0.95 - ETA: 1s - loss: 0.1202 - accuracy: 0.95 - ETA: 1s - loss: 0.1213 - accuracy: 0.95 - ETA: 1s - loss: 0.1221 - accuracy: 0.95 - ETA: 1s - loss: 0.1212 - accuracy: 0.95 - ETA: 1s - loss: 0.1203 - accuracy: 0.95 - ETA: 1s - loss: 0.1204 - accuracy: 0.95 - ETA: 1s - loss: 0.1211 - accuracy: 0.95 - ETA: 0s - loss: 0.1209 - accuracy: 0.95 - ETA: 0s - loss: 0.1229 - accuracy: 0.95 - ETA: 0s - loss: 0.1219 - accuracy: 0.95 - ETA: 0s - loss: 0.1220 - accuracy: 0.95 - ETA: 0s - loss: 0.1222 - accuracy: 0.95 - ETA: 0s - loss: 0.1219 - accuracy: 0.95 - ETA: 0s - loss: 0.1214 - accuracy: 0.95 - ETA: 0s - loss: 0.1216 - accuracy: 0.95 - ETA: 0s - loss: 0.1217 - accuracy: 0.95 - ETA: 0s - loss: 0.1218 - accuracy: 0.95 - ETA: 0s - loss: 0.1219 - accuracy: 0.95 - ETA: 0s - loss: 0.1218 - accuracy: 0.95 - ETA: 0s - loss: 0.1226 - accuracy: 0.95 - ETA: 0s - loss: 0.1229 - accuracy: 0.95 - ETA: 0s - loss: 0.1228 - accuracy: 0.95 - ETA: 0s - loss: 0.1226 - accuracy: 0.95 - ETA: 0s - loss: 0.1222 - accuracy: 0.95 - ETA: 0s - loss: 0.1222 - accuracy: 0.95 - ETA: 0s - loss: 0.1220 - accuracy: 0.95 - 2s 28us/sample - loss: 0.1217 - accuracy: 0.9574 - val_loss: 0.1130 - val_accuracy: 0.9578\n",
      "Epoch 6/7\n"
     ]
    },
    {
     "name": "stdout",
     "output_type": "stream",
     "text": [
      "69531/69531 [==============================] - ETA: 1s - loss: 0.1177 - accuracy: 0.95 - ETA: 1s - loss: 0.1027 - accuracy: 0.96 - ETA: 1s - loss: 0.1090 - accuracy: 0.96 - ETA: 1s - loss: 0.1125 - accuracy: 0.95 - ETA: 1s - loss: 0.1096 - accuracy: 0.96 - ETA: 1s - loss: 0.1108 - accuracy: 0.96 - ETA: 1s - loss: 0.1123 - accuracy: 0.96 - ETA: 1s - loss: 0.1135 - accuracy: 0.95 - ETA: 1s - loss: 0.1155 - accuracy: 0.95 - ETA: 1s - loss: 0.1169 - accuracy: 0.95 - ETA: 1s - loss: 0.1162 - accuracy: 0.95 - ETA: 1s - loss: 0.1158 - accuracy: 0.95 - ETA: 1s - loss: 0.1171 - accuracy: 0.95 - ETA: 1s - loss: 0.1176 - accuracy: 0.95 - ETA: 0s - loss: 0.1175 - accuracy: 0.95 - ETA: 0s - loss: 0.1178 - accuracy: 0.95 - ETA: 0s - loss: 0.1191 - accuracy: 0.95 - ETA: 0s - loss: 0.1192 - accuracy: 0.95 - ETA: 0s - loss: 0.1191 - accuracy: 0.95 - ETA: 0s - loss: 0.1185 - accuracy: 0.95 - ETA: 0s - loss: 0.1189 - accuracy: 0.95 - ETA: 0s - loss: 0.1196 - accuracy: 0.95 - ETA: 0s - loss: 0.1202 - accuracy: 0.95 - ETA: 0s - loss: 0.1192 - accuracy: 0.95 - ETA: 0s - loss: 0.1192 - accuracy: 0.95 - ETA: 0s - loss: 0.1188 - accuracy: 0.95 - ETA: 0s - loss: 0.1187 - accuracy: 0.95 - ETA: 0s - loss: 0.1191 - accuracy: 0.95 - ETA: 0s - loss: 0.1192 - accuracy: 0.95 - ETA: 0s - loss: 0.1187 - accuracy: 0.95 - ETA: 0s - loss: 0.1188 - accuracy: 0.95 - ETA: 0s - loss: 0.1188 - accuracy: 0.95 - 2s 27us/sample - loss: 0.1189 - accuracy: 0.9578 - val_loss: 0.1117 - val_accuracy: 0.9584\n",
      "Epoch 7/7\n",
      "69531/69531 [==============================] - ETA: 1s - loss: 0.1189 - accuracy: 0.96 - ETA: 1s - loss: 0.1102 - accuracy: 0.96 - ETA: 1s - loss: 0.1141 - accuracy: 0.96 - ETA: 1s - loss: 0.1188 - accuracy: 0.96 - ETA: 1s - loss: 0.1218 - accuracy: 0.95 - ETA: 1s - loss: 0.1176 - accuracy: 0.96 - ETA: 1s - loss: 0.1153 - accuracy: 0.96 - ETA: 1s - loss: 0.1152 - accuracy: 0.96 - ETA: 1s - loss: 0.1150 - accuracy: 0.96 - ETA: 1s - loss: 0.1140 - accuracy: 0.96 - ETA: 1s - loss: 0.1166 - accuracy: 0.95 - ETA: 1s - loss: 0.1162 - accuracy: 0.95 - ETA: 1s - loss: 0.1159 - accuracy: 0.95 - ETA: 1s - loss: 0.1166 - accuracy: 0.95 - ETA: 0s - loss: 0.1170 - accuracy: 0.95 - ETA: 0s - loss: 0.1174 - accuracy: 0.95 - ETA: 0s - loss: 0.1170 - accuracy: 0.95 - ETA: 0s - loss: 0.1168 - accuracy: 0.95 - ETA: 0s - loss: 0.1165 - accuracy: 0.95 - ETA: 0s - loss: 0.1166 - accuracy: 0.95 - ETA: 0s - loss: 0.1166 - accuracy: 0.95 - ETA: 0s - loss: 0.1167 - accuracy: 0.95 - ETA: 0s - loss: 0.1166 - accuracy: 0.95 - ETA: 0s - loss: 0.1160 - accuracy: 0.95 - ETA: 0s - loss: 0.1166 - accuracy: 0.95 - ETA: 0s - loss: 0.1167 - accuracy: 0.95 - ETA: 0s - loss: 0.1167 - accuracy: 0.95 - ETA: 0s - loss: 0.1166 - accuracy: 0.95 - ETA: 0s - loss: 0.1165 - accuracy: 0.95 - ETA: 0s - loss: 0.1169 - accuracy: 0.95 - ETA: 0s - loss: 0.1169 - accuracy: 0.95 - ETA: 0s - loss: 0.1174 - accuracy: 0.95 - ETA: 0s - loss: 0.1172 - accuracy: 0.95 - 2s 27us/sample - loss: 0.1173 - accuracy: 0.9586 - val_loss: 0.1101 - val_accuracy: 0.9586\n"
     ]
    },
    {
     "data": {
      "text/html": [
       "<span style=\"color:#4527A0\"><h1 style=\"font-size:18px\">Trial complete</h1></span>"
      ],
      "text/plain": [
       "<IPython.core.display.HTML object>"
      ]
     },
     "metadata": {},
     "output_type": "display_data"
    },
    {
     "data": {
      "text/html": [
       "<span style=\"color:#4527A0\"><h1 style=\"font-size:18px\">Trial summary</h1></span>"
      ],
      "text/plain": [
       "<IPython.core.display.HTML object>"
      ]
     },
     "metadata": {},
     "output_type": "display_data"
    },
    {
     "data": {
      "text/html": [
       "<span style=\"color:cyan\"> |-Trial ID: bb3693b846540806648ecd5e66863054</span>"
      ],
      "text/plain": [
       "<IPython.core.display.HTML object>"
      ]
     },
     "metadata": {},
     "output_type": "display_data"
    },
    {
     "data": {
      "text/html": [
       "<span style=\"color:cyan\"> |-Score: 0.9585795998573303</span>"
      ],
      "text/plain": [
       "<IPython.core.display.HTML object>"
      ]
     },
     "metadata": {},
     "output_type": "display_data"
    },
    {
     "data": {
      "text/html": [
       "<span style=\"color:cyan\"> |-Best step: 0</span>"
      ],
      "text/plain": [
       "<IPython.core.display.HTML object>"
      ]
     },
     "metadata": {},
     "output_type": "display_data"
    },
    {
     "data": {
      "text/html": [
       "<span style=\"color:#7E57C2\"><h2 style=\"font-size:16px\">Hyperparameters:</h2></span>"
      ],
      "text/plain": [
       "<IPython.core.display.HTML object>"
      ]
     },
     "metadata": {},
     "output_type": "display_data"
    },
    {
     "data": {
      "text/html": [
       "<span style=\"color:cyan\"> |-rate_1: 0.30000000000000004</span>"
      ],
      "text/plain": [
       "<IPython.core.display.HTML object>"
      ]
     },
     "metadata": {},
     "output_type": "display_data"
    },
    {
     "data": {
      "text/html": [
       "<span style=\"color:blue\"> |-rate_2: 0.30000000000000004</span>"
      ],
      "text/plain": [
       "<IPython.core.display.HTML object>"
      ]
     },
     "metadata": {},
     "output_type": "display_data"
    },
    {
     "data": {
      "text/html": [
       "<span style=\"color:cyan\"> |-tuner/bracket: 1</span>"
      ],
      "text/plain": [
       "<IPython.core.display.HTML object>"
      ]
     },
     "metadata": {},
     "output_type": "display_data"
    },
    {
     "data": {
      "text/html": [
       "<span style=\"color:blue\"> |-tuner/epochs: 7</span>"
      ],
      "text/plain": [
       "<IPython.core.display.HTML object>"
      ]
     },
     "metadata": {},
     "output_type": "display_data"
    },
    {
     "data": {
      "text/html": [
       "<span style=\"color:cyan\"> |-tuner/initial_epoch: 0</span>"
      ],
      "text/plain": [
       "<IPython.core.display.HTML object>"
      ]
     },
     "metadata": {},
     "output_type": "display_data"
    },
    {
     "data": {
      "text/html": [
       "<span style=\"color:blue\"> |-tuner/round: 0</span>"
      ],
      "text/plain": [
       "<IPython.core.display.HTML object>"
      ]
     },
     "metadata": {},
     "output_type": "display_data"
    },
    {
     "data": {
      "text/html": [
       "<span style=\"color:cyan\"> |-units_1: 56</span>"
      ],
      "text/plain": [
       "<IPython.core.display.HTML object>"
      ]
     },
     "metadata": {},
     "output_type": "display_data"
    },
    {
     "data": {
      "text/html": [
       "<span style=\"color:blue\"> |-units_2: 22</span>"
      ],
      "text/plain": [
       "<IPython.core.display.HTML object>"
      ]
     },
     "metadata": {},
     "output_type": "display_data"
    },
    {
     "name": "stdout",
     "output_type": "stream",
     "text": [
      "Train on 69531 samples, validate on 23177 samples\n",
      "Epoch 1/7\n",
      "69531/69531 [==============================] - ETA: 2:22 - loss: 0.7388 - accuracy: 0.55 - ETA: 16s - loss: 0.6365 - accuracy: 0.6194 - ETA: 9s - loss: 0.5789 - accuracy: 0.679 - ETA: 6s - loss: 0.5241 - accuracy: 0.73 - ETA: 5s - loss: 0.4860 - accuracy: 0.76 - ETA: 4s - loss: 0.4580 - accuracy: 0.78 - ETA: 3s - loss: 0.4311 - accuracy: 0.80 - ETA: 3s - loss: 0.4054 - accuracy: 0.82 - ETA: 3s - loss: 0.3827 - accuracy: 0.83 - ETA: 2s - loss: 0.3635 - accuracy: 0.84 - ETA: 2s - loss: 0.3514 - accuracy: 0.85 - ETA: 2s - loss: 0.3364 - accuracy: 0.85 - ETA: 2s - loss: 0.3268 - accuracy: 0.86 - ETA: 2s - loss: 0.3150 - accuracy: 0.86 - ETA: 1s - loss: 0.3052 - accuracy: 0.87 - ETA: 1s - loss: 0.2958 - accuracy: 0.87 - ETA: 1s - loss: 0.2878 - accuracy: 0.88 - ETA: 1s - loss: 0.2804 - accuracy: 0.88 - ETA: 1s - loss: 0.2733 - accuracy: 0.89 - ETA: 1s - loss: 0.2681 - accuracy: 0.89 - ETA: 1s - loss: 0.2627 - accuracy: 0.89 - ETA: 1s - loss: 0.2574 - accuracy: 0.89 - ETA: 0s - loss: 0.2533 - accuracy: 0.89 - ETA: 0s - loss: 0.2489 - accuracy: 0.90 - ETA: 0s - loss: 0.2440 - accuracy: 0.90 - ETA: 0s - loss: 0.2400 - accuracy: 0.90 - ETA: 0s - loss: 0.2359 - accuracy: 0.90 - ETA: 0s - loss: 0.2324 - accuracy: 0.90 - ETA: 0s - loss: 0.2290 - accuracy: 0.91 - ETA: 0s - loss: 0.2262 - accuracy: 0.91 - ETA: 0s - loss: 0.2238 - accuracy: 0.91 - ETA: 0s - loss: 0.2214 - accuracy: 0.91 - ETA: 0s - loss: 0.2192 - accuracy: 0.91 - ETA: 0s - loss: 0.2163 - accuracy: 0.91 - ETA: 0s - loss: 0.2138 - accuracy: 0.91 - 3s 38us/sample - loss: 0.2138 - accuracy: 0.9178 - val_loss: 0.1256 - val_accuracy: 0.9532\n",
      "Epoch 2/7\n",
      "69531/69531 [==============================] - ETA: 2s - loss: 0.1699 - accuracy: 0.91 - ETA: 1s - loss: 0.1602 - accuracy: 0.94 - ETA: 1s - loss: 0.1515 - accuracy: 0.94 - ETA: 1s - loss: 0.1494 - accuracy: 0.94 - ETA: 1s - loss: 0.1475 - accuracy: 0.95 - ETA: 1s - loss: 0.1447 - accuracy: 0.95 - ETA: 1s - loss: 0.1425 - accuracy: 0.95 - ETA: 1s - loss: 0.1429 - accuracy: 0.95 - ETA: 1s - loss: 0.1417 - accuracy: 0.95 - ETA: 1s - loss: 0.1409 - accuracy: 0.95 - ETA: 1s - loss: 0.1405 - accuracy: 0.95 - ETA: 1s - loss: 0.1419 - accuracy: 0.95 - ETA: 1s - loss: 0.1403 - accuracy: 0.95 - ETA: 1s - loss: 0.1413 - accuracy: 0.95 - ETA: 1s - loss: 0.1410 - accuracy: 0.95 - ETA: 0s - loss: 0.1402 - accuracy: 0.95 - ETA: 0s - loss: 0.1401 - accuracy: 0.95 - ETA: 0s - loss: 0.1397 - accuracy: 0.95 - ETA: 0s - loss: 0.1391 - accuracy: 0.95 - ETA: 0s - loss: 0.1386 - accuracy: 0.95 - ETA: 0s - loss: 0.1382 - accuracy: 0.95 - ETA: 0s - loss: 0.1381 - accuracy: 0.95 - ETA: 0s - loss: 0.1385 - accuracy: 0.95 - ETA: 0s - loss: 0.1391 - accuracy: 0.95 - ETA: 0s - loss: 0.1396 - accuracy: 0.95 - ETA: 0s - loss: 0.1393 - accuracy: 0.95 - ETA: 0s - loss: 0.1388 - accuracy: 0.95 - ETA: 0s - loss: 0.1386 - accuracy: 0.95 - ETA: 0s - loss: 0.1380 - accuracy: 0.95 - ETA: 0s - loss: 0.1383 - accuracy: 0.95 - ETA: 0s - loss: 0.1385 - accuracy: 0.95 - ETA: 0s - loss: 0.1382 - accuracy: 0.95 - ETA: 0s - loss: 0.1374 - accuracy: 0.95 - ETA: 0s - loss: 0.1371 - accuracy: 0.95 - 2s 29us/sample - loss: 0.1369 - accuracy: 0.9524 - val_loss: 0.1199 - val_accuracy: 0.9551\n",
      "Epoch 3/7\n",
      "69531/69531 [==============================] - ETA: 1s - loss: 0.1194 - accuracy: 0.96 - ETA: 1s - loss: 0.1169 - accuracy: 0.96 - ETA: 1s - loss: 0.1311 - accuracy: 0.95 - ETA: 1s - loss: 0.1291 - accuracy: 0.95 - ETA: 1s - loss: 0.1290 - accuracy: 0.95 - ETA: 1s - loss: 0.1352 - accuracy: 0.95 - ETA: 1s - loss: 0.1376 - accuracy: 0.95 - ETA: 1s - loss: 0.1388 - accuracy: 0.95 - ETA: 1s - loss: 0.1382 - accuracy: 0.95 - ETA: 1s - loss: 0.1389 - accuracy: 0.95 - ETA: 1s - loss: 0.1390 - accuracy: 0.95 - ETA: 1s - loss: 0.1383 - accuracy: 0.95 - ETA: 1s - loss: 0.1373 - accuracy: 0.95 - ETA: 1s - loss: 0.1372 - accuracy: 0.95 - ETA: 1s - loss: 0.1366 - accuracy: 0.95 - ETA: 1s - loss: 0.1343 - accuracy: 0.95 - ETA: 0s - loss: 0.1335 - accuracy: 0.95 - ETA: 0s - loss: 0.1328 - accuracy: 0.95 - ETA: 0s - loss: 0.1318 - accuracy: 0.95 - ETA: 0s - loss: 0.1314 - accuracy: 0.95 - ETA: 0s - loss: 0.1309 - accuracy: 0.95 - ETA: 0s - loss: 0.1305 - accuracy: 0.95 - ETA: 0s - loss: 0.1302 - accuracy: 0.95 - ETA: 0s - loss: 0.1305 - accuracy: 0.95 - ETA: 0s - loss: 0.1302 - accuracy: 0.95 - ETA: 0s - loss: 0.1306 - accuracy: 0.95 - ETA: 0s - loss: 0.1303 - accuracy: 0.95 - ETA: 0s - loss: 0.1299 - accuracy: 0.95 - ETA: 0s - loss: 0.1293 - accuracy: 0.95 - ETA: 0s - loss: 0.1288 - accuracy: 0.95 - ETA: 0s - loss: 0.1289 - accuracy: 0.95 - ETA: 0s - loss: 0.1287 - accuracy: 0.95 - ETA: 0s - loss: 0.1286 - accuracy: 0.95 - ETA: 0s - loss: 0.1284 - accuracy: 0.95 - 2s 29us/sample - loss: 0.1281 - accuracy: 0.9560 - val_loss: 0.1171 - val_accuracy: 0.9567\n",
      "Epoch 4/7\n",
      "69531/69531 [==============================] - ETA: 1s - loss: 0.1538 - accuracy: 0.95 - ETA: 1s - loss: 0.1199 - accuracy: 0.95 - ETA: 1s - loss: 0.1206 - accuracy: 0.95 - ETA: 1s - loss: 0.1263 - accuracy: 0.95 - ETA: 1s - loss: 0.1291 - accuracy: 0.95 - ETA: 1s - loss: 0.1295 - accuracy: 0.95 - ETA: 1s - loss: 0.1298 - accuracy: 0.95 - ETA: 1s - loss: 0.1286 - accuracy: 0.95 - ETA: 1s - loss: 0.1292 - accuracy: 0.95 - ETA: 1s - loss: 0.1287 - accuracy: 0.95 - ETA: 1s - loss: 0.1274 - accuracy: 0.95 - ETA: 1s - loss: 0.1266 - accuracy: 0.95 - ETA: 1s - loss: 0.1270 - accuracy: 0.95 - ETA: 1s - loss: 0.1274 - accuracy: 0.95 - ETA: 1s - loss: 0.1265 - accuracy: 0.95 - ETA: 0s - loss: 0.1263 - accuracy: 0.95 - ETA: 0s - loss: 0.1266 - accuracy: 0.95 - ETA: 0s - loss: 0.1265 - accuracy: 0.95 - ETA: 0s - loss: 0.1265 - accuracy: 0.95 - ETA: 0s - loss: 0.1265 - accuracy: 0.95 - ETA: 0s - loss: 0.1255 - accuracy: 0.95 - ETA: 0s - loss: 0.1257 - accuracy: 0.95 - ETA: 0s - loss: 0.1255 - accuracy: 0.95 - ETA: 0s - loss: 0.1256 - accuracy: 0.95 - ETA: 0s - loss: 0.1254 - accuracy: 0.95 - ETA: 0s - loss: 0.1252 - accuracy: 0.95 - ETA: 0s - loss: 0.1254 - accuracy: 0.95 - ETA: 0s - loss: 0.1258 - accuracy: 0.95 - ETA: 0s - loss: 0.1252 - accuracy: 0.95 - ETA: 0s - loss: 0.1251 - accuracy: 0.95 - ETA: 0s - loss: 0.1246 - accuracy: 0.95 - ETA: 0s - loss: 0.1243 - accuracy: 0.95 - ETA: 0s - loss: 0.1246 - accuracy: 0.95 - ETA: 0s - loss: 0.1243 - accuracy: 0.95 - 2s 29us/sample - loss: 0.1242 - accuracy: 0.9567 - val_loss: 0.1145 - val_accuracy: 0.9570\n",
      "Epoch 5/7\n",
      "69531/69531 [==============================] - ETA: 1s - loss: 0.1210 - accuracy: 0.96 - ETA: 1s - loss: 0.1185 - accuracy: 0.96 - ETA: 1s - loss: 0.1244 - accuracy: 0.95 - ETA: 1s - loss: 0.1199 - accuracy: 0.95 - ETA: 1s - loss: 0.1242 - accuracy: 0.95 - ETA: 1s - loss: 0.1228 - accuracy: 0.95 - ETA: 1s - loss: 0.1226 - accuracy: 0.95 - ETA: 1s - loss: 0.1213 - accuracy: 0.95 - ETA: 1s - loss: 0.1207 - accuracy: 0.95 - ETA: 1s - loss: 0.1212 - accuracy: 0.95 - ETA: 1s - loss: 0.1225 - accuracy: 0.95 - ETA: 1s - loss: 0.1218 - accuracy: 0.95 - ETA: 1s - loss: 0.1217 - accuracy: 0.95 - ETA: 1s - loss: 0.1226 - accuracy: 0.95 - ETA: 1s - loss: 0.1227 - accuracy: 0.95 - ETA: 0s - loss: 0.1225 - accuracy: 0.95 - ETA: 0s - loss: 0.1215 - accuracy: 0.95 - ETA: 0s - loss: 0.1215 - accuracy: 0.95 - ETA: 0s - loss: 0.1208 - accuracy: 0.95 - ETA: 0s - loss: 0.1208 - accuracy: 0.95 - ETA: 0s - loss: 0.1218 - accuracy: 0.95 - ETA: 0s - loss: 0.1222 - accuracy: 0.95 - ETA: 0s - loss: 0.1221 - accuracy: 0.95 - ETA: 0s - loss: 0.1216 - accuracy: 0.95 - ETA: 0s - loss: 0.1223 - accuracy: 0.95 - ETA: 0s - loss: 0.1227 - accuracy: 0.95 - ETA: 0s - loss: 0.1221 - accuracy: 0.95 - ETA: 0s - loss: 0.1213 - accuracy: 0.95 - ETA: 0s - loss: 0.1217 - accuracy: 0.95 - ETA: 0s - loss: 0.1215 - accuracy: 0.95 - ETA: 0s - loss: 0.1213 - accuracy: 0.95 - ETA: 0s - loss: 0.1210 - accuracy: 0.95 - ETA: 0s - loss: 0.1211 - accuracy: 0.95 - ETA: 0s - loss: 0.1208 - accuracy: 0.95 - 2s 29us/sample - loss: 0.1211 - accuracy: 0.9571 - val_loss: 0.1125 - val_accuracy: 0.9579\n",
      "Epoch 6/7\n"
     ]
    },
    {
     "name": "stdout",
     "output_type": "stream",
     "text": [
      "69531/69531 [==============================] - ETA: 1s - loss: 0.0996 - accuracy: 0.96 - ETA: 1s - loss: 0.1195 - accuracy: 0.95 - ETA: 1s - loss: 0.1248 - accuracy: 0.95 - ETA: 1s - loss: 0.1249 - accuracy: 0.95 - ETA: 1s - loss: 0.1226 - accuracy: 0.95 - ETA: 1s - loss: 0.1209 - accuracy: 0.95 - ETA: 1s - loss: 0.1174 - accuracy: 0.95 - ETA: 1s - loss: 0.1166 - accuracy: 0.95 - ETA: 1s - loss: 0.1182 - accuracy: 0.95 - ETA: 1s - loss: 0.1166 - accuracy: 0.95 - ETA: 1s - loss: 0.1167 - accuracy: 0.95 - ETA: 1s - loss: 0.1179 - accuracy: 0.95 - ETA: 1s - loss: 0.1177 - accuracy: 0.95 - ETA: 1s - loss: 0.1186 - accuracy: 0.95 - ETA: 1s - loss: 0.1185 - accuracy: 0.95 - ETA: 0s - loss: 0.1179 - accuracy: 0.95 - ETA: 0s - loss: 0.1178 - accuracy: 0.95 - ETA: 0s - loss: 0.1180 - accuracy: 0.95 - ETA: 0s - loss: 0.1190 - accuracy: 0.95 - ETA: 0s - loss: 0.1190 - accuracy: 0.95 - ETA: 0s - loss: 0.1190 - accuracy: 0.95 - ETA: 0s - loss: 0.1195 - accuracy: 0.95 - ETA: 0s - loss: 0.1187 - accuracy: 0.95 - ETA: 0s - loss: 0.1186 - accuracy: 0.95 - ETA: 0s - loss: 0.1183 - accuracy: 0.95 - ETA: 0s - loss: 0.1186 - accuracy: 0.95 - ETA: 0s - loss: 0.1194 - accuracy: 0.95 - ETA: 0s - loss: 0.1188 - accuracy: 0.95 - ETA: 0s - loss: 0.1190 - accuracy: 0.95 - ETA: 0s - loss: 0.1194 - accuracy: 0.95 - ETA: 0s - loss: 0.1192 - accuracy: 0.95 - ETA: 0s - loss: 0.1197 - accuracy: 0.95 - ETA: 0s - loss: 0.1193 - accuracy: 0.95 - ETA: 0s - loss: 0.1191 - accuracy: 0.95 - 2s 29us/sample - loss: 0.1194 - accuracy: 0.9580 - val_loss: 0.1110 - val_accuracy: 0.9585\n",
      "Epoch 7/7\n",
      "69531/69531 [==============================] - ETA: 1s - loss: 0.1205 - accuracy: 0.96 - ETA: 1s - loss: 0.1031 - accuracy: 0.96 - ETA: 1s - loss: 0.1130 - accuracy: 0.96 - ETA: 1s - loss: 0.1104 - accuracy: 0.96 - ETA: 1s - loss: 0.1116 - accuracy: 0.96 - ETA: 1s - loss: 0.1164 - accuracy: 0.96 - ETA: 1s - loss: 0.1178 - accuracy: 0.95 - ETA: 1s - loss: 0.1186 - accuracy: 0.95 - ETA: 1s - loss: 0.1172 - accuracy: 0.95 - ETA: 1s - loss: 0.1175 - accuracy: 0.95 - ETA: 1s - loss: 0.1172 - accuracy: 0.95 - ETA: 1s - loss: 0.1181 - accuracy: 0.95 - ETA: 1s - loss: 0.1179 - accuracy: 0.95 - ETA: 1s - loss: 0.1175 - accuracy: 0.95 - ETA: 1s - loss: 0.1177 - accuracy: 0.95 - ETA: 0s - loss: 0.1176 - accuracy: 0.95 - ETA: 0s - loss: 0.1176 - accuracy: 0.95 - ETA: 0s - loss: 0.1179 - accuracy: 0.95 - ETA: 0s - loss: 0.1183 - accuracy: 0.95 - ETA: 0s - loss: 0.1182 - accuracy: 0.95 - ETA: 0s - loss: 0.1174 - accuracy: 0.95 - ETA: 0s - loss: 0.1174 - accuracy: 0.95 - ETA: 0s - loss: 0.1175 - accuracy: 0.95 - ETA: 0s - loss: 0.1175 - accuracy: 0.95 - ETA: 0s - loss: 0.1177 - accuracy: 0.95 - ETA: 0s - loss: 0.1180 - accuracy: 0.95 - ETA: 0s - loss: 0.1171 - accuracy: 0.95 - ETA: 0s - loss: 0.1166 - accuracy: 0.95 - ETA: 0s - loss: 0.1166 - accuracy: 0.95 - ETA: 0s - loss: 0.1168 - accuracy: 0.95 - ETA: 0s - loss: 0.1170 - accuracy: 0.95 - ETA: 0s - loss: 0.1167 - accuracy: 0.95 - ETA: 0s - loss: 0.1166 - accuracy: 0.95 - ETA: 0s - loss: 0.1167 - accuracy: 0.95 - 2s 29us/sample - loss: 0.1166 - accuracy: 0.9596 - val_loss: 0.1099 - val_accuracy: 0.9597\n"
     ]
    },
    {
     "data": {
      "text/html": [
       "<span style=\"color:#4527A0\"><h1 style=\"font-size:18px\">Trial complete</h1></span>"
      ],
      "text/plain": [
       "<IPython.core.display.HTML object>"
      ]
     },
     "metadata": {},
     "output_type": "display_data"
    },
    {
     "data": {
      "text/html": [
       "<span style=\"color:#4527A0\"><h1 style=\"font-size:18px\">Trial summary</h1></span>"
      ],
      "text/plain": [
       "<IPython.core.display.HTML object>"
      ]
     },
     "metadata": {},
     "output_type": "display_data"
    },
    {
     "data": {
      "text/html": [
       "<span style=\"color:cyan\"> |-Trial ID: 10f22bb2d692c8ead0f92ac12fe1980d</span>"
      ],
      "text/plain": [
       "<IPython.core.display.HTML object>"
      ]
     },
     "metadata": {},
     "output_type": "display_data"
    },
    {
     "data": {
      "text/html": [
       "<span style=\"color:cyan\"> |-Score: 0.959701418876648</span>"
      ],
      "text/plain": [
       "<IPython.core.display.HTML object>"
      ]
     },
     "metadata": {},
     "output_type": "display_data"
    },
    {
     "data": {
      "text/html": [
       "<span style=\"color:cyan\"> |-Best step: 0</span>"
      ],
      "text/plain": [
       "<IPython.core.display.HTML object>"
      ]
     },
     "metadata": {},
     "output_type": "display_data"
    },
    {
     "data": {
      "text/html": [
       "<span style=\"color:#7E57C2\"><h2 style=\"font-size:16px\">Hyperparameters:</h2></span>"
      ],
      "text/plain": [
       "<IPython.core.display.HTML object>"
      ]
     },
     "metadata": {},
     "output_type": "display_data"
    },
    {
     "data": {
      "text/html": [
       "<span style=\"color:cyan\"> |-rate_1: 0.30000000000000004</span>"
      ],
      "text/plain": [
       "<IPython.core.display.HTML object>"
      ]
     },
     "metadata": {},
     "output_type": "display_data"
    },
    {
     "data": {
      "text/html": [
       "<span style=\"color:blue\"> |-rate_2: 0.4000000000000001</span>"
      ],
      "text/plain": [
       "<IPython.core.display.HTML object>"
      ]
     },
     "metadata": {},
     "output_type": "display_data"
    },
    {
     "data": {
      "text/html": [
       "<span style=\"color:cyan\"> |-tuner/bracket: 1</span>"
      ],
      "text/plain": [
       "<IPython.core.display.HTML object>"
      ]
     },
     "metadata": {},
     "output_type": "display_data"
    },
    {
     "data": {
      "text/html": [
       "<span style=\"color:blue\"> |-tuner/epochs: 7</span>"
      ],
      "text/plain": [
       "<IPython.core.display.HTML object>"
      ]
     },
     "metadata": {},
     "output_type": "display_data"
    },
    {
     "data": {
      "text/html": [
       "<span style=\"color:cyan\"> |-tuner/initial_epoch: 0</span>"
      ],
      "text/plain": [
       "<IPython.core.display.HTML object>"
      ]
     },
     "metadata": {},
     "output_type": "display_data"
    },
    {
     "data": {
      "text/html": [
       "<span style=\"color:blue\"> |-tuner/round: 0</span>"
      ],
      "text/plain": [
       "<IPython.core.display.HTML object>"
      ]
     },
     "metadata": {},
     "output_type": "display_data"
    },
    {
     "data": {
      "text/html": [
       "<span style=\"color:cyan\"> |-units_1: 54</span>"
      ],
      "text/plain": [
       "<IPython.core.display.HTML object>"
      ]
     },
     "metadata": {},
     "output_type": "display_data"
    },
    {
     "data": {
      "text/html": [
       "<span style=\"color:blue\"> |-units_2: 34</span>"
      ],
      "text/plain": [
       "<IPython.core.display.HTML object>"
      ]
     },
     "metadata": {},
     "output_type": "display_data"
    },
    {
     "name": "stdout",
     "output_type": "stream",
     "text": [
      "Train on 69531 samples, validate on 23177 samples\n",
      "Epoch 1/7\n",
      "69531/69531 [==============================] - ETA: 2:18 - loss: 0.7160 - accuracy: 0.51 - ETA: 16s - loss: 0.6704 - accuracy: 0.5755 - ETA: 9s - loss: 0.6160 - accuracy: 0.643 - ETA: 6s - loss: 0.5622 - accuracy: 0.70 - ETA: 5s - loss: 0.5253 - accuracy: 0.73 - ETA: 4s - loss: 0.4896 - accuracy: 0.76 - ETA: 3s - loss: 0.4549 - accuracy: 0.78 - ETA: 3s - loss: 0.4264 - accuracy: 0.80 - ETA: 3s - loss: 0.4034 - accuracy: 0.82 - ETA: 2s - loss: 0.3813 - accuracy: 0.83 - ETA: 2s - loss: 0.3631 - accuracy: 0.84 - ETA: 2s - loss: 0.3483 - accuracy: 0.85 - ETA: 2s - loss: 0.3352 - accuracy: 0.85 - ETA: 1s - loss: 0.3227 - accuracy: 0.86 - ETA: 1s - loss: 0.3122 - accuracy: 0.86 - ETA: 1s - loss: 0.3016 - accuracy: 0.87 - ETA: 1s - loss: 0.2928 - accuracy: 0.87 - ETA: 1s - loss: 0.2843 - accuracy: 0.88 - ETA: 1s - loss: 0.2783 - accuracy: 0.88 - ETA: 1s - loss: 0.2711 - accuracy: 0.88 - ETA: 1s - loss: 0.2659 - accuracy: 0.89 - ETA: 0s - loss: 0.2615 - accuracy: 0.89 - ETA: 0s - loss: 0.2570 - accuracy: 0.89 - ETA: 0s - loss: 0.2515 - accuracy: 0.89 - ETA: 0s - loss: 0.2463 - accuracy: 0.90 - ETA: 0s - loss: 0.2428 - accuracy: 0.90 - ETA: 0s - loss: 0.2389 - accuracy: 0.90 - ETA: 0s - loss: 0.2357 - accuracy: 0.90 - ETA: 0s - loss: 0.2327 - accuracy: 0.90 - ETA: 0s - loss: 0.2302 - accuracy: 0.90 - ETA: 0s - loss: 0.2274 - accuracy: 0.91 - ETA: 0s - loss: 0.2252 - accuracy: 0.91 - ETA: 0s - loss: 0.2226 - accuracy: 0.91 - 3s 37us/sample - loss: 0.2210 - accuracy: 0.9134 - val_loss: 0.1266 - val_accuracy: 0.9532\n",
      "Epoch 2/7\n",
      "69531/69531 [==============================] - ETA: 1s - loss: 0.1866 - accuracy: 0.93 - ETA: 1s - loss: 0.1539 - accuracy: 0.94 - ETA: 1s - loss: 0.1482 - accuracy: 0.94 - ETA: 1s - loss: 0.1402 - accuracy: 0.95 - ETA: 1s - loss: 0.1414 - accuracy: 0.94 - ETA: 1s - loss: 0.1378 - accuracy: 0.95 - ETA: 1s - loss: 0.1379 - accuracy: 0.95 - ETA: 1s - loss: 0.1378 - accuracy: 0.95 - ETA: 1s - loss: 0.1374 - accuracy: 0.95 - ETA: 1s - loss: 0.1356 - accuracy: 0.95 - ETA: 1s - loss: 0.1371 - accuracy: 0.95 - ETA: 1s - loss: 0.1350 - accuracy: 0.95 - ETA: 1s - loss: 0.1338 - accuracy: 0.95 - ETA: 1s - loss: 0.1348 - accuracy: 0.95 - ETA: 0s - loss: 0.1349 - accuracy: 0.95 - ETA: 0s - loss: 0.1346 - accuracy: 0.95 - ETA: 0s - loss: 0.1336 - accuracy: 0.95 - ETA: 0s - loss: 0.1342 - accuracy: 0.95 - ETA: 0s - loss: 0.1352 - accuracy: 0.95 - ETA: 0s - loss: 0.1354 - accuracy: 0.95 - ETA: 0s - loss: 0.1361 - accuracy: 0.95 - ETA: 0s - loss: 0.1362 - accuracy: 0.95 - ETA: 0s - loss: 0.1362 - accuracy: 0.95 - ETA: 0s - loss: 0.1359 - accuracy: 0.95 - ETA: 0s - loss: 0.1352 - accuracy: 0.95 - ETA: 0s - loss: 0.1353 - accuracy: 0.95 - ETA: 0s - loss: 0.1348 - accuracy: 0.95 - ETA: 0s - loss: 0.1344 - accuracy: 0.95 - ETA: 0s - loss: 0.1345 - accuracy: 0.95 - ETA: 0s - loss: 0.1347 - accuracy: 0.95 - ETA: 0s - loss: 0.1349 - accuracy: 0.95 - ETA: 0s - loss: 0.1348 - accuracy: 0.95 - ETA: 0s - loss: 0.1350 - accuracy: 0.95 - 2s 28us/sample - loss: 0.1349 - accuracy: 0.9527 - val_loss: 0.1190 - val_accuracy: 0.9558\n",
      "Epoch 3/7\n",
      "69531/69531 [==============================] - ETA: 1s - loss: 0.1454 - accuracy: 0.94 - ETA: 1s - loss: 0.1354 - accuracy: 0.95 - ETA: 1s - loss: 0.1370 - accuracy: 0.95 - ETA: 1s - loss: 0.1355 - accuracy: 0.95 - ETA: 1s - loss: 0.1306 - accuracy: 0.95 - ETA: 1s - loss: 0.1280 - accuracy: 0.95 - ETA: 1s - loss: 0.1265 - accuracy: 0.95 - ETA: 1s - loss: 0.1270 - accuracy: 0.95 - ETA: 1s - loss: 0.1294 - accuracy: 0.95 - ETA: 1s - loss: 0.1290 - accuracy: 0.95 - ETA: 1s - loss: 0.1286 - accuracy: 0.95 - ETA: 1s - loss: 0.1296 - accuracy: 0.95 - ETA: 1s - loss: 0.1279 - accuracy: 0.95 - ETA: 1s - loss: 0.1299 - accuracy: 0.95 - ETA: 0s - loss: 0.1295 - accuracy: 0.95 - ETA: 0s - loss: 0.1301 - accuracy: 0.95 - ETA: 0s - loss: 0.1293 - accuracy: 0.95 - ETA: 0s - loss: 0.1282 - accuracy: 0.95 - ETA: 0s - loss: 0.1286 - accuracy: 0.95 - ETA: 0s - loss: 0.1281 - accuracy: 0.95 - ETA: 0s - loss: 0.1275 - accuracy: 0.95 - ETA: 0s - loss: 0.1278 - accuracy: 0.95 - ETA: 0s - loss: 0.1270 - accuracy: 0.95 - ETA: 0s - loss: 0.1264 - accuracy: 0.95 - ETA: 0s - loss: 0.1269 - accuracy: 0.95 - ETA: 0s - loss: 0.1271 - accuracy: 0.95 - ETA: 0s - loss: 0.1270 - accuracy: 0.95 - ETA: 0s - loss: 0.1270 - accuracy: 0.95 - ETA: 0s - loss: 0.1271 - accuracy: 0.95 - ETA: 0s - loss: 0.1274 - accuracy: 0.95 - ETA: 0s - loss: 0.1272 - accuracy: 0.95 - ETA: 0s - loss: 0.1270 - accuracy: 0.95 - ETA: 0s - loss: 0.1268 - accuracy: 0.95 - 2s 28us/sample - loss: 0.1268 - accuracy: 0.9558 - val_loss: 0.1154 - val_accuracy: 0.9569\n",
      "Epoch 4/7\n",
      "69531/69531 [==============================] - ETA: 1s - loss: 0.1564 - accuracy: 0.94 - ETA: 1s - loss: 0.1320 - accuracy: 0.95 - ETA: 1s - loss: 0.1282 - accuracy: 0.95 - ETA: 1s - loss: 0.1215 - accuracy: 0.95 - ETA: 1s - loss: 0.1163 - accuracy: 0.96 - ETA: 1s - loss: 0.1145 - accuracy: 0.96 - ETA: 1s - loss: 0.1137 - accuracy: 0.96 - ETA: 1s - loss: 0.1136 - accuracy: 0.96 - ETA: 1s - loss: 0.1147 - accuracy: 0.95 - ETA: 1s - loss: 0.1173 - accuracy: 0.95 - ETA: 1s - loss: 0.1185 - accuracy: 0.95 - ETA: 1s - loss: 0.1188 - accuracy: 0.95 - ETA: 1s - loss: 0.1176 - accuracy: 0.95 - ETA: 1s - loss: 0.1202 - accuracy: 0.95 - ETA: 0s - loss: 0.1214 - accuracy: 0.95 - ETA: 0s - loss: 0.1210 - accuracy: 0.95 - ETA: 0s - loss: 0.1219 - accuracy: 0.95 - ETA: 0s - loss: 0.1218 - accuracy: 0.95 - ETA: 0s - loss: 0.1211 - accuracy: 0.95 - ETA: 0s - loss: 0.1210 - accuracy: 0.95 - ETA: 0s - loss: 0.1209 - accuracy: 0.95 - ETA: 0s - loss: 0.1205 - accuracy: 0.95 - ETA: 0s - loss: 0.1205 - accuracy: 0.95 - ETA: 0s - loss: 0.1207 - accuracy: 0.95 - ETA: 0s - loss: 0.1209 - accuracy: 0.95 - ETA: 0s - loss: 0.1224 - accuracy: 0.95 - ETA: 0s - loss: 0.1226 - accuracy: 0.95 - ETA: 0s - loss: 0.1229 - accuracy: 0.95 - ETA: 0s - loss: 0.1228 - accuracy: 0.95 - ETA: 0s - loss: 0.1228 - accuracy: 0.95 - ETA: 0s - loss: 0.1228 - accuracy: 0.95 - ETA: 0s - loss: 0.1230 - accuracy: 0.95 - ETA: 0s - loss: 0.1228 - accuracy: 0.95 - 2s 28us/sample - loss: 0.1228 - accuracy: 0.9570 - val_loss: 0.1138 - val_accuracy: 0.9573\n",
      "Epoch 5/7\n",
      "69531/69531 [==============================] - ETA: 1s - loss: 0.1040 - accuracy: 0.96 - ETA: 1s - loss: 0.1320 - accuracy: 0.95 - ETA: 1s - loss: 0.1300 - accuracy: 0.95 - ETA: 1s - loss: 0.1317 - accuracy: 0.95 - ETA: 1s - loss: 0.1257 - accuracy: 0.95 - ETA: 1s - loss: 0.1235 - accuracy: 0.95 - ETA: 1s - loss: 0.1217 - accuracy: 0.95 - ETA: 1s - loss: 0.1199 - accuracy: 0.95 - ETA: 1s - loss: 0.1200 - accuracy: 0.95 - ETA: 1s - loss: 0.1190 - accuracy: 0.95 - ETA: 1s - loss: 0.1204 - accuracy: 0.95 - ETA: 1s - loss: 0.1200 - accuracy: 0.95 - ETA: 1s - loss: 0.1196 - accuracy: 0.95 - ETA: 1s - loss: 0.1199 - accuracy: 0.95 - ETA: 0s - loss: 0.1203 - accuracy: 0.95 - ETA: 0s - loss: 0.1209 - accuracy: 0.95 - ETA: 0s - loss: 0.1209 - accuracy: 0.95 - ETA: 0s - loss: 0.1217 - accuracy: 0.95 - ETA: 0s - loss: 0.1221 - accuracy: 0.95 - ETA: 0s - loss: 0.1215 - accuracy: 0.95 - ETA: 0s - loss: 0.1211 - accuracy: 0.95 - ETA: 0s - loss: 0.1208 - accuracy: 0.95 - ETA: 0s - loss: 0.1209 - accuracy: 0.95 - ETA: 0s - loss: 0.1207 - accuracy: 0.95 - ETA: 0s - loss: 0.1201 - accuracy: 0.95 - ETA: 0s - loss: 0.1201 - accuracy: 0.95 - ETA: 0s - loss: 0.1204 - accuracy: 0.95 - ETA: 0s - loss: 0.1208 - accuracy: 0.95 - ETA: 0s - loss: 0.1201 - accuracy: 0.95 - ETA: 0s - loss: 0.1199 - accuracy: 0.95 - ETA: 0s - loss: 0.1198 - accuracy: 0.95 - ETA: 0s - loss: 0.1191 - accuracy: 0.95 - ETA: 0s - loss: 0.1190 - accuracy: 0.95 - 2s 28us/sample - loss: 0.1191 - accuracy: 0.9586 - val_loss: 0.1132 - val_accuracy: 0.9584\n",
      "Epoch 6/7\n"
     ]
    },
    {
     "name": "stdout",
     "output_type": "stream",
     "text": [
      "69531/69531 [==============================] - ETA: 1s - loss: 0.0966 - accuracy: 0.97 - ETA: 1s - loss: 0.1142 - accuracy: 0.95 - ETA: 1s - loss: 0.1130 - accuracy: 0.95 - ETA: 1s - loss: 0.1181 - accuracy: 0.95 - ETA: 1s - loss: 0.1168 - accuracy: 0.95 - ETA: 1s - loss: 0.1163 - accuracy: 0.95 - ETA: 1s - loss: 0.1181 - accuracy: 0.95 - ETA: 1s - loss: 0.1188 - accuracy: 0.95 - ETA: 1s - loss: 0.1166 - accuracy: 0.95 - ETA: 1s - loss: 0.1149 - accuracy: 0.95 - ETA: 1s - loss: 0.1157 - accuracy: 0.95 - ETA: 1s - loss: 0.1167 - accuracy: 0.95 - ETA: 1s - loss: 0.1175 - accuracy: 0.95 - ETA: 1s - loss: 0.1192 - accuracy: 0.95 - ETA: 0s - loss: 0.1194 - accuracy: 0.95 - ETA: 0s - loss: 0.1204 - accuracy: 0.95 - ETA: 0s - loss: 0.1198 - accuracy: 0.95 - ETA: 0s - loss: 0.1182 - accuracy: 0.95 - ETA: 0s - loss: 0.1180 - accuracy: 0.95 - ETA: 0s - loss: 0.1172 - accuracy: 0.95 - ETA: 0s - loss: 0.1169 - accuracy: 0.95 - ETA: 0s - loss: 0.1169 - accuracy: 0.95 - ETA: 0s - loss: 0.1166 - accuracy: 0.95 - ETA: 0s - loss: 0.1168 - accuracy: 0.95 - ETA: 0s - loss: 0.1164 - accuracy: 0.95 - ETA: 0s - loss: 0.1159 - accuracy: 0.95 - ETA: 0s - loss: 0.1167 - accuracy: 0.95 - ETA: 0s - loss: 0.1176 - accuracy: 0.95 - ETA: 0s - loss: 0.1172 - accuracy: 0.95 - ETA: 0s - loss: 0.1172 - accuracy: 0.95 - ETA: 0s - loss: 0.1173 - accuracy: 0.95 - ETA: 0s - loss: 0.1174 - accuracy: 0.95 - ETA: 0s - loss: 0.1173 - accuracy: 0.95 - 2s 28us/sample - loss: 0.1170 - accuracy: 0.9586 - val_loss: 0.1105 - val_accuracy: 0.9591\n",
      "Epoch 7/7\n",
      "69531/69531 [==============================] - ETA: 1s - loss: 0.1308 - accuracy: 0.95 - ETA: 1s - loss: 0.1150 - accuracy: 0.96 - ETA: 1s - loss: 0.1136 - accuracy: 0.96 - ETA: 1s - loss: 0.1109 - accuracy: 0.96 - ETA: 1s - loss: 0.1150 - accuracy: 0.95 - ETA: 1s - loss: 0.1125 - accuracy: 0.96 - ETA: 1s - loss: 0.1119 - accuracy: 0.96 - ETA: 1s - loss: 0.1128 - accuracy: 0.96 - ETA: 1s - loss: 0.1141 - accuracy: 0.95 - ETA: 1s - loss: 0.1151 - accuracy: 0.95 - ETA: 1s - loss: 0.1146 - accuracy: 0.95 - ETA: 1s - loss: 0.1150 - accuracy: 0.95 - ETA: 1s - loss: 0.1155 - accuracy: 0.95 - ETA: 0s - loss: 0.1153 - accuracy: 0.95 - ETA: 0s - loss: 0.1152 - accuracy: 0.95 - ETA: 0s - loss: 0.1162 - accuracy: 0.95 - ETA: 0s - loss: 0.1160 - accuracy: 0.95 - ETA: 0s - loss: 0.1157 - accuracy: 0.95 - ETA: 0s - loss: 0.1160 - accuracy: 0.95 - ETA: 0s - loss: 0.1165 - accuracy: 0.95 - ETA: 0s - loss: 0.1160 - accuracy: 0.95 - ETA: 0s - loss: 0.1157 - accuracy: 0.95 - ETA: 0s - loss: 0.1150 - accuracy: 0.96 - ETA: 0s - loss: 0.1153 - accuracy: 0.96 - ETA: 0s - loss: 0.1158 - accuracy: 0.95 - ETA: 0s - loss: 0.1162 - accuracy: 0.95 - ETA: 0s - loss: 0.1158 - accuracy: 0.96 - ETA: 0s - loss: 0.1167 - accuracy: 0.95 - ETA: 0s - loss: 0.1166 - accuracy: 0.95 - ETA: 0s - loss: 0.1163 - accuracy: 0.95 - ETA: 0s - loss: 0.1157 - accuracy: 0.96 - ETA: 0s - loss: 0.1154 - accuracy: 0.96 - ETA: 0s - loss: 0.1153 - accuracy: 0.96 - 2s 28us/sample - loss: 0.1153 - accuracy: 0.9600 - val_loss: 0.1102 - val_accuracy: 0.9595\n"
     ]
    },
    {
     "data": {
      "text/html": [
       "<span style=\"color:#4527A0\"><h1 style=\"font-size:18px\">Trial complete</h1></span>"
      ],
      "text/plain": [
       "<IPython.core.display.HTML object>"
      ]
     },
     "metadata": {},
     "output_type": "display_data"
    },
    {
     "data": {
      "text/html": [
       "<span style=\"color:#4527A0\"><h1 style=\"font-size:18px\">Trial summary</h1></span>"
      ],
      "text/plain": [
       "<IPython.core.display.HTML object>"
      ]
     },
     "metadata": {},
     "output_type": "display_data"
    },
    {
     "data": {
      "text/html": [
       "<span style=\"color:cyan\"> |-Trial ID: c9c2072a9eafaab01d79519c40af2df6</span>"
      ],
      "text/plain": [
       "<IPython.core.display.HTML object>"
      ]
     },
     "metadata": {},
     "output_type": "display_data"
    },
    {
     "data": {
      "text/html": [
       "<span style=\"color:cyan\"> |-Score: 0.9594857096672058</span>"
      ],
      "text/plain": [
       "<IPython.core.display.HTML object>"
      ]
     },
     "metadata": {},
     "output_type": "display_data"
    },
    {
     "data": {
      "text/html": [
       "<span style=\"color:cyan\"> |-Best step: 0</span>"
      ],
      "text/plain": [
       "<IPython.core.display.HTML object>"
      ]
     },
     "metadata": {},
     "output_type": "display_data"
    },
    {
     "data": {
      "text/html": [
       "<span style=\"color:#7E57C2\"><h2 style=\"font-size:16px\">Hyperparameters:</h2></span>"
      ],
      "text/plain": [
       "<IPython.core.display.HTML object>"
      ]
     },
     "metadata": {},
     "output_type": "display_data"
    },
    {
     "data": {
      "text/html": [
       "<span style=\"color:cyan\"> |-rate_1: 0.2</span>"
      ],
      "text/plain": [
       "<IPython.core.display.HTML object>"
      ]
     },
     "metadata": {},
     "output_type": "display_data"
    },
    {
     "data": {
      "text/html": [
       "<span style=\"color:blue\"> |-rate_2: 0.4000000000000001</span>"
      ],
      "text/plain": [
       "<IPython.core.display.HTML object>"
      ]
     },
     "metadata": {},
     "output_type": "display_data"
    },
    {
     "data": {
      "text/html": [
       "<span style=\"color:cyan\"> |-tuner/bracket: 1</span>"
      ],
      "text/plain": [
       "<IPython.core.display.HTML object>"
      ]
     },
     "metadata": {},
     "output_type": "display_data"
    },
    {
     "data": {
      "text/html": [
       "<span style=\"color:blue\"> |-tuner/epochs: 7</span>"
      ],
      "text/plain": [
       "<IPython.core.display.HTML object>"
      ]
     },
     "metadata": {},
     "output_type": "display_data"
    },
    {
     "data": {
      "text/html": [
       "<span style=\"color:cyan\"> |-tuner/initial_epoch: 0</span>"
      ],
      "text/plain": [
       "<IPython.core.display.HTML object>"
      ]
     },
     "metadata": {},
     "output_type": "display_data"
    },
    {
     "data": {
      "text/html": [
       "<span style=\"color:blue\"> |-tuner/round: 0</span>"
      ],
      "text/plain": [
       "<IPython.core.display.HTML object>"
      ]
     },
     "metadata": {},
     "output_type": "display_data"
    },
    {
     "data": {
      "text/html": [
       "<span style=\"color:cyan\"> |-units_1: 52</span>"
      ],
      "text/plain": [
       "<IPython.core.display.HTML object>"
      ]
     },
     "metadata": {},
     "output_type": "display_data"
    },
    {
     "data": {
      "text/html": [
       "<span style=\"color:blue\"> |-units_2: 30</span>"
      ],
      "text/plain": [
       "<IPython.core.display.HTML object>"
      ]
     },
     "metadata": {},
     "output_type": "display_data"
    },
    {
     "name": "stdout",
     "output_type": "stream",
     "text": [
      "Train on 69531 samples, validate on 23177 samples\n",
      "Epoch 8/20\n",
      "69531/69531 [==============================] - ETA: 2:19 - loss: 0.8349 - accuracy: 0.50 - ETA: 16s - loss: 0.7410 - accuracy: 0.5373 - ETA: 9s - loss: 0.6875 - accuracy: 0.586 - ETA: 6s - loss: 0.6381 - accuracy: 0.64 - ETA: 5s - loss: 0.5963 - accuracy: 0.68 - ETA: 4s - loss: 0.5628 - accuracy: 0.71 - ETA: 3s - loss: 0.5276 - accuracy: 0.74 - ETA: 3s - loss: 0.4987 - accuracy: 0.76 - ETA: 3s - loss: 0.4717 - accuracy: 0.78 - ETA: 2s - loss: 0.4488 - accuracy: 0.79 - ETA: 2s - loss: 0.4288 - accuracy: 0.80 - ETA: 2s - loss: 0.4122 - accuracy: 0.81 - ETA: 2s - loss: 0.3969 - accuracy: 0.82 - ETA: 2s - loss: 0.3819 - accuracy: 0.83 - ETA: 1s - loss: 0.3684 - accuracy: 0.84 - ETA: 1s - loss: 0.3565 - accuracy: 0.84 - ETA: 1s - loss: 0.3445 - accuracy: 0.85 - ETA: 1s - loss: 0.3348 - accuracy: 0.85 - ETA: 1s - loss: 0.3261 - accuracy: 0.86 - ETA: 1s - loss: 0.3170 - accuracy: 0.86 - ETA: 1s - loss: 0.3087 - accuracy: 0.87 - ETA: 1s - loss: 0.3017 - accuracy: 0.87 - ETA: 0s - loss: 0.2947 - accuracy: 0.87 - ETA: 0s - loss: 0.2888 - accuracy: 0.88 - ETA: 0s - loss: 0.2831 - accuracy: 0.88 - ETA: 0s - loss: 0.2785 - accuracy: 0.88 - ETA: 0s - loss: 0.2741 - accuracy: 0.88 - ETA: 0s - loss: 0.2708 - accuracy: 0.88 - ETA: 0s - loss: 0.2671 - accuracy: 0.89 - ETA: 0s - loss: 0.2623 - accuracy: 0.89 - ETA: 0s - loss: 0.2583 - accuracy: 0.89 - ETA: 0s - loss: 0.2549 - accuracy: 0.89 - ETA: 0s - loss: 0.2515 - accuracy: 0.89 - ETA: 0s - loss: 0.2485 - accuracy: 0.89 - ETA: 0s - loss: 0.2454 - accuracy: 0.90 - 3s 39us/sample - loss: 0.2433 - accuracy: 0.9017 - val_loss: 0.1278 - val_accuracy: 0.9532\n",
      "Epoch 9/20\n",
      "69531/69531 [==============================] - ETA: 1s - loss: 0.1777 - accuracy: 0.95 - ETA: 1s - loss: 0.1489 - accuracy: 0.94 - ETA: 1s - loss: 0.1390 - accuracy: 0.94 - ETA: 1s - loss: 0.1377 - accuracy: 0.94 - ETA: 1s - loss: 0.1414 - accuracy: 0.94 - ETA: 1s - loss: 0.1417 - accuracy: 0.94 - ETA: 1s - loss: 0.1422 - accuracy: 0.94 - ETA: 1s - loss: 0.1408 - accuracy: 0.94 - ETA: 1s - loss: 0.1403 - accuracy: 0.94 - ETA: 1s - loss: 0.1387 - accuracy: 0.94 - ETA: 1s - loss: 0.1369 - accuracy: 0.95 - ETA: 1s - loss: 0.1377 - accuracy: 0.95 - ETA: 1s - loss: 0.1384 - accuracy: 0.94 - ETA: 1s - loss: 0.1385 - accuracy: 0.94 - ETA: 1s - loss: 0.1392 - accuracy: 0.94 - ETA: 1s - loss: 0.1387 - accuracy: 0.95 - ETA: 1s - loss: 0.1384 - accuracy: 0.95 - ETA: 0s - loss: 0.1379 - accuracy: 0.95 - ETA: 0s - loss: 0.1381 - accuracy: 0.95 - ETA: 0s - loss: 0.1374 - accuracy: 0.95 - ETA: 0s - loss: 0.1379 - accuracy: 0.95 - ETA: 0s - loss: 0.1379 - accuracy: 0.95 - ETA: 0s - loss: 0.1379 - accuracy: 0.95 - ETA: 0s - loss: 0.1383 - accuracy: 0.95 - ETA: 0s - loss: 0.1384 - accuracy: 0.95 - ETA: 0s - loss: 0.1381 - accuracy: 0.95 - ETA: 0s - loss: 0.1376 - accuracy: 0.95 - ETA: 0s - loss: 0.1368 - accuracy: 0.95 - ETA: 0s - loss: 0.1366 - accuracy: 0.95 - ETA: 0s - loss: 0.1369 - accuracy: 0.95 - ETA: 0s - loss: 0.1365 - accuracy: 0.95 - ETA: 0s - loss: 0.1366 - accuracy: 0.95 - ETA: 0s - loss: 0.1359 - accuracy: 0.95 - ETA: 0s - loss: 0.1360 - accuracy: 0.95 - ETA: 0s - loss: 0.1357 - accuracy: 0.95 - 2s 30us/sample - loss: 0.1355 - accuracy: 0.9514 - val_loss: 0.1185 - val_accuracy: 0.9560\n",
      "Epoch 10/20\n",
      "69531/69531 [==============================] - ETA: 1s - loss: 0.1428 - accuracy: 0.94 - ETA: 1s - loss: 0.1060 - accuracy: 0.96 - ETA: 1s - loss: 0.1191 - accuracy: 0.95 - ETA: 1s - loss: 0.1236 - accuracy: 0.95 - ETA: 1s - loss: 0.1266 - accuracy: 0.95 - ETA: 1s - loss: 0.1292 - accuracy: 0.95 - ETA: 1s - loss: 0.1305 - accuracy: 0.95 - ETA: 1s - loss: 0.1282 - accuracy: 0.95 - ETA: 1s - loss: 0.1288 - accuracy: 0.95 - ETA: 1s - loss: 0.1280 - accuracy: 0.95 - ETA: 1s - loss: 0.1262 - accuracy: 0.95 - ETA: 1s - loss: 0.1275 - accuracy: 0.95 - ETA: 1s - loss: 0.1271 - accuracy: 0.95 - ETA: 1s - loss: 0.1272 - accuracy: 0.95 - ETA: 1s - loss: 0.1280 - accuracy: 0.95 - ETA: 1s - loss: 0.1275 - accuracy: 0.95 - ETA: 0s - loss: 0.1269 - accuracy: 0.95 - ETA: 0s - loss: 0.1266 - accuracy: 0.95 - ETA: 0s - loss: 0.1263 - accuracy: 0.95 - ETA: 0s - loss: 0.1259 - accuracy: 0.95 - ETA: 0s - loss: 0.1265 - accuracy: 0.95 - ETA: 0s - loss: 0.1263 - accuracy: 0.95 - ETA: 0s - loss: 0.1268 - accuracy: 0.95 - ETA: 0s - loss: 0.1271 - accuracy: 0.95 - ETA: 0s - loss: 0.1272 - accuracy: 0.95 - ETA: 0s - loss: 0.1278 - accuracy: 0.95 - ETA: 0s - loss: 0.1277 - accuracy: 0.95 - ETA: 0s - loss: 0.1273 - accuracy: 0.95 - ETA: 0s - loss: 0.1271 - accuracy: 0.95 - ETA: 0s - loss: 0.1268 - accuracy: 0.95 - ETA: 0s - loss: 0.1272 - accuracy: 0.95 - ETA: 0s - loss: 0.1275 - accuracy: 0.95 - ETA: 0s - loss: 0.1274 - accuracy: 0.95 - ETA: 0s - loss: 0.1274 - accuracy: 0.95 - ETA: 0s - loss: 0.1267 - accuracy: 0.95 - 2s 30us/sample - loss: 0.1269 - accuracy: 0.9551 - val_loss: 0.1157 - val_accuracy: 0.9575\n",
      "Epoch 11/20\n",
      "69531/69531 [==============================] - ETA: 1s - loss: 0.0827 - accuracy: 0.96 - ETA: 1s - loss: 0.1278 - accuracy: 0.95 - ETA: 1s - loss: 0.1264 - accuracy: 0.95 - ETA: 1s - loss: 0.1251 - accuracy: 0.95 - ETA: 1s - loss: 0.1295 - accuracy: 0.95 - ETA: 1s - loss: 0.1302 - accuracy: 0.95 - ETA: 1s - loss: 0.1259 - accuracy: 0.95 - ETA: 1s - loss: 0.1251 - accuracy: 0.95 - ETA: 1s - loss: 0.1231 - accuracy: 0.95 - ETA: 1s - loss: 0.1206 - accuracy: 0.95 - ETA: 1s - loss: 0.1220 - accuracy: 0.95 - ETA: 1s - loss: 0.1224 - accuracy: 0.95 - ETA: 1s - loss: 0.1234 - accuracy: 0.95 - ETA: 1s - loss: 0.1238 - accuracy: 0.95 - ETA: 1s - loss: 0.1245 - accuracy: 0.95 - ETA: 1s - loss: 0.1239 - accuracy: 0.95 - ETA: 1s - loss: 0.1240 - accuracy: 0.95 - ETA: 0s - loss: 0.1243 - accuracy: 0.95 - ETA: 0s - loss: 0.1243 - accuracy: 0.95 - ETA: 0s - loss: 0.1247 - accuracy: 0.95 - ETA: 0s - loss: 0.1248 - accuracy: 0.95 - ETA: 0s - loss: 0.1246 - accuracy: 0.95 - ETA: 0s - loss: 0.1248 - accuracy: 0.95 - ETA: 0s - loss: 0.1243 - accuracy: 0.95 - ETA: 0s - loss: 0.1246 - accuracy: 0.95 - ETA: 0s - loss: 0.1248 - accuracy: 0.95 - ETA: 0s - loss: 0.1247 - accuracy: 0.95 - ETA: 0s - loss: 0.1240 - accuracy: 0.95 - ETA: 0s - loss: 0.1241 - accuracy: 0.95 - ETA: 0s - loss: 0.1241 - accuracy: 0.95 - ETA: 0s - loss: 0.1238 - accuracy: 0.95 - ETA: 0s - loss: 0.1236 - accuracy: 0.95 - ETA: 0s - loss: 0.1233 - accuracy: 0.95 - ETA: 0s - loss: 0.1229 - accuracy: 0.95 - ETA: 0s - loss: 0.1228 - accuracy: 0.95 - 2s 30us/sample - loss: 0.1229 - accuracy: 0.9566 - val_loss: 0.1135 - val_accuracy: 0.9582\n",
      "Epoch 12/20\n",
      "69531/69531 [==============================] - ETA: 1s - loss: 0.0926 - accuracy: 0.96 - ETA: 1s - loss: 0.1077 - accuracy: 0.96 - ETA: 1s - loss: 0.1159 - accuracy: 0.95 - ETA: 1s - loss: 0.1178 - accuracy: 0.95 - ETA: 1s - loss: 0.1197 - accuracy: 0.95 - ETA: 1s - loss: 0.1183 - accuracy: 0.95 - ETA: 1s - loss: 0.1192 - accuracy: 0.95 - ETA: 1s - loss: 0.1191 - accuracy: 0.95 - ETA: 1s - loss: 0.1189 - accuracy: 0.95 - ETA: 1s - loss: 0.1200 - accuracy: 0.95 - ETA: 1s - loss: 0.1190 - accuracy: 0.95 - ETA: 1s - loss: 0.1206 - accuracy: 0.95 - ETA: 1s - loss: 0.1207 - accuracy: 0.95 - ETA: 1s - loss: 0.1212 - accuracy: 0.95 - ETA: 1s - loss: 0.1207 - accuracy: 0.95 - ETA: 1s - loss: 0.1205 - accuracy: 0.95 - ETA: 0s - loss: 0.1210 - accuracy: 0.95 - ETA: 0s - loss: 0.1209 - accuracy: 0.95 - ETA: 0s - loss: 0.1207 - accuracy: 0.95 - ETA: 0s - loss: 0.1205 - accuracy: 0.95 - ETA: 0s - loss: 0.1195 - accuracy: 0.95 - ETA: 0s - loss: 0.1198 - accuracy: 0.95 - ETA: 0s - loss: 0.1199 - accuracy: 0.95 - ETA: 0s - loss: 0.1195 - accuracy: 0.95 - ETA: 0s - loss: 0.1203 - accuracy: 0.95 - ETA: 0s - loss: 0.1205 - accuracy: 0.95 - ETA: 0s - loss: 0.1208 - accuracy: 0.95 - ETA: 0s - loss: 0.1203 - accuracy: 0.95 - ETA: 0s - loss: 0.1201 - accuracy: 0.95 - ETA: 0s - loss: 0.1207 - accuracy: 0.95 - ETA: 0s - loss: 0.1202 - accuracy: 0.95 - ETA: 0s - loss: 0.1199 - accuracy: 0.95 - ETA: 0s - loss: 0.1201 - accuracy: 0.95 - ETA: 0s - loss: 0.1199 - accuracy: 0.95 - ETA: 0s - loss: 0.1201 - accuracy: 0.95 - 2s 30us/sample - loss: 0.1201 - accuracy: 0.9576 - val_loss: 0.1116 - val_accuracy: 0.9588\n",
      "Epoch 13/20\n"
     ]
    },
    {
     "name": "stdout",
     "output_type": "stream",
     "text": [
      "69531/69531 [==============================] - ETA: 1s - loss: 0.1279 - accuracy: 0.94 - ETA: 1s - loss: 0.1147 - accuracy: 0.95 - ETA: 1s - loss: 0.1132 - accuracy: 0.95 - ETA: 1s - loss: 0.1202 - accuracy: 0.95 - ETA: 1s - loss: 0.1212 - accuracy: 0.95 - ETA: 1s - loss: 0.1175 - accuracy: 0.95 - ETA: 1s - loss: 0.1160 - accuracy: 0.95 - ETA: 1s - loss: 0.1164 - accuracy: 0.95 - ETA: 1s - loss: 0.1165 - accuracy: 0.95 - ETA: 1s - loss: 0.1163 - accuracy: 0.95 - ETA: 1s - loss: 0.1183 - accuracy: 0.95 - ETA: 1s - loss: 0.1202 - accuracy: 0.95 - ETA: 1s - loss: 0.1183 - accuracy: 0.95 - ETA: 1s - loss: 0.1183 - accuracy: 0.95 - ETA: 1s - loss: 0.1190 - accuracy: 0.95 - ETA: 1s - loss: 0.1174 - accuracy: 0.95 - ETA: 0s - loss: 0.1165 - accuracy: 0.95 - ETA: 0s - loss: 0.1174 - accuracy: 0.95 - ETA: 0s - loss: 0.1184 - accuracy: 0.95 - ETA: 0s - loss: 0.1181 - accuracy: 0.95 - ETA: 0s - loss: 0.1183 - accuracy: 0.95 - ETA: 0s - loss: 0.1184 - accuracy: 0.95 - ETA: 0s - loss: 0.1183 - accuracy: 0.95 - ETA: 0s - loss: 0.1175 - accuracy: 0.95 - ETA: 0s - loss: 0.1174 - accuracy: 0.95 - ETA: 0s - loss: 0.1175 - accuracy: 0.95 - ETA: 0s - loss: 0.1176 - accuracy: 0.95 - ETA: 0s - loss: 0.1178 - accuracy: 0.95 - ETA: 0s - loss: 0.1178 - accuracy: 0.95 - ETA: 0s - loss: 0.1174 - accuracy: 0.95 - ETA: 0s - loss: 0.1176 - accuracy: 0.95 - ETA: 0s - loss: 0.1174 - accuracy: 0.95 - ETA: 0s - loss: 0.1169 - accuracy: 0.95 - ETA: 0s - loss: 0.1167 - accuracy: 0.95 - ETA: 0s - loss: 0.1170 - accuracy: 0.95 - 2s 30us/sample - loss: 0.1170 - accuracy: 0.9587 - val_loss: 0.1099 - val_accuracy: 0.9596\n",
      "Epoch 14/20\n",
      "69531/69531 [==============================] - ETA: 1s - loss: 0.1235 - accuracy: 0.94 - ETA: 1s - loss: 0.1070 - accuracy: 0.96 - ETA: 1s - loss: 0.1071 - accuracy: 0.96 - ETA: 1s - loss: 0.1127 - accuracy: 0.95 - ETA: 1s - loss: 0.1120 - accuracy: 0.95 - ETA: 1s - loss: 0.1133 - accuracy: 0.95 - ETA: 1s - loss: 0.1130 - accuracy: 0.95 - ETA: 1s - loss: 0.1127 - accuracy: 0.96 - ETA: 1s - loss: 0.1131 - accuracy: 0.96 - ETA: 1s - loss: 0.1157 - accuracy: 0.95 - ETA: 1s - loss: 0.1151 - accuracy: 0.95 - ETA: 1s - loss: 0.1143 - accuracy: 0.95 - ETA: 1s - loss: 0.1140 - accuracy: 0.95 - ETA: 1s - loss: 0.1133 - accuracy: 0.95 - ETA: 1s - loss: 0.1133 - accuracy: 0.95 - ETA: 1s - loss: 0.1137 - accuracy: 0.95 - ETA: 0s - loss: 0.1141 - accuracy: 0.95 - ETA: 0s - loss: 0.1144 - accuracy: 0.95 - ETA: 0s - loss: 0.1143 - accuracy: 0.95 - ETA: 0s - loss: 0.1159 - accuracy: 0.95 - ETA: 0s - loss: 0.1156 - accuracy: 0.95 - ETA: 0s - loss: 0.1148 - accuracy: 0.95 - ETA: 0s - loss: 0.1141 - accuracy: 0.95 - ETA: 0s - loss: 0.1143 - accuracy: 0.95 - ETA: 0s - loss: 0.1138 - accuracy: 0.95 - ETA: 0s - loss: 0.1141 - accuracy: 0.95 - ETA: 0s - loss: 0.1140 - accuracy: 0.95 - ETA: 0s - loss: 0.1139 - accuracy: 0.95 - ETA: 0s - loss: 0.1137 - accuracy: 0.95 - ETA: 0s - loss: 0.1140 - accuracy: 0.95 - ETA: 0s - loss: 0.1138 - accuracy: 0.95 - ETA: 0s - loss: 0.1140 - accuracy: 0.95 - ETA: 0s - loss: 0.1141 - accuracy: 0.95 - ETA: 0s - loss: 0.1138 - accuracy: 0.95 - ETA: 0s - loss: 0.1137 - accuracy: 0.95 - 2s 29us/sample - loss: 0.1137 - accuracy: 0.9591 - val_loss: 0.1093 - val_accuracy: 0.9598\n",
      "Epoch 15/20\n",
      "69531/69531 [==============================] - ETA: 1s - loss: 0.1320 - accuracy: 0.94 - ETA: 1s - loss: 0.1122 - accuracy: 0.95 - ETA: 1s - loss: 0.1145 - accuracy: 0.95 - ETA: 1s - loss: 0.1057 - accuracy: 0.96 - ETA: 1s - loss: 0.1091 - accuracy: 0.96 - ETA: 1s - loss: 0.1101 - accuracy: 0.96 - ETA: 1s - loss: 0.1109 - accuracy: 0.96 - ETA: 1s - loss: 0.1124 - accuracy: 0.96 - ETA: 1s - loss: 0.1133 - accuracy: 0.96 - ETA: 1s - loss: 0.1141 - accuracy: 0.96 - ETA: 1s - loss: 0.1135 - accuracy: 0.96 - ETA: 1s - loss: 0.1129 - accuracy: 0.96 - ETA: 1s - loss: 0.1131 - accuracy: 0.95 - ETA: 1s - loss: 0.1137 - accuracy: 0.95 - ETA: 1s - loss: 0.1134 - accuracy: 0.96 - ETA: 1s - loss: 0.1136 - accuracy: 0.95 - ETA: 0s - loss: 0.1134 - accuracy: 0.95 - ETA: 0s - loss: 0.1139 - accuracy: 0.95 - ETA: 0s - loss: 0.1144 - accuracy: 0.95 - ETA: 0s - loss: 0.1144 - accuracy: 0.95 - ETA: 0s - loss: 0.1137 - accuracy: 0.95 - ETA: 0s - loss: 0.1138 - accuracy: 0.95 - ETA: 0s - loss: 0.1139 - accuracy: 0.95 - ETA: 0s - loss: 0.1143 - accuracy: 0.95 - ETA: 0s - loss: 0.1139 - accuracy: 0.95 - ETA: 0s - loss: 0.1138 - accuracy: 0.95 - ETA: 0s - loss: 0.1143 - accuracy: 0.95 - ETA: 0s - loss: 0.1138 - accuracy: 0.95 - ETA: 0s - loss: 0.1137 - accuracy: 0.95 - ETA: 0s - loss: 0.1137 - accuracy: 0.95 - ETA: 0s - loss: 0.1131 - accuracy: 0.95 - ETA: 0s - loss: 0.1132 - accuracy: 0.95 - ETA: 0s - loss: 0.1133 - accuracy: 0.95 - ETA: 0s - loss: 0.1135 - accuracy: 0.95 - ETA: 0s - loss: 0.1139 - accuracy: 0.95 - 2s 30us/sample - loss: 0.1139 - accuracy: 0.9590 - val_loss: 0.1086 - val_accuracy: 0.9604\n",
      "Epoch 16/20\n",
      "69531/69531 [==============================] - ETA: 1s - loss: 0.0902 - accuracy: 0.96 - ETA: 1s - loss: 0.1082 - accuracy: 0.95 - ETA: 1s - loss: 0.1063 - accuracy: 0.95 - ETA: 1s - loss: 0.1096 - accuracy: 0.95 - ETA: 1s - loss: 0.1095 - accuracy: 0.95 - ETA: 1s - loss: 0.1082 - accuracy: 0.96 - ETA: 1s - loss: 0.1105 - accuracy: 0.96 - ETA: 1s - loss: 0.1086 - accuracy: 0.96 - ETA: 1s - loss: 0.1080 - accuracy: 0.96 - ETA: 1s - loss: 0.1078 - accuracy: 0.96 - ETA: 1s - loss: 0.1088 - accuracy: 0.96 - ETA: 1s - loss: 0.1082 - accuracy: 0.96 - ETA: 1s - loss: 0.1092 - accuracy: 0.96 - ETA: 1s - loss: 0.1086 - accuracy: 0.96 - ETA: 1s - loss: 0.1092 - accuracy: 0.96 - ETA: 1s - loss: 0.1097 - accuracy: 0.96 - ETA: 0s - loss: 0.1093 - accuracy: 0.96 - ETA: 0s - loss: 0.1099 - accuracy: 0.96 - ETA: 0s - loss: 0.1100 - accuracy: 0.96 - ETA: 0s - loss: 0.1099 - accuracy: 0.96 - ETA: 0s - loss: 0.1109 - accuracy: 0.96 - ETA: 0s - loss: 0.1115 - accuracy: 0.96 - ETA: 0s - loss: 0.1118 - accuracy: 0.96 - ETA: 0s - loss: 0.1119 - accuracy: 0.96 - ETA: 0s - loss: 0.1117 - accuracy: 0.96 - ETA: 0s - loss: 0.1116 - accuracy: 0.96 - ETA: 0s - loss: 0.1116 - accuracy: 0.96 - ETA: 0s - loss: 0.1119 - accuracy: 0.96 - ETA: 0s - loss: 0.1114 - accuracy: 0.96 - ETA: 0s - loss: 0.1112 - accuracy: 0.96 - ETA: 0s - loss: 0.1116 - accuracy: 0.96 - ETA: 0s - loss: 0.1114 - accuracy: 0.96 - ETA: 0s - loss: 0.1119 - accuracy: 0.96 - ETA: 0s - loss: 0.1122 - accuracy: 0.96 - ETA: 0s - loss: 0.1121 - accuracy: 0.96 - 2s 29us/sample - loss: 0.1121 - accuracy: 0.9603 - val_loss: 0.1081 - val_accuracy: 0.9602\n",
      "Epoch 17/20\n",
      "69531/69531 [==============================] - ETA: 1s - loss: 0.0769 - accuracy: 0.96 - ETA: 1s - loss: 0.1065 - accuracy: 0.96 - ETA: 1s - loss: 0.1170 - accuracy: 0.95 - ETA: 1s - loss: 0.1188 - accuracy: 0.95 - ETA: 1s - loss: 0.1187 - accuracy: 0.95 - ETA: 1s - loss: 0.1165 - accuracy: 0.95 - ETA: 1s - loss: 0.1157 - accuracy: 0.95 - ETA: 1s - loss: 0.1169 - accuracy: 0.95 - ETA: 1s - loss: 0.1159 - accuracy: 0.96 - ETA: 1s - loss: 0.1150 - accuracy: 0.96 - ETA: 1s - loss: 0.1144 - accuracy: 0.96 - ETA: 1s - loss: 0.1147 - accuracy: 0.96 - ETA: 1s - loss: 0.1158 - accuracy: 0.95 - ETA: 1s - loss: 0.1149 - accuracy: 0.96 - ETA: 1s - loss: 0.1143 - accuracy: 0.96 - ETA: 1s - loss: 0.1144 - accuracy: 0.95 - ETA: 1s - loss: 0.1136 - accuracy: 0.96 - ETA: 0s - loss: 0.1136 - accuracy: 0.95 - ETA: 0s - loss: 0.1130 - accuracy: 0.95 - ETA: 0s - loss: 0.1126 - accuracy: 0.95 - ETA: 0s - loss: 0.1127 - accuracy: 0.95 - ETA: 0s - loss: 0.1125 - accuracy: 0.95 - ETA: 0s - loss: 0.1131 - accuracy: 0.95 - ETA: 0s - loss: 0.1123 - accuracy: 0.96 - ETA: 0s - loss: 0.1122 - accuracy: 0.96 - ETA: 0s - loss: 0.1130 - accuracy: 0.95 - ETA: 0s - loss: 0.1128 - accuracy: 0.96 - ETA: 0s - loss: 0.1131 - accuracy: 0.95 - ETA: 0s - loss: 0.1130 - accuracy: 0.95 - ETA: 0s - loss: 0.1133 - accuracy: 0.95 - ETA: 0s - loss: 0.1132 - accuracy: 0.95 - ETA: 0s - loss: 0.1127 - accuracy: 0.95 - ETA: 0s - loss: 0.1127 - accuracy: 0.96 - ETA: 0s - loss: 0.1129 - accuracy: 0.96 - ETA: 0s - loss: 0.1125 - accuracy: 0.96 - 2s 30us/sample - loss: 0.1125 - accuracy: 0.9599 - val_loss: 0.1074 - val_accuracy: 0.9610\n",
      "Epoch 18/20\n"
     ]
    },
    {
     "name": "stdout",
     "output_type": "stream",
     "text": [
      "69531/69531 [==============================] - ETA: 1s - loss: 0.1363 - accuracy: 0.95 - ETA: 1s - loss: 0.1034 - accuracy: 0.96 - ETA: 1s - loss: 0.1116 - accuracy: 0.96 - ETA: 1s - loss: 0.1113 - accuracy: 0.96 - ETA: 1s - loss: 0.1125 - accuracy: 0.96 - ETA: 1s - loss: 0.1142 - accuracy: 0.96 - ETA: 1s - loss: 0.1132 - accuracy: 0.96 - ETA: 1s - loss: 0.1136 - accuracy: 0.96 - ETA: 1s - loss: 0.1140 - accuracy: 0.96 - ETA: 1s - loss: 0.1144 - accuracy: 0.95 - ETA: 1s - loss: 0.1129 - accuracy: 0.96 - ETA: 1s - loss: 0.1126 - accuracy: 0.96 - ETA: 1s - loss: 0.1126 - accuracy: 0.96 - ETA: 1s - loss: 0.1113 - accuracy: 0.96 - ETA: 1s - loss: 0.1112 - accuracy: 0.96 - ETA: 1s - loss: 0.1118 - accuracy: 0.96 - ETA: 0s - loss: 0.1115 - accuracy: 0.96 - ETA: 0s - loss: 0.1115 - accuracy: 0.96 - ETA: 0s - loss: 0.1111 - accuracy: 0.96 - ETA: 0s - loss: 0.1107 - accuracy: 0.96 - ETA: 0s - loss: 0.1115 - accuracy: 0.96 - ETA: 0s - loss: 0.1118 - accuracy: 0.96 - ETA: 0s - loss: 0.1113 - accuracy: 0.96 - ETA: 0s - loss: 0.1109 - accuracy: 0.96 - ETA: 0s - loss: 0.1107 - accuracy: 0.96 - ETA: 0s - loss: 0.1110 - accuracy: 0.96 - ETA: 0s - loss: 0.1115 - accuracy: 0.96 - ETA: 0s - loss: 0.1114 - accuracy: 0.96 - ETA: 0s - loss: 0.1115 - accuracy: 0.96 - ETA: 0s - loss: 0.1114 - accuracy: 0.96 - ETA: 0s - loss: 0.1107 - accuracy: 0.96 - ETA: 0s - loss: 0.1103 - accuracy: 0.96 - ETA: 0s - loss: 0.1108 - accuracy: 0.96 - ETA: 0s - loss: 0.1107 - accuracy: 0.96 - ETA: 0s - loss: 0.1110 - accuracy: 0.96 - 2s 29us/sample - loss: 0.1111 - accuracy: 0.9611 - val_loss: 0.1069 - val_accuracy: 0.9609\n",
      "Epoch 19/20\n",
      "69531/69531 [==============================] - ETA: 1s - loss: 0.1113 - accuracy: 0.95 - ETA: 1s - loss: 0.1047 - accuracy: 0.95 - ETA: 1s - loss: 0.1088 - accuracy: 0.95 - ETA: 1s - loss: 0.1084 - accuracy: 0.95 - ETA: 1s - loss: 0.1131 - accuracy: 0.95 - ETA: 1s - loss: 0.1151 - accuracy: 0.95 - ETA: 1s - loss: 0.1123 - accuracy: 0.95 - ETA: 1s - loss: 0.1116 - accuracy: 0.95 - ETA: 1s - loss: 0.1123 - accuracy: 0.95 - ETA: 1s - loss: 0.1123 - accuracy: 0.95 - ETA: 1s - loss: 0.1116 - accuracy: 0.95 - ETA: 1s - loss: 0.1109 - accuracy: 0.95 - ETA: 1s - loss: 0.1098 - accuracy: 0.96 - ETA: 1s - loss: 0.1095 - accuracy: 0.96 - ETA: 1s - loss: 0.1097 - accuracy: 0.96 - ETA: 1s - loss: 0.1108 - accuracy: 0.95 - ETA: 0s - loss: 0.1108 - accuracy: 0.96 - ETA: 0s - loss: 0.1097 - accuracy: 0.96 - ETA: 0s - loss: 0.1089 - accuracy: 0.96 - ETA: 0s - loss: 0.1090 - accuracy: 0.96 - ETA: 0s - loss: 0.1083 - accuracy: 0.96 - ETA: 0s - loss: 0.1077 - accuracy: 0.96 - ETA: 0s - loss: 0.1078 - accuracy: 0.96 - ETA: 0s - loss: 0.1077 - accuracy: 0.96 - ETA: 0s - loss: 0.1085 - accuracy: 0.96 - ETA: 0s - loss: 0.1088 - accuracy: 0.96 - ETA: 0s - loss: 0.1092 - accuracy: 0.96 - ETA: 0s - loss: 0.1092 - accuracy: 0.96 - ETA: 0s - loss: 0.1097 - accuracy: 0.96 - ETA: 0s - loss: 0.1099 - accuracy: 0.96 - ETA: 0s - loss: 0.1099 - accuracy: 0.96 - ETA: 0s - loss: 0.1100 - accuracy: 0.96 - ETA: 0s - loss: 0.1098 - accuracy: 0.96 - ETA: 0s - loss: 0.1097 - accuracy: 0.96 - ETA: 0s - loss: 0.1095 - accuracy: 0.96 - 2s 29us/sample - loss: 0.1096 - accuracy: 0.9608 - val_loss: 0.1061 - val_accuracy: 0.9611\n",
      "Epoch 20/20\n",
      "69531/69531 [==============================] - ETA: 1s - loss: 0.1272 - accuracy: 0.95 - ETA: 1s - loss: 0.1257 - accuracy: 0.95 - ETA: 1s - loss: 0.1209 - accuracy: 0.95 - ETA: 1s - loss: 0.1140 - accuracy: 0.95 - ETA: 1s - loss: 0.1135 - accuracy: 0.95 - ETA: 1s - loss: 0.1124 - accuracy: 0.95 - ETA: 1s - loss: 0.1089 - accuracy: 0.95 - ETA: 1s - loss: 0.1126 - accuracy: 0.95 - ETA: 1s - loss: 0.1104 - accuracy: 0.96 - ETA: 1s - loss: 0.1109 - accuracy: 0.95 - ETA: 1s - loss: 0.1103 - accuracy: 0.96 - ETA: 1s - loss: 0.1111 - accuracy: 0.95 - ETA: 1s - loss: 0.1118 - accuracy: 0.95 - ETA: 1s - loss: 0.1098 - accuracy: 0.96 - ETA: 1s - loss: 0.1108 - accuracy: 0.96 - ETA: 1s - loss: 0.1107 - accuracy: 0.96 - ETA: 0s - loss: 0.1105 - accuracy: 0.96 - ETA: 0s - loss: 0.1104 - accuracy: 0.96 - ETA: 0s - loss: 0.1099 - accuracy: 0.96 - ETA: 0s - loss: 0.1101 - accuracy: 0.96 - ETA: 0s - loss: 0.1100 - accuracy: 0.96 - ETA: 0s - loss: 0.1096 - accuracy: 0.96 - ETA: 0s - loss: 0.1088 - accuracy: 0.96 - ETA: 0s - loss: 0.1097 - accuracy: 0.96 - ETA: 0s - loss: 0.1098 - accuracy: 0.96 - ETA: 0s - loss: 0.1099 - accuracy: 0.96 - ETA: 0s - loss: 0.1100 - accuracy: 0.96 - ETA: 0s - loss: 0.1097 - accuracy: 0.96 - ETA: 0s - loss: 0.1100 - accuracy: 0.96 - ETA: 0s - loss: 0.1096 - accuracy: 0.96 - ETA: 0s - loss: 0.1097 - accuracy: 0.96 - ETA: 0s - loss: 0.1094 - accuracy: 0.96 - ETA: 0s - loss: 0.1094 - accuracy: 0.96 - ETA: 0s - loss: 0.1095 - accuracy: 0.96 - ETA: 0s - loss: 0.1101 - accuracy: 0.96 - 2s 29us/sample - loss: 0.1101 - accuracy: 0.9606 - val_loss: 0.1061 - val_accuracy: 0.9610\n"
     ]
    },
    {
     "data": {
      "text/html": [
       "<span style=\"color:#4527A0\"><h1 style=\"font-size:18px\">Trial complete</h1></span>"
      ],
      "text/plain": [
       "<IPython.core.display.HTML object>"
      ]
     },
     "metadata": {},
     "output_type": "display_data"
    },
    {
     "data": {
      "text/html": [
       "<span style=\"color:#4527A0\"><h1 style=\"font-size:18px\">Trial summary</h1></span>"
      ],
      "text/plain": [
       "<IPython.core.display.HTML object>"
      ]
     },
     "metadata": {},
     "output_type": "display_data"
    },
    {
     "data": {
      "text/html": [
       "<span style=\"color:cyan\"> |-Trial ID: f5bf1a04d88be24f20c50c696a6807a7</span>"
      ],
      "text/plain": [
       "<IPython.core.display.HTML object>"
      ]
     },
     "metadata": {},
     "output_type": "display_data"
    },
    {
     "data": {
      "text/html": [
       "<span style=\"color:cyan\"> |-Score: 0.9610821008682251</span>"
      ],
      "text/plain": [
       "<IPython.core.display.HTML object>"
      ]
     },
     "metadata": {},
     "output_type": "display_data"
    },
    {
     "data": {
      "text/html": [
       "<span style=\"color:cyan\"> |-Best step: 0</span>"
      ],
      "text/plain": [
       "<IPython.core.display.HTML object>"
      ]
     },
     "metadata": {},
     "output_type": "display_data"
    },
    {
     "data": {
      "text/html": [
       "<span style=\"color:#7E57C2\"><h2 style=\"font-size:16px\">Hyperparameters:</h2></span>"
      ],
      "text/plain": [
       "<IPython.core.display.HTML object>"
      ]
     },
     "metadata": {},
     "output_type": "display_data"
    },
    {
     "data": {
      "text/html": [
       "<span style=\"color:cyan\"> |-rate_1: 0.30000000000000004</span>"
      ],
      "text/plain": [
       "<IPython.core.display.HTML object>"
      ]
     },
     "metadata": {},
     "output_type": "display_data"
    },
    {
     "data": {
      "text/html": [
       "<span style=\"color:blue\"> |-rate_2: 0.30000000000000004</span>"
      ],
      "text/plain": [
       "<IPython.core.display.HTML object>"
      ]
     },
     "metadata": {},
     "output_type": "display_data"
    },
    {
     "data": {
      "text/html": [
       "<span style=\"color:cyan\"> |-tuner/bracket: 1</span>"
      ],
      "text/plain": [
       "<IPython.core.display.HTML object>"
      ]
     },
     "metadata": {},
     "output_type": "display_data"
    },
    {
     "data": {
      "text/html": [
       "<span style=\"color:blue\"> |-tuner/epochs: 20</span>"
      ],
      "text/plain": [
       "<IPython.core.display.HTML object>"
      ]
     },
     "metadata": {},
     "output_type": "display_data"
    },
    {
     "data": {
      "text/html": [
       "<span style=\"color:cyan\"> |-tuner/initial_epoch: 7</span>"
      ],
      "text/plain": [
       "<IPython.core.display.HTML object>"
      ]
     },
     "metadata": {},
     "output_type": "display_data"
    },
    {
     "data": {
      "text/html": [
       "<span style=\"color:blue\"> |-tuner/round: 1</span>"
      ],
      "text/plain": [
       "<IPython.core.display.HTML object>"
      ]
     },
     "metadata": {},
     "output_type": "display_data"
    },
    {
     "data": {
      "text/html": [
       "<span style=\"color:cyan\"> |-tuner/trial_id: cbbfd18372b2cb2ab243a4682b699ae5</span>"
      ],
      "text/plain": [
       "<IPython.core.display.HTML object>"
      ]
     },
     "metadata": {},
     "output_type": "display_data"
    },
    {
     "data": {
      "text/html": [
       "<span style=\"color:blue\"> |-units_1: 58</span>"
      ],
      "text/plain": [
       "<IPython.core.display.HTML object>"
      ]
     },
     "metadata": {},
     "output_type": "display_data"
    },
    {
     "data": {
      "text/html": [
       "<span style=\"color:cyan\"> |-units_2: 40</span>"
      ],
      "text/plain": [
       "<IPython.core.display.HTML object>"
      ]
     },
     "metadata": {},
     "output_type": "display_data"
    },
    {
     "name": "stdout",
     "output_type": "stream",
     "text": [
      "Train on 69531 samples, validate on 23177 samples\n",
      "Epoch 8/20\n",
      "69531/69531 [==============================] - ETA: 2:19 - loss: 0.7598 - accuracy: 0.55 - ETA: 16s - loss: 0.6780 - accuracy: 0.6046 - ETA: 9s - loss: 0.6214 - accuracy: 0.664 - ETA: 6s - loss: 0.5806 - accuracy: 0.70 - ETA: 5s - loss: 0.5431 - accuracy: 0.73 - ETA: 4s - loss: 0.5081 - accuracy: 0.76 - ETA: 4s - loss: 0.4811 - accuracy: 0.78 - ETA: 3s - loss: 0.4583 - accuracy: 0.79 - ETA: 3s - loss: 0.4373 - accuracy: 0.80 - ETA: 2s - loss: 0.4170 - accuracy: 0.82 - ETA: 2s - loss: 0.3967 - accuracy: 0.83 - ETA: 2s - loss: 0.3792 - accuracy: 0.84 - ETA: 2s - loss: 0.3642 - accuracy: 0.84 - ETA: 2s - loss: 0.3523 - accuracy: 0.85 - ETA: 1s - loss: 0.3413 - accuracy: 0.86 - ETA: 1s - loss: 0.3307 - accuracy: 0.86 - ETA: 1s - loss: 0.3207 - accuracy: 0.87 - ETA: 1s - loss: 0.3125 - accuracy: 0.87 - ETA: 1s - loss: 0.3039 - accuracy: 0.87 - ETA: 1s - loss: 0.2964 - accuracy: 0.88 - ETA: 1s - loss: 0.2909 - accuracy: 0.88 - ETA: 1s - loss: 0.2852 - accuracy: 0.88 - ETA: 1s - loss: 0.2797 - accuracy: 0.88 - ETA: 0s - loss: 0.2746 - accuracy: 0.89 - ETA: 0s - loss: 0.2691 - accuracy: 0.89 - ETA: 0s - loss: 0.2642 - accuracy: 0.89 - ETA: 0s - loss: 0.2602 - accuracy: 0.89 - ETA: 0s - loss: 0.2557 - accuracy: 0.90 - ETA: 0s - loss: 0.2518 - accuracy: 0.90 - ETA: 0s - loss: 0.2491 - accuracy: 0.90 - ETA: 0s - loss: 0.2457 - accuracy: 0.90 - ETA: 0s - loss: 0.2424 - accuracy: 0.90 - ETA: 0s - loss: 0.2393 - accuracy: 0.90 - ETA: 0s - loss: 0.2363 - accuracy: 0.90 - ETA: 0s - loss: 0.2337 - accuracy: 0.90 - 3s 39us/sample - loss: 0.2319 - accuracy: 0.9106 - val_loss: 0.1253 - val_accuracy: 0.9524\n",
      "Epoch 9/20\n",
      "69531/69531 [==============================] - ETA: 1s - loss: 0.0778 - accuracy: 0.96 - ETA: 1s - loss: 0.1348 - accuracy: 0.95 - ETA: 1s - loss: 0.1409 - accuracy: 0.94 - ETA: 1s - loss: 0.1424 - accuracy: 0.95 - ETA: 1s - loss: 0.1413 - accuracy: 0.95 - ETA: 1s - loss: 0.1425 - accuracy: 0.94 - ETA: 1s - loss: 0.1422 - accuracy: 0.94 - ETA: 1s - loss: 0.1416 - accuracy: 0.94 - ETA: 1s - loss: 0.1408 - accuracy: 0.94 - ETA: 1s - loss: 0.1394 - accuracy: 0.95 - ETA: 1s - loss: 0.1408 - accuracy: 0.94 - ETA: 1s - loss: 0.1424 - accuracy: 0.94 - ETA: 1s - loss: 0.1430 - accuracy: 0.94 - ETA: 1s - loss: 0.1420 - accuracy: 0.94 - ETA: 1s - loss: 0.1432 - accuracy: 0.94 - ETA: 0s - loss: 0.1426 - accuracy: 0.94 - ETA: 0s - loss: 0.1430 - accuracy: 0.94 - ETA: 0s - loss: 0.1425 - accuracy: 0.94 - ETA: 0s - loss: 0.1426 - accuracy: 0.94 - ETA: 0s - loss: 0.1424 - accuracy: 0.94 - ETA: 0s - loss: 0.1416 - accuracy: 0.95 - ETA: 0s - loss: 0.1423 - accuracy: 0.95 - ETA: 0s - loss: 0.1419 - accuracy: 0.95 - ETA: 0s - loss: 0.1419 - accuracy: 0.95 - ETA: 0s - loss: 0.1414 - accuracy: 0.95 - ETA: 0s - loss: 0.1401 - accuracy: 0.95 - ETA: 0s - loss: 0.1397 - accuracy: 0.95 - ETA: 0s - loss: 0.1392 - accuracy: 0.95 - ETA: 0s - loss: 0.1389 - accuracy: 0.95 - ETA: 0s - loss: 0.1394 - accuracy: 0.95 - ETA: 0s - loss: 0.1392 - accuracy: 0.95 - ETA: 0s - loss: 0.1392 - accuracy: 0.95 - ETA: 0s - loss: 0.1396 - accuracy: 0.95 - ETA: 0s - loss: 0.1394 - accuracy: 0.95 - 2s 29us/sample - loss: 0.1389 - accuracy: 0.9519 - val_loss: 0.1192 - val_accuracy: 0.9550\n",
      "Epoch 10/20\n",
      "69531/69531 [==============================] - ETA: 2s - loss: 0.1130 - accuracy: 0.95 - ETA: 1s - loss: 0.1335 - accuracy: 0.95 - ETA: 1s - loss: 0.1358 - accuracy: 0.95 - ETA: 1s - loss: 0.1301 - accuracy: 0.95 - ETA: 1s - loss: 0.1337 - accuracy: 0.95 - ETA: 1s - loss: 0.1300 - accuracy: 0.95 - ETA: 1s - loss: 0.1323 - accuracy: 0.95 - ETA: 1s - loss: 0.1293 - accuracy: 0.95 - ETA: 1s - loss: 0.1302 - accuracy: 0.95 - ETA: 1s - loss: 0.1314 - accuracy: 0.95 - ETA: 1s - loss: 0.1321 - accuracy: 0.95 - ETA: 1s - loss: 0.1314 - accuracy: 0.95 - ETA: 1s - loss: 0.1316 - accuracy: 0.95 - ETA: 1s - loss: 0.1323 - accuracy: 0.95 - ETA: 1s - loss: 0.1334 - accuracy: 0.95 - ETA: 0s - loss: 0.1325 - accuracy: 0.95 - ETA: 0s - loss: 0.1319 - accuracy: 0.95 - ETA: 0s - loss: 0.1304 - accuracy: 0.95 - ETA: 0s - loss: 0.1300 - accuracy: 0.95 - ETA: 0s - loss: 0.1312 - accuracy: 0.95 - ETA: 0s - loss: 0.1312 - accuracy: 0.95 - ETA: 0s - loss: 0.1311 - accuracy: 0.95 - ETA: 0s - loss: 0.1314 - accuracy: 0.95 - ETA: 0s - loss: 0.1314 - accuracy: 0.95 - ETA: 0s - loss: 0.1313 - accuracy: 0.95 - ETA: 0s - loss: 0.1309 - accuracy: 0.95 - ETA: 0s - loss: 0.1311 - accuracy: 0.95 - ETA: 0s - loss: 0.1310 - accuracy: 0.95 - ETA: 0s - loss: 0.1312 - accuracy: 0.95 - ETA: 0s - loss: 0.1310 - accuracy: 0.95 - ETA: 0s - loss: 0.1308 - accuracy: 0.95 - ETA: 0s - loss: 0.1313 - accuracy: 0.95 - ETA: 0s - loss: 0.1311 - accuracy: 0.95 - ETA: 0s - loss: 0.1309 - accuracy: 0.95 - 2s 29us/sample - loss: 0.1304 - accuracy: 0.9546 - val_loss: 0.1166 - val_accuracy: 0.9564\n",
      "Epoch 11/20\n",
      "69531/69531 [==============================] - ETA: 1s - loss: 0.1199 - accuracy: 0.94 - ETA: 1s - loss: 0.1206 - accuracy: 0.95 - ETA: 1s - loss: 0.1264 - accuracy: 0.95 - ETA: 1s - loss: 0.1302 - accuracy: 0.95 - ETA: 1s - loss: 0.1265 - accuracy: 0.95 - ETA: 1s - loss: 0.1273 - accuracy: 0.95 - ETA: 1s - loss: 0.1274 - accuracy: 0.95 - ETA: 1s - loss: 0.1281 - accuracy: 0.95 - ETA: 1s - loss: 0.1272 - accuracy: 0.95 - ETA: 1s - loss: 0.1276 - accuracy: 0.95 - ETA: 1s - loss: 0.1278 - accuracy: 0.95 - ETA: 1s - loss: 0.1284 - accuracy: 0.95 - ETA: 1s - loss: 0.1286 - accuracy: 0.95 - ETA: 1s - loss: 0.1297 - accuracy: 0.95 - ETA: 1s - loss: 0.1286 - accuracy: 0.95 - ETA: 1s - loss: 0.1278 - accuracy: 0.95 - ETA: 0s - loss: 0.1265 - accuracy: 0.95 - ETA: 0s - loss: 0.1265 - accuracy: 0.95 - ETA: 0s - loss: 0.1265 - accuracy: 0.95 - ETA: 0s - loss: 0.1270 - accuracy: 0.95 - ETA: 0s - loss: 0.1263 - accuracy: 0.95 - ETA: 0s - loss: 0.1257 - accuracy: 0.95 - ETA: 0s - loss: 0.1258 - accuracy: 0.95 - ETA: 0s - loss: 0.1260 - accuracy: 0.95 - ETA: 0s - loss: 0.1262 - accuracy: 0.95 - ETA: 0s - loss: 0.1256 - accuracy: 0.95 - ETA: 0s - loss: 0.1250 - accuracy: 0.95 - ETA: 0s - loss: 0.1251 - accuracy: 0.95 - ETA: 0s - loss: 0.1254 - accuracy: 0.95 - ETA: 0s - loss: 0.1251 - accuracy: 0.95 - ETA: 0s - loss: 0.1248 - accuracy: 0.95 - ETA: 0s - loss: 0.1245 - accuracy: 0.95 - ETA: 0s - loss: 0.1250 - accuracy: 0.95 - ETA: 0s - loss: 0.1247 - accuracy: 0.95 - ETA: 0s - loss: 0.1245 - accuracy: 0.95 - 2s 29us/sample - loss: 0.1245 - accuracy: 0.9562 - val_loss: 0.1148 - val_accuracy: 0.9569\n",
      "Epoch 12/20\n",
      "69531/69531 [==============================] - ETA: 1s - loss: 0.1661 - accuracy: 0.92 - ETA: 1s - loss: 0.1323 - accuracy: 0.95 - ETA: 1s - loss: 0.1267 - accuracy: 0.95 - ETA: 1s - loss: 0.1266 - accuracy: 0.95 - ETA: 1s - loss: 0.1236 - accuracy: 0.95 - ETA: 1s - loss: 0.1238 - accuracy: 0.95 - ETA: 1s - loss: 0.1229 - accuracy: 0.95 - ETA: 1s - loss: 0.1237 - accuracy: 0.95 - ETA: 1s - loss: 0.1225 - accuracy: 0.95 - ETA: 1s - loss: 0.1221 - accuracy: 0.95 - ETA: 1s - loss: 0.1209 - accuracy: 0.95 - ETA: 1s - loss: 0.1210 - accuracy: 0.95 - ETA: 1s - loss: 0.1204 - accuracy: 0.95 - ETA: 1s - loss: 0.1194 - accuracy: 0.95 - ETA: 1s - loss: 0.1198 - accuracy: 0.95 - ETA: 1s - loss: 0.1208 - accuracy: 0.95 - ETA: 0s - loss: 0.1217 - accuracy: 0.95 - ETA: 0s - loss: 0.1212 - accuracy: 0.95 - ETA: 0s - loss: 0.1206 - accuracy: 0.95 - ETA: 0s - loss: 0.1209 - accuracy: 0.95 - ETA: 0s - loss: 0.1212 - accuracy: 0.95 - ETA: 0s - loss: 0.1216 - accuracy: 0.95 - ETA: 0s - loss: 0.1220 - accuracy: 0.95 - ETA: 0s - loss: 0.1223 - accuracy: 0.95 - ETA: 0s - loss: 0.1229 - accuracy: 0.95 - ETA: 0s - loss: 0.1225 - accuracy: 0.95 - ETA: 0s - loss: 0.1225 - accuracy: 0.95 - ETA: 0s - loss: 0.1222 - accuracy: 0.95 - ETA: 0s - loss: 0.1222 - accuracy: 0.95 - ETA: 0s - loss: 0.1219 - accuracy: 0.95 - ETA: 0s - loss: 0.1220 - accuracy: 0.95 - ETA: 0s - loss: 0.1221 - accuracy: 0.95 - ETA: 0s - loss: 0.1218 - accuracy: 0.95 - ETA: 0s - loss: 0.1223 - accuracy: 0.95 - ETA: 0s - loss: 0.1219 - accuracy: 0.95 - 2s 29us/sample - loss: 0.1219 - accuracy: 0.9568 - val_loss: 0.1123 - val_accuracy: 0.9585\n",
      "Epoch 13/20\n"
     ]
    },
    {
     "name": "stdout",
     "output_type": "stream",
     "text": [
      "69531/69531 [==============================] - ETA: 1s - loss: 0.1955 - accuracy: 0.92 - ETA: 1s - loss: 0.1442 - accuracy: 0.94 - ETA: 1s - loss: 0.1348 - accuracy: 0.95 - ETA: 1s - loss: 0.1299 - accuracy: 0.95 - ETA: 1s - loss: 0.1251 - accuracy: 0.95 - ETA: 1s - loss: 0.1237 - accuracy: 0.95 - ETA: 1s - loss: 0.1229 - accuracy: 0.95 - ETA: 1s - loss: 0.1209 - accuracy: 0.95 - ETA: 1s - loss: 0.1200 - accuracy: 0.95 - ETA: 1s - loss: 0.1207 - accuracy: 0.95 - ETA: 1s - loss: 0.1198 - accuracy: 0.95 - ETA: 1s - loss: 0.1192 - accuracy: 0.95 - ETA: 1s - loss: 0.1190 - accuracy: 0.95 - ETA: 1s - loss: 0.1186 - accuracy: 0.95 - ETA: 1s - loss: 0.1198 - accuracy: 0.95 - ETA: 0s - loss: 0.1196 - accuracy: 0.95 - ETA: 0s - loss: 0.1186 - accuracy: 0.95 - ETA: 0s - loss: 0.1183 - accuracy: 0.95 - ETA: 0s - loss: 0.1185 - accuracy: 0.95 - ETA: 0s - loss: 0.1188 - accuracy: 0.95 - ETA: 0s - loss: 0.1193 - accuracy: 0.95 - ETA: 0s - loss: 0.1191 - accuracy: 0.95 - ETA: 0s - loss: 0.1190 - accuracy: 0.95 - ETA: 0s - loss: 0.1188 - accuracy: 0.95 - ETA: 0s - loss: 0.1195 - accuracy: 0.95 - ETA: 0s - loss: 0.1204 - accuracy: 0.95 - ETA: 0s - loss: 0.1208 - accuracy: 0.95 - ETA: 0s - loss: 0.1203 - accuracy: 0.95 - ETA: 0s - loss: 0.1204 - accuracy: 0.95 - ETA: 0s - loss: 0.1202 - accuracy: 0.95 - ETA: 0s - loss: 0.1202 - accuracy: 0.95 - ETA: 0s - loss: 0.1203 - accuracy: 0.95 - ETA: 0s - loss: 0.1201 - accuracy: 0.95 - ETA: 0s - loss: 0.1202 - accuracy: 0.95 - 2s 29us/sample - loss: 0.1200 - accuracy: 0.9579 - val_loss: 0.1109 - val_accuracy: 0.9588\n",
      "Epoch 14/20\n",
      "69531/69531 [==============================] - ETA: 1s - loss: 0.1065 - accuracy: 0.95 - ETA: 1s - loss: 0.1157 - accuracy: 0.95 - ETA: 1s - loss: 0.1150 - accuracy: 0.95 - ETA: 1s - loss: 0.1165 - accuracy: 0.95 - ETA: 1s - loss: 0.1174 - accuracy: 0.95 - ETA: 1s - loss: 0.1156 - accuracy: 0.95 - ETA: 1s - loss: 0.1154 - accuracy: 0.95 - ETA: 1s - loss: 0.1161 - accuracy: 0.95 - ETA: 1s - loss: 0.1170 - accuracy: 0.95 - ETA: 1s - loss: 0.1169 - accuracy: 0.95 - ETA: 1s - loss: 0.1182 - accuracy: 0.95 - ETA: 1s - loss: 0.1180 - accuracy: 0.95 - ETA: 1s - loss: 0.1185 - accuracy: 0.95 - ETA: 1s - loss: 0.1181 - accuracy: 0.95 - ETA: 1s - loss: 0.1182 - accuracy: 0.95 - ETA: 1s - loss: 0.1184 - accuracy: 0.95 - ETA: 0s - loss: 0.1193 - accuracy: 0.95 - ETA: 0s - loss: 0.1188 - accuracy: 0.95 - ETA: 0s - loss: 0.1188 - accuracy: 0.95 - ETA: 0s - loss: 0.1192 - accuracy: 0.95 - ETA: 0s - loss: 0.1191 - accuracy: 0.95 - ETA: 0s - loss: 0.1188 - accuracy: 0.95 - ETA: 0s - loss: 0.1185 - accuracy: 0.95 - ETA: 0s - loss: 0.1189 - accuracy: 0.95 - ETA: 0s - loss: 0.1184 - accuracy: 0.95 - ETA: 0s - loss: 0.1187 - accuracy: 0.95 - ETA: 0s - loss: 0.1190 - accuracy: 0.95 - ETA: 0s - loss: 0.1191 - accuracy: 0.95 - ETA: 0s - loss: 0.1192 - accuracy: 0.95 - ETA: 0s - loss: 0.1189 - accuracy: 0.95 - ETA: 0s - loss: 0.1186 - accuracy: 0.95 - ETA: 0s - loss: 0.1185 - accuracy: 0.95 - ETA: 0s - loss: 0.1182 - accuracy: 0.95 - ETA: 0s - loss: 0.1179 - accuracy: 0.95 - 2s 29us/sample - loss: 0.1179 - accuracy: 0.9587 - val_loss: 0.1107 - val_accuracy: 0.9593\n",
      "Epoch 15/20\n",
      "69531/69531 [==============================] - ETA: 1s - loss: 0.1342 - accuracy: 0.96 - ETA: 1s - loss: 0.1164 - accuracy: 0.96 - ETA: 1s - loss: 0.1147 - accuracy: 0.96 - ETA: 1s - loss: 0.1129 - accuracy: 0.96 - ETA: 1s - loss: 0.1146 - accuracy: 0.96 - ETA: 1s - loss: 0.1128 - accuracy: 0.96 - ETA: 1s - loss: 0.1107 - accuracy: 0.96 - ETA: 1s - loss: 0.1124 - accuracy: 0.96 - ETA: 1s - loss: 0.1123 - accuracy: 0.96 - ETA: 1s - loss: 0.1114 - accuracy: 0.96 - ETA: 1s - loss: 0.1117 - accuracy: 0.96 - ETA: 1s - loss: 0.1118 - accuracy: 0.96 - ETA: 1s - loss: 0.1134 - accuracy: 0.96 - ETA: 1s - loss: 0.1138 - accuracy: 0.95 - ETA: 1s - loss: 0.1134 - accuracy: 0.96 - ETA: 1s - loss: 0.1129 - accuracy: 0.96 - ETA: 0s - loss: 0.1127 - accuracy: 0.96 - ETA: 0s - loss: 0.1133 - accuracy: 0.96 - ETA: 0s - loss: 0.1141 - accuracy: 0.95 - ETA: 0s - loss: 0.1139 - accuracy: 0.95 - ETA: 0s - loss: 0.1149 - accuracy: 0.95 - ETA: 0s - loss: 0.1150 - accuracy: 0.95 - ETA: 0s - loss: 0.1158 - accuracy: 0.95 - ETA: 0s - loss: 0.1156 - accuracy: 0.95 - ETA: 0s - loss: 0.1158 - accuracy: 0.95 - ETA: 0s - loss: 0.1159 - accuracy: 0.95 - ETA: 0s - loss: 0.1153 - accuracy: 0.95 - ETA: 0s - loss: 0.1155 - accuracy: 0.95 - ETA: 0s - loss: 0.1154 - accuracy: 0.95 - ETA: 0s - loss: 0.1151 - accuracy: 0.95 - ETA: 0s - loss: 0.1146 - accuracy: 0.95 - ETA: 0s - loss: 0.1146 - accuracy: 0.95 - ETA: 0s - loss: 0.1156 - accuracy: 0.95 - ETA: 0s - loss: 0.1157 - accuracy: 0.95 - 2s 29us/sample - loss: 0.1158 - accuracy: 0.9591 - val_loss: 0.1090 - val_accuracy: 0.9603\n",
      "Epoch 16/20\n",
      "69531/69531 [==============================] - ETA: 1s - loss: 0.1586 - accuracy: 0.93 - ETA: 1s - loss: 0.1057 - accuracy: 0.96 - ETA: 1s - loss: 0.1038 - accuracy: 0.96 - ETA: 1s - loss: 0.1051 - accuracy: 0.96 - ETA: 1s - loss: 0.1057 - accuracy: 0.96 - ETA: 1s - loss: 0.1059 - accuracy: 0.96 - ETA: 1s - loss: 0.1071 - accuracy: 0.96 - ETA: 1s - loss: 0.1068 - accuracy: 0.96 - ETA: 1s - loss: 0.1085 - accuracy: 0.96 - ETA: 1s - loss: 0.1084 - accuracy: 0.96 - ETA: 1s - loss: 0.1098 - accuracy: 0.96 - ETA: 1s - loss: 0.1106 - accuracy: 0.96 - ETA: 1s - loss: 0.1111 - accuracy: 0.96 - ETA: 1s - loss: 0.1111 - accuracy: 0.96 - ETA: 1s - loss: 0.1117 - accuracy: 0.96 - ETA: 0s - loss: 0.1116 - accuracy: 0.96 - ETA: 0s - loss: 0.1124 - accuracy: 0.96 - ETA: 0s - loss: 0.1127 - accuracy: 0.96 - ETA: 0s - loss: 0.1133 - accuracy: 0.96 - ETA: 0s - loss: 0.1124 - accuracy: 0.96 - ETA: 0s - loss: 0.1126 - accuracy: 0.96 - ETA: 0s - loss: 0.1127 - accuracy: 0.96 - ETA: 0s - loss: 0.1134 - accuracy: 0.96 - ETA: 0s - loss: 0.1136 - accuracy: 0.96 - ETA: 0s - loss: 0.1132 - accuracy: 0.96 - ETA: 0s - loss: 0.1127 - accuracy: 0.96 - ETA: 0s - loss: 0.1138 - accuracy: 0.96 - ETA: 0s - loss: 0.1146 - accuracy: 0.95 - ETA: 0s - loss: 0.1140 - accuracy: 0.96 - ETA: 0s - loss: 0.1137 - accuracy: 0.96 - ETA: 0s - loss: 0.1142 - accuracy: 0.96 - ETA: 0s - loss: 0.1141 - accuracy: 0.96 - ETA: 0s - loss: 0.1145 - accuracy: 0.96 - ETA: 0s - loss: 0.1147 - accuracy: 0.95 - 2s 28us/sample - loss: 0.1145 - accuracy: 0.9601 - val_loss: 0.1078 - val_accuracy: 0.9599\n",
      "Epoch 17/20\n",
      "69531/69531 [==============================] - ETA: 1s - loss: 0.1444 - accuracy: 0.94 - ETA: 1s - loss: 0.1196 - accuracy: 0.95 - ETA: 1s - loss: 0.1193 - accuracy: 0.95 - ETA: 1s - loss: 0.1145 - accuracy: 0.95 - ETA: 1s - loss: 0.1152 - accuracy: 0.95 - ETA: 1s - loss: 0.1137 - accuracy: 0.95 - ETA: 1s - loss: 0.1150 - accuracy: 0.95 - ETA: 1s - loss: 0.1148 - accuracy: 0.95 - ETA: 1s - loss: 0.1138 - accuracy: 0.95 - ETA: 1s - loss: 0.1135 - accuracy: 0.95 - ETA: 1s - loss: 0.1143 - accuracy: 0.95 - ETA: 1s - loss: 0.1139 - accuracy: 0.95 - ETA: 1s - loss: 0.1143 - accuracy: 0.95 - ETA: 1s - loss: 0.1133 - accuracy: 0.96 - ETA: 1s - loss: 0.1128 - accuracy: 0.96 - ETA: 1s - loss: 0.1126 - accuracy: 0.96 - ETA: 0s - loss: 0.1134 - accuracy: 0.96 - ETA: 0s - loss: 0.1138 - accuracy: 0.95 - ETA: 0s - loss: 0.1120 - accuracy: 0.96 - ETA: 0s - loss: 0.1127 - accuracy: 0.96 - ETA: 0s - loss: 0.1129 - accuracy: 0.96 - ETA: 0s - loss: 0.1131 - accuracy: 0.96 - ETA: 0s - loss: 0.1131 - accuracy: 0.96 - ETA: 0s - loss: 0.1132 - accuracy: 0.96 - ETA: 0s - loss: 0.1134 - accuracy: 0.95 - ETA: 0s - loss: 0.1134 - accuracy: 0.95 - ETA: 0s - loss: 0.1137 - accuracy: 0.95 - ETA: 0s - loss: 0.1139 - accuracy: 0.95 - ETA: 0s - loss: 0.1137 - accuracy: 0.95 - ETA: 0s - loss: 0.1144 - accuracy: 0.95 - ETA: 0s - loss: 0.1142 - accuracy: 0.95 - ETA: 0s - loss: 0.1143 - accuracy: 0.95 - ETA: 0s - loss: 0.1141 - accuracy: 0.95 - ETA: 0s - loss: 0.1141 - accuracy: 0.95 - 2s 29us/sample - loss: 0.1140 - accuracy: 0.9596 - val_loss: 0.1074 - val_accuracy: 0.9603\n",
      "Epoch 18/20\n"
     ]
    },
    {
     "name": "stdout",
     "output_type": "stream",
     "text": [
      "69531/69531 [==============================] - ETA: 1s - loss: 0.1497 - accuracy: 0.94 - ETA: 1s - loss: 0.1070 - accuracy: 0.96 - ETA: 1s - loss: 0.1172 - accuracy: 0.95 - ETA: 1s - loss: 0.1167 - accuracy: 0.95 - ETA: 1s - loss: 0.1154 - accuracy: 0.95 - ETA: 1s - loss: 0.1156 - accuracy: 0.95 - ETA: 1s - loss: 0.1162 - accuracy: 0.95 - ETA: 1s - loss: 0.1181 - accuracy: 0.95 - ETA: 1s - loss: 0.1173 - accuracy: 0.95 - ETA: 1s - loss: 0.1154 - accuracy: 0.95 - ETA: 1s - loss: 0.1138 - accuracy: 0.96 - ETA: 1s - loss: 0.1135 - accuracy: 0.96 - ETA: 1s - loss: 0.1144 - accuracy: 0.95 - ETA: 1s - loss: 0.1142 - accuracy: 0.95 - ETA: 1s - loss: 0.1136 - accuracy: 0.95 - ETA: 0s - loss: 0.1145 - accuracy: 0.95 - ETA: 0s - loss: 0.1136 - accuracy: 0.96 - ETA: 0s - loss: 0.1136 - accuracy: 0.96 - ETA: 0s - loss: 0.1140 - accuracy: 0.96 - ETA: 0s - loss: 0.1139 - accuracy: 0.96 - ETA: 0s - loss: 0.1132 - accuracy: 0.96 - ETA: 0s - loss: 0.1131 - accuracy: 0.96 - ETA: 0s - loss: 0.1133 - accuracy: 0.96 - ETA: 0s - loss: 0.1125 - accuracy: 0.96 - ETA: 0s - loss: 0.1120 - accuracy: 0.96 - ETA: 0s - loss: 0.1120 - accuracy: 0.96 - ETA: 0s - loss: 0.1120 - accuracy: 0.96 - ETA: 0s - loss: 0.1120 - accuracy: 0.96 - ETA: 0s - loss: 0.1126 - accuracy: 0.96 - ETA: 0s - loss: 0.1129 - accuracy: 0.96 - ETA: 0s - loss: 0.1134 - accuracy: 0.96 - ETA: 0s - loss: 0.1132 - accuracy: 0.96 - ETA: 0s - loss: 0.1131 - accuracy: 0.96 - ETA: 0s - loss: 0.1132 - accuracy: 0.96 - 2s 28us/sample - loss: 0.1133 - accuracy: 0.9604 - val_loss: 0.1071 - val_accuracy: 0.9608\n",
      "Epoch 19/20\n",
      "69531/69531 [==============================] - ETA: 2s - loss: 0.0813 - accuracy: 0.97 - ETA: 1s - loss: 0.1157 - accuracy: 0.96 - ETA: 1s - loss: 0.1142 - accuracy: 0.96 - ETA: 1s - loss: 0.1121 - accuracy: 0.96 - ETA: 1s - loss: 0.1131 - accuracy: 0.95 - ETA: 1s - loss: 0.1095 - accuracy: 0.96 - ETA: 1s - loss: 0.1101 - accuracy: 0.96 - ETA: 1s - loss: 0.1077 - accuracy: 0.96 - ETA: 1s - loss: 0.1093 - accuracy: 0.96 - ETA: 1s - loss: 0.1093 - accuracy: 0.96 - ETA: 1s - loss: 0.1123 - accuracy: 0.96 - ETA: 1s - loss: 0.1108 - accuracy: 0.96 - ETA: 1s - loss: 0.1121 - accuracy: 0.96 - ETA: 1s - loss: 0.1118 - accuracy: 0.96 - ETA: 1s - loss: 0.1116 - accuracy: 0.96 - ETA: 0s - loss: 0.1122 - accuracy: 0.96 - ETA: 0s - loss: 0.1120 - accuracy: 0.96 - ETA: 0s - loss: 0.1124 - accuracy: 0.96 - ETA: 0s - loss: 0.1126 - accuracy: 0.96 - ETA: 0s - loss: 0.1115 - accuracy: 0.96 - ETA: 0s - loss: 0.1117 - accuracy: 0.96 - ETA: 0s - loss: 0.1126 - accuracy: 0.96 - ETA: 0s - loss: 0.1126 - accuracy: 0.96 - ETA: 0s - loss: 0.1126 - accuracy: 0.96 - ETA: 0s - loss: 0.1130 - accuracy: 0.95 - ETA: 0s - loss: 0.1130 - accuracy: 0.95 - ETA: 0s - loss: 0.1122 - accuracy: 0.96 - ETA: 0s - loss: 0.1121 - accuracy: 0.96 - ETA: 0s - loss: 0.1122 - accuracy: 0.96 - ETA: 0s - loss: 0.1128 - accuracy: 0.96 - ETA: 0s - loss: 0.1125 - accuracy: 0.96 - ETA: 0s - loss: 0.1123 - accuracy: 0.96 - ETA: 0s - loss: 0.1122 - accuracy: 0.96 - ETA: 0s - loss: 0.1123 - accuracy: 0.96 - 2s 28us/sample - loss: 0.1122 - accuracy: 0.9603 - val_loss: 0.1066 - val_accuracy: 0.9605\n",
      "Epoch 20/20\n",
      "69531/69531 [==============================] - ETA: 1s - loss: 0.1251 - accuracy: 0.96 - ETA: 1s - loss: 0.1149 - accuracy: 0.95 - ETA: 1s - loss: 0.1161 - accuracy: 0.95 - ETA: 1s - loss: 0.1102 - accuracy: 0.95 - ETA: 1s - loss: 0.1129 - accuracy: 0.95 - ETA: 1s - loss: 0.1131 - accuracy: 0.95 - ETA: 1s - loss: 0.1124 - accuracy: 0.95 - ETA: 1s - loss: 0.1125 - accuracy: 0.95 - ETA: 1s - loss: 0.1123 - accuracy: 0.95 - ETA: 1s - loss: 0.1114 - accuracy: 0.96 - ETA: 1s - loss: 0.1096 - accuracy: 0.96 - ETA: 1s - loss: 0.1104 - accuracy: 0.96 - ETA: 1s - loss: 0.1111 - accuracy: 0.95 - ETA: 1s - loss: 0.1098 - accuracy: 0.96 - ETA: 0s - loss: 0.1097 - accuracy: 0.96 - ETA: 0s - loss: 0.1100 - accuracy: 0.96 - ETA: 0s - loss: 0.1112 - accuracy: 0.95 - ETA: 0s - loss: 0.1114 - accuracy: 0.95 - ETA: 0s - loss: 0.1116 - accuracy: 0.95 - ETA: 0s - loss: 0.1110 - accuracy: 0.96 - ETA: 0s - loss: 0.1113 - accuracy: 0.96 - ETA: 0s - loss: 0.1112 - accuracy: 0.96 - ETA: 0s - loss: 0.1101 - accuracy: 0.96 - ETA: 0s - loss: 0.1107 - accuracy: 0.96 - ETA: 0s - loss: 0.1106 - accuracy: 0.96 - ETA: 0s - loss: 0.1105 - accuracy: 0.96 - ETA: 0s - loss: 0.1102 - accuracy: 0.96 - ETA: 0s - loss: 0.1106 - accuracy: 0.96 - ETA: 0s - loss: 0.1107 - accuracy: 0.96 - ETA: 0s - loss: 0.1103 - accuracy: 0.96 - ETA: 0s - loss: 0.1106 - accuracy: 0.96 - ETA: 0s - loss: 0.1110 - accuracy: 0.96 - ETA: 0s - loss: 0.1111 - accuracy: 0.96 - 2s 28us/sample - loss: 0.1105 - accuracy: 0.9607 - val_loss: 0.1058 - val_accuracy: 0.9612\n"
     ]
    },
    {
     "data": {
      "text/html": [
       "<span style=\"color:#4527A0\"><h1 style=\"font-size:18px\">Trial complete</h1></span>"
      ],
      "text/plain": [
       "<IPython.core.display.HTML object>"
      ]
     },
     "metadata": {},
     "output_type": "display_data"
    },
    {
     "data": {
      "text/html": [
       "<span style=\"color:#4527A0\"><h1 style=\"font-size:18px\">Trial summary</h1></span>"
      ],
      "text/plain": [
       "<IPython.core.display.HTML object>"
      ]
     },
     "metadata": {},
     "output_type": "display_data"
    },
    {
     "data": {
      "text/html": [
       "<span style=\"color:cyan\"> |-Trial ID: 18212eac78441cd9b44c6aa5a1016b26</span>"
      ],
      "text/plain": [
       "<IPython.core.display.HTML object>"
      ]
     },
     "metadata": {},
     "output_type": "display_data"
    },
    {
     "data": {
      "text/html": [
       "<span style=\"color:cyan\"> |-Score: 0.9611684083938599</span>"
      ],
      "text/plain": [
       "<IPython.core.display.HTML object>"
      ]
     },
     "metadata": {},
     "output_type": "display_data"
    },
    {
     "data": {
      "text/html": [
       "<span style=\"color:cyan\"> |-Best step: 0</span>"
      ],
      "text/plain": [
       "<IPython.core.display.HTML object>"
      ]
     },
     "metadata": {},
     "output_type": "display_data"
    },
    {
     "data": {
      "text/html": [
       "<span style=\"color:#7E57C2\"><h2 style=\"font-size:16px\">Hyperparameters:</h2></span>"
      ],
      "text/plain": [
       "<IPython.core.display.HTML object>"
      ]
     },
     "metadata": {},
     "output_type": "display_data"
    },
    {
     "data": {
      "text/html": [
       "<span style=\"color:cyan\"> |-rate_1: 0.30000000000000004</span>"
      ],
      "text/plain": [
       "<IPython.core.display.HTML object>"
      ]
     },
     "metadata": {},
     "output_type": "display_data"
    },
    {
     "data": {
      "text/html": [
       "<span style=\"color:blue\"> |-rate_2: 0.4000000000000001</span>"
      ],
      "text/plain": [
       "<IPython.core.display.HTML object>"
      ]
     },
     "metadata": {},
     "output_type": "display_data"
    },
    {
     "data": {
      "text/html": [
       "<span style=\"color:cyan\"> |-tuner/bracket: 1</span>"
      ],
      "text/plain": [
       "<IPython.core.display.HTML object>"
      ]
     },
     "metadata": {},
     "output_type": "display_data"
    },
    {
     "data": {
      "text/html": [
       "<span style=\"color:blue\"> |-tuner/epochs: 20</span>"
      ],
      "text/plain": [
       "<IPython.core.display.HTML object>"
      ]
     },
     "metadata": {},
     "output_type": "display_data"
    },
    {
     "data": {
      "text/html": [
       "<span style=\"color:cyan\"> |-tuner/initial_epoch: 7</span>"
      ],
      "text/plain": [
       "<IPython.core.display.HTML object>"
      ]
     },
     "metadata": {},
     "output_type": "display_data"
    },
    {
     "data": {
      "text/html": [
       "<span style=\"color:blue\"> |-tuner/round: 1</span>"
      ],
      "text/plain": [
       "<IPython.core.display.HTML object>"
      ]
     },
     "metadata": {},
     "output_type": "display_data"
    },
    {
     "data": {
      "text/html": [
       "<span style=\"color:cyan\"> |-tuner/trial_id: 10f22bb2d692c8ead0f92ac12fe1980d</span>"
      ],
      "text/plain": [
       "<IPython.core.display.HTML object>"
      ]
     },
     "metadata": {},
     "output_type": "display_data"
    },
    {
     "data": {
      "text/html": [
       "<span style=\"color:blue\"> |-units_1: 54</span>"
      ],
      "text/plain": [
       "<IPython.core.display.HTML object>"
      ]
     },
     "metadata": {},
     "output_type": "display_data"
    },
    {
     "data": {
      "text/html": [
       "<span style=\"color:cyan\"> |-units_2: 34</span>"
      ],
      "text/plain": [
       "<IPython.core.display.HTML object>"
      ]
     },
     "metadata": {},
     "output_type": "display_data"
    },
    {
     "name": "stdout",
     "output_type": "stream",
     "text": [
      "Train on 69531 samples, validate on 23177 samples\n",
      "Epoch 1/20\n",
      "69531/69531 [==============================] - ETA: 2:18 - loss: 0.7229 - accuracy: 0.50 - ETA: 16s - loss: 0.6766 - accuracy: 0.5022 - ETA: 9s - loss: 0.6426 - accuracy: 0.536 - ETA: 6s - loss: 0.6166 - accuracy: 0.57 - ETA: 5s - loss: 0.5918 - accuracy: 0.62 - ETA: 4s - loss: 0.5714 - accuracy: 0.65 - ETA: 3s - loss: 0.5534 - accuracy: 0.68 - ETA: 3s - loss: 0.5327 - accuracy: 0.70 - ETA: 2s - loss: 0.5112 - accuracy: 0.72 - ETA: 2s - loss: 0.4929 - accuracy: 0.74 - ETA: 2s - loss: 0.4769 - accuracy: 0.75 - ETA: 2s - loss: 0.4596 - accuracy: 0.76 - ETA: 2s - loss: 0.4425 - accuracy: 0.78 - ETA: 1s - loss: 0.4268 - accuracy: 0.79 - ETA: 1s - loss: 0.4141 - accuracy: 0.79 - ETA: 1s - loss: 0.4029 - accuracy: 0.80 - ETA: 1s - loss: 0.3893 - accuracy: 0.81 - ETA: 1s - loss: 0.3781 - accuracy: 0.82 - ETA: 1s - loss: 0.3683 - accuracy: 0.82 - ETA: 1s - loss: 0.3600 - accuracy: 0.83 - ETA: 1s - loss: 0.3516 - accuracy: 0.83 - ETA: 0s - loss: 0.3445 - accuracy: 0.84 - ETA: 0s - loss: 0.3370 - accuracy: 0.84 - ETA: 0s - loss: 0.3302 - accuracy: 0.84 - ETA: 0s - loss: 0.3227 - accuracy: 0.85 - ETA: 0s - loss: 0.3155 - accuracy: 0.85 - ETA: 0s - loss: 0.3104 - accuracy: 0.85 - ETA: 0s - loss: 0.3055 - accuracy: 0.86 - ETA: 0s - loss: 0.3005 - accuracy: 0.86 - ETA: 0s - loss: 0.2962 - accuracy: 0.86 - ETA: 0s - loss: 0.2917 - accuracy: 0.87 - ETA: 0s - loss: 0.2878 - accuracy: 0.87 - ETA: 0s - loss: 0.2836 - accuracy: 0.87 - 3s 37us/sample - loss: 0.2791 - accuracy: 0.8772 - val_loss: 0.1308 - val_accuracy: 0.9518\n",
      "Epoch 2/20\n",
      "69531/69531 [==============================] - ETA: 1s - loss: 0.1699 - accuracy: 0.93 - ETA: 1s - loss: 0.1383 - accuracy: 0.94 - ETA: 1s - loss: 0.1391 - accuracy: 0.94 - ETA: 1s - loss: 0.1425 - accuracy: 0.94 - ETA: 1s - loss: 0.1454 - accuracy: 0.94 - ETA: 1s - loss: 0.1500 - accuracy: 0.94 - ETA: 1s - loss: 0.1516 - accuracy: 0.94 - ETA: 1s - loss: 0.1507 - accuracy: 0.94 - ETA: 1s - loss: 0.1526 - accuracy: 0.94 - ETA: 1s - loss: 0.1521 - accuracy: 0.94 - ETA: 1s - loss: 0.1528 - accuracy: 0.94 - ETA: 1s - loss: 0.1535 - accuracy: 0.94 - ETA: 1s - loss: 0.1523 - accuracy: 0.94 - ETA: 1s - loss: 0.1520 - accuracy: 0.94 - ETA: 0s - loss: 0.1508 - accuracy: 0.94 - ETA: 0s - loss: 0.1511 - accuracy: 0.94 - ETA: 0s - loss: 0.1500 - accuracy: 0.94 - ETA: 0s - loss: 0.1493 - accuracy: 0.94 - ETA: 0s - loss: 0.1492 - accuracy: 0.94 - ETA: 0s - loss: 0.1493 - accuracy: 0.94 - ETA: 0s - loss: 0.1504 - accuracy: 0.94 - ETA: 0s - loss: 0.1503 - accuracy: 0.94 - ETA: 0s - loss: 0.1507 - accuracy: 0.94 - ETA: 0s - loss: 0.1503 - accuracy: 0.94 - ETA: 0s - loss: 0.1495 - accuracy: 0.94 - ETA: 0s - loss: 0.1490 - accuracy: 0.94 - ETA: 0s - loss: 0.1486 - accuracy: 0.94 - ETA: 0s - loss: 0.1485 - accuracy: 0.94 - ETA: 0s - loss: 0.1477 - accuracy: 0.94 - ETA: 0s - loss: 0.1470 - accuracy: 0.94 - ETA: 0s - loss: 0.1467 - accuracy: 0.94 - ETA: 0s - loss: 0.1461 - accuracy: 0.94 - ETA: 0s - loss: 0.1460 - accuracy: 0.94 - 2s 28us/sample - loss: 0.1458 - accuracy: 0.9484 - val_loss: 0.1227 - val_accuracy: 0.9538\n",
      "Epoch 3/20\n",
      "69531/69531 [==============================] - ETA: 1s - loss: 0.1633 - accuracy: 0.94 - ETA: 1s - loss: 0.1476 - accuracy: 0.95 - ETA: 1s - loss: 0.1512 - accuracy: 0.94 - ETA: 1s - loss: 0.1526 - accuracy: 0.94 - ETA: 1s - loss: 0.1508 - accuracy: 0.94 - ETA: 1s - loss: 0.1480 - accuracy: 0.94 - ETA: 1s - loss: 0.1429 - accuracy: 0.95 - ETA: 1s - loss: 0.1404 - accuracy: 0.95 - ETA: 1s - loss: 0.1432 - accuracy: 0.95 - ETA: 1s - loss: 0.1433 - accuracy: 0.95 - ETA: 1s - loss: 0.1455 - accuracy: 0.95 - ETA: 1s - loss: 0.1441 - accuracy: 0.95 - ETA: 1s - loss: 0.1431 - accuracy: 0.95 - ETA: 1s - loss: 0.1421 - accuracy: 0.95 - ETA: 1s - loss: 0.1412 - accuracy: 0.95 - ETA: 0s - loss: 0.1399 - accuracy: 0.95 - ETA: 0s - loss: 0.1401 - accuracy: 0.95 - ETA: 0s - loss: 0.1398 - accuracy: 0.95 - ETA: 0s - loss: 0.1410 - accuracy: 0.95 - ETA: 0s - loss: 0.1412 - accuracy: 0.95 - ETA: 0s - loss: 0.1416 - accuracy: 0.95 - ETA: 0s - loss: 0.1404 - accuracy: 0.95 - ETA: 0s - loss: 0.1397 - accuracy: 0.95 - ETA: 0s - loss: 0.1392 - accuracy: 0.95 - ETA: 0s - loss: 0.1390 - accuracy: 0.95 - ETA: 0s - loss: 0.1392 - accuracy: 0.95 - ETA: 0s - loss: 0.1386 - accuracy: 0.95 - ETA: 0s - loss: 0.1379 - accuracy: 0.95 - ETA: 0s - loss: 0.1373 - accuracy: 0.95 - ETA: 0s - loss: 0.1372 - accuracy: 0.95 - ETA: 0s - loss: 0.1368 - accuracy: 0.95 - ETA: 0s - loss: 0.1368 - accuracy: 0.95 - ETA: 0s - loss: 0.1363 - accuracy: 0.95 - 2s 28us/sample - loss: 0.1362 - accuracy: 0.9532 - val_loss: 0.1193 - val_accuracy: 0.9562\n",
      "Epoch 4/20\n",
      "69531/69531 [==============================] - ETA: 1s - loss: 0.1025 - accuracy: 0.97 - ETA: 1s - loss: 0.1242 - accuracy: 0.95 - ETA: 1s - loss: 0.1225 - accuracy: 0.95 - ETA: 1s - loss: 0.1257 - accuracy: 0.95 - ETA: 1s - loss: 0.1311 - accuracy: 0.95 - ETA: 1s - loss: 0.1339 - accuracy: 0.95 - ETA: 1s - loss: 0.1319 - accuracy: 0.95 - ETA: 1s - loss: 0.1306 - accuracy: 0.95 - ETA: 1s - loss: 0.1311 - accuracy: 0.95 - ETA: 1s - loss: 0.1308 - accuracy: 0.95 - ETA: 1s - loss: 0.1301 - accuracy: 0.95 - ETA: 1s - loss: 0.1309 - accuracy: 0.95 - ETA: 1s - loss: 0.1297 - accuracy: 0.95 - ETA: 0s - loss: 0.1296 - accuracy: 0.95 - ETA: 0s - loss: 0.1299 - accuracy: 0.95 - ETA: 0s - loss: 0.1297 - accuracy: 0.95 - ETA: 0s - loss: 0.1300 - accuracy: 0.95 - ETA: 0s - loss: 0.1294 - accuracy: 0.95 - ETA: 0s - loss: 0.1298 - accuracy: 0.95 - ETA: 0s - loss: 0.1302 - accuracy: 0.95 - ETA: 0s - loss: 0.1293 - accuracy: 0.95 - ETA: 0s - loss: 0.1296 - accuracy: 0.95 - ETA: 0s - loss: 0.1294 - accuracy: 0.95 - ETA: 0s - loss: 0.1295 - accuracy: 0.95 - ETA: 0s - loss: 0.1289 - accuracy: 0.95 - ETA: 0s - loss: 0.1287 - accuracy: 0.95 - ETA: 0s - loss: 0.1289 - accuracy: 0.95 - ETA: 0s - loss: 0.1288 - accuracy: 0.95 - ETA: 0s - loss: 0.1292 - accuracy: 0.95 - ETA: 0s - loss: 0.1287 - accuracy: 0.95 - ETA: 0s - loss: 0.1288 - accuracy: 0.95 - ETA: 0s - loss: 0.1286 - accuracy: 0.95 - ETA: 0s - loss: 0.1283 - accuracy: 0.95 - 2s 28us/sample - loss: 0.1280 - accuracy: 0.9548 - val_loss: 0.1170 - val_accuracy: 0.9569\n",
      "Epoch 5/20\n",
      "69531/69531 [==============================] - ETA: 1s - loss: 0.0788 - accuracy: 0.97 - ETA: 1s - loss: 0.1194 - accuracy: 0.95 - ETA: 1s - loss: 0.1198 - accuracy: 0.95 - ETA: 1s - loss: 0.1225 - accuracy: 0.95 - ETA: 1s - loss: 0.1236 - accuracy: 0.95 - ETA: 1s - loss: 0.1243 - accuracy: 0.95 - ETA: 1s - loss: 0.1240 - accuracy: 0.95 - ETA: 1s - loss: 0.1237 - accuracy: 0.95 - ETA: 1s - loss: 0.1239 - accuracy: 0.95 - ETA: 1s - loss: 0.1250 - accuracy: 0.95 - ETA: 1s - loss: 0.1246 - accuracy: 0.95 - ETA: 1s - loss: 0.1251 - accuracy: 0.95 - ETA: 1s - loss: 0.1251 - accuracy: 0.95 - ETA: 1s - loss: 0.1236 - accuracy: 0.95 - ETA: 0s - loss: 0.1252 - accuracy: 0.95 - ETA: 0s - loss: 0.1254 - accuracy: 0.95 - ETA: 0s - loss: 0.1259 - accuracy: 0.95 - ETA: 0s - loss: 0.1256 - accuracy: 0.95 - ETA: 0s - loss: 0.1265 - accuracy: 0.95 - ETA: 0s - loss: 0.1260 - accuracy: 0.95 - ETA: 0s - loss: 0.1251 - accuracy: 0.95 - ETA: 0s - loss: 0.1252 - accuracy: 0.95 - ETA: 0s - loss: 0.1252 - accuracy: 0.95 - ETA: 0s - loss: 0.1250 - accuracy: 0.95 - ETA: 0s - loss: 0.1251 - accuracy: 0.95 - ETA: 0s - loss: 0.1248 - accuracy: 0.95 - ETA: 0s - loss: 0.1254 - accuracy: 0.95 - ETA: 0s - loss: 0.1253 - accuracy: 0.95 - ETA: 0s - loss: 0.1252 - accuracy: 0.95 - ETA: 0s - loss: 0.1249 - accuracy: 0.95 - ETA: 0s - loss: 0.1251 - accuracy: 0.95 - ETA: 0s - loss: 0.1245 - accuracy: 0.95 - ETA: 0s - loss: 0.1243 - accuracy: 0.95 - 2s 28us/sample - loss: 0.1244 - accuracy: 0.9568 - val_loss: 0.1151 - val_accuracy: 0.9581\n",
      "Epoch 6/20\n"
     ]
    },
    {
     "name": "stdout",
     "output_type": "stream",
     "text": [
      "69531/69531 [==============================] - ETA: 1s - loss: 0.1270 - accuracy: 0.95 - ETA: 1s - loss: 0.1162 - accuracy: 0.96 - ETA: 1s - loss: 0.1175 - accuracy: 0.96 - ETA: 1s - loss: 0.1210 - accuracy: 0.95 - ETA: 1s - loss: 0.1267 - accuracy: 0.95 - ETA: 1s - loss: 0.1235 - accuracy: 0.95 - ETA: 1s - loss: 0.1240 - accuracy: 0.95 - ETA: 1s - loss: 0.1210 - accuracy: 0.95 - ETA: 1s - loss: 0.1211 - accuracy: 0.95 - ETA: 1s - loss: 0.1221 - accuracy: 0.95 - ETA: 1s - loss: 0.1215 - accuracy: 0.95 - ETA: 1s - loss: 0.1216 - accuracy: 0.95 - ETA: 1s - loss: 0.1215 - accuracy: 0.95 - ETA: 1s - loss: 0.1222 - accuracy: 0.95 - ETA: 0s - loss: 0.1205 - accuracy: 0.95 - ETA: 0s - loss: 0.1206 - accuracy: 0.95 - ETA: 0s - loss: 0.1205 - accuracy: 0.95 - ETA: 0s - loss: 0.1212 - accuracy: 0.95 - ETA: 0s - loss: 0.1213 - accuracy: 0.95 - ETA: 0s - loss: 0.1213 - accuracy: 0.95 - ETA: 0s - loss: 0.1220 - accuracy: 0.95 - ETA: 0s - loss: 0.1222 - accuracy: 0.95 - ETA: 0s - loss: 0.1223 - accuracy: 0.95 - ETA: 0s - loss: 0.1227 - accuracy: 0.95 - ETA: 0s - loss: 0.1227 - accuracy: 0.95 - ETA: 0s - loss: 0.1225 - accuracy: 0.95 - ETA: 0s - loss: 0.1222 - accuracy: 0.95 - ETA: 0s - loss: 0.1219 - accuracy: 0.95 - ETA: 0s - loss: 0.1220 - accuracy: 0.95 - ETA: 0s - loss: 0.1219 - accuracy: 0.95 - ETA: 0s - loss: 0.1221 - accuracy: 0.95 - ETA: 0s - loss: 0.1222 - accuracy: 0.95 - ETA: 0s - loss: 0.1221 - accuracy: 0.95 - 2s 28us/sample - loss: 0.1219 - accuracy: 0.9574 - val_loss: 0.1136 - val_accuracy: 0.9584\n",
      "Epoch 7/20\n",
      "69531/69531 [==============================] - ETA: 1s - loss: 0.1720 - accuracy: 0.94 - ETA: 1s - loss: 0.1119 - accuracy: 0.96 - ETA: 1s - loss: 0.1216 - accuracy: 0.95 - ETA: 1s - loss: 0.1180 - accuracy: 0.95 - ETA: 1s - loss: 0.1153 - accuracy: 0.95 - ETA: 1s - loss: 0.1150 - accuracy: 0.96 - ETA: 1s - loss: 0.1160 - accuracy: 0.96 - ETA: 1s - loss: 0.1167 - accuracy: 0.95 - ETA: 1s - loss: 0.1181 - accuracy: 0.95 - ETA: 1s - loss: 0.1173 - accuracy: 0.95 - ETA: 1s - loss: 0.1177 - accuracy: 0.95 - ETA: 1s - loss: 0.1164 - accuracy: 0.95 - ETA: 1s - loss: 0.1171 - accuracy: 0.95 - ETA: 1s - loss: 0.1174 - accuracy: 0.95 - ETA: 0s - loss: 0.1181 - accuracy: 0.95 - ETA: 0s - loss: 0.1181 - accuracy: 0.95 - ETA: 0s - loss: 0.1178 - accuracy: 0.95 - ETA: 0s - loss: 0.1179 - accuracy: 0.95 - ETA: 0s - loss: 0.1181 - accuracy: 0.95 - ETA: 0s - loss: 0.1194 - accuracy: 0.95 - ETA: 0s - loss: 0.1187 - accuracy: 0.95 - ETA: 0s - loss: 0.1184 - accuracy: 0.95 - ETA: 0s - loss: 0.1184 - accuracy: 0.95 - ETA: 0s - loss: 0.1184 - accuracy: 0.95 - ETA: 0s - loss: 0.1181 - accuracy: 0.95 - ETA: 0s - loss: 0.1190 - accuracy: 0.95 - ETA: 0s - loss: 0.1188 - accuracy: 0.95 - ETA: 0s - loss: 0.1186 - accuracy: 0.95 - ETA: 0s - loss: 0.1185 - accuracy: 0.95 - ETA: 0s - loss: 0.1186 - accuracy: 0.95 - ETA: 0s - loss: 0.1190 - accuracy: 0.95 - ETA: 0s - loss: 0.1193 - accuracy: 0.95 - ETA: 0s - loss: 0.1193 - accuracy: 0.95 - 2s 28us/sample - loss: 0.1193 - accuracy: 0.9580 - val_loss: 0.1122 - val_accuracy: 0.9590\n",
      "Epoch 8/20\n",
      "69531/69531 [==============================] - ETA: 1s - loss: 0.0941 - accuracy: 0.96 - ETA: 1s - loss: 0.1127 - accuracy: 0.96 - ETA: 1s - loss: 0.1189 - accuracy: 0.95 - ETA: 1s - loss: 0.1137 - accuracy: 0.96 - ETA: 1s - loss: 0.1127 - accuracy: 0.95 - ETA: 1s - loss: 0.1134 - accuracy: 0.95 - ETA: 1s - loss: 0.1127 - accuracy: 0.95 - ETA: 1s - loss: 0.1127 - accuracy: 0.95 - ETA: 1s - loss: 0.1142 - accuracy: 0.95 - ETA: 1s - loss: 0.1170 - accuracy: 0.95 - ETA: 1s - loss: 0.1164 - accuracy: 0.95 - ETA: 1s - loss: 0.1163 - accuracy: 0.95 - ETA: 1s - loss: 0.1175 - accuracy: 0.95 - ETA: 1s - loss: 0.1172 - accuracy: 0.95 - ETA: 1s - loss: 0.1164 - accuracy: 0.95 - ETA: 0s - loss: 0.1154 - accuracy: 0.95 - ETA: 0s - loss: 0.1150 - accuracy: 0.95 - ETA: 0s - loss: 0.1163 - accuracy: 0.95 - ETA: 0s - loss: 0.1164 - accuracy: 0.95 - ETA: 0s - loss: 0.1169 - accuracy: 0.95 - ETA: 0s - loss: 0.1166 - accuracy: 0.95 - ETA: 0s - loss: 0.1158 - accuracy: 0.95 - ETA: 0s - loss: 0.1159 - accuracy: 0.95 - ETA: 0s - loss: 0.1165 - accuracy: 0.95 - ETA: 0s - loss: 0.1171 - accuracy: 0.95 - ETA: 0s - loss: 0.1176 - accuracy: 0.95 - ETA: 0s - loss: 0.1178 - accuracy: 0.95 - ETA: 0s - loss: 0.1179 - accuracy: 0.95 - ETA: 0s - loss: 0.1178 - accuracy: 0.95 - ETA: 0s - loss: 0.1173 - accuracy: 0.95 - ETA: 0s - loss: 0.1173 - accuracy: 0.95 - ETA: 0s - loss: 0.1177 - accuracy: 0.95 - ETA: 0s - loss: 0.1177 - accuracy: 0.95 - 2s 28us/sample - loss: 0.1176 - accuracy: 0.9581 - val_loss: 0.1107 - val_accuracy: 0.9597\n",
      "Epoch 9/20\n",
      "69531/69531 [==============================] - ETA: 1s - loss: 0.1460 - accuracy: 0.93 - ETA: 1s - loss: 0.1461 - accuracy: 0.94 - ETA: 1s - loss: 0.1270 - accuracy: 0.95 - ETA: 1s - loss: 0.1264 - accuracy: 0.95 - ETA: 1s - loss: 0.1247 - accuracy: 0.95 - ETA: 1s - loss: 0.1228 - accuracy: 0.95 - ETA: 1s - loss: 0.1232 - accuracy: 0.95 - ETA: 1s - loss: 0.1236 - accuracy: 0.95 - ETA: 1s - loss: 0.1237 - accuracy: 0.95 - ETA: 1s - loss: 0.1223 - accuracy: 0.95 - ETA: 1s - loss: 0.1224 - accuracy: 0.95 - ETA: 1s - loss: 0.1209 - accuracy: 0.95 - ETA: 1s - loss: 0.1206 - accuracy: 0.95 - ETA: 1s - loss: 0.1198 - accuracy: 0.95 - ETA: 0s - loss: 0.1189 - accuracy: 0.95 - ETA: 0s - loss: 0.1191 - accuracy: 0.95 - ETA: 0s - loss: 0.1185 - accuracy: 0.95 - ETA: 0s - loss: 0.1176 - accuracy: 0.95 - ETA: 0s - loss: 0.1176 - accuracy: 0.95 - ETA: 0s - loss: 0.1178 - accuracy: 0.95 - ETA: 0s - loss: 0.1161 - accuracy: 0.95 - ETA: 0s - loss: 0.1165 - accuracy: 0.95 - ETA: 0s - loss: 0.1173 - accuracy: 0.95 - ETA: 0s - loss: 0.1173 - accuracy: 0.95 - ETA: 0s - loss: 0.1166 - accuracy: 0.95 - ETA: 0s - loss: 0.1170 - accuracy: 0.95 - ETA: 0s - loss: 0.1172 - accuracy: 0.95 - ETA: 0s - loss: 0.1172 - accuracy: 0.95 - ETA: 0s - loss: 0.1171 - accuracy: 0.95 - ETA: 0s - loss: 0.1166 - accuracy: 0.95 - ETA: 0s - loss: 0.1169 - accuracy: 0.95 - ETA: 0s - loss: 0.1170 - accuracy: 0.95 - ETA: 0s - loss: 0.1169 - accuracy: 0.95 - 2s 28us/sample - loss: 0.1171 - accuracy: 0.9580 - val_loss: 0.1100 - val_accuracy: 0.9598\n",
      "Epoch 10/20\n",
      "69531/69531 [==============================] - ETA: 1s - loss: 0.1371 - accuracy: 0.93 - ETA: 1s - loss: 0.1166 - accuracy: 0.95 - ETA: 1s - loss: 0.1151 - accuracy: 0.95 - ETA: 1s - loss: 0.1138 - accuracy: 0.95 - ETA: 1s - loss: 0.1124 - accuracy: 0.95 - ETA: 1s - loss: 0.1142 - accuracy: 0.96 - ETA: 1s - loss: 0.1149 - accuracy: 0.95 - ETA: 1s - loss: 0.1135 - accuracy: 0.96 - ETA: 1s - loss: 0.1131 - accuracy: 0.96 - ETA: 1s - loss: 0.1131 - accuracy: 0.96 - ETA: 1s - loss: 0.1157 - accuracy: 0.95 - ETA: 1s - loss: 0.1154 - accuracy: 0.95 - ETA: 1s - loss: 0.1154 - accuracy: 0.95 - ETA: 1s - loss: 0.1147 - accuracy: 0.95 - ETA: 1s - loss: 0.1157 - accuracy: 0.95 - ETA: 0s - loss: 0.1160 - accuracy: 0.95 - ETA: 0s - loss: 0.1153 - accuracy: 0.95 - ETA: 0s - loss: 0.1157 - accuracy: 0.95 - ETA: 0s - loss: 0.1147 - accuracy: 0.95 - ETA: 0s - loss: 0.1150 - accuracy: 0.95 - ETA: 0s - loss: 0.1144 - accuracy: 0.95 - ETA: 0s - loss: 0.1145 - accuracy: 0.95 - ETA: 0s - loss: 0.1147 - accuracy: 0.95 - ETA: 0s - loss: 0.1151 - accuracy: 0.95 - ETA: 0s - loss: 0.1151 - accuracy: 0.95 - ETA: 0s - loss: 0.1154 - accuracy: 0.95 - ETA: 0s - loss: 0.1151 - accuracy: 0.95 - ETA: 0s - loss: 0.1149 - accuracy: 0.95 - ETA: 0s - loss: 0.1142 - accuracy: 0.95 - ETA: 0s - loss: 0.1141 - accuracy: 0.95 - ETA: 0s - loss: 0.1145 - accuracy: 0.95 - ETA: 0s - loss: 0.1142 - accuracy: 0.95 - ETA: 0s - loss: 0.1148 - accuracy: 0.95 - ETA: 0s - loss: 0.1151 - accuracy: 0.95 - 2s 28us/sample - loss: 0.1152 - accuracy: 0.9590 - val_loss: 0.1100 - val_accuracy: 0.9603\n",
      "Epoch 11/20\n"
     ]
    },
    {
     "name": "stdout",
     "output_type": "stream",
     "text": [
      "69531/69531 [==============================] - ETA: 1s - loss: 0.1344 - accuracy: 0.95 - ETA: 1s - loss: 0.1199 - accuracy: 0.95 - ETA: 1s - loss: 0.1195 - accuracy: 0.95 - ETA: 1s - loss: 0.1212 - accuracy: 0.95 - ETA: 1s - loss: 0.1187 - accuracy: 0.95 - ETA: 1s - loss: 0.1201 - accuracy: 0.95 - ETA: 1s - loss: 0.1173 - accuracy: 0.95 - ETA: 1s - loss: 0.1186 - accuracy: 0.95 - ETA: 1s - loss: 0.1175 - accuracy: 0.95 - ETA: 1s - loss: 0.1174 - accuracy: 0.95 - ETA: 1s - loss: 0.1156 - accuracy: 0.95 - ETA: 1s - loss: 0.1161 - accuracy: 0.95 - ETA: 1s - loss: 0.1163 - accuracy: 0.95 - ETA: 1s - loss: 0.1161 - accuracy: 0.95 - ETA: 0s - loss: 0.1157 - accuracy: 0.95 - ETA: 0s - loss: 0.1169 - accuracy: 0.95 - ETA: 0s - loss: 0.1155 - accuracy: 0.95 - ETA: 0s - loss: 0.1146 - accuracy: 0.95 - ETA: 0s - loss: 0.1144 - accuracy: 0.95 - ETA: 0s - loss: 0.1134 - accuracy: 0.95 - ETA: 0s - loss: 0.1135 - accuracy: 0.95 - ETA: 0s - loss: 0.1128 - accuracy: 0.95 - ETA: 0s - loss: 0.1139 - accuracy: 0.95 - ETA: 0s - loss: 0.1138 - accuracy: 0.95 - ETA: 0s - loss: 0.1134 - accuracy: 0.95 - ETA: 0s - loss: 0.1137 - accuracy: 0.95 - ETA: 0s - loss: 0.1139 - accuracy: 0.95 - ETA: 0s - loss: 0.1135 - accuracy: 0.95 - ETA: 0s - loss: 0.1129 - accuracy: 0.95 - ETA: 0s - loss: 0.1129 - accuracy: 0.95 - ETA: 0s - loss: 0.1133 - accuracy: 0.95 - ETA: 0s - loss: 0.1133 - accuracy: 0.95 - ETA: 0s - loss: 0.1136 - accuracy: 0.95 - 2s 27us/sample - loss: 0.1135 - accuracy: 0.9588 - val_loss: 0.1084 - val_accuracy: 0.9597\n",
      "Epoch 12/20\n",
      "69531/69531 [==============================] - ETA: 2s - loss: 0.0935 - accuracy: 0.96 - ETA: 1s - loss: 0.1097 - accuracy: 0.96 - ETA: 1s - loss: 0.1196 - accuracy: 0.95 - ETA: 1s - loss: 0.1146 - accuracy: 0.96 - ETA: 1s - loss: 0.1170 - accuracy: 0.95 - ETA: 1s - loss: 0.1135 - accuracy: 0.95 - ETA: 1s - loss: 0.1120 - accuracy: 0.96 - ETA: 1s - loss: 0.1129 - accuracy: 0.95 - ETA: 1s - loss: 0.1147 - accuracy: 0.95 - ETA: 1s - loss: 0.1136 - accuracy: 0.95 - ETA: 1s - loss: 0.1117 - accuracy: 0.96 - ETA: 1s - loss: 0.1119 - accuracy: 0.96 - ETA: 1s - loss: 0.1107 - accuracy: 0.96 - ETA: 1s - loss: 0.1115 - accuracy: 0.96 - ETA: 1s - loss: 0.1105 - accuracy: 0.96 - ETA: 0s - loss: 0.1120 - accuracy: 0.96 - ETA: 0s - loss: 0.1128 - accuracy: 0.96 - ETA: 0s - loss: 0.1128 - accuracy: 0.96 - ETA: 0s - loss: 0.1123 - accuracy: 0.96 - ETA: 0s - loss: 0.1123 - accuracy: 0.96 - ETA: 0s - loss: 0.1120 - accuracy: 0.96 - ETA: 0s - loss: 0.1120 - accuracy: 0.96 - ETA: 0s - loss: 0.1114 - accuracy: 0.96 - ETA: 0s - loss: 0.1111 - accuracy: 0.96 - ETA: 0s - loss: 0.1110 - accuracy: 0.96 - ETA: 0s - loss: 0.1114 - accuracy: 0.96 - ETA: 0s - loss: 0.1121 - accuracy: 0.95 - ETA: 0s - loss: 0.1118 - accuracy: 0.96 - ETA: 0s - loss: 0.1117 - accuracy: 0.96 - ETA: 0s - loss: 0.1113 - accuracy: 0.96 - ETA: 0s - loss: 0.1120 - accuracy: 0.96 - ETA: 0s - loss: 0.1127 - accuracy: 0.95 - ETA: 0s - loss: 0.1126 - accuracy: 0.95 - ETA: 0s - loss: 0.1122 - accuracy: 0.95 - 2s 28us/sample - loss: 0.1121 - accuracy: 0.9600 - val_loss: 0.1077 - val_accuracy: 0.9607\n",
      "Epoch 13/20\n",
      "69531/69531 [==============================] - ETA: 1s - loss: 0.0651 - accuracy: 0.98 - ETA: 1s - loss: 0.1053 - accuracy: 0.96 - ETA: 1s - loss: 0.1030 - accuracy: 0.96 - ETA: 1s - loss: 0.1123 - accuracy: 0.96 - ETA: 1s - loss: 0.1166 - accuracy: 0.95 - ETA: 1s - loss: 0.1145 - accuracy: 0.95 - ETA: 1s - loss: 0.1134 - accuracy: 0.95 - ETA: 1s - loss: 0.1128 - accuracy: 0.95 - ETA: 1s - loss: 0.1133 - accuracy: 0.95 - ETA: 1s - loss: 0.1122 - accuracy: 0.95 - ETA: 1s - loss: 0.1112 - accuracy: 0.96 - ETA: 1s - loss: 0.1100 - accuracy: 0.96 - ETA: 1s - loss: 0.1096 - accuracy: 0.96 - ETA: 1s - loss: 0.1105 - accuracy: 0.96 - ETA: 1s - loss: 0.1109 - accuracy: 0.96 - ETA: 0s - loss: 0.1113 - accuracy: 0.96 - ETA: 0s - loss: 0.1115 - accuracy: 0.96 - ETA: 0s - loss: 0.1109 - accuracy: 0.96 - ETA: 0s - loss: 0.1111 - accuracy: 0.96 - ETA: 0s - loss: 0.1114 - accuracy: 0.96 - ETA: 0s - loss: 0.1117 - accuracy: 0.96 - ETA: 0s - loss: 0.1114 - accuracy: 0.96 - ETA: 0s - loss: 0.1114 - accuracy: 0.96 - ETA: 0s - loss: 0.1115 - accuracy: 0.96 - ETA: 0s - loss: 0.1125 - accuracy: 0.96 - ETA: 0s - loss: 0.1123 - accuracy: 0.96 - ETA: 0s - loss: 0.1125 - accuracy: 0.96 - ETA: 0s - loss: 0.1122 - accuracy: 0.96 - ETA: 0s - loss: 0.1118 - accuracy: 0.96 - ETA: 0s - loss: 0.1120 - accuracy: 0.96 - ETA: 0s - loss: 0.1120 - accuracy: 0.96 - ETA: 0s - loss: 0.1122 - accuracy: 0.96 - ETA: 0s - loss: 0.1121 - accuracy: 0.96 - 2s 28us/sample - loss: 0.1121 - accuracy: 0.9603 - val_loss: 0.1072 - val_accuracy: 0.9604\n",
      "Epoch 14/20\n",
      "69531/69531 [==============================] - ETA: 1s - loss: 0.1064 - accuracy: 0.96 - ETA: 1s - loss: 0.1091 - accuracy: 0.95 - ETA: 1s - loss: 0.1085 - accuracy: 0.95 - ETA: 1s - loss: 0.1069 - accuracy: 0.96 - ETA: 1s - loss: 0.1060 - accuracy: 0.96 - ETA: 1s - loss: 0.1055 - accuracy: 0.96 - ETA: 1s - loss: 0.1076 - accuracy: 0.96 - ETA: 1s - loss: 0.1089 - accuracy: 0.96 - ETA: 1s - loss: 0.1107 - accuracy: 0.96 - ETA: 1s - loss: 0.1109 - accuracy: 0.96 - ETA: 1s - loss: 0.1125 - accuracy: 0.95 - ETA: 1s - loss: 0.1141 - accuracy: 0.95 - ETA: 1s - loss: 0.1136 - accuracy: 0.95 - ETA: 1s - loss: 0.1136 - accuracy: 0.95 - ETA: 0s - loss: 0.1133 - accuracy: 0.95 - ETA: 0s - loss: 0.1125 - accuracy: 0.96 - ETA: 0s - loss: 0.1129 - accuracy: 0.95 - ETA: 0s - loss: 0.1122 - accuracy: 0.96 - ETA: 0s - loss: 0.1118 - accuracy: 0.96 - ETA: 0s - loss: 0.1124 - accuracy: 0.96 - ETA: 0s - loss: 0.1118 - accuracy: 0.96 - ETA: 0s - loss: 0.1129 - accuracy: 0.95 - ETA: 0s - loss: 0.1124 - accuracy: 0.96 - ETA: 0s - loss: 0.1126 - accuracy: 0.95 - ETA: 0s - loss: 0.1120 - accuracy: 0.96 - ETA: 0s - loss: 0.1124 - accuracy: 0.96 - ETA: 0s - loss: 0.1121 - accuracy: 0.96 - ETA: 0s - loss: 0.1121 - accuracy: 0.96 - ETA: 0s - loss: 0.1120 - accuracy: 0.96 - ETA: 0s - loss: 0.1117 - accuracy: 0.96 - ETA: 0s - loss: 0.1115 - accuracy: 0.96 - ETA: 0s - loss: 0.1111 - accuracy: 0.96 - ETA: 0s - loss: 0.1114 - accuracy: 0.96 - 2s 28us/sample - loss: 0.1114 - accuracy: 0.9602 - val_loss: 0.1078 - val_accuracy: 0.9609\n",
      "Epoch 15/20\n",
      "69531/69531 [==============================] - ETA: 1s - loss: 0.0947 - accuracy: 0.96 - ETA: 1s - loss: 0.1063 - accuracy: 0.95 - ETA: 1s - loss: 0.1055 - accuracy: 0.96 - ETA: 1s - loss: 0.1076 - accuracy: 0.96 - ETA: 1s - loss: 0.1072 - accuracy: 0.96 - ETA: 1s - loss: 0.1078 - accuracy: 0.96 - ETA: 1s - loss: 0.1093 - accuracy: 0.96 - ETA: 1s - loss: 0.1108 - accuracy: 0.96 - ETA: 1s - loss: 0.1130 - accuracy: 0.95 - ETA: 1s - loss: 0.1138 - accuracy: 0.95 - ETA: 1s - loss: 0.1134 - accuracy: 0.95 - ETA: 1s - loss: 0.1134 - accuracy: 0.95 - ETA: 1s - loss: 0.1137 - accuracy: 0.95 - ETA: 1s - loss: 0.1126 - accuracy: 0.95 - ETA: 0s - loss: 0.1127 - accuracy: 0.95 - ETA: 0s - loss: 0.1121 - accuracy: 0.95 - ETA: 0s - loss: 0.1122 - accuracy: 0.95 - ETA: 0s - loss: 0.1122 - accuracy: 0.95 - ETA: 0s - loss: 0.1122 - accuracy: 0.95 - ETA: 0s - loss: 0.1126 - accuracy: 0.95 - ETA: 0s - loss: 0.1124 - accuracy: 0.95 - ETA: 0s - loss: 0.1123 - accuracy: 0.95 - ETA: 0s - loss: 0.1122 - accuracy: 0.95 - ETA: 0s - loss: 0.1123 - accuracy: 0.95 - ETA: 0s - loss: 0.1116 - accuracy: 0.95 - ETA: 0s - loss: 0.1116 - accuracy: 0.95 - ETA: 0s - loss: 0.1122 - accuracy: 0.95 - ETA: 0s - loss: 0.1129 - accuracy: 0.95 - ETA: 0s - loss: 0.1126 - accuracy: 0.95 - ETA: 0s - loss: 0.1123 - accuracy: 0.95 - ETA: 0s - loss: 0.1120 - accuracy: 0.95 - ETA: 0s - loss: 0.1122 - accuracy: 0.95 - ETA: 0s - loss: 0.1117 - accuracy: 0.95 - 2s 28us/sample - loss: 0.1112 - accuracy: 0.9598 - val_loss: 0.1068 - val_accuracy: 0.9613\n",
      "Epoch 16/20\n"
     ]
    },
    {
     "name": "stdout",
     "output_type": "stream",
     "text": [
      "69531/69531 [==============================] - ETA: 1s - loss: 0.1423 - accuracy: 0.93 - ETA: 1s - loss: 0.1204 - accuracy: 0.95 - ETA: 1s - loss: 0.1233 - accuracy: 0.95 - ETA: 1s - loss: 0.1173 - accuracy: 0.95 - ETA: 1s - loss: 0.1195 - accuracy: 0.95 - ETA: 1s - loss: 0.1174 - accuracy: 0.95 - ETA: 1s - loss: 0.1176 - accuracy: 0.95 - ETA: 1s - loss: 0.1156 - accuracy: 0.95 - ETA: 1s - loss: 0.1142 - accuracy: 0.95 - ETA: 1s - loss: 0.1136 - accuracy: 0.95 - ETA: 1s - loss: 0.1127 - accuracy: 0.95 - ETA: 1s - loss: 0.1125 - accuracy: 0.95 - ETA: 1s - loss: 0.1127 - accuracy: 0.95 - ETA: 1s - loss: 0.1139 - accuracy: 0.95 - ETA: 0s - loss: 0.1136 - accuracy: 0.95 - ETA: 0s - loss: 0.1133 - accuracy: 0.95 - ETA: 0s - loss: 0.1121 - accuracy: 0.95 - ETA: 0s - loss: 0.1116 - accuracy: 0.96 - ETA: 0s - loss: 0.1109 - accuracy: 0.96 - ETA: 0s - loss: 0.1110 - accuracy: 0.96 - ETA: 0s - loss: 0.1114 - accuracy: 0.96 - ETA: 0s - loss: 0.1106 - accuracy: 0.96 - ETA: 0s - loss: 0.1100 - accuracy: 0.96 - ETA: 0s - loss: 0.1101 - accuracy: 0.96 - ETA: 0s - loss: 0.1103 - accuracy: 0.96 - ETA: 0s - loss: 0.1103 - accuracy: 0.96 - ETA: 0s - loss: 0.1104 - accuracy: 0.96 - ETA: 0s - loss: 0.1105 - accuracy: 0.96 - ETA: 0s - loss: 0.1109 - accuracy: 0.96 - ETA: 0s - loss: 0.1112 - accuracy: 0.96 - ETA: 0s - loss: 0.1113 - accuracy: 0.96 - ETA: 0s - loss: 0.1112 - accuracy: 0.96 - ETA: 0s - loss: 0.1111 - accuracy: 0.96 - ETA: 0s - loss: 0.1115 - accuracy: 0.96 - 2s 28us/sample - loss: 0.1116 - accuracy: 0.9602 - val_loss: 0.1061 - val_accuracy: 0.9606\n",
      "Epoch 17/20\n",
      "69531/69531 [==============================] - ETA: 1s - loss: 0.0647 - accuracy: 0.98 - ETA: 1s - loss: 0.1067 - accuracy: 0.96 - ETA: 1s - loss: 0.1090 - accuracy: 0.96 - ETA: 1s - loss: 0.1095 - accuracy: 0.96 - ETA: 1s - loss: 0.1116 - accuracy: 0.95 - ETA: 1s - loss: 0.1145 - accuracy: 0.95 - ETA: 1s - loss: 0.1124 - accuracy: 0.95 - ETA: 1s - loss: 0.1116 - accuracy: 0.95 - ETA: 1s - loss: 0.1108 - accuracy: 0.96 - ETA: 1s - loss: 0.1126 - accuracy: 0.95 - ETA: 1s - loss: 0.1116 - accuracy: 0.96 - ETA: 1s - loss: 0.1117 - accuracy: 0.96 - ETA: 1s - loss: 0.1110 - accuracy: 0.96 - ETA: 1s - loss: 0.1102 - accuracy: 0.96 - ETA: 0s - loss: 0.1115 - accuracy: 0.96 - ETA: 0s - loss: 0.1122 - accuracy: 0.96 - ETA: 0s - loss: 0.1119 - accuracy: 0.96 - ETA: 0s - loss: 0.1124 - accuracy: 0.95 - ETA: 0s - loss: 0.1124 - accuracy: 0.95 - ETA: 0s - loss: 0.1112 - accuracy: 0.96 - ETA: 0s - loss: 0.1111 - accuracy: 0.96 - ETA: 0s - loss: 0.1106 - accuracy: 0.96 - ETA: 0s - loss: 0.1106 - accuracy: 0.96 - ETA: 0s - loss: 0.1098 - accuracy: 0.96 - ETA: 0s - loss: 0.1092 - accuracy: 0.96 - ETA: 0s - loss: 0.1087 - accuracy: 0.96 - ETA: 0s - loss: 0.1080 - accuracy: 0.96 - ETA: 0s - loss: 0.1077 - accuracy: 0.96 - ETA: 0s - loss: 0.1079 - accuracy: 0.96 - ETA: 0s - loss: 0.1086 - accuracy: 0.96 - ETA: 0s - loss: 0.1086 - accuracy: 0.96 - ETA: 0s - loss: 0.1097 - accuracy: 0.96 - ETA: 0s - loss: 0.1097 - accuracy: 0.96 - 2s 27us/sample - loss: 0.1099 - accuracy: 0.9604 - val_loss: 0.1060 - val_accuracy: 0.9608\n",
      "Epoch 18/20\n",
      "69531/69531 [==============================] - ETA: 1s - loss: 0.1047 - accuracy: 0.95 - ETA: 1s - loss: 0.0973 - accuracy: 0.96 - ETA: 1s - loss: 0.1002 - accuracy: 0.96 - ETA: 1s - loss: 0.1026 - accuracy: 0.96 - ETA: 1s - loss: 0.1058 - accuracy: 0.96 - ETA: 1s - loss: 0.1067 - accuracy: 0.96 - ETA: 1s - loss: 0.1092 - accuracy: 0.96 - ETA: 1s - loss: 0.1074 - accuracy: 0.96 - ETA: 1s - loss: 0.1075 - accuracy: 0.96 - ETA: 1s - loss: 0.1056 - accuracy: 0.96 - ETA: 1s - loss: 0.1061 - accuracy: 0.96 - ETA: 1s - loss: 0.1066 - accuracy: 0.96 - ETA: 1s - loss: 0.1087 - accuracy: 0.96 - ETA: 0s - loss: 0.1087 - accuracy: 0.96 - ETA: 0s - loss: 0.1092 - accuracy: 0.96 - ETA: 0s - loss: 0.1085 - accuracy: 0.96 - ETA: 0s - loss: 0.1091 - accuracy: 0.96 - ETA: 0s - loss: 0.1093 - accuracy: 0.96 - ETA: 0s - loss: 0.1097 - accuracy: 0.96 - ETA: 0s - loss: 0.1093 - accuracy: 0.96 - ETA: 0s - loss: 0.1090 - accuracy: 0.96 - ETA: 0s - loss: 0.1085 - accuracy: 0.96 - ETA: 0s - loss: 0.1085 - accuracy: 0.96 - ETA: 0s - loss: 0.1084 - accuracy: 0.96 - ETA: 0s - loss: 0.1088 - accuracy: 0.96 - ETA: 0s - loss: 0.1087 - accuracy: 0.96 - ETA: 0s - loss: 0.1092 - accuracy: 0.96 - ETA: 0s - loss: 0.1090 - accuracy: 0.96 - ETA: 0s - loss: 0.1093 - accuracy: 0.96 - ETA: 0s - loss: 0.1094 - accuracy: 0.96 - ETA: 0s - loss: 0.1094 - accuracy: 0.96 - ETA: 0s - loss: 0.1092 - accuracy: 0.96 - ETA: 0s - loss: 0.1091 - accuracy: 0.96 - 2s 28us/sample - loss: 0.1093 - accuracy: 0.9608 - val_loss: 0.1057 - val_accuracy: 0.9618\n",
      "Epoch 19/20\n",
      "69531/69531 [==============================] - ETA: 1s - loss: 0.0771 - accuracy: 0.96 - ETA: 1s - loss: 0.1124 - accuracy: 0.95 - ETA: 1s - loss: 0.1107 - accuracy: 0.96 - ETA: 1s - loss: 0.1100 - accuracy: 0.96 - ETA: 1s - loss: 0.1069 - accuracy: 0.96 - ETA: 1s - loss: 0.1065 - accuracy: 0.96 - ETA: 1s - loss: 0.1054 - accuracy: 0.96 - ETA: 1s - loss: 0.1059 - accuracy: 0.96 - ETA: 1s - loss: 0.1050 - accuracy: 0.96 - ETA: 1s - loss: 0.1060 - accuracy: 0.96 - ETA: 1s - loss: 0.1084 - accuracy: 0.96 - ETA: 1s - loss: 0.1089 - accuracy: 0.96 - ETA: 1s - loss: 0.1101 - accuracy: 0.96 - ETA: 1s - loss: 0.1105 - accuracy: 0.96 - ETA: 0s - loss: 0.1112 - accuracy: 0.96 - ETA: 0s - loss: 0.1111 - accuracy: 0.96 - ETA: 0s - loss: 0.1119 - accuracy: 0.96 - ETA: 0s - loss: 0.1111 - accuracy: 0.96 - ETA: 0s - loss: 0.1113 - accuracy: 0.96 - ETA: 0s - loss: 0.1105 - accuracy: 0.96 - ETA: 0s - loss: 0.1108 - accuracy: 0.96 - ETA: 0s - loss: 0.1103 - accuracy: 0.96 - ETA: 0s - loss: 0.1105 - accuracy: 0.96 - ETA: 0s - loss: 0.1107 - accuracy: 0.96 - ETA: 0s - loss: 0.1105 - accuracy: 0.96 - ETA: 0s - loss: 0.1102 - accuracy: 0.96 - ETA: 0s - loss: 0.1102 - accuracy: 0.96 - ETA: 0s - loss: 0.1098 - accuracy: 0.96 - ETA: 0s - loss: 0.1098 - accuracy: 0.96 - ETA: 0s - loss: 0.1099 - accuracy: 0.96 - ETA: 0s - loss: 0.1098 - accuracy: 0.96 - ETA: 0s - loss: 0.1097 - accuracy: 0.96 - ETA: 0s - loss: 0.1095 - accuracy: 0.96 - 2s 27us/sample - loss: 0.1096 - accuracy: 0.9606 - val_loss: 0.1055 - val_accuracy: 0.9613\n",
      "Epoch 20/20\n",
      "69531/69531 [==============================] - ETA: 1s - loss: 0.0799 - accuracy: 0.97 - ETA: 1s - loss: 0.0973 - accuracy: 0.96 - ETA: 1s - loss: 0.0956 - accuracy: 0.96 - ETA: 1s - loss: 0.0943 - accuracy: 0.96 - ETA: 1s - loss: 0.0980 - accuracy: 0.96 - ETA: 1s - loss: 0.0987 - accuracy: 0.96 - ETA: 1s - loss: 0.1027 - accuracy: 0.96 - ETA: 1s - loss: 0.1041 - accuracy: 0.96 - ETA: 1s - loss: 0.1042 - accuracy: 0.96 - ETA: 1s - loss: 0.1051 - accuracy: 0.96 - ETA: 1s - loss: 0.1067 - accuracy: 0.96 - ETA: 1s - loss: 0.1067 - accuracy: 0.96 - ETA: 1s - loss: 0.1059 - accuracy: 0.96 - ETA: 1s - loss: 0.1058 - accuracy: 0.96 - ETA: 0s - loss: 0.1068 - accuracy: 0.96 - ETA: 0s - loss: 0.1073 - accuracy: 0.96 - ETA: 0s - loss: 0.1083 - accuracy: 0.96 - ETA: 0s - loss: 0.1078 - accuracy: 0.96 - ETA: 0s - loss: 0.1079 - accuracy: 0.96 - ETA: 0s - loss: 0.1075 - accuracy: 0.96 - ETA: 0s - loss: 0.1086 - accuracy: 0.96 - ETA: 0s - loss: 0.1082 - accuracy: 0.96 - ETA: 0s - loss: 0.1089 - accuracy: 0.96 - ETA: 0s - loss: 0.1093 - accuracy: 0.96 - ETA: 0s - loss: 0.1094 - accuracy: 0.96 - ETA: 0s - loss: 0.1093 - accuracy: 0.96 - ETA: 0s - loss: 0.1094 - accuracy: 0.96 - ETA: 0s - loss: 0.1093 - accuracy: 0.96 - ETA: 0s - loss: 0.1095 - accuracy: 0.96 - ETA: 0s - loss: 0.1096 - accuracy: 0.96 - ETA: 0s - loss: 0.1095 - accuracy: 0.96 - ETA: 0s - loss: 0.1095 - accuracy: 0.96 - ETA: 0s - loss: 0.1096 - accuracy: 0.96 - 2s 27us/sample - loss: 0.1093 - accuracy: 0.9614 - val_loss: 0.1057 - val_accuracy: 0.9615\n"
     ]
    },
    {
     "data": {
      "text/html": [
       "<span style=\"color:#4527A0\"><h1 style=\"font-size:18px\">Trial complete</h1></span>"
      ],
      "text/plain": [
       "<IPython.core.display.HTML object>"
      ]
     },
     "metadata": {},
     "output_type": "display_data"
    },
    {
     "data": {
      "text/html": [
       "<span style=\"color:#4527A0\"><h1 style=\"font-size:18px\">Trial summary</h1></span>"
      ],
      "text/plain": [
       "<IPython.core.display.HTML object>"
      ]
     },
     "metadata": {},
     "output_type": "display_data"
    },
    {
     "data": {
      "text/html": [
       "<span style=\"color:cyan\"> |-Trial ID: c911d966469089fb50c71c6516eca10c</span>"
      ],
      "text/plain": [
       "<IPython.core.display.HTML object>"
      ]
     },
     "metadata": {},
     "output_type": "display_data"
    },
    {
     "data": {
      "text/html": [
       "<span style=\"color:cyan\"> |-Score: 0.961815595626831</span>"
      ],
      "text/plain": [
       "<IPython.core.display.HTML object>"
      ]
     },
     "metadata": {},
     "output_type": "display_data"
    },
    {
     "data": {
      "text/html": [
       "<span style=\"color:cyan\"> |-Best step: 0</span>"
      ],
      "text/plain": [
       "<IPython.core.display.HTML object>"
      ]
     },
     "metadata": {},
     "output_type": "display_data"
    },
    {
     "data": {
      "text/html": [
       "<span style=\"color:#7E57C2\"><h2 style=\"font-size:16px\">Hyperparameters:</h2></span>"
      ],
      "text/plain": [
       "<IPython.core.display.HTML object>"
      ]
     },
     "metadata": {},
     "output_type": "display_data"
    },
    {
     "data": {
      "text/html": [
       "<span style=\"color:cyan\"> |-rate_1: 0.30000000000000004</span>"
      ],
      "text/plain": [
       "<IPython.core.display.HTML object>"
      ]
     },
     "metadata": {},
     "output_type": "display_data"
    },
    {
     "data": {
      "text/html": [
       "<span style=\"color:blue\"> |-rate_2: 0.30000000000000004</span>"
      ],
      "text/plain": [
       "<IPython.core.display.HTML object>"
      ]
     },
     "metadata": {},
     "output_type": "display_data"
    },
    {
     "data": {
      "text/html": [
       "<span style=\"color:cyan\"> |-tuner/bracket: 0</span>"
      ],
      "text/plain": [
       "<IPython.core.display.HTML object>"
      ]
     },
     "metadata": {},
     "output_type": "display_data"
    },
    {
     "data": {
      "text/html": [
       "<span style=\"color:blue\"> |-tuner/epochs: 20</span>"
      ],
      "text/plain": [
       "<IPython.core.display.HTML object>"
      ]
     },
     "metadata": {},
     "output_type": "display_data"
    },
    {
     "data": {
      "text/html": [
       "<span style=\"color:cyan\"> |-tuner/initial_epoch: 0</span>"
      ],
      "text/plain": [
       "<IPython.core.display.HTML object>"
      ]
     },
     "metadata": {},
     "output_type": "display_data"
    },
    {
     "data": {
      "text/html": [
       "<span style=\"color:blue\"> |-tuner/round: 0</span>"
      ],
      "text/plain": [
       "<IPython.core.display.HTML object>"
      ]
     },
     "metadata": {},
     "output_type": "display_data"
    },
    {
     "data": {
      "text/html": [
       "<span style=\"color:cyan\"> |-units_1: 26</span>"
      ],
      "text/plain": [
       "<IPython.core.display.HTML object>"
      ]
     },
     "metadata": {},
     "output_type": "display_data"
    },
    {
     "data": {
      "text/html": [
       "<span style=\"color:blue\"> |-units_2: 50</span>"
      ],
      "text/plain": [
       "<IPython.core.display.HTML object>"
      ]
     },
     "metadata": {},
     "output_type": "display_data"
    },
    {
     "name": "stdout",
     "output_type": "stream",
     "text": [
      "Train on 69531 samples, validate on 23177 samples\n",
      "Epoch 1/20\n",
      "69531/69531 [==============================] - ETA: 2:17 - loss: 0.6054 - accuracy: 0.58 - ETA: 16s - loss: 0.5675 - accuracy: 0.6484 - ETA: 9s - loss: 0.5220 - accuracy: 0.719 - ETA: 6s - loss: 0.4785 - accuracy: 0.77 - ETA: 5s - loss: 0.4454 - accuracy: 0.80 - ETA: 4s - loss: 0.4153 - accuracy: 0.82 - ETA: 3s - loss: 0.3891 - accuracy: 0.83 - ETA: 3s - loss: 0.3660 - accuracy: 0.85 - ETA: 2s - loss: 0.3467 - accuracy: 0.86 - ETA: 2s - loss: 0.3303 - accuracy: 0.86 - ETA: 2s - loss: 0.3148 - accuracy: 0.87 - ETA: 2s - loss: 0.3008 - accuracy: 0.88 - ETA: 2s - loss: 0.2897 - accuracy: 0.88 - ETA: 1s - loss: 0.2796 - accuracy: 0.89 - ETA: 1s - loss: 0.2707 - accuracy: 0.89 - ETA: 1s - loss: 0.2631 - accuracy: 0.89 - ETA: 1s - loss: 0.2563 - accuracy: 0.90 - ETA: 1s - loss: 0.2499 - accuracy: 0.90 - ETA: 1s - loss: 0.2457 - accuracy: 0.90 - ETA: 1s - loss: 0.2402 - accuracy: 0.90 - ETA: 1s - loss: 0.2352 - accuracy: 0.90 - ETA: 0s - loss: 0.2308 - accuracy: 0.91 - ETA: 0s - loss: 0.2267 - accuracy: 0.91 - ETA: 0s - loss: 0.2229 - accuracy: 0.91 - ETA: 0s - loss: 0.2198 - accuracy: 0.91 - ETA: 0s - loss: 0.2167 - accuracy: 0.91 - ETA: 0s - loss: 0.2134 - accuracy: 0.91 - ETA: 0s - loss: 0.2100 - accuracy: 0.92 - ETA: 0s - loss: 0.2070 - accuracy: 0.92 - ETA: 0s - loss: 0.2048 - accuracy: 0.92 - ETA: 0s - loss: 0.2025 - accuracy: 0.92 - ETA: 0s - loss: 0.2006 - accuracy: 0.92 - ETA: 0s - loss: 0.1991 - accuracy: 0.92 - ETA: 0s - loss: 0.1976 - accuracy: 0.92 - 3s 37us/sample - loss: 0.1965 - accuracy: 0.9261 - val_loss: 0.1238 - val_accuracy: 0.9537\n",
      "Epoch 2/20\n",
      "69531/69531 [==============================] - ETA: 1s - loss: 0.1826 - accuracy: 0.93 - ETA: 1s - loss: 0.1362 - accuracy: 0.95 - ETA: 1s - loss: 0.1394 - accuracy: 0.95 - ETA: 1s - loss: 0.1407 - accuracy: 0.95 - ETA: 1s - loss: 0.1426 - accuracy: 0.95 - ETA: 1s - loss: 0.1373 - accuracy: 0.95 - ETA: 1s - loss: 0.1358 - accuracy: 0.95 - ETA: 1s - loss: 0.1358 - accuracy: 0.95 - ETA: 1s - loss: 0.1334 - accuracy: 0.95 - ETA: 1s - loss: 0.1345 - accuracy: 0.95 - ETA: 1s - loss: 0.1328 - accuracy: 0.95 - ETA: 1s - loss: 0.1324 - accuracy: 0.95 - ETA: 1s - loss: 0.1324 - accuracy: 0.95 - ETA: 1s - loss: 0.1309 - accuracy: 0.95 - ETA: 1s - loss: 0.1332 - accuracy: 0.95 - ETA: 1s - loss: 0.1316 - accuracy: 0.95 - ETA: 0s - loss: 0.1319 - accuracy: 0.95 - ETA: 0s - loss: 0.1307 - accuracy: 0.95 - ETA: 0s - loss: 0.1309 - accuracy: 0.95 - ETA: 0s - loss: 0.1308 - accuracy: 0.95 - ETA: 0s - loss: 0.1306 - accuracy: 0.95 - ETA: 0s - loss: 0.1302 - accuracy: 0.95 - ETA: 0s - loss: 0.1306 - accuracy: 0.95 - ETA: 0s - loss: 0.1297 - accuracy: 0.95 - ETA: 0s - loss: 0.1289 - accuracy: 0.95 - ETA: 0s - loss: 0.1287 - accuracy: 0.95 - ETA: 0s - loss: 0.1286 - accuracy: 0.95 - ETA: 0s - loss: 0.1281 - accuracy: 0.95 - ETA: 0s - loss: 0.1284 - accuracy: 0.95 - ETA: 0s - loss: 0.1290 - accuracy: 0.95 - ETA: 0s - loss: 0.1283 - accuracy: 0.95 - ETA: 0s - loss: 0.1283 - accuracy: 0.95 - ETA: 0s - loss: 0.1279 - accuracy: 0.95 - ETA: 0s - loss: 0.1277 - accuracy: 0.95 - ETA: 0s - loss: 0.1277 - accuracy: 0.95 - 2s 29us/sample - loss: 0.1276 - accuracy: 0.9541 - val_loss: 0.1178 - val_accuracy: 0.9560\n",
      "Epoch 3/20\n",
      "69531/69531 [==============================] - ETA: 1s - loss: 0.1462 - accuracy: 0.93 - ETA: 1s - loss: 0.1257 - accuracy: 0.95 - ETA: 1s - loss: 0.1207 - accuracy: 0.95 - ETA: 1s - loss: 0.1239 - accuracy: 0.95 - ETA: 1s - loss: 0.1257 - accuracy: 0.95 - ETA: 1s - loss: 0.1286 - accuracy: 0.95 - ETA: 1s - loss: 0.1257 - accuracy: 0.95 - ETA: 1s - loss: 0.1253 - accuracy: 0.95 - ETA: 1s - loss: 0.1250 - accuracy: 0.95 - ETA: 1s - loss: 0.1238 - accuracy: 0.95 - ETA: 1s - loss: 0.1225 - accuracy: 0.95 - ETA: 1s - loss: 0.1222 - accuracy: 0.95 - ETA: 1s - loss: 0.1232 - accuracy: 0.95 - ETA: 1s - loss: 0.1220 - accuracy: 0.95 - ETA: 1s - loss: 0.1225 - accuracy: 0.95 - ETA: 0s - loss: 0.1231 - accuracy: 0.95 - ETA: 0s - loss: 0.1240 - accuracy: 0.95 - ETA: 0s - loss: 0.1249 - accuracy: 0.95 - ETA: 0s - loss: 0.1251 - accuracy: 0.95 - ETA: 0s - loss: 0.1250 - accuracy: 0.95 - ETA: 0s - loss: 0.1246 - accuracy: 0.95 - ETA: 0s - loss: 0.1242 - accuracy: 0.95 - ETA: 0s - loss: 0.1245 - accuracy: 0.95 - ETA: 0s - loss: 0.1232 - accuracy: 0.95 - ETA: 0s - loss: 0.1227 - accuracy: 0.95 - ETA: 0s - loss: 0.1226 - accuracy: 0.95 - ETA: 0s - loss: 0.1227 - accuracy: 0.95 - ETA: 0s - loss: 0.1232 - accuracy: 0.95 - ETA: 0s - loss: 0.1228 - accuracy: 0.95 - ETA: 0s - loss: 0.1227 - accuracy: 0.95 - ETA: 0s - loss: 0.1218 - accuracy: 0.95 - ETA: 0s - loss: 0.1214 - accuracy: 0.95 - ETA: 0s - loss: 0.1210 - accuracy: 0.95 - ETA: 0s - loss: 0.1213 - accuracy: 0.95 - 2s 28us/sample - loss: 0.1213 - accuracy: 0.9563 - val_loss: 0.1140 - val_accuracy: 0.9572\n",
      "Epoch 4/20\n",
      "69531/69531 [==============================] - ETA: 1s - loss: 0.0916 - accuracy: 0.96 - ETA: 1s - loss: 0.1042 - accuracy: 0.96 - ETA: 1s - loss: 0.1135 - accuracy: 0.95 - ETA: 1s - loss: 0.1087 - accuracy: 0.96 - ETA: 1s - loss: 0.1140 - accuracy: 0.96 - ETA: 1s - loss: 0.1161 - accuracy: 0.95 - ETA: 1s - loss: 0.1152 - accuracy: 0.95 - ETA: 1s - loss: 0.1138 - accuracy: 0.95 - ETA: 1s - loss: 0.1149 - accuracy: 0.95 - ETA: 1s - loss: 0.1150 - accuracy: 0.95 - ETA: 1s - loss: 0.1158 - accuracy: 0.95 - ETA: 1s - loss: 0.1160 - accuracy: 0.95 - ETA: 1s - loss: 0.1154 - accuracy: 0.95 - ETA: 1s - loss: 0.1157 - accuracy: 0.95 - ETA: 1s - loss: 0.1158 - accuracy: 0.95 - ETA: 0s - loss: 0.1167 - accuracy: 0.95 - ETA: 0s - loss: 0.1171 - accuracy: 0.95 - ETA: 0s - loss: 0.1175 - accuracy: 0.95 - ETA: 0s - loss: 0.1178 - accuracy: 0.95 - ETA: 0s - loss: 0.1185 - accuracy: 0.95 - ETA: 0s - loss: 0.1183 - accuracy: 0.95 - ETA: 0s - loss: 0.1186 - accuracy: 0.95 - ETA: 0s - loss: 0.1183 - accuracy: 0.95 - ETA: 0s - loss: 0.1186 - accuracy: 0.95 - ETA: 0s - loss: 0.1184 - accuracy: 0.95 - ETA: 0s - loss: 0.1186 - accuracy: 0.95 - ETA: 0s - loss: 0.1185 - accuracy: 0.95 - ETA: 0s - loss: 0.1182 - accuracy: 0.95 - ETA: 0s - loss: 0.1186 - accuracy: 0.95 - ETA: 0s - loss: 0.1183 - accuracy: 0.95 - ETA: 0s - loss: 0.1178 - accuracy: 0.95 - ETA: 0s - loss: 0.1178 - accuracy: 0.95 - ETA: 0s - loss: 0.1175 - accuracy: 0.95 - ETA: 0s - loss: 0.1172 - accuracy: 0.95 - 2s 28us/sample - loss: 0.1176 - accuracy: 0.9576 - val_loss: 0.1122 - val_accuracy: 0.9584\n",
      "Epoch 5/20\n",
      "69531/69531 [==============================] - ETA: 1s - loss: 0.1067 - accuracy: 0.96 - ETA: 1s - loss: 0.1295 - accuracy: 0.95 - ETA: 1s - loss: 0.1253 - accuracy: 0.95 - ETA: 1s - loss: 0.1207 - accuracy: 0.95 - ETA: 1s - loss: 0.1169 - accuracy: 0.95 - ETA: 1s - loss: 0.1192 - accuracy: 0.95 - ETA: 1s - loss: 0.1193 - accuracy: 0.95 - ETA: 1s - loss: 0.1195 - accuracy: 0.95 - ETA: 1s - loss: 0.1203 - accuracy: 0.95 - ETA: 1s - loss: 0.1191 - accuracy: 0.95 - ETA: 1s - loss: 0.1178 - accuracy: 0.95 - ETA: 1s - loss: 0.1183 - accuracy: 0.95 - ETA: 1s - loss: 0.1178 - accuracy: 0.95 - ETA: 1s - loss: 0.1172 - accuracy: 0.95 - ETA: 1s - loss: 0.1171 - accuracy: 0.95 - ETA: 1s - loss: 0.1175 - accuracy: 0.95 - ETA: 0s - loss: 0.1172 - accuracy: 0.95 - ETA: 0s - loss: 0.1173 - accuracy: 0.95 - ETA: 0s - loss: 0.1171 - accuracy: 0.95 - ETA: 0s - loss: 0.1166 - accuracy: 0.95 - ETA: 0s - loss: 0.1160 - accuracy: 0.95 - ETA: 0s - loss: 0.1157 - accuracy: 0.95 - ETA: 0s - loss: 0.1158 - accuracy: 0.95 - ETA: 0s - loss: 0.1153 - accuracy: 0.95 - ETA: 0s - loss: 0.1151 - accuracy: 0.95 - ETA: 0s - loss: 0.1148 - accuracy: 0.95 - ETA: 0s - loss: 0.1148 - accuracy: 0.95 - ETA: 0s - loss: 0.1149 - accuracy: 0.95 - ETA: 0s - loss: 0.1138 - accuracy: 0.95 - ETA: 0s - loss: 0.1140 - accuracy: 0.95 - ETA: 0s - loss: 0.1138 - accuracy: 0.95 - ETA: 0s - loss: 0.1142 - accuracy: 0.95 - ETA: 0s - loss: 0.1145 - accuracy: 0.95 - ETA: 0s - loss: 0.1145 - accuracy: 0.95 - ETA: 0s - loss: 0.1140 - accuracy: 0.95 - 2s 29us/sample - loss: 0.1142 - accuracy: 0.9582 - val_loss: 0.1110 - val_accuracy: 0.9595\n",
      "Epoch 6/20\n"
     ]
    },
    {
     "name": "stdout",
     "output_type": "stream",
     "text": [
      "69531/69531 [==============================] - ETA: 1s - loss: 0.1959 - accuracy: 0.93 - ETA: 1s - loss: 0.1440 - accuracy: 0.94 - ETA: 1s - loss: 0.1278 - accuracy: 0.95 - ETA: 1s - loss: 0.1274 - accuracy: 0.95 - ETA: 1s - loss: 0.1271 - accuracy: 0.95 - ETA: 1s - loss: 0.1246 - accuracy: 0.95 - ETA: 1s - loss: 0.1234 - accuracy: 0.95 - ETA: 1s - loss: 0.1202 - accuracy: 0.95 - ETA: 1s - loss: 0.1172 - accuracy: 0.95 - ETA: 1s - loss: 0.1169 - accuracy: 0.95 - ETA: 1s - loss: 0.1172 - accuracy: 0.95 - ETA: 1s - loss: 0.1174 - accuracy: 0.95 - ETA: 1s - loss: 0.1176 - accuracy: 0.95 - ETA: 1s - loss: 0.1163 - accuracy: 0.95 - ETA: 1s - loss: 0.1173 - accuracy: 0.95 - ETA: 0s - loss: 0.1173 - accuracy: 0.95 - ETA: 0s - loss: 0.1169 - accuracy: 0.95 - ETA: 0s - loss: 0.1165 - accuracy: 0.95 - ETA: 0s - loss: 0.1167 - accuracy: 0.95 - ETA: 0s - loss: 0.1159 - accuracy: 0.95 - ETA: 0s - loss: 0.1164 - accuracy: 0.95 - ETA: 0s - loss: 0.1157 - accuracy: 0.95 - ETA: 0s - loss: 0.1148 - accuracy: 0.95 - ETA: 0s - loss: 0.1150 - accuracy: 0.95 - ETA: 0s - loss: 0.1153 - accuracy: 0.95 - ETA: 0s - loss: 0.1145 - accuracy: 0.95 - ETA: 0s - loss: 0.1145 - accuracy: 0.95 - ETA: 0s - loss: 0.1140 - accuracy: 0.95 - ETA: 0s - loss: 0.1143 - accuracy: 0.95 - ETA: 0s - loss: 0.1135 - accuracy: 0.95 - ETA: 0s - loss: 0.1134 - accuracy: 0.95 - ETA: 0s - loss: 0.1134 - accuracy: 0.95 - ETA: 0s - loss: 0.1132 - accuracy: 0.95 - ETA: 0s - loss: 0.1129 - accuracy: 0.95 - 2s 28us/sample - loss: 0.1132 - accuracy: 0.9590 - val_loss: 0.1093 - val_accuracy: 0.9597\n",
      "Epoch 7/20\n",
      "69531/69531 [==============================] - ETA: 1s - loss: 0.0844 - accuracy: 0.96 - ETA: 1s - loss: 0.1094 - accuracy: 0.95 - ETA: 1s - loss: 0.1061 - accuracy: 0.95 - ETA: 1s - loss: 0.1086 - accuracy: 0.95 - ETA: 1s - loss: 0.1102 - accuracy: 0.95 - ETA: 1s - loss: 0.1091 - accuracy: 0.95 - ETA: 1s - loss: 0.1087 - accuracy: 0.95 - ETA: 1s - loss: 0.1076 - accuracy: 0.95 - ETA: 1s - loss: 0.1100 - accuracy: 0.95 - ETA: 1s - loss: 0.1085 - accuracy: 0.96 - ETA: 1s - loss: 0.1083 - accuracy: 0.96 - ETA: 1s - loss: 0.1098 - accuracy: 0.96 - ETA: 1s - loss: 0.1089 - accuracy: 0.96 - ETA: 1s - loss: 0.1095 - accuracy: 0.96 - ETA: 1s - loss: 0.1100 - accuracy: 0.96 - ETA: 0s - loss: 0.1105 - accuracy: 0.95 - ETA: 0s - loss: 0.1113 - accuracy: 0.95 - ETA: 0s - loss: 0.1125 - accuracy: 0.95 - ETA: 0s - loss: 0.1124 - accuracy: 0.95 - ETA: 0s - loss: 0.1128 - accuracy: 0.95 - ETA: 0s - loss: 0.1128 - accuracy: 0.95 - ETA: 0s - loss: 0.1129 - accuracy: 0.95 - ETA: 0s - loss: 0.1127 - accuracy: 0.95 - ETA: 0s - loss: 0.1123 - accuracy: 0.95 - ETA: 0s - loss: 0.1128 - accuracy: 0.95 - ETA: 0s - loss: 0.1122 - accuracy: 0.95 - ETA: 0s - loss: 0.1123 - accuracy: 0.95 - ETA: 0s - loss: 0.1118 - accuracy: 0.95 - ETA: 0s - loss: 0.1120 - accuracy: 0.95 - ETA: 0s - loss: 0.1120 - accuracy: 0.95 - ETA: 0s - loss: 0.1121 - accuracy: 0.95 - ETA: 0s - loss: 0.1126 - accuracy: 0.95 - ETA: 0s - loss: 0.1125 - accuracy: 0.95 - ETA: 0s - loss: 0.1125 - accuracy: 0.95 - 2s 28us/sample - loss: 0.1125 - accuracy: 0.9595 - val_loss: 0.1083 - val_accuracy: 0.9601\n",
      "Epoch 8/20\n",
      "69531/69531 [==============================] - ETA: 1s - loss: 0.1196 - accuracy: 0.94 - ETA: 1s - loss: 0.1146 - accuracy: 0.95 - ETA: 1s - loss: 0.1124 - accuracy: 0.96 - ETA: 1s - loss: 0.1110 - accuracy: 0.96 - ETA: 1s - loss: 0.1104 - accuracy: 0.96 - ETA: 1s - loss: 0.1096 - accuracy: 0.96 - ETA: 1s - loss: 0.1107 - accuracy: 0.96 - ETA: 1s - loss: 0.1098 - accuracy: 0.96 - ETA: 1s - loss: 0.1083 - accuracy: 0.96 - ETA: 1s - loss: 0.1089 - accuracy: 0.96 - ETA: 1s - loss: 0.1078 - accuracy: 0.96 - ETA: 1s - loss: 0.1078 - accuracy: 0.96 - ETA: 1s - loss: 0.1074 - accuracy: 0.96 - ETA: 1s - loss: 0.1068 - accuracy: 0.96 - ETA: 1s - loss: 0.1071 - accuracy: 0.96 - ETA: 1s - loss: 0.1081 - accuracy: 0.96 - ETA: 0s - loss: 0.1077 - accuracy: 0.96 - ETA: 0s - loss: 0.1072 - accuracy: 0.96 - ETA: 0s - loss: 0.1077 - accuracy: 0.96 - ETA: 0s - loss: 0.1075 - accuracy: 0.96 - ETA: 0s - loss: 0.1077 - accuracy: 0.96 - ETA: 0s - loss: 0.1075 - accuracy: 0.96 - ETA: 0s - loss: 0.1082 - accuracy: 0.96 - ETA: 0s - loss: 0.1085 - accuracy: 0.96 - ETA: 0s - loss: 0.1087 - accuracy: 0.96 - ETA: 0s - loss: 0.1093 - accuracy: 0.96 - ETA: 0s - loss: 0.1103 - accuracy: 0.96 - ETA: 0s - loss: 0.1104 - accuracy: 0.96 - ETA: 0s - loss: 0.1106 - accuracy: 0.96 - ETA: 0s - loss: 0.1105 - accuracy: 0.95 - ETA: 0s - loss: 0.1110 - accuracy: 0.95 - ETA: 0s - loss: 0.1108 - accuracy: 0.96 - ETA: 0s - loss: 0.1104 - accuracy: 0.96 - ETA: 0s - loss: 0.1104 - accuracy: 0.96 - ETA: 0s - loss: 0.1107 - accuracy: 0.96 - 2s 29us/sample - loss: 0.1106 - accuracy: 0.9602 - val_loss: 0.1077 - val_accuracy: 0.9602\n",
      "Epoch 9/20\n",
      "69531/69531 [==============================] - ETA: 1s - loss: 0.0829 - accuracy: 0.97 - ETA: 1s - loss: 0.0961 - accuracy: 0.96 - ETA: 1s - loss: 0.1078 - accuracy: 0.96 - ETA: 1s - loss: 0.1094 - accuracy: 0.96 - ETA: 1s - loss: 0.1092 - accuracy: 0.96 - ETA: 1s - loss: 0.1116 - accuracy: 0.96 - ETA: 1s - loss: 0.1122 - accuracy: 0.95 - ETA: 1s - loss: 0.1129 - accuracy: 0.95 - ETA: 1s - loss: 0.1119 - accuracy: 0.95 - ETA: 1s - loss: 0.1118 - accuracy: 0.95 - ETA: 1s - loss: 0.1115 - accuracy: 0.95 - ETA: 1s - loss: 0.1102 - accuracy: 0.96 - ETA: 1s - loss: 0.1111 - accuracy: 0.96 - ETA: 1s - loss: 0.1114 - accuracy: 0.95 - ETA: 1s - loss: 0.1117 - accuracy: 0.95 - ETA: 0s - loss: 0.1116 - accuracy: 0.95 - ETA: 0s - loss: 0.1111 - accuracy: 0.95 - ETA: 0s - loss: 0.1106 - accuracy: 0.95 - ETA: 0s - loss: 0.1105 - accuracy: 0.95 - ETA: 0s - loss: 0.1108 - accuracy: 0.95 - ETA: 0s - loss: 0.1107 - accuracy: 0.95 - ETA: 0s - loss: 0.1111 - accuracy: 0.95 - ETA: 0s - loss: 0.1108 - accuracy: 0.95 - ETA: 0s - loss: 0.1102 - accuracy: 0.95 - ETA: 0s - loss: 0.1106 - accuracy: 0.95 - ETA: 0s - loss: 0.1107 - accuracy: 0.95 - ETA: 0s - loss: 0.1108 - accuracy: 0.95 - ETA: 0s - loss: 0.1104 - accuracy: 0.95 - ETA: 0s - loss: 0.1107 - accuracy: 0.95 - ETA: 0s - loss: 0.1106 - accuracy: 0.95 - ETA: 0s - loss: 0.1107 - accuracy: 0.95 - ETA: 0s - loss: 0.1105 - accuracy: 0.95 - ETA: 0s - loss: 0.1104 - accuracy: 0.95 - ETA: 0s - loss: 0.1103 - accuracy: 0.95 - 2s 28us/sample - loss: 0.1099 - accuracy: 0.9597 - val_loss: 0.1074 - val_accuracy: 0.9605\n",
      "Epoch 10/20\n",
      "69531/69531 [==============================] - ETA: 1s - loss: 0.1074 - accuracy: 0.96 - ETA: 1s - loss: 0.1013 - accuracy: 0.96 - ETA: 1s - loss: 0.1067 - accuracy: 0.96 - ETA: 1s - loss: 0.1083 - accuracy: 0.96 - ETA: 1s - loss: 0.1095 - accuracy: 0.96 - ETA: 1s - loss: 0.1096 - accuracy: 0.96 - ETA: 1s - loss: 0.1102 - accuracy: 0.96 - ETA: 1s - loss: 0.1104 - accuracy: 0.96 - ETA: 1s - loss: 0.1095 - accuracy: 0.96 - ETA: 1s - loss: 0.1102 - accuracy: 0.95 - ETA: 1s - loss: 0.1094 - accuracy: 0.96 - ETA: 1s - loss: 0.1080 - accuracy: 0.96 - ETA: 1s - loss: 0.1074 - accuracy: 0.96 - ETA: 1s - loss: 0.1083 - accuracy: 0.96 - ETA: 1s - loss: 0.1078 - accuracy: 0.96 - ETA: 0s - loss: 0.1081 - accuracy: 0.96 - ETA: 0s - loss: 0.1082 - accuracy: 0.96 - ETA: 0s - loss: 0.1082 - accuracy: 0.96 - ETA: 0s - loss: 0.1084 - accuracy: 0.96 - ETA: 0s - loss: 0.1087 - accuracy: 0.96 - ETA: 0s - loss: 0.1085 - accuracy: 0.96 - ETA: 0s - loss: 0.1085 - accuracy: 0.96 - ETA: 0s - loss: 0.1091 - accuracy: 0.96 - ETA: 0s - loss: 0.1093 - accuracy: 0.96 - ETA: 0s - loss: 0.1097 - accuracy: 0.96 - ETA: 0s - loss: 0.1096 - accuracy: 0.96 - ETA: 0s - loss: 0.1098 - accuracy: 0.96 - ETA: 0s - loss: 0.1091 - accuracy: 0.96 - ETA: 0s - loss: 0.1090 - accuracy: 0.96 - ETA: 0s - loss: 0.1094 - accuracy: 0.96 - ETA: 0s - loss: 0.1091 - accuracy: 0.96 - ETA: 0s - loss: 0.1091 - accuracy: 0.96 - ETA: 0s - loss: 0.1090 - accuracy: 0.96 - ETA: 0s - loss: 0.1090 - accuracy: 0.96 - ETA: 0s - loss: 0.1089 - accuracy: 0.96 - 2s 29us/sample - loss: 0.1089 - accuracy: 0.9607 - val_loss: 0.1063 - val_accuracy: 0.9613\n",
      "Epoch 11/20\n"
     ]
    },
    {
     "name": "stdout",
     "output_type": "stream",
     "text": [
      "69531/69531 [==============================] - ETA: 1s - loss: 0.1085 - accuracy: 0.96 - ETA: 1s - loss: 0.0985 - accuracy: 0.96 - ETA: 1s - loss: 0.1018 - accuracy: 0.96 - ETA: 1s - loss: 0.1009 - accuracy: 0.96 - ETA: 1s - loss: 0.1032 - accuracy: 0.96 - ETA: 1s - loss: 0.1039 - accuracy: 0.96 - ETA: 1s - loss: 0.1047 - accuracy: 0.96 - ETA: 1s - loss: 0.1055 - accuracy: 0.96 - ETA: 1s - loss: 0.1050 - accuracy: 0.96 - ETA: 1s - loss: 0.1053 - accuracy: 0.96 - ETA: 1s - loss: 0.1042 - accuracy: 0.96 - ETA: 1s - loss: 0.1055 - accuracy: 0.96 - ETA: 1s - loss: 0.1056 - accuracy: 0.96 - ETA: 1s - loss: 0.1062 - accuracy: 0.96 - ETA: 1s - loss: 0.1073 - accuracy: 0.96 - ETA: 0s - loss: 0.1071 - accuracy: 0.96 - ETA: 0s - loss: 0.1080 - accuracy: 0.96 - ETA: 0s - loss: 0.1085 - accuracy: 0.96 - ETA: 0s - loss: 0.1071 - accuracy: 0.96 - ETA: 0s - loss: 0.1082 - accuracy: 0.96 - ETA: 0s - loss: 0.1085 - accuracy: 0.96 - ETA: 0s - loss: 0.1080 - accuracy: 0.96 - ETA: 0s - loss: 0.1085 - accuracy: 0.96 - ETA: 0s - loss: 0.1083 - accuracy: 0.96 - ETA: 0s - loss: 0.1078 - accuracy: 0.96 - ETA: 0s - loss: 0.1082 - accuracy: 0.96 - ETA: 0s - loss: 0.1078 - accuracy: 0.96 - ETA: 0s - loss: 0.1076 - accuracy: 0.96 - ETA: 0s - loss: 0.1081 - accuracy: 0.96 - ETA: 0s - loss: 0.1079 - accuracy: 0.96 - ETA: 0s - loss: 0.1077 - accuracy: 0.96 - ETA: 0s - loss: 0.1075 - accuracy: 0.96 - ETA: 0s - loss: 0.1077 - accuracy: 0.96 - ETA: 0s - loss: 0.1075 - accuracy: 0.96 - 2s 28us/sample - loss: 0.1073 - accuracy: 0.9609 - val_loss: 0.1056 - val_accuracy: 0.9612\n",
      "Epoch 12/20\n",
      "69531/69531 [==============================] - ETA: 1s - loss: 0.0825 - accuracy: 0.96 - ETA: 1s - loss: 0.0975 - accuracy: 0.96 - ETA: 1s - loss: 0.1001 - accuracy: 0.96 - ETA: 1s - loss: 0.1015 - accuracy: 0.96 - ETA: 1s - loss: 0.1015 - accuracy: 0.96 - ETA: 1s - loss: 0.1020 - accuracy: 0.96 - ETA: 1s - loss: 0.1048 - accuracy: 0.96 - ETA: 1s - loss: 0.1052 - accuracy: 0.96 - ETA: 1s - loss: 0.1041 - accuracy: 0.96 - ETA: 1s - loss: 0.1039 - accuracy: 0.96 - ETA: 1s - loss: 0.1023 - accuracy: 0.96 - ETA: 1s - loss: 0.1033 - accuracy: 0.96 - ETA: 1s - loss: 0.1040 - accuracy: 0.96 - ETA: 1s - loss: 0.1040 - accuracy: 0.96 - ETA: 1s - loss: 0.1043 - accuracy: 0.96 - ETA: 1s - loss: 0.1053 - accuracy: 0.96 - ETA: 0s - loss: 0.1060 - accuracy: 0.96 - ETA: 0s - loss: 0.1055 - accuracy: 0.96 - ETA: 0s - loss: 0.1054 - accuracy: 0.96 - ETA: 0s - loss: 0.1059 - accuracy: 0.96 - ETA: 0s - loss: 0.1065 - accuracy: 0.96 - ETA: 0s - loss: 0.1056 - accuracy: 0.96 - ETA: 0s - loss: 0.1061 - accuracy: 0.96 - ETA: 0s - loss: 0.1062 - accuracy: 0.96 - ETA: 0s - loss: 0.1069 - accuracy: 0.96 - ETA: 0s - loss: 0.1071 - accuracy: 0.96 - ETA: 0s - loss: 0.1068 - accuracy: 0.96 - ETA: 0s - loss: 0.1067 - accuracy: 0.96 - ETA: 0s - loss: 0.1066 - accuracy: 0.96 - ETA: 0s - loss: 0.1062 - accuracy: 0.96 - ETA: 0s - loss: 0.1060 - accuracy: 0.96 - ETA: 0s - loss: 0.1064 - accuracy: 0.96 - ETA: 0s - loss: 0.1064 - accuracy: 0.96 - ETA: 0s - loss: 0.1063 - accuracy: 0.96 - ETA: 0s - loss: 0.1062 - accuracy: 0.96 - 2s 30us/sample - loss: 0.1065 - accuracy: 0.9619 - val_loss: 0.1057 - val_accuracy: 0.9618\n",
      "Epoch 13/20\n",
      "69531/69531 [==============================] - ETA: 1s - loss: 0.0870 - accuracy: 0.97 - ETA: 1s - loss: 0.1025 - accuracy: 0.96 - ETA: 1s - loss: 0.1101 - accuracy: 0.96 - ETA: 1s - loss: 0.1071 - accuracy: 0.96 - ETA: 1s - loss: 0.1064 - accuracy: 0.96 - ETA: 1s - loss: 0.1081 - accuracy: 0.96 - ETA: 1s - loss: 0.1074 - accuracy: 0.96 - ETA: 1s - loss: 0.1081 - accuracy: 0.96 - ETA: 1s - loss: 0.1061 - accuracy: 0.96 - ETA: 1s - loss: 0.1075 - accuracy: 0.96 - ETA: 1s - loss: 0.1057 - accuracy: 0.96 - ETA: 1s - loss: 0.1057 - accuracy: 0.96 - ETA: 1s - loss: 0.1054 - accuracy: 0.96 - ETA: 1s - loss: 0.1057 - accuracy: 0.96 - ETA: 1s - loss: 0.1051 - accuracy: 0.96 - ETA: 0s - loss: 0.1056 - accuracy: 0.96 - ETA: 0s - loss: 0.1055 - accuracy: 0.96 - ETA: 0s - loss: 0.1066 - accuracy: 0.96 - ETA: 0s - loss: 0.1068 - accuracy: 0.96 - ETA: 0s - loss: 0.1072 - accuracy: 0.96 - ETA: 0s - loss: 0.1073 - accuracy: 0.96 - ETA: 0s - loss: 0.1072 - accuracy: 0.96 - ETA: 0s - loss: 0.1077 - accuracy: 0.96 - ETA: 0s - loss: 0.1073 - accuracy: 0.96 - ETA: 0s - loss: 0.1066 - accuracy: 0.96 - ETA: 0s - loss: 0.1072 - accuracy: 0.96 - ETA: 0s - loss: 0.1068 - accuracy: 0.96 - ETA: 0s - loss: 0.1067 - accuracy: 0.96 - ETA: 0s - loss: 0.1067 - accuracy: 0.96 - ETA: 0s - loss: 0.1065 - accuracy: 0.96 - ETA: 0s - loss: 0.1063 - accuracy: 0.96 - ETA: 0s - loss: 0.1062 - accuracy: 0.96 - ETA: 0s - loss: 0.1063 - accuracy: 0.96 - ETA: 0s - loss: 0.1061 - accuracy: 0.96 - 2s 28us/sample - loss: 0.1061 - accuracy: 0.9618 - val_loss: 0.1055 - val_accuracy: 0.9616\n",
      "Epoch 14/20\n",
      "69531/69531 [==============================] - ETA: 2s - loss: 0.1150 - accuracy: 0.94 - ETA: 1s - loss: 0.0973 - accuracy: 0.96 - ETA: 1s - loss: 0.0969 - accuracy: 0.96 - ETA: 1s - loss: 0.0979 - accuracy: 0.96 - ETA: 1s - loss: 0.0942 - accuracy: 0.96 - ETA: 1s - loss: 0.0967 - accuracy: 0.96 - ETA: 1s - loss: 0.0999 - accuracy: 0.96 - ETA: 1s - loss: 0.0997 - accuracy: 0.96 - ETA: 1s - loss: 0.1017 - accuracy: 0.96 - ETA: 1s - loss: 0.1010 - accuracy: 0.96 - ETA: 1s - loss: 0.1013 - accuracy: 0.96 - ETA: 1s - loss: 0.1022 - accuracy: 0.96 - ETA: 1s - loss: 0.1019 - accuracy: 0.96 - ETA: 1s - loss: 0.1011 - accuracy: 0.96 - ETA: 1s - loss: 0.1035 - accuracy: 0.96 - ETA: 1s - loss: 0.1034 - accuracy: 0.96 - ETA: 1s - loss: 0.1033 - accuracy: 0.96 - ETA: 0s - loss: 0.1039 - accuracy: 0.96 - ETA: 0s - loss: 0.1039 - accuracy: 0.96 - ETA: 0s - loss: 0.1035 - accuracy: 0.96 - ETA: 0s - loss: 0.1033 - accuracy: 0.96 - ETA: 0s - loss: 0.1038 - accuracy: 0.96 - ETA: 0s - loss: 0.1045 - accuracy: 0.96 - ETA: 0s - loss: 0.1047 - accuracy: 0.96 - ETA: 0s - loss: 0.1043 - accuracy: 0.96 - ETA: 0s - loss: 0.1044 - accuracy: 0.96 - ETA: 0s - loss: 0.1051 - accuracy: 0.96 - ETA: 0s - loss: 0.1046 - accuracy: 0.96 - ETA: 0s - loss: 0.1045 - accuracy: 0.96 - ETA: 0s - loss: 0.1048 - accuracy: 0.96 - ETA: 0s - loss: 0.1046 - accuracy: 0.96 - ETA: 0s - loss: 0.1049 - accuracy: 0.96 - ETA: 0s - loss: 0.1051 - accuracy: 0.96 - ETA: 0s - loss: 0.1049 - accuracy: 0.96 - ETA: 0s - loss: 0.1055 - accuracy: 0.96 - 2s 30us/sample - loss: 0.1058 - accuracy: 0.9625 - val_loss: 0.1040 - val_accuracy: 0.9623\n",
      "Epoch 15/20\n",
      "69531/69531 [==============================] - ETA: 1s - loss: 0.0901 - accuracy: 0.97 - ETA: 1s - loss: 0.0969 - accuracy: 0.96 - ETA: 1s - loss: 0.1045 - accuracy: 0.96 - ETA: 1s - loss: 0.1046 - accuracy: 0.96 - ETA: 1s - loss: 0.1061 - accuracy: 0.96 - ETA: 1s - loss: 0.1058 - accuracy: 0.96 - ETA: 1s - loss: 0.1078 - accuracy: 0.96 - ETA: 1s - loss: 0.1063 - accuracy: 0.96 - ETA: 1s - loss: 0.1055 - accuracy: 0.96 - ETA: 1s - loss: 0.1054 - accuracy: 0.96 - ETA: 1s - loss: 0.1061 - accuracy: 0.96 - ETA: 1s - loss: 0.1047 - accuracy: 0.96 - ETA: 1s - loss: 0.1038 - accuracy: 0.96 - ETA: 1s - loss: 0.1030 - accuracy: 0.96 - ETA: 1s - loss: 0.1032 - accuracy: 0.96 - ETA: 1s - loss: 0.1039 - accuracy: 0.96 - ETA: 0s - loss: 0.1043 - accuracy: 0.96 - ETA: 0s - loss: 0.1044 - accuracy: 0.96 - ETA: 0s - loss: 0.1046 - accuracy: 0.96 - ETA: 0s - loss: 0.1042 - accuracy: 0.96 - ETA: 0s - loss: 0.1038 - accuracy: 0.96 - ETA: 0s - loss: 0.1043 - accuracy: 0.96 - ETA: 0s - loss: 0.1045 - accuracy: 0.96 - ETA: 0s - loss: 0.1045 - accuracy: 0.96 - ETA: 0s - loss: 0.1043 - accuracy: 0.96 - ETA: 0s - loss: 0.1049 - accuracy: 0.96 - ETA: 0s - loss: 0.1048 - accuracy: 0.96 - ETA: 0s - loss: 0.1048 - accuracy: 0.96 - ETA: 0s - loss: 0.1050 - accuracy: 0.96 - ETA: 0s - loss: 0.1048 - accuracy: 0.96 - ETA: 0s - loss: 0.1051 - accuracy: 0.96 - ETA: 0s - loss: 0.1051 - accuracy: 0.96 - ETA: 0s - loss: 0.1047 - accuracy: 0.96 - ETA: 0s - loss: 0.1046 - accuracy: 0.96 - 2s 29us/sample - loss: 0.1049 - accuracy: 0.9614 - val_loss: 0.1046 - val_accuracy: 0.9620\n",
      "Epoch 16/20\n"
     ]
    },
    {
     "name": "stdout",
     "output_type": "stream",
     "text": [
      "69531/69531 [==============================] - ETA: 2s - loss: 0.1184 - accuracy: 0.95 - ETA: 1s - loss: 0.1028 - accuracy: 0.96 - ETA: 1s - loss: 0.1043 - accuracy: 0.96 - ETA: 1s - loss: 0.1083 - accuracy: 0.95 - ETA: 1s - loss: 0.1047 - accuracy: 0.96 - ETA: 1s - loss: 0.1027 - accuracy: 0.96 - ETA: 1s - loss: 0.1025 - accuracy: 0.96 - ETA: 1s - loss: 0.1024 - accuracy: 0.96 - ETA: 1s - loss: 0.1014 - accuracy: 0.96 - ETA: 1s - loss: 0.1015 - accuracy: 0.96 - ETA: 1s - loss: 0.1019 - accuracy: 0.96 - ETA: 1s - loss: 0.1022 - accuracy: 0.96 - ETA: 1s - loss: 0.1030 - accuracy: 0.96 - ETA: 1s - loss: 0.1036 - accuracy: 0.96 - ETA: 1s - loss: 0.1046 - accuracy: 0.96 - ETA: 1s - loss: 0.1047 - accuracy: 0.96 - ETA: 1s - loss: 0.1047 - accuracy: 0.96 - ETA: 0s - loss: 0.1040 - accuracy: 0.96 - ETA: 0s - loss: 0.1044 - accuracy: 0.96 - ETA: 0s - loss: 0.1045 - accuracy: 0.96 - ETA: 0s - loss: 0.1037 - accuracy: 0.96 - ETA: 0s - loss: 0.1046 - accuracy: 0.96 - ETA: 0s - loss: 0.1041 - accuracy: 0.96 - ETA: 0s - loss: 0.1037 - accuracy: 0.96 - ETA: 0s - loss: 0.1046 - accuracy: 0.96 - ETA: 0s - loss: 0.1045 - accuracy: 0.96 - ETA: 0s - loss: 0.1048 - accuracy: 0.96 - ETA: 0s - loss: 0.1057 - accuracy: 0.96 - ETA: 0s - loss: 0.1049 - accuracy: 0.96 - ETA: 0s - loss: 0.1049 - accuracy: 0.96 - ETA: 0s - loss: 0.1046 - accuracy: 0.96 - ETA: 0s - loss: 0.1045 - accuracy: 0.96 - ETA: 0s - loss: 0.1050 - accuracy: 0.96 - ETA: 0s - loss: 0.1049 - accuracy: 0.96 - ETA: 0s - loss: 0.1046 - accuracy: 0.96 - 2s 28us/sample - loss: 0.1046 - accuracy: 0.9618 - val_loss: 0.1044 - val_accuracy: 0.9621\n",
      "Epoch 17/20\n",
      "69531/69531 [==============================] - ETA: 1s - loss: 0.0954 - accuracy: 0.97 - ETA: 1s - loss: 0.1029 - accuracy: 0.96 - ETA: 1s - loss: 0.0958 - accuracy: 0.96 - ETA: 1s - loss: 0.0950 - accuracy: 0.96 - ETA: 1s - loss: 0.0989 - accuracy: 0.96 - ETA: 1s - loss: 0.1019 - accuracy: 0.96 - ETA: 1s - loss: 0.1021 - accuracy: 0.96 - ETA: 1s - loss: 0.1026 - accuracy: 0.96 - ETA: 1s - loss: 0.1028 - accuracy: 0.96 - ETA: 1s - loss: 0.1036 - accuracy: 0.96 - ETA: 1s - loss: 0.1031 - accuracy: 0.96 - ETA: 1s - loss: 0.1034 - accuracy: 0.96 - ETA: 1s - loss: 0.1023 - accuracy: 0.96 - ETA: 1s - loss: 0.1037 - accuracy: 0.96 - ETA: 0s - loss: 0.1027 - accuracy: 0.96 - ETA: 0s - loss: 0.1028 - accuracy: 0.96 - ETA: 0s - loss: 0.1036 - accuracy: 0.96 - ETA: 0s - loss: 0.1034 - accuracy: 0.96 - ETA: 0s - loss: 0.1037 - accuracy: 0.96 - ETA: 0s - loss: 0.1038 - accuracy: 0.96 - ETA: 0s - loss: 0.1034 - accuracy: 0.96 - ETA: 0s - loss: 0.1042 - accuracy: 0.96 - ETA: 0s - loss: 0.1043 - accuracy: 0.96 - ETA: 0s - loss: 0.1048 - accuracy: 0.96 - ETA: 0s - loss: 0.1044 - accuracy: 0.96 - ETA: 0s - loss: 0.1040 - accuracy: 0.96 - ETA: 0s - loss: 0.1041 - accuracy: 0.96 - ETA: 0s - loss: 0.1039 - accuracy: 0.96 - ETA: 0s - loss: 0.1043 - accuracy: 0.96 - ETA: 0s - loss: 0.1045 - accuracy: 0.96 - ETA: 0s - loss: 0.1044 - accuracy: 0.96 - ETA: 0s - loss: 0.1044 - accuracy: 0.96 - ETA: 0s - loss: 0.1041 - accuracy: 0.96 - ETA: 0s - loss: 0.1040 - accuracy: 0.96 - 2s 28us/sample - loss: 0.1044 - accuracy: 0.9622 - val_loss: 0.1038 - val_accuracy: 0.9623\n",
      "Epoch 18/20\n",
      "69531/69531 [==============================] - ETA: 1s - loss: 0.0981 - accuracy: 0.96 - ETA: 1s - loss: 0.1141 - accuracy: 0.96 - ETA: 1s - loss: 0.1070 - accuracy: 0.96 - ETA: 1s - loss: 0.1082 - accuracy: 0.95 - ETA: 1s - loss: 0.1047 - accuracy: 0.96 - ETA: 1s - loss: 0.1040 - accuracy: 0.96 - ETA: 1s - loss: 0.1042 - accuracy: 0.96 - ETA: 1s - loss: 0.1037 - accuracy: 0.96 - ETA: 1s - loss: 0.1043 - accuracy: 0.96 - ETA: 1s - loss: 0.1039 - accuracy: 0.96 - ETA: 1s - loss: 0.1028 - accuracy: 0.96 - ETA: 1s - loss: 0.1030 - accuracy: 0.96 - ETA: 1s - loss: 0.1038 - accuracy: 0.96 - ETA: 1s - loss: 0.1029 - accuracy: 0.96 - ETA: 1s - loss: 0.1029 - accuracy: 0.96 - ETA: 1s - loss: 0.1019 - accuracy: 0.96 - ETA: 1s - loss: 0.1012 - accuracy: 0.96 - ETA: 0s - loss: 0.1011 - accuracy: 0.96 - ETA: 0s - loss: 0.1010 - accuracy: 0.96 - ETA: 0s - loss: 0.1005 - accuracy: 0.96 - ETA: 0s - loss: 0.1012 - accuracy: 0.96 - ETA: 0s - loss: 0.1017 - accuracy: 0.96 - ETA: 0s - loss: 0.1025 - accuracy: 0.96 - ETA: 0s - loss: 0.1028 - accuracy: 0.96 - ETA: 0s - loss: 0.1025 - accuracy: 0.96 - ETA: 0s - loss: 0.1025 - accuracy: 0.96 - ETA: 0s - loss: 0.1022 - accuracy: 0.96 - ETA: 0s - loss: 0.1017 - accuracy: 0.96 - ETA: 0s - loss: 0.1019 - accuracy: 0.96 - ETA: 0s - loss: 0.1019 - accuracy: 0.96 - ETA: 0s - loss: 0.1028 - accuracy: 0.96 - ETA: 0s - loss: 0.1025 - accuracy: 0.96 - ETA: 0s - loss: 0.1030 - accuracy: 0.96 - ETA: 0s - loss: 0.1028 - accuracy: 0.96 - ETA: 0s - loss: 0.1032 - accuracy: 0.96 - 2s 29us/sample - loss: 0.1031 - accuracy: 0.9633 - val_loss: 0.1041 - val_accuracy: 0.9621\n",
      "Epoch 19/20\n",
      "69531/69531 [==============================] - ETA: 1s - loss: 0.1427 - accuracy: 0.94 - ETA: 1s - loss: 0.0955 - accuracy: 0.96 - ETA: 1s - loss: 0.0997 - accuracy: 0.96 - ETA: 1s - loss: 0.1022 - accuracy: 0.96 - ETA: 1s - loss: 0.1019 - accuracy: 0.96 - ETA: 1s - loss: 0.1031 - accuracy: 0.96 - ETA: 1s - loss: 0.1024 - accuracy: 0.96 - ETA: 1s - loss: 0.1026 - accuracy: 0.96 - ETA: 1s - loss: 0.1036 - accuracy: 0.96 - ETA: 1s - loss: 0.1052 - accuracy: 0.96 - ETA: 1s - loss: 0.1053 - accuracy: 0.96 - ETA: 1s - loss: 0.1047 - accuracy: 0.96 - ETA: 1s - loss: 0.1038 - accuracy: 0.96 - ETA: 1s - loss: 0.1046 - accuracy: 0.96 - ETA: 1s - loss: 0.1043 - accuracy: 0.96 - ETA: 0s - loss: 0.1044 - accuracy: 0.96 - ETA: 0s - loss: 0.1041 - accuracy: 0.96 - ETA: 0s - loss: 0.1038 - accuracy: 0.96 - ETA: 0s - loss: 0.1031 - accuracy: 0.96 - ETA: 0s - loss: 0.1027 - accuracy: 0.96 - ETA: 0s - loss: 0.1022 - accuracy: 0.96 - ETA: 0s - loss: 0.1017 - accuracy: 0.96 - ETA: 0s - loss: 0.1014 - accuracy: 0.96 - ETA: 0s - loss: 0.1019 - accuracy: 0.96 - ETA: 0s - loss: 0.1014 - accuracy: 0.96 - ETA: 0s - loss: 0.1015 - accuracy: 0.96 - ETA: 0s - loss: 0.1013 - accuracy: 0.96 - ETA: 0s - loss: 0.1019 - accuracy: 0.96 - ETA: 0s - loss: 0.1019 - accuracy: 0.96 - ETA: 0s - loss: 0.1022 - accuracy: 0.96 - ETA: 0s - loss: 0.1022 - accuracy: 0.96 - ETA: 0s - loss: 0.1026 - accuracy: 0.96 - ETA: 0s - loss: 0.1024 - accuracy: 0.96 - ETA: 0s - loss: 0.1027 - accuracy: 0.96 - 2s 28us/sample - loss: 0.1030 - accuracy: 0.9625 - val_loss: 0.1031 - val_accuracy: 0.9634\n",
      "Epoch 20/20\n",
      "69531/69531 [==============================] - ETA: 1s - loss: 0.0752 - accuracy: 0.97 - ETA: 1s - loss: 0.1031 - accuracy: 0.95 - ETA: 1s - loss: 0.1001 - accuracy: 0.96 - ETA: 1s - loss: 0.0987 - accuracy: 0.96 - ETA: 1s - loss: 0.0981 - accuracy: 0.96 - ETA: 1s - loss: 0.0982 - accuracy: 0.96 - ETA: 1s - loss: 0.0992 - accuracy: 0.96 - ETA: 1s - loss: 0.1000 - accuracy: 0.96 - ETA: 1s - loss: 0.1009 - accuracy: 0.96 - ETA: 1s - loss: 0.1019 - accuracy: 0.96 - ETA: 1s - loss: 0.1019 - accuracy: 0.96 - ETA: 1s - loss: 0.1049 - accuracy: 0.96 - ETA: 1s - loss: 0.1050 - accuracy: 0.95 - ETA: 1s - loss: 0.1036 - accuracy: 0.96 - ETA: 1s - loss: 0.1036 - accuracy: 0.96 - ETA: 0s - loss: 0.1034 - accuracy: 0.96 - ETA: 0s - loss: 0.1032 - accuracy: 0.96 - ETA: 0s - loss: 0.1044 - accuracy: 0.96 - ETA: 0s - loss: 0.1042 - accuracy: 0.96 - ETA: 0s - loss: 0.1047 - accuracy: 0.96 - ETA: 0s - loss: 0.1045 - accuracy: 0.96 - ETA: 0s - loss: 0.1040 - accuracy: 0.96 - ETA: 0s - loss: 0.1034 - accuracy: 0.96 - ETA: 0s - loss: 0.1035 - accuracy: 0.96 - ETA: 0s - loss: 0.1040 - accuracy: 0.96 - ETA: 0s - loss: 0.1043 - accuracy: 0.96 - ETA: 0s - loss: 0.1042 - accuracy: 0.96 - ETA: 0s - loss: 0.1039 - accuracy: 0.96 - ETA: 0s - loss: 0.1040 - accuracy: 0.96 - ETA: 0s - loss: 0.1034 - accuracy: 0.96 - ETA: 0s - loss: 0.1031 - accuracy: 0.96 - ETA: 0s - loss: 0.1029 - accuracy: 0.96 - ETA: 0s - loss: 0.1028 - accuracy: 0.96 - ETA: 0s - loss: 0.1033 - accuracy: 0.96 - 2s 28us/sample - loss: 0.1030 - accuracy: 0.9620 - val_loss: 0.1035 - val_accuracy: 0.9625\n"
     ]
    },
    {
     "data": {
      "text/html": [
       "<span style=\"color:#4527A0\"><h1 style=\"font-size:18px\">Trial complete</h1></span>"
      ],
      "text/plain": [
       "<IPython.core.display.HTML object>"
      ]
     },
     "metadata": {},
     "output_type": "display_data"
    },
    {
     "data": {
      "text/html": [
       "<span style=\"color:#4527A0\"><h1 style=\"font-size:18px\">Trial summary</h1></span>"
      ],
      "text/plain": [
       "<IPython.core.display.HTML object>"
      ]
     },
     "metadata": {},
     "output_type": "display_data"
    },
    {
     "data": {
      "text/html": [
       "<span style=\"color:cyan\"> |-Trial ID: c5ff431fd18213a615a2f25a5375d05e</span>"
      ],
      "text/plain": [
       "<IPython.core.display.HTML object>"
      ]
     },
     "metadata": {},
     "output_type": "display_data"
    },
    {
     "data": {
      "text/html": [
       "<span style=\"color:cyan\"> |-Score: 0.963368833065033</span>"
      ],
      "text/plain": [
       "<IPython.core.display.HTML object>"
      ]
     },
     "metadata": {},
     "output_type": "display_data"
    },
    {
     "data": {
      "text/html": [
       "<span style=\"color:cyan\"> |-Best step: 0</span>"
      ],
      "text/plain": [
       "<IPython.core.display.HTML object>"
      ]
     },
     "metadata": {},
     "output_type": "display_data"
    },
    {
     "data": {
      "text/html": [
       "<span style=\"color:#7E57C2\"><h2 style=\"font-size:16px\">Hyperparameters:</h2></span>"
      ],
      "text/plain": [
       "<IPython.core.display.HTML object>"
      ]
     },
     "metadata": {},
     "output_type": "display_data"
    },
    {
     "data": {
      "text/html": [
       "<span style=\"color:cyan\"> |-rate_1: 0.2</span>"
      ],
      "text/plain": [
       "<IPython.core.display.HTML object>"
      ]
     },
     "metadata": {},
     "output_type": "display_data"
    },
    {
     "data": {
      "text/html": [
       "<span style=\"color:blue\"> |-rate_2: 0.2</span>"
      ],
      "text/plain": [
       "<IPython.core.display.HTML object>"
      ]
     },
     "metadata": {},
     "output_type": "display_data"
    },
    {
     "data": {
      "text/html": [
       "<span style=\"color:cyan\"> |-tuner/bracket: 0</span>"
      ],
      "text/plain": [
       "<IPython.core.display.HTML object>"
      ]
     },
     "metadata": {},
     "output_type": "display_data"
    },
    {
     "data": {
      "text/html": [
       "<span style=\"color:blue\"> |-tuner/epochs: 20</span>"
      ],
      "text/plain": [
       "<IPython.core.display.HTML object>"
      ]
     },
     "metadata": {},
     "output_type": "display_data"
    },
    {
     "data": {
      "text/html": [
       "<span style=\"color:cyan\"> |-tuner/initial_epoch: 0</span>"
      ],
      "text/plain": [
       "<IPython.core.display.HTML object>"
      ]
     },
     "metadata": {},
     "output_type": "display_data"
    },
    {
     "data": {
      "text/html": [
       "<span style=\"color:blue\"> |-tuner/round: 0</span>"
      ],
      "text/plain": [
       "<IPython.core.display.HTML object>"
      ]
     },
     "metadata": {},
     "output_type": "display_data"
    },
    {
     "data": {
      "text/html": [
       "<span style=\"color:cyan\"> |-units_1: 52</span>"
      ],
      "text/plain": [
       "<IPython.core.display.HTML object>"
      ]
     },
     "metadata": {},
     "output_type": "display_data"
    },
    {
     "data": {
      "text/html": [
       "<span style=\"color:blue\"> |-units_2: 36</span>"
      ],
      "text/plain": [
       "<IPython.core.display.HTML object>"
      ]
     },
     "metadata": {},
     "output_type": "display_data"
    },
    {
     "name": "stdout",
     "output_type": "stream",
     "text": [
      "Train on 69531 samples, validate on 23177 samples\n",
      "Epoch 1/20\n",
      "69531/69531 [==============================] - ETA: 2:18 - loss: 0.8340 - accuracy: 0.53 - ETA: 14s - loss: 0.7641 - accuracy: 0.5578 - ETA: 8s - loss: 0.6939 - accuracy: 0.611 - ETA: 6s - loss: 0.6572 - accuracy: 0.64 - ETA: 4s - loss: 0.6184 - accuracy: 0.67 - ETA: 3s - loss: 0.5839 - accuracy: 0.70 - ETA: 3s - loss: 0.5517 - accuracy: 0.73 - ETA: 2s - loss: 0.5237 - accuracy: 0.75 - ETA: 2s - loss: 0.4981 - accuracy: 0.76 - ETA: 2s - loss: 0.4758 - accuracy: 0.78 - ETA: 2s - loss: 0.4594 - accuracy: 0.79 - ETA: 1s - loss: 0.4416 - accuracy: 0.80 - ETA: 1s - loss: 0.4249 - accuracy: 0.81 - ETA: 1s - loss: 0.4120 - accuracy: 0.81 - ETA: 1s - loss: 0.3980 - accuracy: 0.82 - ETA: 1s - loss: 0.3857 - accuracy: 0.83 - ETA: 1s - loss: 0.3751 - accuracy: 0.83 - ETA: 1s - loss: 0.3649 - accuracy: 0.84 - ETA: 1s - loss: 0.3535 - accuracy: 0.84 - ETA: 0s - loss: 0.3453 - accuracy: 0.85 - ETA: 0s - loss: 0.3385 - accuracy: 0.85 - ETA: 0s - loss: 0.3308 - accuracy: 0.86 - ETA: 0s - loss: 0.3229 - accuracy: 0.86 - ETA: 0s - loss: 0.3161 - accuracy: 0.86 - ETA: 0s - loss: 0.3100 - accuracy: 0.87 - ETA: 0s - loss: 0.3056 - accuracy: 0.87 - ETA: 0s - loss: 0.3004 - accuracy: 0.87 - ETA: 0s - loss: 0.2967 - accuracy: 0.87 - ETA: 0s - loss: 0.2920 - accuracy: 0.88 - ETA: 0s - loss: 0.2881 - accuracy: 0.88 - ETA: 0s - loss: 0.2841 - accuracy: 0.88 - 2s 35us/sample - loss: 0.2822 - accuracy: 0.8852 - val_loss: 0.1324 - val_accuracy: 0.9507\n",
      "Epoch 2/20\n",
      "69531/69531 [==============================] - ETA: 1s - loss: 0.1754 - accuracy: 0.94 - ETA: 1s - loss: 0.1506 - accuracy: 0.95 - ETA: 1s - loss: 0.1543 - accuracy: 0.94 - ETA: 1s - loss: 0.1527 - accuracy: 0.94 - ETA: 1s - loss: 0.1514 - accuracy: 0.95 - ETA: 1s - loss: 0.1518 - accuracy: 0.94 - ETA: 1s - loss: 0.1559 - accuracy: 0.94 - ETA: 1s - loss: 0.1609 - accuracy: 0.94 - ETA: 1s - loss: 0.1598 - accuracy: 0.94 - ETA: 1s - loss: 0.1594 - accuracy: 0.94 - ETA: 1s - loss: 0.1610 - accuracy: 0.94 - ETA: 1s - loss: 0.1598 - accuracy: 0.94 - ETA: 0s - loss: 0.1588 - accuracy: 0.94 - ETA: 0s - loss: 0.1583 - accuracy: 0.94 - ETA: 0s - loss: 0.1590 - accuracy: 0.94 - ETA: 0s - loss: 0.1587 - accuracy: 0.94 - ETA: 0s - loss: 0.1575 - accuracy: 0.94 - ETA: 0s - loss: 0.1568 - accuracy: 0.94 - ETA: 0s - loss: 0.1571 - accuracy: 0.94 - ETA: 0s - loss: 0.1571 - accuracy: 0.94 - ETA: 0s - loss: 0.1564 - accuracy: 0.94 - ETA: 0s - loss: 0.1564 - accuracy: 0.94 - ETA: 0s - loss: 0.1559 - accuracy: 0.94 - ETA: 0s - loss: 0.1550 - accuracy: 0.94 - ETA: 0s - loss: 0.1545 - accuracy: 0.94 - ETA: 0s - loss: 0.1535 - accuracy: 0.94 - ETA: 0s - loss: 0.1534 - accuracy: 0.94 - ETA: 0s - loss: 0.1529 - accuracy: 0.94 - ETA: 0s - loss: 0.1534 - accuracy: 0.94 - ETA: 0s - loss: 0.1525 - accuracy: 0.94 - ETA: 0s - loss: 0.1526 - accuracy: 0.94 - 2s 26us/sample - loss: 0.1526 - accuracy: 0.9478 - val_loss: 0.1248 - val_accuracy: 0.9532\n",
      "Epoch 3/20\n",
      "69531/69531 [==============================] - ETA: 1s - loss: 0.1230 - accuracy: 0.96 - ETA: 1s - loss: 0.1452 - accuracy: 0.94 - ETA: 1s - loss: 0.1502 - accuracy: 0.94 - ETA: 1s - loss: 0.1452 - accuracy: 0.94 - ETA: 1s - loss: 0.1411 - accuracy: 0.95 - ETA: 1s - loss: 0.1434 - accuracy: 0.95 - ETA: 1s - loss: 0.1416 - accuracy: 0.95 - ETA: 1s - loss: 0.1409 - accuracy: 0.95 - ETA: 1s - loss: 0.1385 - accuracy: 0.95 - ETA: 1s - loss: 0.1388 - accuracy: 0.95 - ETA: 1s - loss: 0.1391 - accuracy: 0.95 - ETA: 1s - loss: 0.1393 - accuracy: 0.95 - ETA: 0s - loss: 0.1403 - accuracy: 0.95 - ETA: 0s - loss: 0.1401 - accuracy: 0.95 - ETA: 0s - loss: 0.1397 - accuracy: 0.95 - ETA: 0s - loss: 0.1401 - accuracy: 0.95 - ETA: 0s - loss: 0.1403 - accuracy: 0.95 - ETA: 0s - loss: 0.1404 - accuracy: 0.95 - ETA: 0s - loss: 0.1409 - accuracy: 0.95 - ETA: 0s - loss: 0.1415 - accuracy: 0.95 - ETA: 0s - loss: 0.1414 - accuracy: 0.95 - ETA: 0s - loss: 0.1407 - accuracy: 0.95 - ETA: 0s - loss: 0.1402 - accuracy: 0.95 - ETA: 0s - loss: 0.1402 - accuracy: 0.95 - ETA: 0s - loss: 0.1404 - accuracy: 0.95 - ETA: 0s - loss: 0.1401 - accuracy: 0.95 - ETA: 0s - loss: 0.1397 - accuracy: 0.95 - ETA: 0s - loss: 0.1392 - accuracy: 0.95 - ETA: 0s - loss: 0.1393 - accuracy: 0.95 - ETA: 0s - loss: 0.1390 - accuracy: 0.95 - ETA: 0s - loss: 0.1389 - accuracy: 0.95 - 2s 26us/sample - loss: 0.1388 - accuracy: 0.9524 - val_loss: 0.1215 - val_accuracy: 0.9542\n",
      "Epoch 4/20\n",
      "69531/69531 [==============================] - ETA: 1s - loss: 0.0591 - accuracy: 0.98 - ETA: 1s - loss: 0.1294 - accuracy: 0.95 - ETA: 1s - loss: 0.1274 - accuracy: 0.95 - ETA: 1s - loss: 0.1235 - accuracy: 0.95 - ETA: 1s - loss: 0.1298 - accuracy: 0.95 - ETA: 1s - loss: 0.1312 - accuracy: 0.95 - ETA: 1s - loss: 0.1289 - accuracy: 0.95 - ETA: 1s - loss: 0.1294 - accuracy: 0.95 - ETA: 1s - loss: 0.1276 - accuracy: 0.95 - ETA: 1s - loss: 0.1291 - accuracy: 0.95 - ETA: 1s - loss: 0.1286 - accuracy: 0.95 - ETA: 1s - loss: 0.1285 - accuracy: 0.95 - ETA: 0s - loss: 0.1301 - accuracy: 0.95 - ETA: 0s - loss: 0.1306 - accuracy: 0.95 - ETA: 0s - loss: 0.1308 - accuracy: 0.95 - ETA: 0s - loss: 0.1309 - accuracy: 0.95 - ETA: 0s - loss: 0.1314 - accuracy: 0.95 - ETA: 0s - loss: 0.1318 - accuracy: 0.95 - ETA: 0s - loss: 0.1314 - accuracy: 0.95 - ETA: 0s - loss: 0.1324 - accuracy: 0.95 - ETA: 0s - loss: 0.1329 - accuracy: 0.95 - ETA: 0s - loss: 0.1331 - accuracy: 0.95 - ETA: 0s - loss: 0.1331 - accuracy: 0.95 - ETA: 0s - loss: 0.1329 - accuracy: 0.95 - ETA: 0s - loss: 0.1328 - accuracy: 0.95 - ETA: 0s - loss: 0.1331 - accuracy: 0.95 - ETA: 0s - loss: 0.1326 - accuracy: 0.95 - ETA: 0s - loss: 0.1324 - accuracy: 0.95 - ETA: 0s - loss: 0.1325 - accuracy: 0.95 - ETA: 0s - loss: 0.1326 - accuracy: 0.95 - ETA: 0s - loss: 0.1326 - accuracy: 0.95 - 2s 26us/sample - loss: 0.1326 - accuracy: 0.9546 - val_loss: 0.1183 - val_accuracy: 0.9562\n",
      "Epoch 5/20\n",
      "69531/69531 [==============================] - ETA: 1s - loss: 0.1372 - accuracy: 0.94 - ETA: 1s - loss: 0.1308 - accuracy: 0.95 - ETA: 1s - loss: 0.1305 - accuracy: 0.95 - ETA: 1s - loss: 0.1325 - accuracy: 0.95 - ETA: 1s - loss: 0.1316 - accuracy: 0.95 - ETA: 1s - loss: 0.1318 - accuracy: 0.95 - ETA: 1s - loss: 0.1302 - accuracy: 0.95 - ETA: 1s - loss: 0.1302 - accuracy: 0.95 - ETA: 1s - loss: 0.1301 - accuracy: 0.95 - ETA: 1s - loss: 0.1281 - accuracy: 0.95 - ETA: 1s - loss: 0.1294 - accuracy: 0.95 - ETA: 1s - loss: 0.1306 - accuracy: 0.95 - ETA: 0s - loss: 0.1309 - accuracy: 0.95 - ETA: 0s - loss: 0.1302 - accuracy: 0.95 - ETA: 0s - loss: 0.1304 - accuracy: 0.95 - ETA: 0s - loss: 0.1302 - accuracy: 0.95 - ETA: 0s - loss: 0.1306 - accuracy: 0.95 - ETA: 0s - loss: 0.1305 - accuracy: 0.95 - ETA: 0s - loss: 0.1303 - accuracy: 0.95 - ETA: 0s - loss: 0.1289 - accuracy: 0.95 - ETA: 0s - loss: 0.1292 - accuracy: 0.95 - ETA: 0s - loss: 0.1292 - accuracy: 0.95 - ETA: 0s - loss: 0.1290 - accuracy: 0.95 - ETA: 0s - loss: 0.1282 - accuracy: 0.95 - ETA: 0s - loss: 0.1290 - accuracy: 0.95 - ETA: 0s - loss: 0.1287 - accuracy: 0.95 - ETA: 0s - loss: 0.1286 - accuracy: 0.95 - ETA: 0s - loss: 0.1282 - accuracy: 0.95 - ETA: 0s - loss: 0.1286 - accuracy: 0.95 - ETA: 0s - loss: 0.1282 - accuracy: 0.95 - ETA: 0s - loss: 0.1285 - accuracy: 0.95 - 2s 26us/sample - loss: 0.1287 - accuracy: 0.9560 - val_loss: 0.1161 - val_accuracy: 0.9564\n",
      "Epoch 6/20\n"
     ]
    },
    {
     "name": "stdout",
     "output_type": "stream",
     "text": [
      "69531/69531 [==============================] - ETA: 1s - loss: 0.1224 - accuracy: 0.95 - ETA: 1s - loss: 0.1284 - accuracy: 0.95 - ETA: 1s - loss: 0.1251 - accuracy: 0.95 - ETA: 1s - loss: 0.1272 - accuracy: 0.95 - ETA: 1s - loss: 0.1250 - accuracy: 0.95 - ETA: 1s - loss: 0.1284 - accuracy: 0.95 - ETA: 1s - loss: 0.1257 - accuracy: 0.95 - ETA: 1s - loss: 0.1255 - accuracy: 0.95 - ETA: 1s - loss: 0.1247 - accuracy: 0.95 - ETA: 1s - loss: 0.1268 - accuracy: 0.95 - ETA: 1s - loss: 0.1271 - accuracy: 0.95 - ETA: 1s - loss: 0.1281 - accuracy: 0.95 - ETA: 0s - loss: 0.1280 - accuracy: 0.95 - ETA: 0s - loss: 0.1273 - accuracy: 0.95 - ETA: 0s - loss: 0.1249 - accuracy: 0.95 - ETA: 0s - loss: 0.1241 - accuracy: 0.95 - ETA: 0s - loss: 0.1248 - accuracy: 0.95 - ETA: 0s - loss: 0.1255 - accuracy: 0.95 - ETA: 0s - loss: 0.1256 - accuracy: 0.95 - ETA: 0s - loss: 0.1254 - accuracy: 0.95 - ETA: 0s - loss: 0.1246 - accuracy: 0.95 - ETA: 0s - loss: 0.1248 - accuracy: 0.95 - ETA: 0s - loss: 0.1249 - accuracy: 0.95 - ETA: 0s - loss: 0.1252 - accuracy: 0.95 - ETA: 0s - loss: 0.1248 - accuracy: 0.95 - ETA: 0s - loss: 0.1242 - accuracy: 0.95 - ETA: 0s - loss: 0.1242 - accuracy: 0.95 - ETA: 0s - loss: 0.1240 - accuracy: 0.95 - ETA: 0s - loss: 0.1242 - accuracy: 0.95 - ETA: 0s - loss: 0.1245 - accuracy: 0.95 - ETA: 0s - loss: 0.1245 - accuracy: 0.95 - 2s 26us/sample - loss: 0.1246 - accuracy: 0.9568 - val_loss: 0.1144 - val_accuracy: 0.9579\n",
      "Epoch 7/20\n",
      "69531/69531 [==============================] - ETA: 1s - loss: 0.1295 - accuracy: 0.95 - ETA: 1s - loss: 0.1143 - accuracy: 0.95 - ETA: 1s - loss: 0.1237 - accuracy: 0.95 - ETA: 1s - loss: 0.1241 - accuracy: 0.95 - ETA: 1s - loss: 0.1233 - accuracy: 0.95 - ETA: 1s - loss: 0.1211 - accuracy: 0.95 - ETA: 1s - loss: 0.1202 - accuracy: 0.95 - ETA: 1s - loss: 0.1188 - accuracy: 0.95 - ETA: 1s - loss: 0.1198 - accuracy: 0.95 - ETA: 1s - loss: 0.1213 - accuracy: 0.95 - ETA: 1s - loss: 0.1206 - accuracy: 0.95 - ETA: 1s - loss: 0.1220 - accuracy: 0.95 - ETA: 0s - loss: 0.1227 - accuracy: 0.95 - ETA: 0s - loss: 0.1231 - accuracy: 0.95 - ETA: 0s - loss: 0.1236 - accuracy: 0.95 - ETA: 0s - loss: 0.1243 - accuracy: 0.95 - ETA: 0s - loss: 0.1241 - accuracy: 0.95 - ETA: 0s - loss: 0.1231 - accuracy: 0.95 - ETA: 0s - loss: 0.1234 - accuracy: 0.95 - ETA: 0s - loss: 0.1237 - accuracy: 0.95 - ETA: 0s - loss: 0.1238 - accuracy: 0.95 - ETA: 0s - loss: 0.1232 - accuracy: 0.95 - ETA: 0s - loss: 0.1232 - accuracy: 0.95 - ETA: 0s - loss: 0.1229 - accuracy: 0.95 - ETA: 0s - loss: 0.1228 - accuracy: 0.95 - ETA: 0s - loss: 0.1233 - accuracy: 0.95 - ETA: 0s - loss: 0.1236 - accuracy: 0.95 - ETA: 0s - loss: 0.1230 - accuracy: 0.95 - ETA: 0s - loss: 0.1235 - accuracy: 0.95 - ETA: 0s - loss: 0.1231 - accuracy: 0.95 - ETA: 0s - loss: 0.1231 - accuracy: 0.95 - 2s 25us/sample - loss: 0.1235 - accuracy: 0.9577 - val_loss: 0.1136 - val_accuracy: 0.9577\n",
      "Epoch 8/20\n",
      "69531/69531 [==============================] - ETA: 1s - loss: 0.1360 - accuracy: 0.95 - ETA: 1s - loss: 0.1263 - accuracy: 0.95 - ETA: 1s - loss: 0.1228 - accuracy: 0.95 - ETA: 1s - loss: 0.1195 - accuracy: 0.95 - ETA: 1s - loss: 0.1181 - accuracy: 0.95 - ETA: 1s - loss: 0.1209 - accuracy: 0.95 - ETA: 1s - loss: 0.1227 - accuracy: 0.95 - ETA: 1s - loss: 0.1247 - accuracy: 0.95 - ETA: 1s - loss: 0.1240 - accuracy: 0.95 - ETA: 1s - loss: 0.1235 - accuracy: 0.95 - ETA: 1s - loss: 0.1238 - accuracy: 0.95 - ETA: 1s - loss: 0.1241 - accuracy: 0.95 - ETA: 0s - loss: 0.1235 - accuracy: 0.95 - ETA: 0s - loss: 0.1238 - accuracy: 0.95 - ETA: 0s - loss: 0.1234 - accuracy: 0.95 - ETA: 0s - loss: 0.1237 - accuracy: 0.95 - ETA: 0s - loss: 0.1225 - accuracy: 0.95 - ETA: 0s - loss: 0.1222 - accuracy: 0.95 - ETA: 0s - loss: 0.1216 - accuracy: 0.95 - ETA: 0s - loss: 0.1219 - accuracy: 0.95 - ETA: 0s - loss: 0.1214 - accuracy: 0.95 - ETA: 0s - loss: 0.1210 - accuracy: 0.95 - ETA: 0s - loss: 0.1213 - accuracy: 0.95 - ETA: 0s - loss: 0.1214 - accuracy: 0.95 - ETA: 0s - loss: 0.1210 - accuracy: 0.95 - ETA: 0s - loss: 0.1217 - accuracy: 0.95 - ETA: 0s - loss: 0.1214 - accuracy: 0.95 - ETA: 0s - loss: 0.1215 - accuracy: 0.95 - ETA: 0s - loss: 0.1213 - accuracy: 0.95 - ETA: 0s - loss: 0.1213 - accuracy: 0.95 - ETA: 0s - loss: 0.1209 - accuracy: 0.95 - 2s 26us/sample - loss: 0.1211 - accuracy: 0.9586 - val_loss: 0.1123 - val_accuracy: 0.9585\n",
      "Epoch 9/20\n",
      "69531/69531 [==============================] - ETA: 1s - loss: 0.1524 - accuracy: 0.94 - ETA: 1s - loss: 0.1227 - accuracy: 0.95 - ETA: 1s - loss: 0.1220 - accuracy: 0.95 - ETA: 1s - loss: 0.1225 - accuracy: 0.95 - ETA: 1s - loss: 0.1199 - accuracy: 0.95 - ETA: 1s - loss: 0.1200 - accuracy: 0.95 - ETA: 1s - loss: 0.1220 - accuracy: 0.95 - ETA: 1s - loss: 0.1212 - accuracy: 0.95 - ETA: 1s - loss: 0.1205 - accuracy: 0.95 - ETA: 1s - loss: 0.1204 - accuracy: 0.95 - ETA: 1s - loss: 0.1217 - accuracy: 0.95 - ETA: 1s - loss: 0.1221 - accuracy: 0.95 - ETA: 0s - loss: 0.1227 - accuracy: 0.95 - ETA: 0s - loss: 0.1227 - accuracy: 0.95 - ETA: 0s - loss: 0.1222 - accuracy: 0.95 - ETA: 0s - loss: 0.1229 - accuracy: 0.95 - ETA: 0s - loss: 0.1226 - accuracy: 0.95 - ETA: 0s - loss: 0.1225 - accuracy: 0.95 - ETA: 0s - loss: 0.1223 - accuracy: 0.95 - ETA: 0s - loss: 0.1215 - accuracy: 0.95 - ETA: 0s - loss: 0.1214 - accuracy: 0.95 - ETA: 0s - loss: 0.1212 - accuracy: 0.95 - ETA: 0s - loss: 0.1211 - accuracy: 0.95 - ETA: 0s - loss: 0.1209 - accuracy: 0.95 - ETA: 0s - loss: 0.1206 - accuracy: 0.95 - ETA: 0s - loss: 0.1204 - accuracy: 0.95 - ETA: 0s - loss: 0.1214 - accuracy: 0.95 - ETA: 0s - loss: 0.1214 - accuracy: 0.95 - ETA: 0s - loss: 0.1212 - accuracy: 0.95 - ETA: 0s - loss: 0.1207 - accuracy: 0.95 - ETA: 0s - loss: 0.1205 - accuracy: 0.95 - 2s 26us/sample - loss: 0.1206 - accuracy: 0.9587 - val_loss: 0.1116 - val_accuracy: 0.9591\n",
      "Epoch 10/20\n",
      "69531/69531 [==============================] - ETA: 1s - loss: 0.1263 - accuracy: 0.97 - ETA: 1s - loss: 0.1169 - accuracy: 0.96 - ETA: 1s - loss: 0.1201 - accuracy: 0.96 - ETA: 1s - loss: 0.1172 - accuracy: 0.96 - ETA: 1s - loss: 0.1200 - accuracy: 0.95 - ETA: 1s - loss: 0.1198 - accuracy: 0.95 - ETA: 1s - loss: 0.1199 - accuracy: 0.95 - ETA: 1s - loss: 0.1193 - accuracy: 0.95 - ETA: 1s - loss: 0.1214 - accuracy: 0.95 - ETA: 1s - loss: 0.1199 - accuracy: 0.95 - ETA: 1s - loss: 0.1178 - accuracy: 0.96 - ETA: 1s - loss: 0.1180 - accuracy: 0.96 - ETA: 0s - loss: 0.1182 - accuracy: 0.95 - ETA: 0s - loss: 0.1197 - accuracy: 0.95 - ETA: 0s - loss: 0.1200 - accuracy: 0.95 - ETA: 0s - loss: 0.1191 - accuracy: 0.95 - ETA: 0s - loss: 0.1191 - accuracy: 0.95 - ETA: 0s - loss: 0.1189 - accuracy: 0.95 - ETA: 0s - loss: 0.1196 - accuracy: 0.95 - ETA: 0s - loss: 0.1191 - accuracy: 0.95 - ETA: 0s - loss: 0.1181 - accuracy: 0.95 - ETA: 0s - loss: 0.1188 - accuracy: 0.95 - ETA: 0s - loss: 0.1190 - accuracy: 0.95 - ETA: 0s - loss: 0.1191 - accuracy: 0.95 - ETA: 0s - loss: 0.1187 - accuracy: 0.95 - ETA: 0s - loss: 0.1190 - accuracy: 0.95 - ETA: 0s - loss: 0.1188 - accuracy: 0.95 - ETA: 0s - loss: 0.1185 - accuracy: 0.95 - ETA: 0s - loss: 0.1182 - accuracy: 0.95 - ETA: 0s - loss: 0.1180 - accuracy: 0.95 - ETA: 0s - loss: 0.1183 - accuracy: 0.95 - 2s 26us/sample - loss: 0.1185 - accuracy: 0.9593 - val_loss: 0.1108 - val_accuracy: 0.9588\n",
      "Epoch 11/20\n"
     ]
    },
    {
     "name": "stdout",
     "output_type": "stream",
     "text": [
      "69531/69531 [==============================] - ETA: 1s - loss: 0.1200 - accuracy: 0.94 - ETA: 1s - loss: 0.1248 - accuracy: 0.95 - ETA: 1s - loss: 0.1242 - accuracy: 0.95 - ETA: 1s - loss: 0.1201 - accuracy: 0.95 - ETA: 1s - loss: 0.1167 - accuracy: 0.95 - ETA: 1s - loss: 0.1165 - accuracy: 0.95 - ETA: 1s - loss: 0.1169 - accuracy: 0.95 - ETA: 1s - loss: 0.1150 - accuracy: 0.95 - ETA: 1s - loss: 0.1145 - accuracy: 0.95 - ETA: 1s - loss: 0.1155 - accuracy: 0.95 - ETA: 1s - loss: 0.1156 - accuracy: 0.95 - ETA: 1s - loss: 0.1158 - accuracy: 0.95 - ETA: 0s - loss: 0.1149 - accuracy: 0.96 - ETA: 0s - loss: 0.1151 - accuracy: 0.96 - ETA: 0s - loss: 0.1150 - accuracy: 0.96 - ETA: 0s - loss: 0.1157 - accuracy: 0.95 - ETA: 0s - loss: 0.1151 - accuracy: 0.96 - ETA: 0s - loss: 0.1157 - accuracy: 0.95 - ETA: 0s - loss: 0.1169 - accuracy: 0.95 - ETA: 0s - loss: 0.1167 - accuracy: 0.95 - ETA: 0s - loss: 0.1166 - accuracy: 0.95 - ETA: 0s - loss: 0.1167 - accuracy: 0.95 - ETA: 0s - loss: 0.1167 - accuracy: 0.95 - ETA: 0s - loss: 0.1170 - accuracy: 0.95 - ETA: 0s - loss: 0.1167 - accuracy: 0.95 - ETA: 0s - loss: 0.1170 - accuracy: 0.95 - ETA: 0s - loss: 0.1169 - accuracy: 0.95 - ETA: 0s - loss: 0.1170 - accuracy: 0.95 - ETA: 0s - loss: 0.1171 - accuracy: 0.95 - ETA: 0s - loss: 0.1172 - accuracy: 0.95 - ETA: 0s - loss: 0.1170 - accuracy: 0.95 - 2s 25us/sample - loss: 0.1172 - accuracy: 0.9595 - val_loss: 0.1100 - val_accuracy: 0.9588\n",
      "Epoch 12/20\n",
      "69531/69531 [==============================] - ETA: 1s - loss: 0.1483 - accuracy: 0.94 - ETA: 1s - loss: 0.1090 - accuracy: 0.95 - ETA: 1s - loss: 0.1015 - accuracy: 0.96 - ETA: 1s - loss: 0.1068 - accuracy: 0.96 - ETA: 1s - loss: 0.1090 - accuracy: 0.96 - ETA: 1s - loss: 0.1108 - accuracy: 0.95 - ETA: 1s - loss: 0.1140 - accuracy: 0.95 - ETA: 1s - loss: 0.1139 - accuracy: 0.95 - ETA: 1s - loss: 0.1135 - accuracy: 0.95 - ETA: 1s - loss: 0.1153 - accuracy: 0.95 - ETA: 1s - loss: 0.1169 - accuracy: 0.95 - ETA: 1s - loss: 0.1178 - accuracy: 0.95 - ETA: 0s - loss: 0.1168 - accuracy: 0.95 - ETA: 0s - loss: 0.1171 - accuracy: 0.95 - ETA: 0s - loss: 0.1154 - accuracy: 0.95 - ETA: 0s - loss: 0.1167 - accuracy: 0.95 - ETA: 0s - loss: 0.1172 - accuracy: 0.95 - ETA: 0s - loss: 0.1172 - accuracy: 0.95 - ETA: 0s - loss: 0.1178 - accuracy: 0.95 - ETA: 0s - loss: 0.1179 - accuracy: 0.95 - ETA: 0s - loss: 0.1183 - accuracy: 0.95 - ETA: 0s - loss: 0.1177 - accuracy: 0.95 - ETA: 0s - loss: 0.1176 - accuracy: 0.95 - ETA: 0s - loss: 0.1174 - accuracy: 0.95 - ETA: 0s - loss: 0.1175 - accuracy: 0.95 - ETA: 0s - loss: 0.1171 - accuracy: 0.95 - ETA: 0s - loss: 0.1168 - accuracy: 0.95 - ETA: 0s - loss: 0.1165 - accuracy: 0.95 - ETA: 0s - loss: 0.1165 - accuracy: 0.95 - ETA: 0s - loss: 0.1170 - accuracy: 0.95 - ETA: 0s - loss: 0.1170 - accuracy: 0.95 - 2s 26us/sample - loss: 0.1169 - accuracy: 0.9598 - val_loss: 0.1094 - val_accuracy: 0.9597\n",
      "Epoch 13/20\n",
      "69531/69531 [==============================] - ETA: 1s - loss: 0.0940 - accuracy: 0.97 - ETA: 1s - loss: 0.1219 - accuracy: 0.95 - ETA: 1s - loss: 0.1207 - accuracy: 0.95 - ETA: 1s - loss: 0.1150 - accuracy: 0.96 - ETA: 1s - loss: 0.1107 - accuracy: 0.96 - ETA: 1s - loss: 0.1125 - accuracy: 0.96 - ETA: 1s - loss: 0.1125 - accuracy: 0.96 - ETA: 1s - loss: 0.1131 - accuracy: 0.96 - ETA: 1s - loss: 0.1140 - accuracy: 0.96 - ETA: 1s - loss: 0.1132 - accuracy: 0.96 - ETA: 1s - loss: 0.1148 - accuracy: 0.96 - ETA: 0s - loss: 0.1152 - accuracy: 0.96 - ETA: 0s - loss: 0.1151 - accuracy: 0.96 - ETA: 0s - loss: 0.1155 - accuracy: 0.96 - ETA: 0s - loss: 0.1155 - accuracy: 0.96 - ETA: 0s - loss: 0.1151 - accuracy: 0.96 - ETA: 0s - loss: 0.1153 - accuracy: 0.96 - ETA: 0s - loss: 0.1158 - accuracy: 0.96 - ETA: 0s - loss: 0.1163 - accuracy: 0.96 - ETA: 0s - loss: 0.1167 - accuracy: 0.96 - ETA: 0s - loss: 0.1169 - accuracy: 0.96 - ETA: 0s - loss: 0.1167 - accuracy: 0.96 - ETA: 0s - loss: 0.1171 - accuracy: 0.96 - ETA: 0s - loss: 0.1162 - accuracy: 0.96 - ETA: 0s - loss: 0.1160 - accuracy: 0.96 - ETA: 0s - loss: 0.1156 - accuracy: 0.96 - ETA: 0s - loss: 0.1156 - accuracy: 0.96 - ETA: 0s - loss: 0.1155 - accuracy: 0.96 - ETA: 0s - loss: 0.1156 - accuracy: 0.96 - ETA: 0s - loss: 0.1155 - accuracy: 0.96 - ETA: 0s - loss: 0.1151 - accuracy: 0.96 - 2s 26us/sample - loss: 0.1153 - accuracy: 0.9601 - val_loss: 0.1090 - val_accuracy: 0.9601\n",
      "Epoch 14/20\n",
      "69531/69531 [==============================] - ETA: 1s - loss: 0.1137 - accuracy: 0.96 - ETA: 1s - loss: 0.1059 - accuracy: 0.96 - ETA: 1s - loss: 0.1059 - accuracy: 0.96 - ETA: 1s - loss: 0.1077 - accuracy: 0.96 - ETA: 1s - loss: 0.1129 - accuracy: 0.95 - ETA: 1s - loss: 0.1137 - accuracy: 0.95 - ETA: 1s - loss: 0.1122 - accuracy: 0.96 - ETA: 1s - loss: 0.1166 - accuracy: 0.95 - ETA: 1s - loss: 0.1177 - accuracy: 0.95 - ETA: 1s - loss: 0.1166 - accuracy: 0.95 - ETA: 1s - loss: 0.1143 - accuracy: 0.95 - ETA: 1s - loss: 0.1126 - accuracy: 0.96 - ETA: 0s - loss: 0.1131 - accuracy: 0.96 - ETA: 0s - loss: 0.1142 - accuracy: 0.96 - ETA: 0s - loss: 0.1144 - accuracy: 0.96 - ETA: 0s - loss: 0.1144 - accuracy: 0.96 - ETA: 0s - loss: 0.1161 - accuracy: 0.96 - ETA: 0s - loss: 0.1159 - accuracy: 0.96 - ETA: 0s - loss: 0.1158 - accuracy: 0.96 - ETA: 0s - loss: 0.1163 - accuracy: 0.96 - ETA: 0s - loss: 0.1155 - accuracy: 0.96 - ETA: 0s - loss: 0.1155 - accuracy: 0.96 - ETA: 0s - loss: 0.1158 - accuracy: 0.96 - ETA: 0s - loss: 0.1151 - accuracy: 0.96 - ETA: 0s - loss: 0.1155 - accuracy: 0.96 - ETA: 0s - loss: 0.1153 - accuracy: 0.96 - ETA: 0s - loss: 0.1149 - accuracy: 0.96 - ETA: 0s - loss: 0.1146 - accuracy: 0.96 - ETA: 0s - loss: 0.1140 - accuracy: 0.96 - ETA: 0s - loss: 0.1141 - accuracy: 0.96 - ETA: 0s - loss: 0.1143 - accuracy: 0.96 - 2s 26us/sample - loss: 0.1144 - accuracy: 0.9603 - val_loss: 0.1085 - val_accuracy: 0.9603\n",
      "Epoch 15/20\n",
      "69531/69531 [==============================] - ETA: 1s - loss: 0.1747 - accuracy: 0.94 - ETA: 1s - loss: 0.1108 - accuracy: 0.95 - ETA: 1s - loss: 0.1028 - accuracy: 0.96 - ETA: 1s - loss: 0.1065 - accuracy: 0.96 - ETA: 1s - loss: 0.1077 - accuracy: 0.96 - ETA: 1s - loss: 0.1106 - accuracy: 0.96 - ETA: 1s - loss: 0.1118 - accuracy: 0.95 - ETA: 1s - loss: 0.1113 - accuracy: 0.96 - ETA: 1s - loss: 0.1103 - accuracy: 0.96 - ETA: 1s - loss: 0.1106 - accuracy: 0.96 - ETA: 1s - loss: 0.1130 - accuracy: 0.95 - ETA: 1s - loss: 0.1125 - accuracy: 0.96 - ETA: 0s - loss: 0.1125 - accuracy: 0.96 - ETA: 0s - loss: 0.1129 - accuracy: 0.96 - ETA: 0s - loss: 0.1129 - accuracy: 0.96 - ETA: 0s - loss: 0.1140 - accuracy: 0.95 - ETA: 0s - loss: 0.1135 - accuracy: 0.96 - ETA: 0s - loss: 0.1143 - accuracy: 0.95 - ETA: 0s - loss: 0.1139 - accuracy: 0.95 - ETA: 0s - loss: 0.1139 - accuracy: 0.96 - ETA: 0s - loss: 0.1140 - accuracy: 0.96 - ETA: 0s - loss: 0.1144 - accuracy: 0.95 - ETA: 0s - loss: 0.1146 - accuracy: 0.95 - ETA: 0s - loss: 0.1137 - accuracy: 0.96 - ETA: 0s - loss: 0.1134 - accuracy: 0.96 - ETA: 0s - loss: 0.1136 - accuracy: 0.96 - ETA: 0s - loss: 0.1140 - accuracy: 0.96 - ETA: 0s - loss: 0.1138 - accuracy: 0.96 - ETA: 0s - loss: 0.1133 - accuracy: 0.96 - ETA: 0s - loss: 0.1135 - accuracy: 0.96 - ETA: 0s - loss: 0.1132 - accuracy: 0.96 - ETA: 0s - loss: 0.1131 - accuracy: 0.96 - 2s 26us/sample - loss: 0.1131 - accuracy: 0.9604 - val_loss: 0.1085 - val_accuracy: 0.9606\n",
      "Epoch 16/20\n"
     ]
    },
    {
     "name": "stdout",
     "output_type": "stream",
     "text": [
      "69531/69531 [==============================] - ETA: 1s - loss: 0.1366 - accuracy: 0.95 - ETA: 1s - loss: 0.1104 - accuracy: 0.95 - ETA: 1s - loss: 0.1134 - accuracy: 0.95 - ETA: 1s - loss: 0.1204 - accuracy: 0.95 - ETA: 1s - loss: 0.1168 - accuracy: 0.95 - ETA: 1s - loss: 0.1153 - accuracy: 0.95 - ETA: 1s - loss: 0.1145 - accuracy: 0.95 - ETA: 1s - loss: 0.1145 - accuracy: 0.95 - ETA: 1s - loss: 0.1133 - accuracy: 0.95 - ETA: 1s - loss: 0.1149 - accuracy: 0.95 - ETA: 1s - loss: 0.1127 - accuracy: 0.96 - ETA: 0s - loss: 0.1151 - accuracy: 0.95 - ETA: 0s - loss: 0.1148 - accuracy: 0.95 - ETA: 0s - loss: 0.1162 - accuracy: 0.95 - ETA: 0s - loss: 0.1169 - accuracy: 0.95 - ETA: 0s - loss: 0.1167 - accuracy: 0.95 - ETA: 0s - loss: 0.1172 - accuracy: 0.95 - ETA: 0s - loss: 0.1161 - accuracy: 0.95 - ETA: 0s - loss: 0.1159 - accuracy: 0.95 - ETA: 0s - loss: 0.1162 - accuracy: 0.95 - ETA: 0s - loss: 0.1163 - accuracy: 0.95 - ETA: 0s - loss: 0.1167 - accuracy: 0.95 - ETA: 0s - loss: 0.1161 - accuracy: 0.95 - ETA: 0s - loss: 0.1157 - accuracy: 0.95 - ETA: 0s - loss: 0.1161 - accuracy: 0.95 - ETA: 0s - loss: 0.1152 - accuracy: 0.95 - ETA: 0s - loss: 0.1145 - accuracy: 0.96 - ETA: 0s - loss: 0.1143 - accuracy: 0.96 - ETA: 0s - loss: 0.1143 - accuracy: 0.96 - ETA: 0s - loss: 0.1137 - accuracy: 0.96 - 2s 25us/sample - loss: 0.1134 - accuracy: 0.9603 - val_loss: 0.1081 - val_accuracy: 0.9606\n",
      "Epoch 17/20\n",
      "69531/69531 [==============================] - ETA: 1s - loss: 0.1269 - accuracy: 0.96 - ETA: 1s - loss: 0.1267 - accuracy: 0.95 - ETA: 1s - loss: 0.1240 - accuracy: 0.95 - ETA: 1s - loss: 0.1221 - accuracy: 0.95 - ETA: 1s - loss: 0.1196 - accuracy: 0.95 - ETA: 1s - loss: 0.1180 - accuracy: 0.95 - ETA: 1s - loss: 0.1189 - accuracy: 0.95 - ETA: 1s - loss: 0.1176 - accuracy: 0.95 - ETA: 1s - loss: 0.1178 - accuracy: 0.95 - ETA: 1s - loss: 0.1176 - accuracy: 0.95 - ETA: 1s - loss: 0.1175 - accuracy: 0.95 - ETA: 1s - loss: 0.1163 - accuracy: 0.95 - ETA: 1s - loss: 0.1158 - accuracy: 0.95 - ETA: 0s - loss: 0.1154 - accuracy: 0.96 - ETA: 0s - loss: 0.1158 - accuracy: 0.96 - ETA: 0s - loss: 0.1150 - accuracy: 0.96 - ETA: 0s - loss: 0.1147 - accuracy: 0.96 - ETA: 0s - loss: 0.1143 - accuracy: 0.95 - ETA: 0s - loss: 0.1143 - accuracy: 0.96 - ETA: 0s - loss: 0.1144 - accuracy: 0.96 - ETA: 0s - loss: 0.1148 - accuracy: 0.95 - ETA: 0s - loss: 0.1146 - accuracy: 0.95 - ETA: 0s - loss: 0.1139 - accuracy: 0.96 - ETA: 0s - loss: 0.1141 - accuracy: 0.95 - ETA: 0s - loss: 0.1140 - accuracy: 0.95 - ETA: 0s - loss: 0.1131 - accuracy: 0.96 - ETA: 0s - loss: 0.1133 - accuracy: 0.96 - ETA: 0s - loss: 0.1129 - accuracy: 0.96 - ETA: 0s - loss: 0.1130 - accuracy: 0.96 - ETA: 0s - loss: 0.1130 - accuracy: 0.96 - ETA: 0s - loss: 0.1130 - accuracy: 0.96 - 2s 25us/sample - loss: 0.1132 - accuracy: 0.9600 - val_loss: 0.1080 - val_accuracy: 0.9606\n",
      "Epoch 18/20\n",
      "69531/69531 [==============================] - ETA: 1s - loss: 0.1001 - accuracy: 0.96 - ETA: 1s - loss: 0.1367 - accuracy: 0.94 - ETA: 1s - loss: 0.1291 - accuracy: 0.95 - ETA: 1s - loss: 0.1256 - accuracy: 0.95 - ETA: 1s - loss: 0.1235 - accuracy: 0.95 - ETA: 1s - loss: 0.1212 - accuracy: 0.95 - ETA: 1s - loss: 0.1194 - accuracy: 0.95 - ETA: 1s - loss: 0.1177 - accuracy: 0.95 - ETA: 1s - loss: 0.1138 - accuracy: 0.96 - ETA: 1s - loss: 0.1145 - accuracy: 0.96 - ETA: 1s - loss: 0.1135 - accuracy: 0.96 - ETA: 1s - loss: 0.1135 - accuracy: 0.96 - ETA: 0s - loss: 0.1143 - accuracy: 0.96 - ETA: 0s - loss: 0.1149 - accuracy: 0.95 - ETA: 0s - loss: 0.1138 - accuracy: 0.96 - ETA: 0s - loss: 0.1149 - accuracy: 0.96 - ETA: 0s - loss: 0.1145 - accuracy: 0.96 - ETA: 0s - loss: 0.1143 - accuracy: 0.95 - ETA: 0s - loss: 0.1138 - accuracy: 0.96 - ETA: 0s - loss: 0.1144 - accuracy: 0.96 - ETA: 0s - loss: 0.1143 - accuracy: 0.95 - ETA: 0s - loss: 0.1139 - accuracy: 0.96 - ETA: 0s - loss: 0.1137 - accuracy: 0.96 - ETA: 0s - loss: 0.1137 - accuracy: 0.96 - ETA: 0s - loss: 0.1139 - accuracy: 0.96 - ETA: 0s - loss: 0.1139 - accuracy: 0.95 - ETA: 0s - loss: 0.1133 - accuracy: 0.96 - ETA: 0s - loss: 0.1129 - accuracy: 0.96 - ETA: 0s - loss: 0.1124 - accuracy: 0.96 - ETA: 0s - loss: 0.1124 - accuracy: 0.96 - ETA: 0s - loss: 0.1126 - accuracy: 0.96 - 2s 26us/sample - loss: 0.1125 - accuracy: 0.9605 - val_loss: 0.1070 - val_accuracy: 0.9606\n",
      "Epoch 19/20\n",
      "69531/69531 [==============================] - ETA: 1s - loss: 0.0842 - accuracy: 0.97 - ETA: 1s - loss: 0.1221 - accuracy: 0.96 - ETA: 1s - loss: 0.1079 - accuracy: 0.96 - ETA: 1s - loss: 0.1129 - accuracy: 0.96 - ETA: 1s - loss: 0.1136 - accuracy: 0.96 - ETA: 1s - loss: 0.1119 - accuracy: 0.96 - ETA: 1s - loss: 0.1150 - accuracy: 0.96 - ETA: 1s - loss: 0.1153 - accuracy: 0.96 - ETA: 1s - loss: 0.1132 - accuracy: 0.96 - ETA: 1s - loss: 0.1120 - accuracy: 0.96 - ETA: 1s - loss: 0.1128 - accuracy: 0.96 - ETA: 1s - loss: 0.1124 - accuracy: 0.96 - ETA: 0s - loss: 0.1128 - accuracy: 0.96 - ETA: 0s - loss: 0.1128 - accuracy: 0.96 - ETA: 0s - loss: 0.1127 - accuracy: 0.96 - ETA: 0s - loss: 0.1137 - accuracy: 0.96 - ETA: 0s - loss: 0.1144 - accuracy: 0.96 - ETA: 0s - loss: 0.1133 - accuracy: 0.96 - ETA: 0s - loss: 0.1126 - accuracy: 0.96 - ETA: 0s - loss: 0.1125 - accuracy: 0.96 - ETA: 0s - loss: 0.1125 - accuracy: 0.96 - ETA: 0s - loss: 0.1123 - accuracy: 0.96 - ETA: 0s - loss: 0.1119 - accuracy: 0.96 - ETA: 0s - loss: 0.1120 - accuracy: 0.96 - ETA: 0s - loss: 0.1121 - accuracy: 0.96 - ETA: 0s - loss: 0.1122 - accuracy: 0.96 - ETA: 0s - loss: 0.1116 - accuracy: 0.96 - ETA: 0s - loss: 0.1117 - accuracy: 0.96 - ETA: 0s - loss: 0.1120 - accuracy: 0.96 - ETA: 0s - loss: 0.1117 - accuracy: 0.96 - ETA: 0s - loss: 0.1121 - accuracy: 0.96 - 2s 26us/sample - loss: 0.1120 - accuracy: 0.9608 - val_loss: 0.1065 - val_accuracy: 0.9614\n",
      "Epoch 20/20\n",
      "69531/69531 [==============================] - ETA: 1s - loss: 0.1006 - accuracy: 0.96 - ETA: 1s - loss: 0.1029 - accuracy: 0.96 - ETA: 1s - loss: 0.1043 - accuracy: 0.96 - ETA: 1s - loss: 0.1098 - accuracy: 0.96 - ETA: 1s - loss: 0.1094 - accuracy: 0.96 - ETA: 1s - loss: 0.1106 - accuracy: 0.96 - ETA: 1s - loss: 0.1088 - accuracy: 0.96 - ETA: 1s - loss: 0.1104 - accuracy: 0.96 - ETA: 1s - loss: 0.1102 - accuracy: 0.96 - ETA: 1s - loss: 0.1109 - accuracy: 0.96 - ETA: 1s - loss: 0.1110 - accuracy: 0.96 - ETA: 1s - loss: 0.1113 - accuracy: 0.96 - ETA: 0s - loss: 0.1125 - accuracy: 0.96 - ETA: 0s - loss: 0.1131 - accuracy: 0.96 - ETA: 0s - loss: 0.1124 - accuracy: 0.96 - ETA: 0s - loss: 0.1116 - accuracy: 0.96 - ETA: 0s - loss: 0.1114 - accuracy: 0.96 - ETA: 0s - loss: 0.1121 - accuracy: 0.96 - ETA: 0s - loss: 0.1114 - accuracy: 0.96 - ETA: 0s - loss: 0.1117 - accuracy: 0.96 - ETA: 0s - loss: 0.1116 - accuracy: 0.96 - ETA: 0s - loss: 0.1118 - accuracy: 0.96 - ETA: 0s - loss: 0.1120 - accuracy: 0.96 - ETA: 0s - loss: 0.1122 - accuracy: 0.96 - ETA: 0s - loss: 0.1124 - accuracy: 0.96 - ETA: 0s - loss: 0.1127 - accuracy: 0.96 - ETA: 0s - loss: 0.1125 - accuracy: 0.96 - ETA: 0s - loss: 0.1130 - accuracy: 0.96 - ETA: 0s - loss: 0.1130 - accuracy: 0.96 - ETA: 0s - loss: 0.1125 - accuracy: 0.96 - ETA: 0s - loss: 0.1128 - accuracy: 0.96 - 2s 26us/sample - loss: 0.1127 - accuracy: 0.9603 - val_loss: 0.1062 - val_accuracy: 0.9623\n"
     ]
    },
    {
     "data": {
      "text/html": [
       "<span style=\"color:#4527A0\"><h1 style=\"font-size:18px\">Trial complete</h1></span>"
      ],
      "text/plain": [
       "<IPython.core.display.HTML object>"
      ]
     },
     "metadata": {},
     "output_type": "display_data"
    },
    {
     "data": {
      "text/html": [
       "<span style=\"color:#4527A0\"><h1 style=\"font-size:18px\">Trial summary</h1></span>"
      ],
      "text/plain": [
       "<IPython.core.display.HTML object>"
      ]
     },
     "metadata": {},
     "output_type": "display_data"
    },
    {
     "data": {
      "text/html": [
       "<span style=\"color:cyan\"> |-Trial ID: b5dd9f892803f608188fd8097aa567e1</span>"
      ],
      "text/plain": [
       "<IPython.core.display.HTML object>"
      ]
     },
     "metadata": {},
     "output_type": "display_data"
    },
    {
     "data": {
      "text/html": [
       "<span style=\"color:cyan\"> |-Score: 0.9622902274131775</span>"
      ],
      "text/plain": [
       "<IPython.core.display.HTML object>"
      ]
     },
     "metadata": {},
     "output_type": "display_data"
    },
    {
     "data": {
      "text/html": [
       "<span style=\"color:cyan\"> |-Best step: 0</span>"
      ],
      "text/plain": [
       "<IPython.core.display.HTML object>"
      ]
     },
     "metadata": {},
     "output_type": "display_data"
    },
    {
     "data": {
      "text/html": [
       "<span style=\"color:#7E57C2\"><h2 style=\"font-size:16px\">Hyperparameters:</h2></span>"
      ],
      "text/plain": [
       "<IPython.core.display.HTML object>"
      ]
     },
     "metadata": {},
     "output_type": "display_data"
    },
    {
     "data": {
      "text/html": [
       "<span style=\"color:cyan\"> |-rate_1: 0.2</span>"
      ],
      "text/plain": [
       "<IPython.core.display.HTML object>"
      ]
     },
     "metadata": {},
     "output_type": "display_data"
    },
    {
     "data": {
      "text/html": [
       "<span style=\"color:blue\"> |-rate_2: 0.5000000000000001</span>"
      ],
      "text/plain": [
       "<IPython.core.display.HTML object>"
      ]
     },
     "metadata": {},
     "output_type": "display_data"
    },
    {
     "data": {
      "text/html": [
       "<span style=\"color:cyan\"> |-tuner/bracket: 0</span>"
      ],
      "text/plain": [
       "<IPython.core.display.HTML object>"
      ]
     },
     "metadata": {},
     "output_type": "display_data"
    },
    {
     "data": {
      "text/html": [
       "<span style=\"color:blue\"> |-tuner/epochs: 20</span>"
      ],
      "text/plain": [
       "<IPython.core.display.HTML object>"
      ]
     },
     "metadata": {},
     "output_type": "display_data"
    },
    {
     "data": {
      "text/html": [
       "<span style=\"color:cyan\"> |-tuner/initial_epoch: 0</span>"
      ],
      "text/plain": [
       "<IPython.core.display.HTML object>"
      ]
     },
     "metadata": {},
     "output_type": "display_data"
    },
    {
     "data": {
      "text/html": [
       "<span style=\"color:blue\"> |-tuner/round: 0</span>"
      ],
      "text/plain": [
       "<IPython.core.display.HTML object>"
      ]
     },
     "metadata": {},
     "output_type": "display_data"
    },
    {
     "data": {
      "text/html": [
       "<span style=\"color:cyan\"> |-units_1: 28</span>"
      ],
      "text/plain": [
       "<IPython.core.display.HTML object>"
      ]
     },
     "metadata": {},
     "output_type": "display_data"
    },
    {
     "data": {
      "text/html": [
       "<span style=\"color:blue\"> |-units_2: 36</span>"
      ],
      "text/plain": [
       "<IPython.core.display.HTML object>"
      ]
     },
     "metadata": {},
     "output_type": "display_data"
    },
    {
     "name": "stdout",
     "output_type": "stream",
     "text": [
      "Train on 69531 samples, validate on 23177 samples\n",
      "Epoch 1/20\n",
      "69531/69531 [==============================] - ETA: 2:20 - loss: 0.7372 - accuracy: 0.53 - ETA: 14s - loss: 0.6605 - accuracy: 0.6203 - ETA: 8s - loss: 0.6209 - accuracy: 0.663 - ETA: 6s - loss: 0.5793 - accuracy: 0.70 - ETA: 4s - loss: 0.5417 - accuracy: 0.73 - ETA: 3s - loss: 0.5083 - accuracy: 0.76 - ETA: 3s - loss: 0.4794 - accuracy: 0.78 - ETA: 3s - loss: 0.4575 - accuracy: 0.79 - ETA: 2s - loss: 0.4339 - accuracy: 0.81 - ETA: 2s - loss: 0.4178 - accuracy: 0.82 - ETA: 2s - loss: 0.4009 - accuracy: 0.82 - ETA: 2s - loss: 0.3876 - accuracy: 0.83 - ETA: 1s - loss: 0.3766 - accuracy: 0.84 - ETA: 1s - loss: 0.3619 - accuracy: 0.84 - ETA: 1s - loss: 0.3511 - accuracy: 0.85 - ETA: 1s - loss: 0.3422 - accuracy: 0.85 - ETA: 1s - loss: 0.3323 - accuracy: 0.86 - ETA: 1s - loss: 0.3236 - accuracy: 0.86 - ETA: 1s - loss: 0.3155 - accuracy: 0.87 - ETA: 1s - loss: 0.3095 - accuracy: 0.87 - ETA: 1s - loss: 0.3025 - accuracy: 0.87 - ETA: 0s - loss: 0.2972 - accuracy: 0.88 - ETA: 0s - loss: 0.2918 - accuracy: 0.88 - ETA: 0s - loss: 0.2865 - accuracy: 0.88 - ETA: 0s - loss: 0.2818 - accuracy: 0.88 - ETA: 0s - loss: 0.2773 - accuracy: 0.88 - ETA: 0s - loss: 0.2732 - accuracy: 0.89 - ETA: 0s - loss: 0.2694 - accuracy: 0.89 - ETA: 0s - loss: 0.2652 - accuracy: 0.89 - ETA: 0s - loss: 0.2614 - accuracy: 0.89 - ETA: 0s - loss: 0.2584 - accuracy: 0.89 - ETA: 0s - loss: 0.2549 - accuracy: 0.89 - ETA: 0s - loss: 0.2516 - accuracy: 0.90 - 3s 37us/sample - loss: 0.2499 - accuracy: 0.9017 - val_loss: 0.1303 - val_accuracy: 0.9528\n",
      "Epoch 2/20\n",
      "69531/69531 [==============================] - ETA: 1s - loss: 0.1541 - accuracy: 0.92 - ETA: 1s - loss: 0.1496 - accuracy: 0.95 - ETA: 1s - loss: 0.1562 - accuracy: 0.94 - ETA: 1s - loss: 0.1495 - accuracy: 0.94 - ETA: 1s - loss: 0.1503 - accuracy: 0.94 - ETA: 1s - loss: 0.1497 - accuracy: 0.94 - ETA: 1s - loss: 0.1487 - accuracy: 0.94 - ETA: 1s - loss: 0.1498 - accuracy: 0.94 - ETA: 1s - loss: 0.1472 - accuracy: 0.94 - ETA: 1s - loss: 0.1471 - accuracy: 0.94 - ETA: 1s - loss: 0.1466 - accuracy: 0.94 - ETA: 1s - loss: 0.1465 - accuracy: 0.94 - ETA: 1s - loss: 0.1461 - accuracy: 0.94 - ETA: 0s - loss: 0.1463 - accuracy: 0.94 - ETA: 0s - loss: 0.1460 - accuracy: 0.94 - ETA: 0s - loss: 0.1465 - accuracy: 0.94 - ETA: 0s - loss: 0.1464 - accuracy: 0.94 - ETA: 0s - loss: 0.1458 - accuracy: 0.94 - ETA: 0s - loss: 0.1454 - accuracy: 0.94 - ETA: 0s - loss: 0.1457 - accuracy: 0.94 - ETA: 0s - loss: 0.1449 - accuracy: 0.94 - ETA: 0s - loss: 0.1453 - accuracy: 0.94 - ETA: 0s - loss: 0.1447 - accuracy: 0.94 - ETA: 0s - loss: 0.1452 - accuracy: 0.94 - ETA: 0s - loss: 0.1453 - accuracy: 0.94 - ETA: 0s - loss: 0.1452 - accuracy: 0.94 - ETA: 0s - loss: 0.1448 - accuracy: 0.94 - ETA: 0s - loss: 0.1447 - accuracy: 0.94 - ETA: 0s - loss: 0.1444 - accuracy: 0.94 - ETA: 0s - loss: 0.1439 - accuracy: 0.95 - ETA: 0s - loss: 0.1440 - accuracy: 0.95 - ETA: 0s - loss: 0.1442 - accuracy: 0.94 - ETA: 0s - loss: 0.1444 - accuracy: 0.94 - ETA: 0s - loss: 0.1440 - accuracy: 0.94 - 2s 29us/sample - loss: 0.1436 - accuracy: 0.9501 - val_loss: 0.1215 - val_accuracy: 0.9550\n",
      "Epoch 3/20\n",
      "69531/69531 [==============================] - ETA: 2s - loss: 0.1246 - accuracy: 0.95 - ETA: 1s - loss: 0.1445 - accuracy: 0.94 - ETA: 1s - loss: 0.1454 - accuracy: 0.94 - ETA: 1s - loss: 0.1413 - accuracy: 0.94 - ETA: 1s - loss: 0.1423 - accuracy: 0.94 - ETA: 1s - loss: 0.1436 - accuracy: 0.94 - ETA: 1s - loss: 0.1407 - accuracy: 0.95 - ETA: 1s - loss: 0.1404 - accuracy: 0.94 - ETA: 1s - loss: 0.1405 - accuracy: 0.94 - ETA: 1s - loss: 0.1386 - accuracy: 0.95 - ETA: 1s - loss: 0.1380 - accuracy: 0.95 - ETA: 1s - loss: 0.1372 - accuracy: 0.95 - ETA: 1s - loss: 0.1382 - accuracy: 0.95 - ETA: 1s - loss: 0.1390 - accuracy: 0.95 - ETA: 1s - loss: 0.1384 - accuracy: 0.95 - ETA: 1s - loss: 0.1386 - accuracy: 0.95 - ETA: 0s - loss: 0.1378 - accuracy: 0.95 - ETA: 0s - loss: 0.1377 - accuracy: 0.95 - ETA: 0s - loss: 0.1376 - accuracy: 0.95 - ETA: 0s - loss: 0.1370 - accuracy: 0.95 - ETA: 0s - loss: 0.1360 - accuracy: 0.95 - ETA: 0s - loss: 0.1362 - accuracy: 0.95 - ETA: 0s - loss: 0.1352 - accuracy: 0.95 - ETA: 0s - loss: 0.1349 - accuracy: 0.95 - ETA: 0s - loss: 0.1343 - accuracy: 0.95 - ETA: 0s - loss: 0.1343 - accuracy: 0.95 - ETA: 0s - loss: 0.1338 - accuracy: 0.95 - ETA: 0s - loss: 0.1339 - accuracy: 0.95 - ETA: 0s - loss: 0.1336 - accuracy: 0.95 - ETA: 0s - loss: 0.1332 - accuracy: 0.95 - ETA: 0s - loss: 0.1334 - accuracy: 0.95 - ETA: 0s - loss: 0.1329 - accuracy: 0.95 - ETA: 0s - loss: 0.1326 - accuracy: 0.95 - ETA: 0s - loss: 0.1326 - accuracy: 0.95 - 2s 28us/sample - loss: 0.1322 - accuracy: 0.9540 - val_loss: 0.1178 - val_accuracy: 0.9560\n",
      "Epoch 4/20\n",
      "69531/69531 [==============================] - ETA: 1s - loss: 0.1550 - accuracy: 0.94 - ETA: 1s - loss: 0.1342 - accuracy: 0.95 - ETA: 1s - loss: 0.1309 - accuracy: 0.95 - ETA: 1s - loss: 0.1279 - accuracy: 0.95 - ETA: 1s - loss: 0.1250 - accuracy: 0.95 - ETA: 1s - loss: 0.1283 - accuracy: 0.95 - ETA: 1s - loss: 0.1247 - accuracy: 0.95 - ETA: 1s - loss: 0.1255 - accuracy: 0.95 - ETA: 1s - loss: 0.1268 - accuracy: 0.95 - ETA: 1s - loss: 0.1268 - accuracy: 0.95 - ETA: 1s - loss: 0.1261 - accuracy: 0.95 - ETA: 1s - loss: 0.1257 - accuracy: 0.95 - ETA: 1s - loss: 0.1249 - accuracy: 0.95 - ETA: 0s - loss: 0.1259 - accuracy: 0.95 - ETA: 0s - loss: 0.1264 - accuracy: 0.95 - ETA: 0s - loss: 0.1270 - accuracy: 0.95 - ETA: 0s - loss: 0.1267 - accuracy: 0.95 - ETA: 0s - loss: 0.1268 - accuracy: 0.95 - ETA: 0s - loss: 0.1269 - accuracy: 0.95 - ETA: 0s - loss: 0.1268 - accuracy: 0.95 - ETA: 0s - loss: 0.1269 - accuracy: 0.95 - ETA: 0s - loss: 0.1271 - accuracy: 0.95 - ETA: 0s - loss: 0.1273 - accuracy: 0.95 - ETA: 0s - loss: 0.1280 - accuracy: 0.95 - ETA: 0s - loss: 0.1284 - accuracy: 0.95 - ETA: 0s - loss: 0.1285 - accuracy: 0.95 - ETA: 0s - loss: 0.1290 - accuracy: 0.95 - ETA: 0s - loss: 0.1290 - accuracy: 0.95 - ETA: 0s - loss: 0.1287 - accuracy: 0.95 - ETA: 0s - loss: 0.1285 - accuracy: 0.95 - ETA: 0s - loss: 0.1281 - accuracy: 0.95 - ETA: 0s - loss: 0.1276 - accuracy: 0.95 - 2s 27us/sample - loss: 0.1276 - accuracy: 0.9556 - val_loss: 0.1164 - val_accuracy: 0.9577\n",
      "Epoch 5/20\n",
      "69531/69531 [==============================] - ETA: 1s - loss: 0.1182 - accuracy: 0.96 - ETA: 1s - loss: 0.1110 - accuracy: 0.96 - ETA: 1s - loss: 0.1215 - accuracy: 0.95 - ETA: 1s - loss: 0.1228 - accuracy: 0.95 - ETA: 1s - loss: 0.1235 - accuracy: 0.95 - ETA: 1s - loss: 0.1281 - accuracy: 0.95 - ETA: 1s - loss: 0.1273 - accuracy: 0.95 - ETA: 1s - loss: 0.1293 - accuracy: 0.95 - ETA: 1s - loss: 0.1285 - accuracy: 0.95 - ETA: 1s - loss: 0.1284 - accuracy: 0.95 - ETA: 1s - loss: 0.1283 - accuracy: 0.95 - ETA: 1s - loss: 0.1272 - accuracy: 0.95 - ETA: 1s - loss: 0.1263 - accuracy: 0.95 - ETA: 1s - loss: 0.1260 - accuracy: 0.95 - ETA: 0s - loss: 0.1251 - accuracy: 0.95 - ETA: 0s - loss: 0.1242 - accuracy: 0.95 - ETA: 0s - loss: 0.1241 - accuracy: 0.95 - ETA: 0s - loss: 0.1247 - accuracy: 0.95 - ETA: 0s - loss: 0.1250 - accuracy: 0.95 - ETA: 0s - loss: 0.1255 - accuracy: 0.95 - ETA: 0s - loss: 0.1249 - accuracy: 0.95 - ETA: 0s - loss: 0.1250 - accuracy: 0.95 - ETA: 0s - loss: 0.1249 - accuracy: 0.95 - ETA: 0s - loss: 0.1251 - accuracy: 0.95 - ETA: 0s - loss: 0.1248 - accuracy: 0.95 - ETA: 0s - loss: 0.1245 - accuracy: 0.95 - ETA: 0s - loss: 0.1240 - accuracy: 0.95 - ETA: 0s - loss: 0.1237 - accuracy: 0.95 - ETA: 0s - loss: 0.1237 - accuracy: 0.95 - ETA: 0s - loss: 0.1234 - accuracy: 0.95 - ETA: 0s - loss: 0.1237 - accuracy: 0.95 - ETA: 0s - loss: 0.1238 - accuracy: 0.95 - 2s 27us/sample - loss: 0.1239 - accuracy: 0.9572 - val_loss: 0.1136 - val_accuracy: 0.9580\n",
      "Epoch 6/20\n"
     ]
    },
    {
     "name": "stdout",
     "output_type": "stream",
     "text": [
      "69531/69531 [==============================] - ETA: 2s - loss: 0.1520 - accuracy: 0.94 - ETA: 1s - loss: 0.1088 - accuracy: 0.96 - ETA: 1s - loss: 0.1232 - accuracy: 0.95 - ETA: 1s - loss: 0.1240 - accuracy: 0.95 - ETA: 1s - loss: 0.1246 - accuracy: 0.95 - ETA: 1s - loss: 0.1230 - accuracy: 0.95 - ETA: 1s - loss: 0.1197 - accuracy: 0.95 - ETA: 1s - loss: 0.1255 - accuracy: 0.95 - ETA: 1s - loss: 0.1237 - accuracy: 0.95 - ETA: 1s - loss: 0.1223 - accuracy: 0.95 - ETA: 1s - loss: 0.1226 - accuracy: 0.95 - ETA: 1s - loss: 0.1218 - accuracy: 0.95 - ETA: 1s - loss: 0.1220 - accuracy: 0.95 - ETA: 1s - loss: 0.1198 - accuracy: 0.95 - ETA: 1s - loss: 0.1203 - accuracy: 0.95 - ETA: 0s - loss: 0.1205 - accuracy: 0.95 - ETA: 0s - loss: 0.1198 - accuracy: 0.95 - ETA: 0s - loss: 0.1195 - accuracy: 0.95 - ETA: 0s - loss: 0.1191 - accuracy: 0.95 - ETA: 0s - loss: 0.1194 - accuracy: 0.95 - ETA: 0s - loss: 0.1189 - accuracy: 0.95 - ETA: 0s - loss: 0.1194 - accuracy: 0.95 - ETA: 0s - loss: 0.1188 - accuracy: 0.95 - ETA: 0s - loss: 0.1192 - accuracy: 0.95 - ETA: 0s - loss: 0.1193 - accuracy: 0.95 - ETA: 0s - loss: 0.1195 - accuracy: 0.95 - ETA: 0s - loss: 0.1192 - accuracy: 0.95 - ETA: 0s - loss: 0.1193 - accuracy: 0.95 - ETA: 0s - loss: 0.1198 - accuracy: 0.95 - ETA: 0s - loss: 0.1204 - accuracy: 0.95 - ETA: 0s - loss: 0.1211 - accuracy: 0.95 - ETA: 0s - loss: 0.1214 - accuracy: 0.95 - ETA: 0s - loss: 0.1212 - accuracy: 0.95 - ETA: 0s - loss: 0.1210 - accuracy: 0.95 - 2s 28us/sample - loss: 0.1215 - accuracy: 0.9580 - val_loss: 0.1124 - val_accuracy: 0.9589\n",
      "Epoch 7/20\n",
      "69531/69531 [==============================] - ETA: 1s - loss: 0.1703 - accuracy: 0.95 - ETA: 1s - loss: 0.1209 - accuracy: 0.95 - ETA: 1s - loss: 0.1248 - accuracy: 0.95 - ETA: 1s - loss: 0.1244 - accuracy: 0.95 - ETA: 1s - loss: 0.1226 - accuracy: 0.95 - ETA: 1s - loss: 0.1207 - accuracy: 0.95 - ETA: 1s - loss: 0.1177 - accuracy: 0.95 - ETA: 1s - loss: 0.1170 - accuracy: 0.95 - ETA: 1s - loss: 0.1186 - accuracy: 0.95 - ETA: 1s - loss: 0.1178 - accuracy: 0.95 - ETA: 1s - loss: 0.1200 - accuracy: 0.95 - ETA: 1s - loss: 0.1188 - accuracy: 0.95 - ETA: 1s - loss: 0.1179 - accuracy: 0.95 - ETA: 1s - loss: 0.1177 - accuracy: 0.95 - ETA: 0s - loss: 0.1179 - accuracy: 0.95 - ETA: 0s - loss: 0.1185 - accuracy: 0.95 - ETA: 0s - loss: 0.1185 - accuracy: 0.95 - ETA: 0s - loss: 0.1191 - accuracy: 0.95 - ETA: 0s - loss: 0.1194 - accuracy: 0.95 - ETA: 0s - loss: 0.1194 - accuracy: 0.95 - ETA: 0s - loss: 0.1196 - accuracy: 0.95 - ETA: 0s - loss: 0.1193 - accuracy: 0.95 - ETA: 0s - loss: 0.1196 - accuracy: 0.95 - ETA: 0s - loss: 0.1195 - accuracy: 0.95 - ETA: 0s - loss: 0.1195 - accuracy: 0.95 - ETA: 0s - loss: 0.1192 - accuracy: 0.95 - ETA: 0s - loss: 0.1192 - accuracy: 0.95 - ETA: 0s - loss: 0.1194 - accuracy: 0.95 - ETA: 0s - loss: 0.1198 - accuracy: 0.95 - ETA: 0s - loss: 0.1196 - accuracy: 0.95 - ETA: 0s - loss: 0.1193 - accuracy: 0.95 - ETA: 0s - loss: 0.1196 - accuracy: 0.95 - ETA: 0s - loss: 0.1197 - accuracy: 0.95 - 2s 27us/sample - loss: 0.1197 - accuracy: 0.9586 - val_loss: 0.1115 - val_accuracy: 0.9591\n",
      "Epoch 8/20\n",
      "69531/69531 [==============================] - ETA: 1s - loss: 0.0810 - accuracy: 0.97 - ETA: 1s - loss: 0.1233 - accuracy: 0.95 - ETA: 1s - loss: 0.1119 - accuracy: 0.96 - ETA: 1s - loss: 0.1174 - accuracy: 0.96 - ETA: 1s - loss: 0.1197 - accuracy: 0.95 - ETA: 1s - loss: 0.1169 - accuracy: 0.95 - ETA: 1s - loss: 0.1161 - accuracy: 0.95 - ETA: 1s - loss: 0.1165 - accuracy: 0.95 - ETA: 1s - loss: 0.1157 - accuracy: 0.95 - ETA: 1s - loss: 0.1148 - accuracy: 0.95 - ETA: 1s - loss: 0.1140 - accuracy: 0.95 - ETA: 1s - loss: 0.1142 - accuracy: 0.96 - ETA: 1s - loss: 0.1155 - accuracy: 0.95 - ETA: 0s - loss: 0.1150 - accuracy: 0.95 - ETA: 0s - loss: 0.1145 - accuracy: 0.96 - ETA: 0s - loss: 0.1144 - accuracy: 0.96 - ETA: 0s - loss: 0.1153 - accuracy: 0.95 - ETA: 0s - loss: 0.1153 - accuracy: 0.95 - ETA: 0s - loss: 0.1168 - accuracy: 0.95 - ETA: 0s - loss: 0.1171 - accuracy: 0.95 - ETA: 0s - loss: 0.1172 - accuracy: 0.95 - ETA: 0s - loss: 0.1177 - accuracy: 0.95 - ETA: 0s - loss: 0.1182 - accuracy: 0.95 - ETA: 0s - loss: 0.1182 - accuracy: 0.95 - ETA: 0s - loss: 0.1189 - accuracy: 0.95 - ETA: 0s - loss: 0.1189 - accuracy: 0.95 - ETA: 0s - loss: 0.1186 - accuracy: 0.95 - ETA: 0s - loss: 0.1182 - accuracy: 0.95 - ETA: 0s - loss: 0.1185 - accuracy: 0.95 - ETA: 0s - loss: 0.1186 - accuracy: 0.95 - ETA: 0s - loss: 0.1180 - accuracy: 0.95 - ETA: 0s - loss: 0.1177 - accuracy: 0.95 - 2s 27us/sample - loss: 0.1177 - accuracy: 0.9588 - val_loss: 0.1104 - val_accuracy: 0.9595\n",
      "Epoch 9/20\n",
      "69531/69531 [==============================] - ETA: 1s - loss: 0.1605 - accuracy: 0.93 - ETA: 1s - loss: 0.1295 - accuracy: 0.95 - ETA: 1s - loss: 0.1211 - accuracy: 0.96 - ETA: 1s - loss: 0.1148 - accuracy: 0.96 - ETA: 1s - loss: 0.1157 - accuracy: 0.96 - ETA: 1s - loss: 0.1146 - accuracy: 0.96 - ETA: 1s - loss: 0.1149 - accuracy: 0.96 - ETA: 1s - loss: 0.1154 - accuracy: 0.96 - ETA: 1s - loss: 0.1163 - accuracy: 0.96 - ETA: 1s - loss: 0.1180 - accuracy: 0.95 - ETA: 1s - loss: 0.1183 - accuracy: 0.95 - ETA: 1s - loss: 0.1188 - accuracy: 0.95 - ETA: 1s - loss: 0.1181 - accuracy: 0.95 - ETA: 1s - loss: 0.1176 - accuracy: 0.95 - ETA: 0s - loss: 0.1181 - accuracy: 0.95 - ETA: 0s - loss: 0.1178 - accuracy: 0.95 - ETA: 0s - loss: 0.1169 - accuracy: 0.95 - ETA: 0s - loss: 0.1166 - accuracy: 0.95 - ETA: 0s - loss: 0.1159 - accuracy: 0.95 - ETA: 0s - loss: 0.1159 - accuracy: 0.95 - ETA: 0s - loss: 0.1162 - accuracy: 0.95 - ETA: 0s - loss: 0.1157 - accuracy: 0.95 - ETA: 0s - loss: 0.1149 - accuracy: 0.95 - ETA: 0s - loss: 0.1144 - accuracy: 0.95 - ETA: 0s - loss: 0.1148 - accuracy: 0.95 - ETA: 0s - loss: 0.1149 - accuracy: 0.95 - ETA: 0s - loss: 0.1154 - accuracy: 0.95 - ETA: 0s - loss: 0.1154 - accuracy: 0.95 - ETA: 0s - loss: 0.1151 - accuracy: 0.95 - ETA: 0s - loss: 0.1153 - accuracy: 0.95 - ETA: 0s - loss: 0.1153 - accuracy: 0.95 - ETA: 0s - loss: 0.1158 - accuracy: 0.95 - ETA: 0s - loss: 0.1159 - accuracy: 0.95 - 2s 27us/sample - loss: 0.1159 - accuracy: 0.9592 - val_loss: 0.1091 - val_accuracy: 0.9600\n",
      "Epoch 10/20\n",
      "69531/69531 [==============================] - ETA: 1s - loss: 0.0992 - accuracy: 0.97 - ETA: 1s - loss: 0.1059 - accuracy: 0.96 - ETA: 1s - loss: 0.1177 - accuracy: 0.96 - ETA: 1s - loss: 0.1144 - accuracy: 0.96 - ETA: 1s - loss: 0.1127 - accuracy: 0.96 - ETA: 1s - loss: 0.1145 - accuracy: 0.95 - ETA: 1s - loss: 0.1135 - accuracy: 0.95 - ETA: 1s - loss: 0.1147 - accuracy: 0.95 - ETA: 1s - loss: 0.1135 - accuracy: 0.96 - ETA: 1s - loss: 0.1128 - accuracy: 0.96 - ETA: 1s - loss: 0.1119 - accuracy: 0.96 - ETA: 1s - loss: 0.1137 - accuracy: 0.95 - ETA: 1s - loss: 0.1137 - accuracy: 0.96 - ETA: 1s - loss: 0.1132 - accuracy: 0.96 - ETA: 0s - loss: 0.1135 - accuracy: 0.96 - ETA: 0s - loss: 0.1136 - accuracy: 0.95 - ETA: 0s - loss: 0.1137 - accuracy: 0.95 - ETA: 0s - loss: 0.1141 - accuracy: 0.95 - ETA: 0s - loss: 0.1142 - accuracy: 0.95 - ETA: 0s - loss: 0.1148 - accuracy: 0.95 - ETA: 0s - loss: 0.1145 - accuracy: 0.95 - ETA: 0s - loss: 0.1143 - accuracy: 0.95 - ETA: 0s - loss: 0.1152 - accuracy: 0.95 - ETA: 0s - loss: 0.1156 - accuracy: 0.95 - ETA: 0s - loss: 0.1157 - accuracy: 0.95 - ETA: 0s - loss: 0.1162 - accuracy: 0.95 - ETA: 0s - loss: 0.1158 - accuracy: 0.95 - ETA: 0s - loss: 0.1158 - accuracy: 0.95 - ETA: 0s - loss: 0.1153 - accuracy: 0.96 - ETA: 0s - loss: 0.1153 - accuracy: 0.96 - ETA: 0s - loss: 0.1155 - accuracy: 0.96 - ETA: 0s - loss: 0.1153 - accuracy: 0.96 - ETA: 0s - loss: 0.1155 - accuracy: 0.96 - 2s 27us/sample - loss: 0.1155 - accuracy: 0.9600 - val_loss: 0.1087 - val_accuracy: 0.9600\n",
      "Epoch 11/20\n"
     ]
    },
    {
     "name": "stdout",
     "output_type": "stream",
     "text": [
      "69531/69531 [==============================] - ETA: 1s - loss: 0.0819 - accuracy: 0.97 - ETA: 1s - loss: 0.1040 - accuracy: 0.96 - ETA: 1s - loss: 0.1092 - accuracy: 0.96 - ETA: 1s - loss: 0.1132 - accuracy: 0.95 - ETA: 1s - loss: 0.1190 - accuracy: 0.95 - ETA: 1s - loss: 0.1175 - accuracy: 0.95 - ETA: 1s - loss: 0.1160 - accuracy: 0.95 - ETA: 1s - loss: 0.1155 - accuracy: 0.95 - ETA: 1s - loss: 0.1178 - accuracy: 0.95 - ETA: 1s - loss: 0.1180 - accuracy: 0.95 - ETA: 1s - loss: 0.1178 - accuracy: 0.95 - ETA: 1s - loss: 0.1166 - accuracy: 0.95 - ETA: 1s - loss: 0.1183 - accuracy: 0.95 - ETA: 1s - loss: 0.1176 - accuracy: 0.95 - ETA: 0s - loss: 0.1176 - accuracy: 0.95 - ETA: 0s - loss: 0.1170 - accuracy: 0.95 - ETA: 0s - loss: 0.1171 - accuracy: 0.95 - ETA: 0s - loss: 0.1170 - accuracy: 0.95 - ETA: 0s - loss: 0.1170 - accuracy: 0.95 - ETA: 0s - loss: 0.1169 - accuracy: 0.95 - ETA: 0s - loss: 0.1169 - accuracy: 0.95 - ETA: 0s - loss: 0.1166 - accuracy: 0.95 - ETA: 0s - loss: 0.1160 - accuracy: 0.95 - ETA: 0s - loss: 0.1160 - accuracy: 0.95 - ETA: 0s - loss: 0.1153 - accuracy: 0.95 - ETA: 0s - loss: 0.1154 - accuracy: 0.95 - ETA: 0s - loss: 0.1152 - accuracy: 0.95 - ETA: 0s - loss: 0.1150 - accuracy: 0.95 - ETA: 0s - loss: 0.1152 - accuracy: 0.95 - ETA: 0s - loss: 0.1148 - accuracy: 0.95 - ETA: 0s - loss: 0.1152 - accuracy: 0.95 - ETA: 0s - loss: 0.1153 - accuracy: 0.95 - 2s 27us/sample - loss: 0.1153 - accuracy: 0.9596 - val_loss: 0.1085 - val_accuracy: 0.9603\n",
      "Epoch 12/20\n",
      "69531/69531 [==============================] - ETA: 1s - loss: 0.1304 - accuracy: 0.95 - ETA: 1s - loss: 0.1103 - accuracy: 0.95 - ETA: 1s - loss: 0.1128 - accuracy: 0.95 - ETA: 1s - loss: 0.1159 - accuracy: 0.95 - ETA: 1s - loss: 0.1175 - accuracy: 0.95 - ETA: 1s - loss: 0.1163 - accuracy: 0.95 - ETA: 1s - loss: 0.1163 - accuracy: 0.95 - ETA: 1s - loss: 0.1163 - accuracy: 0.95 - ETA: 1s - loss: 0.1163 - accuracy: 0.95 - ETA: 1s - loss: 0.1190 - accuracy: 0.95 - ETA: 1s - loss: 0.1192 - accuracy: 0.95 - ETA: 1s - loss: 0.1188 - accuracy: 0.95 - ETA: 1s - loss: 0.1183 - accuracy: 0.95 - ETA: 0s - loss: 0.1185 - accuracy: 0.95 - ETA: 0s - loss: 0.1183 - accuracy: 0.95 - ETA: 0s - loss: 0.1179 - accuracy: 0.95 - ETA: 0s - loss: 0.1181 - accuracy: 0.95 - ETA: 0s - loss: 0.1175 - accuracy: 0.95 - ETA: 0s - loss: 0.1168 - accuracy: 0.95 - ETA: 0s - loss: 0.1168 - accuracy: 0.95 - ETA: 0s - loss: 0.1162 - accuracy: 0.95 - ETA: 0s - loss: 0.1163 - accuracy: 0.95 - ETA: 0s - loss: 0.1159 - accuracy: 0.95 - ETA: 0s - loss: 0.1148 - accuracy: 0.95 - ETA: 0s - loss: 0.1145 - accuracy: 0.95 - ETA: 0s - loss: 0.1142 - accuracy: 0.95 - ETA: 0s - loss: 0.1147 - accuracy: 0.95 - ETA: 0s - loss: 0.1148 - accuracy: 0.95 - ETA: 0s - loss: 0.1148 - accuracy: 0.95 - ETA: 0s - loss: 0.1143 - accuracy: 0.95 - ETA: 0s - loss: 0.1140 - accuracy: 0.95 - ETA: 0s - loss: 0.1141 - accuracy: 0.95 - 2s 27us/sample - loss: 0.1142 - accuracy: 0.9596 - val_loss: 0.1079 - val_accuracy: 0.9606\n",
      "Epoch 13/20\n",
      "69531/69531 [==============================] - ETA: 1s - loss: 0.1291 - accuracy: 0.94 - ETA: 1s - loss: 0.1240 - accuracy: 0.95 - ETA: 1s - loss: 0.1173 - accuracy: 0.95 - ETA: 1s - loss: 0.1084 - accuracy: 0.95 - ETA: 1s - loss: 0.1095 - accuracy: 0.95 - ETA: 1s - loss: 0.1122 - accuracy: 0.95 - ETA: 1s - loss: 0.1136 - accuracy: 0.95 - ETA: 1s - loss: 0.1155 - accuracy: 0.95 - ETA: 1s - loss: 0.1165 - accuracy: 0.95 - ETA: 1s - loss: 0.1163 - accuracy: 0.95 - ETA: 1s - loss: 0.1162 - accuracy: 0.95 - ETA: 1s - loss: 0.1143 - accuracy: 0.95 - ETA: 1s - loss: 0.1133 - accuracy: 0.95 - ETA: 1s - loss: 0.1147 - accuracy: 0.95 - ETA: 0s - loss: 0.1136 - accuracy: 0.95 - ETA: 0s - loss: 0.1137 - accuracy: 0.95 - ETA: 0s - loss: 0.1134 - accuracy: 0.95 - ETA: 0s - loss: 0.1134 - accuracy: 0.95 - ETA: 0s - loss: 0.1145 - accuracy: 0.95 - ETA: 0s - loss: 0.1149 - accuracy: 0.95 - ETA: 0s - loss: 0.1144 - accuracy: 0.95 - ETA: 0s - loss: 0.1153 - accuracy: 0.95 - ETA: 0s - loss: 0.1152 - accuracy: 0.95 - ETA: 0s - loss: 0.1152 - accuracy: 0.95 - ETA: 0s - loss: 0.1146 - accuracy: 0.95 - ETA: 0s - loss: 0.1144 - accuracy: 0.95 - ETA: 0s - loss: 0.1141 - accuracy: 0.95 - ETA: 0s - loss: 0.1141 - accuracy: 0.95 - ETA: 0s - loss: 0.1136 - accuracy: 0.95 - ETA: 0s - loss: 0.1139 - accuracy: 0.95 - ETA: 0s - loss: 0.1135 - accuracy: 0.95 - ETA: 0s - loss: 0.1131 - accuracy: 0.95 - 2s 27us/sample - loss: 0.1128 - accuracy: 0.9597 - val_loss: 0.1078 - val_accuracy: 0.9607\n",
      "Epoch 14/20\n",
      "69531/69531 [==============================] - ETA: 1s - loss: 0.1971 - accuracy: 0.93 - ETA: 1s - loss: 0.1207 - accuracy: 0.95 - ETA: 1s - loss: 0.1166 - accuracy: 0.95 - ETA: 1s - loss: 0.1148 - accuracy: 0.96 - ETA: 1s - loss: 0.1156 - accuracy: 0.96 - ETA: 1s - loss: 0.1194 - accuracy: 0.95 - ETA: 1s - loss: 0.1191 - accuracy: 0.95 - ETA: 1s - loss: 0.1175 - accuracy: 0.95 - ETA: 1s - loss: 0.1163 - accuracy: 0.95 - ETA: 1s - loss: 0.1159 - accuracy: 0.95 - ETA: 1s - loss: 0.1159 - accuracy: 0.95 - ETA: 1s - loss: 0.1150 - accuracy: 0.95 - ETA: 1s - loss: 0.1153 - accuracy: 0.95 - ETA: 0s - loss: 0.1150 - accuracy: 0.96 - ETA: 0s - loss: 0.1146 - accuracy: 0.96 - ETA: 0s - loss: 0.1138 - accuracy: 0.95 - ETA: 0s - loss: 0.1134 - accuracy: 0.96 - ETA: 0s - loss: 0.1142 - accuracy: 0.95 - ETA: 0s - loss: 0.1142 - accuracy: 0.95 - ETA: 0s - loss: 0.1142 - accuracy: 0.95 - ETA: 0s - loss: 0.1141 - accuracy: 0.95 - ETA: 0s - loss: 0.1140 - accuracy: 0.95 - ETA: 0s - loss: 0.1130 - accuracy: 0.95 - ETA: 0s - loss: 0.1126 - accuracy: 0.96 - ETA: 0s - loss: 0.1121 - accuracy: 0.96 - ETA: 0s - loss: 0.1114 - accuracy: 0.96 - ETA: 0s - loss: 0.1117 - accuracy: 0.96 - ETA: 0s - loss: 0.1119 - accuracy: 0.96 - ETA: 0s - loss: 0.1119 - accuracy: 0.96 - ETA: 0s - loss: 0.1125 - accuracy: 0.95 - ETA: 0s - loss: 0.1123 - accuracy: 0.95 - ETA: 0s - loss: 0.1123 - accuracy: 0.95 - ETA: 0s - loss: 0.1125 - accuracy: 0.96 - 2s 27us/sample - loss: 0.1126 - accuracy: 0.9600 - val_loss: 0.1070 - val_accuracy: 0.9609\n",
      "Epoch 15/20\n",
      "69531/69531 [==============================] - ETA: 1s - loss: 0.1190 - accuracy: 0.96 - ETA: 1s - loss: 0.1092 - accuracy: 0.96 - ETA: 1s - loss: 0.1160 - accuracy: 0.95 - ETA: 1s - loss: 0.1190 - accuracy: 0.95 - ETA: 1s - loss: 0.1142 - accuracy: 0.96 - ETA: 1s - loss: 0.1144 - accuracy: 0.96 - ETA: 1s - loss: 0.1133 - accuracy: 0.96 - ETA: 1s - loss: 0.1135 - accuracy: 0.95 - ETA: 1s - loss: 0.1145 - accuracy: 0.95 - ETA: 1s - loss: 0.1144 - accuracy: 0.95 - ETA: 1s - loss: 0.1139 - accuracy: 0.95 - ETA: 1s - loss: 0.1124 - accuracy: 0.95 - ETA: 1s - loss: 0.1115 - accuracy: 0.96 - ETA: 1s - loss: 0.1111 - accuracy: 0.96 - ETA: 0s - loss: 0.1116 - accuracy: 0.95 - ETA: 0s - loss: 0.1119 - accuracy: 0.95 - ETA: 0s - loss: 0.1120 - accuracy: 0.95 - ETA: 0s - loss: 0.1107 - accuracy: 0.96 - ETA: 0s - loss: 0.1110 - accuracy: 0.95 - ETA: 0s - loss: 0.1107 - accuracy: 0.96 - ETA: 0s - loss: 0.1107 - accuracy: 0.96 - ETA: 0s - loss: 0.1108 - accuracy: 0.96 - ETA: 0s - loss: 0.1106 - accuracy: 0.96 - ETA: 0s - loss: 0.1105 - accuracy: 0.96 - ETA: 0s - loss: 0.1105 - accuracy: 0.96 - ETA: 0s - loss: 0.1107 - accuracy: 0.96 - ETA: 0s - loss: 0.1107 - accuracy: 0.96 - ETA: 0s - loss: 0.1107 - accuracy: 0.96 - ETA: 0s - loss: 0.1111 - accuracy: 0.96 - ETA: 0s - loss: 0.1113 - accuracy: 0.96 - ETA: 0s - loss: 0.1115 - accuracy: 0.96 - ETA: 0s - loss: 0.1114 - accuracy: 0.95 - ETA: 0s - loss: 0.1114 - accuracy: 0.96 - 2s 27us/sample - loss: 0.1109 - accuracy: 0.9602 - val_loss: 0.1063 - val_accuracy: 0.9610\n",
      "Epoch 16/20\n"
     ]
    },
    {
     "name": "stdout",
     "output_type": "stream",
     "text": [
      "69531/69531 [==============================] - ETA: 1s - loss: 0.1316 - accuracy: 0.96 - ETA: 1s - loss: 0.1294 - accuracy: 0.95 - ETA: 1s - loss: 0.1182 - accuracy: 0.95 - ETA: 1s - loss: 0.1191 - accuracy: 0.95 - ETA: 1s - loss: 0.1177 - accuracy: 0.95 - ETA: 1s - loss: 0.1134 - accuracy: 0.95 - ETA: 1s - loss: 0.1139 - accuracy: 0.96 - ETA: 1s - loss: 0.1141 - accuracy: 0.96 - ETA: 1s - loss: 0.1142 - accuracy: 0.95 - ETA: 1s - loss: 0.1151 - accuracy: 0.95 - ETA: 1s - loss: 0.1144 - accuracy: 0.95 - ETA: 1s - loss: 0.1132 - accuracy: 0.95 - ETA: 1s - loss: 0.1141 - accuracy: 0.95 - ETA: 1s - loss: 0.1139 - accuracy: 0.95 - ETA: 0s - loss: 0.1139 - accuracy: 0.95 - ETA: 0s - loss: 0.1126 - accuracy: 0.95 - ETA: 0s - loss: 0.1127 - accuracy: 0.95 - ETA: 0s - loss: 0.1130 - accuracy: 0.95 - ETA: 0s - loss: 0.1130 - accuracy: 0.95 - ETA: 0s - loss: 0.1132 - accuracy: 0.95 - ETA: 0s - loss: 0.1134 - accuracy: 0.95 - ETA: 0s - loss: 0.1136 - accuracy: 0.95 - ETA: 0s - loss: 0.1133 - accuracy: 0.95 - ETA: 0s - loss: 0.1127 - accuracy: 0.95 - ETA: 0s - loss: 0.1133 - accuracy: 0.95 - ETA: 0s - loss: 0.1125 - accuracy: 0.95 - ETA: 0s - loss: 0.1131 - accuracy: 0.95 - ETA: 0s - loss: 0.1130 - accuracy: 0.95 - ETA: 0s - loss: 0.1128 - accuracy: 0.95 - ETA: 0s - loss: 0.1127 - accuracy: 0.95 - ETA: 0s - loss: 0.1121 - accuracy: 0.95 - ETA: 0s - loss: 0.1118 - accuracy: 0.96 - ETA: 0s - loss: 0.1114 - accuracy: 0.96 - 2s 27us/sample - loss: 0.1114 - accuracy: 0.9601 - val_loss: 0.1069 - val_accuracy: 0.9608\n",
      "Epoch 17/20\n",
      "69531/69531 [==============================] - ETA: 1s - loss: 0.0980 - accuracy: 0.97 - ETA: 1s - loss: 0.1093 - accuracy: 0.96 - ETA: 1s - loss: 0.1023 - accuracy: 0.96 - ETA: 1s - loss: 0.1068 - accuracy: 0.96 - ETA: 1s - loss: 0.1116 - accuracy: 0.96 - ETA: 1s - loss: 0.1148 - accuracy: 0.96 - ETA: 1s - loss: 0.1142 - accuracy: 0.95 - ETA: 1s - loss: 0.1143 - accuracy: 0.95 - ETA: 1s - loss: 0.1142 - accuracy: 0.95 - ETA: 1s - loss: 0.1166 - accuracy: 0.95 - ETA: 1s - loss: 0.1157 - accuracy: 0.95 - ETA: 1s - loss: 0.1156 - accuracy: 0.95 - ETA: 1s - loss: 0.1154 - accuracy: 0.95 - ETA: 0s - loss: 0.1149 - accuracy: 0.95 - ETA: 0s - loss: 0.1136 - accuracy: 0.95 - ETA: 0s - loss: 0.1137 - accuracy: 0.95 - ETA: 0s - loss: 0.1132 - accuracy: 0.95 - ETA: 0s - loss: 0.1122 - accuracy: 0.95 - ETA: 0s - loss: 0.1125 - accuracy: 0.96 - ETA: 0s - loss: 0.1119 - accuracy: 0.96 - ETA: 0s - loss: 0.1120 - accuracy: 0.96 - ETA: 0s - loss: 0.1116 - accuracy: 0.96 - ETA: 0s - loss: 0.1118 - accuracy: 0.96 - ETA: 0s - loss: 0.1117 - accuracy: 0.96 - ETA: 0s - loss: 0.1116 - accuracy: 0.96 - ETA: 0s - loss: 0.1114 - accuracy: 0.96 - ETA: 0s - loss: 0.1117 - accuracy: 0.96 - ETA: 0s - loss: 0.1116 - accuracy: 0.96 - ETA: 0s - loss: 0.1113 - accuracy: 0.96 - ETA: 0s - loss: 0.1111 - accuracy: 0.96 - ETA: 0s - loss: 0.1106 - accuracy: 0.96 - ETA: 0s - loss: 0.1107 - accuracy: 0.96 - ETA: 0s - loss: 0.1110 - accuracy: 0.96 - 2s 27us/sample - loss: 0.1109 - accuracy: 0.9604 - val_loss: 0.1060 - val_accuracy: 0.9612\n",
      "Epoch 18/20\n",
      "69531/69531 [==============================] - ETA: 1s - loss: 0.0778 - accuracy: 0.96 - ETA: 1s - loss: 0.1047 - accuracy: 0.96 - ETA: 1s - loss: 0.1151 - accuracy: 0.95 - ETA: 1s - loss: 0.1145 - accuracy: 0.95 - ETA: 1s - loss: 0.1149 - accuracy: 0.95 - ETA: 1s - loss: 0.1146 - accuracy: 0.95 - ETA: 1s - loss: 0.1130 - accuracy: 0.95 - ETA: 1s - loss: 0.1132 - accuracy: 0.95 - ETA: 1s - loss: 0.1107 - accuracy: 0.96 - ETA: 1s - loss: 0.1090 - accuracy: 0.96 - ETA: 1s - loss: 0.1087 - accuracy: 0.96 - ETA: 1s - loss: 0.1087 - accuracy: 0.96 - ETA: 1s - loss: 0.1086 - accuracy: 0.96 - ETA: 1s - loss: 0.1081 - accuracy: 0.96 - ETA: 1s - loss: 0.1091 - accuracy: 0.96 - ETA: 1s - loss: 0.1090 - accuracy: 0.96 - ETA: 1s - loss: 0.1087 - accuracy: 0.96 - ETA: 0s - loss: 0.1093 - accuracy: 0.96 - ETA: 0s - loss: 0.1099 - accuracy: 0.96 - ETA: 0s - loss: 0.1099 - accuracy: 0.96 - ETA: 0s - loss: 0.1096 - accuracy: 0.96 - ETA: 0s - loss: 0.1101 - accuracy: 0.96 - ETA: 0s - loss: 0.1095 - accuracy: 0.96 - ETA: 0s - loss: 0.1099 - accuracy: 0.96 - ETA: 0s - loss: 0.1106 - accuracy: 0.96 - ETA: 0s - loss: 0.1104 - accuracy: 0.96 - ETA: 0s - loss: 0.1102 - accuracy: 0.96 - ETA: 0s - loss: 0.1102 - accuracy: 0.96 - ETA: 0s - loss: 0.1098 - accuracy: 0.96 - ETA: 0s - loss: 0.1098 - accuracy: 0.96 - ETA: 0s - loss: 0.1100 - accuracy: 0.96 - ETA: 0s - loss: 0.1095 - accuracy: 0.96 - ETA: 0s - loss: 0.1095 - accuracy: 0.96 - ETA: 0s - loss: 0.1098 - accuracy: 0.96 - 2s 29us/sample - loss: 0.1103 - accuracy: 0.9603 - val_loss: 0.1057 - val_accuracy: 0.9614\n",
      "Epoch 19/20\n",
      "69531/69531 [==============================] - ETA: 1s - loss: 0.1317 - accuracy: 0.96 - ETA: 1s - loss: 0.1178 - accuracy: 0.96 - ETA: 1s - loss: 0.1243 - accuracy: 0.95 - ETA: 1s - loss: 0.1191 - accuracy: 0.95 - ETA: 1s - loss: 0.1174 - accuracy: 0.95 - ETA: 1s - loss: 0.1157 - accuracy: 0.96 - ETA: 1s - loss: 0.1142 - accuracy: 0.96 - ETA: 1s - loss: 0.1129 - accuracy: 0.96 - ETA: 1s - loss: 0.1121 - accuracy: 0.96 - ETA: 1s - loss: 0.1128 - accuracy: 0.96 - ETA: 1s - loss: 0.1125 - accuracy: 0.96 - ETA: 1s - loss: 0.1125 - accuracy: 0.96 - ETA: 1s - loss: 0.1124 - accuracy: 0.96 - ETA: 1s - loss: 0.1107 - accuracy: 0.96 - ETA: 0s - loss: 0.1105 - accuracy: 0.96 - ETA: 0s - loss: 0.1119 - accuracy: 0.96 - ETA: 0s - loss: 0.1124 - accuracy: 0.96 - ETA: 0s - loss: 0.1129 - accuracy: 0.96 - ETA: 0s - loss: 0.1133 - accuracy: 0.96 - ETA: 0s - loss: 0.1126 - accuracy: 0.96 - ETA: 0s - loss: 0.1119 - accuracy: 0.96 - ETA: 0s - loss: 0.1111 - accuracy: 0.96 - ETA: 0s - loss: 0.1114 - accuracy: 0.96 - ETA: 0s - loss: 0.1112 - accuracy: 0.96 - ETA: 0s - loss: 0.1112 - accuracy: 0.96 - ETA: 0s - loss: 0.1108 - accuracy: 0.96 - ETA: 0s - loss: 0.1104 - accuracy: 0.96 - ETA: 0s - loss: 0.1100 - accuracy: 0.96 - ETA: 0s - loss: 0.1099 - accuracy: 0.96 - ETA: 0s - loss: 0.1100 - accuracy: 0.96 - ETA: 0s - loss: 0.1099 - accuracy: 0.96 - ETA: 0s - loss: 0.1102 - accuracy: 0.96 - ETA: 0s - loss: 0.1103 - accuracy: 0.96 - 2s 28us/sample - loss: 0.1103 - accuracy: 0.9607 - val_loss: 0.1053 - val_accuracy: 0.9615\n",
      "Epoch 20/20\n",
      "69531/69531 [==============================] - ETA: 1s - loss: 0.0861 - accuracy: 0.96 - ETA: 1s - loss: 0.1028 - accuracy: 0.96 - ETA: 1s - loss: 0.1063 - accuracy: 0.96 - ETA: 1s - loss: 0.1062 - accuracy: 0.96 - ETA: 1s - loss: 0.1036 - accuracy: 0.96 - ETA: 1s - loss: 0.1054 - accuracy: 0.96 - ETA: 1s - loss: 0.1068 - accuracy: 0.96 - ETA: 1s - loss: 0.1090 - accuracy: 0.96 - ETA: 1s - loss: 0.1094 - accuracy: 0.96 - ETA: 1s - loss: 0.1105 - accuracy: 0.96 - ETA: 1s - loss: 0.1095 - accuracy: 0.96 - ETA: 1s - loss: 0.1107 - accuracy: 0.96 - ETA: 1s - loss: 0.1118 - accuracy: 0.95 - ETA: 0s - loss: 0.1105 - accuracy: 0.96 - ETA: 0s - loss: 0.1114 - accuracy: 0.95 - ETA: 0s - loss: 0.1106 - accuracy: 0.95 - ETA: 0s - loss: 0.1119 - accuracy: 0.95 - ETA: 0s - loss: 0.1113 - accuracy: 0.95 - ETA: 0s - loss: 0.1110 - accuracy: 0.95 - ETA: 0s - loss: 0.1112 - accuracy: 0.95 - ETA: 0s - loss: 0.1103 - accuracy: 0.96 - ETA: 0s - loss: 0.1107 - accuracy: 0.96 - ETA: 0s - loss: 0.1104 - accuracy: 0.96 - ETA: 0s - loss: 0.1106 - accuracy: 0.96 - ETA: 0s - loss: 0.1101 - accuracy: 0.96 - ETA: 0s - loss: 0.1103 - accuracy: 0.96 - ETA: 0s - loss: 0.1102 - accuracy: 0.96 - ETA: 0s - loss: 0.1105 - accuracy: 0.96 - ETA: 0s - loss: 0.1105 - accuracy: 0.96 - ETA: 0s - loss: 0.1108 - accuracy: 0.96 - ETA: 0s - loss: 0.1104 - accuracy: 0.96 - ETA: 0s - loss: 0.1108 - accuracy: 0.96 - ETA: 0s - loss: 0.1108 - accuracy: 0.96 - 2s 27us/sample - loss: 0.1108 - accuracy: 0.9604 - val_loss: 0.1057 - val_accuracy: 0.9615\n"
     ]
    },
    {
     "data": {
      "text/html": [
       "<span style=\"color:#4527A0\"><h1 style=\"font-size:18px\">Trial complete</h1></span>"
      ],
      "text/plain": [
       "<IPython.core.display.HTML object>"
      ]
     },
     "metadata": {},
     "output_type": "display_data"
    },
    {
     "data": {
      "text/html": [
       "<span style=\"color:#4527A0\"><h1 style=\"font-size:18px\">Trial summary</h1></span>"
      ],
      "text/plain": [
       "<IPython.core.display.HTML object>"
      ]
     },
     "metadata": {},
     "output_type": "display_data"
    },
    {
     "data": {
      "text/html": [
       "<span style=\"color:cyan\"> |-Trial ID: f0b87f9f1bb3145d82e6bd8264773883</span>"
      ],
      "text/plain": [
       "<IPython.core.display.HTML object>"
      ]
     },
     "metadata": {},
     "output_type": "display_data"
    },
    {
     "data": {
      "text/html": [
       "<span style=\"color:cyan\"> |-Score: 0.9615135788917542</span>"
      ],
      "text/plain": [
       "<IPython.core.display.HTML object>"
      ]
     },
     "metadata": {},
     "output_type": "display_data"
    },
    {
     "data": {
      "text/html": [
       "<span style=\"color:cyan\"> |-Best step: 0</span>"
      ],
      "text/plain": [
       "<IPython.core.display.HTML object>"
      ]
     },
     "metadata": {},
     "output_type": "display_data"
    },
    {
     "data": {
      "text/html": [
       "<span style=\"color:#7E57C2\"><h2 style=\"font-size:16px\">Hyperparameters:</h2></span>"
      ],
      "text/plain": [
       "<IPython.core.display.HTML object>"
      ]
     },
     "metadata": {},
     "output_type": "display_data"
    },
    {
     "data": {
      "text/html": [
       "<span style=\"color:cyan\"> |-rate_1: 0.4000000000000001</span>"
      ],
      "text/plain": [
       "<IPython.core.display.HTML object>"
      ]
     },
     "metadata": {},
     "output_type": "display_data"
    },
    {
     "data": {
      "text/html": [
       "<span style=\"color:blue\"> |-rate_2: 0.30000000000000004</span>"
      ],
      "text/plain": [
       "<IPython.core.display.HTML object>"
      ]
     },
     "metadata": {},
     "output_type": "display_data"
    },
    {
     "data": {
      "text/html": [
       "<span style=\"color:cyan\"> |-tuner/bracket: 0</span>"
      ],
      "text/plain": [
       "<IPython.core.display.HTML object>"
      ]
     },
     "metadata": {},
     "output_type": "display_data"
    },
    {
     "data": {
      "text/html": [
       "<span style=\"color:blue\"> |-tuner/epochs: 20</span>"
      ],
      "text/plain": [
       "<IPython.core.display.HTML object>"
      ]
     },
     "metadata": {},
     "output_type": "display_data"
    },
    {
     "data": {
      "text/html": [
       "<span style=\"color:cyan\"> |-tuner/initial_epoch: 0</span>"
      ],
      "text/plain": [
       "<IPython.core.display.HTML object>"
      ]
     },
     "metadata": {},
     "output_type": "display_data"
    },
    {
     "data": {
      "text/html": [
       "<span style=\"color:blue\"> |-tuner/round: 0</span>"
      ],
      "text/plain": [
       "<IPython.core.display.HTML object>"
      ]
     },
     "metadata": {},
     "output_type": "display_data"
    },
    {
     "data": {
      "text/html": [
       "<span style=\"color:cyan\"> |-units_1: 42</span>"
      ],
      "text/plain": [
       "<IPython.core.display.HTML object>"
      ]
     },
     "metadata": {},
     "output_type": "display_data"
    },
    {
     "data": {
      "text/html": [
       "<span style=\"color:blue\"> |-units_2: 34</span>"
      ],
      "text/plain": [
       "<IPython.core.display.HTML object>"
      ]
     },
     "metadata": {},
     "output_type": "display_data"
    },
    {
     "name": "stdout",
     "output_type": "stream",
     "text": [
      "INFO:tensorflow:Oracle triggered exit\n"
     ]
    }
   ],
   "source": [
    "# run the search\n",
    "tuner.search(X_train, Y_train, epochs = 20, validation_data = (X_val,Y_val), batch_size = 256)"
   ]
  },
  {
   "cell_type": "code",
   "execution_count": 13,
   "metadata": {},
   "outputs": [
    {
     "data": {
      "text/html": [
       "<span style=\"color:#4527A0\"><h1 style=\"font-size:18px\">Results summary</h1></span>"
      ],
      "text/plain": [
       "<IPython.core.display.HTML object>"
      ]
     },
     "metadata": {},
     "output_type": "display_data"
    },
    {
     "data": {
      "text/html": [
       "<span style=\"color:cyan\"> |-Results in hypertuning/tune</span>"
      ],
      "text/plain": [
       "<IPython.core.display.HTML object>"
      ]
     },
     "metadata": {},
     "output_type": "display_data"
    },
    {
     "data": {
      "text/html": [
       "<span style=\"color:cyan\"> |-Showing 10 best trials</span>"
      ],
      "text/plain": [
       "<IPython.core.display.HTML object>"
      ]
     },
     "metadata": {},
     "output_type": "display_data"
    },
    {
     "data": {
      "text/html": [
       "<span style=\"color:cyan\"> |-Objective(name='val_accuracy', direction='max')</span>"
      ],
      "text/plain": [
       "<IPython.core.display.HTML object>"
      ]
     },
     "metadata": {},
     "output_type": "display_data"
    },
    {
     "data": {
      "text/html": [
       "<span style=\"color:#4527A0\"><h1 style=\"font-size:18px\">Trial summary</h1></span>"
      ],
      "text/plain": [
       "<IPython.core.display.HTML object>"
      ]
     },
     "metadata": {},
     "output_type": "display_data"
    },
    {
     "data": {
      "text/html": [
       "<span style=\"color:cyan\"> |-Trial ID: c5ff431fd18213a615a2f25a5375d05e</span>"
      ],
      "text/plain": [
       "<IPython.core.display.HTML object>"
      ]
     },
     "metadata": {},
     "output_type": "display_data"
    },
    {
     "data": {
      "text/html": [
       "<span style=\"color:cyan\"> |-Score: 0.963368833065033</span>"
      ],
      "text/plain": [
       "<IPython.core.display.HTML object>"
      ]
     },
     "metadata": {},
     "output_type": "display_data"
    },
    {
     "data": {
      "text/html": [
       "<span style=\"color:cyan\"> |-Best step: 0</span>"
      ],
      "text/plain": [
       "<IPython.core.display.HTML object>"
      ]
     },
     "metadata": {},
     "output_type": "display_data"
    },
    {
     "data": {
      "text/html": [
       "<span style=\"color:#7E57C2\"><h2 style=\"font-size:16px\">Hyperparameters:</h2></span>"
      ],
      "text/plain": [
       "<IPython.core.display.HTML object>"
      ]
     },
     "metadata": {},
     "output_type": "display_data"
    },
    {
     "data": {
      "text/html": [
       "<span style=\"color:cyan\"> |-rate_1: 0.2</span>"
      ],
      "text/plain": [
       "<IPython.core.display.HTML object>"
      ]
     },
     "metadata": {},
     "output_type": "display_data"
    },
    {
     "data": {
      "text/html": [
       "<span style=\"color:blue\"> |-rate_2: 0.2</span>"
      ],
      "text/plain": [
       "<IPython.core.display.HTML object>"
      ]
     },
     "metadata": {},
     "output_type": "display_data"
    },
    {
     "data": {
      "text/html": [
       "<span style=\"color:cyan\"> |-tuner/bracket: 0</span>"
      ],
      "text/plain": [
       "<IPython.core.display.HTML object>"
      ]
     },
     "metadata": {},
     "output_type": "display_data"
    },
    {
     "data": {
      "text/html": [
       "<span style=\"color:blue\"> |-tuner/epochs: 20</span>"
      ],
      "text/plain": [
       "<IPython.core.display.HTML object>"
      ]
     },
     "metadata": {},
     "output_type": "display_data"
    },
    {
     "data": {
      "text/html": [
       "<span style=\"color:cyan\"> |-tuner/initial_epoch: 0</span>"
      ],
      "text/plain": [
       "<IPython.core.display.HTML object>"
      ]
     },
     "metadata": {},
     "output_type": "display_data"
    },
    {
     "data": {
      "text/html": [
       "<span style=\"color:blue\"> |-tuner/round: 0</span>"
      ],
      "text/plain": [
       "<IPython.core.display.HTML object>"
      ]
     },
     "metadata": {},
     "output_type": "display_data"
    },
    {
     "data": {
      "text/html": [
       "<span style=\"color:cyan\"> |-units_1: 52</span>"
      ],
      "text/plain": [
       "<IPython.core.display.HTML object>"
      ]
     },
     "metadata": {},
     "output_type": "display_data"
    },
    {
     "data": {
      "text/html": [
       "<span style=\"color:blue\"> |-units_2: 36</span>"
      ],
      "text/plain": [
       "<IPython.core.display.HTML object>"
      ]
     },
     "metadata": {},
     "output_type": "display_data"
    },
    {
     "data": {
      "text/html": [
       "<span style=\"color:#4527A0\"><h1 style=\"font-size:18px\">Trial summary</h1></span>"
      ],
      "text/plain": [
       "<IPython.core.display.HTML object>"
      ]
     },
     "metadata": {},
     "output_type": "display_data"
    },
    {
     "data": {
      "text/html": [
       "<span style=\"color:cyan\"> |-Trial ID: be429d97b0971e47d8a5c77f8f76b804</span>"
      ],
      "text/plain": [
       "<IPython.core.display.HTML object>"
      ]
     },
     "metadata": {},
     "output_type": "display_data"
    },
    {
     "data": {
      "text/html": [
       "<span style=\"color:cyan\"> |-Score: 0.9623764753341675</span>"
      ],
      "text/plain": [
       "<IPython.core.display.HTML object>"
      ]
     },
     "metadata": {},
     "output_type": "display_data"
    },
    {
     "data": {
      "text/html": [
       "<span style=\"color:cyan\"> |-Best step: 0</span>"
      ],
      "text/plain": [
       "<IPython.core.display.HTML object>"
      ]
     },
     "metadata": {},
     "output_type": "display_data"
    },
    {
     "data": {
      "text/html": [
       "<span style=\"color:#7E57C2\"><h2 style=\"font-size:16px\">Hyperparameters:</h2></span>"
      ],
      "text/plain": [
       "<IPython.core.display.HTML object>"
      ]
     },
     "metadata": {},
     "output_type": "display_data"
    },
    {
     "data": {
      "text/html": [
       "<span style=\"color:cyan\"> |-rate_1: 0.2</span>"
      ],
      "text/plain": [
       "<IPython.core.display.HTML object>"
      ]
     },
     "metadata": {},
     "output_type": "display_data"
    },
    {
     "data": {
      "text/html": [
       "<span style=\"color:blue\"> |-rate_2: 0.2</span>"
      ],
      "text/plain": [
       "<IPython.core.display.HTML object>"
      ]
     },
     "metadata": {},
     "output_type": "display_data"
    },
    {
     "data": {
      "text/html": [
       "<span style=\"color:cyan\"> |-tuner/bracket: 2</span>"
      ],
      "text/plain": [
       "<IPython.core.display.HTML object>"
      ]
     },
     "metadata": {},
     "output_type": "display_data"
    },
    {
     "data": {
      "text/html": [
       "<span style=\"color:blue\"> |-tuner/epochs: 20</span>"
      ],
      "text/plain": [
       "<IPython.core.display.HTML object>"
      ]
     },
     "metadata": {},
     "output_type": "display_data"
    },
    {
     "data": {
      "text/html": [
       "<span style=\"color:cyan\"> |-tuner/initial_epoch: 7</span>"
      ],
      "text/plain": [
       "<IPython.core.display.HTML object>"
      ]
     },
     "metadata": {},
     "output_type": "display_data"
    },
    {
     "data": {
      "text/html": [
       "<span style=\"color:blue\"> |-tuner/round: 2</span>"
      ],
      "text/plain": [
       "<IPython.core.display.HTML object>"
      ]
     },
     "metadata": {},
     "output_type": "display_data"
    },
    {
     "data": {
      "text/html": [
       "<span style=\"color:cyan\"> |-tuner/trial_id: 34a67f717bfcac4bd800b4292d2e621c</span>"
      ],
      "text/plain": [
       "<IPython.core.display.HTML object>"
      ]
     },
     "metadata": {},
     "output_type": "display_data"
    },
    {
     "data": {
      "text/html": [
       "<span style=\"color:blue\"> |-units_1: 56</span>"
      ],
      "text/plain": [
       "<IPython.core.display.HTML object>"
      ]
     },
     "metadata": {},
     "output_type": "display_data"
    },
    {
     "data": {
      "text/html": [
       "<span style=\"color:cyan\"> |-units_2: 58</span>"
      ],
      "text/plain": [
       "<IPython.core.display.HTML object>"
      ]
     },
     "metadata": {},
     "output_type": "display_data"
    },
    {
     "data": {
      "text/html": [
       "<span style=\"color:#4527A0\"><h1 style=\"font-size:18px\">Trial summary</h1></span>"
      ],
      "text/plain": [
       "<IPython.core.display.HTML object>"
      ]
     },
     "metadata": {},
     "output_type": "display_data"
    },
    {
     "data": {
      "text/html": [
       "<span style=\"color:cyan\"> |-Trial ID: b5dd9f892803f608188fd8097aa567e1</span>"
      ],
      "text/plain": [
       "<IPython.core.display.HTML object>"
      ]
     },
     "metadata": {},
     "output_type": "display_data"
    },
    {
     "data": {
      "text/html": [
       "<span style=\"color:cyan\"> |-Score: 0.9622902274131775</span>"
      ],
      "text/plain": [
       "<IPython.core.display.HTML object>"
      ]
     },
     "metadata": {},
     "output_type": "display_data"
    },
    {
     "data": {
      "text/html": [
       "<span style=\"color:cyan\"> |-Best step: 0</span>"
      ],
      "text/plain": [
       "<IPython.core.display.HTML object>"
      ]
     },
     "metadata": {},
     "output_type": "display_data"
    },
    {
     "data": {
      "text/html": [
       "<span style=\"color:#7E57C2\"><h2 style=\"font-size:16px\">Hyperparameters:</h2></span>"
      ],
      "text/plain": [
       "<IPython.core.display.HTML object>"
      ]
     },
     "metadata": {},
     "output_type": "display_data"
    },
    {
     "data": {
      "text/html": [
       "<span style=\"color:cyan\"> |-rate_1: 0.2</span>"
      ],
      "text/plain": [
       "<IPython.core.display.HTML object>"
      ]
     },
     "metadata": {},
     "output_type": "display_data"
    },
    {
     "data": {
      "text/html": [
       "<span style=\"color:blue\"> |-rate_2: 0.5000000000000001</span>"
      ],
      "text/plain": [
       "<IPython.core.display.HTML object>"
      ]
     },
     "metadata": {},
     "output_type": "display_data"
    },
    {
     "data": {
      "text/html": [
       "<span style=\"color:cyan\"> |-tuner/bracket: 0</span>"
      ],
      "text/plain": [
       "<IPython.core.display.HTML object>"
      ]
     },
     "metadata": {},
     "output_type": "display_data"
    },
    {
     "data": {
      "text/html": [
       "<span style=\"color:blue\"> |-tuner/epochs: 20</span>"
      ],
      "text/plain": [
       "<IPython.core.display.HTML object>"
      ]
     },
     "metadata": {},
     "output_type": "display_data"
    },
    {
     "data": {
      "text/html": [
       "<span style=\"color:cyan\"> |-tuner/initial_epoch: 0</span>"
      ],
      "text/plain": [
       "<IPython.core.display.HTML object>"
      ]
     },
     "metadata": {},
     "output_type": "display_data"
    },
    {
     "data": {
      "text/html": [
       "<span style=\"color:blue\"> |-tuner/round: 0</span>"
      ],
      "text/plain": [
       "<IPython.core.display.HTML object>"
      ]
     },
     "metadata": {},
     "output_type": "display_data"
    },
    {
     "data": {
      "text/html": [
       "<span style=\"color:cyan\"> |-units_1: 28</span>"
      ],
      "text/plain": [
       "<IPython.core.display.HTML object>"
      ]
     },
     "metadata": {},
     "output_type": "display_data"
    },
    {
     "data": {
      "text/html": [
       "<span style=\"color:blue\"> |-units_2: 36</span>"
      ],
      "text/plain": [
       "<IPython.core.display.HTML object>"
      ]
     },
     "metadata": {},
     "output_type": "display_data"
    },
    {
     "data": {
      "text/html": [
       "<span style=\"color:#4527A0\"><h1 style=\"font-size:18px\">Trial summary</h1></span>"
      ],
      "text/plain": [
       "<IPython.core.display.HTML object>"
      ]
     },
     "metadata": {},
     "output_type": "display_data"
    },
    {
     "data": {
      "text/html": [
       "<span style=\"color:cyan\"> |-Trial ID: c911d966469089fb50c71c6516eca10c</span>"
      ],
      "text/plain": [
       "<IPython.core.display.HTML object>"
      ]
     },
     "metadata": {},
     "output_type": "display_data"
    },
    {
     "data": {
      "text/html": [
       "<span style=\"color:cyan\"> |-Score: 0.961815595626831</span>"
      ],
      "text/plain": [
       "<IPython.core.display.HTML object>"
      ]
     },
     "metadata": {},
     "output_type": "display_data"
    },
    {
     "data": {
      "text/html": [
       "<span style=\"color:cyan\"> |-Best step: 0</span>"
      ],
      "text/plain": [
       "<IPython.core.display.HTML object>"
      ]
     },
     "metadata": {},
     "output_type": "display_data"
    },
    {
     "data": {
      "text/html": [
       "<span style=\"color:#7E57C2\"><h2 style=\"font-size:16px\">Hyperparameters:</h2></span>"
      ],
      "text/plain": [
       "<IPython.core.display.HTML object>"
      ]
     },
     "metadata": {},
     "output_type": "display_data"
    },
    {
     "data": {
      "text/html": [
       "<span style=\"color:cyan\"> |-rate_1: 0.30000000000000004</span>"
      ],
      "text/plain": [
       "<IPython.core.display.HTML object>"
      ]
     },
     "metadata": {},
     "output_type": "display_data"
    },
    {
     "data": {
      "text/html": [
       "<span style=\"color:blue\"> |-rate_2: 0.30000000000000004</span>"
      ],
      "text/plain": [
       "<IPython.core.display.HTML object>"
      ]
     },
     "metadata": {},
     "output_type": "display_data"
    },
    {
     "data": {
      "text/html": [
       "<span style=\"color:cyan\"> |-tuner/bracket: 0</span>"
      ],
      "text/plain": [
       "<IPython.core.display.HTML object>"
      ]
     },
     "metadata": {},
     "output_type": "display_data"
    },
    {
     "data": {
      "text/html": [
       "<span style=\"color:blue\"> |-tuner/epochs: 20</span>"
      ],
      "text/plain": [
       "<IPython.core.display.HTML object>"
      ]
     },
     "metadata": {},
     "output_type": "display_data"
    },
    {
     "data": {
      "text/html": [
       "<span style=\"color:cyan\"> |-tuner/initial_epoch: 0</span>"
      ],
      "text/plain": [
       "<IPython.core.display.HTML object>"
      ]
     },
     "metadata": {},
     "output_type": "display_data"
    },
    {
     "data": {
      "text/html": [
       "<span style=\"color:blue\"> |-tuner/round: 0</span>"
      ],
      "text/plain": [
       "<IPython.core.display.HTML object>"
      ]
     },
     "metadata": {},
     "output_type": "display_data"
    },
    {
     "data": {
      "text/html": [
       "<span style=\"color:cyan\"> |-units_1: 26</span>"
      ],
      "text/plain": [
       "<IPython.core.display.HTML object>"
      ]
     },
     "metadata": {},
     "output_type": "display_data"
    },
    {
     "data": {
      "text/html": [
       "<span style=\"color:blue\"> |-units_2: 50</span>"
      ],
      "text/plain": [
       "<IPython.core.display.HTML object>"
      ]
     },
     "metadata": {},
     "output_type": "display_data"
    },
    {
     "data": {
      "text/html": [
       "<span style=\"color:#4527A0\"><h1 style=\"font-size:18px\">Trial summary</h1></span>"
      ],
      "text/plain": [
       "<IPython.core.display.HTML object>"
      ]
     },
     "metadata": {},
     "output_type": "display_data"
    },
    {
     "data": {
      "text/html": [
       "<span style=\"color:cyan\"> |-Trial ID: d0f5bbd02d6cdb03885cb258927bf70a</span>"
      ],
      "text/plain": [
       "<IPython.core.display.HTML object>"
      ]
     },
     "metadata": {},
     "output_type": "display_data"
    },
    {
     "data": {
      "text/html": [
       "<span style=\"color:cyan\"> |-Score: 0.9615135788917542</span>"
      ],
      "text/plain": [
       "<IPython.core.display.HTML object>"
      ]
     },
     "metadata": {},
     "output_type": "display_data"
    },
    {
     "data": {
      "text/html": [
       "<span style=\"color:cyan\"> |-Best step: 0</span>"
      ],
      "text/plain": [
       "<IPython.core.display.HTML object>"
      ]
     },
     "metadata": {},
     "output_type": "display_data"
    },
    {
     "data": {
      "text/html": [
       "<span style=\"color:#7E57C2\"><h2 style=\"font-size:16px\">Hyperparameters:</h2></span>"
      ],
      "text/plain": [
       "<IPython.core.display.HTML object>"
      ]
     },
     "metadata": {},
     "output_type": "display_data"
    },
    {
     "data": {
      "text/html": [
       "<span style=\"color:cyan\"> |-rate_1: 0.30000000000000004</span>"
      ],
      "text/plain": [
       "<IPython.core.display.HTML object>"
      ]
     },
     "metadata": {},
     "output_type": "display_data"
    },
    {
     "data": {
      "text/html": [
       "<span style=\"color:blue\"> |-rate_2: 0.2</span>"
      ],
      "text/plain": [
       "<IPython.core.display.HTML object>"
      ]
     },
     "metadata": {},
     "output_type": "display_data"
    },
    {
     "data": {
      "text/html": [
       "<span style=\"color:cyan\"> |-tuner/bracket: 2</span>"
      ],
      "text/plain": [
       "<IPython.core.display.HTML object>"
      ]
     },
     "metadata": {},
     "output_type": "display_data"
    },
    {
     "data": {
      "text/html": [
       "<span style=\"color:blue\"> |-tuner/epochs: 20</span>"
      ],
      "text/plain": [
       "<IPython.core.display.HTML object>"
      ]
     },
     "metadata": {},
     "output_type": "display_data"
    },
    {
     "data": {
      "text/html": [
       "<span style=\"color:cyan\"> |-tuner/initial_epoch: 7</span>"
      ],
      "text/plain": [
       "<IPython.core.display.HTML object>"
      ]
     },
     "metadata": {},
     "output_type": "display_data"
    },
    {
     "data": {
      "text/html": [
       "<span style=\"color:blue\"> |-tuner/round: 2</span>"
      ],
      "text/plain": [
       "<IPython.core.display.HTML object>"
      ]
     },
     "metadata": {},
     "output_type": "display_data"
    },
    {
     "data": {
      "text/html": [
       "<span style=\"color:cyan\"> |-tuner/trial_id: 23ea2067bc65e84abfd0904ff99f5c07</span>"
      ],
      "text/plain": [
       "<IPython.core.display.HTML object>"
      ]
     },
     "metadata": {},
     "output_type": "display_data"
    },
    {
     "data": {
      "text/html": [
       "<span style=\"color:blue\"> |-units_1: 56</span>"
      ],
      "text/plain": [
       "<IPython.core.display.HTML object>"
      ]
     },
     "metadata": {},
     "output_type": "display_data"
    },
    {
     "data": {
      "text/html": [
       "<span style=\"color:cyan\"> |-units_2: 42</span>"
      ],
      "text/plain": [
       "<IPython.core.display.HTML object>"
      ]
     },
     "metadata": {},
     "output_type": "display_data"
    },
    {
     "data": {
      "text/html": [
       "<span style=\"color:#4527A0\"><h1 style=\"font-size:18px\">Trial summary</h1></span>"
      ],
      "text/plain": [
       "<IPython.core.display.HTML object>"
      ]
     },
     "metadata": {},
     "output_type": "display_data"
    },
    {
     "data": {
      "text/html": [
       "<span style=\"color:cyan\"> |-Trial ID: f0b87f9f1bb3145d82e6bd8264773883</span>"
      ],
      "text/plain": [
       "<IPython.core.display.HTML object>"
      ]
     },
     "metadata": {},
     "output_type": "display_data"
    },
    {
     "data": {
      "text/html": [
       "<span style=\"color:cyan\"> |-Score: 0.9615135788917542</span>"
      ],
      "text/plain": [
       "<IPython.core.display.HTML object>"
      ]
     },
     "metadata": {},
     "output_type": "display_data"
    },
    {
     "data": {
      "text/html": [
       "<span style=\"color:cyan\"> |-Best step: 0</span>"
      ],
      "text/plain": [
       "<IPython.core.display.HTML object>"
      ]
     },
     "metadata": {},
     "output_type": "display_data"
    },
    {
     "data": {
      "text/html": [
       "<span style=\"color:#7E57C2\"><h2 style=\"font-size:16px\">Hyperparameters:</h2></span>"
      ],
      "text/plain": [
       "<IPython.core.display.HTML object>"
      ]
     },
     "metadata": {},
     "output_type": "display_data"
    },
    {
     "data": {
      "text/html": [
       "<span style=\"color:cyan\"> |-rate_1: 0.4000000000000001</span>"
      ],
      "text/plain": [
       "<IPython.core.display.HTML object>"
      ]
     },
     "metadata": {},
     "output_type": "display_data"
    },
    {
     "data": {
      "text/html": [
       "<span style=\"color:blue\"> |-rate_2: 0.30000000000000004</span>"
      ],
      "text/plain": [
       "<IPython.core.display.HTML object>"
      ]
     },
     "metadata": {},
     "output_type": "display_data"
    },
    {
     "data": {
      "text/html": [
       "<span style=\"color:cyan\"> |-tuner/bracket: 0</span>"
      ],
      "text/plain": [
       "<IPython.core.display.HTML object>"
      ]
     },
     "metadata": {},
     "output_type": "display_data"
    },
    {
     "data": {
      "text/html": [
       "<span style=\"color:blue\"> |-tuner/epochs: 20</span>"
      ],
      "text/plain": [
       "<IPython.core.display.HTML object>"
      ]
     },
     "metadata": {},
     "output_type": "display_data"
    },
    {
     "data": {
      "text/html": [
       "<span style=\"color:cyan\"> |-tuner/initial_epoch: 0</span>"
      ],
      "text/plain": [
       "<IPython.core.display.HTML object>"
      ]
     },
     "metadata": {},
     "output_type": "display_data"
    },
    {
     "data": {
      "text/html": [
       "<span style=\"color:blue\"> |-tuner/round: 0</span>"
      ],
      "text/plain": [
       "<IPython.core.display.HTML object>"
      ]
     },
     "metadata": {},
     "output_type": "display_data"
    },
    {
     "data": {
      "text/html": [
       "<span style=\"color:cyan\"> |-units_1: 42</span>"
      ],
      "text/plain": [
       "<IPython.core.display.HTML object>"
      ]
     },
     "metadata": {},
     "output_type": "display_data"
    },
    {
     "data": {
      "text/html": [
       "<span style=\"color:blue\"> |-units_2: 34</span>"
      ],
      "text/plain": [
       "<IPython.core.display.HTML object>"
      ]
     },
     "metadata": {},
     "output_type": "display_data"
    },
    {
     "data": {
      "text/html": [
       "<span style=\"color:#4527A0\"><h1 style=\"font-size:18px\">Trial summary</h1></span>"
      ],
      "text/plain": [
       "<IPython.core.display.HTML object>"
      ]
     },
     "metadata": {},
     "output_type": "display_data"
    },
    {
     "data": {
      "text/html": [
       "<span style=\"color:cyan\"> |-Trial ID: 18212eac78441cd9b44c6aa5a1016b26</span>"
      ],
      "text/plain": [
       "<IPython.core.display.HTML object>"
      ]
     },
     "metadata": {},
     "output_type": "display_data"
    },
    {
     "data": {
      "text/html": [
       "<span style=\"color:cyan\"> |-Score: 0.9611684083938599</span>"
      ],
      "text/plain": [
       "<IPython.core.display.HTML object>"
      ]
     },
     "metadata": {},
     "output_type": "display_data"
    },
    {
     "data": {
      "text/html": [
       "<span style=\"color:cyan\"> |-Best step: 0</span>"
      ],
      "text/plain": [
       "<IPython.core.display.HTML object>"
      ]
     },
     "metadata": {},
     "output_type": "display_data"
    },
    {
     "data": {
      "text/html": [
       "<span style=\"color:#7E57C2\"><h2 style=\"font-size:16px\">Hyperparameters:</h2></span>"
      ],
      "text/plain": [
       "<IPython.core.display.HTML object>"
      ]
     },
     "metadata": {},
     "output_type": "display_data"
    },
    {
     "data": {
      "text/html": [
       "<span style=\"color:cyan\"> |-rate_1: 0.30000000000000004</span>"
      ],
      "text/plain": [
       "<IPython.core.display.HTML object>"
      ]
     },
     "metadata": {},
     "output_type": "display_data"
    },
    {
     "data": {
      "text/html": [
       "<span style=\"color:blue\"> |-rate_2: 0.4000000000000001</span>"
      ],
      "text/plain": [
       "<IPython.core.display.HTML object>"
      ]
     },
     "metadata": {},
     "output_type": "display_data"
    },
    {
     "data": {
      "text/html": [
       "<span style=\"color:cyan\"> |-tuner/bracket: 1</span>"
      ],
      "text/plain": [
       "<IPython.core.display.HTML object>"
      ]
     },
     "metadata": {},
     "output_type": "display_data"
    },
    {
     "data": {
      "text/html": [
       "<span style=\"color:blue\"> |-tuner/epochs: 20</span>"
      ],
      "text/plain": [
       "<IPython.core.display.HTML object>"
      ]
     },
     "metadata": {},
     "output_type": "display_data"
    },
    {
     "data": {
      "text/html": [
       "<span style=\"color:cyan\"> |-tuner/initial_epoch: 7</span>"
      ],
      "text/plain": [
       "<IPython.core.display.HTML object>"
      ]
     },
     "metadata": {},
     "output_type": "display_data"
    },
    {
     "data": {
      "text/html": [
       "<span style=\"color:blue\"> |-tuner/round: 1</span>"
      ],
      "text/plain": [
       "<IPython.core.display.HTML object>"
      ]
     },
     "metadata": {},
     "output_type": "display_data"
    },
    {
     "data": {
      "text/html": [
       "<span style=\"color:cyan\"> |-tuner/trial_id: 10f22bb2d692c8ead0f92ac12fe1980d</span>"
      ],
      "text/plain": [
       "<IPython.core.display.HTML object>"
      ]
     },
     "metadata": {},
     "output_type": "display_data"
    },
    {
     "data": {
      "text/html": [
       "<span style=\"color:blue\"> |-units_1: 54</span>"
      ],
      "text/plain": [
       "<IPython.core.display.HTML object>"
      ]
     },
     "metadata": {},
     "output_type": "display_data"
    },
    {
     "data": {
      "text/html": [
       "<span style=\"color:cyan\"> |-units_2: 34</span>"
      ],
      "text/plain": [
       "<IPython.core.display.HTML object>"
      ]
     },
     "metadata": {},
     "output_type": "display_data"
    },
    {
     "data": {
      "text/html": [
       "<span style=\"color:#4527A0\"><h1 style=\"font-size:18px\">Trial summary</h1></span>"
      ],
      "text/plain": [
       "<IPython.core.display.HTML object>"
      ]
     },
     "metadata": {},
     "output_type": "display_data"
    },
    {
     "data": {
      "text/html": [
       "<span style=\"color:cyan\"> |-Trial ID: f5bf1a04d88be24f20c50c696a6807a7</span>"
      ],
      "text/plain": [
       "<IPython.core.display.HTML object>"
      ]
     },
     "metadata": {},
     "output_type": "display_data"
    },
    {
     "data": {
      "text/html": [
       "<span style=\"color:cyan\"> |-Score: 0.9610821008682251</span>"
      ],
      "text/plain": [
       "<IPython.core.display.HTML object>"
      ]
     },
     "metadata": {},
     "output_type": "display_data"
    },
    {
     "data": {
      "text/html": [
       "<span style=\"color:cyan\"> |-Best step: 0</span>"
      ],
      "text/plain": [
       "<IPython.core.display.HTML object>"
      ]
     },
     "metadata": {},
     "output_type": "display_data"
    },
    {
     "data": {
      "text/html": [
       "<span style=\"color:#7E57C2\"><h2 style=\"font-size:16px\">Hyperparameters:</h2></span>"
      ],
      "text/plain": [
       "<IPython.core.display.HTML object>"
      ]
     },
     "metadata": {},
     "output_type": "display_data"
    },
    {
     "data": {
      "text/html": [
       "<span style=\"color:cyan\"> |-rate_1: 0.30000000000000004</span>"
      ],
      "text/plain": [
       "<IPython.core.display.HTML object>"
      ]
     },
     "metadata": {},
     "output_type": "display_data"
    },
    {
     "data": {
      "text/html": [
       "<span style=\"color:blue\"> |-rate_2: 0.30000000000000004</span>"
      ],
      "text/plain": [
       "<IPython.core.display.HTML object>"
      ]
     },
     "metadata": {},
     "output_type": "display_data"
    },
    {
     "data": {
      "text/html": [
       "<span style=\"color:cyan\"> |-tuner/bracket: 1</span>"
      ],
      "text/plain": [
       "<IPython.core.display.HTML object>"
      ]
     },
     "metadata": {},
     "output_type": "display_data"
    },
    {
     "data": {
      "text/html": [
       "<span style=\"color:blue\"> |-tuner/epochs: 20</span>"
      ],
      "text/plain": [
       "<IPython.core.display.HTML object>"
      ]
     },
     "metadata": {},
     "output_type": "display_data"
    },
    {
     "data": {
      "text/html": [
       "<span style=\"color:cyan\"> |-tuner/initial_epoch: 7</span>"
      ],
      "text/plain": [
       "<IPython.core.display.HTML object>"
      ]
     },
     "metadata": {},
     "output_type": "display_data"
    },
    {
     "data": {
      "text/html": [
       "<span style=\"color:blue\"> |-tuner/round: 1</span>"
      ],
      "text/plain": [
       "<IPython.core.display.HTML object>"
      ]
     },
     "metadata": {},
     "output_type": "display_data"
    },
    {
     "data": {
      "text/html": [
       "<span style=\"color:cyan\"> |-tuner/trial_id: cbbfd18372b2cb2ab243a4682b699ae5</span>"
      ],
      "text/plain": [
       "<IPython.core.display.HTML object>"
      ]
     },
     "metadata": {},
     "output_type": "display_data"
    },
    {
     "data": {
      "text/html": [
       "<span style=\"color:blue\"> |-units_1: 58</span>"
      ],
      "text/plain": [
       "<IPython.core.display.HTML object>"
      ]
     },
     "metadata": {},
     "output_type": "display_data"
    },
    {
     "data": {
      "text/html": [
       "<span style=\"color:cyan\"> |-units_2: 40</span>"
      ],
      "text/plain": [
       "<IPython.core.display.HTML object>"
      ]
     },
     "metadata": {},
     "output_type": "display_data"
    },
    {
     "data": {
      "text/html": [
       "<span style=\"color:#4527A0\"><h1 style=\"font-size:18px\">Trial summary</h1></span>"
      ],
      "text/plain": [
       "<IPython.core.display.HTML object>"
      ]
     },
     "metadata": {},
     "output_type": "display_data"
    },
    {
     "data": {
      "text/html": [
       "<span style=\"color:cyan\"> |-Trial ID: cbbfd18372b2cb2ab243a4682b699ae5</span>"
      ],
      "text/plain": [
       "<IPython.core.display.HTML object>"
      ]
     },
     "metadata": {},
     "output_type": "display_data"
    },
    {
     "data": {
      "text/html": [
       "<span style=\"color:cyan\"> |-Score: 0.9598308801651001</span>"
      ],
      "text/plain": [
       "<IPython.core.display.HTML object>"
      ]
     },
     "metadata": {},
     "output_type": "display_data"
    },
    {
     "data": {
      "text/html": [
       "<span style=\"color:cyan\"> |-Best step: 0</span>"
      ],
      "text/plain": [
       "<IPython.core.display.HTML object>"
      ]
     },
     "metadata": {},
     "output_type": "display_data"
    },
    {
     "data": {
      "text/html": [
       "<span style=\"color:#7E57C2\"><h2 style=\"font-size:16px\">Hyperparameters:</h2></span>"
      ],
      "text/plain": [
       "<IPython.core.display.HTML object>"
      ]
     },
     "metadata": {},
     "output_type": "display_data"
    },
    {
     "data": {
      "text/html": [
       "<span style=\"color:cyan\"> |-rate_1: 0.30000000000000004</span>"
      ],
      "text/plain": [
       "<IPython.core.display.HTML object>"
      ]
     },
     "metadata": {},
     "output_type": "display_data"
    },
    {
     "data": {
      "text/html": [
       "<span style=\"color:blue\"> |-rate_2: 0.30000000000000004</span>"
      ],
      "text/plain": [
       "<IPython.core.display.HTML object>"
      ]
     },
     "metadata": {},
     "output_type": "display_data"
    },
    {
     "data": {
      "text/html": [
       "<span style=\"color:cyan\"> |-tuner/bracket: 1</span>"
      ],
      "text/plain": [
       "<IPython.core.display.HTML object>"
      ]
     },
     "metadata": {},
     "output_type": "display_data"
    },
    {
     "data": {
      "text/html": [
       "<span style=\"color:blue\"> |-tuner/epochs: 7</span>"
      ],
      "text/plain": [
       "<IPython.core.display.HTML object>"
      ]
     },
     "metadata": {},
     "output_type": "display_data"
    },
    {
     "data": {
      "text/html": [
       "<span style=\"color:cyan\"> |-tuner/initial_epoch: 0</span>"
      ],
      "text/plain": [
       "<IPython.core.display.HTML object>"
      ]
     },
     "metadata": {},
     "output_type": "display_data"
    },
    {
     "data": {
      "text/html": [
       "<span style=\"color:blue\"> |-tuner/round: 0</span>"
      ],
      "text/plain": [
       "<IPython.core.display.HTML object>"
      ]
     },
     "metadata": {},
     "output_type": "display_data"
    },
    {
     "data": {
      "text/html": [
       "<span style=\"color:cyan\"> |-units_1: 58</span>"
      ],
      "text/plain": [
       "<IPython.core.display.HTML object>"
      ]
     },
     "metadata": {},
     "output_type": "display_data"
    },
    {
     "data": {
      "text/html": [
       "<span style=\"color:blue\"> |-units_2: 40</span>"
      ],
      "text/plain": [
       "<IPython.core.display.HTML object>"
      ]
     },
     "metadata": {},
     "output_type": "display_data"
    },
    {
     "data": {
      "text/html": [
       "<span style=\"color:#4527A0\"><h1 style=\"font-size:18px\">Trial summary</h1></span>"
      ],
      "text/plain": [
       "<IPython.core.display.HTML object>"
      ]
     },
     "metadata": {},
     "output_type": "display_data"
    },
    {
     "data": {
      "text/html": [
       "<span style=\"color:cyan\"> |-Trial ID: 10f22bb2d692c8ead0f92ac12fe1980d</span>"
      ],
      "text/plain": [
       "<IPython.core.display.HTML object>"
      ]
     },
     "metadata": {},
     "output_type": "display_data"
    },
    {
     "data": {
      "text/html": [
       "<span style=\"color:cyan\"> |-Score: 0.959701418876648</span>"
      ],
      "text/plain": [
       "<IPython.core.display.HTML object>"
      ]
     },
     "metadata": {},
     "output_type": "display_data"
    },
    {
     "data": {
      "text/html": [
       "<span style=\"color:cyan\"> |-Best step: 0</span>"
      ],
      "text/plain": [
       "<IPython.core.display.HTML object>"
      ]
     },
     "metadata": {},
     "output_type": "display_data"
    },
    {
     "data": {
      "text/html": [
       "<span style=\"color:#7E57C2\"><h2 style=\"font-size:16px\">Hyperparameters:</h2></span>"
      ],
      "text/plain": [
       "<IPython.core.display.HTML object>"
      ]
     },
     "metadata": {},
     "output_type": "display_data"
    },
    {
     "data": {
      "text/html": [
       "<span style=\"color:cyan\"> |-rate_1: 0.30000000000000004</span>"
      ],
      "text/plain": [
       "<IPython.core.display.HTML object>"
      ]
     },
     "metadata": {},
     "output_type": "display_data"
    },
    {
     "data": {
      "text/html": [
       "<span style=\"color:blue\"> |-rate_2: 0.4000000000000001</span>"
      ],
      "text/plain": [
       "<IPython.core.display.HTML object>"
      ]
     },
     "metadata": {},
     "output_type": "display_data"
    },
    {
     "data": {
      "text/html": [
       "<span style=\"color:cyan\"> |-tuner/bracket: 1</span>"
      ],
      "text/plain": [
       "<IPython.core.display.HTML object>"
      ]
     },
     "metadata": {},
     "output_type": "display_data"
    },
    {
     "data": {
      "text/html": [
       "<span style=\"color:blue\"> |-tuner/epochs: 7</span>"
      ],
      "text/plain": [
       "<IPython.core.display.HTML object>"
      ]
     },
     "metadata": {},
     "output_type": "display_data"
    },
    {
     "data": {
      "text/html": [
       "<span style=\"color:cyan\"> |-tuner/initial_epoch: 0</span>"
      ],
      "text/plain": [
       "<IPython.core.display.HTML object>"
      ]
     },
     "metadata": {},
     "output_type": "display_data"
    },
    {
     "data": {
      "text/html": [
       "<span style=\"color:blue\"> |-tuner/round: 0</span>"
      ],
      "text/plain": [
       "<IPython.core.display.HTML object>"
      ]
     },
     "metadata": {},
     "output_type": "display_data"
    },
    {
     "data": {
      "text/html": [
       "<span style=\"color:cyan\"> |-units_1: 54</span>"
      ],
      "text/plain": [
       "<IPython.core.display.HTML object>"
      ]
     },
     "metadata": {},
     "output_type": "display_data"
    },
    {
     "data": {
      "text/html": [
       "<span style=\"color:blue\"> |-units_2: 34</span>"
      ],
      "text/plain": [
       "<IPython.core.display.HTML object>"
      ]
     },
     "metadata": {},
     "output_type": "display_data"
    }
   ],
   "source": [
    "tuner.results_summary()"
   ]
  },
  {
   "cell_type": "markdown",
   "metadata": {},
   "source": [
    "## Model topology"
   ]
  },
  {
   "cell_type": "code",
   "execution_count": 61,
   "metadata": {},
   "outputs": [
    {
     "name": "stdout",
     "output_type": "stream",
     "text": [
      "Model: \"model_9\"\n",
      "_________________________________________________________________\n",
      "Layer (type)                 Output Shape              Param #   \n",
      "=================================================================\n",
      "X_input (InputLayer)         (None, 16)                0         \n",
      "_________________________________________________________________\n",
      "Hidden_layer_1 (Dense)       (None, 52)                884       \n",
      "_________________________________________________________________\n",
      "Dropout_layer_1 (Dropout)    (None, 52)                0         \n",
      "_________________________________________________________________\n",
      "Hidden_layer_2 (Dense)       (None, 36)                1908      \n",
      "_________________________________________________________________\n",
      "Dropout_layer_2 (Dropout)    (None, 36)                0         \n",
      "_________________________________________________________________\n",
      "Y_output (Dense)             (None, 1)                 37        \n",
      "=================================================================\n",
      "Total params: 2,829\n",
      "Trainable params: 2,829\n",
      "Non-trainable params: 0\n",
      "_________________________________________________________________\n"
     ]
    }
   ],
   "source": [
    "######## input layer ########\n",
    "X_input = Input(shape = (X.shape[1],), name = 'X_input')\n",
    "\n",
    "######## hidden layers ########\n",
    "hidden_1 = Dense(\n",
    "    units = 52,\n",
    "    activation = 'relu',\n",
    "    kernel_initializer = glorot_uniform(seed=1),\n",
    "    name = 'Hidden_layer_1'\n",
    ")(X_input)\n",
    "\n",
    "dropout_1 = Dropout(rate = 0.2, seed = 10, name = 'Dropout_layer_1')(hidden_1)\n",
    "\n",
    "hidden_2 = Dense(\n",
    "    units = 36,\n",
    "    activation = 'relu',\n",
    "    kernel_initializer = glorot_uniform(seed=1),\n",
    "    name = 'Hidden_layer_2'\n",
    ")(dropout_1)\n",
    "\n",
    "dropout_2 = Dropout(rate = 0.2, seed = 10, name = 'Dropout_layer_2')(hidden_2)\n",
    "\n",
    "######## output layer #######\n",
    "Y_output = Dense(\n",
    "    units = 1,\n",
    "    activation = 'sigmoid',\n",
    "    kernel_initializer = glorot_uniform(seed=1),\n",
    "    name = 'Y_output'\n",
    ")(dropout_2)\n",
    "\n",
    "\n",
    "model = Model(inputs = X_input, outputs = Y_output)\n",
    "\n",
    "# use adaptive moment estimation (adam) to train, which uses both GD with momentum and RMSprop\n",
    "# the default hyperparameters in adam are usually good enough\n",
    "model.compile(optimizer = 'adam', loss = 'binary_crossentropy', metrics = ['accuracy']) ### accuracy = freq. of y_pred = y_true\n",
    "\n",
    "# show model details\n",
    "model.summary()"
   ]
  },
  {
   "cell_type": "markdown",
   "metadata": {},
   "source": [
    "## Model training"
   ]
  },
  {
   "cell_type": "code",
   "execution_count": 62,
   "metadata": {
    "scrolled": true
   },
   "outputs": [
    {
     "name": "stdout",
     "output_type": "stream",
     "text": [
      "Train on 69531 samples, validate on 23177 samples\n",
      "Epoch 1/15\n",
      "69531/69531 [==============================] - ETA: 2:38 - loss: 0.7088 - accuracy: 0.58 - ETA: 18s - loss: 0.6210 - accuracy: 0.6576 - ETA: 10s - loss: 0.5618 - accuracy: 0.725 - ETA: 7s - loss: 0.5157 - accuracy: 0.767 - ETA: 5s - loss: 0.4777 - accuracy: 0.79 - ETA: 4s - loss: 0.4474 - accuracy: 0.81 - ETA: 4s - loss: 0.4185 - accuracy: 0.82 - ETA: 3s - loss: 0.3944 - accuracy: 0.84 - ETA: 3s - loss: 0.3739 - accuracy: 0.85 - ETA: 2s - loss: 0.3535 - accuracy: 0.85 - ETA: 2s - loss: 0.3391 - accuracy: 0.86 - ETA: 2s - loss: 0.3231 - accuracy: 0.87 - ETA: 2s - loss: 0.3132 - accuracy: 0.87 - ETA: 1s - loss: 0.3012 - accuracy: 0.88 - ETA: 1s - loss: 0.2896 - accuracy: 0.88 - ETA: 1s - loss: 0.2805 - accuracy: 0.89 - ETA: 1s - loss: 0.2722 - accuracy: 0.89 - ETA: 1s - loss: 0.2651 - accuracy: 0.89 - ETA: 1s - loss: 0.2573 - accuracy: 0.90 - ETA: 1s - loss: 0.2519 - accuracy: 0.90 - ETA: 0s - loss: 0.2461 - accuracy: 0.90 - ETA: 0s - loss: 0.2410 - accuracy: 0.90 - ETA: 0s - loss: 0.2368 - accuracy: 0.90 - ETA: 0s - loss: 0.2333 - accuracy: 0.91 - ETA: 0s - loss: 0.2284 - accuracy: 0.91 - ETA: 0s - loss: 0.2246 - accuracy: 0.91 - ETA: 0s - loss: 0.2217 - accuracy: 0.91 - ETA: 0s - loss: 0.2175 - accuracy: 0.91 - ETA: 0s - loss: 0.2146 - accuracy: 0.91 - ETA: 0s - loss: 0.2121 - accuracy: 0.91 - ETA: 0s - loss: 0.2096 - accuracy: 0.92 - ETA: 0s - loss: 0.2070 - accuracy: 0.92 - ETA: 0s - loss: 0.2054 - accuracy: 0.92 - 3s 37us/step - loss: 0.2053 - accuracy: 0.9226 - val_loss: 0.1254 - val_accuracy: 0.9539\n",
      "Epoch 2/15\n",
      "69531/69531 [==============================] - ETA: 1s - loss: 0.1705 - accuracy: 0.94 - ETA: 1s - loss: 0.1400 - accuracy: 0.95 - ETA: 1s - loss: 0.1391 - accuracy: 0.95 - ETA: 1s - loss: 0.1401 - accuracy: 0.94 - ETA: 1s - loss: 0.1372 - accuracy: 0.95 - ETA: 1s - loss: 0.1364 - accuracy: 0.95 - ETA: 1s - loss: 0.1342 - accuracy: 0.95 - ETA: 1s - loss: 0.1331 - accuracy: 0.95 - ETA: 1s - loss: 0.1336 - accuracy: 0.95 - ETA: 1s - loss: 0.1330 - accuracy: 0.95 - ETA: 1s - loss: 0.1324 - accuracy: 0.95 - ETA: 1s - loss: 0.1326 - accuracy: 0.95 - ETA: 1s - loss: 0.1323 - accuracy: 0.95 - ETA: 1s - loss: 0.1317 - accuracy: 0.95 - ETA: 0s - loss: 0.1315 - accuracy: 0.95 - ETA: 0s - loss: 0.1329 - accuracy: 0.95 - ETA: 0s - loss: 0.1321 - accuracy: 0.95 - ETA: 0s - loss: 0.1307 - accuracy: 0.95 - ETA: 0s - loss: 0.1315 - accuracy: 0.95 - ETA: 0s - loss: 0.1307 - accuracy: 0.95 - ETA: 0s - loss: 0.1307 - accuracy: 0.95 - ETA: 0s - loss: 0.1305 - accuracy: 0.95 - ETA: 0s - loss: 0.1301 - accuracy: 0.95 - ETA: 0s - loss: 0.1305 - accuracy: 0.95 - ETA: 0s - loss: 0.1304 - accuracy: 0.95 - ETA: 0s - loss: 0.1303 - accuracy: 0.95 - ETA: 0s - loss: 0.1303 - accuracy: 0.95 - ETA: 0s - loss: 0.1299 - accuracy: 0.95 - ETA: 0s - loss: 0.1295 - accuracy: 0.95 - ETA: 0s - loss: 0.1297 - accuracy: 0.95 - ETA: 0s - loss: 0.1293 - accuracy: 0.95 - ETA: 0s - loss: 0.1292 - accuracy: 0.95 - 2s 26us/step - loss: 0.1295 - accuracy: 0.9540 - val_loss: 0.1188 - val_accuracy: 0.9552\n",
      "Epoch 3/15\n",
      "69531/69531 [==============================] - ETA: 2s - loss: 0.1045 - accuracy: 0.97 - ETA: 1s - loss: 0.1145 - accuracy: 0.95 - ETA: 1s - loss: 0.1224 - accuracy: 0.95 - ETA: 1s - loss: 0.1283 - accuracy: 0.95 - ETA: 1s - loss: 0.1250 - accuracy: 0.95 - ETA: 1s - loss: 0.1268 - accuracy: 0.95 - ETA: 1s - loss: 0.1248 - accuracy: 0.95 - ETA: 1s - loss: 0.1250 - accuracy: 0.95 - ETA: 1s - loss: 0.1276 - accuracy: 0.95 - ETA: 1s - loss: 0.1268 - accuracy: 0.95 - ETA: 1s - loss: 0.1266 - accuracy: 0.95 - ETA: 1s - loss: 0.1260 - accuracy: 0.95 - ETA: 1s - loss: 0.1265 - accuracy: 0.95 - ETA: 0s - loss: 0.1253 - accuracy: 0.95 - ETA: 0s - loss: 0.1238 - accuracy: 0.95 - ETA: 0s - loss: 0.1238 - accuracy: 0.95 - ETA: 0s - loss: 0.1241 - accuracy: 0.95 - ETA: 0s - loss: 0.1241 - accuracy: 0.95 - ETA: 0s - loss: 0.1238 - accuracy: 0.95 - ETA: 0s - loss: 0.1240 - accuracy: 0.95 - ETA: 0s - loss: 0.1235 - accuracy: 0.95 - ETA: 0s - loss: 0.1235 - accuracy: 0.95 - ETA: 0s - loss: 0.1225 - accuracy: 0.95 - ETA: 0s - loss: 0.1226 - accuracy: 0.95 - ETA: 0s - loss: 0.1222 - accuracy: 0.95 - ETA: 0s - loss: 0.1221 - accuracy: 0.95 - ETA: 0s - loss: 0.1222 - accuracy: 0.95 - ETA: 0s - loss: 0.1222 - accuracy: 0.95 - ETA: 0s - loss: 0.1226 - accuracy: 0.95 - ETA: 0s - loss: 0.1226 - accuracy: 0.95 - ETA: 0s - loss: 0.1230 - accuracy: 0.95 - 2s 26us/step - loss: 0.1232 - accuracy: 0.9555 - val_loss: 0.1165 - val_accuracy: 0.9574\n",
      "Epoch 4/15\n",
      "69531/69531 [==============================] - ETA: 1s - loss: 0.1251 - accuracy: 0.96 - ETA: 1s - loss: 0.1331 - accuracy: 0.95 - ETA: 1s - loss: 0.1205 - accuracy: 0.95 - ETA: 1s - loss: 0.1238 - accuracy: 0.95 - ETA: 1s - loss: 0.1257 - accuracy: 0.95 - ETA: 1s - loss: 0.1278 - accuracy: 0.95 - ETA: 1s - loss: 0.1258 - accuracy: 0.95 - ETA: 1s - loss: 0.1246 - accuracy: 0.95 - ETA: 1s - loss: 0.1227 - accuracy: 0.95 - ETA: 1s - loss: 0.1234 - accuracy: 0.95 - ETA: 1s - loss: 0.1228 - accuracy: 0.95 - ETA: 1s - loss: 0.1223 - accuracy: 0.95 - ETA: 0s - loss: 0.1222 - accuracy: 0.95 - ETA: 0s - loss: 0.1227 - accuracy: 0.95 - ETA: 0s - loss: 0.1216 - accuracy: 0.95 - ETA: 0s - loss: 0.1217 - accuracy: 0.95 - ETA: 0s - loss: 0.1219 - accuracy: 0.95 - ETA: 0s - loss: 0.1208 - accuracy: 0.95 - ETA: 0s - loss: 0.1221 - accuracy: 0.95 - ETA: 0s - loss: 0.1220 - accuracy: 0.95 - ETA: 0s - loss: 0.1218 - accuracy: 0.95 - ETA: 0s - loss: 0.1212 - accuracy: 0.95 - ETA: 0s - loss: 0.1203 - accuracy: 0.95 - ETA: 0s - loss: 0.1198 - accuracy: 0.95 - ETA: 0s - loss: 0.1193 - accuracy: 0.95 - ETA: 0s - loss: 0.1199 - accuracy: 0.95 - ETA: 0s - loss: 0.1197 - accuracy: 0.95 - ETA: 0s - loss: 0.1202 - accuracy: 0.95 - ETA: 0s - loss: 0.1203 - accuracy: 0.95 - ETA: 0s - loss: 0.1199 - accuracy: 0.95 - ETA: 0s - loss: 0.1197 - accuracy: 0.95 - 2s 26us/step - loss: 0.1200 - accuracy: 0.9569 - val_loss: 0.1143 - val_accuracy: 0.9577\n",
      "Epoch 5/15\n",
      "69531/69531 [==============================] - ETA: 2s - loss: 0.1112 - accuracy: 0.95 - ETA: 1s - loss: 0.1191 - accuracy: 0.95 - ETA: 1s - loss: 0.1191 - accuracy: 0.95 - ETA: 1s - loss: 0.1187 - accuracy: 0.95 - ETA: 1s - loss: 0.1178 - accuracy: 0.95 - ETA: 1s - loss: 0.1186 - accuracy: 0.95 - ETA: 1s - loss: 0.1184 - accuracy: 0.95 - ETA: 1s - loss: 0.1184 - accuracy: 0.95 - ETA: 1s - loss: 0.1199 - accuracy: 0.95 - ETA: 1s - loss: 0.1217 - accuracy: 0.95 - ETA: 1s - loss: 0.1235 - accuracy: 0.95 - ETA: 1s - loss: 0.1222 - accuracy: 0.95 - ETA: 1s - loss: 0.1221 - accuracy: 0.95 - ETA: 1s - loss: 0.1214 - accuracy: 0.95 - ETA: 0s - loss: 0.1209 - accuracy: 0.95 - ETA: 0s - loss: 0.1207 - accuracy: 0.95 - ETA: 0s - loss: 0.1200 - accuracy: 0.95 - ETA: 0s - loss: 0.1197 - accuracy: 0.95 - ETA: 0s - loss: 0.1192 - accuracy: 0.95 - ETA: 0s - loss: 0.1190 - accuracy: 0.95 - ETA: 0s - loss: 0.1192 - accuracy: 0.95 - ETA: 0s - loss: 0.1189 - accuracy: 0.95 - ETA: 0s - loss: 0.1195 - accuracy: 0.95 - ETA: 0s - loss: 0.1186 - accuracy: 0.95 - ETA: 0s - loss: 0.1178 - accuracy: 0.95 - ETA: 0s - loss: 0.1173 - accuracy: 0.95 - ETA: 0s - loss: 0.1170 - accuracy: 0.95 - ETA: 0s - loss: 0.1169 - accuracy: 0.95 - ETA: 0s - loss: 0.1166 - accuracy: 0.95 - ETA: 0s - loss: 0.1168 - accuracy: 0.95 - ETA: 0s - loss: 0.1170 - accuracy: 0.95 - ETA: 0s - loss: 0.1173 - accuracy: 0.95 - ETA: 0s - loss: 0.1172 - accuracy: 0.95 - 2s 27us/step - loss: 0.1168 - accuracy: 0.9579 - val_loss: 0.1114 - val_accuracy: 0.9588\n",
      "Epoch 6/15\n"
     ]
    },
    {
     "name": "stdout",
     "output_type": "stream",
     "text": [
      "69531/69531 [==============================] - ETA: 1s - loss: 0.0717 - accuracy: 0.97 - ETA: 1s - loss: 0.1178 - accuracy: 0.95 - ETA: 1s - loss: 0.1147 - accuracy: 0.96 - ETA: 1s - loss: 0.1144 - accuracy: 0.96 - ETA: 1s - loss: 0.1158 - accuracy: 0.96 - ETA: 1s - loss: 0.1164 - accuracy: 0.95 - ETA: 1s - loss: 0.1172 - accuracy: 0.95 - ETA: 1s - loss: 0.1190 - accuracy: 0.95 - ETA: 1s - loss: 0.1187 - accuracy: 0.95 - ETA: 1s - loss: 0.1171 - accuracy: 0.95 - ETA: 1s - loss: 0.1171 - accuracy: 0.95 - ETA: 1s - loss: 0.1170 - accuracy: 0.95 - ETA: 1s - loss: 0.1161 - accuracy: 0.95 - ETA: 1s - loss: 0.1159 - accuracy: 0.95 - ETA: 0s - loss: 0.1162 - accuracy: 0.95 - ETA: 0s - loss: 0.1156 - accuracy: 0.95 - ETA: 0s - loss: 0.1161 - accuracy: 0.95 - ETA: 0s - loss: 0.1172 - accuracy: 0.95 - ETA: 0s - loss: 0.1162 - accuracy: 0.95 - ETA: 0s - loss: 0.1162 - accuracy: 0.95 - ETA: 0s - loss: 0.1154 - accuracy: 0.95 - ETA: 0s - loss: 0.1154 - accuracy: 0.95 - ETA: 0s - loss: 0.1150 - accuracy: 0.95 - ETA: 0s - loss: 0.1144 - accuracy: 0.95 - ETA: 0s - loss: 0.1140 - accuracy: 0.95 - ETA: 0s - loss: 0.1143 - accuracy: 0.95 - ETA: 0s - loss: 0.1143 - accuracy: 0.95 - ETA: 0s - loss: 0.1141 - accuracy: 0.95 - ETA: 0s - loss: 0.1135 - accuracy: 0.95 - ETA: 0s - loss: 0.1136 - accuracy: 0.95 - ETA: 0s - loss: 0.1139 - accuracy: 0.95 - ETA: 0s - loss: 0.1138 - accuracy: 0.95 - 2s 27us/step - loss: 0.1138 - accuracy: 0.9589 - val_loss: 0.1097 - val_accuracy: 0.9600\n",
      "Epoch 7/15\n",
      "69531/69531 [==============================] - ETA: 1s - loss: 0.1381 - accuracy: 0.96 - ETA: 1s - loss: 0.1256 - accuracy: 0.95 - ETA: 1s - loss: 0.1183 - accuracy: 0.95 - ETA: 1s - loss: 0.1146 - accuracy: 0.96 - ETA: 1s - loss: 0.1196 - accuracy: 0.95 - ETA: 1s - loss: 0.1177 - accuracy: 0.95 - ETA: 1s - loss: 0.1178 - accuracy: 0.95 - ETA: 1s - loss: 0.1159 - accuracy: 0.95 - ETA: 1s - loss: 0.1166 - accuracy: 0.95 - ETA: 1s - loss: 0.1149 - accuracy: 0.95 - ETA: 1s - loss: 0.1148 - accuracy: 0.95 - ETA: 1s - loss: 0.1136 - accuracy: 0.95 - ETA: 1s - loss: 0.1133 - accuracy: 0.95 - ETA: 1s - loss: 0.1149 - accuracy: 0.95 - ETA: 0s - loss: 0.1131 - accuracy: 0.95 - ETA: 0s - loss: 0.1148 - accuracy: 0.95 - ETA: 0s - loss: 0.1150 - accuracy: 0.95 - ETA: 0s - loss: 0.1161 - accuracy: 0.95 - ETA: 0s - loss: 0.1159 - accuracy: 0.95 - ETA: 0s - loss: 0.1160 - accuracy: 0.95 - ETA: 0s - loss: 0.1151 - accuracy: 0.95 - ETA: 0s - loss: 0.1147 - accuracy: 0.95 - ETA: 0s - loss: 0.1150 - accuracy: 0.95 - ETA: 0s - loss: 0.1149 - accuracy: 0.95 - ETA: 0s - loss: 0.1144 - accuracy: 0.95 - ETA: 0s - loss: 0.1146 - accuracy: 0.95 - ETA: 0s - loss: 0.1147 - accuracy: 0.95 - ETA: 0s - loss: 0.1149 - accuracy: 0.95 - ETA: 0s - loss: 0.1143 - accuracy: 0.95 - ETA: 0s - loss: 0.1140 - accuracy: 0.95 - ETA: 0s - loss: 0.1136 - accuracy: 0.95 - ETA: 0s - loss: 0.1132 - accuracy: 0.95 - 2s 26us/step - loss: 0.1131 - accuracy: 0.9591 - val_loss: 0.1091 - val_accuracy: 0.9603\n",
      "Epoch 8/15\n",
      "69531/69531 [==============================] - ETA: 1s - loss: 0.1438 - accuracy: 0.94 - ETA: 1s - loss: 0.1090 - accuracy: 0.95 - ETA: 1s - loss: 0.1128 - accuracy: 0.95 - ETA: 1s - loss: 0.1187 - accuracy: 0.95 - ETA: 1s - loss: 0.1158 - accuracy: 0.95 - ETA: 1s - loss: 0.1153 - accuracy: 0.95 - ETA: 1s - loss: 0.1175 - accuracy: 0.95 - ETA: 1s - loss: 0.1180 - accuracy: 0.95 - ETA: 1s - loss: 0.1196 - accuracy: 0.95 - ETA: 1s - loss: 0.1187 - accuracy: 0.95 - ETA: 1s - loss: 0.1172 - accuracy: 0.95 - ETA: 0s - loss: 0.1157 - accuracy: 0.95 - ETA: 0s - loss: 0.1153 - accuracy: 0.95 - ETA: 0s - loss: 0.1137 - accuracy: 0.95 - ETA: 0s - loss: 0.1142 - accuracy: 0.95 - ETA: 0s - loss: 0.1131 - accuracy: 0.95 - ETA: 0s - loss: 0.1131 - accuracy: 0.95 - ETA: 0s - loss: 0.1133 - accuracy: 0.95 - ETA: 0s - loss: 0.1135 - accuracy: 0.95 - ETA: 0s - loss: 0.1133 - accuracy: 0.95 - ETA: 0s - loss: 0.1133 - accuracy: 0.95 - ETA: 0s - loss: 0.1126 - accuracy: 0.95 - ETA: 0s - loss: 0.1126 - accuracy: 0.95 - ETA: 0s - loss: 0.1124 - accuracy: 0.95 - ETA: 0s - loss: 0.1122 - accuracy: 0.95 - ETA: 0s - loss: 0.1115 - accuracy: 0.95 - ETA: 0s - loss: 0.1111 - accuracy: 0.95 - ETA: 0s - loss: 0.1118 - accuracy: 0.95 - ETA: 0s - loss: 0.1117 - accuracy: 0.95 - ETA: 0s - loss: 0.1116 - accuracy: 0.95 - ETA: 0s - loss: 0.1115 - accuracy: 0.95 - 2s 25us/step - loss: 0.1115 - accuracy: 0.9597 - val_loss: 0.1092 - val_accuracy: 0.9603\n",
      "Epoch 9/15\n",
      "69531/69531 [==============================] - ETA: 1s - loss: 0.1041 - accuracy: 0.96 - ETA: 1s - loss: 0.1072 - accuracy: 0.96 - ETA: 1s - loss: 0.1076 - accuracy: 0.96 - ETA: 1s - loss: 0.1084 - accuracy: 0.95 - ETA: 1s - loss: 0.1080 - accuracy: 0.96 - ETA: 1s - loss: 0.1070 - accuracy: 0.96 - ETA: 1s - loss: 0.1054 - accuracy: 0.96 - ETA: 1s - loss: 0.1050 - accuracy: 0.96 - ETA: 1s - loss: 0.1051 - accuracy: 0.96 - ETA: 1s - loss: 0.1068 - accuracy: 0.96 - ETA: 1s - loss: 0.1071 - accuracy: 0.96 - ETA: 1s - loss: 0.1080 - accuracy: 0.96 - ETA: 0s - loss: 0.1078 - accuracy: 0.96 - ETA: 0s - loss: 0.1070 - accuracy: 0.96 - ETA: 0s - loss: 0.1063 - accuracy: 0.96 - ETA: 0s - loss: 0.1073 - accuracy: 0.96 - ETA: 0s - loss: 0.1084 - accuracy: 0.96 - ETA: 0s - loss: 0.1091 - accuracy: 0.96 - ETA: 0s - loss: 0.1091 - accuracy: 0.96 - ETA: 0s - loss: 0.1092 - accuracy: 0.96 - ETA: 0s - loss: 0.1089 - accuracy: 0.96 - ETA: 0s - loss: 0.1095 - accuracy: 0.96 - ETA: 0s - loss: 0.1096 - accuracy: 0.96 - ETA: 0s - loss: 0.1099 - accuracy: 0.95 - ETA: 0s - loss: 0.1097 - accuracy: 0.96 - ETA: 0s - loss: 0.1096 - accuracy: 0.96 - ETA: 0s - loss: 0.1099 - accuracy: 0.95 - ETA: 0s - loss: 0.1101 - accuracy: 0.95 - ETA: 0s - loss: 0.1104 - accuracy: 0.95 - ETA: 0s - loss: 0.1105 - accuracy: 0.95 - ETA: 0s - loss: 0.1105 - accuracy: 0.95 - 2s 25us/step - loss: 0.1104 - accuracy: 0.9599 - val_loss: 0.1069 - val_accuracy: 0.9606\n",
      "Epoch 10/15\n",
      "69531/69531 [==============================] - ETA: 1s - loss: 0.0886 - accuracy: 0.96 - ETA: 1s - loss: 0.1106 - accuracy: 0.96 - ETA: 1s - loss: 0.1072 - accuracy: 0.96 - ETA: 1s - loss: 0.1044 - accuracy: 0.96 - ETA: 1s - loss: 0.1076 - accuracy: 0.96 - ETA: 1s - loss: 0.1084 - accuracy: 0.96 - ETA: 1s - loss: 0.1074 - accuracy: 0.96 - ETA: 1s - loss: 0.1082 - accuracy: 0.96 - ETA: 1s - loss: 0.1100 - accuracy: 0.96 - ETA: 1s - loss: 0.1097 - accuracy: 0.95 - ETA: 1s - loss: 0.1088 - accuracy: 0.96 - ETA: 1s - loss: 0.1084 - accuracy: 0.96 - ETA: 1s - loss: 0.1087 - accuracy: 0.96 - ETA: 0s - loss: 0.1080 - accuracy: 0.96 - ETA: 0s - loss: 0.1083 - accuracy: 0.96 - ETA: 0s - loss: 0.1088 - accuracy: 0.96 - ETA: 0s - loss: 0.1086 - accuracy: 0.96 - ETA: 0s - loss: 0.1077 - accuracy: 0.96 - ETA: 0s - loss: 0.1087 - accuracy: 0.96 - ETA: 0s - loss: 0.1083 - accuracy: 0.96 - ETA: 0s - loss: 0.1080 - accuracy: 0.96 - ETA: 0s - loss: 0.1079 - accuracy: 0.96 - ETA: 0s - loss: 0.1082 - accuracy: 0.96 - ETA: 0s - loss: 0.1081 - accuracy: 0.96 - ETA: 0s - loss: 0.1075 - accuracy: 0.96 - ETA: 0s - loss: 0.1077 - accuracy: 0.96 - ETA: 0s - loss: 0.1078 - accuracy: 0.96 - ETA: 0s - loss: 0.1082 - accuracy: 0.96 - ETA: 0s - loss: 0.1087 - accuracy: 0.96 - ETA: 0s - loss: 0.1090 - accuracy: 0.96 - ETA: 0s - loss: 0.1089 - accuracy: 0.96 - 2s 25us/step - loss: 0.1090 - accuracy: 0.9602 - val_loss: 0.1062 - val_accuracy: 0.9615\n",
      "Epoch 11/15\n"
     ]
    },
    {
     "name": "stdout",
     "output_type": "stream",
     "text": [
      "69531/69531 [==============================] - ETA: 1s - loss: 0.1047 - accuracy: 0.95 - ETA: 1s - loss: 0.1063 - accuracy: 0.96 - ETA: 1s - loss: 0.1147 - accuracy: 0.95 - ETA: 1s - loss: 0.1159 - accuracy: 0.96 - ETA: 1s - loss: 0.1146 - accuracy: 0.96 - ETA: 1s - loss: 0.1167 - accuracy: 0.96 - ETA: 1s - loss: 0.1150 - accuracy: 0.96 - ETA: 1s - loss: 0.1128 - accuracy: 0.96 - ETA: 1s - loss: 0.1140 - accuracy: 0.96 - ETA: 1s - loss: 0.1135 - accuracy: 0.96 - ETA: 1s - loss: 0.1116 - accuracy: 0.96 - ETA: 0s - loss: 0.1107 - accuracy: 0.96 - ETA: 0s - loss: 0.1112 - accuracy: 0.96 - ETA: 0s - loss: 0.1111 - accuracy: 0.96 - ETA: 0s - loss: 0.1109 - accuracy: 0.96 - ETA: 0s - loss: 0.1101 - accuracy: 0.96 - ETA: 0s - loss: 0.1100 - accuracy: 0.96 - ETA: 0s - loss: 0.1096 - accuracy: 0.96 - ETA: 0s - loss: 0.1092 - accuracy: 0.96 - ETA: 0s - loss: 0.1093 - accuracy: 0.96 - ETA: 0s - loss: 0.1093 - accuracy: 0.96 - ETA: 0s - loss: 0.1089 - accuracy: 0.96 - ETA: 0s - loss: 0.1091 - accuracy: 0.96 - ETA: 0s - loss: 0.1084 - accuracy: 0.96 - ETA: 0s - loss: 0.1081 - accuracy: 0.96 - ETA: 0s - loss: 0.1081 - accuracy: 0.96 - ETA: 0s - loss: 0.1083 - accuracy: 0.96 - ETA: 0s - loss: 0.1076 - accuracy: 0.96 - ETA: 0s - loss: 0.1083 - accuracy: 0.96 - ETA: 0s - loss: 0.1084 - accuracy: 0.96 - 2s 24us/step - loss: 0.1088 - accuracy: 0.9607 - val_loss: 0.1057 - val_accuracy: 0.9611\n",
      "Epoch 12/15\n",
      "69531/69531 [==============================] - ETA: 1s - loss: 0.0671 - accuracy: 0.98 - ETA: 1s - loss: 0.0960 - accuracy: 0.96 - ETA: 1s - loss: 0.1002 - accuracy: 0.96 - ETA: 1s - loss: 0.1064 - accuracy: 0.96 - ETA: 1s - loss: 0.1050 - accuracy: 0.96 - ETA: 1s - loss: 0.1055 - accuracy: 0.96 - ETA: 1s - loss: 0.1049 - accuracy: 0.96 - ETA: 1s - loss: 0.1034 - accuracy: 0.96 - ETA: 1s - loss: 0.1059 - accuracy: 0.96 - ETA: 1s - loss: 0.1058 - accuracy: 0.96 - ETA: 0s - loss: 0.1064 - accuracy: 0.96 - ETA: 0s - loss: 0.1081 - accuracy: 0.96 - ETA: 0s - loss: 0.1073 - accuracy: 0.96 - ETA: 0s - loss: 0.1076 - accuracy: 0.96 - ETA: 0s - loss: 0.1072 - accuracy: 0.96 - ETA: 0s - loss: 0.1075 - accuracy: 0.96 - ETA: 0s - loss: 0.1076 - accuracy: 0.96 - ETA: 0s - loss: 0.1073 - accuracy: 0.96 - ETA: 0s - loss: 0.1077 - accuracy: 0.96 - ETA: 0s - loss: 0.1069 - accuracy: 0.96 - ETA: 0s - loss: 0.1068 - accuracy: 0.96 - ETA: 0s - loss: 0.1065 - accuracy: 0.96 - ETA: 0s - loss: 0.1063 - accuracy: 0.96 - ETA: 0s - loss: 0.1063 - accuracy: 0.96 - ETA: 0s - loss: 0.1070 - accuracy: 0.96 - ETA: 0s - loss: 0.1074 - accuracy: 0.96 - ETA: 0s - loss: 0.1078 - accuracy: 0.96 - ETA: 0s - loss: 0.1078 - accuracy: 0.96 - ETA: 0s - loss: 0.1074 - accuracy: 0.96 - ETA: 0s - loss: 0.1076 - accuracy: 0.96 - 2s 24us/step - loss: 0.1075 - accuracy: 0.9611 - val_loss: 0.1057 - val_accuracy: 0.9612\n",
      "Epoch 13/15\n",
      "69531/69531 [==============================] - ETA: 1s - loss: 0.0747 - accuracy: 0.97 - ETA: 1s - loss: 0.1047 - accuracy: 0.96 - ETA: 1s - loss: 0.1032 - accuracy: 0.96 - ETA: 1s - loss: 0.1049 - accuracy: 0.96 - ETA: 1s - loss: 0.1052 - accuracy: 0.96 - ETA: 1s - loss: 0.1040 - accuracy: 0.96 - ETA: 1s - loss: 0.1066 - accuracy: 0.96 - ETA: 1s - loss: 0.1066 - accuracy: 0.96 - ETA: 1s - loss: 0.1063 - accuracy: 0.96 - ETA: 1s - loss: 0.1076 - accuracy: 0.96 - ETA: 1s - loss: 0.1080 - accuracy: 0.96 - ETA: 0s - loss: 0.1084 - accuracy: 0.96 - ETA: 0s - loss: 0.1085 - accuracy: 0.96 - ETA: 0s - loss: 0.1080 - accuracy: 0.96 - ETA: 0s - loss: 0.1069 - accuracy: 0.96 - ETA: 0s - loss: 0.1068 - accuracy: 0.96 - ETA: 0s - loss: 0.1068 - accuracy: 0.96 - ETA: 0s - loss: 0.1073 - accuracy: 0.96 - ETA: 0s - loss: 0.1068 - accuracy: 0.96 - ETA: 0s - loss: 0.1072 - accuracy: 0.96 - ETA: 0s - loss: 0.1077 - accuracy: 0.96 - ETA: 0s - loss: 0.1074 - accuracy: 0.96 - ETA: 0s - loss: 0.1071 - accuracy: 0.96 - ETA: 0s - loss: 0.1067 - accuracy: 0.96 - ETA: 0s - loss: 0.1076 - accuracy: 0.96 - ETA: 0s - loss: 0.1073 - accuracy: 0.96 - ETA: 0s - loss: 0.1071 - accuracy: 0.96 - ETA: 0s - loss: 0.1068 - accuracy: 0.96 - ETA: 0s - loss: 0.1067 - accuracy: 0.96 - ETA: 0s - loss: 0.1068 - accuracy: 0.96 - ETA: 0s - loss: 0.1068 - accuracy: 0.96 - 2s 25us/step - loss: 0.1068 - accuracy: 0.9610 - val_loss: 0.1052 - val_accuracy: 0.9613\n",
      "Epoch 14/15\n",
      "69531/69531 [==============================] - ETA: 1s - loss: 0.1010 - accuracy: 0.96 - ETA: 1s - loss: 0.1155 - accuracy: 0.96 - ETA: 1s - loss: 0.1066 - accuracy: 0.96 - ETA: 1s - loss: 0.1091 - accuracy: 0.95 - ETA: 1s - loss: 0.1074 - accuracy: 0.95 - ETA: 1s - loss: 0.1060 - accuracy: 0.96 - ETA: 1s - loss: 0.1061 - accuracy: 0.96 - ETA: 1s - loss: 0.1058 - accuracy: 0.96 - ETA: 1s - loss: 0.1079 - accuracy: 0.96 - ETA: 1s - loss: 0.1092 - accuracy: 0.95 - ETA: 1s - loss: 0.1093 - accuracy: 0.95 - ETA: 0s - loss: 0.1089 - accuracy: 0.95 - ETA: 0s - loss: 0.1093 - accuracy: 0.95 - ETA: 0s - loss: 0.1084 - accuracy: 0.95 - ETA: 0s - loss: 0.1066 - accuracy: 0.96 - ETA: 0s - loss: 0.1067 - accuracy: 0.96 - ETA: 0s - loss: 0.1060 - accuracy: 0.96 - ETA: 0s - loss: 0.1064 - accuracy: 0.96 - ETA: 0s - loss: 0.1058 - accuracy: 0.96 - ETA: 0s - loss: 0.1060 - accuracy: 0.96 - ETA: 0s - loss: 0.1069 - accuracy: 0.96 - ETA: 0s - loss: 0.1062 - accuracy: 0.96 - ETA: 0s - loss: 0.1059 - accuracy: 0.96 - ETA: 0s - loss: 0.1062 - accuracy: 0.96 - ETA: 0s - loss: 0.1059 - accuracy: 0.96 - ETA: 0s - loss: 0.1054 - accuracy: 0.96 - ETA: 0s - loss: 0.1057 - accuracy: 0.96 - ETA: 0s - loss: 0.1061 - accuracy: 0.96 - ETA: 0s - loss: 0.1062 - accuracy: 0.96 - ETA: 0s - loss: 0.1064 - accuracy: 0.96 - ETA: 0s - loss: 0.1059 - accuracy: 0.96 - 2s 25us/step - loss: 0.1059 - accuracy: 0.9615 - val_loss: 0.1049 - val_accuracy: 0.9618\n",
      "Epoch 15/15\n",
      "69531/69531 [==============================] - ETA: 1s - loss: 0.1024 - accuracy: 0.95 - ETA: 1s - loss: 0.0957 - accuracy: 0.96 - ETA: 1s - loss: 0.0954 - accuracy: 0.96 - ETA: 1s - loss: 0.0976 - accuracy: 0.96 - ETA: 1s - loss: 0.1017 - accuracy: 0.96 - ETA: 1s - loss: 0.1022 - accuracy: 0.96 - ETA: 1s - loss: 0.1009 - accuracy: 0.96 - ETA: 1s - loss: 0.1035 - accuracy: 0.96 - ETA: 1s - loss: 0.1032 - accuracy: 0.96 - ETA: 1s - loss: 0.1042 - accuracy: 0.96 - ETA: 1s - loss: 0.1052 - accuracy: 0.96 - ETA: 1s - loss: 0.1049 - accuracy: 0.96 - ETA: 1s - loss: 0.1056 - accuracy: 0.96 - ETA: 0s - loss: 0.1063 - accuracy: 0.96 - ETA: 0s - loss: 0.1052 - accuracy: 0.96 - ETA: 0s - loss: 0.1053 - accuracy: 0.96 - ETA: 0s - loss: 0.1052 - accuracy: 0.96 - ETA: 0s - loss: 0.1053 - accuracy: 0.96 - ETA: 0s - loss: 0.1057 - accuracy: 0.96 - ETA: 0s - loss: 0.1066 - accuracy: 0.96 - ETA: 0s - loss: 0.1066 - accuracy: 0.96 - ETA: 0s - loss: 0.1058 - accuracy: 0.96 - ETA: 0s - loss: 0.1058 - accuracy: 0.96 - ETA: 0s - loss: 0.1059 - accuracy: 0.96 - ETA: 0s - loss: 0.1063 - accuracy: 0.96 - ETA: 0s - loss: 0.1066 - accuracy: 0.96 - ETA: 0s - loss: 0.1069 - accuracy: 0.96 - ETA: 0s - loss: 0.1062 - accuracy: 0.96 - ETA: 0s - loss: 0.1066 - accuracy: 0.96 - ETA: 0s - loss: 0.1059 - accuracy: 0.96 - ETA: 0s - loss: 0.1062 - accuracy: 0.96 - 2s 25us/step - loss: 0.1062 - accuracy: 0.9618 - val_loss: 0.1050 - val_accuracy: 0.9618\n"
     ]
    }
   ],
   "source": [
    "# 1 epoch = 1 pass through the data set\n",
    "# typical mini-batch size = 2^n for faster computation\n",
    "history = model.fit(X_train, Y_train,\n",
    "                    epochs = 15,\n",
    "                    validation_data = (X_val, Y_val),\n",
    "                    batch_size = 256)"
   ]
  },
  {
   "cell_type": "markdown",
   "metadata": {},
   "source": [
    "## Training/validation performance plots"
   ]
  },
  {
   "cell_type": "code",
   "execution_count": 63,
   "metadata": {},
   "outputs": [
    {
     "data": {
      "text/plain": [
       "Text(0, 0.5, 'Accuracy (y_pred = y_true)')"
      ]
     },
     "execution_count": 63,
     "metadata": {},
     "output_type": "execute_result"
    },
    {
     "data": {
      "image/png": "[encoded data removed]",
      "text/plain": [
       "<Figure size 1080x720 with 2 Axes>"
      ]
     },
     "metadata": {
      "needs_background": "light"
     },
     "output_type": "display_data"
    }
   ],
   "source": [
    "# plot loss vs epoch\n",
    "plt.figure(figsize = (15,10))\n",
    "axes = plt.subplot(2, 2, 1)\n",
    "axes.plot(history.history['loss'], label = 'train loss')\n",
    "axes.plot(history.history['val_loss'], label = 'val loss')\n",
    "axes.legend(loc = \"upper right\")\n",
    "axes.set_xlabel('Epoch')\n",
    "axes.set_ylabel('Loss')\n",
    "\n",
    "# plot accuracy vs epoch\n",
    "axes = plt.subplot(2, 2, 2)\n",
    "axes.plot(history.history['accuracy'], label = 'train accuracy')\n",
    "axes.plot(history.history['val_accuracy'], label = 'val accuracy')\n",
    "axes.legend(loc = \"lower right\")\n",
    "axes.set_xlabel('Epoch')\n",
    "axes.set_ylabel('Accuracy (y_pred = y_true)')"
   ]
  },
  {
   "cell_type": "markdown",
   "metadata": {},
   "source": [
    "## Partition the test set into sig/bkg sets"
   ]
  },
  {
   "cell_type": "code",
   "execution_count": 64,
   "metadata": {},
   "outputs": [],
   "source": [
    "# test set\n",
    "test_sig_number = np.count_nonzero(Y_test)\n",
    "test_bkg_number = np.count_nonzero(Y_test == 0)\n",
    "\n",
    "X_test_sig = np.zeros((test_sig_number,X_test.shape[1]))\n",
    "X_test_bkg = np.zeros((test_bkg_number,X_test.shape[1]))\n",
    "\n",
    "j = 0\n",
    "k = 0\n",
    "for i in range(Y_test.shape[0]):\n",
    "    if Y_test[i,0] == 1:\n",
    "        X_test_sig[j,:] = X_test[i,:]\n",
    "        j = j + 1\n",
    "    else:\n",
    "        X_test_bkg[k,:] = X_test[i,:]\n",
    "        k = k + 1\n",
    "\n",
    "# train+val set\n",
    "train_val_sig_number = np.count_nonzero(Y_train_val)\n",
    "train_val_bkg_number = np.count_nonzero(Y_train_val == 0)\n",
    "\n",
    "X_train_val_sig = np.zeros((train_val_sig_number,X_train_val.shape[1]))\n",
    "X_train_val_bkg = np.zeros((train_val_bkg_number,X_train_val.shape[1]))\n",
    "\n",
    "j = 0\n",
    "k = 0\n",
    "for i in range(Y_train_val.shape[0]):\n",
    "    if Y_train_val[i,0] == 1:\n",
    "        X_train_val_sig[j,:] = X_train_val[i,:]\n",
    "        j = j + 1\n",
    "    else:\n",
    "        X_train_val_bkg[k,:] = X_train_val[i,:]\n",
    "        k = k + 1"
   ]
  },
  {
   "cell_type": "markdown",
   "metadata": {},
   "source": [
    "## Test set performance plots"
   ]
  },
  {
   "cell_type": "code",
   "execution_count": 67,
   "metadata": {
    "scrolled": false
   },
   "outputs": [
    {
     "data": {
      "image/png": "[encoded data removed]",
      "text/plain": [
       "<Figure size 432x288 with 1 Axes>"
      ]
     },
     "metadata": {
      "needs_background": "light"
     },
     "output_type": "display_data"
    },
    {
     "data": {
      "image/png": "[encoded data removed]",
      "text/plain": [
       "<Figure size 432x288 with 1 Axes>"
      ]
     },
     "metadata": {
      "needs_background": "light"
     },
     "output_type": "display_data"
    },
    {
     "data": {
      "image/png": "[encoded data removed]",
      "text/plain": [
       "<Figure size 432x288 with 1 Axes>"
      ]
     },
     "metadata": {
      "needs_background": "light"
     },
     "output_type": "display_data"
    },
    {
     "data": {
      "image/png": "[encoded data removed]",
      "text/plain": [
       "<Figure size 432x288 with 1 Axes>"
      ]
     },
     "metadata": {
      "needs_background": "light"
     },
     "output_type": "display_data"
    },
    {
     "data": {
      "image/png": "[encoded data removed]",
      "text/plain": [
       "<Figure size 936x936 with 1 Axes>"
      ]
     },
     "metadata": {
      "needs_background": "light"
     },
     "output_type": "display_data"
    },
    {
     "name": "stdout",
     "output_type": "stream",
     "text": [
      "Test loss, test accuracy: [0.10132872220201102, 0.9622918367385864]\n"
     ]
    }
   ],
   "source": [
    "#pyplot.hist(model.predict(X_test_bkg), density = 1, range = (0.0, 1.0), bins = 40, alpha = 0.3, label = 'Bkg (test)')\n",
    "pyplot.hist(model.predict(X_test_bkg), density = 1, range = (0.0, 1.0), bins = 40, alpha = 0.3, label = 'Bkg (test)', log = True)\n",
    "pyplot.hist(model.predict(X_test_sig), density = 1, range = (0.0, 1.0), bins = 40, alpha = 0.3, label = 'Sig (test)')\n",
    "pyplot.hist(model.predict(X_train_val_bkg), density = 1, range = (0.0, 1.0), bins = 40, label = 'Bkg (train+val)', histtype = 'step')\n",
    "pyplot.hist(model.predict(X_train_val_sig), density = 1, range = (0.0, 1.0), bins = 40, label = 'Sig (train+val)', histtype = 'step')\n",
    "pyplot.legend(loc = 'upper center')\n",
    "pyplot.title('DNN output (unweighted, normalized)')\n",
    "pyplot.xlabel('Signal probability p')\n",
    "pyplot.xticks(np.arange(0, 1.1, step = 0.1))\n",
    "pyplot.ylim(1e-2,1e2)\n",
    "pyplot.show()\n",
    "\n",
    "#pyplot.hist(np.arctanh(model.predict(X_test_bkg)*np.tanh(1)), density = 1, range = (0.0, 1), bins = 40, alpha = 0.3, label = 'Bkg (test)')\n",
    "pyplot.hist(np.arctanh(model.predict(X_test_bkg)*np.tanh(1)), density = 1, range = (0.0, 1), bins = 40, alpha = 0.3, label = 'Bkg (test)', log = True)\n",
    "pyplot.hist(np.arctanh(model.predict(X_test_sig)*np.tanh(1)), density = 1, range = (0.0, 1), bins = 40, alpha = 0.3, label = 'Sig (test)')\n",
    "pyplot.hist(np.arctanh(model.predict(X_train_val_bkg)*np.tanh(1)), density = 1, range = (0.0, 1), bins = 40, label = 'Bkg (train+val)', histtype = 'step')\n",
    "pyplot.hist(np.arctanh(model.predict(X_train_val_sig)*np.tanh(1)), density = 1, range = (0.0, 1), bins = 40, label = 'Sig (train+val)', histtype = 'step')\n",
    "pyplot.legend(loc = 'upper center')\n",
    "pyplot.title('Transformed DNN output (unweighted, normalized)')\n",
    "pyplot.xlabel('arctanh(p*tanh(1))')\n",
    "pyplot.xticks(np.arange(0, 1.1, step = 0.1))\n",
    "pyplot.ylim(1e-2,1e2)\n",
    "pyplot.show()\n",
    "\n",
    "#pyplot.hist(np.arctanh(model.predict(X_test_bkg)*np.tanh(2))/2, density = 1, range = (0.0, 1), bins = 40, alpha = 0.3, label = 'Bkg (test)')\n",
    "pyplot.hist(np.arctanh(model.predict(X_test_bkg)*np.tanh(2))/2, density = 1, range = (0.0, 1), bins = 40, alpha = 0.3, label = 'Bkg (test)', log = True)\n",
    "pyplot.hist(np.arctanh(model.predict(X_test_sig)*np.tanh(2))/2, density = 1, range = (0.0, 1), bins = 40, alpha = 0.3, label = 'Sig (test)')\n",
    "pyplot.hist(np.arctanh(model.predict(X_train_val_bkg)*np.tanh(2))/2, density = 1, range = (0.0, 1), bins = 40, label = 'Bkg (train+val)', histtype = 'step')\n",
    "pyplot.hist(np.arctanh(model.predict(X_train_val_sig)*np.tanh(2))/2, density = 1, range = (0.0, 1), bins = 40, label = 'Sig (train+val)', histtype = 'step')\n",
    "pyplot.legend(loc = 'upper center')\n",
    "pyplot.title('Transformed DNN output (unweighted, normalized)')\n",
    "pyplot.xlabel('arctanh(p*tanh(2))/2')\n",
    "pyplot.xticks(np.arange(0, 1.1, step = 0.1))\n",
    "pyplot.ylim(1e-2,1e2)\n",
    "pyplot.show()\n",
    "\n",
    "#pyplot.hist(np.arctanh(model.predict(X_test_bkg)*np.tanh(3))/3, density = 1, range = (0.0, 1), bins = 40, alpha = 0.3, label = 'Bkg (test)')\n",
    "pyplot.hist(np.arctanh(model.predict(X_test_bkg)*np.tanh(3))/3, density = 1, range = (0.0, 1), bins = 40, alpha = 0.3, label = 'Bkg (test)', log = True)\n",
    "pyplot.hist(np.arctanh(model.predict(X_test_sig)*np.tanh(3))/3, density = 1, range = (0.0, 1), bins = 40, alpha = 0.3, label = 'Sig (test)')\n",
    "pyplot.hist(np.arctanh(model.predict(X_train_val_bkg)*np.tanh(3))/3, density = 1, range = (0.0, 1), bins = 40, label = 'Bkg (train+val)', histtype = 'step')\n",
    "pyplot.hist(np.arctanh(model.predict(X_train_val_sig)*np.tanh(3))/3, density = 1, range = (0.0, 1), bins = 40, label = 'Sig (train+val)', histtype = 'step')\n",
    "pyplot.legend(loc = 'upper center')\n",
    "pyplot.title('Transformed DNN output (unweighted, normalized)')\n",
    "pyplot.xlabel('arctanh(p*tanh(3))/3')\n",
    "pyplot.xticks(np.arange(0, 1.1, step = 0.1))\n",
    "pyplot.ylim(1e-2,1e2)\n",
    "pyplot.show()\n",
    "\n",
    "# Plot ROC\n",
    "plt.figure(figsize = (13,13))\n",
    "Y_predict = model.predict(X_test)\n",
    "fpr, tpr, thresholds = roc_curve(Y_test, Y_predict)\n",
    "roc_auc = auc(fpr, tpr)\n",
    "axes = plt.subplot(2, 2, 1)\n",
    "axes.plot(fpr, tpr, lw = 2, color = 'red', label = 'ROC curve for test set, AUC = %.3f' % (roc_auc))\n",
    "axes.plot([0, 1], [0, 1], linestyle = '--', lw = 2, color = 'black', label = 'random chance')\n",
    "axes.set_xlim([0, 1.0])\n",
    "axes.set_ylim([0, 1.0])\n",
    "axes.set_xlabel('Fake signal rate (FPR)')\n",
    "axes.set_ylabel('True signal rate (TPR)')\n",
    "axes.set_title('Receiver operating characteristic (ROC)')\n",
    "axes.legend(loc = \"lower right\")\n",
    "plt.show()\n",
    "\n",
    "results = model.evaluate(X_test, Y_test, verbose = 0, batch_size = 256)\n",
    "print(\"Test loss, test accuracy:\", results)"
   ]
  },
  {
   "cell_type": "markdown",
   "metadata": {},
   "source": [
    "## Save trained model"
   ]
  },
  {
   "cell_type": "code",
   "execution_count": 69,
   "metadata": {},
   "outputs": [],
   "source": [
    "joblib.dump(scaler, 'trained_models/mt_scaler.gz')\n",
    "model.save('trained_models/mt_model')"
   ]
  },
  {
   "cell_type": "markdown",
   "metadata": {},
   "source": [
    "## Load saved model"
   ]
  },
  {
   "cell_type": "code",
   "execution_count": null,
   "metadata": {},
   "outputs": [],
   "source": [
    "savedscaler = joblib.load('trained_models/mt_scaler.gz')\n",
    "savedmodel = keras.models.load_model('trained_models/mt_model')\n",
    "savedmodel.summary()"
   ]
  },
  {
   "cell_type": "markdown",
   "metadata": {},
   "source": [
    "# Write model prediction to root files"
   ]
  },
  {
   "cell_type": "markdown",
   "metadata": {},
   "source": [
    "## Load all root files one by one"
   ]
  },
  {
   "cell_type": "code",
   "execution_count": 70,
   "metadata": {
    "scrolled": true
   },
   "outputs": [],
   "source": [
    "from root_numpy import array2root\n",
    "\n",
    "########### 2018\n",
    "infolder18 = 'root_raw/mt18_raw/'\n",
    "outfolder18 = 'root_outputs/mt18_outputs/'\n",
    "\n",
    "inpaths18 = ['DY.root', 'DY1.root', 'DY2.root', 'DY3.root', 'DY4.root'\\\n",
    "         , 'GGHTT.root', 'GGHWW.root', 'GGZHLLTT.root', 'GGZHNNTT.root'\\\n",
    "         , 'GGZHQQTT.root', 'GGZHWW.root', 'ST_tW_antitop.root'\\\n",
    "         , 'ST_tW_top.root', 'ST_t_antitop.root', 'ST_t_top.root'\\\n",
    "         , 'TTTo2L2Nu.root', 'TTToHadronic.root', 'TTToSemiLeptonic.root', 'VBFHTT.root', 'VBFHWW.root', 'VV2L2Nu.root'\\\n",
    "         , 'WZ2L2Q.root', 'WZ3LNu.root', 'WminusHTT.root', 'WminusHWW.root'\\\n",
    "         , 'WplusHTT.root', 'WplusHWW.root', 'ZHTT.root', 'ZHWW.root'\\\n",
    "         , 'ZZ2L2Q.root', 'ZZ4L.root', 'data_obs.root', 'embedded.root'\\\n",
    "         , 'ggH_bbtt12.root', 'ggH_bbtt20.root', 'ggH_bbtt30.root', 'ggH_bbtt40.root'\\\n",
    "         , 'ggH_bbtt50.root', 'ggH_bbtt60.root', 'ttHnonbb.root'\\\n",
    "         , 'vbf_bbtt12.root', 'vbf_bbtt20.root', 'vbf_bbtt30.root', 'vbf_bbtt40.root'\\\n",
    "         , 'vbf_bbtt50.root', 'vbf_bbtt60.root']\n",
    "\n",
    "outpaths18 = ['DY.root', 'DY1.root', 'DY2.root', 'DY3.root', 'DY4.root'\\\n",
    "         , 'GGHTT.root', 'GGHWW.root', 'GGZHLLTT.root', 'GGZHNNTT.root'\\\n",
    "         , 'GGZHQQTT.root', 'GGZHWW.root', 'ST_tW_antitop.root'\\\n",
    "         , 'ST_tW_top.root', 'ST_t_antitop.root', 'ST_t_top.root'\\\n",
    "         , 'TTTo2L2Nu.root', 'TTToHadronic.root', 'TTToSemiLeptonic.root', 'VBFHTT.root', 'VBFHWW.root', 'VV2L2Nu.root'\\\n",
    "         , 'WZ2L2Q.root', 'WZ3LNu.root', 'WminusHTT.root', 'WminusHWW.root'\\\n",
    "         , 'WplusHTT.root', 'WplusHWW.root', 'ZHTT.root', 'ZHWW.root'\\\n",
    "         , 'ZZ2L2Q.root', 'ZZ4L.root', 'data_obs.root', 'embedded.root'\\\n",
    "         , 'gghbbtt12.root', 'gghbbtt20.root', 'gghbbtt30.root', 'gghbbtt40.root'\\\n",
    "         , 'gghbbtt50.root', 'gghbbtt60.root', 'ttHnonbb.root'\\\n",
    "         , 'vbfbbtt12.root', 'vbfbbtt20.root', 'vbfbbtt30.root', 'vbfbbtt40.root'\\\n",
    "         , 'vbfbbtt50.root', 'vbfbbtt60.root']\n",
    "\n",
    "for i in range(len(inpaths18)):\n",
    "    inpaths18[i] = infolder18 + inpaths18[i]\n",
    "    outpaths18[i] = outfolder18 + outpaths18[i]\n",
    "\n",
    "allfiles18 = []\n",
    "for i in range(len(inpaths18)):\n",
    "    allfiles18.append(ROOT.RDataFrame('mutau_tree', inpaths18[i]))\n",
    "\n",
    "\n",
    "for i in range(len(allfiles18)):\n",
    "    allfiles18[i] = allfiles18[i].Define('mymu', mymu)\\\n",
    "    .Define('mytau', mytau)\\\n",
    "    .Define('mymet', mymet)\\\n",
    "    .Define('mytt', mytt)\\\n",
    "    .Define('myb1', myb1)\\\n",
    "    .Define('m_btt', m_btt)\\\n",
    "    .Define('m_b1mu', m_b1mu)\\\n",
    "    .Define('m_b1tau', m_b1tau)\\\n",
    "    .Define('dR_tt', dR_tt)\\\n",
    "    .Define('dR_b1mu', dR_b1mu)\\\n",
    "    .Define('dR_b1tau', dR_b1tau)\\\n",
    "    .Define('dR_b1tt', dR_b1tt)\\\n",
    "    .Define('tt_pt', tt_pt)\\\n",
    "    .Define('tt_eta', tt_eta)\\\n",
    "    .Define('mT_mu', mT_mu)\\\n",
    "    .Define('mT_tau', mT_tau)\\\n",
    "    .Define('mT_b1', mT_b1)\\\n",
    "    .Define('norm_zeta', norm_zeta)\\\n",
    "    .Define('x_zeta', x_zeta)\\\n",
    "    .Define('y_zeta', y_zeta)\\\n",
    "    .Define('p_zeta_mis', p_zeta_mis)\\\n",
    "    .Define('pzeta_vis', pzeta_vis)\\\n",
    "    .Define('Dzeta', Dzeta)\n",
    "\n",
    "########### 2017\n",
    "infolder17 = 'root_raw/mt17_raw/'\n",
    "outfolder17 = 'root_outputs/mt17_outputs/'\n",
    "\n",
    "inpaths17 = ['DY.root', 'DY1.root', 'DY2.root', 'DY3.root', 'DY4.root'\\\n",
    "         , 'GGHTT.root', 'GGHWW.root', 'GGZHLLTT.root', 'GGZHNNTT.root'\\\n",
    "         , 'GGZHQQTT.root', 'GGZHWW.root', 'ST_tW_antitop.root'\\\n",
    "         , 'ST_tW_top.root', 'ST_t_antitop.root', 'ST_t_top.root'\\\n",
    "         , 'TTTo2L2Nu.root', 'TTToHadronic.root', 'TTToSemiLeptonic.root', 'VBFHTT.root', 'VBFHWW.root', 'VV2L2Nu.root'\\\n",
    "         , 'WZ2L2Q.root', 'WZ3L1Nu.root', 'WminusHTT.root', 'WminusHWW.root'\\\n",
    "         , 'WplusHTT.root', 'WplusHWW.root', 'ZHTT.root', 'ZHWW.root'\\\n",
    "         , 'ZZ2L2Q.root', 'ZZ4L.root', 'data_obs.root', 'embedded.root'\\\n",
    "         , 'ggH_bbtt12.root', 'ggH_bbtt20.root', 'ggH_bbtt30.root', 'ggH_bbtt40.root'\\\n",
    "         , 'ggH_bbtt50.root', 'ggH_bbtt60.root', 'ttHnonbb.root'\\\n",
    "         , 'vbf_bbtt12.root', 'vbf_bbtt20.root', 'vbf_bbtt30.root', 'vbf_bbtt40.root'\\\n",
    "         , 'vbf_bbtt50.root', 'vbf_bbtt60.root']\n",
    "\n",
    "outpaths17 = ['DY.root', 'DY1.root', 'DY2.root', 'DY3.root', 'DY4.root'\\\n",
    "         , 'GGHTT.root', 'GGHWW.root', 'GGZHLLTT.root', 'GGZHNNTT.root'\\\n",
    "         , 'GGZHQQTT.root', 'GGZHWW.root', 'ST_tW_antitop.root'\\\n",
    "         , 'ST_tW_top.root', 'ST_t_antitop.root', 'ST_t_top.root'\\\n",
    "         , 'TTTo2L2Nu.root', 'TTToHadronic.root', 'TTToSemiLeptonic.root', 'VBFHTT.root', 'VBFHWW.root', 'VV2L2Nu.root'\\\n",
    "         , 'WZ2L2Q.root', 'WZ3L1Nu.root', 'WminusHTT.root', 'WminusHWW.root'\\\n",
    "         , 'WplusHTT.root', 'WplusHWW.root', 'ZHTT.root', 'ZHWW.root'\\\n",
    "         , 'ZZ2L2Q.root', 'ZZ4L.root', 'data_obs.root', 'embedded.root'\\\n",
    "         , 'gghbbtt12.root', 'gghbbtt20.root', 'gghbbtt30.root', 'gghbbtt40.root'\\\n",
    "         , 'gghbbtt50.root', 'gghbbtt60.root', 'ttHnonbb.root'\\\n",
    "         , 'vbfbbtt12.root', 'vbfbbtt20.root', 'vbfbbtt30.root', 'vbfbbtt40.root'\\\n",
    "         , 'vbfbbtt50.root', 'vbfbbtt60.root']\n",
    "\n",
    "for i in range(len(inpaths17)):\n",
    "    inpaths17[i] = infolder17 + inpaths17[i]\n",
    "    outpaths17[i] = outfolder17 + outpaths17[i]\n",
    "\n",
    "allfiles17 = []\n",
    "for i in range(len(inpaths17)):\n",
    "    allfiles17.append(ROOT.RDataFrame('mutau_tree', inpaths17[i]))\n",
    "\n",
    "\n",
    "for i in range(len(allfiles17)):\n",
    "    allfiles17[i] = allfiles17[i].Define('mymu', mymu)\\\n",
    "    .Define('mytau', mytau)\\\n",
    "    .Define('mymet', mymet)\\\n",
    "    .Define('mytt', mytt)\\\n",
    "    .Define('myb1', myb1)\\\n",
    "    .Define('m_btt', m_btt)\\\n",
    "    .Define('m_b1mu', m_b1mu)\\\n",
    "    .Define('m_b1tau', m_b1tau)\\\n",
    "    .Define('dR_tt', dR_tt)\\\n",
    "    .Define('dR_b1mu', dR_b1mu)\\\n",
    "    .Define('dR_b1tau', dR_b1tau)\\\n",
    "    .Define('dR_b1tt', dR_b1tt)\\\n",
    "    .Define('tt_pt', tt_pt)\\\n",
    "    .Define('tt_eta', tt_eta)\\\n",
    "    .Define('mT_mu', mT_mu)\\\n",
    "    .Define('mT_tau', mT_tau)\\\n",
    "    .Define('mT_b1', mT_b1)\\\n",
    "    .Define('norm_zeta', norm_zeta)\\\n",
    "    .Define('x_zeta', x_zeta)\\\n",
    "    .Define('y_zeta', y_zeta)\\\n",
    "    .Define('p_zeta_mis', p_zeta_mis)\\\n",
    "    .Define('pzeta_vis', pzeta_vis)\\\n",
    "    .Define('Dzeta', Dzeta)\n",
    "\n",
    "########### 2016\n",
    "infolder16 = 'root_raw/mt16_raw/'\n",
    "outfolder16 = 'root_outputs/mt16_outputs/'\n",
    "\n",
    "inpaths16 = ['DY.root', 'DY1.root', 'DY2.root', 'DY3.root', 'DY4.root'\\\n",
    "         , 'GGHTT.root', 'GGHWW.root', 'GGZHLLTT.root', 'GGZHNNTT.root'\\\n",
    "         , 'GGZHQQTT.root', 'GGZHWW.root', 'ST_tW_antitop.root'\\\n",
    "         , 'ST_tW_top.root', 'ST_t_antitop.root', 'ST_t_top.root'\\\n",
    "         , 'TT.root', 'VBFHTT.root', 'VBFHWW.root', 'VV2L2Nu.root'\\\n",
    "         , 'WZ2L2Q.root', 'WZ3L1Nu.root', 'WminusHTT.root', 'WminusHWW.root'\\\n",
    "         , 'WplusHTT.root', 'WplusHWW.root', 'ZHTT.root', 'ZHWW.root'\\\n",
    "         , 'ZZ2L2Q.root', 'ZZ4L.root', 'data_obs.root', 'embedded.root'\\\n",
    "         , 'ggH_bbtt15.root', 'ggH_bbtt20.root', 'ggH_bbtt25.root', 'ggH_bbtt30.root', 'ggH_bbtt35.root', 'ggH_bbtt40.root'\\\n",
    "         , 'ggH_bbtt45.root', 'ggH_bbtt50.root', 'ggH_bbtt55.root', 'ggH_bbtt60.root', 'ttHnonbb.root'\\\n",
    "         , 'vbf_bbtt15.root', 'vbf_bbtt20.root', 'vbf_bbtt25.root', 'vbf_bbtt30.root', 'vbf_bbtt35.root', 'vbf_bbtt40.root'\\\n",
    "         , 'vbf_bbtt45.root', 'vbf_bbtt50.root', 'vbf_bbtt55.root', 'vbf_bbtt60.root']\n",
    "\n",
    "outpaths16 = ['DY.root', 'DY1.root', 'DY2.root', 'DY3.root', 'DY4.root'\\\n",
    "         , 'GGHTT.root', 'GGHWW.root', 'GGZHLLTT.root', 'GGZHNNTT.root'\\\n",
    "         , 'GGZHQQTT.root', 'GGZHWW.root', 'ST_tW_antitop.root'\\\n",
    "         , 'ST_tW_top.root', 'ST_t_antitop.root', 'ST_t_top.root'\\\n",
    "         , 'TT.root', 'VBFHTT.root', 'VBFHWW.root', 'VV2L2Nu.root'\\\n",
    "         , 'WZ2L2Q.root', 'WZ3L1Nu.root', 'WminusHTT.root', 'WminusHWW.root'\\\n",
    "         , 'WplusHTT.root', 'WplusHWW.root', 'ZHTT.root', 'ZHWW.root'\\\n",
    "         , 'ZZ2L2Q.root', 'ZZ4L.root', 'data_obs.root', 'embedded.root'\\\n",
    "         , 'ggH_bbtt15.root', 'ggH_bbtt20.root', 'ggH_bbtt25.root', 'ggH_bbtt30.root', 'ggH_bbtt35.root', 'ggH_bbtt40.root'\\\n",
    "         , 'ggH_bbtt45.root', 'ggH_bbtt50.root', 'ggH_bbtt55.root', 'ggH_bbtt60.root', 'ttHnonbb.root'\\\n",
    "         , 'vbf_bbtt15.root', 'vbf_bbtt20.root', 'vbf_bbtt25.root', 'vbf_bbtt30.root', 'vbf_bbtt35.root', 'vbf_bbtt40.root'\\\n",
    "         , 'vbf_bbtt45.root', 'vbf_bbtt50.root', 'vbf_bbtt55.root', 'vbf_bbtt60.root']\n",
    "\n",
    "for i in range(len(inpaths16)):\n",
    "    inpaths16[i] = infolder16 + inpaths16[i]\n",
    "    outpaths16[i] = outfolder16 + outpaths16[i]\n",
    "\n",
    "allfiles16 = []\n",
    "for i in range(len(inpaths16)):\n",
    "    allfiles16.append(ROOT.RDataFrame('mutau_tree', inpaths16[i]))\n",
    "\n",
    "\n",
    "for i in range(len(allfiles16)):\n",
    "    allfiles16[i] = allfiles16[i].Define('mymu', mymu)\\\n",
    "    .Define('mytau', mytau)\\\n",
    "    .Define('mymet', mymet)\\\n",
    "    .Define('mytt', mytt)\\\n",
    "    .Define('myb1', myb1)\\\n",
    "    .Define('m_btt', m_btt)\\\n",
    "    .Define('m_b1mu', m_b1mu)\\\n",
    "    .Define('m_b1tau', m_b1tau)\\\n",
    "    .Define('dR_tt', dR_tt)\\\n",
    "    .Define('dR_b1mu', dR_b1mu)\\\n",
    "    .Define('dR_b1tau', dR_b1tau)\\\n",
    "    .Define('dR_b1tt', dR_b1tt)\\\n",
    "    .Define('tt_pt', tt_pt)\\\n",
    "    .Define('tt_eta', tt_eta)\\\n",
    "    .Define('mT_mu', mT_mu)\\\n",
    "    .Define('mT_tau', mT_tau)\\\n",
    "    .Define('mT_b1', mT_b1)\\\n",
    "    .Define('norm_zeta', norm_zeta)\\\n",
    "    .Define('x_zeta', x_zeta)\\\n",
    "    .Define('y_zeta', y_zeta)\\\n",
    "    .Define('p_zeta_mis', p_zeta_mis)\\\n",
    "    .Define('pzeta_vis', pzeta_vis)\\\n",
    "    .Define('Dzeta', Dzeta)"
   ]
  },
  {
   "cell_type": "markdown",
   "metadata": {},
   "source": [
    "## Data pre-processing"
   ]
  },
  {
   "cell_type": "code",
   "execution_count": 71,
   "metadata": {},
   "outputs": [
    {
     "name": "stdout",
     "output_type": "stream",
     "text": [
      "root_raw/mt18_raw/DY.root\n",
      "root_raw/mt18_raw/DY1.root\n",
      "root_raw/mt18_raw/DY2.root\n",
      "root_raw/mt18_raw/DY3.root\n",
      "root_raw/mt18_raw/DY4.root\n",
      "root_raw/mt18_raw/GGHTT.root\n",
      "root_raw/mt18_raw/GGHWW.root\n",
      "root_raw/mt18_raw/GGZHLLTT.root\n",
      "root_raw/mt18_raw/GGZHNNTT.root\n",
      "root_raw/mt18_raw/GGZHQQTT.root\n",
      "root_raw/mt18_raw/GGZHWW.root\n",
      "root_raw/mt18_raw/ST_tW_antitop.root\n",
      "root_raw/mt18_raw/ST_tW_top.root\n",
      "root_raw/mt18_raw/ST_t_antitop.root\n",
      "root_raw/mt18_raw/ST_t_top.root\n",
      "root_raw/mt18_raw/TTTo2L2Nu.root\n",
      "root_raw/mt18_raw/TTToHadronic.root\n",
      "root_raw/mt18_raw/TTToSemiLeptonic.root\n",
      "root_raw/mt18_raw/VBFHTT.root\n",
      "root_raw/mt18_raw/VBFHWW.root\n",
      "root_raw/mt18_raw/VV2L2Nu.root\n",
      "root_raw/mt18_raw/WZ2L2Q.root\n",
      "root_raw/mt18_raw/WZ3LNu.root\n",
      "root_raw/mt18_raw/WminusHTT.root\n",
      "root_raw/mt18_raw/WminusHWW.root\n",
      "root_raw/mt18_raw/WplusHTT.root\n",
      "root_raw/mt18_raw/WplusHWW.root\n",
      "root_raw/mt18_raw/ZHTT.root\n",
      "root_raw/mt18_raw/ZHWW.root\n",
      "root_raw/mt18_raw/ZZ2L2Q.root\n",
      "root_raw/mt18_raw/ZZ4L.root\n",
      "root_raw/mt18_raw/data_obs.root\n",
      "root_raw/mt18_raw/embedded.root\n",
      "root_raw/mt18_raw/ggH_bbtt12.root\n",
      "root_raw/mt18_raw/ggH_bbtt20.root\n",
      "root_raw/mt18_raw/ggH_bbtt30.root\n",
      "root_raw/mt18_raw/ggH_bbtt40.root\n",
      "root_raw/mt18_raw/ggH_bbtt50.root\n",
      "root_raw/mt18_raw/ggH_bbtt60.root\n",
      "root_raw/mt18_raw/ttHnonbb.root\n",
      "root_raw/mt18_raw/vbf_bbtt12.root\n",
      "root_raw/mt18_raw/vbf_bbtt20.root\n",
      "root_raw/mt18_raw/vbf_bbtt30.root\n",
      "root_raw/mt18_raw/vbf_bbtt40.root\n",
      "root_raw/mt18_raw/vbf_bbtt50.root\n",
      "root_raw/mt18_raw/vbf_bbtt60.root\n"
     ]
    }
   ],
   "source": [
    "######### 2018\n",
    "for i in range(len(allfiles18)):\n",
    "    allfiles18[i] = pd.DataFrame(allfiles18[i].AsNumpy(feature_list))\n",
    "    allfiles18[i] = allfiles18[i].values\n",
    "    allfiles18[i] = scaler.transform(allfiles18[i])\n",
    "    print(inpaths18[i])"
   ]
  },
  {
   "cell_type": "code",
   "execution_count": 73,
   "metadata": {},
   "outputs": [
    {
     "name": "stdout",
     "output_type": "stream",
     "text": [
      "root_raw/mt17_raw/DY.root\n",
      "root_raw/mt17_raw/DY1.root\n",
      "root_raw/mt17_raw/DY2.root\n",
      "root_raw/mt17_raw/DY3.root\n",
      "root_raw/mt17_raw/DY4.root\n",
      "root_raw/mt17_raw/GGHTT.root\n",
      "root_raw/mt17_raw/GGHWW.root\n",
      "root_raw/mt17_raw/GGZHLLTT.root\n",
      "root_raw/mt17_raw/GGZHNNTT.root\n",
      "root_raw/mt17_raw/GGZHQQTT.root\n",
      "root_raw/mt17_raw/GGZHWW.root\n",
      "root_raw/mt17_raw/ST_tW_antitop.root\n",
      "root_raw/mt17_raw/ST_tW_top.root\n",
      "root_raw/mt17_raw/ST_t_antitop.root\n",
      "root_raw/mt17_raw/ST_t_top.root\n",
      "root_raw/mt17_raw/TTTo2L2Nu.root\n",
      "root_raw/mt17_raw/TTToHadronic.root\n",
      "root_raw/mt17_raw/TTToSemiLeptonic.root\n",
      "root_raw/mt17_raw/VBFHTT.root\n",
      "root_raw/mt17_raw/VBFHWW.root\n",
      "root_raw/mt17_raw/VV2L2Nu.root\n",
      "root_raw/mt17_raw/WZ2L2Q.root\n",
      "root_raw/mt17_raw/WZ3L1Nu.root\n",
      "root_raw/mt17_raw/WminusHTT.root\n",
      "root_raw/mt17_raw/WminusHWW.root\n",
      "root_raw/mt17_raw/WplusHTT.root\n",
      "root_raw/mt17_raw/WplusHWW.root\n",
      "root_raw/mt17_raw/ZHTT.root\n",
      "root_raw/mt17_raw/ZHWW.root\n",
      "root_raw/mt17_raw/ZZ2L2Q.root\n",
      "root_raw/mt17_raw/ZZ4L.root\n",
      "root_raw/mt17_raw/data_obs.root\n",
      "root_raw/mt17_raw/embedded.root\n",
      "root_raw/mt17_raw/ggH_bbtt12.root\n",
      "root_raw/mt17_raw/ggH_bbtt20.root\n",
      "root_raw/mt17_raw/ggH_bbtt30.root\n",
      "root_raw/mt17_raw/ggH_bbtt40.root\n",
      "root_raw/mt17_raw/ggH_bbtt50.root\n",
      "root_raw/mt17_raw/ggH_bbtt60.root\n",
      "root_raw/mt17_raw/ttHnonbb.root\n",
      "root_raw/mt17_raw/vbf_bbtt12.root\n",
      "root_raw/mt17_raw/vbf_bbtt20.root\n",
      "root_raw/mt17_raw/vbf_bbtt30.root\n",
      "root_raw/mt17_raw/vbf_bbtt40.root\n",
      "root_raw/mt17_raw/vbf_bbtt50.root\n",
      "root_raw/mt17_raw/vbf_bbtt60.root\n"
     ]
    }
   ],
   "source": [
    "######### 2017\n",
    "for i in range(len(allfiles17)):\n",
    "    allfiles17[i] = pd.DataFrame(allfiles17[i].AsNumpy(feature_list))\n",
    "    allfiles17[i] = allfiles17[i].values\n",
    "    allfiles17[i] = scaler.transform(allfiles17[i])\n",
    "    print(inpaths17[i])"
   ]
  },
  {
   "cell_type": "code",
   "execution_count": 75,
   "metadata": {},
   "outputs": [
    {
     "name": "stdout",
     "output_type": "stream",
     "text": [
      "root_raw/mt16_raw/DY.root\n",
      "root_raw/mt16_raw/DY1.root\n",
      "root_raw/mt16_raw/DY2.root\n",
      "root_raw/mt16_raw/DY3.root\n",
      "root_raw/mt16_raw/DY4.root\n",
      "root_raw/mt16_raw/GGHTT.root\n",
      "root_raw/mt16_raw/GGHWW.root\n",
      "root_raw/mt16_raw/GGZHLLTT.root\n",
      "root_raw/mt16_raw/GGZHNNTT.root\n",
      "root_raw/mt16_raw/GGZHQQTT.root\n",
      "root_raw/mt16_raw/GGZHWW.root\n",
      "root_raw/mt16_raw/ST_tW_antitop.root\n",
      "root_raw/mt16_raw/ST_tW_top.root\n",
      "root_raw/mt16_raw/ST_t_antitop.root\n",
      "root_raw/mt16_raw/ST_t_top.root\n",
      "root_raw/mt16_raw/TT.root\n",
      "root_raw/mt16_raw/VBFHTT.root\n",
      "root_raw/mt16_raw/VBFHWW.root\n",
      "root_raw/mt16_raw/VV2L2Nu.root\n",
      "root_raw/mt16_raw/WZ2L2Q.root\n",
      "root_raw/mt16_raw/WZ3L1Nu.root\n",
      "root_raw/mt16_raw/WminusHTT.root\n",
      "root_raw/mt16_raw/WminusHWW.root\n",
      "root_raw/mt16_raw/WplusHTT.root\n",
      "root_raw/mt16_raw/WplusHWW.root\n",
      "root_raw/mt16_raw/ZHTT.root\n",
      "root_raw/mt16_raw/ZHWW.root\n",
      "root_raw/mt16_raw/ZZ2L2Q.root\n",
      "root_raw/mt16_raw/ZZ4L.root\n",
      "root_raw/mt16_raw/data_obs.root\n",
      "root_raw/mt16_raw/embedded.root\n",
      "root_raw/mt16_raw/ggH_bbtt15.root\n",
      "root_raw/mt16_raw/ggH_bbtt20.root\n",
      "root_raw/mt16_raw/ggH_bbtt25.root\n",
      "root_raw/mt16_raw/ggH_bbtt30.root\n",
      "root_raw/mt16_raw/ggH_bbtt35.root\n",
      "root_raw/mt16_raw/ggH_bbtt40.root\n",
      "root_raw/mt16_raw/ggH_bbtt45.root\n",
      "root_raw/mt16_raw/ggH_bbtt50.root\n",
      "root_raw/mt16_raw/ggH_bbtt55.root\n",
      "root_raw/mt16_raw/ggH_bbtt60.root\n",
      "root_raw/mt16_raw/ttHnonbb.root\n",
      "root_raw/mt16_raw/vbf_bbtt15.root\n",
      "root_raw/mt16_raw/vbf_bbtt20.root\n",
      "root_raw/mt16_raw/vbf_bbtt25.root\n",
      "root_raw/mt16_raw/vbf_bbtt30.root\n",
      "root_raw/mt16_raw/vbf_bbtt35.root\n",
      "root_raw/mt16_raw/vbf_bbtt40.root\n",
      "root_raw/mt16_raw/vbf_bbtt45.root\n",
      "root_raw/mt16_raw/vbf_bbtt50.root\n",
      "root_raw/mt16_raw/vbf_bbtt55.root\n",
      "root_raw/mt16_raw/vbf_bbtt60.root\n"
     ]
    }
   ],
   "source": [
    "######### 2016\n",
    "for i in range(len(allfiles16)):\n",
    "    allfiles16[i] = pd.DataFrame(allfiles16[i].AsNumpy(feature_list))\n",
    "    allfiles16[i] = allfiles16[i].values\n",
    "    allfiles16[i] = scaler.transform(allfiles16[i])\n",
    "    print(inpaths16[i])"
   ]
  },
  {
   "cell_type": "markdown",
   "metadata": {},
   "source": [
    "## Feed to NN and write outputs to root files"
   ]
  },
  {
   "cell_type": "code",
   "execution_count": 72,
   "metadata": {},
   "outputs": [
    {
     "name": "stdout",
     "output_type": "stream",
     "text": [
      "root_outputs/mt18_outputs/DY.root\n",
      "root_outputs/mt18_outputs/DY1.root\n",
      "root_outputs/mt18_outputs/DY2.root\n",
      "root_outputs/mt18_outputs/DY3.root\n",
      "root_outputs/mt18_outputs/DY4.root\n",
      "root_outputs/mt18_outputs/GGHTT.root\n",
      "root_outputs/mt18_outputs/GGHWW.root\n",
      "root_outputs/mt18_outputs/GGZHLLTT.root\n",
      "root_outputs/mt18_outputs/GGZHNNTT.root\n",
      "root_outputs/mt18_outputs/GGZHQQTT.root\n",
      "root_outputs/mt18_outputs/GGZHWW.root\n",
      "root_outputs/mt18_outputs/ST_tW_antitop.root\n",
      "root_outputs/mt18_outputs/ST_tW_top.root\n",
      "root_outputs/mt18_outputs/ST_t_antitop.root\n",
      "root_outputs/mt18_outputs/ST_t_top.root\n",
      "root_outputs/mt18_outputs/TTTo2L2Nu.root\n",
      "root_outputs/mt18_outputs/TTToHadronic.root\n",
      "root_outputs/mt18_outputs/TTToSemiLeptonic.root\n",
      "root_outputs/mt18_outputs/VBFHTT.root\n",
      "root_outputs/mt18_outputs/VBFHWW.root\n",
      "root_outputs/mt18_outputs/VV2L2Nu.root\n",
      "root_outputs/mt18_outputs/WZ2L2Q.root\n",
      "root_outputs/mt18_outputs/WZ3LNu.root\n",
      "root_outputs/mt18_outputs/WminusHTT.root\n",
      "root_outputs/mt18_outputs/WminusHWW.root\n",
      "root_outputs/mt18_outputs/WplusHTT.root\n",
      "root_outputs/mt18_outputs/WplusHWW.root\n",
      "root_outputs/mt18_outputs/ZHTT.root\n",
      "root_outputs/mt18_outputs/ZHWW.root\n",
      "root_outputs/mt18_outputs/ZZ2L2Q.root\n",
      "root_outputs/mt18_outputs/ZZ4L.root\n",
      "root_outputs/mt18_outputs/data_obs.root\n",
      "root_outputs/mt18_outputs/embedded.root\n",
      "root_outputs/mt18_outputs/gghbbtt12.root\n",
      "root_outputs/mt18_outputs/gghbbtt20.root\n",
      "root_outputs/mt18_outputs/gghbbtt30.root\n",
      "root_outputs/mt18_outputs/gghbbtt40.root\n",
      "root_outputs/mt18_outputs/gghbbtt50.root\n",
      "root_outputs/mt18_outputs/gghbbtt60.root\n",
      "root_outputs/mt18_outputs/ttHnonbb.root\n",
      "root_outputs/mt18_outputs/vbfbbtt12.root\n",
      "root_outputs/mt18_outputs/vbfbbtt20.root\n",
      "root_outputs/mt18_outputs/vbfbbtt30.root\n",
      "root_outputs/mt18_outputs/vbfbbtt40.root\n",
      "root_outputs/mt18_outputs/vbfbbtt50.root\n",
      "root_outputs/mt18_outputs/vbfbbtt60.root\n"
     ]
    }
   ],
   "source": [
    "######### 2018\n",
    "for i in range(len(allfiles18)):\n",
    "    y_pred = model.predict(allfiles18[i])\n",
    "    y_pred = np.array(y_pred, dtype = [('pred_1b', np.float32)])\n",
    "    array2root(y_pred, filename = outpaths18[i], treename = 'mutau_tree_dnn', mode = 'update')\n",
    "    print(outpaths18[i])"
   ]
  },
  {
   "cell_type": "code",
   "execution_count": 74,
   "metadata": {
    "scrolled": false
   },
   "outputs": [
    {
     "name": "stdout",
     "output_type": "stream",
     "text": [
      "root_outputs/mt17_outputs/DY.root\n",
      "root_outputs/mt17_outputs/DY1.root\n",
      "root_outputs/mt17_outputs/DY2.root\n",
      "root_outputs/mt17_outputs/DY3.root\n",
      "root_outputs/mt17_outputs/DY4.root\n",
      "root_outputs/mt17_outputs/GGHTT.root\n",
      "root_outputs/mt17_outputs/GGHWW.root\n",
      "root_outputs/mt17_outputs/GGZHLLTT.root\n",
      "root_outputs/mt17_outputs/GGZHNNTT.root\n",
      "root_outputs/mt17_outputs/GGZHQQTT.root\n",
      "root_outputs/mt17_outputs/GGZHWW.root\n",
      "root_outputs/mt17_outputs/ST_tW_antitop.root\n",
      "root_outputs/mt17_outputs/ST_tW_top.root\n",
      "root_outputs/mt17_outputs/ST_t_antitop.root\n",
      "root_outputs/mt17_outputs/ST_t_top.root\n",
      "root_outputs/mt17_outputs/TTTo2L2Nu.root\n",
      "root_outputs/mt17_outputs/TTToHadronic.root\n",
      "root_outputs/mt17_outputs/TTToSemiLeptonic.root\n",
      "root_outputs/mt17_outputs/VBFHTT.root\n",
      "root_outputs/mt17_outputs/VBFHWW.root\n",
      "root_outputs/mt17_outputs/VV2L2Nu.root\n",
      "root_outputs/mt17_outputs/WZ2L2Q.root\n",
      "root_outputs/mt17_outputs/WZ3L1Nu.root\n",
      "root_outputs/mt17_outputs/WminusHTT.root\n",
      "root_outputs/mt17_outputs/WminusHWW.root\n",
      "root_outputs/mt17_outputs/WplusHTT.root\n",
      "root_outputs/mt17_outputs/WplusHWW.root\n",
      "root_outputs/mt17_outputs/ZHTT.root\n",
      "root_outputs/mt17_outputs/ZHWW.root\n",
      "root_outputs/mt17_outputs/ZZ2L2Q.root\n",
      "root_outputs/mt17_outputs/ZZ4L.root\n",
      "root_outputs/mt17_outputs/data_obs.root\n",
      "root_outputs/mt17_outputs/embedded.root\n",
      "root_outputs/mt17_outputs/gghbbtt12.root\n",
      "root_outputs/mt17_outputs/gghbbtt20.root\n",
      "root_outputs/mt17_outputs/gghbbtt30.root\n",
      "root_outputs/mt17_outputs/gghbbtt40.root\n",
      "root_outputs/mt17_outputs/gghbbtt50.root\n",
      "root_outputs/mt17_outputs/gghbbtt60.root\n",
      "root_outputs/mt17_outputs/ttHnonbb.root\n",
      "root_outputs/mt17_outputs/vbfbbtt12.root\n",
      "root_outputs/mt17_outputs/vbfbbtt20.root\n",
      "root_outputs/mt17_outputs/vbfbbtt30.root\n",
      "root_outputs/mt17_outputs/vbfbbtt40.root\n",
      "root_outputs/mt17_outputs/vbfbbtt50.root\n",
      "root_outputs/mt17_outputs/vbfbbtt60.root\n"
     ]
    }
   ],
   "source": [
    "######### 2017\n",
    "for i in range(len(allfiles17)):\n",
    "    y_pred = model.predict(allfiles17[i])\n",
    "    y_pred = np.array(y_pred, dtype = [('pred_1b', np.float32)])\n",
    "    array2root(y_pred, filename = outpaths17[i], treename = 'mutau_tree_dnn', mode = 'update')\n",
    "    print(outpaths17[i])"
   ]
  },
  {
   "cell_type": "code",
   "execution_count": 76,
   "metadata": {},
   "outputs": [
    {
     "name": "stdout",
     "output_type": "stream",
     "text": [
      "root_outputs/mt16_outputs/DY.root\n",
      "root_outputs/mt16_outputs/DY1.root\n",
      "root_outputs/mt16_outputs/DY2.root\n",
      "root_outputs/mt16_outputs/DY3.root\n",
      "root_outputs/mt16_outputs/DY4.root\n",
      "root_outputs/mt16_outputs/GGHTT.root\n",
      "root_outputs/mt16_outputs/GGHWW.root\n",
      "root_outputs/mt16_outputs/GGZHLLTT.root\n",
      "root_outputs/mt16_outputs/GGZHNNTT.root\n",
      "root_outputs/mt16_outputs/GGZHQQTT.root\n",
      "root_outputs/mt16_outputs/GGZHWW.root\n",
      "root_outputs/mt16_outputs/ST_tW_antitop.root\n",
      "root_outputs/mt16_outputs/ST_tW_top.root\n",
      "root_outputs/mt16_outputs/ST_t_antitop.root\n",
      "root_outputs/mt16_outputs/ST_t_top.root\n",
      "root_outputs/mt16_outputs/TT.root\n",
      "root_outputs/mt16_outputs/VBFHTT.root\n",
      "root_outputs/mt16_outputs/VBFHWW.root\n",
      "root_outputs/mt16_outputs/VV2L2Nu.root\n",
      "root_outputs/mt16_outputs/WZ2L2Q.root\n",
      "root_outputs/mt16_outputs/WZ3L1Nu.root\n",
      "root_outputs/mt16_outputs/WminusHTT.root\n",
      "root_outputs/mt16_outputs/WminusHWW.root\n",
      "root_outputs/mt16_outputs/WplusHTT.root\n",
      "root_outputs/mt16_outputs/WplusHWW.root\n",
      "root_outputs/mt16_outputs/ZHTT.root\n",
      "root_outputs/mt16_outputs/ZHWW.root\n",
      "root_outputs/mt16_outputs/ZZ2L2Q.root\n",
      "root_outputs/mt16_outputs/ZZ4L.root\n",
      "root_outputs/mt16_outputs/data_obs.root\n",
      "root_outputs/mt16_outputs/embedded.root\n",
      "root_outputs/mt16_outputs/ggH_bbtt15.root\n",
      "root_outputs/mt16_outputs/ggH_bbtt20.root\n",
      "root_outputs/mt16_outputs/ggH_bbtt25.root\n",
      "root_outputs/mt16_outputs/ggH_bbtt30.root\n",
      "root_outputs/mt16_outputs/ggH_bbtt35.root\n",
      "root_outputs/mt16_outputs/ggH_bbtt40.root\n",
      "root_outputs/mt16_outputs/ggH_bbtt45.root\n",
      "root_outputs/mt16_outputs/ggH_bbtt50.root\n",
      "root_outputs/mt16_outputs/ggH_bbtt55.root\n",
      "root_outputs/mt16_outputs/ggH_bbtt60.root\n",
      "root_outputs/mt16_outputs/ttHnonbb.root\n",
      "root_outputs/mt16_outputs/vbf_bbtt15.root\n",
      "root_outputs/mt16_outputs/vbf_bbtt20.root\n",
      "root_outputs/mt16_outputs/vbf_bbtt25.root\n",
      "root_outputs/mt16_outputs/vbf_bbtt30.root\n",
      "root_outputs/mt16_outputs/vbf_bbtt35.root\n",
      "root_outputs/mt16_outputs/vbf_bbtt40.root\n",
      "root_outputs/mt16_outputs/vbf_bbtt45.root\n",
      "root_outputs/mt16_outputs/vbf_bbtt50.root\n",
      "root_outputs/mt16_outputs/vbf_bbtt55.root\n",
      "root_outputs/mt16_outputs/vbf_bbtt60.root\n"
     ]
    }
   ],
   "source": [
    "######### 2016\n",
    "for i in range(len(allfiles16)):\n",
    "    y_pred = model.predict(allfiles16[i])\n",
    "    y_pred = np.array(y_pred, dtype = [('pred_1b', np.float32)])\n",
    "    array2root(y_pred, filename = outpaths16[i], treename = 'mutau_tree_dnn', mode = 'update')\n",
    "    print(outpaths16[i])"
   ]
  },
  {
   "cell_type": "code",
   "execution_count": null,
   "metadata": {},
   "outputs": [],
   "source": []
  }
 ],
 "metadata": {
  "kernelspec": {
   "display_name": "Python 3",
   "language": "python",
   "name": "python3"
  },
  "language_info": {
   "codemirror_mode": {
    "name": "ipython",
    "version": 3
   },
   "file_extension": ".py",
   "mimetype": "text/x-python",
   "name": "python",
   "nbconvert_exporter": "python",
   "pygments_lexer": "ipython3",
   "version": "3.7.9"
  }
 },
 "nbformat": 4,
 "nbformat_minor": 4
}
